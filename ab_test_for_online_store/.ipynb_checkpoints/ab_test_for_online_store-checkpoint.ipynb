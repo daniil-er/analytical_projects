{
 "cells": [
  {
   "cell_type": "markdown",
   "metadata": {},
   "source": [
    "<h1> Проверка гипотез по увеличению выручки в интернет-магазине —\n",
    "оценить результаты A/B теста </h1>"
   ]
  },
  {
   "cell_type": "markdown",
   "metadata": {},
   "source": [
    "## Введение.   \n",
    "Отдел аналитики совместно с отделом маркетинга подготовили список гипотез для увеличения выручки интернет-магазина.\n",
    "Необходимо приоритизировать гипотезы, запустить A/B-тест и проанализировать результаты.\n"
   ]
  },
  {
   "cell_type": "markdown",
   "metadata": {},
   "source": [
    "### Цель проекта. \n",
    "Предложение рекомендаций по увеличению выручки интернет-магазина на основании результатов A/B-теста."
   ]
  },
  {
   "cell_type": "markdown",
   "metadata": {},
   "source": [
    "### Описание данных. \n",
    "\n",
    "Датасет hypothesis.csv :  \n",
    "Hypothesis — краткое описание гипотезы;  \n",
    "Reach — охват пользователей по 10-балльной шкале;  \n",
    "Impact — влияние на пользователей по 10-балльной шкале;  \n",
    "Confidence — уверенность в гипотезе по 10-балльной шкале;  \n",
    "Efforts — затраты ресурсов на проверку гипотезы по 10-балльной шкале. Чем больше значение Efforts, тем дороже проверка гипотезы.  \n",
    "\n",
    "Датасет orders.csv :   \n",
    "transactionId — идентификатор заказа;  \n",
    "visitorId — идентификатор пользователя, совершившего заказ;  \n",
    "date — дата, когда был совершён заказ;  \n",
    "revenue — выручка заказа;  \n",
    "group — группа A/B-теста, в которую попал заказ.  \n",
    "\n",
    "Датасет visitors.csv :  \n",
    "date — дата;  \n",
    "group — группа A/B-теста;  \n",
    "visitors — количество пользователей в указанную дату в указанной группе A/B-теста  \n"
   ]
  },
  {
   "cell_type": "markdown",
   "metadata": {},
   "source": [
    "### План работы.  \n",
    "\n",
    "1.Изучение общей информации о предлагаемых гипотезах.\n",
    "\n",
    "2.Приоритизация гипотез.  \n",
    "2.1.Приоретизация гипотез на основе фреймворка ICE.    \n",
    "2.2.Приоретизация гипотез на основе фреймворка RICE.  \n",
    "2.3.Выводы о приоритете гипотез.\n",
    "\n",
    "3.Анализ A/B-теста  \n",
    "3.1.Изучение общей информации о данных, полученных в результате A/B-теста.  \n",
    "3.2.Кумулятивная выручка по группам. Выводы и предположения.  \n",
    "3.3.Кумулятивный средний чек по группам. Выводы и предположения.  \n",
    "3.4.Относительное изменение кумулятивного среднего чека группы B к группе A. Выводы и предположения.  \n",
    "3.5.Кумулятивная конверсия по группам. Выводы и предположения.  \n",
    "3.6.Относительное изменение кумулятивной конверсии группы B к группе A. Выводы и предположения.  \n",
    "3.7.Количество заказов по пользователям. Выводы и предположения.  \n",
    "3.8.Расчет 95-й и 99-й перцентилей количества заказов на пользователя. Выбор границы для определения аномальных пользователей.  \n",
    "3.9.Стоимость заказов. Выводы и предположения.  \n",
    "3.10.Расчет 95-й и 99-й перцентилей стоимости заказов. Выбор границу для определения аномальных заказов.  \n",
    "3.11.Статистическая значимость различий в конверсии между группами по «сырым» данным. Выводы и предположения.  \n",
    "3.12.Статистическая значимость различий в среднем чеке заказа между группами по «сырым» данным. Выводы и предположения.  \n",
    "3.13.Статистическая значимость различий в конверсии между группами по «очищенным» данным. Выводы и предположения. \n",
    "3.14.Статистическая значимость различий в среднем чеке заказа между группами по «очищенным» данным. Выводы и предположения.  \n",
    "3.15.Решение по результатам теста и его обоснование. "
   ]
  },
  {
   "cell_type": "markdown",
   "metadata": {},
   "source": [
    "### Гипотезы об увеличении выручки интернет-магазина."
   ]
  },
  {
   "cell_type": "code",
   "execution_count": 1,
   "metadata": {},
   "outputs": [],
   "source": [
    "# импорт необходимых библиотек\n",
    "import pandas as pd\n",
    "import numpy as np\n",
    "import datetime as dt\n",
    "import seaborn as sns\n",
    "from scipy import stats \n",
    "from matplotlib import  pyplot as plt\n",
    "from pandas.plotting import register_matplotlib_converters\n",
    "import warnings\n",
    "from IPython.display import display_html "
   ]
  },
  {
   "cell_type": "code",
   "execution_count": 2,
   "metadata": {
    "scrolled": true
   },
   "outputs": [
    {
     "data": {
      "text/html": [
       "<div>\n",
       "<style scoped>\n",
       "    .dataframe tbody tr th:only-of-type {\n",
       "        vertical-align: middle;\n",
       "    }\n",
       "\n",
       "    .dataframe tbody tr th {\n",
       "        vertical-align: top;\n",
       "    }\n",
       "\n",
       "    .dataframe thead th {\n",
       "        text-align: right;\n",
       "    }\n",
       "</style>\n",
       "<table border=\"1\" class=\"dataframe\">\n",
       "  <thead>\n",
       "    <tr style=\"text-align: right;\">\n",
       "      <th></th>\n",
       "      <th>Hypothesis</th>\n",
       "      <th>Reach</th>\n",
       "      <th>Impact</th>\n",
       "      <th>Confidence</th>\n",
       "      <th>Efforts</th>\n",
       "    </tr>\n",
       "  </thead>\n",
       "  <tbody>\n",
       "    <tr>\n",
       "      <th>0</th>\n",
       "      <td>Добавить два новых канала привлечения трафика, что позволит привлекать на 30% больше пользователей</td>\n",
       "      <td>3</td>\n",
       "      <td>10</td>\n",
       "      <td>8</td>\n",
       "      <td>6</td>\n",
       "    </tr>\n",
       "    <tr>\n",
       "      <th>1</th>\n",
       "      <td>Запустить собственную службу доставки, что сократит срок доставки заказов</td>\n",
       "      <td>2</td>\n",
       "      <td>5</td>\n",
       "      <td>4</td>\n",
       "      <td>10</td>\n",
       "    </tr>\n",
       "    <tr>\n",
       "      <th>2</th>\n",
       "      <td>Добавить блоки рекомендаций товаров на сайт интернет магазина, чтобы повысить конверсию и средний чек заказа</td>\n",
       "      <td>8</td>\n",
       "      <td>3</td>\n",
       "      <td>7</td>\n",
       "      <td>3</td>\n",
       "    </tr>\n",
       "    <tr>\n",
       "      <th>3</th>\n",
       "      <td>Изменить структура категорий, что увеличит конверсию, т.к. пользователи быстрее найдут нужный товар</td>\n",
       "      <td>8</td>\n",
       "      <td>3</td>\n",
       "      <td>3</td>\n",
       "      <td>8</td>\n",
       "    </tr>\n",
       "    <tr>\n",
       "      <th>4</th>\n",
       "      <td>Изменить цвет фона главной страницы, чтобы увеличить вовлеченность пользователей</td>\n",
       "      <td>3</td>\n",
       "      <td>1</td>\n",
       "      <td>1</td>\n",
       "      <td>1</td>\n",
       "    </tr>\n",
       "    <tr>\n",
       "      <th>5</th>\n",
       "      <td>Добавить страницу отзывов клиентов о магазине, что позволит увеличить количество заказов</td>\n",
       "      <td>3</td>\n",
       "      <td>2</td>\n",
       "      <td>2</td>\n",
       "      <td>3</td>\n",
       "    </tr>\n",
       "    <tr>\n",
       "      <th>6</th>\n",
       "      <td>Показать на главной странице баннеры с актуальными акциями и распродажами, чтобы увеличить конверсию</td>\n",
       "      <td>5</td>\n",
       "      <td>3</td>\n",
       "      <td>8</td>\n",
       "      <td>3</td>\n",
       "    </tr>\n",
       "    <tr>\n",
       "      <th>7</th>\n",
       "      <td>Добавить форму подписки на все основные страницы, чтобы собрать базу клиентов для email-рассылок</td>\n",
       "      <td>10</td>\n",
       "      <td>7</td>\n",
       "      <td>8</td>\n",
       "      <td>5</td>\n",
       "    </tr>\n",
       "    <tr>\n",
       "      <th>8</th>\n",
       "      <td>Запустить акцию, дающую скидку на товар в день рождения</td>\n",
       "      <td>1</td>\n",
       "      <td>9</td>\n",
       "      <td>9</td>\n",
       "      <td>5</td>\n",
       "    </tr>\n",
       "  </tbody>\n",
       "</table>\n",
       "</div>"
      ],
      "text/plain": [
       "                                                                                                     Hypothesis  \\\n",
       "0            Добавить два новых канала привлечения трафика, что позволит привлекать на 30% больше пользователей   \n",
       "1                                     Запустить собственную службу доставки, что сократит срок доставки заказов   \n",
       "2  Добавить блоки рекомендаций товаров на сайт интернет магазина, чтобы повысить конверсию и средний чек заказа   \n",
       "3           Изменить структура категорий, что увеличит конверсию, т.к. пользователи быстрее найдут нужный товар   \n",
       "4                              Изменить цвет фона главной страницы, чтобы увеличить вовлеченность пользователей   \n",
       "5                      Добавить страницу отзывов клиентов о магазине, что позволит увеличить количество заказов   \n",
       "6          Показать на главной странице баннеры с актуальными акциями и распродажами, чтобы увеличить конверсию   \n",
       "7              Добавить форму подписки на все основные страницы, чтобы собрать базу клиентов для email-рассылок   \n",
       "8                                                       Запустить акцию, дающую скидку на товар в день рождения   \n",
       "\n",
       "   Reach  Impact  Confidence  Efforts  \n",
       "0      3      10           8        6  \n",
       "1      2       5           4       10  \n",
       "2      8       3           7        3  \n",
       "3      8       3           3        8  \n",
       "4      3       1           1        1  \n",
       "5      3       2           2        3  \n",
       "6      5       3           8        3  \n",
       "7     10       7           8        5  \n",
       "8      1       9           9        5  "
      ]
     },
     "metadata": {},
     "output_type": "display_data"
    }
   ],
   "source": [
    "hypothesis = pd.read_csv('/home/daniil/Documents/datasets/ab_test_for_online_store_ds/hypothesis.csv')\n",
    "pd.set_option(\"display.max_colwidth\", None)\n",
    "display(hypothesis)"
   ]
  },
  {
   "cell_type": "markdown",
   "metadata": {},
   "source": [
    "## Приоритизация гипотез."
   ]
  },
  {
   "cell_type": "markdown",
   "metadata": {},
   "source": [
    "### Приоретизация гипотез на основе фреймворка ICE."
   ]
  },
  {
   "cell_type": "code",
   "execution_count": 3,
   "metadata": {},
   "outputs": [
    {
     "data": {
      "text/html": [
       "<div>\n",
       "<style scoped>\n",
       "    .dataframe tbody tr th:only-of-type {\n",
       "        vertical-align: middle;\n",
       "    }\n",
       "\n",
       "    .dataframe tbody tr th {\n",
       "        vertical-align: top;\n",
       "    }\n",
       "\n",
       "    .dataframe thead th {\n",
       "        text-align: right;\n",
       "    }\n",
       "</style>\n",
       "<table border=\"1\" class=\"dataframe\">\n",
       "  <thead>\n",
       "    <tr style=\"text-align: right;\">\n",
       "      <th></th>\n",
       "      <th>Hypothesis</th>\n",
       "      <th>Reach</th>\n",
       "      <th>Impact</th>\n",
       "      <th>Confidence</th>\n",
       "      <th>Efforts</th>\n",
       "      <th>ICE</th>\n",
       "    </tr>\n",
       "  </thead>\n",
       "  <tbody>\n",
       "    <tr>\n",
       "      <th>8</th>\n",
       "      <td>Запустить акцию, дающую скидку на товар в день рождения</td>\n",
       "      <td>1</td>\n",
       "      <td>9</td>\n",
       "      <td>9</td>\n",
       "      <td>5</td>\n",
       "      <td>16.200000</td>\n",
       "    </tr>\n",
       "    <tr>\n",
       "      <th>0</th>\n",
       "      <td>Добавить два новых канала привлечения трафика, что позволит привлекать на 30% больше пользователей</td>\n",
       "      <td>3</td>\n",
       "      <td>10</td>\n",
       "      <td>8</td>\n",
       "      <td>6</td>\n",
       "      <td>13.333333</td>\n",
       "    </tr>\n",
       "    <tr>\n",
       "      <th>7</th>\n",
       "      <td>Добавить форму подписки на все основные страницы, чтобы собрать базу клиентов для email-рассылок</td>\n",
       "      <td>10</td>\n",
       "      <td>7</td>\n",
       "      <td>8</td>\n",
       "      <td>5</td>\n",
       "      <td>11.200000</td>\n",
       "    </tr>\n",
       "    <tr>\n",
       "      <th>6</th>\n",
       "      <td>Показать на главной странице баннеры с актуальными акциями и распродажами, чтобы увеличить конверсию</td>\n",
       "      <td>5</td>\n",
       "      <td>3</td>\n",
       "      <td>8</td>\n",
       "      <td>3</td>\n",
       "      <td>8.000000</td>\n",
       "    </tr>\n",
       "    <tr>\n",
       "      <th>2</th>\n",
       "      <td>Добавить блоки рекомендаций товаров на сайт интернет магазина, чтобы повысить конверсию и средний чек заказа</td>\n",
       "      <td>8</td>\n",
       "      <td>3</td>\n",
       "      <td>7</td>\n",
       "      <td>3</td>\n",
       "      <td>7.000000</td>\n",
       "    </tr>\n",
       "    <tr>\n",
       "      <th>1</th>\n",
       "      <td>Запустить собственную службу доставки, что сократит срок доставки заказов</td>\n",
       "      <td>2</td>\n",
       "      <td>5</td>\n",
       "      <td>4</td>\n",
       "      <td>10</td>\n",
       "      <td>2.000000</td>\n",
       "    </tr>\n",
       "    <tr>\n",
       "      <th>5</th>\n",
       "      <td>Добавить страницу отзывов клиентов о магазине, что позволит увеличить количество заказов</td>\n",
       "      <td>3</td>\n",
       "      <td>2</td>\n",
       "      <td>2</td>\n",
       "      <td>3</td>\n",
       "      <td>1.333333</td>\n",
       "    </tr>\n",
       "    <tr>\n",
       "      <th>3</th>\n",
       "      <td>Изменить структура категорий, что увеличит конверсию, т.к. пользователи быстрее найдут нужный товар</td>\n",
       "      <td>8</td>\n",
       "      <td>3</td>\n",
       "      <td>3</td>\n",
       "      <td>8</td>\n",
       "      <td>1.125000</td>\n",
       "    </tr>\n",
       "    <tr>\n",
       "      <th>4</th>\n",
       "      <td>Изменить цвет фона главной страницы, чтобы увеличить вовлеченность пользователей</td>\n",
       "      <td>3</td>\n",
       "      <td>1</td>\n",
       "      <td>1</td>\n",
       "      <td>1</td>\n",
       "      <td>1.000000</td>\n",
       "    </tr>\n",
       "  </tbody>\n",
       "</table>\n",
       "</div>"
      ],
      "text/plain": [
       "                                                                                                     Hypothesis  \\\n",
       "8                                                       Запустить акцию, дающую скидку на товар в день рождения   \n",
       "0            Добавить два новых канала привлечения трафика, что позволит привлекать на 30% больше пользователей   \n",
       "7              Добавить форму подписки на все основные страницы, чтобы собрать базу клиентов для email-рассылок   \n",
       "6          Показать на главной странице баннеры с актуальными акциями и распродажами, чтобы увеличить конверсию   \n",
       "2  Добавить блоки рекомендаций товаров на сайт интернет магазина, чтобы повысить конверсию и средний чек заказа   \n",
       "1                                     Запустить собственную службу доставки, что сократит срок доставки заказов   \n",
       "5                      Добавить страницу отзывов клиентов о магазине, что позволит увеличить количество заказов   \n",
       "3           Изменить структура категорий, что увеличит конверсию, т.к. пользователи быстрее найдут нужный товар   \n",
       "4                              Изменить цвет фона главной страницы, чтобы увеличить вовлеченность пользователей   \n",
       "\n",
       "   Reach  Impact  Confidence  Efforts        ICE  \n",
       "8      1       9           9        5  16.200000  \n",
       "0      3      10           8        6  13.333333  \n",
       "7     10       7           8        5  11.200000  \n",
       "6      5       3           8        3   8.000000  \n",
       "2      8       3           7        3   7.000000  \n",
       "1      2       5           4       10   2.000000  \n",
       "5      3       2           2        3   1.333333  \n",
       "3      8       3           3        8   1.125000  \n",
       "4      3       1           1        1   1.000000  "
      ]
     },
     "metadata": {},
     "output_type": "display_data"
    }
   ],
   "source": [
    "hypothesis['ICE'] = (hypothesis['Impact']*hypothesis['Confidence'])/hypothesis['Efforts']\n",
    "display(hypothesis.sort_values(by='ICE', ascending=False))"
   ]
  },
  {
   "cell_type": "markdown",
   "metadata": {},
   "source": [
    "### Приоретизация гипотез на основе фреймворка RICE."
   ]
  },
  {
   "cell_type": "code",
   "execution_count": 4,
   "metadata": {},
   "outputs": [
    {
     "data": {
      "text/html": [
       "<div>\n",
       "<style scoped>\n",
       "    .dataframe tbody tr th:only-of-type {\n",
       "        vertical-align: middle;\n",
       "    }\n",
       "\n",
       "    .dataframe tbody tr th {\n",
       "        vertical-align: top;\n",
       "    }\n",
       "\n",
       "    .dataframe thead th {\n",
       "        text-align: right;\n",
       "    }\n",
       "</style>\n",
       "<table border=\"1\" class=\"dataframe\">\n",
       "  <thead>\n",
       "    <tr style=\"text-align: right;\">\n",
       "      <th></th>\n",
       "      <th>Hypothesis</th>\n",
       "      <th>Reach</th>\n",
       "      <th>Impact</th>\n",
       "      <th>Confidence</th>\n",
       "      <th>Efforts</th>\n",
       "      <th>ICE</th>\n",
       "      <th>RICE</th>\n",
       "    </tr>\n",
       "  </thead>\n",
       "  <tbody>\n",
       "    <tr>\n",
       "      <th>7</th>\n",
       "      <td>Добавить форму подписки на все основные страницы, чтобы собрать базу клиентов для email-рассылок</td>\n",
       "      <td>10</td>\n",
       "      <td>7</td>\n",
       "      <td>8</td>\n",
       "      <td>5</td>\n",
       "      <td>11.200000</td>\n",
       "      <td>112.0</td>\n",
       "    </tr>\n",
       "    <tr>\n",
       "      <th>2</th>\n",
       "      <td>Добавить блоки рекомендаций товаров на сайт интернет магазина, чтобы повысить конверсию и средний чек заказа</td>\n",
       "      <td>8</td>\n",
       "      <td>3</td>\n",
       "      <td>7</td>\n",
       "      <td>3</td>\n",
       "      <td>7.000000</td>\n",
       "      <td>56.0</td>\n",
       "    </tr>\n",
       "    <tr>\n",
       "      <th>0</th>\n",
       "      <td>Добавить два новых канала привлечения трафика, что позволит привлекать на 30% больше пользователей</td>\n",
       "      <td>3</td>\n",
       "      <td>10</td>\n",
       "      <td>8</td>\n",
       "      <td>6</td>\n",
       "      <td>13.333333</td>\n",
       "      <td>40.0</td>\n",
       "    </tr>\n",
       "    <tr>\n",
       "      <th>6</th>\n",
       "      <td>Показать на главной странице баннеры с актуальными акциями и распродажами, чтобы увеличить конверсию</td>\n",
       "      <td>5</td>\n",
       "      <td>3</td>\n",
       "      <td>8</td>\n",
       "      <td>3</td>\n",
       "      <td>8.000000</td>\n",
       "      <td>40.0</td>\n",
       "    </tr>\n",
       "    <tr>\n",
       "      <th>8</th>\n",
       "      <td>Запустить акцию, дающую скидку на товар в день рождения</td>\n",
       "      <td>1</td>\n",
       "      <td>9</td>\n",
       "      <td>9</td>\n",
       "      <td>5</td>\n",
       "      <td>16.200000</td>\n",
       "      <td>16.2</td>\n",
       "    </tr>\n",
       "    <tr>\n",
       "      <th>3</th>\n",
       "      <td>Изменить структура категорий, что увеличит конверсию, т.к. пользователи быстрее найдут нужный товар</td>\n",
       "      <td>8</td>\n",
       "      <td>3</td>\n",
       "      <td>3</td>\n",
       "      <td>8</td>\n",
       "      <td>1.125000</td>\n",
       "      <td>9.0</td>\n",
       "    </tr>\n",
       "    <tr>\n",
       "      <th>1</th>\n",
       "      <td>Запустить собственную службу доставки, что сократит срок доставки заказов</td>\n",
       "      <td>2</td>\n",
       "      <td>5</td>\n",
       "      <td>4</td>\n",
       "      <td>10</td>\n",
       "      <td>2.000000</td>\n",
       "      <td>4.0</td>\n",
       "    </tr>\n",
       "    <tr>\n",
       "      <th>5</th>\n",
       "      <td>Добавить страницу отзывов клиентов о магазине, что позволит увеличить количество заказов</td>\n",
       "      <td>3</td>\n",
       "      <td>2</td>\n",
       "      <td>2</td>\n",
       "      <td>3</td>\n",
       "      <td>1.333333</td>\n",
       "      <td>4.0</td>\n",
       "    </tr>\n",
       "    <tr>\n",
       "      <th>4</th>\n",
       "      <td>Изменить цвет фона главной страницы, чтобы увеличить вовлеченность пользователей</td>\n",
       "      <td>3</td>\n",
       "      <td>1</td>\n",
       "      <td>1</td>\n",
       "      <td>1</td>\n",
       "      <td>1.000000</td>\n",
       "      <td>3.0</td>\n",
       "    </tr>\n",
       "  </tbody>\n",
       "</table>\n",
       "</div>"
      ],
      "text/plain": [
       "                                                                                                     Hypothesis  \\\n",
       "7              Добавить форму подписки на все основные страницы, чтобы собрать базу клиентов для email-рассылок   \n",
       "2  Добавить блоки рекомендаций товаров на сайт интернет магазина, чтобы повысить конверсию и средний чек заказа   \n",
       "0            Добавить два новых канала привлечения трафика, что позволит привлекать на 30% больше пользователей   \n",
       "6          Показать на главной странице баннеры с актуальными акциями и распродажами, чтобы увеличить конверсию   \n",
       "8                                                       Запустить акцию, дающую скидку на товар в день рождения   \n",
       "3           Изменить структура категорий, что увеличит конверсию, т.к. пользователи быстрее найдут нужный товар   \n",
       "1                                     Запустить собственную службу доставки, что сократит срок доставки заказов   \n",
       "5                      Добавить страницу отзывов клиентов о магазине, что позволит увеличить количество заказов   \n",
       "4                              Изменить цвет фона главной страницы, чтобы увеличить вовлеченность пользователей   \n",
       "\n",
       "   Reach  Impact  Confidence  Efforts        ICE   RICE  \n",
       "7     10       7           8        5  11.200000  112.0  \n",
       "2      8       3           7        3   7.000000   56.0  \n",
       "0      3      10           8        6  13.333333   40.0  \n",
       "6      5       3           8        3   8.000000   40.0  \n",
       "8      1       9           9        5  16.200000   16.2  \n",
       "3      8       3           3        8   1.125000    9.0  \n",
       "1      2       5           4       10   2.000000    4.0  \n",
       "5      3       2           2        3   1.333333    4.0  \n",
       "4      3       1           1        1   1.000000    3.0  "
      ]
     },
     "metadata": {},
     "output_type": "display_data"
    }
   ],
   "source": [
    "hypothesis['RICE'] = (hypothesis['Reach']*hypothesis['Impact']*hypothesis['Confidence'])/hypothesis['Efforts']\n",
    "display(hypothesis.sort_values(by='RICE', ascending=False))"
   ]
  },
  {
   "cell_type": "markdown",
   "metadata": {},
   "source": [
    "### Выводы о приоритете гипотез.    \n",
    "Использование фреймворков ICE и RICE приводит к разным результатам приоретизации гипотез, что обусловлено расчетом показателей с или без учета охвата населения.  Таким образом с учетом лишь влияния на пользователя, уровня уверенности и затрат - на первое место выходит гипотеза, предлагающая проверить эффективность предоставления скидки в день рождения. Есть основания считать, что подобная практика окажет выраженное влияние на пользователей с большой долей вероятности, в то время как трудозатраты оценены в 5 баллов, что является приблизительно средним показателем. Однако, в случае использования RICE-фреймворка, т.е. дополнительного учета оценки охвата пользователей, наибольший приоритет получает гипотеза об эффективности создания формы подписки и базы клиентов для email-рассылок, в то время как введение скидок на день рождения отпускается на 5 место. Другие изменения в приоретизации менее выражены, таким образом топ-3 гипотезами рекомендованными для проверки являются :  \n",
    "1-Добавить форму подписки на все основные страницы, чтобы собрать базу клиентов для email-рассылок;  \n",
    "2-Добавить блоки рекомендаций товаров на сайт интернет магазина, чтобы повысить конверсию и средний чек заказа;  \n",
    "3-Добавить два новых канала привлечения трафика, что позволит привлекать на 30% больше пользователей  "
   ]
  },
  {
   "cell_type": "markdown",
   "metadata": {},
   "source": [
    "## Анализ A/B-теста"
   ]
  },
  {
   "cell_type": "markdown",
   "metadata": {},
   "source": [
    "### Изучение общей информации о данных, полученных в результате A/B-теста."
   ]
  },
  {
   "cell_type": "code",
   "execution_count": 5,
   "metadata": {},
   "outputs": [
    {
     "data": {
      "text/html": [
       "<div>\n",
       "<style scoped>\n",
       "    .dataframe tbody tr th:only-of-type {\n",
       "        vertical-align: middle;\n",
       "    }\n",
       "\n",
       "    .dataframe tbody tr th {\n",
       "        vertical-align: top;\n",
       "    }\n",
       "\n",
       "    .dataframe thead th {\n",
       "        text-align: right;\n",
       "    }\n",
       "</style>\n",
       "<table border=\"1\" class=\"dataframe\">\n",
       "  <thead>\n",
       "    <tr style=\"text-align: right;\">\n",
       "      <th></th>\n",
       "      <th>transactionId</th>\n",
       "      <th>visitorId</th>\n",
       "      <th>date</th>\n",
       "      <th>revenue</th>\n",
       "      <th>group</th>\n",
       "    </tr>\n",
       "  </thead>\n",
       "  <tbody>\n",
       "    <tr>\n",
       "      <th>0</th>\n",
       "      <td>3667963787</td>\n",
       "      <td>3312258926</td>\n",
       "      <td>2019-08-15</td>\n",
       "      <td>1650</td>\n",
       "      <td>B</td>\n",
       "    </tr>\n",
       "    <tr>\n",
       "      <th>1</th>\n",
       "      <td>2804400009</td>\n",
       "      <td>3642806036</td>\n",
       "      <td>2019-08-15</td>\n",
       "      <td>730</td>\n",
       "      <td>B</td>\n",
       "    </tr>\n",
       "    <tr>\n",
       "      <th>2</th>\n",
       "      <td>2961555356</td>\n",
       "      <td>4069496402</td>\n",
       "      <td>2019-08-15</td>\n",
       "      <td>400</td>\n",
       "      <td>A</td>\n",
       "    </tr>\n",
       "  </tbody>\n",
       "</table>\n",
       "</div>"
      ],
      "text/plain": [
       "   transactionId   visitorId       date  revenue group\n",
       "0     3667963787  3312258926 2019-08-15     1650     B\n",
       "1     2804400009  3642806036 2019-08-15      730     B\n",
       "2     2961555356  4069496402 2019-08-15      400     A"
      ]
     },
     "metadata": {},
     "output_type": "display_data"
    },
    {
     "name": "stdout",
     "output_type": "stream",
     "text": [
      "<class 'pandas.core.frame.DataFrame'>\n",
      "RangeIndex: 1197 entries, 0 to 1196\n",
      "Data columns (total 5 columns):\n",
      " #   Column         Non-Null Count  Dtype         \n",
      "---  ------         --------------  -----         \n",
      " 0   transactionId  1197 non-null   int64         \n",
      " 1   visitorId      1197 non-null   int64         \n",
      " 2   date           1197 non-null   datetime64[ns]\n",
      " 3   revenue        1197 non-null   int64         \n",
      " 4   group          1197 non-null   object        \n",
      "dtypes: datetime64[ns](1), int64(3), object(1)\n",
      "memory usage: 46.9+ KB\n"
     ]
    },
    {
     "data": {
      "text/plain": [
       "None"
      ]
     },
     "metadata": {},
     "output_type": "display_data"
    },
    {
     "data": {
      "text/plain": [
       "'orders - абсолютные дубликаты : 0'"
      ]
     },
     "metadata": {},
     "output_type": "display_data"
    },
    {
     "data": {
      "text/plain": [
       "'Транзакции - дубликаты : 0'"
      ]
     },
     "metadata": {},
     "output_type": "display_data"
    },
    {
     "data": {
      "text/plain": [
       "'Количество пользователей : 1031'"
      ]
     },
     "metadata": {},
     "output_type": "display_data"
    },
    {
     "data": {
      "text/plain": [
       "'Первый заказ : 2019-08-01 00:00:00, последний заказ : 2019-08-31 00:00:00'"
      ]
     },
     "metadata": {},
     "output_type": "display_data"
    },
    {
     "data": {
      "text/plain": [
       "'Количество пользователей группы А :557'"
      ]
     },
     "metadata": {},
     "output_type": "display_data"
    },
    {
     "data": {
      "text/plain": [
       "'Количество пользователей группы B :640'"
      ]
     },
     "metadata": {},
     "output_type": "display_data"
    },
    {
     "data": {
      "text/plain": [
       "'Количество пользователей участвующих в обеих группах : 58'"
      ]
     },
     "metadata": {},
     "output_type": "display_data"
    },
    {
     "data": {
      "text/plain": [
       "None"
      ]
     },
     "metadata": {},
     "output_type": "display_data"
    },
    {
     "data": {
      "text/html": [
       "<div>\n",
       "<style scoped>\n",
       "    .dataframe tbody tr th:only-of-type {\n",
       "        vertical-align: middle;\n",
       "    }\n",
       "\n",
       "    .dataframe tbody tr th {\n",
       "        vertical-align: top;\n",
       "    }\n",
       "\n",
       "    .dataframe thead th {\n",
       "        text-align: right;\n",
       "    }\n",
       "</style>\n",
       "<table border=\"1\" class=\"dataframe\">\n",
       "  <thead>\n",
       "    <tr style=\"text-align: right;\">\n",
       "      <th></th>\n",
       "      <th>date</th>\n",
       "      <th>group</th>\n",
       "      <th>visitors</th>\n",
       "    </tr>\n",
       "  </thead>\n",
       "  <tbody>\n",
       "    <tr>\n",
       "      <th>0</th>\n",
       "      <td>2019-08-01</td>\n",
       "      <td>A</td>\n",
       "      <td>719</td>\n",
       "    </tr>\n",
       "    <tr>\n",
       "      <th>1</th>\n",
       "      <td>2019-08-02</td>\n",
       "      <td>A</td>\n",
       "      <td>619</td>\n",
       "    </tr>\n",
       "    <tr>\n",
       "      <th>2</th>\n",
       "      <td>2019-08-03</td>\n",
       "      <td>A</td>\n",
       "      <td>507</td>\n",
       "    </tr>\n",
       "  </tbody>\n",
       "</table>\n",
       "</div>"
      ],
      "text/plain": [
       "        date group  visitors\n",
       "0 2019-08-01     A       719\n",
       "1 2019-08-02     A       619\n",
       "2 2019-08-03     A       507"
      ]
     },
     "metadata": {},
     "output_type": "display_data"
    },
    {
     "name": "stdout",
     "output_type": "stream",
     "text": [
      "<class 'pandas.core.frame.DataFrame'>\n",
      "RangeIndex: 62 entries, 0 to 61\n",
      "Data columns (total 3 columns):\n",
      " #   Column    Non-Null Count  Dtype         \n",
      "---  ------    --------------  -----         \n",
      " 0   date      62 non-null     datetime64[ns]\n",
      " 1   group     62 non-null     object        \n",
      " 2   visitors  62 non-null     int64         \n",
      "dtypes: datetime64[ns](1), int64(1), object(1)\n",
      "memory usage: 1.6+ KB\n"
     ]
    },
    {
     "data": {
      "text/plain": [
       "None"
      ]
     },
     "metadata": {},
     "output_type": "display_data"
    },
    {
     "data": {
      "text/plain": [
       "'visitors - абсолютные дубликаты : 0'"
      ]
     },
     "metadata": {},
     "output_type": "display_data"
    },
    {
     "data": {
      "text/plain": [
       "'Начало эксперимента : 2019-08-01 00:00:00, конец эксперимента : 2019-08-31 00:00:00'"
      ]
     },
     "metadata": {},
     "output_type": "display_data"
    },
    {
     "data": {
      "text/plain": [
       "None"
      ]
     },
     "metadata": {},
     "output_type": "display_data"
    }
   ],
   "source": [
    "orders = pd.read_csv('/home/daniil/Documents/datasets/ab_test_for_online_store_ds/orders.csv') \n",
    "visitors = pd.read_csv('/home/daniil/Documents/datasets/ab_test_for_online_store_ds/visitors.csv')\n",
    "\n",
    "orders['date'] = pd.to_datetime(orders['date'])\n",
    "visitors['date'] = pd.to_datetime(visitors['date'])\n",
    "\n",
    "# функции для получения информации о датасетах\n",
    "def orders_info(df_x):\n",
    "    display(df_x.head(3))\n",
    "    display(df_x.info())\n",
    "    display(f'orders - абсолютные дубликаты : {df_x.duplicated().sum()}')\n",
    "    display(f'Транзакции - дубликаты : {df_x[\"transactionId\"].duplicated().sum()}')\n",
    "    display(f'Количество пользователей : {df_x[\"visitorId\"].nunique()}')\n",
    "    display(f'Первый заказ : {df_x[\"date\"].min()}, последний заказ : {df_x[\"date\"].max()}')\n",
    "    a_group = orders[orders['group']=='A']    \n",
    "    b_group = orders[orders['group']=='B']    \n",
    "    same_users = a_group.merge(b_group, on='visitorId', how='inner')\n",
    "    display(f'Количество пользователей группы А :{len(a_group)}',\n",
    "            f'Количество пользователей группы B :{len(b_group)}',\n",
    "            f'Количество пользователей участвующих в обеих группах : {same_users[\"visitorId\"].nunique()}')\n",
    "    \n",
    "    \n",
    "def visitors_info(df_x):\n",
    "    display(df_x.head(3))\n",
    "    display(df_x.info())\n",
    "    display(f'visitors - абсолютные дубликаты : {df_x.duplicated().sum()}')\n",
    "    display(f'Начало эксперимента : {df_x[\"date\"].min()}, конец эксперимента : {df_x[\"date\"].max()}')\n",
    "    \n",
    "display(orders_info(orders))\n",
    "display(visitors_info(visitors))"
   ]
  },
  {
   "cell_type": "markdown",
   "metadata": {},
   "source": [
    "***Вывод***  \n",
    "По результатам проведения А/В теста получены данные, предоставленые 2 датасетами. Датасет \"orders\" содержит информацию о 1197 заказе, которые были совершены 1031 пользователем за период с 2019-08-01 по 2019-08-31, указана выручка от заказа, а также принадлежность пользователя к группе тестирования.  \n",
    "При тестировании в группу А вошло 557 пользователей, в группу В 640. Установлено, что 58 пользователей участвовали в двух группах одновременно. Влияние данных неуникальных пользователей будет произведено на показатели выручки, среднего чека, конверсии, количества и стоимостей заказов.  \n",
    "Датасет \"visitors\" содержит информацию о ежедневной посещаемости сайта пользователями каждой группы тестирования  за период  с 2019-08-01 по 2019-08-31."
   ]
  },
  {
   "cell_type": "markdown",
   "metadata": {},
   "source": [
    "### Кумулятивная выручка по группам."
   ]
  },
  {
   "cell_type": "code",
   "execution_count": 6,
   "metadata": {},
   "outputs": [
    {
     "data": {
      "text/html": [
       "<div>\n",
       "<style scoped>\n",
       "    .dataframe tbody tr th:only-of-type {\n",
       "        vertical-align: middle;\n",
       "    }\n",
       "\n",
       "    .dataframe tbody tr th {\n",
       "        vertical-align: top;\n",
       "    }\n",
       "\n",
       "    .dataframe thead th {\n",
       "        text-align: right;\n",
       "    }\n",
       "</style>\n",
       "<table border=\"1\" class=\"dataframe\">\n",
       "  <thead>\n",
       "    <tr style=\"text-align: right;\">\n",
       "      <th></th>\n",
       "      <th>date</th>\n",
       "      <th>group</th>\n",
       "      <th>transactionId</th>\n",
       "      <th>visitorId</th>\n",
       "      <th>revenue</th>\n",
       "    </tr>\n",
       "  </thead>\n",
       "  <tbody>\n",
       "    <tr>\n",
       "      <th>55</th>\n",
       "      <td>2019-08-01</td>\n",
       "      <td>A</td>\n",
       "      <td>24</td>\n",
       "      <td>20</td>\n",
       "      <td>148579</td>\n",
       "    </tr>\n",
       "    <tr>\n",
       "      <th>66</th>\n",
       "      <td>2019-08-01</td>\n",
       "      <td>B</td>\n",
       "      <td>21</td>\n",
       "      <td>20</td>\n",
       "      <td>101217</td>\n",
       "    </tr>\n",
       "    <tr>\n",
       "      <th>175</th>\n",
       "      <td>2019-08-02</td>\n",
       "      <td>A</td>\n",
       "      <td>44</td>\n",
       "      <td>38</td>\n",
       "      <td>242401</td>\n",
       "    </tr>\n",
       "  </tbody>\n",
       "</table>\n",
       "</div>"
      ],
      "text/plain": [
       "          date group  transactionId  visitorId  revenue\n",
       "55  2019-08-01     A             24         20   148579\n",
       "66  2019-08-01     B             21         20   101217\n",
       "175 2019-08-02     A             44         38   242401"
      ]
     },
     "metadata": {},
     "output_type": "display_data"
    }
   ],
   "source": [
    "# создаем массив уникальных пар значений дат и групп теста\n",
    "datesGroups = orders[['date', 'group']].drop_duplicates() \n",
    "\n",
    "# получаем агрегированные кумулятивные по дням данные о заказах \n",
    "ordersAggregated = datesGroups.apply(\n",
    "    lambda x: orders[\n",
    "        np.logical_and(\n",
    "            orders['date'] <= x['date'], orders['group'] == x['group']\n",
    "        )\n",
    "    ].agg(\n",
    "        {\n",
    "            'date': 'max',\n",
    "            'group': 'max',\n",
    "            'transactionId': 'nunique',\n",
    "            'visitorId': 'nunique',\n",
    "            'revenue': 'sum',\n",
    "        }\n",
    "    ),\n",
    "    axis=1,\n",
    ").sort_values(by=['date', 'group'])\n",
    "\n",
    "display(ordersAggregated.head(3))"
   ]
  },
  {
   "cell_type": "code",
   "execution_count": 7,
   "metadata": {},
   "outputs": [
    {
     "data": {
      "text/html": [
       "<div>\n",
       "<style scoped>\n",
       "    .dataframe tbody tr th:only-of-type {\n",
       "        vertical-align: middle;\n",
       "    }\n",
       "\n",
       "    .dataframe tbody tr th {\n",
       "        vertical-align: top;\n",
       "    }\n",
       "\n",
       "    .dataframe thead th {\n",
       "        text-align: right;\n",
       "    }\n",
       "</style>\n",
       "<table border=\"1\" class=\"dataframe\">\n",
       "  <thead>\n",
       "    <tr style=\"text-align: right;\">\n",
       "      <th></th>\n",
       "      <th>date</th>\n",
       "      <th>group</th>\n",
       "      <th>visitors</th>\n",
       "    </tr>\n",
       "  </thead>\n",
       "  <tbody>\n",
       "    <tr>\n",
       "      <th>55</th>\n",
       "      <td>2019-08-01</td>\n",
       "      <td>A</td>\n",
       "      <td>719</td>\n",
       "    </tr>\n",
       "    <tr>\n",
       "      <th>66</th>\n",
       "      <td>2019-08-01</td>\n",
       "      <td>B</td>\n",
       "      <td>713</td>\n",
       "    </tr>\n",
       "    <tr>\n",
       "      <th>175</th>\n",
       "      <td>2019-08-02</td>\n",
       "      <td>A</td>\n",
       "      <td>1338</td>\n",
       "    </tr>\n",
       "  </tbody>\n",
       "</table>\n",
       "</div>"
      ],
      "text/plain": [
       "          date group  visitors\n",
       "55  2019-08-01     A       719\n",
       "66  2019-08-01     B       713\n",
       "175 2019-08-02     A      1338"
      ]
     },
     "metadata": {},
     "output_type": "display_data"
    },
    {
     "data": {
      "text/html": [
       "<div>\n",
       "<style scoped>\n",
       "    .dataframe tbody tr th:only-of-type {\n",
       "        vertical-align: middle;\n",
       "    }\n",
       "\n",
       "    .dataframe tbody tr th {\n",
       "        vertical-align: top;\n",
       "    }\n",
       "\n",
       "    .dataframe thead th {\n",
       "        text-align: right;\n",
       "    }\n",
       "</style>\n",
       "<table border=\"1\" class=\"dataframe\">\n",
       "  <thead>\n",
       "    <tr style=\"text-align: right;\">\n",
       "      <th></th>\n",
       "      <th>date</th>\n",
       "      <th>group</th>\n",
       "      <th>orders</th>\n",
       "      <th>buyers</th>\n",
       "      <th>revenue</th>\n",
       "      <th>visitors</th>\n",
       "    </tr>\n",
       "  </thead>\n",
       "  <tbody>\n",
       "    <tr>\n",
       "      <th>0</th>\n",
       "      <td>2019-08-01</td>\n",
       "      <td>A</td>\n",
       "      <td>24</td>\n",
       "      <td>20</td>\n",
       "      <td>148579</td>\n",
       "      <td>719</td>\n",
       "    </tr>\n",
       "    <tr>\n",
       "      <th>1</th>\n",
       "      <td>2019-08-01</td>\n",
       "      <td>B</td>\n",
       "      <td>21</td>\n",
       "      <td>20</td>\n",
       "      <td>101217</td>\n",
       "      <td>713</td>\n",
       "    </tr>\n",
       "    <tr>\n",
       "      <th>2</th>\n",
       "      <td>2019-08-02</td>\n",
       "      <td>A</td>\n",
       "      <td>44</td>\n",
       "      <td>38</td>\n",
       "      <td>242401</td>\n",
       "      <td>1338</td>\n",
       "    </tr>\n",
       "  </tbody>\n",
       "</table>\n",
       "</div>"
      ],
      "text/plain": [
       "        date group  orders  buyers  revenue  visitors\n",
       "0 2019-08-01     A      24      20   148579       719\n",
       "1 2019-08-01     B      21      20   101217       713\n",
       "2 2019-08-02     A      44      38   242401      1338"
      ]
     },
     "metadata": {},
     "output_type": "display_data"
    }
   ],
   "source": [
    "# получаем агрегированные кумулятивные по дням данные о посетителях интернет-магазина \n",
    "visitorsAggregated = datesGroups.apply(\n",
    "    lambda x: visitors[\n",
    "        np.logical_and(\n",
    "            visitors['date'] <= x['date'], visitors['group'] == x['group']\n",
    "        )\n",
    "    ].agg({'date': 'max', 'group': 'max', 'visitors': 'sum'}),\n",
    "    axis=1,\n",
    ").sort_values(by=['date', 'group'])\n",
    "\n",
    "\n",
    "# объединяем кумулятивные данные в одной таблице и присваиваем ее столбцам новые названия\n",
    "cumulativeData = ordersAggregated.merge(\n",
    "    visitorsAggregated, left_on=['date', 'group'], right_on=['date', 'group']\n",
    ")\n",
    "cumulativeData.columns = [\n",
    "    'date',\n",
    "    'group',\n",
    "    'orders',\n",
    "    'buyers',\n",
    "    'revenue',\n",
    "    'visitors',\n",
    "]\n",
    "\n",
    "display(visitorsAggregated.head(3))\n",
    "display(cumulativeData.head(3))"
   ]
  },
  {
   "cell_type": "code",
   "execution_count": 8,
   "metadata": {},
   "outputs": [
    {
     "data": {
      "text/html": [
       "<style type=\"text/css\">\n",
       "</style>\n",
       "<table id=\"T_2baf2_\" style='display:inline'>\n",
       "  <caption>Группа А</caption>\n",
       "  <thead>\n",
       "    <tr>\n",
       "      <th class=\"blank level0\" >&nbsp;</th>\n",
       "      <th class=\"col_heading level0 col0\" >index</th>\n",
       "      <th class=\"col_heading level0 col1\" >values</th>\n",
       "    </tr>\n",
       "  </thead>\n",
       "  <tbody>\n",
       "    <tr>\n",
       "      <th id=\"T_2baf2_level0_row0\" class=\"row_heading level0 row0\" >0</th>\n",
       "      <td id=\"T_2baf2_row0_col0\" class=\"data row0 col0\" >date</td>\n",
       "      <td id=\"T_2baf2_row0_col1\" class=\"data row0 col1\" >2019-08-31 00:00:00</td>\n",
       "    </tr>\n",
       "    <tr>\n",
       "      <th id=\"T_2baf2_level0_row1\" class=\"row_heading level0 row1\" >1</th>\n",
       "      <td id=\"T_2baf2_row1_col0\" class=\"data row1 col0\" >revenue</td>\n",
       "      <td id=\"T_2baf2_row1_col1\" class=\"data row1 col1\" >4084803</td>\n",
       "    </tr>\n",
       "    <tr>\n",
       "      <th id=\"T_2baf2_level0_row2\" class=\"row_heading level0 row2\" >2</th>\n",
       "      <td id=\"T_2baf2_row2_col0\" class=\"data row2 col0\" >orders</td>\n",
       "      <td id=\"T_2baf2_row2_col1\" class=\"data row2 col1\" >557</td>\n",
       "    </tr>\n",
       "  </tbody>\n",
       "</table>\n",
       "          <style type=\"text/css\">\n",
       "</style>\n",
       "<table id=\"T_09cf3_\" style='display:inline'>\n",
       "  <caption>Группа В</caption>\n",
       "  <thead>\n",
       "    <tr>\n",
       "      <th class=\"blank level0\" >&nbsp;</th>\n",
       "      <th class=\"col_heading level0 col0\" >index</th>\n",
       "      <th class=\"col_heading level0 col1\" >values</th>\n",
       "    </tr>\n",
       "  </thead>\n",
       "  <tbody>\n",
       "    <tr>\n",
       "      <th id=\"T_09cf3_level0_row0\" class=\"row_heading level0 row0\" >0</th>\n",
       "      <td id=\"T_09cf3_row0_col0\" class=\"data row0 col0\" >date</td>\n",
       "      <td id=\"T_09cf3_row0_col1\" class=\"data row0 col1\" >2019-08-31 00:00:00</td>\n",
       "    </tr>\n",
       "    <tr>\n",
       "      <th id=\"T_09cf3_level0_row1\" class=\"row_heading level0 row1\" >1</th>\n",
       "      <td id=\"T_09cf3_row1_col0\" class=\"data row1 col0\" >revenue</td>\n",
       "      <td id=\"T_09cf3_row1_col1\" class=\"data row1 col1\" >5907760</td>\n",
       "    </tr>\n",
       "    <tr>\n",
       "      <th id=\"T_09cf3_level0_row2\" class=\"row_heading level0 row2\" >2</th>\n",
       "      <td id=\"T_09cf3_row2_col0\" class=\"data row2 col0\" >orders</td>\n",
       "      <td id=\"T_09cf3_row2_col1\" class=\"data row2 col1\" >640</td>\n",
       "    </tr>\n",
       "  </tbody>\n",
       "</table>\n"
      ]
     },
     "metadata": {},
     "output_type": "display_data"
    },
    {
     "data": {
      "text/plain": [
       "'Разница в общей выручке между группами А и В к окончанию теста : -1822957'"
      ]
     },
     "metadata": {},
     "output_type": "display_data"
    },
    {
     "data": {
      "text/plain": [
       "'Разница в общем кол-ве заказов между группами А и В к окончанию теста : -83'"
      ]
     },
     "metadata": {},
     "output_type": "display_data"
    },
    {
     "data": {
      "text/html": [
       "<div>\n",
       "<style scoped>\n",
       "    .dataframe tbody tr th:only-of-type {\n",
       "        vertical-align: middle;\n",
       "    }\n",
       "\n",
       "    .dataframe tbody tr th {\n",
       "        vertical-align: top;\n",
       "    }\n",
       "\n",
       "    .dataframe thead th {\n",
       "        text-align: right;\n",
       "    }\n",
       "</style>\n",
       "<table border=\"1\" class=\"dataframe\">\n",
       "  <thead>\n",
       "    <tr style=\"text-align: right;\">\n",
       "      <th></th>\n",
       "      <th>date</th>\n",
       "      <th>revenue</th>\n",
       "      <th>orders</th>\n",
       "    </tr>\n",
       "  </thead>\n",
       "  <tbody>\n",
       "    <tr>\n",
       "      <th>1</th>\n",
       "      <td>2019-08-01</td>\n",
       "      <td>101217</td>\n",
       "      <td>21</td>\n",
       "    </tr>\n",
       "    <tr>\n",
       "      <th>3</th>\n",
       "      <td>2019-08-02</td>\n",
       "      <td>266748</td>\n",
       "      <td>45</td>\n",
       "    </tr>\n",
       "    <tr>\n",
       "      <th>5</th>\n",
       "      <td>2019-08-03</td>\n",
       "      <td>380996</td>\n",
       "      <td>61</td>\n",
       "    </tr>\n",
       "  </tbody>\n",
       "</table>\n",
       "</div>"
      ],
      "text/plain": [
       "        date  revenue  orders\n",
       "1 2019-08-01   101217      21\n",
       "3 2019-08-02   266748      45\n",
       "5 2019-08-03   380996      61"
      ]
     },
     "metadata": {},
     "output_type": "display_data"
    },
    {
     "data": {
      "image/png": "[encoded data removed]",
      "text/plain": [
       "<Figure size 864x504 with 1 Axes>"
      ]
     },
     "metadata": {
      "needs_background": "light"
     },
     "output_type": "display_data"
    }
   ],
   "source": [
    "# датасеты с кумулятивным количеством заказов и кумулятивной выручкой по дням в группах\n",
    "cumulativeRevenueA = cumulativeData[cumulativeData['group']=='A'][['date','revenue', 'orders']]\n",
    "cumulativeRevenueB = cumulativeData[cumulativeData['group']=='B'][['date','revenue', 'orders']]\n",
    "\n",
    "# вывод таблиц для наглядности\n",
    "cumulativeRevenueA_max = cumulativeRevenueA.max().to_frame(name='values').reset_index() \n",
    "cumulativeRevenueB_max = cumulativeRevenueB.max().to_frame(name='values').reset_index()\n",
    "\n",
    "cumulativeRevenueA_max_styler = cumulativeRevenueA_max.style.set_table_attributes(\"style='display:inline'\").set_caption('Группа А')\n",
    "cumulativeRevenueB_max_styler = cumulativeRevenueB_max.style.set_table_attributes(\"style='display:inline'\").set_caption('Группа В')\n",
    "\n",
    "space = \"\\xa0\" * 10\n",
    "display_html(cumulativeRevenueA_max_styler._repr_html_()+space+cumulativeRevenueB_max_styler._repr_html_(), raw=True)\n",
    "\n",
    "dif_reven = cumulativeRevenueA.max()[1]-cumulativeRevenueB.max()[1]\n",
    "display(f'Разница в общей выручке между группами А и В к окончанию теста : {dif_reven}')\n",
    "dif_order = cumulativeRevenueA.max()[2]-cumulativeRevenueB.max()[2]\n",
    "display(f'Разница в общем кол-ве заказов между группами А и В к окончанию теста : {dif_order}')\n",
    "\n",
    "display(cumulativeRevenueB.head(3))\n",
    "# Строим графики выручки групп\n",
    "plt.figure(figsize=(12,7))\n",
    "plt.plot(cumulativeRevenueA['date'], cumulativeRevenueA['revenue'], label='A')\n",
    "plt.plot(cumulativeRevenueB['date'], cumulativeRevenueB['revenue'], label='B')\n",
    "plt.grid()\n",
    "plt.legend() \n",
    "plt.title('Кумулятивный график выручки')\n",
    "plt.ylabel(\"Выручка - руб. х 10^6\")\n",
    "plt.xticks(rotation=90)\n",
    "plt.show()"
   ]
  },
  {
   "cell_type": "markdown",
   "metadata": {},
   "source": [
    "***Вывод***  \n",
    "Объем выручки растет в обоих группах на протяжении всего теста. 18-19.08.19 в группе В наблюдается резки рост в сравнени с группой А, однако уже 20.08.22 рост выручки вернулся к прежней динамике. Это может сигнализировать о всплесках числа заказов, либо о появлении очень дорогих заказов в выборке. К окончанию теста общая выручка в группе В составила 5907760 руб., что на 1822957 руб. больше чем в группе А. Группа В так же лидировала по количеству заказов, их количество было равно 640, что на 83 больше чем в группе А. "
   ]
  },
  {
   "cell_type": "markdown",
   "metadata": {},
   "source": [
    "#### Оценка влияния неуникальных пользователей на кумулятивную выручку по группам"
   ]
  },
  {
   "cell_type": "code",
   "execution_count": 9,
   "metadata": {},
   "outputs": [
    {
     "data": {
      "text/plain": [
       "'Список из Id 58 неуникальных пользователей: [4069496402, 199603092, 3803269165] ...'"
      ]
     },
     "metadata": {},
     "output_type": "display_data"
    },
    {
     "data": {
      "text/plain": [
       "'Датасет visitors отфильтрованный по неуникальным пользователям'"
      ]
     },
     "metadata": {},
     "output_type": "display_data"
    },
    {
     "data": {
      "text/html": [
       "<div>\n",
       "<style scoped>\n",
       "    .dataframe tbody tr th:only-of-type {\n",
       "        vertical-align: middle;\n",
       "    }\n",
       "\n",
       "    .dataframe tbody tr th {\n",
       "        vertical-align: top;\n",
       "    }\n",
       "\n",
       "    .dataframe thead th {\n",
       "        text-align: right;\n",
       "    }\n",
       "</style>\n",
       "<table border=\"1\" class=\"dataframe\">\n",
       "  <thead>\n",
       "    <tr style=\"text-align: right;\">\n",
       "      <th></th>\n",
       "      <th>date</th>\n",
       "      <th>group</th>\n",
       "      <th>visitors</th>\n",
       "    </tr>\n",
       "  </thead>\n",
       "  <tbody>\n",
       "    <tr>\n",
       "      <th>0</th>\n",
       "      <td>2019-08-01</td>\n",
       "      <td>A</td>\n",
       "      <td>718</td>\n",
       "    </tr>\n",
       "    <tr>\n",
       "      <th>1</th>\n",
       "      <td>2019-08-02</td>\n",
       "      <td>A</td>\n",
       "      <td>618</td>\n",
       "    </tr>\n",
       "    <tr>\n",
       "      <th>2</th>\n",
       "      <td>2019-08-03</td>\n",
       "      <td>A</td>\n",
       "      <td>507</td>\n",
       "    </tr>\n",
       "  </tbody>\n",
       "</table>\n",
       "</div>"
      ],
      "text/plain": [
       "        date group  visitors\n",
       "0 2019-08-01     A       718\n",
       "1 2019-08-02     A       618\n",
       "2 2019-08-03     A       507"
      ]
     },
     "metadata": {},
     "output_type": "display_data"
    }
   ],
   "source": [
    "# фильтрация датасета orders на данные пользователей, участвующих в двух группах\n",
    "a_group = orders[orders['group']=='A']    \n",
    "b_group = orders[orders['group']=='B']    \n",
    "same_orders = a_group.merge(b_group, on='visitorId', how='inner')\n",
    "same_orders_set = same_orders[\"visitorId\"].unique().tolist()\n",
    "display(f'Список из Id {len(same_orders_set)} неуникальных пользователей: {same_orders_set[:3]} ...')\n",
    "\n",
    "# фильтрация датасета visitors на данные пользователей, участвующих в двух группах\n",
    "same_a_visit = same_orders[['date_x', 'group_x', 'visitorId']].drop_duplicates().rename(columns={'date_x':'date','group_x':'group','visitorId':'visitorId'})\n",
    "same_b_visit = same_orders[['date_y', 'group_y', 'visitorId']].drop_duplicates().rename(columns={'date_y':'date','group_y':'group','visitorId':'visitorId'})\n",
    "same_visit = pd.concat([same_a_visit,same_b_visit],axis=0)\n",
    "same_group_visit = same_visit.groupby(['date','group'],as_index=False)['visitorId'].count().sort_values(['date','group'])\n",
    "\n",
    "filter_visitors = visitors.merge(same_group_visit, on=['date','group'], how='outer').fillna(0)\n",
    "filter_visitors['visitors'] = (filter_visitors['visitors'] - filter_visitors['visitorId']).astype(int)\n",
    "filter_visitors = filter_visitors.drop('visitorId', axis=1)\n",
    "\n",
    "display('Датасет visitors отфильтрованный по неуникальным пользователям',filter_visitors.head(3))"
   ]
  },
  {
   "cell_type": "code",
   "execution_count": 10,
   "metadata": {},
   "outputs": [],
   "source": [
    "filtered_orders = orders.query('visitorId not in @same_orders_set')\n",
    "\n",
    "# создаем массив уникальных пар значений дат и групп теста (без неуникальных пользователей)\n",
    "datesGroups_filtered = filtered_orders[['date', 'group']].drop_duplicates() \n",
    "\n",
    "# получаем агрегированные кумулятивные по дням данные о заказах (без неуникальных пользователей)\n",
    "ordersAggregated_filtered = datesGroups_filtered.apply(\n",
    "    lambda x: filtered_orders[\n",
    "        np.logical_and(\n",
    "            filtered_orders['date'] <= x['date'], filtered_orders['group'] == x['group'] \n",
    "        )\n",
    "    ].agg(\n",
    "        {\n",
    "            'date': 'max',\n",
    "            'group': 'max',\n",
    "            'transactionId': 'nunique',\n",
    "            'visitorId': 'nunique',\n",
    "            'revenue': 'sum',\n",
    "        }\n",
    "    ),\n",
    "    axis=1,\n",
    ").sort_values(by=['date', 'group'])"
   ]
  },
  {
   "cell_type": "code",
   "execution_count": 11,
   "metadata": {},
   "outputs": [],
   "source": [
    "# получаем агрегированные кумулятивные по дням данные о посетителях интернет-магазина  (без неуникальных пользователей)\n",
    "visitorsAggregated_filtered = datesGroups_filtered.apply(\n",
    "    lambda x: filter_visitors[\n",
    "        np.logical_and(\n",
    "            filter_visitors['date'] <= x['date'], filter_visitors['group'] == x['group']\n",
    "        )\n",
    "    ].agg({'date': 'max', 'group': 'max', 'visitors': 'sum'}),\n",
    "    axis=1,\n",
    ").sort_values(by=['date', 'group'])\n",
    "\n",
    "\n",
    "# объединяем кумулятивные данные в одной таблице и присваиваем ее столбцам новые названия (без неуникальных пользователей)\n",
    "cumulativeData_filtered = ordersAggregated_filtered.merge(\n",
    "    visitorsAggregated_filtered, left_on=['date', 'group'], right_on=['date', 'group']\n",
    ")\n",
    "cumulativeData_filtered.columns = [\n",
    "    'date',\n",
    "    'group',\n",
    "    'orders',\n",
    "    'buyers',\n",
    "    'revenue',\n",
    "    'visitors',\n",
    "]"
   ]
  },
  {
   "cell_type": "code",
   "execution_count": 12,
   "metadata": {},
   "outputs": [
    {
     "data": {
      "text/html": [
       "<style type=\"text/css\">\n",
       "</style>\n",
       "<table id=\"T_2baf2_\" style='display:inline'>\n",
       "  <caption>Группа А</caption>\n",
       "  <thead>\n",
       "    <tr>\n",
       "      <th class=\"blank level0\" >&nbsp;</th>\n",
       "      <th class=\"col_heading level0 col0\" >index</th>\n",
       "      <th class=\"col_heading level0 col1\" >values</th>\n",
       "    </tr>\n",
       "  </thead>\n",
       "  <tbody>\n",
       "    <tr>\n",
       "      <th id=\"T_2baf2_level0_row0\" class=\"row_heading level0 row0\" >0</th>\n",
       "      <td id=\"T_2baf2_row0_col0\" class=\"data row0 col0\" >date</td>\n",
       "      <td id=\"T_2baf2_row0_col1\" class=\"data row0 col1\" >2019-08-31 00:00:00</td>\n",
       "    </tr>\n",
       "    <tr>\n",
       "      <th id=\"T_2baf2_level0_row1\" class=\"row_heading level0 row1\" >1</th>\n",
       "      <td id=\"T_2baf2_row1_col0\" class=\"data row1 col0\" >revenue</td>\n",
       "      <td id=\"T_2baf2_row1_col1\" class=\"data row1 col1\" >4084803</td>\n",
       "    </tr>\n",
       "    <tr>\n",
       "      <th id=\"T_2baf2_level0_row2\" class=\"row_heading level0 row2\" >2</th>\n",
       "      <td id=\"T_2baf2_row2_col0\" class=\"data row2 col0\" >orders</td>\n",
       "      <td id=\"T_2baf2_row2_col1\" class=\"data row2 col1\" >557</td>\n",
       "    </tr>\n",
       "  </tbody>\n",
       "</table>\n",
       "          <style type=\"text/css\">\n",
       "</style>\n",
       "<table id=\"T_c2684_\" style='display:inline'>\n",
       "  <caption>Группа А (без неуникальных пользователей)</caption>\n",
       "  <thead>\n",
       "    <tr>\n",
       "      <th class=\"blank level0\" >&nbsp;</th>\n",
       "      <th class=\"col_heading level0 col0\" >index</th>\n",
       "      <th class=\"col_heading level0 col1\" >values</th>\n",
       "    </tr>\n",
       "  </thead>\n",
       "  <tbody>\n",
       "    <tr>\n",
       "      <th id=\"T_c2684_level0_row0\" class=\"row_heading level0 row0\" >0</th>\n",
       "      <td id=\"T_c2684_row0_col0\" class=\"data row0 col0\" >date</td>\n",
       "      <td id=\"T_c2684_row0_col1\" class=\"data row0 col1\" >2019-08-31 00:00:00</td>\n",
       "    </tr>\n",
       "    <tr>\n",
       "      <th id=\"T_c2684_level0_row1\" class=\"row_heading level0 row1\" >1</th>\n",
       "      <td id=\"T_c2684_row1_col0\" class=\"data row1 col0\" >revenue</td>\n",
       "      <td id=\"T_c2684_row1_col1\" class=\"data row1 col1\" >3364656</td>\n",
       "    </tr>\n",
       "    <tr>\n",
       "      <th id=\"T_c2684_level0_row2\" class=\"row_heading level0 row2\" >2</th>\n",
       "      <td id=\"T_c2684_row2_col0\" class=\"data row2 col0\" >orders</td>\n",
       "      <td id=\"T_c2684_row2_col1\" class=\"data row2 col1\" >468</td>\n",
       "    </tr>\n",
       "  </tbody>\n",
       "</table>\n"
      ]
     },
     "metadata": {},
     "output_type": "display_data"
    },
    {
     "data": {
      "text/html": [
       "<style type=\"text/css\">\n",
       "</style>\n",
       "<table id=\"T_09cf3_\" style='display:inline'>\n",
       "  <caption>Группа В</caption>\n",
       "  <thead>\n",
       "    <tr>\n",
       "      <th class=\"blank level0\" >&nbsp;</th>\n",
       "      <th class=\"col_heading level0 col0\" >index</th>\n",
       "      <th class=\"col_heading level0 col1\" >values</th>\n",
       "    </tr>\n",
       "  </thead>\n",
       "  <tbody>\n",
       "    <tr>\n",
       "      <th id=\"T_09cf3_level0_row0\" class=\"row_heading level0 row0\" >0</th>\n",
       "      <td id=\"T_09cf3_row0_col0\" class=\"data row0 col0\" >date</td>\n",
       "      <td id=\"T_09cf3_row0_col1\" class=\"data row0 col1\" >2019-08-31 00:00:00</td>\n",
       "    </tr>\n",
       "    <tr>\n",
       "      <th id=\"T_09cf3_level0_row1\" class=\"row_heading level0 row1\" >1</th>\n",
       "      <td id=\"T_09cf3_row1_col0\" class=\"data row1 col0\" >revenue</td>\n",
       "      <td id=\"T_09cf3_row1_col1\" class=\"data row1 col1\" >5907760</td>\n",
       "    </tr>\n",
       "    <tr>\n",
       "      <th id=\"T_09cf3_level0_row2\" class=\"row_heading level0 row2\" >2</th>\n",
       "      <td id=\"T_09cf3_row2_col0\" class=\"data row2 col0\" >orders</td>\n",
       "      <td id=\"T_09cf3_row2_col1\" class=\"data row2 col1\" >640</td>\n",
       "    </tr>\n",
       "  </tbody>\n",
       "</table>\n",
       "          <style type=\"text/css\">\n",
       "</style>\n",
       "<table id=\"T_8adf6_\" style='display:inline'>\n",
       "  <caption>Группа В (без неуникальных пользователей)</caption>\n",
       "  <thead>\n",
       "    <tr>\n",
       "      <th class=\"blank level0\" >&nbsp;</th>\n",
       "      <th class=\"col_heading level0 col0\" >index</th>\n",
       "      <th class=\"col_heading level0 col1\" >values</th>\n",
       "    </tr>\n",
       "  </thead>\n",
       "  <tbody>\n",
       "    <tr>\n",
       "      <th id=\"T_8adf6_level0_row0\" class=\"row_heading level0 row0\" >0</th>\n",
       "      <td id=\"T_8adf6_row0_col0\" class=\"data row0 col0\" >date</td>\n",
       "      <td id=\"T_8adf6_row0_col1\" class=\"data row0 col1\" >2019-08-31 00:00:00</td>\n",
       "    </tr>\n",
       "    <tr>\n",
       "      <th id=\"T_8adf6_level0_row1\" class=\"row_heading level0 row1\" >1</th>\n",
       "      <td id=\"T_8adf6_row1_col0\" class=\"data row1 col0\" >revenue</td>\n",
       "      <td id=\"T_8adf6_row1_col1\" class=\"data row1 col1\" >5068972</td>\n",
       "    </tr>\n",
       "    <tr>\n",
       "      <th id=\"T_8adf6_level0_row2\" class=\"row_heading level0 row2\" >2</th>\n",
       "      <td id=\"T_8adf6_row2_col0\" class=\"data row2 col0\" >orders</td>\n",
       "      <td id=\"T_8adf6_row2_col1\" class=\"data row2 col1\" >548</td>\n",
       "    </tr>\n",
       "  </tbody>\n",
       "</table>\n"
      ]
     },
     "metadata": {},
     "output_type": "display_data"
    },
    {
     "data": {
      "text/plain": [
       "'Разница в общей выручке между группами А и В к окончанию теста (без неуникальных пользователей): -1704316'"
      ]
     },
     "metadata": {},
     "output_type": "display_data"
    },
    {
     "data": {
      "text/plain": [
       "'Разница в общем кол-ве заказов между группами А и В к окончанию теста (без неуникальных пользователей): -80'"
      ]
     },
     "metadata": {},
     "output_type": "display_data"
    },
    {
     "data": {
      "text/plain": [
       "'Влияние неуникальных пользователей на разницу выручки в группах: 6.5 %'"
      ]
     },
     "metadata": {},
     "output_type": "display_data"
    },
    {
     "data": {
      "text/plain": [
       "'Влияние неуникальных пользователей на разницу количества заказов в группах: 3.6 %'"
      ]
     },
     "metadata": {},
     "output_type": "display_data"
    }
   ],
   "source": [
    "# датасет с кумулятивным количеством заказов и кумулятивной выручкой по дням в группе А (без неуникальных пользователей)\n",
    "cumulativeRevenueA_filtered = cumulativeData_filtered[cumulativeData_filtered['group']=='A'][['date','revenue', 'orders']]\n",
    "\n",
    "# датасет с кумулятивным количеством заказов и кумулятивной выручкой по дням в группе B (без неуникальных пользователей)\n",
    "cumulativeRevenueB_filtered = cumulativeData_filtered[cumulativeData_filtered['group']=='B'][['date','revenue', 'orders']]\n",
    "\n",
    "# Вывод таблиц для наглядности\n",
    "cumulativeRevenueA_filtered_max = cumulativeRevenueA_filtered.max().to_frame(name='values').reset_index()\n",
    "cumulativeRevenueB_filtered_max = cumulativeRevenueB_filtered.max().to_frame(name='values').reset_index()\n",
    "\n",
    "cumulativeRevenueA_filtered_max_styler = cumulativeRevenueA_filtered_max.style.set_table_attributes(\"style='display:inline'\").set_caption('Группа А (без неуникальных пользователей)')\n",
    "cumulativeRevenueB_filtered_max_styler = cumulativeRevenueB_filtered_max.style.set_table_attributes(\"style='display:inline'\").set_caption('Группа В (без неуникальных пользователей)')\n",
    "\n",
    "space = \"\\xa0\" * 10\n",
    "display_html(cumulativeRevenueA_max_styler._repr_html_()+space+cumulativeRevenueA_filtered_max_styler._repr_html_(), raw=True)\n",
    "display_html(cumulativeRevenueB_max_styler._repr_html_()+space+cumulativeRevenueB_filtered_max_styler._repr_html_(), raw=True)\n",
    "\n",
    "dif_reven_filtered = cumulativeRevenueA_filtered.max()[1]-cumulativeRevenueB_filtered.max()[1]\n",
    "display(f'Разница в общей выручке между группами А и В к окончанию теста (без неуникальных пользователей): {dif_reven_filtered}')\n",
    "dif_order_filtered = cumulativeRevenueA_filtered.max()[2]-cumulativeRevenueB_filtered.max()[2]\n",
    "display(f'Разница в общем кол-ве заказов между группами А и В к окончанию теста (без неуникальных пользователей): {dif_order_filtered}')\n",
    "        \n",
    "\n",
    "display(f'Влияние неуникальных пользователей на разницу выручки в группах: {round((1-(dif_reven_filtered/dif_reven))*100,1)} %')\n",
    "display(f'Влияние неуникальных пользователей на разницу количества заказов в группах: {round((1-(dif_order_filtered/dif_order))*100,1)} %')"
   ]
  },
  {
   "cell_type": "code",
   "execution_count": 13,
   "metadata": {},
   "outputs": [
    {
     "data": {
      "image/png": "[encoded data removed]",
      "text/plain": [
       "<Figure size 864x504 with 1 Axes>"
      ]
     },
     "metadata": {
      "needs_background": "light"
     },
     "output_type": "display_data"
    }
   ],
   "source": [
    "# Строим графики выручки групп (без неуникальных пользователей)\n",
    "plt.figure(figsize=(12,7))\n",
    "plt.plot(cumulativeRevenueA_filtered['date'], cumulativeRevenueA_filtered['revenue'], label='A')\n",
    "plt.plot(cumulativeRevenueB_filtered['date'], cumulativeRevenueB_filtered['revenue'], label='B')\n",
    "plt.grid()\n",
    "plt.legend() \n",
    "plt.title('Кумулятивный график выручки (без неуникальных пользователей)')\n",
    "plt.ylabel(\"Выручка - руб. х 10^6\")\n",
    "plt.xticks(rotation=90)\n",
    "plt.show()"
   ]
  },
  {
   "cell_type": "markdown",
   "metadata": {},
   "source": [
    "***Вывод***   \n",
    "\n",
    "Удаление неуникальных пользователей сократило разницу в общей выручке между группами на 6.5%, а количество заказов на 3.6%, однако не повлияло на тенденции графика кумулятивной выручки. Учитывая вышеизложенное, данной погрешностью допустимо пренебречь и сохранить данные всех пользователей для дальнейшего анализа. "
   ]
  },
  {
   "cell_type": "markdown",
   "metadata": {},
   "source": [
    "### Кумулятивный средний чек по группам. Выводы и предположения.  "
   ]
  },
  {
   "cell_type": "code",
   "execution_count": 14,
   "metadata": {},
   "outputs": [
    {
     "data": {
      "image/png": "[encoded data removed]",
      "text/plain": [
       "<Figure size 864x504 with 1 Axes>"
      ]
     },
     "metadata": {
      "needs_background": "light"
     },
     "output_type": "display_data"
    }
   ],
   "source": [
    "plt.figure(figsize=(12,7))\n",
    "plt.plot(cumulativeRevenueA['date'], cumulativeRevenueA['revenue']/cumulativeRevenueA['orders'], label='A')\n",
    "plt.plot(cumulativeRevenueB['date'], cumulativeRevenueB['revenue']/cumulativeRevenueB['orders'], label='B')\n",
    "plt.grid()\n",
    "plt.legend() \n",
    "plt.title('Кумулятивный средний чек')\n",
    "plt.ylabel(\"Средний чек, руб.\")\n",
    "plt.xticks(rotation=90)\n",
    "plt.show()"
   ]
  },
  {
   "cell_type": "markdown",
   "metadata": {},
   "source": [
    "***Вывод***  \n",
    "Средний чек группы B к 13.08.19 достигает 7000 руб. и поддерживается на близком к этому уровню до конца теста. Средний чек группы А с 08.08.19 по 18.08.19 так же был близок к 7000 р., однако 18-19.09.19 отмечается резкое увеличение показателя почти в 1,5 раза, после чего наблюдается тенденция к снижению данного показателя и для получения данных, отражающих реальную ситуацию требуется либо больше данных либо удалить выбросы. Такое изменение кумулятивного среднего чека свидетельствует о вероятном наличии выбросов в данных в виде наличия заказов высокой стоимости."
   ]
  },
  {
   "cell_type": "markdown",
   "metadata": {},
   "source": [
    "#### Оценка влияния неуникальных пользователей на средний чек"
   ]
  },
  {
   "cell_type": "code",
   "execution_count": 15,
   "metadata": {},
   "outputs": [
    {
     "data": {
      "image/png": "[encoded data removed]",
      "text/plain": [
       "<Figure size 864x504 with 1 Axes>"
      ]
     },
     "metadata": {
      "needs_background": "light"
     },
     "output_type": "display_data"
    }
   ],
   "source": [
    "plt.figure(figsize=(12,7))\n",
    "plt.plot(cumulativeRevenueA_filtered['date'], cumulativeRevenueA_filtered['revenue']/cumulativeRevenueA_filtered['orders'], label='A')\n",
    "plt.plot(cumulativeRevenueB_filtered['date'], cumulativeRevenueB_filtered['revenue']/cumulativeRevenueB_filtered['orders'], label='B')\n",
    "plt.grid()\n",
    "plt.legend() \n",
    "plt.title('Кумулятивный средний чек (без неуникальных пользователей)')\n",
    "plt.ylabel(\"Средний чек, руб.\")\n",
    "plt.xticks(rotation=90)\n",
    "plt.show()"
   ]
  },
  {
   "cell_type": "markdown",
   "metadata": {},
   "source": [
    "***Вывод***  \n",
    "\n",
    "Согласно графику 'Кумулятивный средний чек (без неуникальных пользователей)' изменений тенденций по наблюдаемому показателю не наблюдается, что делает допустимым сохранить данные всех пользователей для дальнейшего анализа. "
   ]
  },
  {
   "cell_type": "markdown",
   "metadata": {},
   "source": [
    "### Относительное изменение кумулятивного среднего чека группы B к группе A. Выводы и предположения.  "
   ]
  },
  {
   "cell_type": "code",
   "execution_count": 16,
   "metadata": {},
   "outputs": [
    {
     "data": {
      "text/html": [
       "<div>\n",
       "<style scoped>\n",
       "    .dataframe tbody tr th:only-of-type {\n",
       "        vertical-align: middle;\n",
       "    }\n",
       "\n",
       "    .dataframe tbody tr th {\n",
       "        vertical-align: top;\n",
       "    }\n",
       "\n",
       "    .dataframe thead th {\n",
       "        text-align: right;\n",
       "    }\n",
       "</style>\n",
       "<table border=\"1\" class=\"dataframe\">\n",
       "  <thead>\n",
       "    <tr style=\"text-align: right;\">\n",
       "      <th></th>\n",
       "      <th>date</th>\n",
       "      <th>revenueA</th>\n",
       "      <th>ordersA</th>\n",
       "      <th>revenueB</th>\n",
       "      <th>ordersB</th>\n",
       "    </tr>\n",
       "  </thead>\n",
       "  <tbody>\n",
       "    <tr>\n",
       "      <th>0</th>\n",
       "      <td>2019-08-01</td>\n",
       "      <td>148579</td>\n",
       "      <td>24</td>\n",
       "      <td>101217</td>\n",
       "      <td>21</td>\n",
       "    </tr>\n",
       "    <tr>\n",
       "      <th>1</th>\n",
       "      <td>2019-08-02</td>\n",
       "      <td>242401</td>\n",
       "      <td>44</td>\n",
       "      <td>266748</td>\n",
       "      <td>45</td>\n",
       "    </tr>\n",
       "    <tr>\n",
       "      <th>2</th>\n",
       "      <td>2019-08-03</td>\n",
       "      <td>354874</td>\n",
       "      <td>68</td>\n",
       "      <td>380996</td>\n",
       "      <td>61</td>\n",
       "    </tr>\n",
       "  </tbody>\n",
       "</table>\n",
       "</div>"
      ],
      "text/plain": [
       "        date  revenueA  ordersA  revenueB  ordersB\n",
       "0 2019-08-01    148579       24    101217       21\n",
       "1 2019-08-02    242401       44    266748       45\n",
       "2 2019-08-03    354874       68    380996       61"
      ]
     },
     "metadata": {},
     "output_type": "display_data"
    },
    {
     "data": {
      "image/png": "[encoded data removed]",
      "text/plain": [
       "<Figure size 864x504 with 1 Axes>"
      ]
     },
     "metadata": {
      "needs_background": "light"
     },
     "output_type": "display_data"
    }
   ],
   "source": [
    "# собираем данные в одном датафрейме\n",
    "mergedCumulativeRevenue = cumulativeRevenueA.merge(cumulativeRevenueB, left_on='date', right_on='date', how='left', suffixes=['A', 'B'])\n",
    "\n",
    "display(mergedCumulativeRevenue.head(3))\n",
    "\n",
    "# cтроим отношение средних чеков\n",
    "plt.figure(figsize=(12,7))\n",
    "plt.plot(mergedCumulativeRevenue['date'], (mergedCumulativeRevenue['revenueB']/mergedCumulativeRevenue['ordersB'])/(mergedCumulativeRevenue['revenueA']/mergedCumulativeRevenue['ordersA'])-1)\n",
    "plt.axhline(y=0, color='black', linestyle='--') \n",
    "plt.grid()\n",
    "plt.title('Отношение кумулятивного среднего чека группы B к группе A.')\n",
    "plt.xticks(rotation=90)\n",
    "plt.show()"
   ]
  },
  {
   "cell_type": "markdown",
   "metadata": {},
   "source": [
    "***Вывод***  \n",
    "При анализе графика отношения среднего кумулятивного чека группы В к группе А можно выделить два периода выраженных отличий: с 05 по 09.08.19 и с 19.08.19 до конца теста. Выбросы в результатах теста, вероятно, находятся именно в этих интервалах."
   ]
  },
  {
   "cell_type": "markdown",
   "metadata": {},
   "source": [
    "### Кумулятивная конверсия по группам. Выводы и предположения.  "
   ]
  },
  {
   "cell_type": "code",
   "execution_count": 17,
   "metadata": {},
   "outputs": [
    {
     "data": {
      "text/html": [
       "<div>\n",
       "<style scoped>\n",
       "    .dataframe tbody tr th:only-of-type {\n",
       "        vertical-align: middle;\n",
       "    }\n",
       "\n",
       "    .dataframe tbody tr th {\n",
       "        vertical-align: top;\n",
       "    }\n",
       "\n",
       "    .dataframe thead th {\n",
       "        text-align: right;\n",
       "    }\n",
       "</style>\n",
       "<table border=\"1\" class=\"dataframe\">\n",
       "  <thead>\n",
       "    <tr style=\"text-align: right;\">\n",
       "      <th></th>\n",
       "      <th>date</th>\n",
       "      <th>group</th>\n",
       "      <th>orders</th>\n",
       "      <th>buyers</th>\n",
       "      <th>revenue</th>\n",
       "      <th>visitors</th>\n",
       "      <th>conversion</th>\n",
       "    </tr>\n",
       "  </thead>\n",
       "  <tbody>\n",
       "    <tr>\n",
       "      <th>0</th>\n",
       "      <td>2019-08-01</td>\n",
       "      <td>A</td>\n",
       "      <td>24</td>\n",
       "      <td>20</td>\n",
       "      <td>148579</td>\n",
       "      <td>719</td>\n",
       "      <td>0.033380</td>\n",
       "    </tr>\n",
       "    <tr>\n",
       "      <th>1</th>\n",
       "      <td>2019-08-01</td>\n",
       "      <td>B</td>\n",
       "      <td>21</td>\n",
       "      <td>20</td>\n",
       "      <td>101217</td>\n",
       "      <td>713</td>\n",
       "      <td>0.029453</td>\n",
       "    </tr>\n",
       "    <tr>\n",
       "      <th>2</th>\n",
       "      <td>2019-08-02</td>\n",
       "      <td>A</td>\n",
       "      <td>44</td>\n",
       "      <td>38</td>\n",
       "      <td>242401</td>\n",
       "      <td>1338</td>\n",
       "      <td>0.032885</td>\n",
       "    </tr>\n",
       "  </tbody>\n",
       "</table>\n",
       "</div>"
      ],
      "text/plain": [
       "        date group  orders  buyers  revenue  visitors  conversion\n",
       "0 2019-08-01     A      24      20   148579       719    0.033380\n",
       "1 2019-08-01     B      21      20   101217       713    0.029453\n",
       "2 2019-08-02     A      44      38   242401      1338    0.032885"
      ]
     },
     "metadata": {},
     "output_type": "display_data"
    },
    {
     "data": {
      "image/png": "[encoded data removed]",
      "text/plain": [
       "<Figure size 864x504 with 1 Axes>"
      ]
     },
     "metadata": {
      "needs_background": "light"
     },
     "output_type": "display_data"
    }
   ],
   "source": [
    "# считаем кумулятивную конверсию\n",
    "cumulativeData['conversion'] = cumulativeData['orders']/cumulativeData['visitors']\n",
    "\n",
    "display(cumulativeData.head(3))\n",
    "\n",
    "# отделяем данные по группе A\n",
    "cumulativeDataA = cumulativeData[cumulativeData['group']=='A']\n",
    "\n",
    "# отделяем данные по группе B\n",
    "cumulativeDataB = cumulativeData[cumulativeData['group']=='B']\n",
    "\n",
    "# строим графики\n",
    "plt.figure(figsize=(12,7))\n",
    "plt.plot(cumulativeDataA['date'], cumulativeDataA['conversion'], label='A')\n",
    "plt.plot(cumulativeDataB['date'], cumulativeDataB['conversion'], label='B')\n",
    "plt.title('Кумулятивная конверсия по группам.')\n",
    "plt.grid()\n",
    "plt.legend() \n",
    "plt.xticks(rotation=90)\n",
    "plt.show()\n",
    " \n"
   ]
  },
  {
   "cell_type": "markdown",
   "metadata": {},
   "source": [
    "***Вывод***  \n",
    "Согласно графику кумулятивной конверсии после первой недели теста группа В превосходит группу А. Таким образом данный показатель для группы В варьирует на уровне 3,4%, в то время как для группы А на уровне 3,0%."
   ]
  },
  {
   "cell_type": "markdown",
   "metadata": {},
   "source": [
    "#### Оценка влияния неуникальных пользователей на конверсию"
   ]
  },
  {
   "cell_type": "code",
   "execution_count": 18,
   "metadata": {},
   "outputs": [
    {
     "data": {
      "image/png": "[encoded data removed]",
      "text/plain": [
       "<Figure size 864x504 with 1 Axes>"
      ]
     },
     "metadata": {
      "needs_background": "light"
     },
     "output_type": "display_data"
    }
   ],
   "source": [
    "# считаем кумулятивную конверсию (без неуникальных пользователей)'\n",
    "cumulativeData_filtered['conversion'] = cumulativeData_filtered['orders']/cumulativeData_filtered['visitors']\n",
    "\n",
    "# отделяем данные по группе A\n",
    "cumulativeData_filtered_A = cumulativeData_filtered[cumulativeData_filtered['group']=='A']\n",
    "\n",
    "# отделяем данные по группе B\n",
    "cumulativeData_filtered_B = cumulativeData_filtered[cumulativeData_filtered['group']=='B']\n",
    "\n",
    "# строим графики (без неуникальных пользователей)'\n",
    "plt.figure(figsize=(12,7))\n",
    "plt.plot(cumulativeData_filtered_A['date'], cumulativeData_filtered_A['conversion'], label='A')\n",
    "plt.plot(cumulativeData_filtered_B['date'], cumulativeData_filtered_B['conversion'], label='B')\n",
    "plt.title('Кумулятивная конверсия по группам (без неуникальных пользователей)')\n",
    "plt.grid()\n",
    "plt.legend() \n",
    "plt.xticks(rotation=90)\n",
    "plt.show()"
   ]
  },
  {
   "cell_type": "markdown",
   "metadata": {},
   "source": [
    "***Вывод***  \n",
    "\n",
    "После удаления неуникальных пользователей конверсия снизилась в обеих группах, однако это не повлияло на тенденции графика 'Кумулятивная конверсия по группам', таким образом к окончанию теста конверсия в группе А варьировала на уровне 2.5 % (ранее 3.0%), а конверсия группы В на уровне 2,9 % (ранее 3.4%). Учитывая приведенные данные допустимо сохранить данные всех пользователей для дальнейшего анализа."
   ]
  },
  {
   "cell_type": "markdown",
   "metadata": {},
   "source": [
    "### Относительное изменение кумулятивной конверсии группы B к группе A. Выводы и предположения.  "
   ]
  },
  {
   "cell_type": "code",
   "execution_count": 19,
   "metadata": {},
   "outputs": [
    {
     "data": {
      "text/html": [
       "<div>\n",
       "<style scoped>\n",
       "    .dataframe tbody tr th:only-of-type {\n",
       "        vertical-align: middle;\n",
       "    }\n",
       "\n",
       "    .dataframe tbody tr th {\n",
       "        vertical-align: top;\n",
       "    }\n",
       "\n",
       "    .dataframe thead th {\n",
       "        text-align: right;\n",
       "    }\n",
       "</style>\n",
       "<table border=\"1\" class=\"dataframe\">\n",
       "  <thead>\n",
       "    <tr style=\"text-align: right;\">\n",
       "      <th></th>\n",
       "      <th>date</th>\n",
       "      <th>conversionA</th>\n",
       "      <th>conversionB</th>\n",
       "    </tr>\n",
       "  </thead>\n",
       "  <tbody>\n",
       "    <tr>\n",
       "      <th>0</th>\n",
       "      <td>2019-08-01</td>\n",
       "      <td>0.033380</td>\n",
       "      <td>0.029453</td>\n",
       "    </tr>\n",
       "    <tr>\n",
       "      <th>1</th>\n",
       "      <td>2019-08-02</td>\n",
       "      <td>0.032885</td>\n",
       "      <td>0.034776</td>\n",
       "    </tr>\n",
       "    <tr>\n",
       "      <th>2</th>\n",
       "      <td>2019-08-03</td>\n",
       "      <td>0.036856</td>\n",
       "      <td>0.033833</td>\n",
       "    </tr>\n",
       "  </tbody>\n",
       "</table>\n",
       "</div>"
      ],
      "text/plain": [
       "        date  conversionA  conversionB\n",
       "0 2019-08-01     0.033380     0.029453\n",
       "1 2019-08-02     0.032885     0.034776\n",
       "2 2019-08-03     0.036856     0.033833"
      ]
     },
     "metadata": {},
     "output_type": "display_data"
    },
    {
     "data": {
      "image/png": "[encoded data removed]",
      "text/plain": [
       "<Figure size 864x504 with 1 Axes>"
      ]
     },
     "metadata": {
      "needs_background": "light"
     },
     "output_type": "display_data"
    }
   ],
   "source": [
    "mergedCumulativeConversions = cumulativeDataA[['date','conversion']].merge(cumulativeDataB[['date','conversion']], left_on='date', right_on='date', how='left', suffixes=['A', 'B'])\n",
    "\n",
    "display(mergedCumulativeConversions.head(3))\n",
    "\n",
    "plt.figure(figsize=(12,7))\n",
    "plt.plot(mergedCumulativeConversions['date'], mergedCumulativeConversions['conversionB']/mergedCumulativeConversions['conversionA']-1, label=\"Относительный прирост конверсии группы B относительно группы A\")\n",
    "plt.legend()\n",
    "plt.axhline(y=0, color='black', linestyle='--')\n",
    "plt.axhline(y=-0.1, color='grey', linestyle='--')\n",
    "plt.title('Отношение кумулятивной конверсии группы B к группе A')\n",
    "plt.grid()\n",
    "plt.xticks(rotation=90)\n",
    "plt.show()"
   ]
  },
  {
   "cell_type": "markdown",
   "metadata": {},
   "source": [
    "***Вывод***  \n",
    "Согласно графику \"Отношение кумулятивной конверсии группы B к группе A\" к окончанию теста конверсия в группе В превышает конверсию в группе А на 10-15%."
   ]
  },
  {
   "cell_type": "markdown",
   "metadata": {},
   "source": [
    "### Количество заказов по пользователям. Выводы и предположения.  "
   ]
  },
  {
   "cell_type": "code",
   "execution_count": 20,
   "metadata": {},
   "outputs": [
    {
     "data": {
      "text/html": [
       "<div>\n",
       "<style scoped>\n",
       "    .dataframe tbody tr th:only-of-type {\n",
       "        vertical-align: middle;\n",
       "    }\n",
       "\n",
       "    .dataframe tbody tr th {\n",
       "        vertical-align: top;\n",
       "    }\n",
       "\n",
       "    .dataframe thead th {\n",
       "        text-align: right;\n",
       "    }\n",
       "</style>\n",
       "<table border=\"1\" class=\"dataframe\">\n",
       "  <thead>\n",
       "    <tr style=\"text-align: right;\">\n",
       "      <th></th>\n",
       "      <th>visitors</th>\n",
       "      <th>orders</th>\n",
       "    </tr>\n",
       "  </thead>\n",
       "  <tbody>\n",
       "    <tr>\n",
       "      <th>1023</th>\n",
       "      <td>4256040402</td>\n",
       "      <td>11</td>\n",
       "    </tr>\n",
       "    <tr>\n",
       "      <th>591</th>\n",
       "      <td>2458001652</td>\n",
       "      <td>11</td>\n",
       "    </tr>\n",
       "    <tr>\n",
       "      <th>569</th>\n",
       "      <td>2378935119</td>\n",
       "      <td>9</td>\n",
       "    </tr>\n",
       "  </tbody>\n",
       "</table>\n",
       "</div>"
      ],
      "text/plain": [
       "        visitors  orders\n",
       "1023  4256040402      11\n",
       "591   2458001652      11\n",
       "569   2378935119       9"
      ]
     },
     "metadata": {},
     "output_type": "display_data"
    },
    {
     "data": {
      "text/plain": [
       "'Наименьшее количество заказов : 1. Наибольшее количество заказов 11'"
      ]
     },
     "metadata": {},
     "output_type": "display_data"
    },
    {
     "data": {
      "image/png": "[encoded data removed]",
      "text/plain": [
       "<Figure size 864x504 with 1 Axes>"
      ]
     },
     "metadata": {
      "needs_background": "light"
     },
     "output_type": "display_data"
    }
   ],
   "source": [
    "ordersByUsers = (\n",
    "    orders.groupby('visitorId', as_index=False)\n",
    "    .agg({'transactionId': 'nunique'})\n",
    ")\n",
    "\n",
    "ordersByUsers.columns = ['visitors', 'orders']\n",
    "\n",
    "display(ordersByUsers.sort_values(by='orders', ascending=False).head(3)) \n",
    "display(f'Наименьшее количество заказов : {ordersByUsers[\"orders\"].min()}. Наибольшее количество заказов {ordersByUsers[\"orders\"].max()}')\n",
    "\n",
    "quant_values = pd.Series(range(0,len(ordersByUsers)))\n",
    "\n",
    "plt.figure(figsize=(12,7))\n",
    "plt.scatter(quant_values, ordersByUsers['orders']) \n",
    "plt.grid()\n",
    "plt.title('Количество заказов по пользователям')\n",
    "plt.ylabel(\"Количество заказов\")\n",
    "plt.xlabel('Пользователь')\n",
    "plt.xticks(rotation=90)\n",
    "plt.show()"
   ]
  },
  {
   "cell_type": "markdown",
   "metadata": {},
   "source": [
    "***Вывод***  \n",
    "Согласно графику \"Количество заказов по пользователям\" большинство пользователей совершают до 2 заказов. На вопрос считать ли данные о пользователях совершивших больше 2 заказов аномалиями можно ответить определив выборочные процентили количества заказов на одного пользователя."
   ]
  },
  {
   "cell_type": "markdown",
   "metadata": {},
   "source": [
    "### Расчет 95-й и 99-й перцентилей количества заказов на пользователя. Выбор границы для определения аномальных пользователей.  "
   ]
  },
  {
   "cell_type": "code",
   "execution_count": 21,
   "metadata": {},
   "outputs": [
    {
     "data": {
      "text/plain": [
       "array([1., 2., 4.])"
      ]
     },
     "metadata": {},
     "output_type": "display_data"
    }
   ],
   "source": [
    "percentile_orders = np.percentile(ordersByUsers['orders'], [90, 95, 99])\n",
    "display(percentile_orders) "
   ]
  },
  {
   "cell_type": "markdown",
   "metadata": {},
   "source": [
    "***Вывод***  \n",
    "Не более 5% пользователей оформляли больше чем 2 заказа. И 1% пользователей заказывали более 4 раз.\n",
    "Разумно выбрать 2 заказа на одного пользователя за верхнюю границу числа заказов, и отсеять аномальне даные по ней. "
   ]
  },
  {
   "cell_type": "markdown",
   "metadata": {},
   "source": [
    "#### Оценка влияния неуникальных пользователей на количество заказов и выбор границы для определения аномальных пользователей"
   ]
  },
  {
   "cell_type": "code",
   "execution_count": 22,
   "metadata": {},
   "outputs": [
    {
     "data": {
      "text/html": [
       "<div>\n",
       "<style scoped>\n",
       "    .dataframe tbody tr th:only-of-type {\n",
       "        vertical-align: middle;\n",
       "    }\n",
       "\n",
       "    .dataframe tbody tr th {\n",
       "        vertical-align: top;\n",
       "    }\n",
       "\n",
       "    .dataframe thead th {\n",
       "        text-align: right;\n",
       "    }\n",
       "</style>\n",
       "<table border=\"1\" class=\"dataframe\">\n",
       "  <thead>\n",
       "    <tr style=\"text-align: right;\">\n",
       "      <th></th>\n",
       "      <th>visitors</th>\n",
       "      <th>orders</th>\n",
       "    </tr>\n",
       "  </thead>\n",
       "  <tbody>\n",
       "    <tr>\n",
       "      <th>908</th>\n",
       "      <td>3967698036</td>\n",
       "      <td>3</td>\n",
       "    </tr>\n",
       "    <tr>\n",
       "      <th>55</th>\n",
       "      <td>249864742</td>\n",
       "      <td>3</td>\n",
       "    </tr>\n",
       "    <tr>\n",
       "      <th>478</th>\n",
       "      <td>2108163459</td>\n",
       "      <td>3</td>\n",
       "    </tr>\n",
       "  </tbody>\n",
       "</table>\n",
       "</div>"
      ],
      "text/plain": [
       "       visitors  orders\n",
       "908  3967698036       3\n",
       "55    249864742       3\n",
       "478  2108163459       3"
      ]
     },
     "metadata": {},
     "output_type": "display_data"
    },
    {
     "data": {
      "text/plain": [
       "'Наименьшее количество заказов : 1. Наибольшее количество заказов 3'"
      ]
     },
     "metadata": {},
     "output_type": "display_data"
    },
    {
     "data": {
      "image/png": "[encoded data removed]",
      "text/plain": [
       "<Figure size 864x504 with 1 Axes>"
      ]
     },
     "metadata": {
      "needs_background": "light"
     },
     "output_type": "display_data"
    },
    {
     "data": {
      "text/plain": [
       "array([1., 1., 2.])"
      ]
     },
     "metadata": {},
     "output_type": "display_data"
    }
   ],
   "source": [
    "ordersByUsers_filtered = (\n",
    "    filtered_orders.groupby('visitorId', as_index=False)\n",
    "    .agg({'transactionId': 'nunique'})\n",
    ")\n",
    "\n",
    "ordersByUsers_filtered.columns = ['visitors', 'orders']\n",
    "\n",
    "display(ordersByUsers_filtered.sort_values(by='orders', ascending=False).head(3)) \n",
    "display(f'Наименьшее количество заказов : {ordersByUsers_filtered[\"orders\"].min()}. Наибольшее количество заказов {ordersByUsers_filtered[\"orders\"].max()}')\n",
    "\n",
    "quant_values_filtered = pd.Series(range(0,len(ordersByUsers_filtered)))\n",
    "\n",
    "plt.figure(figsize=(12,7))\n",
    "plt.scatter(quant_values_filtered, ordersByUsers_filtered['orders']) \n",
    "plt.grid()\n",
    "plt.title('Количество заказов по пользователям (без неуникальных пользователей)')\n",
    "plt.ylabel(\"Количество заказов\")\n",
    "plt.xlabel('Пользователь')\n",
    "plt.xticks(rotation=90)\n",
    "plt.show()\n",
    "\n",
    "percentile_orders_filtered = np.percentile(ordersByUsers_filtered['orders'], [90, 95, 99])\n",
    "display(percentile_orders_filtered) "
   ]
  },
  {
   "cell_type": "markdown",
   "metadata": {},
   "source": [
    "***Вывод***  \n",
    "После удаления неуникальных пользователей наибольшее количество заказов снизилось с 11 до 3, что в свою очередь повлияло на распределение процинтелей, таким образом теперь не более 5% пользователей совершали 1 заказ. Влияние снижения данного показателя на общие выводы будут дополнительно проверены."
   ]
  },
  {
   "cell_type": "markdown",
   "metadata": {},
   "source": [
    "### Стоимость заказов. Выводы и предположения.  \n"
   ]
  },
  {
   "cell_type": "code",
   "execution_count": 23,
   "metadata": {},
   "outputs": [
    {
     "data": {
      "text/html": [
       "<div>\n",
       "<style scoped>\n",
       "    .dataframe tbody tr th:only-of-type {\n",
       "        vertical-align: middle;\n",
       "    }\n",
       "\n",
       "    .dataframe tbody tr th {\n",
       "        vertical-align: top;\n",
       "    }\n",
       "\n",
       "    .dataframe thead th {\n",
       "        text-align: right;\n",
       "    }\n",
       "</style>\n",
       "<table border=\"1\" class=\"dataframe\">\n",
       "  <thead>\n",
       "    <tr style=\"text-align: right;\">\n",
       "      <th></th>\n",
       "      <th>transactionId</th>\n",
       "      <th>visitorId</th>\n",
       "      <th>date</th>\n",
       "      <th>revenue</th>\n",
       "      <th>group</th>\n",
       "    </tr>\n",
       "  </thead>\n",
       "  <tbody>\n",
       "    <tr>\n",
       "      <th>0</th>\n",
       "      <td>3667963787</td>\n",
       "      <td>3312258926</td>\n",
       "      <td>2019-08-15</td>\n",
       "      <td>1650</td>\n",
       "      <td>B</td>\n",
       "    </tr>\n",
       "    <tr>\n",
       "      <th>1</th>\n",
       "      <td>2804400009</td>\n",
       "      <td>3642806036</td>\n",
       "      <td>2019-08-15</td>\n",
       "      <td>730</td>\n",
       "      <td>B</td>\n",
       "    </tr>\n",
       "    <tr>\n",
       "      <th>2</th>\n",
       "      <td>2961555356</td>\n",
       "      <td>4069496402</td>\n",
       "      <td>2019-08-15</td>\n",
       "      <td>400</td>\n",
       "      <td>A</td>\n",
       "    </tr>\n",
       "  </tbody>\n",
       "</table>\n",
       "</div>"
      ],
      "text/plain": [
       "   transactionId   visitorId       date  revenue group\n",
       "0     3667963787  3312258926 2019-08-15     1650     B\n",
       "1     2804400009  3642806036 2019-08-15      730     B\n",
       "2     2961555356  4069496402 2019-08-15      400     A"
      ]
     },
     "metadata": {},
     "output_type": "display_data"
    },
    {
     "data": {
      "image/png": "[encoded data removed]",
      "text/plain": [
       "<Figure size 864x504 with 1 Axes>"
      ]
     },
     "metadata": {
      "needs_background": "light"
     },
     "output_type": "display_data"
    }
   ],
   "source": [
    "display(orders.head(3))\n",
    "\n",
    "plt.figure(figsize=(12,7))\n",
    "plt.hist(orders['revenue']) \n",
    "plt.title('Распределение стоимостей заказов ')\n",
    "plt.ylabel(\"Количество наблюдений\")\n",
    "plt.xlabel('Стоимость, руб. х 10^6')\n",
    "plt.xticks(rotation=90)\n",
    "plt.show()"
   ]
  },
  {
   "cell_type": "code",
   "execution_count": 24,
   "metadata": {
    "scrolled": false
   },
   "outputs": [
    {
     "data": {
      "image/png": "[encoded data removed]",
      "text/plain": [
       "<Figure size 864x360 with 1 Axes>"
      ]
     },
     "metadata": {
      "needs_background": "light"
     },
     "output_type": "display_data"
    },
    {
     "data": {
      "image/png": "[encoded data removed]",
      "text/plain": [
       "<Figure size 864x360 with 1 Axes>"
      ]
     },
     "metadata": {
      "needs_background": "light"
     },
     "output_type": "display_data"
    }
   ],
   "source": [
    "x_values = pd.Series(range(0,len(orders['revenue'])))\n",
    "x_trunc = pd.Series(range(0,len(orders.query('revenue <200000')['revenue'])))\n",
    "\n",
    "plt.figure(figsize=(12,5))\n",
    "plt.scatter(x_values, orders['revenue']) \n",
    "plt.title('Распределение стоимостей заказов (всех)')\n",
    "plt.xlabel('Заказы')\n",
    "plt.ylabel(\"Стоимость, руб. х 10^6\")\n",
    "plt.xticks(rotation=90)\n",
    "plt.show()\n",
    "\n",
    "plt.figure(figsize=(12,5))\n",
    "plt.scatter(x_trunc, orders.query('revenue <200000')['revenue']) \n",
    "plt.title('Распределение стоимостей заказов до 200000 руб.')\n",
    "plt.xlabel('Заказы')\n",
    "plt.ylabel(\"Стоимость, руб. х 10^6\")\n",
    "plt.xticks(rotation=90)\n",
    "plt.show()"
   ]
  },
  {
   "cell_type": "markdown",
   "metadata": {},
   "source": [
    "***Вывод***  \n",
    "Согласно графикам \"Распределение стоимости заказов\" возможно определить 2 значительно отличающихся от общей выборки заказа, стоимостью около 200000 руб и 12 млн.руб. Однако для того чтобы определить действительно ли только 2 заказа отличаются от общей выборки следует определить выборочные процентили стоимости заказов."
   ]
  },
  {
   "cell_type": "markdown",
   "metadata": {},
   "source": [
    "### Расчет 95-й и 99-й перцентилей стоимости заказов. Выбор границы для определения аномальных заказов.  \n"
   ]
  },
  {
   "cell_type": "code",
   "execution_count": 25,
   "metadata": {},
   "outputs": [
    {
     "data": {
      "text/plain": [
       "array([18168. , 28000. , 58233.2])"
      ]
     },
     "metadata": {},
     "output_type": "display_data"
    }
   ],
   "source": [
    "percentile_revenue = np.percentile(orders['revenue'], [90, 95, 99])\n",
    "display(percentile_revenue)"
   ]
  },
  {
   "cell_type": "markdown",
   "metadata": {},
   "source": [
    "***Вывод***  \n",
    "Не более 5% заказов превышают 28000 руб. 1% заказов превышают 58233,2 руб. Разумно выбрать 28000 руб. как верхнюю границу стоимости, и отсеять аномальные данные по ней."
   ]
  },
  {
   "cell_type": "markdown",
   "metadata": {},
   "source": [
    "#### Оценка влияния неуникальных пользователей на стоимость заказов и выбор границы для определения аномальных пользователей"
   ]
  },
  {
   "cell_type": "code",
   "execution_count": 26,
   "metadata": {},
   "outputs": [
    {
     "data": {
      "text/html": [
       "<div>\n",
       "<style scoped>\n",
       "    .dataframe tbody tr th:only-of-type {\n",
       "        vertical-align: middle;\n",
       "    }\n",
       "\n",
       "    .dataframe tbody tr th {\n",
       "        vertical-align: top;\n",
       "    }\n",
       "\n",
       "    .dataframe thead th {\n",
       "        text-align: right;\n",
       "    }\n",
       "</style>\n",
       "<table border=\"1\" class=\"dataframe\">\n",
       "  <thead>\n",
       "    <tr style=\"text-align: right;\">\n",
       "      <th></th>\n",
       "      <th>transactionId</th>\n",
       "      <th>visitorId</th>\n",
       "      <th>date</th>\n",
       "      <th>revenue</th>\n",
       "      <th>group</th>\n",
       "    </tr>\n",
       "  </thead>\n",
       "  <tbody>\n",
       "    <tr>\n",
       "      <th>0</th>\n",
       "      <td>3667963787</td>\n",
       "      <td>3312258926</td>\n",
       "      <td>2019-08-15</td>\n",
       "      <td>1650</td>\n",
       "      <td>B</td>\n",
       "    </tr>\n",
       "    <tr>\n",
       "      <th>1</th>\n",
       "      <td>2804400009</td>\n",
       "      <td>3642806036</td>\n",
       "      <td>2019-08-15</td>\n",
       "      <td>730</td>\n",
       "      <td>B</td>\n",
       "    </tr>\n",
       "    <tr>\n",
       "      <th>3</th>\n",
       "      <td>3797467345</td>\n",
       "      <td>1196621759</td>\n",
       "      <td>2019-08-15</td>\n",
       "      <td>9759</td>\n",
       "      <td>B</td>\n",
       "    </tr>\n",
       "  </tbody>\n",
       "</table>\n",
       "</div>"
      ],
      "text/plain": [
       "   transactionId   visitorId       date  revenue group\n",
       "0     3667963787  3312258926 2019-08-15     1650     B\n",
       "1     2804400009  3642806036 2019-08-15      730     B\n",
       "3     3797467345  1196621759 2019-08-15     9759     B"
      ]
     },
     "metadata": {},
     "output_type": "display_data"
    },
    {
     "data": {
      "image/png": "[encoded data removed]",
      "text/plain": [
       "<Figure size 864x504 with 1 Axes>"
      ]
     },
     "metadata": {
      "needs_background": "light"
     },
     "output_type": "display_data"
    }
   ],
   "source": [
    "display(filtered_orders.head(3))\n",
    "\n",
    "plt.figure(figsize=(12,7))\n",
    "plt.hist(filtered_orders['revenue']) \n",
    "plt.title('Распределение стоимостей заказов (без неуникальных пользователей)')\n",
    "plt.ylabel(\"Количество наблюдений\")\n",
    "plt.xlabel('Стоимость, руб. х 10^6')\n",
    "plt.xticks(rotation=90)\n",
    "plt.show()"
   ]
  },
  {
   "cell_type": "code",
   "execution_count": 27,
   "metadata": {},
   "outputs": [
    {
     "data": {
      "image/png": "[encoded data removed]",
      "text/plain": [
       "<Figure size 864x360 with 1 Axes>"
      ]
     },
     "metadata": {
      "needs_background": "light"
     },
     "output_type": "display_data"
    },
    {
     "data": {
      "image/png": "[encoded data removed]",
      "text/plain": [
       "<Figure size 864x360 with 1 Axes>"
      ]
     },
     "metadata": {
      "needs_background": "light"
     },
     "output_type": "display_data"
    },
    {
     "data": {
      "text/plain": [
       "array([17990., 26785., 53904.])"
      ]
     },
     "metadata": {},
     "output_type": "display_data"
    },
    {
     "data": {
      "text/plain": [
       "'Влияние неуникальных пользователей на стоимость заказов в группах : 4.3%'"
      ]
     },
     "metadata": {},
     "output_type": "display_data"
    }
   ],
   "source": [
    "x_values_filtered = pd.Series(range(0,len(filtered_orders['revenue'])))\n",
    "x_trunc_filtered = pd.Series(range(0,len(filtered_orders.query('revenue <200000')['revenue'])))\n",
    "\n",
    "plt.figure(figsize=(12,5))\n",
    "plt.scatter(x_values_filtered, filtered_orders['revenue']) \n",
    "plt.title('Распределение стоимостей заказов (без неуникальных пользователей)')\n",
    "plt.xlabel('Заказы')\n",
    "plt.ylabel(\"Стоимость, руб. х 10^6\")\n",
    "plt.xticks(rotation=90)\n",
    "plt.show()\n",
    "\n",
    "plt.figure(figsize=(12,5))\n",
    "plt.scatter(x_trunc_filtered, filtered_orders.query('revenue <200000')['revenue']) \n",
    "plt.title('Распределение стоимостей заказов до 200000 руб. (без неуникальных пользователей)')\n",
    "plt.xlabel('Заказы')\n",
    "plt.ylabel(\"Стоимость, руб. х 10^6\")\n",
    "plt.xticks(rotation=90)\n",
    "plt.show()\n",
    "\n",
    "percentile_revenue_filtered = np.percentile(filtered_orders['revenue'], [90, 95, 99])\n",
    "display(percentile_revenue_filtered)\n",
    "\n",
    "display(f'Влияние неуникальных пользователей на стоимость заказов в группах : {round((1-(percentile_revenue_filtered[1] / percentile_revenue[1]))*100,1)}%')"
   ]
  },
  {
   "cell_type": "markdown",
   "metadata": {},
   "source": [
    "***Вывод***  \n",
    "После удаления неуникальных пользователей 95й процентиль снизился на 4.3%. Влияние снижения данного показателя на общие выводы будут дополнительно проверены."
   ]
  },
  {
   "cell_type": "markdown",
   "metadata": {},
   "source": [
    "### Статистическая значимость различий в конверсии между группами по «сырым» данным. Выводы и предположения.  \n"
   ]
  },
  {
   "cell_type": "code",
   "execution_count": 28,
   "metadata": {},
   "outputs": [
    {
     "data": {
      "text/html": [
       "<div>\n",
       "<style scoped>\n",
       "    .dataframe tbody tr th:only-of-type {\n",
       "        vertical-align: middle;\n",
       "    }\n",
       "\n",
       "    .dataframe tbody tr th {\n",
       "        vertical-align: top;\n",
       "    }\n",
       "\n",
       "    .dataframe thead th {\n",
       "        text-align: right;\n",
       "    }\n",
       "</style>\n",
       "<table border=\"1\" class=\"dataframe\">\n",
       "  <thead>\n",
       "    <tr style=\"text-align: right;\">\n",
       "      <th></th>\n",
       "      <th>date</th>\n",
       "      <th>visitorsPerDateA</th>\n",
       "    </tr>\n",
       "  </thead>\n",
       "  <tbody>\n",
       "    <tr>\n",
       "      <th>0</th>\n",
       "      <td>2019-08-01</td>\n",
       "      <td>719</td>\n",
       "    </tr>\n",
       "    <tr>\n",
       "      <th>1</th>\n",
       "      <td>2019-08-02</td>\n",
       "      <td>619</td>\n",
       "    </tr>\n",
       "  </tbody>\n",
       "</table>\n",
       "</div>"
      ],
      "text/plain": [
       "        date  visitorsPerDateA\n",
       "0 2019-08-01               719\n",
       "1 2019-08-02               619"
      ]
     },
     "metadata": {},
     "output_type": "display_data"
    },
    {
     "data": {
      "text/html": [
       "<div>\n",
       "<style scoped>\n",
       "    .dataframe tbody tr th:only-of-type {\n",
       "        vertical-align: middle;\n",
       "    }\n",
       "\n",
       "    .dataframe tbody tr th {\n",
       "        vertical-align: top;\n",
       "    }\n",
       "\n",
       "    .dataframe thead th {\n",
       "        text-align: right;\n",
       "    }\n",
       "</style>\n",
       "<table border=\"1\" class=\"dataframe\">\n",
       "  <thead>\n",
       "    <tr style=\"text-align: right;\">\n",
       "      <th></th>\n",
       "      <th>date</th>\n",
       "      <th>visitorsPerDateB</th>\n",
       "    </tr>\n",
       "  </thead>\n",
       "  <tbody>\n",
       "    <tr>\n",
       "      <th>31</th>\n",
       "      <td>2019-08-01</td>\n",
       "      <td>713</td>\n",
       "    </tr>\n",
       "    <tr>\n",
       "      <th>32</th>\n",
       "      <td>2019-08-02</td>\n",
       "      <td>581</td>\n",
       "    </tr>\n",
       "  </tbody>\n",
       "</table>\n",
       "</div>"
      ],
      "text/plain": [
       "         date  visitorsPerDateB\n",
       "31 2019-08-01               713\n",
       "32 2019-08-02               581"
      ]
     },
     "metadata": {},
     "output_type": "display_data"
    }
   ],
   "source": [
    "# Таблицы с данными о пользователях участвовавших в тесте\n",
    "visitorsADaily = visitors[visitors['group'] == 'A'][['date', 'visitors']]\n",
    "visitorsADaily.columns = ['date', 'visitorsPerDateA']\n",
    "\n",
    "visitorsBDaily = visitors[visitors['group'] == 'B'][['date', 'visitors']]\n",
    "visitorsBDaily.columns = ['date', 'visitorsPerDateB']\n",
    "\n",
    "display(visitorsADaily.head(2), visitorsBDaily.head(2))"
   ]
  },
  {
   "cell_type": "code",
   "execution_count": 29,
   "metadata": {},
   "outputs": [
    {
     "data": {
      "text/html": [
       "<div>\n",
       "<style scoped>\n",
       "    .dataframe tbody tr th:only-of-type {\n",
       "        vertical-align: middle;\n",
       "    }\n",
       "\n",
       "    .dataframe tbody tr th {\n",
       "        vertical-align: top;\n",
       "    }\n",
       "\n",
       "    .dataframe thead th {\n",
       "        text-align: right;\n",
       "    }\n",
       "</style>\n",
       "<table border=\"1\" class=\"dataframe\">\n",
       "  <thead>\n",
       "    <tr style=\"text-align: right;\">\n",
       "      <th></th>\n",
       "      <th>userId</th>\n",
       "      <th>orders</th>\n",
       "    </tr>\n",
       "  </thead>\n",
       "  <tbody>\n",
       "    <tr>\n",
       "      <th>0</th>\n",
       "      <td>8300375</td>\n",
       "      <td>1</td>\n",
       "    </tr>\n",
       "    <tr>\n",
       "      <th>1</th>\n",
       "      <td>11685486</td>\n",
       "      <td>1</td>\n",
       "    </tr>\n",
       "  </tbody>\n",
       "</table>\n",
       "</div>"
      ],
      "text/plain": [
       "     userId  orders\n",
       "0   8300375       1\n",
       "1  11685486       1"
      ]
     },
     "metadata": {},
     "output_type": "display_data"
    },
    {
     "data": {
      "text/html": [
       "<div>\n",
       "<style scoped>\n",
       "    .dataframe tbody tr th:only-of-type {\n",
       "        vertical-align: middle;\n",
       "    }\n",
       "\n",
       "    .dataframe tbody tr th {\n",
       "        vertical-align: top;\n",
       "    }\n",
       "\n",
       "    .dataframe thead th {\n",
       "        text-align: right;\n",
       "    }\n",
       "</style>\n",
       "<table border=\"1\" class=\"dataframe\">\n",
       "  <thead>\n",
       "    <tr style=\"text-align: right;\">\n",
       "      <th></th>\n",
       "      <th>userId</th>\n",
       "      <th>orders</th>\n",
       "    </tr>\n",
       "  </thead>\n",
       "  <tbody>\n",
       "    <tr>\n",
       "      <th>0</th>\n",
       "      <td>5114589</td>\n",
       "      <td>1</td>\n",
       "    </tr>\n",
       "    <tr>\n",
       "      <th>1</th>\n",
       "      <td>6958315</td>\n",
       "      <td>1</td>\n",
       "    </tr>\n",
       "  </tbody>\n",
       "</table>\n",
       "</div>"
      ],
      "text/plain": [
       "    userId  orders\n",
       "0  5114589       1\n",
       "1  6958315       1"
      ]
     },
     "metadata": {},
     "output_type": "display_data"
    }
   ],
   "source": [
    "# Количество заказов для каждого уникального пользователя в группе А\n",
    "ordersByUsersA = orders[orders['group']=='A'].groupby('visitorId', as_index=False).agg({'transactionId' : 'nunique'})\n",
    "ordersByUsersA.columns = ['userId', 'orders']\n",
    "display(ordersByUsersA.head(2))\n",
    "\n",
    "# Количество заказов для каждого уникального пользователя в группе В\n",
    "ordersByUsersB = orders[orders['group']=='B'].groupby('visitorId', as_index=False).agg({'transactionId' : 'nunique'})\n",
    "ordersByUsersB.columns = ['userId', 'orders']\n",
    "display(ordersByUsersB.head(2))"
   ]
  },
  {
   "cell_type": "code",
   "execution_count": 30,
   "metadata": {},
   "outputs": [],
   "source": [
    "#Таблицы с количеством покупок для каждого пользователя (если пользователь ничего не купил то значение покупок равно 0)\n",
    "sampleA = pd.concat([ordersByUsersA['orders'], pd.Series(0, index=np.arange(visitorsADaily['visitorsPerDateA'].sum() - len(ordersByUsersA['orders'])), name='orders')],axis=0)\n",
    "sampleB = pd.concat([ordersByUsersB['orders'], pd.Series(0, index=np.arange(visitorsBDaily['visitorsPerDateB'].sum() - len(ordersByUsersB['orders'])), name='orders')],axis=0)"
   ]
  },
  {
   "cell_type": "code",
   "execution_count": 31,
   "metadata": {},
   "outputs": [
    {
     "name": "stderr",
     "output_type": "stream",
     "text": [
      "/home/daniil/.local/lib/python3.8/site-packages/scipy/stats/morestats.py:1760: UserWarning: p-value may not be accurate for N > 5000.\n",
      "  warnings.warn(\"p-value may not be accurate for N > 5000.\")\n"
     ]
    },
    {
     "data": {
      "text/plain": [
       "'p-значение: 0.0 - отвергаем нулевую гипотезу: распределение не нормально'"
      ]
     },
     "metadata": {},
     "output_type": "display_data"
    },
    {
     "data": {
      "text/plain": [
       "'Проверка на нормальность распределения сырых данных группы А :'"
      ]
     },
     "metadata": {},
     "output_type": "display_data"
    },
    {
     "data": {
      "text/plain": [
       "None"
      ]
     },
     "metadata": {},
     "output_type": "display_data"
    },
    {
     "data": {
      "text/plain": [
       "'p-значение: 0.0 - отвергаем нулевую гипотезу: распределение не нормально'"
      ]
     },
     "metadata": {},
     "output_type": "display_data"
    },
    {
     "data": {
      "text/plain": [
       "'Проверка на нормальность распределения сырых данных группы B :'"
      ]
     },
     "metadata": {},
     "output_type": "display_data"
    },
    {
     "data": {
      "text/plain": [
       "None"
      ]
     },
     "metadata": {},
     "output_type": "display_data"
    }
   ],
   "source": [
    "# Проверка на нормальность распределения сырых данных в группах АВ теста :\n",
    "\n",
    "alpha = 0.05  # критический уровень статистической значимости\n",
    "\n",
    "def shapiro_result (s): # функция для вывода заключения о результатах теста на нормальность распределения\n",
    "    result = stats.shapiro(sampleA)[1]\n",
    "    if result < alpha:\n",
    "        display(f'p-значение: {result} - отвергаем нулевую гипотезу: распределение не нормально')\n",
    "    else:\n",
    "        display(f'p-значение: {result} - не удалось отвергнуть нулевую гипотезу: распределение нормально') \n",
    "\n",
    "display('Проверка на нормальность распределения сырых данных группы А :', shapiro_result(sampleA))\n",
    "\n",
    "display('Проверка на нормальность распределения сырых данных группы B :', shapiro_result(sampleB))"
   ]
  },
  {
   "cell_type": "markdown",
   "metadata": {},
   "source": [
    "Необходимо проверить - различается ли конверсия в группах по сырым данным.  \n",
    "Нулевая гипотеза (𝐻0) : различий в конверсии между группами нет.  \n",
    "Альтернативная гипотеза (𝐻1) : различия в конверсии между группами есть.   \n",
    "Уровень статистической значимости 𝛼: 5 %  \n",
    "Критерий для проверки нулевой гипотезы : согласно результатам теста Шапиро-Уилка данные в обеих группах распределены не нормально, в данном случае для проверки гипотезы целесообразно применить критерий Манна-Уитни.  "
   ]
  },
  {
   "cell_type": "code",
   "execution_count": 32,
   "metadata": {},
   "outputs": [
    {
     "data": {
      "text/plain": [
       "'Отвергаем нулевую гипотезу, p-value : 0.017'"
      ]
     },
     "metadata": {},
     "output_type": "display_data"
    },
    {
     "data": {
      "text/plain": [
       "'Относительное различие в конверсии группы В к группе А : 13.8 %'"
      ]
     },
     "metadata": {},
     "output_type": "display_data"
    }
   ],
   "source": [
    "# Расчёт статистической значимости различий в конверсии между группами\n",
    "convers_raw = stats.mannwhitneyu(sampleA, sampleB)[1]\n",
    "\n",
    "# Расчёт значения прироста конверсии в группе В по отношению к группе А\n",
    "dif_convers_raw = sampleB.mean()/sampleA.mean()-1\n",
    "\n",
    "alpha = 0.05\n",
    "\n",
    "if convers_raw < alpha:\n",
    "    display(f'Отвергаем нулевую гипотезу, p-value : {round(convers_raw,3)}')\n",
    "else:\n",
    "    display(f'Не удалось отвергнуть нулевую гипотезу, p-value : {round(convers_raw,3)}') \n",
    "    \n",
    "display(f'Относительное различие в конверсии группы В к группе А : {round(dif_convers_raw*100, 1)} %')"
   ]
  },
  {
   "cell_type": "markdown",
   "metadata": {},
   "source": [
    "***Вывод***  \n",
    "P-value значительно менее 0.05. Значит нельзя исключить наличие разницы в конверсии между группами, не смотря на то, что конверсия в группе В больше чем в группе А всего на 13,8 %."
   ]
  },
  {
   "cell_type": "markdown",
   "metadata": {},
   "source": [
    "### Статистическая значимость различий в среднем чеке заказа между группами по «сырым» данным. Выводы и предположения.  \n"
   ]
  },
  {
   "cell_type": "markdown",
   "metadata": {},
   "source": [
    "Необходимо проверить - различается ли средний чек в группах по сырым данным.   \n",
    "Нулевая гипотеза (𝐻0) : различий в среднем чеке между группами нет.   \n",
    "Альтернативная гипотеза (𝐻1) : различия в среднем чеке между группами есть.    \n",
    "Уровень статистической значимости 𝛼: 5 %  \n",
    "Критерий для проверки нулевой гипотезы : согласно результатам теста Шапиро-Уилка данные в обеих группах распределены не нормально, в данном случае для проверки гипотезы целесообразно применить критерий Манна-Уитни. "
   ]
  },
  {
   "cell_type": "code",
   "execution_count": 33,
   "metadata": {},
   "outputs": [
    {
     "data": {
      "text/plain": [
       "'Не удалось отвергнуть нулевую гипотезу, p-value : 0.729'"
      ]
     },
     "metadata": {},
     "output_type": "display_data"
    },
    {
     "data": {
      "text/plain": [
       "'Относительное различие в среднем чеке группы В к группе А : 25.9 %'"
      ]
     },
     "metadata": {},
     "output_type": "display_data"
    }
   ],
   "source": [
    "av_chek_raw = stats.mannwhitneyu(orders[orders['group']=='A']['revenue'], orders[orders['group']=='B']['revenue'])[1]\n",
    "dif_av_chek_raw = orders[orders['group']=='B']['revenue'].mean()/orders[orders['group']=='A']['revenue'].mean()-1\n",
    "\n",
    "alpha = 0.05\n",
    "\n",
    "if av_chek_raw < alpha:\n",
    "    display(f'Отвергаем нулевую гипотезу, p-value : {round(av_chek_raw,3)}')\n",
    "else:\n",
    "    display(f'Не удалось отвергнуть нулевую гипотезу, p-value : {round(av_chek_raw,3)}') \n",
    "    \n",
    "display(f'Относительное различие в среднем чеке группы В к группе А : {round(dif_av_chek_raw*100, 1)} %')"
   ]
  },
  {
   "cell_type": "markdown",
   "metadata": {},
   "source": [
    "***Вывод***  \n",
    "Средний чек группы B выше среднего чека группы A почти на 25,9%, однако данный результат не является статистически значимым (p-value : 0.729) и вероятно, получен случайно."
   ]
  },
  {
   "cell_type": "markdown",
   "metadata": {},
   "source": [
    "### Статистическая значимость различий в конверсии между группами по «очищенным» данным. Выводы и предположения. \n"
   ]
  },
  {
   "cell_type": "code",
   "execution_count": 34,
   "metadata": {},
   "outputs": [
    {
     "data": {
      "text/plain": [
       "1099    148427295\n",
       "18      199603092\n",
       "928     204675465\n",
       "dtype: int64"
      ]
     },
     "metadata": {},
     "output_type": "display_data"
    },
    {
     "data": {
      "text/plain": [
       "74"
      ]
     },
     "metadata": {},
     "output_type": "display_data"
    }
   ],
   "source": [
    "# определение пользователей с аномально высоким кол-м заказов\n",
    "usersWithManyOrders = pd.concat(\n",
    "    [\n",
    "        ordersByUsersA[ordersByUsersA['orders'] > percentile_orders[1]]['userId'],\n",
    "        ordersByUsersB[ordersByUsersB['orders'] > percentile_orders[1]]['userId'],\n",
    "    ],\n",
    "    axis=0,\n",
    ")\n",
    "\n",
    "# определение пользователей с аномально высокой стоимостью заказов\n",
    "\n",
    "usersWithExpensiveOrders = orders[orders['revenue'] > percentile_revenue[1]]['visitorId']\n",
    "\n",
    "abnormalUsers = (\n",
    "    pd.concat([usersWithManyOrders, usersWithExpensiveOrders], axis=0)\n",
    "    .drop_duplicates()\n",
    "    .sort_values()\n",
    ")\n",
    "display(abnormalUsers.head(3))\n",
    "display(abnormalUsers.shape[0])"
   ]
  },
  {
   "cell_type": "code",
   "execution_count": 35,
   "metadata": {},
   "outputs": [],
   "source": [
    "# очищенные данные для групп А и В\n",
    "sampleAFiltered = pd.concat([ordersByUsersA[np.logical_not(ordersByUsersA['userId'].isin(abnormalUsers))]['orders'], pd.Series(0, index=np.arange(visitorsADaily['visitorsPerDateA'].sum() - len(ordersByUsersA['orders'])),name='orders')], axis=0)\n",
    "sampleBFiltered = pd.concat([ordersByUsersB[np.logical_not(ordersByUsersB['userId'].isin(abnormalUsers))]['orders'], pd.Series(0, index=np.arange(visitorsBDaily['visitorsPerDateB'].sum() - len(ordersByUsersB['orders'])),name='orders')], axis=0)"
   ]
  },
  {
   "cell_type": "code",
   "execution_count": 36,
   "metadata": {},
   "outputs": [
    {
     "data": {
      "text/plain": [
       "'p-значение: 0.0 - отвергаем нулевую гипотезу: распределение не нормально'"
      ]
     },
     "metadata": {},
     "output_type": "display_data"
    },
    {
     "data": {
      "text/plain": [
       "'Проверка на нормальность распределения очищенных данных группы А :'"
      ]
     },
     "metadata": {},
     "output_type": "display_data"
    },
    {
     "data": {
      "text/plain": [
       "None"
      ]
     },
     "metadata": {},
     "output_type": "display_data"
    },
    {
     "data": {
      "text/plain": [
       "'p-значение: 0.0 - отвергаем нулевую гипотезу: распределение не нормально'"
      ]
     },
     "metadata": {},
     "output_type": "display_data"
    },
    {
     "data": {
      "text/plain": [
       "'Проверка на нормальность распределения очищенных данных группы B :'"
      ]
     },
     "metadata": {},
     "output_type": "display_data"
    },
    {
     "data": {
      "text/plain": [
       "None"
      ]
     },
     "metadata": {},
     "output_type": "display_data"
    }
   ],
   "source": [
    "display('Проверка на нормальность распределения очищенных данных группы А :', shapiro_result(sampleAFiltered))\n",
    "\n",
    "display('Проверка на нормальность распределения очищенных данных группы B :', shapiro_result(sampleBFiltered))"
   ]
  },
  {
   "cell_type": "markdown",
   "metadata": {},
   "source": [
    "Необходимо проверить - различается ли конверсия в группах по очищенным данным.  \n",
    "Нулевая гипотеза (𝐻0) : различий в конверсии между группами нет.  \n",
    "Альтернативная гипотеза (𝐻1) : различия в конверсии между группами есть.    \n",
    "Уровень статистической значимости 𝛼: 5 %  \n",
    "Критерий для проверки нулевой гипотезы : согласно результатам теста Шапиро-Уилка данные в обеих группах распределены не нормально, в данном случае для проверки гипотезы целесообразно применить критерий Манна-Уитни. "
   ]
  },
  {
   "cell_type": "code",
   "execution_count": 37,
   "metadata": {},
   "outputs": [
    {
     "data": {
      "text/plain": [
       "'Отвергаем нулевую гипотезу, p-value : 0.013'"
      ]
     },
     "metadata": {},
     "output_type": "display_data"
    },
    {
     "data": {
      "text/plain": [
       "'Относительное различие в конверсии группы В к группе А : 17.3 %'"
      ]
     },
     "metadata": {},
     "output_type": "display_data"
    }
   ],
   "source": [
    "# Расчёт значения статистической значимости конверсии между группами\n",
    "convers_filter = stats.mannwhitneyu(sampleAFiltered, sampleBFiltered)[1]\n",
    "# Расчёт значения прироста конверсии в группе В по отношению к группе А\n",
    "dif_convers_filter = sampleBFiltered.mean()/sampleAFiltered.mean()-1\n",
    "\n",
    "if convers_filter < alpha:\n",
    "    display(f'Отвергаем нулевую гипотезу, p-value : {round(convers_filter,3)}')\n",
    "else:\n",
    "    display(f'Не удалось отвергнуть нулевую гипотезу, p-value : {round(convers_filter,3)}') \n",
    "    \n",
    "display(f'Относительное различие в конверсии группы В к группе А : {round(dif_convers_filter*100, 1)} %')"
   ]
  },
  {
   "cell_type": "markdown",
   "metadata": {},
   "source": [
    "***Вывод***  \n",
    "На основании точек отсечения аномальных данных в количестве 2 заказов и стоимости в 28000 руб., установлено, что данные 74 пользователей можно считать значительно отклоняющимися от выборки или выбросами. По очищенной от выбросов выборки, установлена статистически значимая разница в уровне конверсии между группами, а относительное различие в конверсии группы В к группе А выросло с 13.8% до 17,3%."
   ]
  },
  {
   "cell_type": "markdown",
   "metadata": {},
   "source": [
    "#### Оценка влияния неуникальных пользователей на статистическую значимость различий в конверсии между группами по «очищенным» данным. "
   ]
  },
  {
   "cell_type": "code",
   "execution_count": 38,
   "metadata": {},
   "outputs": [
    {
     "data": {
      "text/html": [
       "<div>\n",
       "<style scoped>\n",
       "    .dataframe tbody tr th:only-of-type {\n",
       "        vertical-align: middle;\n",
       "    }\n",
       "\n",
       "    .dataframe tbody tr th {\n",
       "        vertical-align: top;\n",
       "    }\n",
       "\n",
       "    .dataframe thead th {\n",
       "        text-align: right;\n",
       "    }\n",
       "</style>\n",
       "<table border=\"1\" class=\"dataframe\">\n",
       "  <thead>\n",
       "    <tr style=\"text-align: right;\">\n",
       "      <th></th>\n",
       "      <th>date</th>\n",
       "      <th>visitorsPerDateA</th>\n",
       "    </tr>\n",
       "  </thead>\n",
       "  <tbody>\n",
       "    <tr>\n",
       "      <th>0</th>\n",
       "      <td>2019-08-01</td>\n",
       "      <td>719</td>\n",
       "    </tr>\n",
       "    <tr>\n",
       "      <th>1</th>\n",
       "      <td>2019-08-02</td>\n",
       "      <td>619</td>\n",
       "    </tr>\n",
       "  </tbody>\n",
       "</table>\n",
       "</div>"
      ],
      "text/plain": [
       "        date  visitorsPerDateA\n",
       "0 2019-08-01               719\n",
       "1 2019-08-02               619"
      ]
     },
     "metadata": {},
     "output_type": "display_data"
    },
    {
     "data": {
      "text/html": [
       "<div>\n",
       "<style scoped>\n",
       "    .dataframe tbody tr th:only-of-type {\n",
       "        vertical-align: middle;\n",
       "    }\n",
       "\n",
       "    .dataframe tbody tr th {\n",
       "        vertical-align: top;\n",
       "    }\n",
       "\n",
       "    .dataframe thead th {\n",
       "        text-align: right;\n",
       "    }\n",
       "</style>\n",
       "<table border=\"1\" class=\"dataframe\">\n",
       "  <thead>\n",
       "    <tr style=\"text-align: right;\">\n",
       "      <th></th>\n",
       "      <th>date</th>\n",
       "      <th>visitorsPerDateB</th>\n",
       "    </tr>\n",
       "  </thead>\n",
       "  <tbody>\n",
       "    <tr>\n",
       "      <th>31</th>\n",
       "      <td>2019-08-01</td>\n",
       "      <td>713</td>\n",
       "    </tr>\n",
       "    <tr>\n",
       "      <th>32</th>\n",
       "      <td>2019-08-02</td>\n",
       "      <td>581</td>\n",
       "    </tr>\n",
       "  </tbody>\n",
       "</table>\n",
       "</div>"
      ],
      "text/plain": [
       "         date  visitorsPerDateB\n",
       "31 2019-08-01               713\n",
       "32 2019-08-02               581"
      ]
     },
     "metadata": {},
     "output_type": "display_data"
    },
    {
     "data": {
      "text/html": [
       "<div>\n",
       "<style scoped>\n",
       "    .dataframe tbody tr th:only-of-type {\n",
       "        vertical-align: middle;\n",
       "    }\n",
       "\n",
       "    .dataframe tbody tr th {\n",
       "        vertical-align: top;\n",
       "    }\n",
       "\n",
       "    .dataframe thead th {\n",
       "        text-align: right;\n",
       "    }\n",
       "</style>\n",
       "<table border=\"1\" class=\"dataframe\">\n",
       "  <thead>\n",
       "    <tr style=\"text-align: right;\">\n",
       "      <th></th>\n",
       "      <th>userId</th>\n",
       "      <th>orders</th>\n",
       "    </tr>\n",
       "  </thead>\n",
       "  <tbody>\n",
       "    <tr>\n",
       "      <th>0</th>\n",
       "      <td>11685486</td>\n",
       "      <td>1</td>\n",
       "    </tr>\n",
       "    <tr>\n",
       "      <th>1</th>\n",
       "      <td>54447517</td>\n",
       "      <td>1</td>\n",
       "    </tr>\n",
       "  </tbody>\n",
       "</table>\n",
       "</div>"
      ],
      "text/plain": [
       "     userId  orders\n",
       "0  11685486       1\n",
       "1  54447517       1"
      ]
     },
     "metadata": {},
     "output_type": "display_data"
    },
    {
     "data": {
      "text/html": [
       "<div>\n",
       "<style scoped>\n",
       "    .dataframe tbody tr th:only-of-type {\n",
       "        vertical-align: middle;\n",
       "    }\n",
       "\n",
       "    .dataframe tbody tr th {\n",
       "        vertical-align: top;\n",
       "    }\n",
       "\n",
       "    .dataframe thead th {\n",
       "        text-align: right;\n",
       "    }\n",
       "</style>\n",
       "<table border=\"1\" class=\"dataframe\">\n",
       "  <thead>\n",
       "    <tr style=\"text-align: right;\">\n",
       "      <th></th>\n",
       "      <th>userId</th>\n",
       "      <th>orders</th>\n",
       "    </tr>\n",
       "  </thead>\n",
       "  <tbody>\n",
       "    <tr>\n",
       "      <th>0</th>\n",
       "      <td>5114589</td>\n",
       "      <td>1</td>\n",
       "    </tr>\n",
       "    <tr>\n",
       "      <th>1</th>\n",
       "      <td>6958315</td>\n",
       "      <td>1</td>\n",
       "    </tr>\n",
       "  </tbody>\n",
       "</table>\n",
       "</div>"
      ],
      "text/plain": [
       "    userId  orders\n",
       "0  5114589       1\n",
       "1  6958315       1"
      ]
     },
     "metadata": {},
     "output_type": "display_data"
    }
   ],
   "source": [
    "# Таблицы с данными о пользователях участвовавших в тесте\n",
    "visitorsADaily_filtered = filter_visitors[filter_visitors['group'] == 'A'][['date', 'visitors']]\n",
    "visitorsADaily_filtered.columns = ['date', 'visitorsPerDateA']\n",
    "\n",
    "visitorsBDaily_filtered = filter_visitors[filter_visitors['group'] == 'B'][['date', 'visitors']]\n",
    "visitorsBDaily_filtered.columns = ['date', 'visitorsPerDateB']\n",
    "\n",
    "display(visitorsADaily.head(2), visitorsBDaily.head(2))\n",
    "\n",
    "# Количество заказов для каждого уникального пользователя в группе А\n",
    "ordersByUsersA_filtered = filtered_orders[filtered_orders['group']=='A'].groupby('visitorId', as_index=False).agg({'transactionId' : 'nunique'})\n",
    "ordersByUsersA_filtered.columns = ['userId', 'orders']\n",
    "display(ordersByUsersA_filtered.head(2))\n",
    "\n",
    "# Количество заказов для каждого уникального пользователя в группе В\n",
    "ordersByUsersB_filtered = filtered_orders[filtered_orders['group']=='B'].groupby('visitorId', as_index=False).agg({'transactionId' : 'nunique'})\n",
    "ordersByUsersB_filtered.columns = ['userId', 'orders']\n",
    "display(ordersByUsersB_filtered.head(2))"
   ]
  },
  {
   "cell_type": "code",
   "execution_count": 39,
   "metadata": {},
   "outputs": [
    {
     "data": {
      "text/plain": [
       "568     113298937\n",
       "1099    148427295\n",
       "928     204675465\n",
       "dtype: int64"
      ]
     },
     "metadata": {},
     "output_type": "display_data"
    },
    {
     "data": {
      "text/plain": [
       "86"
      ]
     },
     "metadata": {},
     "output_type": "display_data"
    }
   ],
   "source": [
    "# определение пользователей с аномально высоким кол-м заказов\n",
    "usersWithManyOrders_filtered = pd.concat(\n",
    "    [\n",
    "        ordersByUsersA_filtered[ordersByUsersA_filtered['orders'] > percentile_orders_filtered[1]]['userId'],\n",
    "        ordersByUsersB_filtered[ordersByUsersB_filtered['orders'] > percentile_orders_filtered[1]]['userId'],\n",
    "    ],\n",
    "    axis=0,\n",
    ")\n",
    "\n",
    "# определение пользователей с аномально высокой стоимостью заказов\n",
    "usersWithExpensiveOrders_filtered = filtered_orders[filtered_orders['revenue'] > percentile_revenue_filtered[1]]['visitorId']\n",
    "\n",
    "abnormalUsers_filtered = (\n",
    "    pd.concat([usersWithManyOrders_filtered, usersWithExpensiveOrders_filtered], axis=0)\n",
    "    .drop_duplicates()\n",
    "    .sort_values()\n",
    ")\n",
    "display(abnormalUsers_filtered.head(3))\n",
    "display(abnormalUsers_filtered.shape[0])"
   ]
  },
  {
   "cell_type": "code",
   "execution_count": 40,
   "metadata": {},
   "outputs": [],
   "source": [
    "# очищенные данные для групп А и В\n",
    "sampleAFiltered_nonuniq = pd.concat([ordersByUsersA_filtered[np.logical_not(ordersByUsersA_filtered['userId'].isin(abnormalUsers_filtered))]['orders'], pd.Series(0, index=np.arange(visitorsADaily_filtered['visitorsPerDateA'].sum() - len(ordersByUsersA_filtered['orders'])),name='orders')], axis=0)\n",
    "sampleBFiltered_nonuniq = pd.concat([ordersByUsersB_filtered[np.logical_not(ordersByUsersB_filtered['userId'].isin(abnormalUsers_filtered))]['orders'], pd.Series(0, index=np.arange(visitorsBDaily_filtered['visitorsPerDateB'].sum() - len(ordersByUsersB_filtered['orders'])),name='orders')], axis=0)"
   ]
  },
  {
   "cell_type": "code",
   "execution_count": 41,
   "metadata": {},
   "outputs": [
    {
     "data": {
      "text/plain": [
       "'Отвергаем нулевую гипотезу, p-value : 0.016'"
      ]
     },
     "metadata": {},
     "output_type": "display_data"
    },
    {
     "data": {
      "text/plain": [
       "'Относительное различие в конверсии группы В к группе А : 17.4 %'"
      ]
     },
     "metadata": {},
     "output_type": "display_data"
    }
   ],
   "source": [
    "# Расчёт значения статистической значимости конверсии между группами\n",
    "convers_filter_nonuniq = stats.mannwhitneyu(sampleAFiltered_nonuniq, sampleBFiltered_nonuniq)[1]\n",
    "# Расчёт значения прироста конверсии в группе В по отношению к группе А\n",
    "dif_convers_filter_nonuniq = sampleBFiltered_nonuniq.mean()/sampleAFiltered_nonuniq.mean()-1\n",
    "\n",
    "if convers_filter_nonuniq < alpha:\n",
    "    display(f'Отвергаем нулевую гипотезу, p-value : {round(convers_filter_nonuniq,3)}')\n",
    "else:\n",
    "    display(f'Не удалось отвергнуть нулевую гипотезу, p-value : {round(convers_filter_nonuniq,3)}') \n",
    "    \n",
    "display(f'Относительное различие в конверсии группы В к группе А : {round(dif_convers_filter_nonuniq*100, 1)} %')"
   ]
  },
  {
   "cell_type": "markdown",
   "metadata": {},
   "source": [
    "***Вывод***  \n",
    "Неуникальные пользователи не оказывают влияния на статистическую значимость различий в конверсии между группами. "
   ]
  },
  {
   "cell_type": "markdown",
   "metadata": {},
   "source": [
    "### Статистическая значимость различий в среднем чеке заказа между группами по «очищенным» данным. Выводы и предположения.  \n"
   ]
  },
  {
   "cell_type": "markdown",
   "metadata": {},
   "source": [
    "Необходимо проверить - различается ли средний чек в группах по очищенным данным.   \n",
    "Нулевая гипотеза (𝐻0) : различий в среднем чеке между группами нет.   \n",
    "Альтернативная гипотеза (𝐻1) : различия в среднем чеке между группами есть.    \n",
    "Уровень статистической значимости 𝛼: 5 %  \n",
    "Критерий для проверки нулевой гипотезы : согласно результатам теста Шапиро-Уилка данные в обеих группах распределены не нормально, в данном случае для проверки гипотезы целесообразно применить критерий Манна-Уитни. "
   ]
  },
  {
   "cell_type": "code",
   "execution_count": 42,
   "metadata": {},
   "outputs": [
    {
     "data": {
      "text/plain": [
       "'Не удалось отвергнуть нулевую гипотезу, p-value : 0.738'"
      ]
     },
     "metadata": {},
     "output_type": "display_data"
    },
    {
     "data": {
      "text/plain": [
       "'Относительное различие в среднем чеке группы В к группе А : -2.0 %'"
      ]
     },
     "metadata": {},
     "output_type": "display_data"
    }
   ],
   "source": [
    "# Расчёт статистической значимости различий в конверсии между группами по отфильтрованным данным\n",
    "\n",
    "av_chek_filter = stats.mannwhitneyu(\n",
    "    orders[\n",
    "        np.logical_and(orders['group'] == 'A',np.logical_not(\n",
    "        orders['visitorId'].isin(abnormalUsers)),)]['revenue']\n",
    "    ,orders[\n",
    "        np.logical_and(orders['group'] == 'B',np.logical_not(\n",
    "        orders['visitorId'].isin(abnormalUsers)),)]['revenue'],)[1]\n",
    "\n",
    "dif_chek_filter = orders[\n",
    "    np.logical_and(\n",
    "        orders['group'] == 'B',np.logical_not(orders['visitorId'].isin(abnormalUsers)),)]['revenue'].mean()/orders[\n",
    "    np.logical_and(\n",
    "        orders['group'] == 'A',np.logical_not(orders['visitorId'].isin(abnormalUsers)),)]['revenue'].mean()- 1\n",
    "\n",
    "alpha = 0.05\n",
    "\n",
    "if av_chek_filter < alpha:\n",
    "    display(f'Отвергаем нулевую гипотезу, p-value : {round(av_chek_filter,3)}')\n",
    "else:\n",
    "    display(f'Не удалось отвергнуть нулевую гипотезу, p-value : {round(av_chek_filter,3)}') \n",
    "    \n",
    "display(f'Относительное различие в среднем чеке группы В к группе А : {round(dif_chek_filter*100, 1)} %')"
   ]
  },
  {
   "cell_type": "markdown",
   "metadata": {},
   "source": [
    "***Вывод***   \n",
    "При анализе очищенных данных не удалось выявить статистически значимой разницы в среднем чеке (p-value : 0.738), что соответствует результатам, полученным до удаления выбросов. Однако относительная разница между группами изменилась существенно, таким образом если ранее в группе В средний чек был выше чем в группе А на 25%, то теперь этот показатель для группы В даже ниже группы на 2%.  "
   ]
  },
  {
   "cell_type": "markdown",
   "metadata": {},
   "source": [
    "#### Оценка влияния неуникальных пользователей на статистическую значимость различий в среднем чеке между группами по «очищенным» данным. "
   ]
  },
  {
   "cell_type": "code",
   "execution_count": 43,
   "metadata": {},
   "outputs": [
    {
     "data": {
      "text/plain": [
       "'Не удалось отвергнуть нулевую гипотезу, p-value : 0.727'"
      ]
     },
     "metadata": {},
     "output_type": "display_data"
    },
    {
     "data": {
      "text/plain": [
       "'Относительное различие в среднем чеке группы В к группе А : -3.4 %'"
      ]
     },
     "metadata": {},
     "output_type": "display_data"
    }
   ],
   "source": [
    "# Расчёт статистической значимости различий в конверсии между группами по отфильтрованным данным\n",
    "\n",
    "av_chek_filter_non_uniq = stats.mannwhitneyu(\n",
    "    filtered_orders[\n",
    "        np.logical_and(filtered_orders['group'] == 'A',np.logical_not(\n",
    "        filtered_orders['visitorId'].isin(abnormalUsers_filtered)),)]['revenue']\n",
    "    ,filtered_orders[\n",
    "        np.logical_and(filtered_orders['group'] == 'B',np.logical_not(\n",
    "        filtered_orders['visitorId'].isin(abnormalUsers_filtered)),)]['revenue'],)[1]\n",
    "\n",
    "dif_chek_filter_non_uniq = filtered_orders[\n",
    "    np.logical_and(\n",
    "        filtered_orders['group'] == 'B',np.logical_not(filtered_orders['visitorId'].isin(abnormalUsers_filtered)),)]['revenue'].mean()/filtered_orders[\n",
    "    np.logical_and(\n",
    "        filtered_orders['group'] == 'A',np.logical_not(filtered_orders['visitorId'].isin(abnormalUsers_filtered)),)]['revenue'].mean()- 1\n",
    "\n",
    "alpha = 0.05\n",
    "\n",
    "if av_chek_filter_non_uniq < alpha:\n",
    "    display(f'Отвергаем нулевую гипотезу, p-value : {round(av_chek_filter_non_uniq,3)}')\n",
    "else:\n",
    "    display(f'Не удалось отвергнуть нулевую гипотезу, p-value : {round(av_chek_filter_non_uniq,3)}') \n",
    "    \n",
    "display(f'Относительное различие в среднем чеке группы В к группе А : {round(dif_chek_filter_non_uniq*100, 1)} %')"
   ]
  },
  {
   "cell_type": "markdown",
   "metadata": {},
   "source": [
    "***Вывод***  \n",
    "Неуникальные пользователи не оказывают влияния на статистическую значимость различий в среднем чеке между группами. "
   ]
  },
  {
   "cell_type": "markdown",
   "metadata": {},
   "source": [
    "### Решение по результатам теста и его обоснование. "
   ]
  },
  {
   "cell_type": "markdown",
   "metadata": {},
   "source": [
    "В соответствии с полученными результатами установлены следующие факты:  \n",
    "-Группа В по «сырым» данным превзошла группу А по абсолютному показателю выручки - на 1822957 руб, и количеству заказов - на 83 ед.  \n",
    "-Нет статистически значимого различия по среднему чеку между группами ни по «сырым», ни по данным после фильтрации аномалий, таким образом группа B не хуже группы А.  \n",
    "-Наблюдается статистически значимое различие по конверсии между группами как по «сырым» данным, так и по данным после фильтрации аномалий;  \n",
    "Исходя из обнаруженных фактов, тест следует остановить и признать его успешным. Результаты, полученные в группе В превосходят показатели группы А, тенденций для изменения лидирующей позиции группы не наблюдается. \n",
    "-При обработке результатов теста установлено, что 58 пользователей являлись участниками обеих групп тестирования. Данная особенность не повлияла на результаты АВ-теста. \n",
    "  \n",
    "На основании выше изложенных фактов, есть основания для остановки теста и фиксации преимущества группы В. \n"
   ]
  },
  {
   "cell_type": "code",
   "execution_count": null,
   "metadata": {},
   "outputs": [],
   "source": []
  }
 ],
 "metadata": {
  "ExecuteTimeLog": [
   {
    "duration": 1320,
    "start_time": "2022-07-18T16:53:24.904Z"
   },
   {
    "duration": 66,
    "start_time": "2022-07-18T16:54:07.706Z"
   },
   {
    "duration": 35,
    "start_time": "2022-07-18T16:54:22.937Z"
   },
   {
    "duration": 30,
    "start_time": "2022-07-18T16:54:53.934Z"
   },
   {
    "duration": 27,
    "start_time": "2022-07-18T16:56:19.266Z"
   },
   {
    "duration": 27,
    "start_time": "2022-07-18T16:57:27.109Z"
   },
   {
    "duration": 29,
    "start_time": "2022-07-18T16:57:45.987Z"
   },
   {
    "duration": 30,
    "start_time": "2022-07-18T16:57:55.502Z"
   },
   {
    "duration": 13,
    "start_time": "2022-07-18T17:48:41.925Z"
   },
   {
    "duration": 11,
    "start_time": "2022-07-18T17:49:16.571Z"
   },
   {
    "duration": 2,
    "start_time": "2022-07-18T17:49:49.835Z"
   },
   {
    "duration": 12,
    "start_time": "2022-07-18T17:56:25.792Z"
   },
   {
    "duration": 11,
    "start_time": "2022-07-18T17:56:45.211Z"
   },
   {
    "duration": 11,
    "start_time": "2022-07-18T21:08:50.206Z"
   },
   {
    "duration": 11,
    "start_time": "2022-07-18T21:09:02.594Z"
   },
   {
    "duration": 52,
    "start_time": "2022-07-19T07:04:51.002Z"
   },
   {
    "duration": 1413,
    "start_time": "2022-07-19T07:04:55.638Z"
   },
   {
    "duration": 86,
    "start_time": "2022-07-19T07:04:58.634Z"
   },
   {
    "duration": 13,
    "start_time": "2022-07-19T07:04:59.986Z"
   },
   {
    "duration": 14,
    "start_time": "2022-07-19T07:05:00.899Z"
   },
   {
    "duration": 139,
    "start_time": "2022-07-19T07:05:02.603Z"
   },
   {
    "duration": 89,
    "start_time": "2022-07-19T07:05:36.812Z"
   },
   {
    "duration": 128,
    "start_time": "2022-07-19T07:05:59.246Z"
   },
   {
    "duration": 78,
    "start_time": "2022-07-19T07:08:57.182Z"
   },
   {
    "duration": 86,
    "start_time": "2022-07-19T07:09:09.881Z"
   },
   {
    "duration": 98,
    "start_time": "2022-07-19T07:10:23.965Z"
   },
   {
    "duration": 93,
    "start_time": "2022-07-19T07:11:24.582Z"
   },
   {
    "duration": 100,
    "start_time": "2022-07-19T07:11:41.097Z"
   },
   {
    "duration": 105,
    "start_time": "2022-07-19T07:11:56.088Z"
   },
   {
    "duration": 102,
    "start_time": "2022-07-19T07:17:59.196Z"
   },
   {
    "duration": 141,
    "start_time": "2022-07-19T07:18:56.034Z"
   },
   {
    "duration": 105,
    "start_time": "2022-07-19T07:19:25.391Z"
   },
   {
    "duration": 77,
    "start_time": "2022-07-19T07:19:45.360Z"
   },
   {
    "duration": 89,
    "start_time": "2022-07-19T07:19:50.969Z"
   },
   {
    "duration": 78,
    "start_time": "2022-07-19T07:21:36.370Z"
   },
   {
    "duration": 91,
    "start_time": "2022-07-19T07:24:04.756Z"
   },
   {
    "duration": 81,
    "start_time": "2022-07-19T07:24:30.587Z"
   },
   {
    "duration": 94,
    "start_time": "2022-07-19T07:24:47.403Z"
   },
   {
    "duration": 79,
    "start_time": "2022-07-19T07:24:55.348Z"
   },
   {
    "duration": 92,
    "start_time": "2022-07-19T07:25:27.769Z"
   },
   {
    "duration": 96,
    "start_time": "2022-07-19T07:25:46.014Z"
   },
   {
    "duration": 115,
    "start_time": "2022-07-19T07:33:14.931Z"
   },
   {
    "duration": 560,
    "start_time": "2022-07-19T07:35:25.038Z"
   },
   {
    "duration": 162,
    "start_time": "2022-07-19T07:35:29.739Z"
   },
   {
    "duration": 119,
    "start_time": "2022-07-19T07:35:50.288Z"
   },
   {
    "duration": 138,
    "start_time": "2022-07-19T07:36:16.397Z"
   },
   {
    "duration": 115,
    "start_time": "2022-07-19T07:36:23.364Z"
   },
   {
    "duration": 109,
    "start_time": "2022-07-19T07:38:20.871Z"
   },
   {
    "duration": 117,
    "start_time": "2022-07-19T07:38:36.901Z"
   },
   {
    "duration": 99,
    "start_time": "2022-07-19T07:39:23.507Z"
   },
   {
    "duration": 107,
    "start_time": "2022-07-19T07:39:33.125Z"
   },
   {
    "duration": 109,
    "start_time": "2022-07-19T07:39:47.142Z"
   },
   {
    "duration": 113,
    "start_time": "2022-07-19T07:40:05.562Z"
   },
   {
    "duration": 113,
    "start_time": "2022-07-19T07:40:44.081Z"
   },
   {
    "duration": 127,
    "start_time": "2022-07-19T07:42:29.304Z"
   },
   {
    "duration": 116,
    "start_time": "2022-07-19T07:44:34.065Z"
   },
   {
    "duration": 106,
    "start_time": "2022-07-19T07:45:16.143Z"
   },
   {
    "duration": 121,
    "start_time": "2022-07-19T07:46:18.982Z"
   },
   {
    "duration": 105,
    "start_time": "2022-07-19T07:47:28.891Z"
   },
   {
    "duration": 112,
    "start_time": "2022-07-19T07:47:37.662Z"
   },
   {
    "duration": 105,
    "start_time": "2022-07-19T07:50:13.975Z"
   },
   {
    "duration": 95,
    "start_time": "2022-07-19T07:52:49.237Z"
   },
   {
    "duration": 106,
    "start_time": "2022-07-19T07:52:58.343Z"
   },
   {
    "duration": 123,
    "start_time": "2022-07-19T07:53:05.109Z"
   },
   {
    "duration": 113,
    "start_time": "2022-07-19T07:53:21.663Z"
   },
   {
    "duration": 5,
    "start_time": "2022-07-19T08:51:05.575Z"
   },
   {
    "duration": 37,
    "start_time": "2022-07-19T08:51:06.629Z"
   },
   {
    "duration": 12,
    "start_time": "2022-07-19T08:51:08.859Z"
   },
   {
    "duration": 13,
    "start_time": "2022-07-19T08:51:10.519Z"
   },
   {
    "duration": 113,
    "start_time": "2022-07-19T08:51:12.318Z"
   },
   {
    "duration": 7,
    "start_time": "2022-07-19T08:52:11.549Z"
   },
   {
    "duration": 30,
    "start_time": "2022-07-19T09:00:17.455Z"
   },
   {
    "duration": 173,
    "start_time": "2022-07-19T09:01:12.166Z"
   },
   {
    "duration": 137,
    "start_time": "2022-07-19T09:02:20.831Z"
   },
   {
    "duration": 1836,
    "start_time": "2022-07-19T09:03:15.095Z"
   },
   {
    "duration": 128,
    "start_time": "2022-07-19T09:04:02.826Z"
   },
   {
    "duration": 520,
    "start_time": "2022-07-19T09:04:04.276Z"
   },
   {
    "duration": 4,
    "start_time": "2022-07-19T09:04:18.601Z"
   },
   {
    "duration": 37,
    "start_time": "2022-07-19T09:04:19.549Z"
   },
   {
    "duration": 12,
    "start_time": "2022-07-19T09:04:20.360Z"
   },
   {
    "duration": 28,
    "start_time": "2022-07-19T09:04:20.799Z"
   },
   {
    "duration": 118,
    "start_time": "2022-07-19T09:04:21.484Z"
   },
   {
    "duration": 223,
    "start_time": "2022-07-19T09:04:21.949Z"
   },
   {
    "duration": 154,
    "start_time": "2022-07-19T09:04:22.174Z"
   },
   {
    "duration": 348,
    "start_time": "2022-07-19T09:04:22.330Z"
   },
   {
    "duration": 381,
    "start_time": "2022-07-19T09:05:22.076Z"
   },
   {
    "duration": 178,
    "start_time": "2022-07-19T09:09:20.666Z"
   },
   {
    "duration": 156,
    "start_time": "2022-07-19T09:10:12.776Z"
   },
   {
    "duration": 143,
    "start_time": "2022-07-19T09:10:31.186Z"
   },
   {
    "duration": 399,
    "start_time": "2022-07-19T09:11:51.552Z"
   },
   {
    "duration": 4,
    "start_time": "2022-07-19T09:14:03.980Z"
   },
   {
    "duration": 3,
    "start_time": "2022-07-19T09:14:39.357Z"
   },
   {
    "duration": 115,
    "start_time": "2022-07-19T09:14:47.444Z"
   },
   {
    "duration": 88,
    "start_time": "2022-07-19T09:16:14.119Z"
   },
   {
    "duration": 3,
    "start_time": "2022-07-19T09:17:18.889Z"
   },
   {
    "duration": 3,
    "start_time": "2022-07-19T09:17:19.777Z"
   },
   {
    "duration": 342,
    "start_time": "2022-07-19T09:23:49.462Z"
   },
   {
    "duration": 238,
    "start_time": "2022-07-19T09:24:59.509Z"
   },
   {
    "duration": 209,
    "start_time": "2022-07-19T09:25:58.288Z"
   },
   {
    "duration": 288,
    "start_time": "2022-07-19T09:26:06.125Z"
   },
   {
    "duration": 226,
    "start_time": "2022-07-19T09:26:34.274Z"
   },
   {
    "duration": 208,
    "start_time": "2022-07-19T09:26:59.279Z"
   },
   {
    "duration": 219,
    "start_time": "2022-07-19T09:27:12.361Z"
   },
   {
    "duration": 48,
    "start_time": "2022-07-19T20:21:24.045Z"
   },
   {
    "duration": 1249,
    "start_time": "2022-07-19T20:21:42.348Z"
   },
   {
    "duration": 69,
    "start_time": "2022-07-19T20:23:17.860Z"
   },
   {
    "duration": 31,
    "start_time": "2022-07-19T20:23:42.053Z"
   },
   {
    "duration": 32,
    "start_time": "2022-07-19T20:23:51.451Z"
   },
   {
    "duration": 49,
    "start_time": "2022-07-19T20:23:55.011Z"
   },
   {
    "duration": 12,
    "start_time": "2022-07-19T20:23:56.249Z"
   },
   {
    "duration": 187,
    "start_time": "2022-07-19T20:23:58.574Z"
   },
   {
    "duration": 181,
    "start_time": "2022-07-19T20:24:00.571Z"
   },
   {
    "duration": 138,
    "start_time": "2022-07-19T20:25:16.766Z"
   },
   {
    "duration": 130,
    "start_time": "2022-07-19T20:25:46.066Z"
   },
   {
    "duration": 144,
    "start_time": "2022-07-19T20:25:49.631Z"
   },
   {
    "duration": 58,
    "start_time": "2022-07-19T20:26:58.557Z"
   },
   {
    "duration": 300,
    "start_time": "2022-07-19T20:27:11.658Z"
   },
   {
    "duration": 200,
    "start_time": "2022-07-19T20:27:14.629Z"
   },
   {
    "duration": 264,
    "start_time": "2022-07-19T20:30:10.729Z"
   },
   {
    "duration": 188,
    "start_time": "2022-07-19T20:30:47.586Z"
   },
   {
    "duration": 204,
    "start_time": "2022-07-19T20:32:13.723Z"
   },
   {
    "duration": 229,
    "start_time": "2022-07-19T20:32:38.654Z"
   },
   {
    "duration": 196,
    "start_time": "2022-07-19T20:33:33.838Z"
   },
   {
    "duration": 194,
    "start_time": "2022-07-19T20:34:15.077Z"
   },
   {
    "duration": 289,
    "start_time": "2022-07-19T20:35:18.999Z"
   },
   {
    "duration": 183,
    "start_time": "2022-07-19T20:35:57.914Z"
   },
   {
    "duration": 174,
    "start_time": "2022-07-19T20:36:37.981Z"
   },
   {
    "duration": 204,
    "start_time": "2022-07-19T20:36:45.950Z"
   },
   {
    "duration": 219,
    "start_time": "2022-07-19T20:36:58.520Z"
   },
   {
    "duration": 314,
    "start_time": "2022-07-19T20:51:11.838Z"
   },
   {
    "duration": 286,
    "start_time": "2022-07-19T20:51:31.739Z"
   },
   {
    "duration": 242,
    "start_time": "2022-07-19T20:51:51.059Z"
   },
   {
    "duration": 282,
    "start_time": "2022-07-19T20:53:11.345Z"
   },
   {
    "duration": 200,
    "start_time": "2022-07-19T20:53:18.182Z"
   },
   {
    "duration": 191,
    "start_time": "2022-07-19T20:53:24.261Z"
   },
   {
    "duration": 416,
    "start_time": "2022-07-19T20:54:11.906Z"
   },
   {
    "duration": 173,
    "start_time": "2022-07-19T20:59:03.714Z"
   },
   {
    "duration": 129,
    "start_time": "2022-07-19T21:00:40.511Z"
   },
   {
    "duration": 110,
    "start_time": "2022-07-19T21:00:50.159Z"
   },
   {
    "duration": 121,
    "start_time": "2022-07-19T21:01:13.624Z"
   },
   {
    "duration": 120,
    "start_time": "2022-07-19T21:02:06.640Z"
   },
   {
    "duration": 136,
    "start_time": "2022-07-19T21:02:19.749Z"
   },
   {
    "duration": 120,
    "start_time": "2022-07-19T21:02:35.336Z"
   },
   {
    "duration": 122,
    "start_time": "2022-07-19T21:03:01.380Z"
   },
   {
    "duration": 18,
    "start_time": "2022-07-19T21:03:14.758Z"
   },
   {
    "duration": 122,
    "start_time": "2022-07-19T21:03:27.110Z"
   },
   {
    "duration": 6,
    "start_time": "2022-07-19T21:04:28.238Z"
   },
   {
    "duration": 5,
    "start_time": "2022-07-19T21:04:31.560Z"
   },
   {
    "duration": 120,
    "start_time": "2022-07-19T21:06:31.942Z"
   },
   {
    "duration": 124,
    "start_time": "2022-07-19T21:06:40.449Z"
   },
   {
    "duration": 1115,
    "start_time": "2022-07-19T21:08:01.727Z"
   },
   {
    "duration": 1409,
    "start_time": "2022-07-21T12:07:01.618Z"
   },
   {
    "duration": 86,
    "start_time": "2022-07-21T12:07:03.029Z"
   },
   {
    "duration": 16,
    "start_time": "2022-07-21T12:07:05.230Z"
   },
   {
    "duration": 13,
    "start_time": "2022-07-21T12:07:06.265Z"
   },
   {
    "duration": 196,
    "start_time": "2022-07-21T12:07:07.770Z"
   },
   {
    "duration": 174,
    "start_time": "2022-07-21T12:07:09.413Z"
   },
   {
    "duration": 153,
    "start_time": "2022-07-21T12:07:10.425Z"
   },
   {
    "duration": 329,
    "start_time": "2022-07-21T12:07:10.887Z"
   },
   {
    "duration": 203,
    "start_time": "2022-07-21T12:07:12.274Z"
   },
   {
    "duration": 359,
    "start_time": "2022-07-21T12:07:13.190Z"
   },
   {
    "duration": 191,
    "start_time": "2022-07-21T12:07:14.585Z"
   },
   {
    "duration": 393,
    "start_time": "2022-07-21T12:07:16.085Z"
   },
   {
    "duration": 124,
    "start_time": "2022-07-21T12:07:17.937Z"
   },
   {
    "duration": 5,
    "start_time": "2022-07-21T12:07:19.362Z"
   },
   {
    "duration": 1461,
    "start_time": "2022-07-21T12:07:20.518Z"
   },
   {
    "duration": 5,
    "start_time": "2022-07-21T12:08:40.579Z"
   },
   {
    "duration": 6,
    "start_time": "2022-07-21T12:09:00.265Z"
   },
   {
    "duration": 1451,
    "start_time": "2022-07-21T12:23:25.030Z"
   },
   {
    "duration": 8,
    "start_time": "2022-07-21T12:45:56.324Z"
   },
   {
    "duration": 138,
    "start_time": "2022-07-21T12:46:40.188Z"
   },
   {
    "duration": 133,
    "start_time": "2022-07-21T12:47:09.785Z"
   },
   {
    "duration": 59,
    "start_time": "2022-07-21T12:47:30.068Z"
   },
   {
    "duration": 209,
    "start_time": "2022-07-21T12:47:34.282Z"
   },
   {
    "duration": 132,
    "start_time": "2022-07-21T12:48:57.379Z"
   },
   {
    "duration": 120,
    "start_time": "2022-07-21T12:49:06.809Z"
   },
   {
    "duration": 4,
    "start_time": "2022-07-21T12:50:50.590Z"
   },
   {
    "duration": 112,
    "start_time": "2022-07-21T14:13:06.055Z"
   },
   {
    "duration": 197,
    "start_time": "2022-07-21T14:13:10.985Z"
   },
   {
    "duration": 1284,
    "start_time": "2022-07-21T21:42:00.604Z"
   },
   {
    "duration": 80,
    "start_time": "2022-07-21T21:42:01.890Z"
   },
   {
    "duration": 13,
    "start_time": "2022-07-21T21:42:01.972Z"
   },
   {
    "duration": 12,
    "start_time": "2022-07-21T21:42:03.110Z"
   },
   {
    "duration": 176,
    "start_time": "2022-07-21T21:42:03.712Z"
   },
   {
    "duration": 163,
    "start_time": "2022-07-21T21:42:04.309Z"
   },
   {
    "duration": 128,
    "start_time": "2022-07-21T21:42:04.489Z"
   },
   {
    "duration": 345,
    "start_time": "2022-07-21T21:42:04.705Z"
   },
   {
    "duration": 167,
    "start_time": "2022-07-21T21:42:05.325Z"
   },
   {
    "duration": 216,
    "start_time": "2022-07-21T21:43:46.178Z"
   },
   {
    "duration": 162,
    "start_time": "2022-07-21T21:43:56.519Z"
   },
   {
    "duration": 167,
    "start_time": "2022-07-21T21:44:30.489Z"
   },
   {
    "duration": 191,
    "start_time": "2022-07-21T21:44:42.241Z"
   },
   {
    "duration": 140,
    "start_time": "2022-07-21T21:44:50.471Z"
   },
   {
    "duration": 187,
    "start_time": "2022-07-21T21:46:44.260Z"
   },
   {
    "duration": 283,
    "start_time": "2022-07-21T21:47:05.665Z"
   },
   {
    "duration": 203,
    "start_time": "2022-07-21T21:47:16.449Z"
   },
   {
    "duration": 187,
    "start_time": "2022-07-21T21:47:25.283Z"
   },
   {
    "duration": 201,
    "start_time": "2022-07-21T21:51:04.415Z"
   },
   {
    "duration": 194,
    "start_time": "2022-07-21T21:53:12.266Z"
   },
   {
    "duration": 1194,
    "start_time": "2022-07-22T11:43:48.784Z"
   },
   {
    "duration": 116,
    "start_time": "2022-07-22T11:43:49.980Z"
   },
   {
    "duration": 12,
    "start_time": "2022-07-22T11:43:51.849Z"
   },
   {
    "duration": 14,
    "start_time": "2022-07-22T11:43:52.953Z"
   },
   {
    "duration": 217,
    "start_time": "2022-07-22T11:43:54.463Z"
   },
   {
    "duration": 192,
    "start_time": "2022-07-22T11:43:56.152Z"
   },
   {
    "duration": 131,
    "start_time": "2022-07-22T11:43:57.448Z"
   },
   {
    "duration": 251,
    "start_time": "2022-07-22T11:43:57.905Z"
   },
   {
    "duration": 167,
    "start_time": "2022-07-22T11:43:59.852Z"
   },
   {
    "duration": 317,
    "start_time": "2022-07-22T11:44:01.682Z"
   },
   {
    "duration": 1826,
    "start_time": "2022-07-22T13:53:51.945Z"
   },
   {
    "duration": 129,
    "start_time": "2022-07-22T13:53:53.777Z"
   },
   {
    "duration": 21,
    "start_time": "2022-07-22T13:53:55.494Z"
   },
   {
    "duration": 24,
    "start_time": "2022-07-22T13:53:56.127Z"
   },
   {
    "duration": 280,
    "start_time": "2022-07-22T13:53:57.260Z"
   },
   {
    "duration": 279,
    "start_time": "2022-07-22T13:53:58.694Z"
   },
   {
    "duration": 191,
    "start_time": "2022-07-22T13:53:59.639Z"
   },
   {
    "duration": 400,
    "start_time": "2022-07-22T13:54:00.150Z"
   },
   {
    "duration": 248,
    "start_time": "2022-07-22T13:56:25.853Z"
   },
   {
    "duration": 257,
    "start_time": "2022-07-22T13:57:04.266Z"
   },
   {
    "duration": 246,
    "start_time": "2022-07-22T14:04:57.323Z"
   },
   {
    "duration": 366,
    "start_time": "2022-07-22T15:12:13.239Z"
   },
   {
    "duration": 355,
    "start_time": "2022-07-22T15:15:09.943Z"
   },
   {
    "duration": 416,
    "start_time": "2022-07-22T15:15:18.512Z"
   },
   {
    "duration": 236,
    "start_time": "2022-07-22T15:24:21.441Z"
   },
   {
    "duration": 473,
    "start_time": "2022-07-22T15:24:27.179Z"
   },
   {
    "duration": 455,
    "start_time": "2022-07-22T15:25:20.082Z"
   },
   {
    "duration": 300,
    "start_time": "2022-07-22T15:25:28.836Z"
   },
   {
    "duration": 457,
    "start_time": "2022-07-22T15:30:55.096Z"
   },
   {
    "duration": 378,
    "start_time": "2022-07-22T15:31:36.999Z"
   },
   {
    "duration": 348,
    "start_time": "2022-07-22T15:31:49.128Z"
   },
   {
    "duration": 468,
    "start_time": "2022-07-22T15:31:53.779Z"
   },
   {
    "duration": 462,
    "start_time": "2022-07-22T15:32:26.004Z"
   },
   {
    "duration": 368,
    "start_time": "2022-07-22T15:37:37.137Z"
   },
   {
    "duration": 441,
    "start_time": "2022-07-22T15:38:02.364Z"
   },
   {
    "duration": 551,
    "start_time": "2022-07-22T15:44:23.733Z"
   },
   {
    "duration": 186,
    "start_time": "2022-07-22T15:44:45.782Z"
   },
   {
    "duration": 278,
    "start_time": "2022-07-22T15:46:19.797Z"
   },
   {
    "duration": 249,
    "start_time": "2022-07-22T15:46:27.697Z"
   },
   {
    "duration": 361,
    "start_time": "2022-07-22T15:56:49.161Z"
   },
   {
    "duration": 468,
    "start_time": "2022-07-22T15:57:00.199Z"
   },
   {
    "duration": 585,
    "start_time": "2022-07-22T15:57:10.935Z"
   },
   {
    "duration": 420,
    "start_time": "2022-07-22T15:59:31.224Z"
   },
   {
    "duration": 316,
    "start_time": "2022-07-22T16:01:24.376Z"
   },
   {
    "duration": 222,
    "start_time": "2022-07-22T16:01:27.541Z"
   },
   {
    "duration": 10,
    "start_time": "2022-07-22T16:01:34.222Z"
   },
   {
    "duration": 257,
    "start_time": "2022-07-22T16:03:42.483Z"
   },
   {
    "duration": 10,
    "start_time": "2022-07-22T16:08:37.414Z"
   },
   {
    "duration": 142,
    "start_time": "2022-07-22T17:22:30.577Z"
   },
   {
    "duration": 8,
    "start_time": "2022-07-22T17:23:11.569Z"
   },
   {
    "duration": 51,
    "start_time": "2022-07-22T17:23:13.810Z"
   },
   {
    "duration": 20,
    "start_time": "2022-07-22T17:23:14.936Z"
   },
   {
    "duration": 14,
    "start_time": "2022-07-22T17:23:15.743Z"
   },
   {
    "duration": 279,
    "start_time": "2022-07-22T17:23:17.579Z"
   },
   {
    "duration": 308,
    "start_time": "2022-07-22T17:23:19.350Z"
   },
   {
    "duration": 245,
    "start_time": "2022-07-22T17:23:20.037Z"
   },
   {
    "duration": 337,
    "start_time": "2022-07-22T17:23:21.005Z"
   },
   {
    "duration": 339,
    "start_time": "2022-07-22T17:23:22.711Z"
   },
   {
    "duration": 456,
    "start_time": "2022-07-22T17:23:24.554Z"
   },
   {
    "duration": 393,
    "start_time": "2022-07-22T17:23:26.038Z"
   },
   {
    "duration": 442,
    "start_time": "2022-07-22T17:23:27.801Z"
   },
   {
    "duration": 209,
    "start_time": "2022-07-22T17:23:29.955Z"
   },
   {
    "duration": 7,
    "start_time": "2022-07-22T17:23:31.601Z"
   },
   {
    "duration": 279,
    "start_time": "2022-07-22T17:23:32.736Z"
   },
   {
    "duration": 267,
    "start_time": "2022-07-22T17:23:34.003Z"
   },
   {
    "duration": 5,
    "start_time": "2022-07-22T17:23:38.257Z"
   },
   {
    "duration": 18,
    "start_time": "2022-07-22T17:23:40.423Z"
   },
   {
    "duration": 20,
    "start_time": "2022-07-22T17:37:24.136Z"
   },
   {
    "duration": 35,
    "start_time": "2022-07-22T17:37:30.995Z"
   },
   {
    "duration": 22,
    "start_time": "2022-07-22T17:37:56.664Z"
   },
   {
    "duration": 16,
    "start_time": "2022-07-22T17:38:28.460Z"
   },
   {
    "duration": 32,
    "start_time": "2022-07-22T17:38:49.700Z"
   },
   {
    "duration": 23,
    "start_time": "2022-07-22T17:38:51.785Z"
   },
   {
    "duration": 18,
    "start_time": "2022-07-22T17:38:57.572Z"
   },
   {
    "duration": 39,
    "start_time": "2022-07-22T17:39:12.295Z"
   },
   {
    "duration": 20,
    "start_time": "2022-07-22T17:39:55.136Z"
   },
   {
    "duration": 115,
    "start_time": "2022-07-22T17:41:24.501Z"
   },
   {
    "duration": 20,
    "start_time": "2022-07-22T17:41:29.639Z"
   },
   {
    "duration": 17,
    "start_time": "2022-07-22T17:43:04.129Z"
   },
   {
    "duration": 27,
    "start_time": "2022-07-22T17:45:52.009Z"
   },
   {
    "duration": 21,
    "start_time": "2022-07-22T17:45:55.876Z"
   },
   {
    "duration": 263,
    "start_time": "2022-07-22T17:58:09.513Z"
   },
   {
    "duration": 266,
    "start_time": "2022-07-22T18:07:56.334Z"
   },
   {
    "duration": 15,
    "start_time": "2022-07-22T18:48:21.597Z"
   },
   {
    "duration": 15,
    "start_time": "2022-07-22T18:49:01.943Z"
   },
   {
    "duration": 20,
    "start_time": "2022-07-22T18:49:19.974Z"
   },
   {
    "duration": 15,
    "start_time": "2022-07-22T18:49:34.507Z"
   },
   {
    "duration": 30,
    "start_time": "2022-07-22T18:50:23.591Z"
   },
   {
    "duration": 37,
    "start_time": "2022-07-22T18:53:50.698Z"
   },
   {
    "duration": 7,
    "start_time": "2022-07-22T18:56:52.185Z"
   },
   {
    "duration": 6,
    "start_time": "2022-07-22T18:56:55.765Z"
   },
   {
    "duration": 41,
    "start_time": "2022-07-22T19:04:44.247Z"
   },
   {
    "duration": 35,
    "start_time": "2022-07-22T19:04:50.403Z"
   },
   {
    "duration": 10,
    "start_time": "2022-07-22T19:05:10.568Z"
   },
   {
    "duration": 34,
    "start_time": "2022-07-22T19:05:16.526Z"
   },
   {
    "duration": 49,
    "start_time": "2022-07-22T19:05:33.254Z"
   },
   {
    "duration": 35,
    "start_time": "2022-07-22T19:07:58.199Z"
   },
   {
    "duration": 65,
    "start_time": "2022-07-22T19:08:15.315Z"
   },
   {
    "duration": 55,
    "start_time": "2022-07-22T19:08:31.495Z"
   },
   {
    "duration": 55,
    "start_time": "2022-07-22T19:11:59.727Z"
   },
   {
    "duration": 34,
    "start_time": "2022-07-22T19:13:11.908Z"
   },
   {
    "duration": 9,
    "start_time": "2022-07-22T19:14:10.130Z"
   },
   {
    "duration": 22,
    "start_time": "2022-07-22T19:20:07.283Z"
   },
   {
    "duration": 39,
    "start_time": "2022-07-22T19:20:48.017Z"
   },
   {
    "duration": 9,
    "start_time": "2022-07-22T19:21:13.169Z"
   },
   {
    "duration": 29,
    "start_time": "2022-07-22T19:21:23.509Z"
   },
   {
    "duration": 21,
    "start_time": "2022-07-22T19:21:25.059Z"
   },
   {
    "duration": 29,
    "start_time": "2022-07-22T19:21:32.166Z"
   },
   {
    "duration": 10,
    "start_time": "2022-07-22T19:21:34.281Z"
   },
   {
    "duration": 44,
    "start_time": "2022-07-22T19:21:46.796Z"
   },
   {
    "duration": 37,
    "start_time": "2022-07-22T19:23:26.109Z"
   },
   {
    "duration": 22,
    "start_time": "2022-07-22T19:23:29.955Z"
   },
   {
    "duration": 10,
    "start_time": "2022-07-22T19:23:31.690Z"
   },
   {
    "duration": 78,
    "start_time": "2022-07-22T19:26:18.749Z"
   },
   {
    "duration": 49,
    "start_time": "2022-07-22T19:27:00.253Z"
   },
   {
    "duration": 46,
    "start_time": "2022-07-22T19:27:22.162Z"
   },
   {
    "duration": 13,
    "start_time": "2022-07-22T19:27:23.003Z"
   },
   {
    "duration": 53,
    "start_time": "2022-07-22T19:27:24.717Z"
   },
   {
    "duration": 44,
    "start_time": "2022-07-22T19:28:35.792Z"
   },
   {
    "duration": 1525,
    "start_time": "2022-07-22T21:45:03.642Z"
   },
   {
    "duration": 95,
    "start_time": "2022-07-22T21:45:07.153Z"
   },
   {
    "duration": 18,
    "start_time": "2022-07-22T21:45:08.511Z"
   },
   {
    "duration": 15,
    "start_time": "2022-07-22T21:45:08.781Z"
   },
   {
    "duration": 200,
    "start_time": "2022-07-22T21:45:09.683Z"
   },
   {
    "duration": 194,
    "start_time": "2022-07-22T21:45:10.246Z"
   },
   {
    "duration": 159,
    "start_time": "2022-07-22T21:45:10.479Z"
   },
   {
    "duration": 330,
    "start_time": "2022-07-22T21:45:10.651Z"
   },
   {
    "duration": 211,
    "start_time": "2022-07-22T21:45:11.784Z"
   },
   {
    "duration": 354,
    "start_time": "2022-07-22T21:45:12.759Z"
   },
   {
    "duration": 241,
    "start_time": "2022-07-22T21:45:13.314Z"
   },
   {
    "duration": 382,
    "start_time": "2022-07-22T21:45:13.938Z"
   },
   {
    "duration": 164,
    "start_time": "2022-07-22T21:45:14.592Z"
   },
   {
    "duration": 5,
    "start_time": "2022-07-22T21:45:16.872Z"
   },
   {
    "duration": 181,
    "start_time": "2022-07-22T21:45:18.709Z"
   },
   {
    "duration": 186,
    "start_time": "2022-07-22T21:45:19.524Z"
   },
   {
    "duration": 6,
    "start_time": "2022-07-22T21:45:21.681Z"
   },
   {
    "duration": 15,
    "start_time": "2022-07-22T21:45:23.776Z"
   },
   {
    "duration": 23,
    "start_time": "2022-07-22T21:45:24.386Z"
   },
   {
    "duration": 8,
    "start_time": "2022-07-22T21:45:24.980Z"
   },
   {
    "duration": 38,
    "start_time": "2022-07-22T21:45:26.178Z"
   },
   {
    "duration": 109,
    "start_time": "2022-07-22T21:45:37.293Z"
   },
   {
    "duration": 911,
    "start_time": "2022-07-22T22:03:16.940Z"
   },
   {
    "duration": 12,
    "start_time": "2022-07-22T22:04:21.000Z"
   },
   {
    "duration": 1041,
    "start_time": "2022-07-22T22:04:39.083Z"
   },
   {
    "duration": 1083,
    "start_time": "2022-07-22T22:04:44.189Z"
   },
   {
    "duration": 10,
    "start_time": "2022-07-22T22:05:34.655Z"
   },
   {
    "duration": 13,
    "start_time": "2022-07-22T22:11:12.907Z"
   },
   {
    "duration": 15,
    "start_time": "2022-07-22T22:12:25.582Z"
   },
   {
    "duration": 27,
    "start_time": "2022-07-22T22:12:34.599Z"
   },
   {
    "duration": 33,
    "start_time": "2022-07-22T22:13:34.873Z"
   },
   {
    "duration": 28,
    "start_time": "2022-07-22T22:14:31.313Z"
   },
   {
    "duration": 10,
    "start_time": "2022-07-22T22:15:10.149Z"
   },
   {
    "duration": 803,
    "start_time": "2022-07-22T22:15:58.424Z"
   },
   {
    "duration": 902,
    "start_time": "2022-07-22T22:16:43.824Z"
   },
   {
    "duration": 18,
    "start_time": "2022-07-22T22:16:53.276Z"
   },
   {
    "duration": 17,
    "start_time": "2022-07-22T22:18:55.303Z"
   },
   {
    "duration": 12,
    "start_time": "2022-07-22T22:21:20.534Z"
   },
   {
    "duration": 73,
    "start_time": "2022-07-22T22:22:23.876Z"
   },
   {
    "duration": 53,
    "start_time": "2022-07-22T22:22:29.890Z"
   },
   {
    "duration": 15,
    "start_time": "2022-07-22T22:23:16.476Z"
   },
   {
    "duration": 11,
    "start_time": "2022-07-22T22:24:54.251Z"
   },
   {
    "duration": 15,
    "start_time": "2022-07-22T22:25:27.353Z"
   },
   {
    "duration": 12,
    "start_time": "2022-07-22T22:28:26.338Z"
   },
   {
    "duration": 18,
    "start_time": "2022-07-22T22:40:16.322Z"
   },
   {
    "duration": 210,
    "start_time": "2022-07-22T23:03:47.939Z"
   },
   {
    "duration": 228,
    "start_time": "2022-07-22T23:04:13.431Z"
   },
   {
    "duration": 209,
    "start_time": "2022-07-22T23:05:58.100Z"
   },
   {
    "duration": 214,
    "start_time": "2022-07-22T23:06:11.631Z"
   },
   {
    "duration": 215,
    "start_time": "2022-07-22T23:06:46.919Z"
   },
   {
    "duration": 227,
    "start_time": "2022-07-22T23:07:05.408Z"
   },
   {
    "duration": 213,
    "start_time": "2022-07-22T23:08:48.586Z"
   },
   {
    "duration": 221,
    "start_time": "2022-07-22T23:10:27.686Z"
   },
   {
    "duration": 15,
    "start_time": "2022-07-22T23:19:02.192Z"
   },
   {
    "duration": 6,
    "start_time": "2022-07-22T23:25:26.388Z"
   },
   {
    "duration": 7,
    "start_time": "2022-07-22T23:26:34.437Z"
   },
   {
    "duration": 9,
    "start_time": "2022-07-22T23:27:00.548Z"
   },
   {
    "duration": 9,
    "start_time": "2022-07-22T23:28:09.808Z"
   },
   {
    "duration": 192,
    "start_time": "2022-07-22T23:30:45.900Z"
   },
   {
    "duration": 211,
    "start_time": "2022-07-22T23:31:12.838Z"
   },
   {
    "duration": 14,
    "start_time": "2022-07-22T23:33:54.278Z"
   },
   {
    "duration": 67,
    "start_time": "2022-07-22T23:35:03.382Z"
   },
   {
    "duration": 14,
    "start_time": "2022-07-22T23:35:07.966Z"
   },
   {
    "duration": 10,
    "start_time": "2022-07-22T23:35:31.170Z"
   },
   {
    "duration": 1250,
    "start_time": "2022-07-22T23:38:14.071Z"
   },
   {
    "duration": 933,
    "start_time": "2022-07-22T23:38:22.178Z"
   },
   {
    "duration": 1389,
    "start_time": "2022-07-22T23:38:34.659Z"
   },
   {
    "duration": 14,
    "start_time": "2022-07-22T23:39:02.161Z"
   },
   {
    "duration": 14,
    "start_time": "2022-07-22T23:39:30.532Z"
   },
   {
    "duration": 15,
    "start_time": "2022-07-22T23:42:14.054Z"
   },
   {
    "duration": 13,
    "start_time": "2022-07-22T23:43:11.150Z"
   },
   {
    "duration": 13,
    "start_time": "2022-07-22T23:45:01.745Z"
   },
   {
    "duration": 1130,
    "start_time": "2022-07-23T00:01:39.256Z"
   },
   {
    "duration": 37,
    "start_time": "2022-07-23T00:01:40.388Z"
   },
   {
    "duration": 12,
    "start_time": "2022-07-23T00:01:40.427Z"
   },
   {
    "duration": 11,
    "start_time": "2022-07-23T00:01:40.441Z"
   },
   {
    "duration": 94,
    "start_time": "2022-07-23T00:01:40.454Z"
   },
   {
    "duration": 167,
    "start_time": "2022-07-23T00:01:40.549Z"
   },
   {
    "duration": 130,
    "start_time": "2022-07-23T00:01:40.718Z"
   },
   {
    "duration": 317,
    "start_time": "2022-07-23T00:01:40.849Z"
   },
   {
    "duration": 198,
    "start_time": "2022-07-23T00:01:41.168Z"
   },
   {
    "duration": 303,
    "start_time": "2022-07-23T00:01:41.369Z"
   },
   {
    "duration": 213,
    "start_time": "2022-07-23T00:01:41.675Z"
   },
   {
    "duration": 317,
    "start_time": "2022-07-23T00:01:41.890Z"
   },
   {
    "duration": 145,
    "start_time": "2022-07-23T00:01:42.208Z"
   },
   {
    "duration": 8,
    "start_time": "2022-07-23T00:01:42.355Z"
   },
   {
    "duration": 149,
    "start_time": "2022-07-23T00:01:42.365Z"
   },
   {
    "duration": 140,
    "start_time": "2022-07-23T00:01:42.516Z"
   },
   {
    "duration": 4,
    "start_time": "2022-07-23T00:01:42.660Z"
   },
   {
    "duration": 17,
    "start_time": "2022-07-23T00:01:42.665Z"
   },
   {
    "duration": 28,
    "start_time": "2022-07-23T00:01:42.684Z"
   },
   {
    "duration": 8,
    "start_time": "2022-07-23T00:01:42.714Z"
   },
   {
    "duration": 130,
    "start_time": "2022-07-23T00:01:42.724Z"
   },
   {
    "duration": 13,
    "start_time": "2022-07-23T00:01:42.856Z"
   },
   {
    "duration": 10,
    "start_time": "2022-07-23T00:01:42.870Z"
   },
   {
    "duration": 34,
    "start_time": "2022-07-23T00:01:42.881Z"
   },
   {
    "duration": 15,
    "start_time": "2022-07-23T00:01:42.916Z"
   },
   {
    "duration": 1356,
    "start_time": "2022-07-23T21:08:10.948Z"
   },
   {
    "duration": 81,
    "start_time": "2022-07-23T21:08:12.306Z"
   },
   {
    "duration": 11,
    "start_time": "2022-07-23T21:08:12.389Z"
   },
   {
    "duration": 12,
    "start_time": "2022-07-23T21:08:12.402Z"
   },
   {
    "duration": 165,
    "start_time": "2022-07-23T21:08:12.415Z"
   },
   {
    "duration": 168,
    "start_time": "2022-07-23T21:08:12.581Z"
   },
   {
    "duration": 155,
    "start_time": "2022-07-23T21:08:12.751Z"
   },
   {
    "duration": 340,
    "start_time": "2022-07-23T21:08:12.909Z"
   },
   {
    "duration": 210,
    "start_time": "2022-07-23T21:08:13.251Z"
   },
   {
    "duration": 378,
    "start_time": "2022-07-23T21:08:13.464Z"
   },
   {
    "duration": 224,
    "start_time": "2022-07-23T21:08:13.844Z"
   },
   {
    "duration": 356,
    "start_time": "2022-07-23T21:08:14.069Z"
   },
   {
    "duration": 159,
    "start_time": "2022-07-23T21:08:14.426Z"
   },
   {
    "duration": 5,
    "start_time": "2022-07-23T21:08:14.586Z"
   },
   {
    "duration": 157,
    "start_time": "2022-07-23T21:08:14.604Z"
   },
   {
    "duration": 151,
    "start_time": "2022-07-23T21:08:14.762Z"
   },
   {
    "duration": 4,
    "start_time": "2022-07-23T21:08:14.914Z"
   },
   {
    "duration": 16,
    "start_time": "2022-07-23T21:08:14.920Z"
   },
   {
    "duration": 24,
    "start_time": "2022-07-23T21:08:14.937Z"
   },
   {
    "duration": 6,
    "start_time": "2022-07-23T21:08:14.962Z"
   },
   {
    "duration": 126,
    "start_time": "2022-07-23T21:08:14.970Z"
   },
   {
    "duration": 13,
    "start_time": "2022-07-23T21:08:15.106Z"
   },
   {
    "duration": 11,
    "start_time": "2022-07-23T21:08:15.121Z"
   },
   {
    "duration": 32,
    "start_time": "2022-07-23T21:08:15.133Z"
   },
   {
    "duration": 39,
    "start_time": "2022-07-23T21:08:15.167Z"
   },
   {
    "duration": 80,
    "start_time": "2022-07-24T04:04:35.309Z"
   },
   {
    "duration": 1417,
    "start_time": "2022-07-24T04:04:40.067Z"
   },
   {
    "duration": 86,
    "start_time": "2022-07-24T04:04:42.513Z"
   },
   {
    "duration": 75,
    "start_time": "2022-07-24T04:05:12.854Z"
   },
   {
    "duration": 18,
    "start_time": "2022-07-24T04:06:15.677Z"
   },
   {
    "duration": 18,
    "start_time": "2022-07-24T04:06:17.264Z"
   },
   {
    "duration": 187,
    "start_time": "2022-07-24T04:06:26.344Z"
   },
   {
    "duration": 1367,
    "start_time": "2022-07-24T13:46:24.384Z"
   },
   {
    "duration": 79,
    "start_time": "2022-07-24T13:46:25.753Z"
   },
   {
    "duration": 16,
    "start_time": "2022-07-24T13:46:28.659Z"
   },
   {
    "duration": 14,
    "start_time": "2022-07-24T13:46:29.935Z"
   },
   {
    "duration": 183,
    "start_time": "2022-07-24T13:46:33.204Z"
   },
   {
    "duration": 174,
    "start_time": "2022-07-24T13:48:06.943Z"
   },
   {
    "duration": 88,
    "start_time": "2022-07-24T13:49:12.745Z"
   },
   {
    "duration": 92,
    "start_time": "2022-07-24T13:49:21.192Z"
   },
   {
    "duration": 106,
    "start_time": "2022-07-24T13:50:12.587Z"
   },
   {
    "duration": 78,
    "start_time": "2022-07-24T13:52:47.844Z"
   },
   {
    "duration": 106,
    "start_time": "2022-07-24T13:54:37.691Z"
   },
   {
    "duration": 117,
    "start_time": "2022-07-24T13:55:13.254Z"
   },
   {
    "duration": 72,
    "start_time": "2022-07-24T14:04:30.399Z"
   },
   {
    "duration": 72,
    "start_time": "2022-07-24T14:04:38.591Z"
   },
   {
    "duration": 1473,
    "start_time": "2022-07-24T14:04:44.889Z"
   },
   {
    "duration": 1293,
    "start_time": "2022-07-24T14:04:55.790Z"
   },
   {
    "duration": 81,
    "start_time": "2022-07-24T14:05:08.818Z"
   },
   {
    "duration": 105,
    "start_time": "2022-07-24T14:05:15.219Z"
   },
   {
    "duration": 71,
    "start_time": "2022-07-24T14:05:32.718Z"
   },
   {
    "duration": 108,
    "start_time": "2022-07-24T14:05:37.157Z"
   },
   {
    "duration": 113,
    "start_time": "2022-07-24T14:05:58.353Z"
   },
   {
    "duration": 114,
    "start_time": "2022-07-24T14:06:29.391Z"
   },
   {
    "duration": 113,
    "start_time": "2022-07-24T14:07:51.182Z"
   },
   {
    "duration": 128,
    "start_time": "2022-07-24T14:08:07.975Z"
   },
   {
    "duration": 132,
    "start_time": "2022-07-24T14:08:38.446Z"
   },
   {
    "duration": 125,
    "start_time": "2022-07-24T14:10:58.684Z"
   },
   {
    "duration": 138,
    "start_time": "2022-07-24T14:12:23.384Z"
   },
   {
    "duration": 142,
    "start_time": "2022-07-24T14:12:35.892Z"
   },
   {
    "duration": 126,
    "start_time": "2022-07-24T14:14:05.774Z"
   },
   {
    "duration": 127,
    "start_time": "2022-07-24T14:17:55.860Z"
   },
   {
    "duration": 83,
    "start_time": "2022-07-24T14:18:08.932Z"
   },
   {
    "duration": 85,
    "start_time": "2022-07-24T14:18:16.154Z"
   },
   {
    "duration": 77,
    "start_time": "2022-07-24T14:18:20.422Z"
   },
   {
    "duration": 78,
    "start_time": "2022-07-24T14:18:29.184Z"
   },
   {
    "duration": 171,
    "start_time": "2022-07-24T14:18:43.066Z"
   },
   {
    "duration": 82,
    "start_time": "2022-07-24T14:18:51.213Z"
   },
   {
    "duration": 167,
    "start_time": "2022-07-24T14:21:58.542Z"
   },
   {
    "duration": 120,
    "start_time": "2022-07-24T14:22:05.199Z"
   },
   {
    "duration": 124,
    "start_time": "2022-07-24T14:22:27.103Z"
   },
   {
    "duration": 170,
    "start_time": "2022-07-24T14:22:32.434Z"
   },
   {
    "duration": 122,
    "start_time": "2022-07-24T14:24:26.834Z"
   },
   {
    "duration": 81,
    "start_time": "2022-07-24T14:24:49.703Z"
   },
   {
    "duration": 78,
    "start_time": "2022-07-24T14:24:59.306Z"
   },
   {
    "duration": 121,
    "start_time": "2022-07-24T14:25:03.551Z"
   },
   {
    "duration": 127,
    "start_time": "2022-07-24T14:25:11.109Z"
   },
   {
    "duration": 115,
    "start_time": "2022-07-24T14:25:22.179Z"
   },
   {
    "duration": 129,
    "start_time": "2022-07-24T14:25:24.848Z"
   },
   {
    "duration": 77,
    "start_time": "2022-07-24T14:25:33.660Z"
   },
   {
    "duration": 118,
    "start_time": "2022-07-24T14:27:30.528Z"
   },
   {
    "duration": 73,
    "start_time": "2022-07-24T14:29:26.353Z"
   },
   {
    "duration": 110,
    "start_time": "2022-07-24T14:29:39.239Z"
   },
   {
    "duration": 110,
    "start_time": "2022-07-24T14:29:53.925Z"
   },
   {
    "duration": 109,
    "start_time": "2022-07-24T14:35:12.958Z"
   },
   {
    "duration": 160,
    "start_time": "2022-07-24T14:36:16.158Z"
   },
   {
    "duration": 171,
    "start_time": "2022-07-24T14:36:36.636Z"
   },
   {
    "duration": 12,
    "start_time": "2022-07-24T14:39:16.994Z"
   },
   {
    "duration": 176,
    "start_time": "2022-07-24T14:39:28.016Z"
   },
   {
    "duration": 126,
    "start_time": "2022-07-24T14:39:28.928Z"
   },
   {
    "duration": 115,
    "start_time": "2022-07-24T14:39:37.130Z"
   },
   {
    "duration": 188,
    "start_time": "2022-07-24T14:39:41.937Z"
   },
   {
    "duration": 168,
    "start_time": "2022-07-24T14:39:46.014Z"
   },
   {
    "duration": 532,
    "start_time": "2022-07-24T14:39:50.387Z"
   },
   {
    "duration": 227,
    "start_time": "2022-07-24T14:40:32.438Z"
   },
   {
    "duration": 260,
    "start_time": "2022-07-24T14:40:43.856Z"
   },
   {
    "duration": 289,
    "start_time": "2022-07-24T14:40:59.769Z"
   },
   {
    "duration": 231,
    "start_time": "2022-07-24T14:41:53.036Z"
   },
   {
    "duration": 469,
    "start_time": "2022-07-24T14:42:13.885Z"
   },
   {
    "duration": 243,
    "start_time": "2022-07-24T14:42:26.861Z"
   },
   {
    "duration": 387,
    "start_time": "2022-07-24T14:42:37.194Z"
   },
   {
    "duration": 189,
    "start_time": "2022-07-24T14:42:50.381Z"
   },
   {
    "duration": 191,
    "start_time": "2022-07-24T14:43:03.168Z"
   },
   {
    "duration": 160,
    "start_time": "2022-07-24T14:43:14.483Z"
   },
   {
    "duration": 185,
    "start_time": "2022-07-24T14:43:30.464Z"
   },
   {
    "duration": 169,
    "start_time": "2022-07-24T14:43:34.561Z"
   },
   {
    "duration": 12,
    "start_time": "2022-07-24T14:46:21.930Z"
   },
   {
    "duration": 254,
    "start_time": "2022-07-24T14:47:23.531Z"
   },
   {
    "duration": 302,
    "start_time": "2022-07-24T14:47:34.151Z"
   },
   {
    "duration": 253,
    "start_time": "2022-07-24T14:49:21.351Z"
   },
   {
    "duration": 372,
    "start_time": "2022-07-24T14:50:23.345Z"
   },
   {
    "duration": 354,
    "start_time": "2022-07-24T14:51:49.459Z"
   },
   {
    "duration": 279,
    "start_time": "2022-07-24T14:52:35.283Z"
   },
   {
    "duration": 240,
    "start_time": "2022-07-24T14:55:14.580Z"
   },
   {
    "duration": 823,
    "start_time": "2022-07-24T14:56:38.671Z"
   },
   {
    "duration": 259,
    "start_time": "2022-07-24T14:57:03.463Z"
   },
   {
    "duration": 833,
    "start_time": "2022-07-24T14:57:32.001Z"
   },
   {
    "duration": 934,
    "start_time": "2022-07-24T14:57:57.651Z"
   },
   {
    "duration": 248,
    "start_time": "2022-07-24T14:58:11.119Z"
   },
   {
    "duration": 253,
    "start_time": "2022-07-24T14:58:18.453Z"
   },
   {
    "duration": 252,
    "start_time": "2022-07-24T14:58:27.065Z"
   },
   {
    "duration": 365,
    "start_time": "2022-07-24T14:58:40.490Z"
   },
   {
    "duration": 799,
    "start_time": "2022-07-24T14:58:44.277Z"
   },
   {
    "duration": 238,
    "start_time": "2022-07-24T15:01:24.983Z"
   },
   {
    "duration": 207,
    "start_time": "2022-07-24T15:02:20.718Z"
   },
   {
    "duration": 202,
    "start_time": "2022-07-24T15:02:54.933Z"
   },
   {
    "duration": 198,
    "start_time": "2022-07-24T15:03:19.821Z"
   },
   {
    "duration": 216,
    "start_time": "2022-07-24T15:05:32.995Z"
   },
   {
    "duration": 219,
    "start_time": "2022-07-24T15:07:00.846Z"
   },
   {
    "duration": 215,
    "start_time": "2022-07-24T15:11:08.372Z"
   },
   {
    "duration": 198,
    "start_time": "2022-07-24T15:12:09.626Z"
   },
   {
    "duration": 204,
    "start_time": "2022-07-24T15:12:53.141Z"
   },
   {
    "duration": 310,
    "start_time": "2022-07-24T15:13:18.718Z"
   },
   {
    "duration": 211,
    "start_time": "2022-07-24T15:13:45.061Z"
   },
   {
    "duration": 203,
    "start_time": "2022-07-24T15:14:09.250Z"
   },
   {
    "duration": 136,
    "start_time": "2022-07-24T15:15:32.846Z"
   },
   {
    "duration": 191,
    "start_time": "2022-07-24T15:15:46.622Z"
   },
   {
    "duration": 158,
    "start_time": "2022-07-24T15:17:32.671Z"
   },
   {
    "duration": 313,
    "start_time": "2022-07-24T15:17:48.252Z"
   },
   {
    "duration": 316,
    "start_time": "2022-07-24T15:18:07.207Z"
   },
   {
    "duration": 310,
    "start_time": "2022-07-24T15:20:42.343Z"
   },
   {
    "duration": 399,
    "start_time": "2022-07-24T15:20:46.913Z"
   },
   {
    "duration": 324,
    "start_time": "2022-07-24T15:21:30.487Z"
   },
   {
    "duration": 343,
    "start_time": "2022-07-24T15:21:40.495Z"
   },
   {
    "duration": 342,
    "start_time": "2022-07-24T15:23:03.205Z"
   },
   {
    "duration": 323,
    "start_time": "2022-07-24T15:23:12.645Z"
   },
   {
    "duration": 339,
    "start_time": "2022-07-24T15:23:24.224Z"
   },
   {
    "duration": 297,
    "start_time": "2022-07-24T15:23:34.487Z"
   },
   {
    "duration": 460,
    "start_time": "2022-07-24T15:23:41.004Z"
   },
   {
    "duration": 329,
    "start_time": "2022-07-24T15:23:57.615Z"
   },
   {
    "duration": 355,
    "start_time": "2022-07-24T15:24:55.345Z"
   },
   {
    "duration": 10,
    "start_time": "2022-07-24T15:40:16.747Z"
   },
   {
    "duration": 4,
    "start_time": "2022-07-24T15:40:25.114Z"
   },
   {
    "duration": 17,
    "start_time": "2022-07-24T15:40:26.825Z"
   },
   {
    "duration": 21,
    "start_time": "2022-07-24T15:40:27.751Z"
   },
   {
    "duration": 7,
    "start_time": "2022-07-24T15:40:29.078Z"
   },
   {
    "duration": 5,
    "start_time": "2022-07-24T15:40:29.944Z"
   },
   {
    "duration": 11,
    "start_time": "2022-07-24T16:36:29.184Z"
   },
   {
    "duration": 32,
    "start_time": "2022-07-24T16:36:35.176Z"
   },
   {
    "duration": 7,
    "start_time": "2022-07-24T16:42:51.280Z"
   },
   {
    "duration": 6,
    "start_time": "2022-07-24T16:43:02.205Z"
   },
   {
    "duration": 9,
    "start_time": "2022-07-24T16:47:03.234Z"
   },
   {
    "duration": 15,
    "start_time": "2022-07-24T16:47:10.897Z"
   },
   {
    "duration": 9,
    "start_time": "2022-07-24T16:47:23.393Z"
   },
   {
    "duration": 7,
    "start_time": "2022-07-24T16:47:36.339Z"
   },
   {
    "duration": 7,
    "start_time": "2022-07-24T16:49:34.820Z"
   },
   {
    "duration": 10,
    "start_time": "2022-07-24T16:50:31.582Z"
   },
   {
    "duration": 13,
    "start_time": "2022-07-24T16:50:54.656Z"
   },
   {
    "duration": 10,
    "start_time": "2022-07-24T16:54:50.250Z"
   },
   {
    "duration": 11,
    "start_time": "2022-07-24T16:54:55.683Z"
   },
   {
    "duration": 11,
    "start_time": "2022-07-24T16:54:58.821Z"
   },
   {
    "duration": 14,
    "start_time": "2022-07-24T16:58:54.634Z"
   },
   {
    "duration": 24,
    "start_time": "2022-07-24T16:59:02.272Z"
   },
   {
    "duration": 11,
    "start_time": "2022-07-24T17:24:47.082Z"
   },
   {
    "duration": 9,
    "start_time": "2022-07-24T17:27:37.887Z"
   },
   {
    "duration": 5,
    "start_time": "2022-07-24T17:27:41.674Z"
   },
   {
    "duration": 7,
    "start_time": "2022-07-24T17:28:35.924Z"
   },
   {
    "duration": 6,
    "start_time": "2022-07-24T17:28:44.158Z"
   },
   {
    "duration": 6,
    "start_time": "2022-07-24T17:28:49.001Z"
   },
   {
    "duration": 5,
    "start_time": "2022-07-24T17:29:36.194Z"
   },
   {
    "duration": 5,
    "start_time": "2022-07-24T17:30:18.649Z"
   },
   {
    "duration": 14,
    "start_time": "2022-07-24T17:31:30.185Z"
   },
   {
    "duration": 8,
    "start_time": "2022-07-24T17:34:31.301Z"
   },
   {
    "duration": 12,
    "start_time": "2022-07-24T17:34:51.059Z"
   },
   {
    "duration": 10,
    "start_time": "2022-07-24T17:35:10.054Z"
   },
   {
    "duration": 25,
    "start_time": "2022-07-24T17:40:32.163Z"
   },
   {
    "duration": 21,
    "start_time": "2022-07-24T17:41:21.894Z"
   },
   {
    "duration": 13,
    "start_time": "2022-07-24T17:48:37.897Z"
   },
   {
    "duration": 14,
    "start_time": "2022-07-24T17:58:22.870Z"
   },
   {
    "duration": 42,
    "start_time": "2022-07-24T17:58:37.097Z"
   },
   {
    "duration": 23,
    "start_time": "2022-07-24T18:00:01.399Z"
   },
   {
    "duration": 25,
    "start_time": "2022-07-24T18:00:41.587Z"
   },
   {
    "duration": 20,
    "start_time": "2022-07-24T18:02:20.644Z"
   },
   {
    "duration": 28,
    "start_time": "2022-07-24T18:02:45.197Z"
   },
   {
    "duration": 21,
    "start_time": "2022-07-24T18:03:52.187Z"
   },
   {
    "duration": 13,
    "start_time": "2022-07-24T18:04:33.093Z"
   },
   {
    "duration": 64,
    "start_time": "2022-07-24T18:12:42.782Z"
   },
   {
    "duration": 1112,
    "start_time": "2022-07-24T18:13:01.146Z"
   },
   {
    "duration": 51,
    "start_time": "2022-07-24T18:13:03.323Z"
   },
   {
    "duration": 20,
    "start_time": "2022-07-24T18:13:04.714Z"
   },
   {
    "duration": 13,
    "start_time": "2022-07-24T18:13:05.049Z"
   },
   {
    "duration": 129,
    "start_time": "2022-07-24T18:13:05.862Z"
   },
   {
    "duration": 202,
    "start_time": "2022-07-24T18:13:08.539Z"
   },
   {
    "duration": 164,
    "start_time": "2022-07-24T18:13:09.168Z"
   },
   {
    "duration": 371,
    "start_time": "2022-07-24T18:13:10.733Z"
   },
   {
    "duration": 121,
    "start_time": "2022-07-24T18:13:16.581Z"
   },
   {
    "duration": 24,
    "start_time": "2022-07-24T18:14:08.327Z"
   },
   {
    "duration": 1566,
    "start_time": "2022-07-24T18:14:40.023Z"
   },
   {
    "duration": 1766,
    "start_time": "2022-07-24T18:15:03.624Z"
   },
   {
    "duration": 224,
    "start_time": "2022-07-24T18:15:27.338Z"
   },
   {
    "duration": 25,
    "start_time": "2022-07-24T18:16:57.480Z"
   },
   {
    "duration": 19,
    "start_time": "2022-07-24T18:17:22.714Z"
   },
   {
    "duration": 19,
    "start_time": "2022-07-24T18:17:45.539Z"
   },
   {
    "duration": 13,
    "start_time": "2022-07-24T18:17:57.839Z"
   },
   {
    "duration": 15,
    "start_time": "2022-07-24T18:18:13.444Z"
   },
   {
    "duration": 48,
    "start_time": "2022-07-24T18:18:57.517Z"
   },
   {
    "duration": 211,
    "start_time": "2022-07-24T18:19:20.143Z"
   },
   {
    "duration": 190,
    "start_time": "2022-07-24T18:19:53.585Z"
   },
   {
    "duration": 176,
    "start_time": "2022-07-24T18:20:08.298Z"
   },
   {
    "duration": 98,
    "start_time": "2022-07-24T18:20:21.232Z"
   },
   {
    "duration": 185,
    "start_time": "2022-07-24T18:20:23.748Z"
   },
   {
    "duration": 185,
    "start_time": "2022-07-24T18:20:59.473Z"
   },
   {
    "duration": 260,
    "start_time": "2022-07-24T18:21:16.617Z"
   },
   {
    "duration": 85,
    "start_time": "2022-07-24T18:22:33.408Z"
   },
   {
    "duration": 192,
    "start_time": "2022-07-24T18:22:38.053Z"
   },
   {
    "duration": 190,
    "start_time": "2022-07-24T18:23:32.392Z"
   },
   {
    "duration": 235,
    "start_time": "2022-07-24T18:24:40.101Z"
   },
   {
    "duration": 188,
    "start_time": "2022-07-24T18:25:06.246Z"
   },
   {
    "duration": 184,
    "start_time": "2022-07-24T18:26:10.794Z"
   },
   {
    "duration": 199,
    "start_time": "2022-07-24T18:26:30.529Z"
   },
   {
    "duration": 197,
    "start_time": "2022-07-24T18:27:31.220Z"
   },
   {
    "duration": 212,
    "start_time": "2022-07-24T18:27:57.554Z"
   },
   {
    "duration": 176,
    "start_time": "2022-07-24T18:28:08.139Z"
   },
   {
    "duration": 136,
    "start_time": "2022-07-24T18:28:09.245Z"
   },
   {
    "duration": 276,
    "start_time": "2022-07-24T18:28:11.001Z"
   },
   {
    "duration": 177,
    "start_time": "2022-07-24T18:29:16.119Z"
   },
   {
    "duration": 1319,
    "start_time": "2022-07-25T00:26:19.278Z"
   },
   {
    "duration": 78,
    "start_time": "2022-07-25T00:26:20.599Z"
   },
   {
    "duration": 18,
    "start_time": "2022-07-25T00:26:23.119Z"
   },
   {
    "duration": 12,
    "start_time": "2022-07-25T00:26:26.047Z"
   },
   {
    "duration": 212,
    "start_time": "2022-07-25T00:26:30.662Z"
   },
   {
    "duration": 163,
    "start_time": "2022-07-25T00:26:36.669Z"
   },
   {
    "duration": 135,
    "start_time": "2022-07-25T00:26:39.527Z"
   },
   {
    "duration": 318,
    "start_time": "2022-07-25T00:26:42.120Z"
   },
   {
    "duration": 1493,
    "start_time": "2022-07-25T11:42:43.837Z"
   },
   {
    "duration": 81,
    "start_time": "2022-07-25T11:42:48.290Z"
   },
   {
    "duration": 11,
    "start_time": "2022-07-25T11:42:50.800Z"
   },
   {
    "duration": 11,
    "start_time": "2022-07-25T11:42:51.787Z"
   },
   {
    "duration": 220,
    "start_time": "2022-07-25T11:42:53.585Z"
   },
   {
    "duration": 176,
    "start_time": "2022-07-25T11:42:57.241Z"
   },
   {
    "duration": 128,
    "start_time": "2022-07-25T11:43:00.371Z"
   },
   {
    "duration": 342,
    "start_time": "2022-07-25T11:43:02.105Z"
   },
   {
    "duration": 180,
    "start_time": "2022-07-25T11:48:57.691Z"
   },
   {
    "duration": 171,
    "start_time": "2022-07-25T11:55:57.272Z"
   },
   {
    "duration": 204,
    "start_time": "2022-07-25T11:57:44.979Z"
   },
   {
    "duration": 207,
    "start_time": "2022-07-25T11:57:58.287Z"
   },
   {
    "duration": 92,
    "start_time": "2022-07-25T11:58:57.412Z"
   },
   {
    "duration": 202,
    "start_time": "2022-07-25T11:59:06.881Z"
   },
   {
    "duration": 198,
    "start_time": "2022-07-25T11:59:23.946Z"
   },
   {
    "duration": 213,
    "start_time": "2022-07-25T12:00:20.554Z"
   },
   {
    "duration": 231,
    "start_time": "2022-07-25T12:13:55.486Z"
   },
   {
    "duration": 323,
    "start_time": "2022-07-25T12:14:23.051Z"
   },
   {
    "duration": 255,
    "start_time": "2022-07-25T12:14:31.055Z"
   },
   {
    "duration": 202,
    "start_time": "2022-07-25T12:14:40.382Z"
   },
   {
    "duration": 238,
    "start_time": "2022-07-25T12:15:29.033Z"
   },
   {
    "duration": 209,
    "start_time": "2022-07-25T12:20:56.540Z"
   },
   {
    "duration": 212,
    "start_time": "2022-07-25T12:21:31.003Z"
   },
   {
    "duration": 18,
    "start_time": "2022-07-25T12:22:42.225Z"
   },
   {
    "duration": 210,
    "start_time": "2022-07-25T12:26:20.276Z"
   },
   {
    "duration": 198,
    "start_time": "2022-07-25T12:26:56.850Z"
   },
   {
    "duration": 97,
    "start_time": "2022-07-25T12:30:30.979Z"
   },
   {
    "duration": 1268,
    "start_time": "2022-07-25T12:30:38.816Z"
   },
   {
    "duration": 42,
    "start_time": "2022-07-25T12:31:32.848Z"
   },
   {
    "duration": 1301,
    "start_time": "2022-07-25T12:31:51.501Z"
   },
   {
    "duration": 225,
    "start_time": "2022-07-25T12:32:35.522Z"
   },
   {
    "duration": 209,
    "start_time": "2022-07-25T12:34:09.480Z"
   },
   {
    "duration": 251,
    "start_time": "2022-07-25T12:34:25.975Z"
   },
   {
    "duration": 22,
    "start_time": "2022-07-25T12:38:31.924Z"
   },
   {
    "duration": 25,
    "start_time": "2022-07-25T12:39:40.964Z"
   },
   {
    "duration": 19,
    "start_time": "2022-07-25T12:39:53.712Z"
   },
   {
    "duration": 23,
    "start_time": "2022-07-25T12:40:21.176Z"
   },
   {
    "duration": 35,
    "start_time": "2022-07-25T12:41:54.484Z"
   },
   {
    "duration": 34,
    "start_time": "2022-07-25T12:42:00.715Z"
   },
   {
    "duration": 25,
    "start_time": "2022-07-25T12:42:17.012Z"
   },
   {
    "duration": 35,
    "start_time": "2022-07-25T12:44:34.200Z"
   },
   {
    "duration": 31,
    "start_time": "2022-07-25T12:44:48.987Z"
   },
   {
    "duration": 48,
    "start_time": "2022-07-25T12:45:34.456Z"
   },
   {
    "duration": 24,
    "start_time": "2022-07-25T12:46:03.714Z"
   },
   {
    "duration": 41,
    "start_time": "2022-07-25T12:46:47.621Z"
   },
   {
    "duration": 38,
    "start_time": "2022-07-25T12:50:33.877Z"
   },
   {
    "duration": 60,
    "start_time": "2022-07-25T12:51:01.774Z"
   },
   {
    "duration": 55,
    "start_time": "2022-07-25T12:52:13.913Z"
   },
   {
    "duration": 64,
    "start_time": "2022-07-25T12:56:42.531Z"
   },
   {
    "duration": 50,
    "start_time": "2022-07-25T12:58:35.767Z"
   },
   {
    "duration": 70,
    "start_time": "2022-07-25T13:00:11.668Z"
   },
   {
    "duration": 56,
    "start_time": "2022-07-25T13:00:34.926Z"
   },
   {
    "duration": 53,
    "start_time": "2022-07-25T13:01:05.704Z"
   },
   {
    "duration": 55,
    "start_time": "2022-07-25T13:01:26.777Z"
   },
   {
    "duration": 80,
    "start_time": "2022-07-25T13:02:10.587Z"
   },
   {
    "duration": 71,
    "start_time": "2022-07-25T13:03:03.898Z"
   },
   {
    "duration": 77,
    "start_time": "2022-07-25T13:06:01.224Z"
   },
   {
    "duration": 40,
    "start_time": "2022-07-25T13:07:09.430Z"
   },
   {
    "duration": 45,
    "start_time": "2022-07-25T13:08:08.278Z"
   },
   {
    "duration": 41,
    "start_time": "2022-07-25T13:08:20.208Z"
   },
   {
    "duration": 56,
    "start_time": "2022-07-25T13:08:36.453Z"
   },
   {
    "duration": 55,
    "start_time": "2022-07-25T13:09:37.180Z"
   },
   {
    "duration": 31,
    "start_time": "2022-07-25T13:12:52.031Z"
   },
   {
    "duration": 37,
    "start_time": "2022-07-25T13:13:53.165Z"
   },
   {
    "duration": 43,
    "start_time": "2022-07-25T13:14:05.763Z"
   },
   {
    "duration": 16,
    "start_time": "2022-07-25T13:14:57.891Z"
   },
   {
    "duration": 34,
    "start_time": "2022-07-25T13:16:22.422Z"
   },
   {
    "duration": 30,
    "start_time": "2022-07-25T13:16:32.696Z"
   },
   {
    "duration": 32,
    "start_time": "2022-07-25T13:18:02.266Z"
   },
   {
    "duration": 31,
    "start_time": "2022-07-25T13:18:22.382Z"
   },
   {
    "duration": 30,
    "start_time": "2022-07-25T13:18:37.225Z"
   },
   {
    "duration": 32,
    "start_time": "2022-07-25T13:19:41.605Z"
   },
   {
    "duration": 904,
    "start_time": "2022-07-25T13:28:53.881Z"
   },
   {
    "duration": 666,
    "start_time": "2022-07-25T13:29:11.286Z"
   },
   {
    "duration": 530,
    "start_time": "2022-07-25T13:31:56.879Z"
   },
   {
    "duration": 1165,
    "start_time": "2022-07-25T13:32:37.175Z"
   },
   {
    "duration": 38,
    "start_time": "2022-07-25T13:32:38.342Z"
   },
   {
    "duration": 15,
    "start_time": "2022-07-25T13:32:40.206Z"
   },
   {
    "duration": 16,
    "start_time": "2022-07-25T13:32:41.001Z"
   },
   {
    "duration": 122,
    "start_time": "2022-07-25T13:32:43.174Z"
   },
   {
    "duration": 178,
    "start_time": "2022-07-25T13:32:45.645Z"
   },
   {
    "duration": 167,
    "start_time": "2022-07-25T13:32:46.119Z"
   },
   {
    "duration": 334,
    "start_time": "2022-07-25T13:32:46.681Z"
   },
   {
    "duration": 150,
    "start_time": "2022-07-25T13:32:49.883Z"
   },
   {
    "duration": 41,
    "start_time": "2022-07-25T13:32:50.905Z"
   },
   {
    "duration": 34,
    "start_time": "2022-07-25T13:33:52.993Z"
   },
   {
    "duration": 467,
    "start_time": "2022-07-25T13:33:59.837Z"
   },
   {
    "duration": 587,
    "start_time": "2022-07-25T13:34:29.200Z"
   },
   {
    "duration": 5,
    "start_time": "2022-07-25T13:40:05.753Z"
   },
   {
    "duration": 5,
    "start_time": "2022-07-25T13:42:48.136Z"
   },
   {
    "duration": 5,
    "start_time": "2022-07-25T13:42:55.444Z"
   },
   {
    "duration": 11,
    "start_time": "2022-07-25T13:43:10.972Z"
   },
   {
    "duration": 56,
    "start_time": "2022-07-25T13:46:59.349Z"
   },
   {
    "duration": 16,
    "start_time": "2022-07-25T13:47:45.042Z"
   },
   {
    "duration": 20,
    "start_time": "2022-07-25T13:48:07.126Z"
   },
   {
    "duration": 13,
    "start_time": "2022-07-25T13:48:33.608Z"
   },
   {
    "duration": 18,
    "start_time": "2022-07-25T13:49:04.884Z"
   },
   {
    "duration": 16,
    "start_time": "2022-07-25T13:50:51.827Z"
   },
   {
    "duration": 11,
    "start_time": "2022-07-25T13:51:07.922Z"
   },
   {
    "duration": 21,
    "start_time": "2022-07-25T13:52:50.324Z"
   },
   {
    "duration": 12,
    "start_time": "2022-07-25T13:53:37.196Z"
   },
   {
    "duration": 15,
    "start_time": "2022-07-25T13:53:44.223Z"
   },
   {
    "duration": 11,
    "start_time": "2022-07-25T13:54:45.896Z"
   },
   {
    "duration": 17,
    "start_time": "2022-07-25T13:56:14.830Z"
   },
   {
    "duration": 23,
    "start_time": "2022-07-25T13:56:39.415Z"
   },
   {
    "duration": 11,
    "start_time": "2022-07-25T13:56:54.777Z"
   },
   {
    "duration": 234,
    "start_time": "2022-07-25T14:04:39.695Z"
   },
   {
    "duration": 241,
    "start_time": "2022-07-25T14:06:01.674Z"
   },
   {
    "duration": 475,
    "start_time": "2022-07-25T14:10:07.539Z"
   },
   {
    "duration": 560,
    "start_time": "2022-07-25T14:13:18.723Z"
   },
   {
    "duration": 482,
    "start_time": "2022-07-25T14:14:11.393Z"
   },
   {
    "duration": 479,
    "start_time": "2022-07-25T14:14:31.329Z"
   },
   {
    "duration": 259,
    "start_time": "2022-07-25T14:24:45.894Z"
   },
   {
    "duration": 14,
    "start_time": "2022-07-25T14:26:39.485Z"
   },
   {
    "duration": 88,
    "start_time": "2022-07-25T14:26:46.260Z"
   },
   {
    "duration": 83,
    "start_time": "2022-07-25T14:26:58.922Z"
   },
   {
    "duration": 569,
    "start_time": "2022-07-25T14:28:47.806Z"
   },
   {
    "duration": 479,
    "start_time": "2022-07-25T14:29:08.073Z"
   },
   {
    "duration": 512,
    "start_time": "2022-07-25T14:30:40.535Z"
   },
   {
    "duration": 554,
    "start_time": "2022-07-25T14:33:36.331Z"
   },
   {
    "duration": 496,
    "start_time": "2022-07-25T14:33:50.730Z"
   },
   {
    "duration": 85,
    "start_time": "2022-07-25T14:34:28.423Z"
   },
   {
    "duration": 81,
    "start_time": "2022-07-25T14:34:36.632Z"
   },
   {
    "duration": 596,
    "start_time": "2022-07-25T14:34:45.245Z"
   },
   {
    "duration": 242,
    "start_time": "2022-07-25T14:35:58.610Z"
   },
   {
    "duration": 149,
    "start_time": "2022-07-25T14:36:29.279Z"
   },
   {
    "duration": 32,
    "start_time": "2022-07-25T14:36:44.563Z"
   },
   {
    "duration": 208,
    "start_time": "2022-07-25T14:36:54.006Z"
   },
   {
    "duration": 30,
    "start_time": "2022-07-25T14:44:15.832Z"
   },
   {
    "duration": 30,
    "start_time": "2022-07-25T14:45:01.824Z"
   },
   {
    "duration": 1290,
    "start_time": "2022-07-25T14:45:07.851Z"
   },
   {
    "duration": 34,
    "start_time": "2022-07-25T14:45:19.079Z"
   },
   {
    "duration": 30,
    "start_time": "2022-07-25T14:45:29.930Z"
   },
   {
    "duration": 1343,
    "start_time": "2022-07-25T14:45:44.631Z"
   },
   {
    "duration": 1188,
    "start_time": "2022-07-25T14:45:55.724Z"
   },
   {
    "duration": 1322,
    "start_time": "2022-07-25T14:46:09.940Z"
   },
   {
    "duration": 7,
    "start_time": "2022-07-25T14:46:31.345Z"
   },
   {
    "duration": 35,
    "start_time": "2022-07-25T14:46:48.954Z"
   },
   {
    "duration": 27,
    "start_time": "2022-07-25T14:46:54.648Z"
   },
   {
    "duration": 647,
    "start_time": "2022-07-25T14:47:00.597Z"
   },
   {
    "duration": 81,
    "start_time": "2022-07-25T14:47:26.761Z"
   },
   {
    "duration": 1200,
    "start_time": "2022-07-25T14:47:31.024Z"
   },
   {
    "duration": 38,
    "start_time": "2022-07-25T14:47:37.717Z"
   },
   {
    "duration": 28,
    "start_time": "2022-07-25T14:47:45.039Z"
   },
   {
    "duration": 31,
    "start_time": "2022-07-25T14:48:05.937Z"
   },
   {
    "duration": 32,
    "start_time": "2022-07-25T15:01:17.754Z"
   },
   {
    "duration": 26,
    "start_time": "2022-07-25T15:01:42.107Z"
   },
   {
    "duration": 28,
    "start_time": "2022-07-25T15:02:01.035Z"
   },
   {
    "duration": 32,
    "start_time": "2022-07-25T15:02:29.253Z"
   },
   {
    "duration": 102,
    "start_time": "2022-07-25T15:02:51.244Z"
   },
   {
    "duration": 32,
    "start_time": "2022-07-25T15:02:55.698Z"
   },
   {
    "duration": 27,
    "start_time": "2022-07-25T15:03:19.816Z"
   },
   {
    "duration": 29,
    "start_time": "2022-07-25T15:03:24.309Z"
   },
   {
    "duration": 27,
    "start_time": "2022-07-25T15:03:30.790Z"
   },
   {
    "duration": 26,
    "start_time": "2022-07-25T15:03:37.718Z"
   },
   {
    "duration": 29,
    "start_time": "2022-07-25T15:03:48.909Z"
   },
   {
    "duration": 27,
    "start_time": "2022-07-25T15:05:58.193Z"
   },
   {
    "duration": 26,
    "start_time": "2022-07-25T15:06:10.295Z"
   },
   {
    "duration": 28,
    "start_time": "2022-07-25T15:06:42.842Z"
   },
   {
    "duration": 225,
    "start_time": "2022-07-25T15:29:43.569Z"
   },
   {
    "duration": 239,
    "start_time": "2022-07-25T15:30:10.196Z"
   },
   {
    "duration": 234,
    "start_time": "2022-07-25T15:30:55.176Z"
   },
   {
    "duration": 263,
    "start_time": "2022-07-25T15:40:32.307Z"
   },
   {
    "duration": 223,
    "start_time": "2022-07-25T15:42:23.248Z"
   },
   {
    "duration": 255,
    "start_time": "2022-07-25T15:50:36.908Z"
   },
   {
    "duration": 361,
    "start_time": "2022-07-25T15:50:49.933Z"
   },
   {
    "duration": 298,
    "start_time": "2022-07-25T15:53:45.891Z"
   },
   {
    "duration": 406,
    "start_time": "2022-07-25T15:57:26.384Z"
   },
   {
    "duration": 471,
    "start_time": "2022-07-25T15:58:05.734Z"
   },
   {
    "duration": 378,
    "start_time": "2022-07-25T15:59:59.549Z"
   },
   {
    "duration": 383,
    "start_time": "2022-07-25T16:00:19.477Z"
   },
   {
    "duration": 1192,
    "start_time": "2022-07-25T16:00:51.004Z"
   },
   {
    "duration": 34,
    "start_time": "2022-07-25T16:00:52.197Z"
   },
   {
    "duration": 12,
    "start_time": "2022-07-25T16:00:52.233Z"
   },
   {
    "duration": 23,
    "start_time": "2022-07-25T16:00:52.247Z"
   },
   {
    "duration": 132,
    "start_time": "2022-07-25T16:00:52.272Z"
   },
   {
    "duration": 262,
    "start_time": "2022-07-25T16:00:52.405Z"
   },
   {
    "duration": 171,
    "start_time": "2022-07-25T16:00:52.672Z"
   },
   {
    "duration": 427,
    "start_time": "2022-07-25T16:00:52.845Z"
   },
   {
    "duration": 37,
    "start_time": "2022-07-25T16:00:53.275Z"
   },
   {
    "duration": 218,
    "start_time": "2022-07-25T16:00:53.316Z"
   },
   {
    "duration": 156,
    "start_time": "2022-07-25T16:00:53.536Z"
   },
   {
    "duration": 27,
    "start_time": "2022-07-25T16:00:53.694Z"
   },
   {
    "duration": 301,
    "start_time": "2022-07-25T16:00:53.723Z"
   },
   {
    "duration": 267,
    "start_time": "2022-07-25T16:00:54.026Z"
   },
   {
    "duration": 275,
    "start_time": "2022-07-25T16:00:54.295Z"
   },
   {
    "duration": 358,
    "start_time": "2022-07-25T16:00:54.578Z"
   },
   {
    "duration": 299,
    "start_time": "2022-07-25T16:00:54.938Z"
   },
   {
    "duration": 344,
    "start_time": "2022-07-25T16:00:55.239Z"
   },
   {
    "duration": 428,
    "start_time": "2022-07-25T16:00:55.585Z"
   },
   {
    "duration": 243,
    "start_time": "2022-07-25T16:00:56.015Z"
   },
   {
    "duration": 9,
    "start_time": "2022-07-25T16:00:56.267Z"
   },
   {
    "duration": 246,
    "start_time": "2022-07-25T16:00:56.280Z"
   },
   {
    "duration": 379,
    "start_time": "2022-07-25T16:00:56.528Z"
   },
   {
    "duration": 5,
    "start_time": "2022-07-25T16:00:56.909Z"
   },
   {
    "duration": 28,
    "start_time": "2022-07-25T16:00:56.915Z"
   },
   {
    "duration": 55,
    "start_time": "2022-07-25T16:00:56.944Z"
   },
   {
    "duration": 7,
    "start_time": "2022-07-25T16:00:57.001Z"
   },
   {
    "duration": 23,
    "start_time": "2022-07-25T16:00:57.011Z"
   },
   {
    "duration": 45,
    "start_time": "2022-07-25T16:00:57.036Z"
   },
   {
    "duration": 18,
    "start_time": "2022-07-25T16:00:57.083Z"
   },
   {
    "duration": 13,
    "start_time": "2022-07-25T16:00:57.102Z"
   },
   {
    "duration": 14,
    "start_time": "2022-07-25T16:00:57.117Z"
   },
   {
    "duration": 38,
    "start_time": "2022-07-25T16:00:57.133Z"
   },
   {
    "duration": 35,
    "start_time": "2022-07-25T16:00:57.174Z"
   },
   {
    "duration": 22,
    "start_time": "2022-07-25T16:00:57.211Z"
   },
   {
    "duration": 255,
    "start_time": "2022-07-25T16:14:22.125Z"
   },
   {
    "duration": 189,
    "start_time": "2022-07-25T16:14:43.424Z"
   },
   {
    "duration": 290,
    "start_time": "2022-07-25T16:15:29.855Z"
   },
   {
    "duration": 211,
    "start_time": "2022-07-25T16:17:52.348Z"
   },
   {
    "duration": 6,
    "start_time": "2022-07-25T16:18:31.322Z"
   },
   {
    "duration": 3,
    "start_time": "2022-07-25T16:19:46.280Z"
   },
   {
    "duration": 234,
    "start_time": "2022-07-25T16:19:56.880Z"
   },
   {
    "duration": 253,
    "start_time": "2022-07-25T16:21:41.984Z"
   },
   {
    "duration": 228,
    "start_time": "2022-07-25T16:21:55.448Z"
   },
   {
    "duration": 191,
    "start_time": "2022-07-25T16:22:09.892Z"
   },
   {
    "duration": 77,
    "start_time": "2022-07-25T16:23:00.549Z"
   },
   {
    "duration": 207,
    "start_time": "2022-07-25T16:23:25.450Z"
   },
   {
    "duration": 187,
    "start_time": "2022-07-25T16:23:54.248Z"
   },
   {
    "duration": 184,
    "start_time": "2022-07-25T16:24:30.812Z"
   },
   {
    "duration": 159,
    "start_time": "2022-07-25T16:27:58.757Z"
   },
   {
    "duration": 223,
    "start_time": "2022-07-25T16:28:20.584Z"
   },
   {
    "duration": 183,
    "start_time": "2022-07-25T16:28:28.400Z"
   },
   {
    "duration": 205,
    "start_time": "2022-07-25T16:28:35.911Z"
   },
   {
    "duration": 172,
    "start_time": "2022-07-25T16:28:42.417Z"
   },
   {
    "duration": 251,
    "start_time": "2022-07-25T16:29:31.354Z"
   },
   {
    "duration": 113,
    "start_time": "2022-07-25T16:30:40.652Z"
   },
   {
    "duration": 165,
    "start_time": "2022-07-25T16:31:05.485Z"
   },
   {
    "duration": 315,
    "start_time": "2022-07-25T16:31:27.446Z"
   },
   {
    "duration": 160,
    "start_time": "2022-07-25T16:31:45.942Z"
   },
   {
    "duration": 302,
    "start_time": "2022-07-25T16:32:23.661Z"
   },
   {
    "duration": 278,
    "start_time": "2022-07-25T16:33:01.526Z"
   },
   {
    "duration": 6,
    "start_time": "2022-07-25T16:33:22.159Z"
   },
   {
    "duration": 412,
    "start_time": "2022-07-25T16:34:26.545Z"
   },
   {
    "duration": 493,
    "start_time": "2022-07-25T16:36:54.773Z"
   },
   {
    "duration": 296,
    "start_time": "2022-07-25T16:37:06.879Z"
   },
   {
    "duration": 382,
    "start_time": "2022-07-25T16:37:30.429Z"
   },
   {
    "duration": 424,
    "start_time": "2022-07-25T16:39:36.976Z"
   },
   {
    "duration": 480,
    "start_time": "2022-07-25T16:39:44.726Z"
   },
   {
    "duration": 483,
    "start_time": "2022-07-25T16:39:48.260Z"
   },
   {
    "duration": 500,
    "start_time": "2022-07-25T16:40:12.546Z"
   },
   {
    "duration": 136,
    "start_time": "2022-07-25T17:01:51.417Z"
   },
   {
    "duration": 14,
    "start_time": "2022-07-25T17:04:17.323Z"
   },
   {
    "duration": 9,
    "start_time": "2022-07-25T17:05:29.116Z"
   },
   {
    "duration": 30,
    "start_time": "2022-07-25T17:07:04.357Z"
   },
   {
    "duration": 26,
    "start_time": "2022-07-25T17:07:41.515Z"
   },
   {
    "duration": 18,
    "start_time": "2022-07-25T17:19:40.400Z"
   },
   {
    "duration": 19,
    "start_time": "2022-07-25T17:20:27.746Z"
   },
   {
    "duration": 1190,
    "start_time": "2022-07-25T17:27:38.070Z"
   },
   {
    "duration": 34,
    "start_time": "2022-07-25T17:27:39.263Z"
   },
   {
    "duration": 16,
    "start_time": "2022-07-25T17:27:39.299Z"
   },
   {
    "duration": 17,
    "start_time": "2022-07-25T17:27:39.318Z"
   },
   {
    "duration": 99,
    "start_time": "2022-07-25T17:27:39.337Z"
   },
   {
    "duration": 167,
    "start_time": "2022-07-25T17:27:39.438Z"
   },
   {
    "duration": 147,
    "start_time": "2022-07-25T17:27:39.607Z"
   },
   {
    "duration": 363,
    "start_time": "2022-07-25T17:27:39.755Z"
   },
   {
    "duration": 46,
    "start_time": "2022-07-25T17:27:40.119Z"
   },
   {
    "duration": 174,
    "start_time": "2022-07-25T17:27:40.167Z"
   },
   {
    "duration": 126,
    "start_time": "2022-07-25T17:27:40.342Z"
   },
   {
    "duration": 24,
    "start_time": "2022-07-25T17:27:40.469Z"
   },
   {
    "duration": 250,
    "start_time": "2022-07-25T17:27:40.494Z"
   },
   {
    "duration": 190,
    "start_time": "2022-07-25T17:27:40.753Z"
   },
   {
    "duration": 219,
    "start_time": "2022-07-25T17:27:40.944Z"
   },
   {
    "duration": 321,
    "start_time": "2022-07-25T17:27:41.164Z"
   },
   {
    "duration": 239,
    "start_time": "2022-07-25T17:27:41.486Z"
   },
   {
    "duration": 298,
    "start_time": "2022-07-25T17:27:41.727Z"
   },
   {
    "duration": 353,
    "start_time": "2022-07-25T17:27:42.026Z"
   },
   {
    "duration": 173,
    "start_time": "2022-07-25T17:27:42.381Z"
   },
   {
    "duration": 5,
    "start_time": "2022-07-25T17:27:42.555Z"
   },
   {
    "duration": 229,
    "start_time": "2022-07-25T17:27:42.562Z"
   },
   {
    "duration": 161,
    "start_time": "2022-07-25T17:27:42.793Z"
   },
   {
    "duration": 294,
    "start_time": "2022-07-25T17:27:42.956Z"
   },
   {
    "duration": 5,
    "start_time": "2022-07-25T17:27:43.251Z"
   },
   {
    "duration": 172,
    "start_time": "2022-07-25T17:27:43.258Z"
   },
   {
    "duration": 293,
    "start_time": "2022-07-25T17:27:43.432Z"
   },
   {
    "duration": 24,
    "start_time": "2022-07-25T17:27:43.729Z"
   },
   {
    "duration": 17,
    "start_time": "2022-07-25T17:27:43.754Z"
   },
   {
    "duration": 5,
    "start_time": "2022-07-25T17:27:43.773Z"
   },
   {
    "duration": 25,
    "start_time": "2022-07-25T17:27:43.780Z"
   },
   {
    "duration": 52,
    "start_time": "2022-07-25T17:27:43.807Z"
   },
   {
    "duration": 12,
    "start_time": "2022-07-25T17:27:43.861Z"
   },
   {
    "duration": 11,
    "start_time": "2022-07-25T17:27:43.875Z"
   },
   {
    "duration": 9,
    "start_time": "2022-07-25T17:27:43.888Z"
   },
   {
    "duration": 55,
    "start_time": "2022-07-25T17:27:43.899Z"
   },
   {
    "duration": 29,
    "start_time": "2022-07-25T17:27:43.956Z"
   },
   {
    "duration": 32,
    "start_time": "2022-07-25T17:27:43.987Z"
   },
   {
    "duration": 39,
    "start_time": "2022-07-25T17:27:44.021Z"
   },
   {
    "duration": 9,
    "start_time": "2022-07-25T17:27:44.062Z"
   },
   {
    "duration": 34,
    "start_time": "2022-07-25T17:27:44.073Z"
   },
   {
    "duration": 17,
    "start_time": "2022-07-25T17:27:44.109Z"
   },
   {
    "duration": 16,
    "start_time": "2022-07-25T17:27:44.153Z"
   },
   {
    "duration": 58,
    "start_time": "2022-07-27T11:20:46.212Z"
   },
   {
    "duration": 45,
    "start_time": "2022-07-27T11:28:50.161Z"
   },
   {
    "duration": 6,
    "start_time": "2022-07-27T11:28:56.486Z"
   },
   {
    "duration": 1301,
    "start_time": "2022-07-27T11:29:21.766Z"
   },
   {
    "duration": 64,
    "start_time": "2022-07-27T11:29:23.069Z"
   },
   {
    "duration": 12,
    "start_time": "2022-07-27T11:29:23.135Z"
   },
   {
    "duration": 12,
    "start_time": "2022-07-27T11:29:23.150Z"
   },
   {
    "duration": 185,
    "start_time": "2022-07-27T11:29:23.164Z"
   },
   {
    "duration": 173,
    "start_time": "2022-07-27T11:29:23.351Z"
   },
   {
    "duration": 136,
    "start_time": "2022-07-27T11:29:23.526Z"
   },
   {
    "duration": 363,
    "start_time": "2022-07-27T11:29:23.664Z"
   },
   {
    "duration": 37,
    "start_time": "2022-07-27T11:29:24.029Z"
   },
   {
    "duration": 178,
    "start_time": "2022-07-27T11:29:24.068Z"
   },
   {
    "duration": 132,
    "start_time": "2022-07-27T11:29:24.249Z"
   },
   {
    "duration": 23,
    "start_time": "2022-07-27T11:29:24.383Z"
   },
   {
    "duration": 228,
    "start_time": "2022-07-27T11:29:24.407Z"
   },
   {
    "duration": 207,
    "start_time": "2022-07-27T11:29:24.637Z"
   },
   {
    "duration": 221,
    "start_time": "2022-07-27T11:29:24.845Z"
   },
   {
    "duration": 368,
    "start_time": "2022-07-27T11:29:25.068Z"
   },
   {
    "duration": 231,
    "start_time": "2022-07-27T11:29:25.437Z"
   },
   {
    "duration": 277,
    "start_time": "2022-07-27T11:29:25.669Z"
   },
   {
    "duration": 329,
    "start_time": "2022-07-27T11:29:25.948Z"
   },
   {
    "duration": 159,
    "start_time": "2022-07-27T11:29:26.278Z"
   },
   {
    "duration": 4,
    "start_time": "2022-07-27T11:29:26.439Z"
   },
   {
    "duration": 183,
    "start_time": "2022-07-27T11:29:26.445Z"
   },
   {
    "duration": 163,
    "start_time": "2022-07-27T11:29:26.629Z"
   },
   {
    "duration": 300,
    "start_time": "2022-07-27T11:29:26.793Z"
   },
   {
    "duration": 4,
    "start_time": "2022-07-27T11:29:27.095Z"
   },
   {
    "duration": 176,
    "start_time": "2022-07-27T11:29:27.101Z"
   },
   {
    "duration": 313,
    "start_time": "2022-07-27T11:29:27.279Z"
   },
   {
    "duration": 14,
    "start_time": "2022-07-27T11:29:27.595Z"
   },
   {
    "duration": 35,
    "start_time": "2022-07-27T11:29:27.611Z"
   },
   {
    "duration": 6,
    "start_time": "2022-07-27T11:29:27.647Z"
   },
   {
    "duration": 23,
    "start_time": "2022-07-27T11:29:27.654Z"
   },
   {
    "duration": 25,
    "start_time": "2022-07-27T11:29:27.679Z"
   },
   {
    "duration": 40,
    "start_time": "2022-07-27T11:29:27.705Z"
   },
   {
    "duration": 13,
    "start_time": "2022-07-27T11:29:27.746Z"
   },
   {
    "duration": 8,
    "start_time": "2022-07-27T11:29:27.761Z"
   },
   {
    "duration": 10,
    "start_time": "2022-07-27T11:29:27.770Z"
   },
   {
    "duration": 7,
    "start_time": "2022-07-27T11:29:27.781Z"
   },
   {
    "duration": 22,
    "start_time": "2022-07-27T11:29:27.834Z"
   },
   {
    "duration": 28,
    "start_time": "2022-07-27T11:29:27.858Z"
   },
   {
    "duration": 11,
    "start_time": "2022-07-27T11:29:27.887Z"
   },
   {
    "duration": 39,
    "start_time": "2022-07-27T11:29:27.899Z"
   },
   {
    "duration": 23,
    "start_time": "2022-07-27T11:29:27.940Z"
   },
   {
    "duration": 15,
    "start_time": "2022-07-27T11:29:27.964Z"
   },
   {
    "duration": 13,
    "start_time": "2022-07-27T11:29:27.981Z"
   },
   {
    "duration": 172,
    "start_time": "2022-07-27T11:33:10.184Z"
   },
   {
    "duration": 239,
    "start_time": "2022-07-27T11:33:20.160Z"
   },
   {
    "duration": 169,
    "start_time": "2022-07-27T11:33:39.095Z"
   },
   {
    "duration": 49,
    "start_time": "2022-07-27T11:37:37.183Z"
   },
   {
    "duration": 1275,
    "start_time": "2022-07-27T14:27:49.310Z"
   },
   {
    "duration": 39,
    "start_time": "2022-07-27T14:27:50.587Z"
   },
   {
    "duration": 14,
    "start_time": "2022-07-27T14:27:50.628Z"
   },
   {
    "duration": 13,
    "start_time": "2022-07-27T14:27:50.643Z"
   },
   {
    "duration": 112,
    "start_time": "2022-07-27T14:27:50.658Z"
   },
   {
    "duration": 220,
    "start_time": "2022-07-27T14:27:50.772Z"
   },
   {
    "duration": 173,
    "start_time": "2022-07-27T14:27:50.994Z"
   },
   {
    "duration": 427,
    "start_time": "2022-07-27T14:27:51.169Z"
   },
   {
    "duration": 56,
    "start_time": "2022-07-27T14:27:51.598Z"
   },
   {
    "duration": 205,
    "start_time": "2022-07-27T14:27:51.656Z"
   },
   {
    "duration": 149,
    "start_time": "2022-07-27T14:27:51.862Z"
   },
   {
    "duration": 29,
    "start_time": "2022-07-27T14:27:52.013Z"
   },
   {
    "duration": 292,
    "start_time": "2022-07-27T14:27:52.043Z"
   },
   {
    "duration": 254,
    "start_time": "2022-07-27T14:27:52.338Z"
   },
   {
    "duration": 262,
    "start_time": "2022-07-27T14:27:52.593Z"
   },
   {
    "duration": 400,
    "start_time": "2022-07-27T14:27:52.857Z"
   },
   {
    "duration": 288,
    "start_time": "2022-07-27T14:27:53.259Z"
   },
   {
    "duration": 346,
    "start_time": "2022-07-27T14:27:53.549Z"
   },
   {
    "duration": 389,
    "start_time": "2022-07-27T14:27:53.898Z"
   },
   {
    "duration": 192,
    "start_time": "2022-07-27T14:27:54.289Z"
   },
   {
    "duration": 5,
    "start_time": "2022-07-27T14:27:54.483Z"
   },
   {
    "duration": 224,
    "start_time": "2022-07-27T14:27:54.499Z"
   },
   {
    "duration": 200,
    "start_time": "2022-07-27T14:27:54.725Z"
   },
   {
    "duration": 353,
    "start_time": "2022-07-27T14:27:54.926Z"
   },
   {
    "duration": 5,
    "start_time": "2022-07-27T14:27:55.281Z"
   },
   {
    "duration": 210,
    "start_time": "2022-07-27T14:27:55.288Z"
   },
   {
    "duration": 361,
    "start_time": "2022-07-27T14:27:55.501Z"
   },
   {
    "duration": 16,
    "start_time": "2022-07-27T14:27:55.863Z"
   },
   {
    "duration": 38,
    "start_time": "2022-07-27T14:27:55.881Z"
   },
   {
    "duration": 8,
    "start_time": "2022-07-27T14:27:55.923Z"
   },
   {
    "duration": 16,
    "start_time": "2022-07-27T14:27:55.933Z"
   },
   {
    "duration": 60,
    "start_time": "2022-07-27T14:27:55.951Z"
   },
   {
    "duration": 16,
    "start_time": "2022-07-27T14:27:56.013Z"
   },
   {
    "duration": 13,
    "start_time": "2022-07-27T14:27:56.030Z"
   },
   {
    "duration": 9,
    "start_time": "2022-07-27T14:27:56.044Z"
   },
   {
    "duration": 55,
    "start_time": "2022-07-27T14:27:56.055Z"
   },
   {
    "duration": 29,
    "start_time": "2022-07-27T14:27:56.112Z"
   },
   {
    "duration": 67,
    "start_time": "2022-07-27T14:27:56.143Z"
   },
   {
    "duration": 18,
    "start_time": "2022-07-27T14:27:56.213Z"
   },
   {
    "duration": 12,
    "start_time": "2022-07-27T14:27:56.233Z"
   },
   {
    "duration": 24,
    "start_time": "2022-07-27T14:27:56.248Z"
   },
   {
    "duration": 49,
    "start_time": "2022-07-27T14:27:56.273Z"
   },
   {
    "duration": 21,
    "start_time": "2022-07-27T14:27:56.324Z"
   }
  ],
  "kernelspec": {
   "display_name": "Python 3 (ipykernel)",
   "language": "python",
   "name": "python3"
  },
  "language_info": {
   "codemirror_mode": {
    "name": "ipython",
    "version": 3
   },
   "file_extension": ".py",
   "mimetype": "text/x-python",
   "name": "python",
   "nbconvert_exporter": "python",
   "pygments_lexer": "ipython3",
   "version": "3.8.10"
  },
  "toc": {
   "base_numbering": 1,
   "nav_menu": {
    "height": "502px",
    "width": "507px"
   },
   "number_sections": true,
   "sideBar": true,
   "skip_h1_title": true,
   "title_cell": "Table of Contents",
   "title_sidebar": "Contents",
   "toc_cell": false,
   "toc_position": {
    "height": "662px",
    "left": "333px",
    "top": "111.125px",
    "width": "325px"
   },
   "toc_section_display": true,
   "toc_window_display": true
  }
 },
 "nbformat": 4,
 "nbformat_minor": 2
}
