{
 "cells": [
  {
   "cell_type": "markdown",
   "metadata": {},
   "source": [
    "Привет еще раз! меня зовут Люман Аблаев. Сегодня я проверю твой проект.\n",
    "<br> Дальнейшее общение будет происходить на \"ты\" если это не вызывает никаких проблем.\n",
    "<br> Желательно реагировать на красные комментарии ('исправил', 'не понятно как исправить ошибку', ...)\n",
    "<br> Пожалуйста, не удаляй комментарии ревьюера, так как они повышают качество повторного ревью.\n",
    "\n",
    "Комментарии будут в <font color='green'>зеленой</font>, <font color='blue'>синей</font> или <font color='red'>красной</font> рамках:\n",
    "\n",
    "\n",
    "<div class=\"alert alert-block alert-success\">\n",
    "<b>Успех:</b> Если все сделано отлично\n",
    "</div>\n",
    "\n",
    "<div class=\"alert alert-block alert-info\">\n",
    "<b>Совет: </b> Если можно немного улучшить\n",
    "</div>\n",
    "\n",
    "<div class=\"alert alert-block alert-danger\">\n",
    "<b>Ошибка:</b> Если требуются исправления. Работа не может быть принята с красными комментариями.\n",
    "</div>\n",
    "\n",
    "-------------------\n",
    "\n",
    "Будет очень хорошо, если ты будешь помечать свои действия следующим образом:\n",
    "<div class=\"alert alert-block alert-warning\">\n",
    "<b>Комментарий студента:</b> ..\n",
    "</div>\n",
    "<div class=\"alert alert-block alert-warning\">\n",
    "<b>Изменения:</b> Были внесены следующие изменения ...\n",
    "</div>\n",
    "\n",
    "<font color='orange' style='font-size:24px; font-weight:bold'>Общее впечатление</font>\n",
    "* Спасибо за очередную качественную работу, было интересно ее проверять.\n",
    "- Я оставил некоторые советы надеюсь они будут полезными или интересными.\n",
    "- Техника бутстрап применилась корректно, было проведено тщательное исследование и выбран правильный регион!\n",
    "- Отправляю проект назад, чтобы у тебя была возможность задать вопросы, если они у тебя есть. Если их нет, то можешь просто отправить проект еще раз и я его зачту\n",
    "\n"
   ]
  },
  {
   "cell_type": "markdown",
   "metadata": {},
   "source": [
    "<div class=\"alert alert-warning\">\n",
    "<b> Комментарий студента 2</b>      \n",
    "    \n",
    "Люман, привет! Спасибо тебе еще раз за ревью и ссылки по будстрапу, в спринте эта тема разобрана очень поверхностно, так что дополнительный материал очень кстати! Вопросов пока больше нет, спасибо еще раз!</div>"
   ]
  },
  {
   "cell_type": "markdown",
   "metadata": {},
   "source": [
    "\n",
    "<div class=\"alert alert-block alert-success\">\n",
    "<b>Ревьювер[2]:</b> Было приятно с тобой сотрудничать. Не буду больше задерживать, продолжай в том же духе.\n",
    "</div>"
   ]
  },
  {
   "cell_type": "markdown",
   "metadata": {},
   "source": [
    "# Выбор локации для скважины"
   ]
  },
  {
   "cell_type": "markdown",
   "metadata": {},
   "source": [
    "# Введение  \n",
    "Добывающая компании «ГлавРосГосНефть», планирует разработку нового нефтяного месторождения. Поставлена задача определить регион для разработки. Предоставлены пробы нефти в трёх регионах: в каждом 10 000 месторождений, где измерили качество нефти и объём её запасов. Необходимо разработать модель машинного обучения, которая поможет определить регион, где добыча принесёт наибольшую прибыль. "
   ]
  },
  {
   "cell_type": "markdown",
   "metadata": {},
   "source": [
    "# Общая информация о данных  \n",
    "Данные геологоразведки трёх регионов находятся в файлах:   \n",
    "/datasets/geo_data_0.csv. Скачать датасет  \n",
    "/datasets/geo_data_1.csv. Скачать датасет  \n",
    "/datasets/geo_data_2.csv. Скачать датасет  \n",
    "id — уникальный идентификатор скважины;  \n",
    "f0, f1, f2 — три признака точек (неважно, что они означают, но сами признаки значимы);  \n",
    "product — объём запасов в скважине (тыс. баррелей).  "
   ]
  },
  {
   "cell_type": "markdown",
   "metadata": {},
   "source": [
    "# Дополнительные условия задачи  \n",
    "При разведке региона исследуют 500 точек, из которых с помощью машинного обучения выбирают 200 лучших для разработки.  \n",
    "Бюджет на разработку скважин в регионе — 10 млрд рублей.  \n",
    "При нынешних ценах один баррель сырья приносит 450 рублей дохода. Доход с каждой единицы продукта составляет 450 тыс. рублей, поскольку объём указан в тысячах баррелей.  \n",
    "После оценки рисков нужно оставить лишь те регионы, в которых вероятность убытков меньше 2.5%. Среди них выбирают регион с наибольшей средней прибылью."
   ]
  },
  {
   "cell_type": "markdown",
   "metadata": {},
   "source": [
    "# План работы  \n",
    "\n",
    "1. Импорт данных и библиотек\n",
    "2. Исследовательский анализ данных  \n",
    "3. Подготовка к расчету прибыли  \n",
    "4. Расчет прибыли и рисков  \n",
    "5. Общий вывод"
   ]
  },
  {
   "cell_type": "markdown",
   "metadata": {},
   "source": [
    "## Импорт данных и библиотек"
   ]
  },
  {
   "cell_type": "code",
   "execution_count": null,
   "metadata": {},
   "outputs": [],
   "source": [
    "#!pip3 install -U pandas-profiling"
   ]
  },
  {
   "cell_type": "code",
   "execution_count": null,
   "metadata": {},
   "outputs": [],
   "source": [
    "# Импорт библиотек\n",
    "import pandas as pd\n",
    "import numpy as np\n",
    "from matplotlib import pyplot as plt\n",
    "import seaborn as sns\n",
    "import plotly.express as px\n",
    "from plotly import graph_objects as go\n",
    "from plotly.subplots import make_subplots\n",
    "\n",
    "from sklearn.preprocessing import StandardScaler\n",
    "from sklearn.preprocessing import MinMaxScaler\n",
    "from sklearn.preprocessing import Normalizer\n",
    "\n",
    "from sklearn.model_selection import train_test_split \n",
    "\n",
    "from sklearn.linear_model import LinearRegression\n",
    "\n",
    "from sklearn.metrics import accuracy_score, precision_score, recall_score, f1_score, \\\n",
    "classification_report, confusion_matrix, ConfusionMatrixDisplay, roc_auc_score, roc_curve, auc, \\\n",
    "precision_recall_curve\n",
    " \n",
    "from sklearn.metrics import mean_squared_error\n",
    "\n",
    "pd.options.display.max_columns = None\n",
    "\n",
    "import scipy.stats as st\n",
    "from scipy.stats import bootstrap\n",
    "\n",
    "import pandas_profiling as pp\n",
    "from pandas_profiling import ProfileReport"
   ]
  },
  {
   "cell_type": "code",
   "execution_count": null,
   "metadata": {},
   "outputs": [],
   "source": [
    "# импорт данных\n",
    "geo0 = pd.read_csv('/datasets/geo_data_0.csv')\n",
    "geo1 = pd.read_csv('/datasets/geo_data_1.csv')\n",
    "geo2 = pd.read_csv('/datasets/geo_data_2.csv')"
   ]
  },
  {
   "cell_type": "markdown",
   "metadata": {},
   "source": [
    "## Исследовательский анализ данных"
   ]
  },
  {
   "cell_type": "code",
   "execution_count": null,
   "metadata": {},
   "outputs": [],
   "source": [
    "# создадим список датасетов\n",
    "all_sets = [geo0,geo1,geo2]\n",
    "sets_names = ['geo0','geo1','geo2']"
   ]
  },
  {
   "cell_type": "code",
   "execution_count": null,
   "metadata": {},
   "outputs": [],
   "source": [
    "# единое форматирование названий колонок \n",
    "for i in all_sets:\n",
    "    i.columns = [x.lower().replace(' ', '_') for x in i.columns.values]\n",
    "    display(i.head(1))"
   ]
  },
  {
   "cell_type": "code",
   "execution_count": null,
   "metadata": {},
   "outputs": [],
   "source": [
    "#EDA при помощи библиотеки pandas_profiling для всех 3х датасетов\n",
    "profile_0 = ProfileReport(geo0, \n",
    "                            title='geo0', \n",
    "                            explorative=True)#, \n",
    "                            #html={'style':{'full_width':True}})\n",
    "profile_1 = ProfileReport(geo1, \n",
    "                            title='geo0', \n",
    "                            explorative=True)\n",
    "profile_2 = ProfileReport(geo2, \n",
    "                            title='geo0', \n",
    "                            explorative=True)"
   ]
  },
  {
   "cell_type": "code",
   "execution_count": null,
   "metadata": {
    "scrolled": true
   },
   "outputs": [],
   "source": [
    "# вывод результатов EDA\n",
    "profile_0"
   ]
  },
  {
   "cell_type": "code",
   "execution_count": null,
   "metadata": {
    "scrolled": true
   },
   "outputs": [],
   "source": [
    "profile_1"
   ]
  },
  {
   "cell_type": "code",
   "execution_count": null,
   "metadata": {
    "scrolled": true
   },
   "outputs": [],
   "source": [
    "profile_2"
   ]
  },
  {
   "cell_type": "markdown",
   "metadata": {},
   "source": [
    "***Вывод***  \n",
    "\n",
    "Для анализа предоставлены 3 датасета, каждый из которых включает 10000 наблюдений для 4 метрик: f0, f1, f2, product. Пропусков в данных не обнаружено. Явных дубликатов нет. В данных регионов, которым соответствуют датасеты geo0 и geo2 выявлена прямая умеренная корреляция метрики f2 и product. Для региона, которому соответствует датасет geo1 выявлена сильная прямая корреляция между метриками f2 и product.   \n",
    "Средние показатели объемов запасов сырья в скважине составили:  \n",
    "регион geo0 - 92 тыс. баррелей,  \n",
    "регион geo0 - 69 тыс. баррелей,  \n",
    "регион geo3 - 95 тыс. баррелей."
   ]
  },
  {
   "cell_type": "markdown",
   "metadata": {},
   "source": [
    "\n",
    "<div class=\"alert alert-block alert-success\">\n",
    "<b>Успех:</b> Данные осмотрены хорошо, использован интересный инструмент =)\n",
    "</div>"
   ]
  },
  {
   "cell_type": "markdown",
   "metadata": {},
   "source": [
    "\n",
    "<div class=\"alert alert-block alert-info\">\n",
    "<b>Совет:</b> Можно было бы еще выдвинуть предположение, откуда такая высокая корреляция во 2 регионе с целевым признаком могла возникнуть\n",
    "</div>\n"
   ]
  },
  {
   "cell_type": "markdown",
   "metadata": {},
   "source": [
    "## Подготовка к расчёту прибыли"
   ]
  },
  {
   "cell_type": "code",
   "execution_count": null,
   "metadata": {},
   "outputs": [],
   "source": [
    "points = 500\n",
    "target_points = 200\n",
    "budget = 10**10\n",
    "inc_per_bar = 450\n",
    "inc_per_unit = 450000\n",
    "rnd_st = np.random.RandomState(12345)"
   ]
  },
  {
   "cell_type": "markdown",
   "metadata": {},
   "source": [
    "<div class=\"alert alert-block alert-info\">\n",
    "    \n",
    "<b>Совет:</b> Константы принято записывать в ВЕРХНЕМ РЕГИСТРЕ =) Читем здесь https://pythonworld.ru/osnovy/pep-8-rukovodstvo-po-napisaniyu-koda-na-python.html#section-29\n",
    "    \n",
    "А большие значение можно записывать так: `450_000`.\n",
    "</div> "
   ]
  },
  {
   "cell_type": "code",
   "execution_count": null,
   "metadata": {},
   "outputs": [],
   "source": [
    "# удалим параметр id из датасетов, т.к. он не будет использован для расчетов\n",
    "geo0 = geo0.drop(['id'], axis=1)\n",
    "geo1 = geo1.drop(['id'], axis=1)\n",
    "geo2 = geo2.drop(['id'], axis=1)"
   ]
  },
  {
   "cell_type": "code",
   "execution_count": null,
   "metadata": {},
   "outputs": [],
   "source": [
    "vol_of_raw = budget/target_points/inc_per_unit\n",
    "display(f'необходимый объём сырья для безубыточной разработки новой скважины:{round(vol_of_raw,3)}')"
   ]
  },
  {
   "cell_type": "markdown",
   "metadata": {},
   "source": [
    "***Вывод***  \n",
    "Для безубыточной разработки новой скважины, требуется получение из нее 111.111 тыс. баррелей сырья."
   ]
  },
  {
   "cell_type": "markdown",
   "metadata": {},
   "source": [
    "\n",
    "<div class=\"alert alert-block alert-success\">\n",
    "<b>Успех:</b> Значение для безубыточной разработки посчитано верно, с выводом согласен  \n",
    "</div>\n"
   ]
  },
  {
   "cell_type": "markdown",
   "metadata": {},
   "source": [
    "## Расчёт прибыли и рисков "
   ]
  },
  {
   "cell_type": "code",
   "execution_count": null,
   "metadata": {},
   "outputs": [],
   "source": [
    "#определяем функцию, разделяющую данные на обучающую и тестовую выборки,\n",
    "#обучающую модель и возвращающую метрики качества rmse и r2 и прогнозируемый параметр product\n",
    "def split_and_train(data):\n",
    " \n",
    "    features = data.drop(\"product\", axis=1)\n",
    "    target = data[\"product\"]\n",
    "    features_train, features_valid, target_train, target_valid = train_test_split(features, \n",
    "                                                                                  target, \n",
    "                                                                                  test_size=0.25, \n",
    "                                                                                  random_state=12345)\n",
    "    scaler = MinMaxScaler()\n",
    "    features_train = scaler.fit_transform(features_train)\n",
    "    features_valid = scaler.transform(features_valid)\n",
    "    \n",
    "    lr = LinearRegression(normalize=False)\n",
    "    lr.fit(features_train, target_train)\n",
    "    predictions = lr.predict(features_valid)\n",
    "    predictions = pd.Series(predictions)\n",
    "    rmse = (mean_squared_error(predictions, target_valid))**(0.5)\n",
    "    r2 = lr.score(features_train,target_train)\n",
    "    average_product = sum(predictions) / len(predictions)\n",
    "    \n",
    "    print(f\"Среднее количество прогнозируемого сырья: \\\n",
    "    {round(average_product,3)}, rmse: {round(rmse,3)}, r2: {round(r2,3)}\")\n",
    "    \n",
    "    return (predictions, target_valid.reset_index(drop=True), rmse, average_product)"
   ]
  },
  {
   "cell_type": "code",
   "execution_count": null,
   "metadata": {},
   "outputs": [],
   "source": [
    "predictions_1, target_1, rmse_1, avg_1 = split_and_train(geo0)\n",
    "predictions_2, target_2, rmse_2, avg_2 = split_and_train(geo1)\n",
    "predictions_3, target_3, rmse_3, avg_3 = split_and_train(geo2)"
   ]
  },
  {
   "cell_type": "markdown",
   "metadata": {},
   "source": [
    "<div class=\"alert alert-block alert-success\">\n",
    "<b>Успех:</b> Шаг проделан лаконично, все метрики посчитаны корректно\n",
    "</div> \n"
   ]
  },
  {
   "cell_type": "code",
   "execution_count": null,
   "metadata": {},
   "outputs": [],
   "source": [
    "# функция для отбора скважин и последующего расчета прибыли \n",
    "def revenue(target, probabilities, count):\n",
    "    probs_sorted = probabilities.sort_values(ascending=False)\n",
    "    selected = target[probs_sorted.index][:count]#count] # выбор скважин с максимальным прогнозом модели\n",
    "    return inc_per_unit * selected.sum() - budget"
   ]
  },
  {
   "cell_type": "markdown",
   "metadata": {},
   "source": [
    "\n",
    "\n",
    "<div class=\"alert alert-block alert-success\">\n",
    "<b>Успех:</b> Ф-ция для подсчета прибыли определена верно\n",
    "</div>"
   ]
  },
  {
   "cell_type": "code",
   "execution_count": null,
   "metadata": {},
   "outputs": [],
   "source": [
    "# функция для расчета прибыли и рисков \n",
    "region = ['geo0', 'geo1', 'geo2']\n",
    "def risk(tgt, pred, num):\n",
    "    values = []\n",
    "    for j in range(1000):\n",
    "        target_subsample = tgt.sample(n = 500, replace = True, random_state = rnd_st)\n",
    "        probs_subsample = pred.loc[target_subsample.index]\n",
    "\n",
    "        values.append(revenue(target_subsample, probs_subsample, 200))\n",
    "\n",
    "    values = pd.Series(values)\n",
    "    lower = values.quantile(0.025)\n",
    "    upper = values.quantile(0.975)\n",
    "    risk = values[values < 0].count()/values.count()*100\n",
    "    mean = values.mean()\n",
    "    print(region[num])\n",
    "    print(\"Средняя прибыль:\", round(mean/10**6, 2), 'млн.руб')\n",
    "    print(\"Доверительный интервал от:\", round(lower/10**6, 2),'млн.руб.', 'до:', round(upper/10**6, 2),'млн.руб')\n",
    "    print(\"Риск:\", round(risk, 2), '%')"
   ]
  },
  {
   "cell_type": "markdown",
   "metadata": {},
   "source": [
    "<div class=\"alert alert-block alert-success\">\n",
    "<b>Успех:</b> С бутстрапом тоже все в порядке, метрики считаются верным образом!  \n",
    "</div>"
   ]
  },
  {
   "cell_type": "code",
   "execution_count": null,
   "metadata": {},
   "outputs": [],
   "source": [
    "risk(target_1, predictions_1, 0)\n",
    "risk(target_2, predictions_2, 1)\n",
    "risk(target_3, predictions_3, 2)\n"
   ]
  },
  {
   "cell_type": "markdown",
   "metadata": {},
   "source": [
    "<div class=\"alert alert-warning\">\n",
    "<b> Комментарий студента</b>      \n",
    "    \n",
    "Пытался решить задачу через пакет bootstrap из scipy. Если в функции revenue вместо count напрямую задать 200, и убрать третий аргумент функции, то казалось бы, все должно работать. Но код ниже выдает ошибку вроде \"np.array has not method sort_values \" или что-то в том духе. Буду благодарен за совет как это можно было бы решить.</div>"
   ]
  },
  {
   "cell_type": "markdown",
   "metadata": {},
   "source": [
    "\n",
    "<div class=\"alert alert-block alert-info\">\n",
    "<b>Совет:</b> \n",
    "    \n",
    " Я ранее не использовал функцию bootstrap из scipy, но твоя ошибка просто связана с тем, что sort_values команда библиотеки пандас - для датафрейма и серий. А boostrap из scipy на вход функции revenue передает объекты в виде numpy - решение простое, оптимизировать функцию прибыли под этот кейс и преобразовать данные в серию. НО сделав это я все рвано не смог запустить код, так как у меня падало ядро, что на платформе, что локально.  Слишком ресурсоемкий метод получился.\n",
    "</div>\n"
   ]
  },
  {
   "cell_type": "code",
   "execution_count": null,
   "metadata": {},
   "outputs": [],
   "source": [
    "# доверительные интервалы для roc-auc, определенные bootstra'ом\n",
    "'''boot_res = bootstrap((target_1, predictions_1), \n",
    "                     revenue, \n",
    "                     vectorized=False,\n",
    "                     paired=True,\n",
    "                     n_resamples=1001, \n",
    "                     random_state=12345)\n",
    "\n",
    "print(boot_res.confidence_interval)'''"
   ]
  },
  {
   "cell_type": "markdown",
   "metadata": {},
   "source": [
    "\n",
    "<div class=\"alert alert-block alert-info\">\n",
    "<b>Совет:</b> Интересно при чем здесь roc_auc = )\n",
    "</div>\n"
   ]
  },
  {
   "cell_type": "markdown",
   "metadata": {},
   "source": [
    "<div class=\"alert alert-warning\">\n",
    "<b> Комментарий студента 2</b>      \n",
    "    \n",
    "о, случайно остался комментарий, параллельно пытаюсь разобраться в статистике, и для расчета ДИ эта функция работала))</div>"
   ]
  },
  {
   "cell_type": "markdown",
   "metadata": {},
   "source": [
    "## Общий вывод  \n",
    "\n",
    "1. Выполнен исследовательский анализ данных, по результатам которого установлено:  \n",
    "Каждый анализируемый датасет включает 10000 наблюдений для 4 метрик: f0, f1, f2, product. Пропусков в данных не обнаружено. Явных дубликатов нет. В данных регионов, которым соответствуют датасеты geo0 и geo2 выявлена прямая умеренная корреляция метрики f2 и product. Для региона, которому соответствует датасет geo1 выявлена сильная прямая корреляция между метриками f2 и product.\n",
    "Средние показатели объемов запасов сырья в скважине составили:\n",
    "регион geo0 - 92 тыс. баррелей,\n",
    "регион geo0 - 69 тыс. баррелей,\n",
    "регион geo3 - 95 тыс. баррелей.  \n",
    "\n",
    "2. Установлено, что для безубыточной разработки новой скважины, требуется получение из нее 111.111 тыс. баррелей сырья.  \n",
    "\n",
    "3. При прогнозе прибыли выявлено, что регион добычи, соответствующий датасету \"geo1\", обладает наименьшим риском - 0,3%, что соответствует требованию заказчика, ожидаемая прибыль составляет 518.26 млн. руб. Согласно проведенному анализу данный регион должен иметь приоритет при дальнейшей разработке месторождений."
   ]
  },
  {
   "cell_type": "markdown",
   "metadata": {},
   "source": [
    "<div class=\"alert alert-block alert-success\">\n",
    "<b>Успех:</b> Отлично, проведено детальное исследование и был выбран правильный регион!\n",
    "</div>\n",
    "\n",
    "\n",
    "\n",
    "<div class=\"alert alert-block alert-info\">\n",
    "<b>Совет: </b> Если интересно изучить тему бутстрапа глубже - я оставлю  ниже несколько интересных и полезных ссылок по теме:\n",
    "        \n",
    "1. \"Bootstrap Hypothesis Testing in Statistics with Example\" \n",
    "        \n",
    "https://www.youtube.com/watch?v=9STZ7MxkNVg\n",
    "        \n",
    "2. \"How to Calculate Bootstrap Confidence Intervals For Machine Learning Results in Python\" \n",
    "        \n",
    "https://machinelearningmastery.com/calculate-bootstrap-confidence-intervals-machine-learning-results-python/\n",
    "        \n",
    "3. \"A Gentle Introduction to the Bootstrap Method\" \n",
    "\n",
    "https://machinelearningmastery.com/a-gentle-introduction-to-the-bootstrap-method/\n",
    "        \n",
    "4. \"An Introduction to the Bootstrap Method\" \n",
    "        \n",
    "https://towardsdatascience.com/an-introduction-to-the-bootstrap-method-58bcb51b4d60#:~:text=The%20basic%20idea%20of%20bootstrap,population%20mean)%20on%20sample%20data.&amp;text=A%20sample%20from%20population%20with%20sample%20size%20n\n",
    "        \n",
    "5. \"Bootstrapping and Resampling in Statistics with Example\" \n",
    "        \n",
    "        \n",
    "https://www.youtube.com/watch?v=O_Fj4q8lgmc\n",
    "\n",
    "6. Также одна из программ на рынке по этой теме управлненеческого моделирования - AnyLogic - интересный продукт. Можешь видео из интернета посмотреть по какому-нибудь примеру с её использованием. Тогда тема управленческого моделирования и бутстрапа может по-другому лечь.\n",
    "</div>"
   ]
  },
  {
   "cell_type": "markdown",
   "metadata": {},
   "source": [
    "## Чек-лист готовности проекта"
   ]
  },
  {
   "cell_type": "markdown",
   "metadata": {},
   "source": [
    "Поставьте 'x' в выполненных пунктах. Далее нажмите Shift+Enter."
   ]
  },
  {
   "cell_type": "markdown",
   "metadata": {},
   "source": [
    "- [x]  Jupyter Notebook открыт\n",
    "- [ ]  Весь код выполняется без ошибок\n",
    "- [ ]  Ячейки с кодом расположены в порядке исполнения\n",
    "- [ ]  Выполнен шаг 1: данные подготовлены\n",
    "- [ ]  Выполнен шаг 2: модели обучены и проверены\n",
    "    - [ ]  Данные корректно разбиты на обучающую и валидационную выборки\n",
    "    - [ ]  Модели обучены, предсказания сделаны\n",
    "    - [ ]  Предсказания и правильные ответы на валидационной выборке сохранены\n",
    "    - [ ]  На экране напечатаны результаты\n",
    "    - [ ]  Сделаны выводы\n",
    "- [ ]  Выполнен шаг 3: проведена подготовка к расчёту прибыли\n",
    "    - [ ]  Для всех ключевых значений созданы константы Python\n",
    "    - [ ]  Посчитано минимальное среднее количество продукта в месторождениях региона, достаточное для разработки\n",
    "    - [ ]  По предыдущему пункту сделаны выводы\n",
    "    - [ ]  Написана функция расчёта прибыли\n",
    "- [ ]  Выполнен шаг 4: посчитаны риски и прибыль\n",
    "    - [ ]  Проведена процедура *Bootstrap*\n",
    "    - [ ]  Все параметры бутстрепа соответствуют условию\n",
    "    - [ ]  Найдены все нужные величины\n",
    "    - [ ]  Предложен регион для разработки месторождения\n",
    "    - [ ]  Выбор региона обоснован"
   ]
  },
  {
   "cell_type": "code",
   "execution_count": null,
   "metadata": {},
   "outputs": [],
   "source": []
  }
 ],
 "metadata": {
  "ExecuteTimeLog": [
   {
    "duration": 2161,
    "start_time": "2023-09-17T21:20:37.516Z"
   },
   {
    "duration": 30,
    "start_time": "2023-09-17T21:20:50.212Z"
   },
   {
    "duration": 18,
    "start_time": "2023-09-17T21:20:58.707Z"
   },
   {
    "duration": 19,
    "start_time": "2023-09-17T21:21:46.269Z"
   },
   {
    "duration": 54,
    "start_time": "2023-09-17T21:23:03.634Z"
   },
   {
    "duration": 431,
    "start_time": "2023-09-17T21:23:22.177Z"
   },
   {
    "duration": 621,
    "start_time": "2023-09-17T21:23:34.271Z"
   },
   {
    "duration": 5,
    "start_time": "2023-09-17T21:24:36.127Z"
   },
   {
    "duration": 10,
    "start_time": "2023-09-17T21:26:24.497Z"
   },
   {
    "duration": 514777,
    "start_time": "2023-09-17T21:27:01.324Z"
   },
   {
    "duration": 154,
    "start_time": "2023-09-17T21:36:30.368Z"
   },
   {
    "duration": 16,
    "start_time": "2023-09-17T21:36:34.710Z"
   },
   {
    "duration": 11,
    "start_time": "2023-09-17T22:06:22.317Z"
   },
   {
    "duration": 10,
    "start_time": "2023-09-17T22:06:43.754Z"
   },
   {
    "duration": 3,
    "start_time": "2023-09-17T22:06:55.200Z"
   },
   {
    "duration": 11,
    "start_time": "2023-09-17T22:06:57.388Z"
   },
   {
    "duration": 711,
    "start_time": "2023-09-17T22:07:02.699Z"
   },
   {
    "duration": 792,
    "start_time": "2023-09-17T22:07:30.973Z"
   },
   {
    "duration": 2066,
    "start_time": "2023-09-17T22:08:14.385Z"
   },
   {
    "duration": 22,
    "start_time": "2023-09-17T22:08:27.592Z"
   },
   {
    "duration": 14,
    "start_time": "2023-09-17T22:08:39.123Z"
   },
   {
    "duration": 13,
    "start_time": "2023-09-17T22:08:40.981Z"
   },
   {
    "duration": 2215,
    "start_time": "2023-09-17T22:10:15.151Z"
   },
   {
    "duration": 1021,
    "start_time": "2023-09-17T22:10:19.015Z"
   },
   {
    "duration": 768,
    "start_time": "2023-09-17T22:10:29.211Z"
   },
   {
    "duration": 1692,
    "start_time": "2023-09-17T22:11:47.543Z"
   },
   {
    "duration": 3,
    "start_time": "2023-09-17T22:11:51.400Z"
   },
   {
    "duration": 61,
    "start_time": "2023-09-17T22:11:52.248Z"
   },
   {
    "duration": 577,
    "start_time": "2023-09-17T22:11:52.923Z"
   },
   {
    "duration": 5,
    "start_time": "2023-09-17T22:11:54.820Z"
   },
   {
    "duration": 17,
    "start_time": "2023-09-17T22:11:56.041Z"
   },
   {
    "duration": 864,
    "start_time": "2023-09-17T22:11:56.824Z"
   },
   {
    "duration": 71,
    "start_time": "2023-09-17T22:12:49.641Z"
   },
   {
    "duration": 2654,
    "start_time": "2023-09-17T22:13:16.954Z"
   },
   {
    "duration": 974,
    "start_time": "2023-09-17T22:13:40.056Z"
   },
   {
    "duration": 73,
    "start_time": "2023-09-17T22:13:41.748Z"
   },
   {
    "duration": 901,
    "start_time": "2023-09-17T22:13:43.973Z"
   },
   {
    "duration": 460,
    "start_time": "2023-09-17T22:13:46.405Z"
   },
   {
    "duration": 4,
    "start_time": "2023-09-17T22:13:47.852Z"
   },
   {
    "duration": 20,
    "start_time": "2023-09-17T22:13:48.578Z"
   },
   {
    "duration": 785,
    "start_time": "2023-09-17T22:13:49.694Z"
   },
   {
    "duration": 137,
    "start_time": "2023-09-17T22:14:16.672Z"
   },
   {
    "duration": 19782,
    "start_time": "2023-09-17T22:14:21.080Z"
   },
   {
    "duration": 3496,
    "start_time": "2023-09-17T22:14:53.208Z"
   },
   {
    "duration": 3,
    "start_time": "2023-09-17T22:15:08.688Z"
   },
   {
    "duration": 466,
    "start_time": "2023-09-17T22:15:10.972Z"
   },
   {
    "duration": 5,
    "start_time": "2023-09-17T22:15:12.471Z"
   },
   {
    "duration": 17,
    "start_time": "2023-09-17T22:15:12.912Z"
   },
   {
    "duration": 28,
    "start_time": "2023-09-17T22:15:14.002Z"
   },
   {
    "duration": 16,
    "start_time": "2023-09-17T22:15:32.258Z"
   },
   {
    "duration": 86,
    "start_time": "2023-09-17T22:17:24.807Z"
   },
   {
    "duration": 103,
    "start_time": "2023-09-17T22:17:30.128Z"
   },
   {
    "duration": 139,
    "start_time": "2023-09-17T22:17:45.223Z"
   },
   {
    "duration": 263267,
    "start_time": "2023-09-17T22:17:48.535Z"
   },
   {
    "duration": 23,
    "start_time": "2023-09-17T22:23:49.060Z"
   },
   {
    "duration": 2370,
    "start_time": "2023-09-17T22:24:17.918Z"
   },
   {
    "duration": 203809,
    "start_time": "2023-09-17T22:24:42.071Z"
   },
   {
    "duration": 2174,
    "start_time": "2023-09-17T22:28:29.748Z"
   },
   {
    "duration": 3,
    "start_time": "2023-09-17T22:29:32.933Z"
   },
   {
    "duration": 856,
    "start_time": "2023-09-17T22:29:34.266Z"
   },
   {
    "duration": 4,
    "start_time": "2023-09-17T22:29:36.211Z"
   },
   {
    "duration": 18,
    "start_time": "2023-09-17T22:29:37.524Z"
   },
   {
    "duration": 16,
    "start_time": "2023-09-17T22:29:38.326Z"
   },
   {
    "duration": 9704,
    "start_time": "2023-09-17T22:29:50.028Z"
   },
   {
    "duration": 1888,
    "start_time": "2023-09-19T21:38:28.705Z"
   },
   {
    "duration": 2,
    "start_time": "2023-09-19T21:38:30.595Z"
   },
   {
    "duration": 151,
    "start_time": "2023-09-19T21:38:30.599Z"
   },
   {
    "duration": 0,
    "start_time": "2023-09-19T21:38:30.753Z"
   },
   {
    "duration": 0,
    "start_time": "2023-09-19T21:38:30.754Z"
   },
   {
    "duration": 0,
    "start_time": "2023-09-19T21:38:30.755Z"
   },
   {
    "duration": 0,
    "start_time": "2023-09-19T21:38:30.756Z"
   },
   {
    "duration": 16266,
    "start_time": "2023-09-19T21:40:13.026Z"
   },
   {
    "duration": 7,
    "start_time": "2023-09-19T21:40:33.328Z"
   },
   {
    "duration": 813,
    "start_time": "2023-09-19T21:40:34.274Z"
   },
   {
    "duration": 932,
    "start_time": "2023-09-19T21:40:36.213Z"
   },
   {
    "duration": 4,
    "start_time": "2023-09-19T21:40:37.654Z"
   },
   {
    "duration": 14,
    "start_time": "2023-09-19T21:40:39.387Z"
   },
   {
    "duration": 9902,
    "start_time": "2023-09-19T21:40:41.046Z"
   },
   {
    "duration": 30,
    "start_time": "2023-09-19T21:42:56.156Z"
   },
   {
    "duration": 9163,
    "start_time": "2023-09-19T21:43:33.752Z"
   },
   {
    "duration": 8770,
    "start_time": "2023-09-19T21:43:42.917Z"
   },
   {
    "duration": 9459,
    "start_time": "2023-09-19T21:43:51.688Z"
   },
   {
    "duration": 3,
    "start_time": "2023-09-19T21:49:15.780Z"
   },
   {
    "duration": 3,
    "start_time": "2023-09-19T21:49:16.342Z"
   },
   {
    "duration": 79,
    "start_time": "2023-09-19T22:02:33.035Z"
   },
   {
    "duration": 4,
    "start_time": "2023-09-19T22:02:39.741Z"
   },
   {
    "duration": 34,
    "start_time": "2023-09-19T22:02:40.391Z"
   },
   {
    "duration": 21,
    "start_time": "2023-09-19T22:03:27.812Z"
   },
   {
    "duration": 5,
    "start_time": "2023-09-19T22:06:22.432Z"
   },
   {
    "duration": 18,
    "start_time": "2023-09-19T22:06:23.133Z"
   },
   {
    "duration": 5,
    "start_time": "2023-09-19T22:11:26.253Z"
   },
   {
    "duration": 15,
    "start_time": "2023-09-19T22:25:28.803Z"
   },
   {
    "duration": 214,
    "start_time": "2023-09-19T22:25:44.594Z"
   },
   {
    "duration": 110,
    "start_time": "2023-09-19T22:26:08.200Z"
   },
   {
    "duration": 3,
    "start_time": "2023-09-19T22:31:55.163Z"
   },
   {
    "duration": 1297,
    "start_time": "2023-09-19T22:33:20.321Z"
   },
   {
    "duration": 1247,
    "start_time": "2023-09-19T22:33:27.211Z"
   },
   {
    "duration": 16,
    "start_time": "2023-09-19T22:33:33.002Z"
   },
   {
    "duration": 14,
    "start_time": "2023-09-19T22:33:54.172Z"
   },
   {
    "duration": 13,
    "start_time": "2023-09-19T22:34:07.160Z"
   },
   {
    "duration": 14,
    "start_time": "2023-09-19T22:34:10.205Z"
   },
   {
    "duration": 3,
    "start_time": "2023-09-19T22:35:20.094Z"
   },
   {
    "duration": 14,
    "start_time": "2023-09-19T22:36:40.407Z"
   },
   {
    "duration": 49,
    "start_time": "2023-09-19T22:36:49.364Z"
   },
   {
    "duration": 436,
    "start_time": "2023-09-19T22:37:58.972Z"
   },
   {
    "duration": 401,
    "start_time": "2023-09-19T22:38:10.711Z"
   },
   {
    "duration": 501,
    "start_time": "2023-09-19T22:40:52.101Z"
   },
   {
    "duration": 602,
    "start_time": "2023-09-19T22:41:04.902Z"
   },
   {
    "duration": 428,
    "start_time": "2023-09-19T22:41:16.375Z"
   },
   {
    "duration": 590,
    "start_time": "2023-09-19T22:41:37.712Z"
   },
   {
    "duration": 512,
    "start_time": "2023-09-19T22:41:42.095Z"
   },
   {
    "duration": 478,
    "start_time": "2023-09-19T22:41:57.925Z"
   },
   {
    "duration": 545,
    "start_time": "2023-09-19T22:44:43.766Z"
   },
   {
    "duration": 494,
    "start_time": "2023-09-19T22:45:19.708Z"
   },
   {
    "duration": 109,
    "start_time": "2023-09-19T22:48:55.861Z"
   },
   {
    "duration": 427,
    "start_time": "2023-09-19T22:49:08.684Z"
   },
   {
    "duration": 475,
    "start_time": "2023-09-19T22:49:34.229Z"
   },
   {
    "duration": 4,
    "start_time": "2023-09-19T22:56:42.572Z"
   },
   {
    "duration": 5,
    "start_time": "2023-09-19T23:04:42.903Z"
   },
   {
    "duration": 3,
    "start_time": "2023-09-19T23:07:37.014Z"
   },
   {
    "duration": 5,
    "start_time": "2023-09-19T23:07:38.261Z"
   },
   {
    "duration": 5,
    "start_time": "2023-09-19T23:13:22.176Z"
   },
   {
    "duration": 97,
    "start_time": "2023-09-19T23:15:00.466Z"
   },
   {
    "duration": 464,
    "start_time": "2023-09-19T23:21:43.642Z"
   },
   {
    "duration": 459,
    "start_time": "2023-09-19T23:22:36.747Z"
   },
   {
    "duration": 83,
    "start_time": "2023-09-19T23:23:53.567Z"
   },
   {
    "duration": 467,
    "start_time": "2023-09-19T23:24:00.639Z"
   },
   {
    "duration": 510,
    "start_time": "2023-09-19T23:24:10.794Z"
   },
   {
    "duration": 23,
    "start_time": "2023-09-19T23:33:55.974Z"
   },
   {
    "duration": 524,
    "start_time": "2023-09-19T23:34:07.380Z"
   },
   {
    "duration": 515,
    "start_time": "2023-09-19T23:36:55.994Z"
   },
   {
    "duration": 3,
    "start_time": "2023-09-19T23:38:21.227Z"
   },
   {
    "duration": 12,
    "start_time": "2023-09-19T23:39:06.805Z"
   },
   {
    "duration": 30,
    "start_time": "2023-09-19T23:39:13.019Z"
   },
   {
    "duration": 13,
    "start_time": "2023-09-19T23:42:00.439Z"
   },
   {
    "duration": 4,
    "start_time": "2023-09-19T23:42:11.674Z"
   },
   {
    "duration": 28,
    "start_time": "2023-09-19T23:42:11.993Z"
   },
   {
    "duration": 3,
    "start_time": "2023-09-19T23:42:41.685Z"
   },
   {
    "duration": 28,
    "start_time": "2023-09-19T23:42:43.224Z"
   },
   {
    "duration": 29,
    "start_time": "2023-09-19T23:43:04.764Z"
   },
   {
    "duration": 13,
    "start_time": "2023-09-19T23:44:31.802Z"
   },
   {
    "duration": 12,
    "start_time": "2023-09-19T23:44:44.031Z"
   },
   {
    "duration": 3,
    "start_time": "2023-09-19T23:45:36.561Z"
   },
   {
    "duration": 3,
    "start_time": "2023-09-19T23:45:38.208Z"
   },
   {
    "duration": 11,
    "start_time": "2023-09-19T23:45:38.983Z"
   },
   {
    "duration": 9,
    "start_time": "2023-09-19T23:45:39.584Z"
   },
   {
    "duration": 19,
    "start_time": "2023-09-19T23:46:33.212Z"
   },
   {
    "duration": 19,
    "start_time": "2023-09-19T23:46:40.059Z"
   },
   {
    "duration": 4,
    "start_time": "2023-09-19T23:50:15.319Z"
   },
   {
    "duration": 13,
    "start_time": "2023-09-19T23:50:15.877Z"
   },
   {
    "duration": 98,
    "start_time": "2023-09-19T23:50:16.502Z"
   },
   {
    "duration": 82,
    "start_time": "2023-09-19T23:50:27.000Z"
   },
   {
    "duration": 10,
    "start_time": "2023-09-19T23:50:38.666Z"
   },
   {
    "duration": 18,
    "start_time": "2023-09-19T23:50:58.473Z"
   },
   {
    "duration": 905,
    "start_time": "2023-09-19T23:51:25.425Z"
   },
   {
    "duration": 3,
    "start_time": "2023-09-19T23:52:18.515Z"
   },
   {
    "duration": 1578,
    "start_time": "2023-09-19T23:52:18.521Z"
   },
   {
    "duration": 636,
    "start_time": "2023-09-19T23:52:20.102Z"
   },
   {
    "duration": 435,
    "start_time": "2023-09-19T23:52:20.739Z"
   },
   {
    "duration": 3,
    "start_time": "2023-09-19T23:52:21.176Z"
   },
   {
    "duration": 50,
    "start_time": "2023-09-19T23:52:21.181Z"
   },
   {
    "duration": 4,
    "start_time": "2023-09-19T23:52:21.232Z"
   },
   {
    "duration": 63,
    "start_time": "2023-09-19T23:52:21.238Z"
   },
   {
    "duration": 9436,
    "start_time": "2023-09-19T23:52:21.303Z"
   },
   {
    "duration": 8906,
    "start_time": "2023-09-19T23:52:30.741Z"
   },
   {
    "duration": 9815,
    "start_time": "2023-09-19T23:52:39.650Z"
   },
   {
    "duration": 5,
    "start_time": "2023-09-19T23:52:49.467Z"
   },
   {
    "duration": 529,
    "start_time": "2023-09-19T23:52:49.474Z"
   },
   {
    "duration": 4,
    "start_time": "2023-09-19T23:52:50.005Z"
   },
   {
    "duration": 28,
    "start_time": "2023-09-19T23:52:50.101Z"
   },
   {
    "duration": 10,
    "start_time": "2023-09-19T23:52:50.130Z"
   },
   {
    "duration": 29,
    "start_time": "2023-09-19T23:52:50.141Z"
   },
   {
    "duration": 20,
    "start_time": "2023-09-19T23:52:50.172Z"
   },
   {
    "duration": 29,
    "start_time": "2023-09-19T23:52:50.194Z"
   },
   {
    "duration": 1008,
    "start_time": "2023-09-19T23:52:50.224Z"
   },
   {
    "duration": 4,
    "start_time": "2023-09-19T23:58:12.566Z"
   },
   {
    "duration": 10,
    "start_time": "2023-09-19T23:58:13.361Z"
   },
   {
    "duration": 25,
    "start_time": "2023-09-19T23:58:22.238Z"
   },
   {
    "duration": 94,
    "start_time": "2023-09-19T23:58:42.412Z"
   },
   {
    "duration": 528,
    "start_time": "2023-09-19T23:58:48.375Z"
   },
   {
    "duration": 3,
    "start_time": "2023-09-19T23:58:49.905Z"
   },
   {
    "duration": 5,
    "start_time": "2023-09-19T23:58:50.412Z"
   },
   {
    "duration": 4,
    "start_time": "2023-09-19T23:58:51.492Z"
   },
   {
    "duration": 3,
    "start_time": "2023-09-19T23:58:51.895Z"
   },
   {
    "duration": 11,
    "start_time": "2023-09-19T23:58:52.362Z"
   },
   {
    "duration": 19,
    "start_time": "2023-09-19T23:58:53.747Z"
   },
   {
    "duration": 15,
    "start_time": "2023-09-19T23:59:03.121Z"
   },
   {
    "duration": 1003,
    "start_time": "2023-09-19T23:59:30.062Z"
   },
   {
    "duration": 15,
    "start_time": "2023-09-20T00:01:55.358Z"
   },
   {
    "duration": 1176,
    "start_time": "2023-09-20T00:02:07.002Z"
   },
   {
    "duration": 15,
    "start_time": "2023-09-20T00:02:16.110Z"
   },
   {
    "duration": 3,
    "start_time": "2023-09-20T00:03:08.739Z"
   },
   {
    "duration": 1729,
    "start_time": "2023-09-20T00:03:08.744Z"
   },
   {
    "duration": 1356,
    "start_time": "2023-09-20T00:03:10.474Z"
   },
   {
    "duration": 822,
    "start_time": "2023-09-20T00:03:11.832Z"
   },
   {
    "duration": 3,
    "start_time": "2023-09-20T00:03:12.655Z"
   },
   {
    "duration": 52,
    "start_time": "2023-09-20T00:03:12.660Z"
   },
   {
    "duration": 11,
    "start_time": "2023-09-20T00:03:12.714Z"
   },
   {
    "duration": 80,
    "start_time": "2023-09-20T00:03:12.727Z"
   },
   {
    "duration": 9762,
    "start_time": "2023-09-20T00:03:12.809Z"
   },
   {
    "duration": 8513,
    "start_time": "2023-09-20T00:03:22.574Z"
   },
   {
    "duration": 8801,
    "start_time": "2023-09-20T00:03:31.100Z"
   },
   {
    "duration": 4,
    "start_time": "2023-09-20T00:03:39.903Z"
   },
   {
    "duration": 592,
    "start_time": "2023-09-20T00:03:39.909Z"
   },
   {
    "duration": 4,
    "start_time": "2023-09-20T00:03:40.503Z"
   },
   {
    "duration": 104,
    "start_time": "2023-09-20T00:03:40.508Z"
   },
   {
    "duration": 65,
    "start_time": "2023-09-20T00:03:40.613Z"
   },
   {
    "duration": 20,
    "start_time": "2023-09-20T00:03:40.680Z"
   },
   {
    "duration": 50,
    "start_time": "2023-09-20T00:03:40.702Z"
   },
   {
    "duration": 1022,
    "start_time": "2023-09-20T00:03:40.754Z"
   },
   {
    "duration": 896,
    "start_time": "2023-09-20T00:05:50.008Z"
   },
   {
    "duration": 905,
    "start_time": "2023-09-20T00:06:00.784Z"
   },
   {
    "duration": 605,
    "start_time": "2023-09-20T00:06:12.132Z"
   },
   {
    "duration": 48,
    "start_time": "2023-09-20T00:06:20.825Z"
   },
   {
    "duration": 4,
    "start_time": "2023-09-20T00:06:28.627Z"
   },
   {
    "duration": 5,
    "start_time": "2023-09-20T18:14:47.510Z"
   },
   {
    "duration": 1784,
    "start_time": "2023-09-20T18:14:47.517Z"
   },
   {
    "duration": 107,
    "start_time": "2023-09-20T18:14:49.303Z"
   },
   {
    "duration": 0,
    "start_time": "2023-09-20T18:14:49.413Z"
   },
   {
    "duration": 0,
    "start_time": "2023-09-20T18:14:49.414Z"
   },
   {
    "duration": 0,
    "start_time": "2023-09-20T18:14:49.415Z"
   },
   {
    "duration": 0,
    "start_time": "2023-09-20T18:14:49.417Z"
   },
   {
    "duration": 0,
    "start_time": "2023-09-20T18:14:49.418Z"
   },
   {
    "duration": 0,
    "start_time": "2023-09-20T18:14:49.419Z"
   },
   {
    "duration": 0,
    "start_time": "2023-09-20T18:14:49.420Z"
   },
   {
    "duration": 0,
    "start_time": "2023-09-20T18:14:49.421Z"
   },
   {
    "duration": 0,
    "start_time": "2023-09-20T18:14:49.422Z"
   },
   {
    "duration": 0,
    "start_time": "2023-09-20T18:14:49.423Z"
   },
   {
    "duration": 0,
    "start_time": "2023-09-20T18:14:49.424Z"
   },
   {
    "duration": 0,
    "start_time": "2023-09-20T18:14:49.425Z"
   },
   {
    "duration": 0,
    "start_time": "2023-09-20T18:14:49.427Z"
   },
   {
    "duration": 0,
    "start_time": "2023-09-20T18:14:49.428Z"
   },
   {
    "duration": 0,
    "start_time": "2023-09-20T18:14:49.429Z"
   },
   {
    "duration": 0,
    "start_time": "2023-09-20T18:14:49.430Z"
   },
   {
    "duration": 19052,
    "start_time": "2023-09-20T18:15:00.075Z"
   },
   {
    "duration": 5,
    "start_time": "2023-09-20T18:16:43.439Z"
   },
   {
    "duration": 1711,
    "start_time": "2023-09-20T18:16:43.446Z"
   },
   {
    "duration": 617,
    "start_time": "2023-09-20T18:16:45.159Z"
   },
   {
    "duration": 1011,
    "start_time": "2023-09-20T18:16:45.778Z"
   },
   {
    "duration": 3,
    "start_time": "2023-09-20T18:16:46.791Z"
   },
   {
    "duration": 61,
    "start_time": "2023-09-20T18:16:46.795Z"
   },
   {
    "duration": 7,
    "start_time": "2023-09-20T18:16:46.859Z"
   },
   {
    "duration": 44,
    "start_time": "2023-09-20T18:16:46.867Z"
   },
   {
    "duration": 9750,
    "start_time": "2023-09-20T18:16:46.913Z"
   },
   {
    "duration": 8850,
    "start_time": "2023-09-20T18:16:56.665Z"
   },
   {
    "duration": 9354,
    "start_time": "2023-09-20T18:17:05.518Z"
   },
   {
    "duration": 4,
    "start_time": "2023-09-20T18:17:14.874Z"
   },
   {
    "duration": 627,
    "start_time": "2023-09-20T18:17:14.880Z"
   },
   {
    "duration": 3,
    "start_time": "2023-09-20T18:17:15.510Z"
   },
   {
    "duration": 95,
    "start_time": "2023-09-20T18:17:15.516Z"
   },
   {
    "duration": 36,
    "start_time": "2023-09-20T18:17:15.612Z"
   },
   {
    "duration": 50,
    "start_time": "2023-09-20T18:17:15.650Z"
   },
   {
    "duration": 73,
    "start_time": "2023-09-20T18:17:15.702Z"
   },
   {
    "duration": 1289,
    "start_time": "2023-09-20T18:17:15.777Z"
   },
   {
    "duration": 475,
    "start_time": "2023-09-20T18:26:57.428Z"
   },
   {
    "duration": 535,
    "start_time": "2023-09-20T18:27:26.974Z"
   },
   {
    "duration": 639,
    "start_time": "2023-09-20T18:27:38.564Z"
   },
   {
    "duration": 708,
    "start_time": "2023-09-20T18:29:12.995Z"
   },
   {
    "duration": 3,
    "start_time": "2023-09-20T18:29:22.794Z"
   },
   {
    "duration": 4,
    "start_time": "2023-09-20T18:29:23.459Z"
   },
   {
    "duration": 3,
    "start_time": "2023-09-20T18:29:24.741Z"
   },
   {
    "duration": 4,
    "start_time": "2023-09-20T18:29:25.175Z"
   },
   {
    "duration": 19,
    "start_time": "2023-09-20T18:29:25.598Z"
   },
   {
    "duration": 844,
    "start_time": "2023-09-20T18:29:27.114Z"
   },
   {
    "duration": 737,
    "start_time": "2023-09-20T18:29:56.674Z"
   },
   {
    "duration": 579,
    "start_time": "2023-09-20T18:30:44.624Z"
   },
   {
    "duration": 705,
    "start_time": "2023-09-20T18:31:18.196Z"
   },
   {
    "duration": 856,
    "start_time": "2023-09-20T18:34:18.961Z"
   },
   {
    "duration": 813,
    "start_time": "2023-09-20T18:34:31.193Z"
   },
   {
    "duration": 621,
    "start_time": "2023-09-20T18:36:34.691Z"
   },
   {
    "duration": 885,
    "start_time": "2023-09-20T18:36:44.538Z"
   },
   {
    "duration": 234,
    "start_time": "2023-09-20T18:38:03.375Z"
   },
   {
    "duration": 331,
    "start_time": "2023-09-20T18:38:49.477Z"
   },
   {
    "duration": 646,
    "start_time": "2023-09-20T18:39:13.360Z"
   },
   {
    "duration": 704,
    "start_time": "2023-09-20T18:41:31.113Z"
   },
   {
    "duration": 567,
    "start_time": "2023-09-20T18:41:49.739Z"
   },
   {
    "duration": 3,
    "start_time": "2023-09-20T18:43:20.166Z"
   },
   {
    "duration": 30,
    "start_time": "2023-09-20T18:43:20.779Z"
   },
   {
    "duration": 3,
    "start_time": "2023-09-20T18:43:44.496Z"
   },
   {
    "duration": 27,
    "start_time": "2023-09-20T18:43:45.058Z"
   },
   {
    "duration": 705,
    "start_time": "2023-09-20T18:44:02.801Z"
   },
   {
    "duration": 4,
    "start_time": "2023-09-20T18:44:11.180Z"
   },
   {
    "duration": 3,
    "start_time": "2023-09-20T18:44:11.902Z"
   },
   {
    "duration": 15,
    "start_time": "2023-09-20T18:44:12.445Z"
   },
   {
    "duration": 857,
    "start_time": "2023-09-20T18:44:15.431Z"
   },
   {
    "duration": 240,
    "start_time": "2023-09-20T18:52:22.993Z"
   },
   {
    "duration": 611,
    "start_time": "2023-09-20T18:52:34.099Z"
   },
   {
    "duration": 676,
    "start_time": "2023-09-20T18:53:00.729Z"
   },
   {
    "duration": 670,
    "start_time": "2023-09-20T18:53:40.238Z"
   },
   {
    "duration": 823,
    "start_time": "2023-09-20T18:53:54.585Z"
   },
   {
    "duration": 600,
    "start_time": "2023-09-20T18:55:08.629Z"
   },
   {
    "duration": 741,
    "start_time": "2023-09-20T18:55:18.370Z"
   },
   {
    "duration": 4,
    "start_time": "2023-09-20T18:55:29.511Z"
   },
   {
    "duration": 27,
    "start_time": "2023-09-20T18:55:29.911Z"
   },
   {
    "duration": 735,
    "start_time": "2023-09-20T19:05:01.176Z"
   },
   {
    "duration": 3,
    "start_time": "2023-09-20T19:05:06.802Z"
   },
   {
    "duration": 29,
    "start_time": "2023-09-20T19:05:07.338Z"
   },
   {
    "duration": 604,
    "start_time": "2023-09-20T19:05:49.307Z"
   },
   {
    "duration": 4,
    "start_time": "2023-09-20T19:05:58.440Z"
   },
   {
    "duration": 39,
    "start_time": "2023-09-20T19:05:58.955Z"
   },
   {
    "duration": 4,
    "start_time": "2023-09-20T19:06:14.963Z"
   },
   {
    "duration": 1611,
    "start_time": "2023-09-20T19:06:14.968Z"
   },
   {
    "duration": 573,
    "start_time": "2023-09-20T19:06:16.582Z"
   },
   {
    "duration": 421,
    "start_time": "2023-09-20T19:06:17.157Z"
   },
   {
    "duration": 3,
    "start_time": "2023-09-20T19:06:17.580Z"
   },
   {
    "duration": 71,
    "start_time": "2023-09-20T19:06:17.585Z"
   },
   {
    "duration": 32,
    "start_time": "2023-09-20T19:06:17.658Z"
   },
   {
    "duration": 58,
    "start_time": "2023-09-20T19:06:17.692Z"
   },
   {
    "duration": 9649,
    "start_time": "2023-09-20T19:06:17.751Z"
   },
   {
    "duration": 8860,
    "start_time": "2023-09-20T19:06:27.402Z"
   },
   {
    "duration": 9339,
    "start_time": "2023-09-20T19:06:36.263Z"
   },
   {
    "duration": 6,
    "start_time": "2023-09-20T19:06:45.605Z"
   },
   {
    "duration": 698,
    "start_time": "2023-09-20T19:06:45.613Z"
   },
   {
    "duration": 4,
    "start_time": "2023-09-20T19:06:46.313Z"
   },
   {
    "duration": 23,
    "start_time": "2023-09-20T19:06:46.318Z"
   },
   {
    "duration": 24,
    "start_time": "2023-09-20T19:06:46.343Z"
   },
   {
    "duration": 21,
    "start_time": "2023-09-20T19:06:46.369Z"
   },
   {
    "duration": 36,
    "start_time": "2023-09-20T19:06:46.392Z"
   },
   {
    "duration": 1057,
    "start_time": "2023-09-20T19:06:46.429Z"
   },
   {
    "duration": 4,
    "start_time": "2023-09-20T19:23:13.760Z"
   },
   {
    "duration": 27,
    "start_time": "2023-09-20T19:23:14.096Z"
   },
   {
    "duration": 863,
    "start_time": "2023-09-20T19:24:01.419Z"
   },
   {
    "duration": 844,
    "start_time": "2023-09-20T19:24:12.665Z"
   },
   {
    "duration": 1153,
    "start_time": "2023-09-20T19:27:00.947Z"
   },
   {
    "duration": 15,
    "start_time": "2023-09-20T19:27:13.849Z"
   },
   {
    "duration": 12,
    "start_time": "2023-09-20T19:27:31.442Z"
   },
   {
    "duration": 1654,
    "start_time": "2023-09-20T19:27:31.456Z"
   },
   {
    "duration": 1345,
    "start_time": "2023-09-20T19:27:33.112Z"
   },
   {
    "duration": 908,
    "start_time": "2023-09-20T19:27:34.460Z"
   },
   {
    "duration": 3,
    "start_time": "2023-09-20T19:27:35.370Z"
   },
   {
    "duration": 99,
    "start_time": "2023-09-20T19:27:35.375Z"
   },
   {
    "duration": 9,
    "start_time": "2023-09-20T19:27:35.475Z"
   },
   {
    "duration": 42,
    "start_time": "2023-09-20T19:27:35.486Z"
   },
   {
    "duration": 10354,
    "start_time": "2023-09-20T19:27:35.530Z"
   },
   {
    "duration": 9382,
    "start_time": "2023-09-20T19:27:45.886Z"
   },
   {
    "duration": 8901,
    "start_time": "2023-09-20T19:27:55.269Z"
   },
   {
    "duration": 5,
    "start_time": "2023-09-20T19:28:04.171Z"
   },
   {
    "duration": 632,
    "start_time": "2023-09-20T19:28:04.177Z"
   },
   {
    "duration": 3,
    "start_time": "2023-09-20T19:28:04.811Z"
   },
   {
    "duration": 25,
    "start_time": "2023-09-20T19:28:04.816Z"
   },
   {
    "duration": 13,
    "start_time": "2023-09-20T19:28:04.842Z"
   },
   {
    "duration": 18,
    "start_time": "2023-09-20T19:28:04.857Z"
   },
   {
    "duration": 29,
    "start_time": "2023-09-20T19:28:04.877Z"
   },
   {
    "duration": 0,
    "start_time": "2023-09-20T19:28:05.664Z"
   },
   {
    "duration": 873,
    "start_time": "2023-09-20T19:28:18.158Z"
   },
   {
    "duration": 187,
    "start_time": "2023-09-20T19:29:40.305Z"
   },
   {
    "duration": 941,
    "start_time": "2023-09-20T19:29:44.867Z"
   },
   {
    "duration": 651,
    "start_time": "2023-09-20T19:33:32.366Z"
   },
   {
    "duration": 3,
    "start_time": "2023-09-20T19:33:50.133Z"
   },
   {
    "duration": 4,
    "start_time": "2023-09-20T19:33:50.831Z"
   },
   {
    "duration": 10,
    "start_time": "2023-09-20T19:33:51.899Z"
   },
   {
    "duration": 3,
    "start_time": "2023-09-20T19:33:52.457Z"
   },
   {
    "duration": 21,
    "start_time": "2023-09-20T19:33:53.306Z"
   },
   {
    "duration": 1434,
    "start_time": "2023-09-20T19:33:54.858Z"
   },
   {
    "duration": 5,
    "start_time": "2023-09-20T19:43:54.393Z"
   },
   {
    "duration": 4,
    "start_time": "2023-09-20T19:44:38.872Z"
   },
   {
    "duration": 1885,
    "start_time": "2023-09-20T19:44:38.877Z"
   },
   {
    "duration": 1804,
    "start_time": "2023-09-20T19:44:40.764Z"
   },
   {
    "duration": 1103,
    "start_time": "2023-09-20T19:44:42.570Z"
   },
   {
    "duration": 2,
    "start_time": "2023-09-20T19:44:43.676Z"
   },
   {
    "duration": 73,
    "start_time": "2023-09-20T19:44:43.680Z"
   },
   {
    "duration": 5,
    "start_time": "2023-09-20T19:44:43.755Z"
   },
   {
    "duration": 69,
    "start_time": "2023-09-20T19:44:43.763Z"
   },
   {
    "duration": 11103,
    "start_time": "2023-09-20T19:44:43.834Z"
   },
   {
    "duration": 9524,
    "start_time": "2023-09-20T19:44:54.939Z"
   },
   {
    "duration": 10196,
    "start_time": "2023-09-20T19:45:04.465Z"
   },
   {
    "duration": 5,
    "start_time": "2023-09-20T19:45:14.663Z"
   },
   {
    "duration": 651,
    "start_time": "2023-09-20T19:45:14.670Z"
   },
   {
    "duration": 13,
    "start_time": "2023-09-20T19:45:15.324Z"
   },
   {
    "duration": 19,
    "start_time": "2023-09-20T19:45:15.339Z"
   },
   {
    "duration": 23,
    "start_time": "2023-09-20T19:45:15.360Z"
   },
   {
    "duration": 16,
    "start_time": "2023-09-20T19:45:15.384Z"
   },
   {
    "duration": 34,
    "start_time": "2023-09-20T19:45:15.410Z"
   },
   {
    "duration": 1433,
    "start_time": "2023-09-20T19:45:15.446Z"
   },
   {
    "duration": 0,
    "start_time": "2023-09-20T19:45:16.881Z"
   },
   {
    "duration": 0,
    "start_time": "2023-09-20T19:45:16.882Z"
   },
   {
    "duration": 16,
    "start_time": "2023-09-20T19:45:29.824Z"
   },
   {
    "duration": 27,
    "start_time": "2023-09-20T19:45:30.622Z"
   },
   {
    "duration": 6,
    "start_time": "2023-09-20T19:46:42.828Z"
   },
   {
    "duration": 34,
    "start_time": "2023-09-20T19:46:45.080Z"
   },
   {
    "duration": 5,
    "start_time": "2023-09-20T19:47:10.449Z"
   },
   {
    "duration": 22,
    "start_time": "2023-09-20T19:47:12.227Z"
   },
   {
    "duration": 6,
    "start_time": "2023-09-20T19:47:59.158Z"
   },
   {
    "duration": 22,
    "start_time": "2023-09-20T19:48:00.622Z"
   },
   {
    "duration": 9,
    "start_time": "2023-09-20T19:48:14.618Z"
   },
   {
    "duration": 1813,
    "start_time": "2023-09-20T19:48:15.663Z"
   },
   {
    "duration": 3,
    "start_time": "2023-09-20T19:58:03.991Z"
   },
   {
    "duration": 1791,
    "start_time": "2023-09-20T19:58:03.996Z"
   },
   {
    "duration": 728,
    "start_time": "2023-09-20T19:58:05.790Z"
   },
   {
    "duration": 489,
    "start_time": "2023-09-20T19:58:06.523Z"
   },
   {
    "duration": 6,
    "start_time": "2023-09-20T19:58:07.020Z"
   },
   {
    "duration": 58,
    "start_time": "2023-09-20T19:58:07.031Z"
   },
   {
    "duration": 20,
    "start_time": "2023-09-20T19:58:07.091Z"
   },
   {
    "duration": 43,
    "start_time": "2023-09-20T19:58:07.113Z"
   },
   {
    "duration": 10579,
    "start_time": "2023-09-20T19:58:07.158Z"
   },
   {
    "duration": 9635,
    "start_time": "2023-09-20T19:58:17.739Z"
   },
   {
    "duration": 10036,
    "start_time": "2023-09-20T19:58:27.376Z"
   },
   {
    "duration": 6,
    "start_time": "2023-09-20T19:58:37.414Z"
   },
   {
    "duration": 36,
    "start_time": "2023-09-20T19:58:37.423Z"
   },
   {
    "duration": 418,
    "start_time": "2023-09-20T19:58:37.461Z"
   },
   {
    "duration": 0,
    "start_time": "2023-09-20T19:58:37.881Z"
   },
   {
    "duration": 0,
    "start_time": "2023-09-20T19:58:37.883Z"
   },
   {
    "duration": 0,
    "start_time": "2023-09-20T19:58:37.884Z"
   },
   {
    "duration": 0,
    "start_time": "2023-09-20T19:58:37.886Z"
   },
   {
    "duration": 0,
    "start_time": "2023-09-20T19:58:37.888Z"
   },
   {
    "duration": 0,
    "start_time": "2023-09-20T19:58:37.905Z"
   },
   {
    "duration": 0,
    "start_time": "2023-09-20T19:58:37.906Z"
   },
   {
    "duration": 0,
    "start_time": "2023-09-20T19:58:37.907Z"
   },
   {
    "duration": 49,
    "start_time": "2023-09-20T19:59:13.856Z"
   },
   {
    "duration": 39,
    "start_time": "2023-09-20T19:59:53.575Z"
   },
   {
    "duration": 84,
    "start_time": "2023-09-20T20:00:26.329Z"
   },
   {
    "duration": 4,
    "start_time": "2023-09-20T20:02:31.987Z"
   },
   {
    "duration": 1906,
    "start_time": "2023-09-20T20:02:31.993Z"
   },
   {
    "duration": 729,
    "start_time": "2023-09-20T20:02:33.900Z"
   },
   {
    "duration": 523,
    "start_time": "2023-09-20T20:02:34.632Z"
   },
   {
    "duration": 3,
    "start_time": "2023-09-20T20:02:35.157Z"
   },
   {
    "duration": 49,
    "start_time": "2023-09-20T20:02:35.162Z"
   },
   {
    "duration": 5,
    "start_time": "2023-09-20T20:02:35.213Z"
   },
   {
    "duration": 49,
    "start_time": "2023-09-20T20:02:35.221Z"
   },
   {
    "duration": 11024,
    "start_time": "2023-09-20T20:02:35.272Z"
   },
   {
    "duration": 9939,
    "start_time": "2023-09-20T20:02:46.298Z"
   },
   {
    "duration": 10166,
    "start_time": "2023-09-20T20:02:56.239Z"
   },
   {
    "duration": 6,
    "start_time": "2023-09-20T20:03:06.406Z"
   },
   {
    "duration": 6,
    "start_time": "2023-09-20T20:03:06.418Z"
   },
   {
    "duration": 462,
    "start_time": "2023-09-20T20:03:06.427Z"
   },
   {
    "duration": 0,
    "start_time": "2023-09-20T20:03:06.890Z"
   },
   {
    "duration": 0,
    "start_time": "2023-09-20T20:03:06.892Z"
   },
   {
    "duration": 0,
    "start_time": "2023-09-20T20:03:06.893Z"
   },
   {
    "duration": 0,
    "start_time": "2023-09-20T20:03:06.902Z"
   },
   {
    "duration": 0,
    "start_time": "2023-09-20T20:03:06.903Z"
   },
   {
    "duration": 0,
    "start_time": "2023-09-20T20:03:06.905Z"
   },
   {
    "duration": 0,
    "start_time": "2023-09-20T20:03:06.906Z"
   },
   {
    "duration": 0,
    "start_time": "2023-09-20T20:03:06.908Z"
   },
   {
    "duration": 3,
    "start_time": "2023-09-20T20:03:56.043Z"
   },
   {
    "duration": 1769,
    "start_time": "2023-09-20T20:03:56.048Z"
   },
   {
    "duration": 668,
    "start_time": "2023-09-20T20:03:57.819Z"
   },
   {
    "duration": 508,
    "start_time": "2023-09-20T20:03:58.489Z"
   },
   {
    "duration": 3,
    "start_time": "2023-09-20T20:03:58.998Z"
   },
   {
    "duration": 87,
    "start_time": "2023-09-20T20:03:59.009Z"
   },
   {
    "duration": 6,
    "start_time": "2023-09-20T20:03:59.098Z"
   },
   {
    "duration": 44,
    "start_time": "2023-09-20T20:03:59.111Z"
   },
   {
    "duration": 10341,
    "start_time": "2023-09-20T20:03:59.158Z"
   },
   {
    "duration": 9749,
    "start_time": "2023-09-20T20:04:09.501Z"
   },
   {
    "duration": 10182,
    "start_time": "2023-09-20T20:04:19.252Z"
   },
   {
    "duration": 4,
    "start_time": "2023-09-20T20:04:29.436Z"
   },
   {
    "duration": 20,
    "start_time": "2023-09-20T20:04:29.441Z"
   },
   {
    "duration": 425,
    "start_time": "2023-09-20T20:04:29.462Z"
   },
   {
    "duration": 0,
    "start_time": "2023-09-20T20:04:29.889Z"
   },
   {
    "duration": 0,
    "start_time": "2023-09-20T20:04:29.890Z"
   },
   {
    "duration": 0,
    "start_time": "2023-09-20T20:04:29.891Z"
   },
   {
    "duration": 0,
    "start_time": "2023-09-20T20:04:29.892Z"
   },
   {
    "duration": 0,
    "start_time": "2023-09-20T20:04:29.893Z"
   },
   {
    "duration": 0,
    "start_time": "2023-09-20T20:04:29.894Z"
   },
   {
    "duration": 0,
    "start_time": "2023-09-20T20:04:29.895Z"
   },
   {
    "duration": 0,
    "start_time": "2023-09-20T20:04:29.896Z"
   },
   {
    "duration": 91,
    "start_time": "2023-09-20T20:05:35.427Z"
   },
   {
    "duration": 465,
    "start_time": "2023-09-20T20:05:56.561Z"
   },
   {
    "duration": 567,
    "start_time": "2023-09-20T20:06:34.539Z"
   },
   {
    "duration": 464,
    "start_time": "2023-09-20T20:07:57.645Z"
   },
   {
    "duration": 13,
    "start_time": "2023-09-20T20:08:25.237Z"
   },
   {
    "duration": 26,
    "start_time": "2023-09-20T20:09:30.397Z"
   },
   {
    "duration": 16,
    "start_time": "2023-09-20T20:09:41.817Z"
   },
   {
    "duration": 7,
    "start_time": "2023-09-20T20:10:24.803Z"
   },
   {
    "duration": 37,
    "start_time": "2023-09-20T20:10:25.397Z"
   },
   {
    "duration": 2,
    "start_time": "2023-09-20T20:10:33.793Z"
   },
   {
    "duration": 1983,
    "start_time": "2023-09-20T20:10:36.704Z"
   },
   {
    "duration": 2011,
    "start_time": "2023-09-20T20:21:53.262Z"
   },
   {
    "duration": 17,
    "start_time": "2023-09-20T20:22:30.875Z"
   },
   {
    "duration": 2022,
    "start_time": "2023-09-20T20:22:38.396Z"
   },
   {
    "duration": 15,
    "start_time": "2023-09-20T20:23:43.337Z"
   },
   {
    "duration": 1869,
    "start_time": "2023-09-20T20:23:48.639Z"
   },
   {
    "duration": 1726,
    "start_time": "2023-09-20T20:27:14.868Z"
   },
   {
    "duration": 688,
    "start_time": "2023-09-20T20:27:19.498Z"
   },
   {
    "duration": 519,
    "start_time": "2023-09-20T20:27:20.188Z"
   },
   {
    "duration": 3,
    "start_time": "2023-09-20T20:27:21.273Z"
   },
   {
    "duration": 27,
    "start_time": "2023-09-20T20:27:21.945Z"
   },
   {
    "duration": 6,
    "start_time": "2023-09-20T20:27:23.196Z"
   },
   {
    "duration": 41,
    "start_time": "2023-09-20T20:27:24.833Z"
   },
   {
    "duration": 9,
    "start_time": "2023-09-20T20:27:32.418Z"
   },
   {
    "duration": 5,
    "start_time": "2023-09-20T20:27:43.897Z"
   },
   {
    "duration": 5,
    "start_time": "2023-09-20T20:28:00.286Z"
   },
   {
    "duration": 245,
    "start_time": "2023-09-20T20:28:14.747Z"
   },
   {
    "duration": 13,
    "start_time": "2023-09-20T20:28:50.938Z"
   },
   {
    "duration": 49,
    "start_time": "2023-09-20T20:29:06.989Z"
   },
   {
    "duration": 6,
    "start_time": "2023-09-20T20:29:51.544Z"
   },
   {
    "duration": 74,
    "start_time": "2023-09-20T20:29:52.321Z"
   },
   {
    "duration": 6,
    "start_time": "2023-09-20T20:30:24.339Z"
   },
   {
    "duration": 5,
    "start_time": "2023-09-20T20:30:41.786Z"
   },
   {
    "duration": 79,
    "start_time": "2023-09-20T20:30:42.494Z"
   },
   {
    "duration": 12,
    "start_time": "2023-09-20T20:31:37.063Z"
   },
   {
    "duration": 5,
    "start_time": "2023-09-20T20:31:37.731Z"
   },
   {
    "duration": 87,
    "start_time": "2023-09-20T20:31:38.480Z"
   },
   {
    "duration": 462,
    "start_time": "2023-09-20T20:32:41.057Z"
   },
   {
    "duration": 6,
    "start_time": "2023-09-20T20:32:44.739Z"
   },
   {
    "duration": 6,
    "start_time": "2023-09-20T20:32:45.477Z"
   },
   {
    "duration": 22,
    "start_time": "2023-09-20T20:32:46.226Z"
   },
   {
    "duration": 7,
    "start_time": "2023-09-20T20:33:17.732Z"
   },
   {
    "duration": 22,
    "start_time": "2023-09-20T20:33:29.130Z"
   },
   {
    "duration": 1689,
    "start_time": "2023-09-20T20:34:33.051Z"
   },
   {
    "duration": 712,
    "start_time": "2023-09-20T20:34:34.743Z"
   },
   {
    "duration": 486,
    "start_time": "2023-09-20T20:34:35.456Z"
   },
   {
    "duration": 2,
    "start_time": "2023-09-20T20:34:35.944Z"
   },
   {
    "duration": 45,
    "start_time": "2023-09-20T20:34:35.948Z"
   },
   {
    "duration": 4,
    "start_time": "2023-09-20T20:34:35.995Z"
   },
   {
    "duration": 42,
    "start_time": "2023-09-20T20:34:36.846Z"
   },
   {
    "duration": 13,
    "start_time": "2023-09-20T20:34:43.576Z"
   },
   {
    "duration": 6,
    "start_time": "2023-09-20T20:34:44.235Z"
   },
   {
    "duration": 306,
    "start_time": "2023-09-20T20:34:45.136Z"
   },
   {
    "duration": 4,
    "start_time": "2023-09-20T20:34:46.885Z"
   },
   {
    "duration": 6,
    "start_time": "2023-09-20T20:34:48.174Z"
   },
   {
    "duration": 248,
    "start_time": "2023-09-20T20:34:48.884Z"
   },
   {
    "duration": 3,
    "start_time": "2023-09-20T20:35:53.057Z"
   },
   {
    "duration": 7,
    "start_time": "2023-09-20T20:35:54.102Z"
   },
   {
    "duration": 30,
    "start_time": "2023-09-20T20:35:55.478Z"
   },
   {
    "duration": 3,
    "start_time": "2023-09-20T20:36:12.755Z"
   },
   {
    "duration": 3,
    "start_time": "2023-09-20T20:36:26.937Z"
   },
   {
    "duration": 14,
    "start_time": "2023-09-20T20:36:31.168Z"
   },
   {
    "duration": 6,
    "start_time": "2023-09-20T20:36:31.664Z"
   },
   {
    "duration": 416,
    "start_time": "2023-09-20T20:36:32.298Z"
   },
   {
    "duration": 4,
    "start_time": "2023-09-20T20:36:34.581Z"
   },
   {
    "duration": 7,
    "start_time": "2023-09-20T20:36:36.866Z"
   },
   {
    "duration": 1971,
    "start_time": "2023-09-20T20:36:37.857Z"
   },
   {
    "duration": 4,
    "start_time": "2023-09-20T20:37:49.239Z"
   },
   {
    "duration": 12,
    "start_time": "2023-09-20T20:37:56.859Z"
   },
   {
    "duration": 6,
    "start_time": "2023-09-20T20:37:57.577Z"
   },
   {
    "duration": 432,
    "start_time": "2023-09-20T20:37:58.239Z"
   },
   {
    "duration": 4,
    "start_time": "2023-09-20T20:38:01.141Z"
   },
   {
    "duration": 6,
    "start_time": "2023-09-20T20:38:02.133Z"
   },
   {
    "duration": 2021,
    "start_time": "2023-09-20T20:38:03.038Z"
   },
   {
    "duration": 5,
    "start_time": "2023-09-20T20:39:44.746Z"
   },
   {
    "duration": 4,
    "start_time": "2023-09-20T20:40:17.395Z"
   },
   {
    "duration": 6,
    "start_time": "2023-09-20T20:40:18.337Z"
   },
   {
    "duration": 2038,
    "start_time": "2023-09-20T20:40:19.569Z"
   },
   {
    "duration": 6,
    "start_time": "2023-09-20T20:40:55.588Z"
   },
   {
    "duration": 1649,
    "start_time": "2023-09-20T20:40:56.666Z"
   },
   {
    "duration": 19466,
    "start_time": "2023-09-21T16:23:03.546Z"
   },
   {
    "duration": 4,
    "start_time": "2023-09-21T16:26:05.150Z"
   },
   {
    "duration": 2264,
    "start_time": "2023-09-21T16:26:05.856Z"
   },
   {
    "duration": 5,
    "start_time": "2023-09-21T16:26:24.150Z"
   },
   {
    "duration": 2805,
    "start_time": "2023-09-21T16:26:24.159Z"
   },
   {
    "duration": 1785,
    "start_time": "2023-09-21T16:26:26.970Z"
   },
   {
    "duration": 5,
    "start_time": "2023-09-21T16:26:28.757Z"
   },
   {
    "duration": 84,
    "start_time": "2023-09-21T16:26:28.764Z"
   },
   {
    "duration": 91,
    "start_time": "2023-09-21T16:26:28.850Z"
   },
   {
    "duration": 10336,
    "start_time": "2023-09-21T16:26:28.947Z"
   },
   {
    "duration": 9504,
    "start_time": "2023-09-21T16:26:39.285Z"
   },
   {
    "duration": 9990,
    "start_time": "2023-09-21T16:26:48.790Z"
   },
   {
    "duration": 5,
    "start_time": "2023-09-21T16:26:58.781Z"
   },
   {
    "duration": 39,
    "start_time": "2023-09-21T16:26:58.789Z"
   },
   {
    "duration": 608,
    "start_time": "2023-09-21T16:26:58.830Z"
   },
   {
    "duration": 34,
    "start_time": "2023-09-21T16:26:59.446Z"
   },
   {
    "duration": 5,
    "start_time": "2023-09-21T16:26:59.525Z"
   },
   {
    "duration": 42,
    "start_time": "2023-09-21T16:26:59.532Z"
   },
   {
    "duration": 208,
    "start_time": "2023-09-21T16:26:59.576Z"
   },
   {
    "duration": 0,
    "start_time": "2023-09-21T16:26:59.787Z"
   },
   {
    "duration": 0,
    "start_time": "2023-09-21T16:26:59.788Z"
   },
   {
    "duration": 0,
    "start_time": "2023-09-21T16:26:59.790Z"
   },
   {
    "duration": 0,
    "start_time": "2023-09-21T16:26:59.791Z"
   },
   {
    "duration": 0,
    "start_time": "2023-09-21T16:26:59.793Z"
   },
   {
    "duration": 0,
    "start_time": "2023-09-21T16:26:59.794Z"
   },
   {
    "duration": 0,
    "start_time": "2023-09-21T16:26:59.796Z"
   },
   {
    "duration": 0,
    "start_time": "2023-09-21T16:26:59.798Z"
   },
   {
    "duration": 0,
    "start_time": "2023-09-21T16:26:59.799Z"
   },
   {
    "duration": 0,
    "start_time": "2023-09-21T16:26:59.825Z"
   },
   {
    "duration": 0,
    "start_time": "2023-09-21T16:26:59.825Z"
   },
   {
    "duration": 0,
    "start_time": "2023-09-21T16:26:59.826Z"
   },
   {
    "duration": 0,
    "start_time": "2023-09-21T16:26:59.827Z"
   },
   {
    "duration": 125,
    "start_time": "2023-09-21T17:29:01.935Z"
   },
   {
    "duration": 3,
    "start_time": "2023-09-21T17:49:52.986Z"
   },
   {
    "duration": 14,
    "start_time": "2023-09-21T17:49:53.579Z"
   },
   {
    "duration": 14,
    "start_time": "2023-09-21T17:50:21.374Z"
   },
   {
    "duration": 4,
    "start_time": "2023-09-21T17:50:22.102Z"
   },
   {
    "duration": 1806,
    "start_time": "2023-09-21T17:50:22.978Z"
   },
   {
    "duration": 1756,
    "start_time": "2023-09-21T17:50:28.309Z"
   },
   {
    "duration": 1763,
    "start_time": "2023-09-21T17:50:36.157Z"
   },
   {
    "duration": 10,
    "start_time": "2023-09-21T17:50:45.159Z"
   },
   {
    "duration": 5,
    "start_time": "2023-09-21T17:50:45.607Z"
   },
   {
    "duration": 400,
    "start_time": "2023-09-21T17:50:46.526Z"
   },
   {
    "duration": 5,
    "start_time": "2023-09-21T17:50:53.560Z"
   },
   {
    "duration": 8,
    "start_time": "2023-09-21T17:50:54.874Z"
   },
   {
    "duration": 1522,
    "start_time": "2023-09-21T17:50:55.916Z"
   },
   {
    "duration": 3,
    "start_time": "2023-09-21T17:52:41.879Z"
   },
   {
    "duration": 9,
    "start_time": "2023-09-21T17:52:50.845Z"
   },
   {
    "duration": 9,
    "start_time": "2023-09-21T17:52:51.546Z"
   },
   {
    "duration": 7,
    "start_time": "2023-09-21T17:54:05.136Z"
   },
   {
    "duration": 351,
    "start_time": "2023-09-21T17:54:06.674Z"
   },
   {
    "duration": 5,
    "start_time": "2023-09-21T17:54:31.778Z"
   },
   {
    "duration": 437,
    "start_time": "2023-09-21T17:54:32.689Z"
   },
   {
    "duration": 5,
    "start_time": "2023-09-21T17:56:02.363Z"
   },
   {
    "duration": 349,
    "start_time": "2023-09-21T17:56:02.896Z"
   },
   {
    "duration": 5,
    "start_time": "2023-09-21T17:56:38.215Z"
   },
   {
    "duration": 410,
    "start_time": "2023-09-21T17:56:40.029Z"
   },
   {
    "duration": 7,
    "start_time": "2023-09-21T17:56:59.523Z"
   },
   {
    "duration": 265,
    "start_time": "2023-09-21T17:57:03.677Z"
   },
   {
    "duration": 251,
    "start_time": "2023-09-21T18:04:30.392Z"
   },
   {
    "duration": 14,
    "start_time": "2023-09-21T18:04:35.856Z"
   },
   {
    "duration": 307,
    "start_time": "2023-09-21T18:04:37.519Z"
   },
   {
    "duration": 4,
    "start_time": "2023-09-21T18:04:43.193Z"
   },
   {
    "duration": 4,
    "start_time": "2023-09-21T18:04:45.001Z"
   },
   {
    "duration": 5,
    "start_time": "2023-09-21T18:04:46.309Z"
   },
   {
    "duration": 8,
    "start_time": "2023-09-21T18:04:47.683Z"
   },
   {
    "duration": 6,
    "start_time": "2023-09-21T18:04:48.159Z"
   },
   {
    "duration": 517,
    "start_time": "2023-09-21T18:04:49.610Z"
   },
   {
    "duration": 4,
    "start_time": "2023-09-21T18:04:53.483Z"
   },
   {
    "duration": 7,
    "start_time": "2023-09-21T18:04:55.010Z"
   },
   {
    "duration": 1446,
    "start_time": "2023-09-21T18:04:56.263Z"
   },
   {
    "duration": 4,
    "start_time": "2023-09-21T18:08:21.109Z"
   },
   {
    "duration": 2789,
    "start_time": "2023-09-21T18:08:21.115Z"
   },
   {
    "duration": 477,
    "start_time": "2023-09-21T18:08:23.906Z"
   },
   {
    "duration": 4,
    "start_time": "2023-09-21T18:08:24.385Z"
   },
   {
    "duration": 40,
    "start_time": "2023-09-21T18:08:24.390Z"
   },
   {
    "duration": 52,
    "start_time": "2023-09-21T18:08:24.433Z"
   },
   {
    "duration": 11237,
    "start_time": "2023-09-21T18:08:24.488Z"
   },
   {
    "duration": 10252,
    "start_time": "2023-09-21T18:08:35.732Z"
   },
   {
    "duration": 12686,
    "start_time": "2023-09-21T18:08:45.986Z"
   },
   {
    "duration": 9,
    "start_time": "2023-09-21T18:08:58.675Z"
   },
   {
    "duration": 440,
    "start_time": "2023-09-21T18:08:58.686Z"
   },
   {
    "duration": 89,
    "start_time": "2023-09-21T18:08:59.135Z"
   },
   {
    "duration": 39,
    "start_time": "2023-09-21T18:08:59.229Z"
   },
   {
    "duration": 81,
    "start_time": "2023-09-21T18:08:59.270Z"
   },
   {
    "duration": 82,
    "start_time": "2023-09-21T18:08:59.353Z"
   },
   {
    "duration": 70,
    "start_time": "2023-09-21T18:08:59.437Z"
   },
   {
    "duration": 11,
    "start_time": "2023-09-21T18:08:59.509Z"
   },
   {
    "duration": 417,
    "start_time": "2023-09-21T18:08:59.523Z"
   },
   {
    "duration": 11,
    "start_time": "2023-09-21T18:08:59.945Z"
   },
   {
    "duration": 112,
    "start_time": "2023-09-21T18:08:59.961Z"
   },
   {
    "duration": 1762,
    "start_time": "2023-09-21T18:09:00.075Z"
   },
   {
    "duration": 15,
    "start_time": "2023-09-21T18:12:24.296Z"
   },
   {
    "duration": 12,
    "start_time": "2023-09-21T18:12:50.775Z"
   },
   {
    "duration": 268,
    "start_time": "2023-09-21T18:15:35.482Z"
   },
   {
    "duration": 153,
    "start_time": "2023-09-21T18:15:53.953Z"
   },
   {
    "duration": 167,
    "start_time": "2023-09-21T18:15:57.363Z"
   },
   {
    "duration": 102,
    "start_time": "2023-09-21T18:16:07.367Z"
   },
   {
    "duration": 91,
    "start_time": "2023-09-21T18:16:09.975Z"
   },
   {
    "duration": 82,
    "start_time": "2023-09-21T18:16:12.097Z"
   },
   {
    "duration": 88,
    "start_time": "2023-09-21T18:16:15.884Z"
   },
   {
    "duration": 6,
    "start_time": "2023-09-21T18:16:31.255Z"
   },
   {
    "duration": 167,
    "start_time": "2023-09-21T18:17:20.211Z"
   },
   {
    "duration": 5,
    "start_time": "2023-09-21T18:17:26.763Z"
   },
   {
    "duration": 363,
    "start_time": "2023-09-21T18:17:28.771Z"
   },
   {
    "duration": 6,
    "start_time": "2023-09-21T18:17:45.112Z"
   },
   {
    "duration": 383,
    "start_time": "2023-09-21T18:17:45.771Z"
   },
   {
    "duration": 5,
    "start_time": "2023-09-21T18:18:16.692Z"
   },
   {
    "duration": 342,
    "start_time": "2023-09-21T18:18:17.501Z"
   },
   {
    "duration": 3,
    "start_time": "2023-09-21T18:18:55.305Z"
   },
   {
    "duration": 5,
    "start_time": "2023-09-21T18:18:56.160Z"
   },
   {
    "duration": 201,
    "start_time": "2023-09-21T18:18:58.023Z"
   },
   {
    "duration": 4,
    "start_time": "2023-09-21T18:19:16.599Z"
   },
   {
    "duration": 5,
    "start_time": "2023-09-21T18:19:39.010Z"
   },
   {
    "duration": 1462,
    "start_time": "2023-09-21T18:19:39.646Z"
   },
   {
    "duration": 59,
    "start_time": "2023-09-21T18:21:46.610Z"
   },
   {
    "duration": 10,
    "start_time": "2023-09-21T18:22:02.051Z"
   },
   {
    "duration": 5,
    "start_time": "2023-09-21T18:22:03.283Z"
   },
   {
    "duration": 532,
    "start_time": "2023-09-21T18:22:03.897Z"
   },
   {
    "duration": 4,
    "start_time": "2023-09-21T18:22:06.771Z"
   },
   {
    "duration": 6,
    "start_time": "2023-09-21T18:22:07.722Z"
   },
   {
    "duration": 4,
    "start_time": "2023-09-21T18:27:02.288Z"
   },
   {
    "duration": 2634,
    "start_time": "2023-09-21T18:27:02.294Z"
   },
   {
    "duration": 452,
    "start_time": "2023-09-21T18:27:04.935Z"
   },
   {
    "duration": 3,
    "start_time": "2023-09-21T18:27:05.389Z"
   },
   {
    "duration": 66,
    "start_time": "2023-09-21T18:27:05.393Z"
   },
   {
    "duration": 39,
    "start_time": "2023-09-21T18:27:05.461Z"
   },
   {
    "duration": 10362,
    "start_time": "2023-09-21T18:27:05.502Z"
   },
   {
    "duration": 9245,
    "start_time": "2023-09-21T18:27:15.866Z"
   },
   {
    "duration": 9740,
    "start_time": "2023-09-21T18:27:25.112Z"
   },
   {
    "duration": 5,
    "start_time": "2023-09-21T18:27:34.855Z"
   },
   {
    "duration": 282,
    "start_time": "2023-09-21T18:27:34.862Z"
   },
   {
    "duration": 189,
    "start_time": "2023-09-21T18:27:35.146Z"
   },
   {
    "duration": 36,
    "start_time": "2023-09-21T18:27:35.337Z"
   },
   {
    "duration": 22,
    "start_time": "2023-09-21T18:27:35.375Z"
   },
   {
    "duration": 63,
    "start_time": "2023-09-21T18:27:35.399Z"
   },
   {
    "duration": 566,
    "start_time": "2023-09-21T18:27:35.464Z"
   },
   {
    "duration": 13,
    "start_time": "2023-09-21T18:27:36.035Z"
   },
   {
    "duration": 165,
    "start_time": "2023-09-21T18:27:36.125Z"
   },
   {
    "duration": 4229,
    "start_time": "2023-09-21T18:27:36.292Z"
   },
   {
    "duration": 4452,
    "start_time": "2023-09-21T18:28:50.018Z"
   },
   {
    "duration": 4,
    "start_time": "2023-09-21T18:34:25.171Z"
   },
   {
    "duration": 4,
    "start_time": "2023-09-21T19:00:06.508Z"
   },
   {
    "duration": 2490,
    "start_time": "2023-09-21T19:00:06.514Z"
   },
   {
    "duration": 497,
    "start_time": "2023-09-21T19:00:09.006Z"
   },
   {
    "duration": 3,
    "start_time": "2023-09-21T19:00:09.505Z"
   },
   {
    "duration": 358,
    "start_time": "2023-09-21T19:00:09.510Z"
   },
   {
    "duration": 143,
    "start_time": "2023-09-21T19:00:09.869Z"
   },
   {
    "duration": 10653,
    "start_time": "2023-09-21T19:00:10.014Z"
   },
   {
    "duration": 10079,
    "start_time": "2023-09-21T19:00:20.669Z"
   },
   {
    "duration": 10418,
    "start_time": "2023-09-21T19:00:30.762Z"
   },
   {
    "duration": 3,
    "start_time": "2023-09-21T19:00:41.183Z"
   },
   {
    "duration": 47,
    "start_time": "2023-09-21T19:00:41.187Z"
   },
   {
    "duration": 29,
    "start_time": "2023-09-21T19:00:41.238Z"
   },
   {
    "duration": 15,
    "start_time": "2023-09-21T19:00:41.270Z"
   },
   {
    "duration": 545,
    "start_time": "2023-09-21T19:00:41.287Z"
   },
   {
    "duration": 11,
    "start_time": "2023-09-21T19:00:41.846Z"
   },
   {
    "duration": 68,
    "start_time": "2023-09-21T19:00:41.864Z"
   },
   {
    "duration": 4995,
    "start_time": "2023-09-21T19:00:41.935Z"
   },
   {
    "duration": 1138,
    "start_time": "2023-09-21T19:05:17.029Z"
   },
   {
    "duration": 5,
    "start_time": "2023-09-21T19:05:26.581Z"
   },
   {
    "duration": 927,
    "start_time": "2023-09-21T19:05:30.862Z"
   },
   {
    "duration": 9,
    "start_time": "2023-09-21T19:07:02.025Z"
   },
   {
    "duration": 1540,
    "start_time": "2023-09-21T19:07:15.820Z"
   },
   {
    "duration": 4,
    "start_time": "2023-09-21T19:08:05.698Z"
   },
   {
    "duration": 3091,
    "start_time": "2023-09-21T19:08:05.704Z"
   },
   {
    "duration": 494,
    "start_time": "2023-09-21T19:08:08.796Z"
   },
   {
    "duration": 2,
    "start_time": "2023-09-21T19:08:09.292Z"
   },
   {
    "duration": 171,
    "start_time": "2023-09-21T19:08:09.296Z"
   },
   {
    "duration": 241,
    "start_time": "2023-09-21T19:08:09.470Z"
   },
   {
    "duration": 11549,
    "start_time": "2023-09-21T19:08:09.713Z"
   },
   {
    "duration": 10346,
    "start_time": "2023-09-21T19:08:21.264Z"
   },
   {
    "duration": 10867,
    "start_time": "2023-09-21T19:08:31.630Z"
   },
   {
    "duration": 4,
    "start_time": "2023-09-21T19:08:42.499Z"
   },
   {
    "duration": 87,
    "start_time": "2023-09-21T19:08:42.524Z"
   },
   {
    "duration": 143,
    "start_time": "2023-09-21T19:08:42.613Z"
   },
   {
    "duration": 56,
    "start_time": "2023-09-21T19:08:42.759Z"
   },
   {
    "duration": 622,
    "start_time": "2023-09-21T19:08:42.816Z"
   },
   {
    "duration": 76,
    "start_time": "2023-09-21T19:08:43.450Z"
   },
   {
    "duration": 62,
    "start_time": "2023-09-21T19:08:43.538Z"
   },
   {
    "duration": 239,
    "start_time": "2023-09-21T19:08:43.602Z"
   },
   {
    "duration": 0,
    "start_time": "2023-09-21T19:08:43.849Z"
   },
   {
    "duration": 11,
    "start_time": "2023-09-21T19:09:40.221Z"
   },
   {
    "duration": 4897,
    "start_time": "2023-09-21T19:09:40.749Z"
   },
   {
    "duration": 6,
    "start_time": "2023-09-21T19:10:39.641Z"
   },
   {
    "duration": 2668,
    "start_time": "2023-09-21T19:10:39.653Z"
   },
   {
    "duration": 465,
    "start_time": "2023-09-21T19:10:42.322Z"
   },
   {
    "duration": 3,
    "start_time": "2023-09-21T19:10:42.789Z"
   },
   {
    "duration": 86,
    "start_time": "2023-09-21T19:10:42.794Z"
   },
   {
    "duration": 88,
    "start_time": "2023-09-21T19:10:42.881Z"
   },
   {
    "duration": 11148,
    "start_time": "2023-09-21T19:10:42.971Z"
   },
   {
    "duration": 10304,
    "start_time": "2023-09-21T19:10:54.121Z"
   },
   {
    "duration": 10433,
    "start_time": "2023-09-21T19:11:04.438Z"
   },
   {
    "duration": 5,
    "start_time": "2023-09-21T19:11:14.873Z"
   },
   {
    "duration": 60,
    "start_time": "2023-09-21T19:11:14.880Z"
   },
   {
    "duration": 17,
    "start_time": "2023-09-21T19:11:14.946Z"
   },
   {
    "duration": 12,
    "start_time": "2023-09-21T19:11:14.967Z"
   },
   {
    "duration": 577,
    "start_time": "2023-09-21T19:11:14.980Z"
   },
   {
    "duration": 92,
    "start_time": "2023-09-21T19:11:15.560Z"
   },
   {
    "duration": 8,
    "start_time": "2023-09-21T19:11:15.723Z"
   },
   {
    "duration": 5027,
    "start_time": "2023-09-21T19:11:15.734Z"
   },
   {
    "duration": 7,
    "start_time": "2023-09-21T19:11:20.764Z"
   },
   {
    "duration": 5,
    "start_time": "2023-09-21T19:21:19.267Z"
   },
   {
    "duration": 2488,
    "start_time": "2023-09-21T19:21:19.276Z"
   },
   {
    "duration": 455,
    "start_time": "2023-09-21T19:21:21.767Z"
   },
   {
    "duration": 7,
    "start_time": "2023-09-21T19:21:22.225Z"
   },
   {
    "duration": 48,
    "start_time": "2023-09-21T19:21:22.235Z"
   },
   {
    "duration": 34,
    "start_time": "2023-09-21T19:21:22.285Z"
   },
   {
    "duration": 11067,
    "start_time": "2023-09-21T19:21:22.323Z"
   },
   {
    "duration": 10156,
    "start_time": "2023-09-21T19:21:33.392Z"
   },
   {
    "duration": 11094,
    "start_time": "2023-09-21T19:21:43.550Z"
   },
   {
    "duration": 5,
    "start_time": "2023-09-21T19:21:54.652Z"
   },
   {
    "duration": 25,
    "start_time": "2023-09-21T19:21:54.659Z"
   },
   {
    "duration": 10,
    "start_time": "2023-09-21T19:21:54.686Z"
   },
   {
    "duration": 35,
    "start_time": "2023-09-21T19:21:54.697Z"
   },
   {
    "duration": 508,
    "start_time": "2023-09-21T19:21:54.735Z"
   },
   {
    "duration": 17,
    "start_time": "2023-09-21T19:21:55.247Z"
   },
   {
    "duration": 18,
    "start_time": "2023-09-21T19:21:55.324Z"
   },
   {
    "duration": 5240,
    "start_time": "2023-09-21T19:21:55.349Z"
   },
   {
    "duration": 5,
    "start_time": "2023-09-21T19:22:00.591Z"
   },
   {
    "duration": 6,
    "start_time": "2023-09-21T20:08:24.625Z"
   },
   {
    "duration": 4203,
    "start_time": "2023-09-21T20:08:24.633Z"
   },
   {
    "duration": 1417,
    "start_time": "2023-09-21T20:08:28.838Z"
   },
   {
    "duration": 4,
    "start_time": "2023-09-21T20:08:30.257Z"
   },
   {
    "duration": 32,
    "start_time": "2023-09-21T20:08:30.317Z"
   },
   {
    "duration": 115,
    "start_time": "2023-09-21T20:08:30.410Z"
   },
   {
    "duration": 20103,
    "start_time": "2023-09-21T20:08:30.528Z"
   },
   {
    "duration": 18588,
    "start_time": "2023-09-21T20:08:50.633Z"
   },
   {
    "duration": 18913,
    "start_time": "2023-09-21T20:09:09.223Z"
   },
   {
    "duration": 4,
    "start_time": "2023-09-21T20:09:28.139Z"
   },
   {
    "duration": 72,
    "start_time": "2023-09-21T20:09:28.145Z"
   },
   {
    "duration": 9,
    "start_time": "2023-09-21T20:09:28.226Z"
   },
   {
    "duration": 82,
    "start_time": "2023-09-21T20:09:28.238Z"
   },
   {
    "duration": 527,
    "start_time": "2023-09-21T20:09:28.325Z"
   },
   {
    "duration": 0,
    "start_time": "2023-09-21T20:09:28.854Z"
   },
   {
    "duration": 0,
    "start_time": "2023-09-21T20:09:28.855Z"
   },
   {
    "duration": 0,
    "start_time": "2023-09-21T20:09:28.857Z"
   },
   {
    "duration": 0,
    "start_time": "2023-09-21T20:09:28.916Z"
   },
   {
    "duration": 8,
    "start_time": "2023-09-21T20:09:55.333Z"
   },
   {
    "duration": 492,
    "start_time": "2023-09-21T20:09:55.733Z"
   },
   {
    "duration": 81,
    "start_time": "2023-09-21T20:09:56.231Z"
   },
   {
    "duration": 20,
    "start_time": "2023-09-21T20:09:56.501Z"
   },
   {
    "duration": 10198,
    "start_time": "2023-09-21T20:09:56.736Z"
   },
   {
    "duration": 2252,
    "start_time": "2023-09-21T20:10:06.936Z"
   },
   {
    "duration": 1508,
    "start_time": "2023-09-21T20:10:11.565Z"
   },
   {
    "duration": 22,
    "start_time": "2023-09-21T20:10:40.474Z"
   },
   {
    "duration": 4,
    "start_time": "2023-09-21T20:12:03.946Z"
   },
   {
    "duration": 4366,
    "start_time": "2023-09-21T20:12:03.952Z"
   },
   {
    "duration": 869,
    "start_time": "2023-09-21T20:12:08.319Z"
   },
   {
    "duration": 3,
    "start_time": "2023-09-21T20:12:09.190Z"
   },
   {
    "duration": 31,
    "start_time": "2023-09-21T20:12:09.197Z"
   },
   {
    "duration": 33,
    "start_time": "2023-09-21T20:12:09.229Z"
   },
   {
    "duration": 10164,
    "start_time": "2023-09-21T20:12:09.264Z"
   },
   {
    "duration": 9458,
    "start_time": "2023-09-21T20:12:19.430Z"
   },
   {
    "duration": 9749,
    "start_time": "2023-09-21T20:12:28.908Z"
   },
   {
    "duration": 4,
    "start_time": "2023-09-21T20:12:38.659Z"
   },
   {
    "duration": 47,
    "start_time": "2023-09-21T20:12:38.665Z"
   },
   {
    "duration": 8,
    "start_time": "2023-09-21T20:12:38.713Z"
   },
   {
    "duration": 7,
    "start_time": "2023-09-21T20:12:38.724Z"
   },
   {
    "duration": 235,
    "start_time": "2023-09-21T20:12:38.734Z"
   },
   {
    "duration": 0,
    "start_time": "2023-09-21T20:12:38.971Z"
   },
   {
    "duration": 0,
    "start_time": "2023-09-21T20:12:38.972Z"
   },
   {
    "duration": 0,
    "start_time": "2023-09-21T20:12:38.974Z"
   },
   {
    "duration": 0,
    "start_time": "2023-09-21T20:12:38.975Z"
   },
   {
    "duration": 6,
    "start_time": "2023-09-21T20:13:24.688Z"
   },
   {
    "duration": 505,
    "start_time": "2023-09-21T20:13:25.206Z"
   },
   {
    "duration": 5,
    "start_time": "2023-09-21T20:13:25.714Z"
   },
   {
    "duration": 6,
    "start_time": "2023-09-21T20:13:25.810Z"
   },
   {
    "duration": 4362,
    "start_time": "2023-09-21T20:13:26.242Z"
   },
   {
    "duration": 881,
    "start_time": "2023-09-21T20:13:30.608Z"
   },
   {
    "duration": 3,
    "start_time": "2023-09-21T20:13:32.014Z"
   },
   {
    "duration": 6,
    "start_time": "2023-09-21T20:13:32.190Z"
   },
   {
    "duration": 4400,
    "start_time": "2023-09-21T20:13:32.341Z"
   },
   {
    "duration": 899,
    "start_time": "2023-09-21T20:13:36.744Z"
   },
   {
    "duration": 6,
    "start_time": "2023-09-21T20:13:53.823Z"
   },
   {
    "duration": 6,
    "start_time": "2023-09-21T20:13:57.686Z"
   },
   {
    "duration": 4,
    "start_time": "2023-09-21T20:14:41.719Z"
   },
   {
    "duration": 55,
    "start_time": "2023-09-21T20:14:50.088Z"
   },
   {
    "duration": 2,
    "start_time": "2023-09-21T20:15:17.106Z"
   },
   {
    "duration": 2238,
    "start_time": "2023-09-21T20:15:17.114Z"
   },
   {
    "duration": 857,
    "start_time": "2023-09-21T20:15:19.354Z"
   },
   {
    "duration": 3,
    "start_time": "2023-09-21T20:15:20.212Z"
   },
   {
    "duration": 140,
    "start_time": "2023-09-21T20:15:20.217Z"
   },
   {
    "duration": 37,
    "start_time": "2023-09-21T20:15:20.359Z"
   },
   {
    "duration": 12,
    "start_time": "2023-09-21T20:15:20.398Z"
   },
   {
    "duration": 12,
    "start_time": "2023-09-21T20:15:20.412Z"
   },
   {
    "duration": 10,
    "start_time": "2023-09-21T20:15:20.426Z"
   },
   {
    "duration": 12,
    "start_time": "2023-09-21T20:15:20.438Z"
   },
   {
    "duration": 32,
    "start_time": "2023-09-21T20:15:20.452Z"
   },
   {
    "duration": 17,
    "start_time": "2023-09-21T20:15:20.486Z"
   },
   {
    "duration": 19,
    "start_time": "2023-09-21T20:15:20.504Z"
   },
   {
    "duration": 587,
    "start_time": "2023-09-21T20:15:20.524Z"
   },
   {
    "duration": 95,
    "start_time": "2023-09-21T20:15:21.115Z"
   },
   {
    "duration": 9,
    "start_time": "2023-09-21T20:15:21.212Z"
   },
   {
    "duration": 4801,
    "start_time": "2023-09-21T20:15:21.223Z"
   },
   {
    "duration": 0,
    "start_time": "2023-09-21T20:15:26.026Z"
   },
   {
    "duration": 871,
    "start_time": "2023-09-21T20:15:28.155Z"
   },
   {
    "duration": 3,
    "start_time": "2023-09-21T20:15:51.081Z"
   },
   {
    "duration": 6,
    "start_time": "2023-09-21T20:15:51.295Z"
   },
   {
    "duration": 2,
    "start_time": "2023-09-21T20:15:51.543Z"
   },
   {
    "duration": 4,
    "start_time": "2023-09-21T20:16:05.953Z"
   },
   {
    "duration": 2336,
    "start_time": "2023-09-21T20:16:05.960Z"
   },
   {
    "duration": 867,
    "start_time": "2023-09-21T20:16:08.298Z"
   },
   {
    "duration": 3,
    "start_time": "2023-09-21T20:16:09.167Z"
   },
   {
    "duration": 28,
    "start_time": "2023-09-21T20:16:09.172Z"
   },
   {
    "duration": 7,
    "start_time": "2023-09-21T20:16:09.202Z"
   },
   {
    "duration": 3,
    "start_time": "2023-09-21T20:16:09.212Z"
   },
   {
    "duration": 16,
    "start_time": "2023-09-21T20:16:09.217Z"
   },
   {
    "duration": 7,
    "start_time": "2023-09-21T20:16:09.235Z"
   },
   {
    "duration": 5,
    "start_time": "2023-09-21T20:16:09.245Z"
   },
   {
    "duration": 17,
    "start_time": "2023-09-21T20:16:09.251Z"
   },
   {
    "duration": 5,
    "start_time": "2023-09-21T20:16:09.270Z"
   },
   {
    "duration": 6,
    "start_time": "2023-09-21T20:16:09.277Z"
   },
   {
    "duration": 530,
    "start_time": "2023-09-21T20:16:09.285Z"
   },
   {
    "duration": 92,
    "start_time": "2023-09-21T20:16:09.818Z"
   },
   {
    "duration": 15,
    "start_time": "2023-09-21T20:16:09.913Z"
   },
   {
    "duration": 4,
    "start_time": "2023-09-21T20:16:09.930Z"
   },
   {
    "duration": 3,
    "start_time": "2023-09-21T20:16:19.791Z"
   },
   {
    "duration": 2210,
    "start_time": "2023-09-21T20:16:19.797Z"
   },
   {
    "duration": 901,
    "start_time": "2023-09-21T20:16:22.010Z"
   },
   {
    "duration": 3,
    "start_time": "2023-09-21T20:16:22.913Z"
   },
   {
    "duration": 40,
    "start_time": "2023-09-21T20:16:22.917Z"
   },
   {
    "duration": 2,
    "start_time": "2023-09-21T20:16:22.959Z"
   },
   {
    "duration": 11,
    "start_time": "2023-09-21T20:16:22.963Z"
   },
   {
    "duration": 24,
    "start_time": "2023-09-21T20:16:22.976Z"
   },
   {
    "duration": 33,
    "start_time": "2023-09-21T20:16:23.002Z"
   },
   {
    "duration": 40,
    "start_time": "2023-09-21T20:16:23.038Z"
   },
   {
    "duration": 20,
    "start_time": "2023-09-21T20:16:23.080Z"
   },
   {
    "duration": 27,
    "start_time": "2023-09-21T20:16:23.102Z"
   },
   {
    "duration": 25,
    "start_time": "2023-09-21T20:16:23.131Z"
   },
   {
    "duration": 556,
    "start_time": "2023-09-21T20:16:23.158Z"
   },
   {
    "duration": 94,
    "start_time": "2023-09-21T20:16:23.716Z"
   },
   {
    "duration": 74,
    "start_time": "2023-09-21T20:16:23.812Z"
   },
   {
    "duration": 40,
    "start_time": "2023-09-21T20:16:23.888Z"
   },
   {
    "duration": 8,
    "start_time": "2023-09-21T20:16:30.671Z"
   },
   {
    "duration": 2722,
    "start_time": "2023-09-21T20:16:30.681Z"
   },
   {
    "duration": 862,
    "start_time": "2023-09-21T20:16:33.405Z"
   },
   {
    "duration": 4,
    "start_time": "2023-09-21T20:16:34.269Z"
   },
   {
    "duration": 37,
    "start_time": "2023-09-21T20:16:34.274Z"
   },
   {
    "duration": 6,
    "start_time": "2023-09-21T20:16:34.313Z"
   },
   {
    "duration": 10,
    "start_time": "2023-09-21T20:16:34.320Z"
   },
   {
    "duration": 8,
    "start_time": "2023-09-21T20:16:34.332Z"
   },
   {
    "duration": 28,
    "start_time": "2023-09-21T20:16:34.341Z"
   },
   {
    "duration": 19,
    "start_time": "2023-09-21T20:16:34.371Z"
   },
   {
    "duration": 24,
    "start_time": "2023-09-21T20:16:34.392Z"
   },
   {
    "duration": 18,
    "start_time": "2023-09-21T20:16:34.418Z"
   },
   {
    "duration": 11,
    "start_time": "2023-09-21T20:16:34.438Z"
   },
   {
    "duration": 561,
    "start_time": "2023-09-21T20:16:34.451Z"
   },
   {
    "duration": 96,
    "start_time": "2023-09-21T20:16:35.014Z"
   },
   {
    "duration": 16,
    "start_time": "2023-09-21T20:16:35.112Z"
   },
   {
    "duration": 20,
    "start_time": "2023-09-21T20:16:35.129Z"
   }
  ],
  "kernelspec": {
   "display_name": "Python 3 (ipykernel)",
   "language": "python",
   "name": "python3"
  },
  "language_info": {
   "codemirror_mode": {
    "name": "ipython",
    "version": 3
   },
   "file_extension": ".py",
   "mimetype": "text/x-python",
   "name": "python",
   "nbconvert_exporter": "python",
   "pygments_lexer": "ipython3",
   "version": "3.9.5"
  },
  "toc": {
   "base_numbering": 1,
   "nav_menu": {},
   "number_sections": true,
   "sideBar": true,
   "skip_h1_title": true,
   "title_cell": "Table of Contents",
   "title_sidebar": "Contents",
   "toc_cell": false,
   "toc_position": {},
   "toc_section_display": true,
   "toc_window_display": true
  }
 },
 "nbformat": 4,
 "nbformat_minor": 2
}
