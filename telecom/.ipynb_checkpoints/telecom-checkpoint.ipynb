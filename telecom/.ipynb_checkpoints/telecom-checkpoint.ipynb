{
 "cells": [
  {
   "cell_type": "markdown",
   "metadata": {},
   "source": [
    "<h1>Определение перспективного тарифа для телеком-компании</h1>"
   ]
  },
  {
   "cell_type": "markdown",
   "metadata": {},
   "source": [
    "## Введение"
   ]
  },
  {
   "cell_type": "markdown",
   "metadata": {},
   "source": [
    "Федеральнй оператор сотовой связи, компания «Мегалайн» предлагает клиентам два тарифных плана: «Смарт» и «Ультра». \n",
    "Чтобы скорректировать рекламный бюджет, коммерческий департамент хочет понять, \n",
    "какой тариф приносит больше денег.\n",
    "Необходимо выполнить предварительный анализ тарифов на небольшой выборке клиентов. \n",
    "Для анализа предоставлены данные 500 пользователей «Мегалайна»: кто они, откуда, \n",
    "каким тарифом пользуются, сколько звонков и сообщений каждый отправил за 2018 год. \n",
    "Нужно проанализировать поведение клиентов и сделать вывод — какой тариф лучше.  "
   ]
  },
  {
   "cell_type": "markdown",
   "metadata": {},
   "source": [
    "### Цель проекта: \n",
    "определить наиболее выгодный тариф для компании.    \n",
    "\n"
   ]
  },
  {
   "cell_type": "markdown",
   "metadata": {},
   "source": [
    "### Описание тарифов  \n",
    "\n",
    "Тариф «Смарт»  \n",
    "Ежемесячная плата: 550 рублей  \n",
    "Включено 500 минут разговора, 50 сообщений и 15 Гб интернет-трафика  \n",
    "Стоимость услуг сверх тарифного пакета:  \n",
    "минута разговора: 3 рубля  \n",
    "сообщение: 3 рубля  \n",
    "1 Гб интернет-трафика: 200 рублей  \n",
    "  \n",
    "Тариф «Ультра»  \n",
    "Ежемесячная плата: 1950 рублей  \n",
    "Включено 3000 минут разговора, 1000 сообщений и 30 Гб интернет-трафика  \n",
    "Стоимость услуг сверх тарифного пакета:  \n",
    "минута разговора: 1 рубль  \n",
    "сообщение: 1 рубль  \n",
    "1 Гб интернет-трафика: 150 рублей  "
   ]
  },
  {
   "cell_type": "markdown",
   "metadata": {},
   "source": [
    "### Описание данных.\n",
    "\n",
    "Таблица users (информация о пользователях):  \n",
    "user_id — уникальный идентификатор пользователя  \n",
    "first_name — имя пользователя  \n",
    "last_name — фамилия пользователя  \n",
    "age — возраст пользователя (годы)  \n",
    "reg_date — дата подключения тарифа (день, месяц, год)  \n",
    "churn_date — дата прекращения пользования тарифом (если значение пропущено, то тариф ещё действовал на момент выгрузки данных)  \n",
    "city — город проживания пользователя  \n",
    "tariff — название тарифного плана  \n",
    "  \n",
    "Таблица calls (информация о звонках):  \n",
    "id — уникальный номер звонка  \n",
    "call_date — дата звонка  \n",
    "duration — длительность звонка в минутах  \n",
    "user_id — идентификатор пользователя, сделавшего звонок  \n",
    "  \n",
    "Таблица messages (информация о сообщениях):  \n",
    "id — уникальный номер сообщения  \n",
    "message_date — дата сообщения  \n",
    "user_id — идентификатор пользователя, отправившего сообщение\n",
    "\n",
    "Таблица internet (информация об интернет-сессиях):  \n",
    "id — уникальный номер сессии    \n",
    "mb_used — объём потраченного за сессию интернет-трафика (в мегабайтах)  \n",
    "session_date — дата интернет-сессии  \n",
    "user_id — идентификатор пользователя  \n",
    "  \n",
    "Таблица tariffs (информация о тарифах):  \n",
    "tariff_name — название тарифа  \n",
    "rub_monthly_fee — ежемесячная абонентская плата в рублях  \n",
    "minutes_included — количество минут разговора в месяц, включённых в абонентскую плату  \n",
    "messages_included — количество сообщений в месяц, включённых в абонентскую плату  \n",
    "mb_per_month_included — объём интернет-трафика, включённого в абонентскую плату (в мегабайтах)  \n",
    "rub_per_minute — стоимость минуты разговора сверх тарифного пакета (например, если в тарифе 100 минут разговора в месяц, то со 101 минуты будет взиматься плата)  \n",
    "rub_per_message — стоимость отправки сообщения сверх тарифного пакета  \n",
    "rub_per_gb — стоимость дополнительного гигабайта интернет-трафика сверх тарифного пакета (1 гигабайт = 1024 мегабайта)  "
   ]
  },
  {
   "cell_type": "markdown",
   "metadata": {},
   "source": [
    "### План работы:\n",
    "1. Изучие общей информации  \n",
    "2. Подготовка данных к анализу\n",
    "3. Анализ данных\n",
    "4. Проверка гипотез\n",
    "5. Общий вывод"
   ]
  },
  {
   "cell_type": "markdown",
   "metadata": {},
   "source": [
    "## Изучение общей информации"
   ]
  },
  {
   "cell_type": "markdown",
   "metadata": {},
   "source": [
    "### Импорт библиотек"
   ]
  },
  {
   "cell_type": "code",
   "execution_count": 1,
   "metadata": {},
   "outputs": [],
   "source": [
    "import pandas as pd\n",
    "import numpy as np\n",
    "import datetime as dt\n",
    "from scipy import stats as st\n",
    "from matplotlib import pyplot as plt\n",
    "import seaborn as sns"
   ]
  },
  {
   "cell_type": "markdown",
   "metadata": {},
   "source": [
    "### Импорт датасетов"
   ]
  },
  {
   "cell_type": "code",
   "execution_count": 2,
   "metadata": {},
   "outputs": [],
   "source": [
    "calls = pd.read_csv('/home/daniil/Documents/datasets/telecom_ds/calls.csv')\n",
    "internet= pd.read_csv('/home/daniil/Documents/datasets/telecom_ds/internet.csv')\n",
    "messages= pd.read_csv('/home/daniil/Documents/datasets/telecom_ds/messages.csv')\n",
    "tariffs= pd.read_csv('/home/daniil/Documents/datasets/telecom_ds/tariffs.csv')\n",
    "users= pd.read_csv('/home/daniil/Documents/datasets/telecom_ds/users.csv')"
   ]
  },
  {
   "cell_type": "code",
   "execution_count": 3,
   "metadata": {},
   "outputs": [
    {
     "data": {
      "text/plain": [
       "'Тарифы'"
      ]
     },
     "metadata": {},
     "output_type": "display_data"
    },
    {
     "data": {
      "text/html": [
       "<div>\n",
       "<style scoped>\n",
       "    .dataframe tbody tr th:only-of-type {\n",
       "        vertical-align: middle;\n",
       "    }\n",
       "\n",
       "    .dataframe tbody tr th {\n",
       "        vertical-align: top;\n",
       "    }\n",
       "\n",
       "    .dataframe thead th {\n",
       "        text-align: right;\n",
       "    }\n",
       "</style>\n",
       "<table border=\"1\" class=\"dataframe\">\n",
       "  <thead>\n",
       "    <tr style=\"text-align: right;\">\n",
       "      <th></th>\n",
       "      <th>messages_included</th>\n",
       "      <th>mb_per_month_included</th>\n",
       "      <th>minutes_included</th>\n",
       "      <th>rub_monthly_fee</th>\n",
       "      <th>rub_per_gb</th>\n",
       "      <th>rub_per_message</th>\n",
       "      <th>rub_per_minute</th>\n",
       "      <th>tariff_name</th>\n",
       "    </tr>\n",
       "  </thead>\n",
       "  <tbody>\n",
       "    <tr>\n",
       "      <th>0</th>\n",
       "      <td>50</td>\n",
       "      <td>15360</td>\n",
       "      <td>500</td>\n",
       "      <td>550</td>\n",
       "      <td>200</td>\n",
       "      <td>3</td>\n",
       "      <td>3</td>\n",
       "      <td>smart</td>\n",
       "    </tr>\n",
       "    <tr>\n",
       "      <th>1</th>\n",
       "      <td>1000</td>\n",
       "      <td>30720</td>\n",
       "      <td>3000</td>\n",
       "      <td>1950</td>\n",
       "      <td>150</td>\n",
       "      <td>1</td>\n",
       "      <td>1</td>\n",
       "      <td>ultra</td>\n",
       "    </tr>\n",
       "  </tbody>\n",
       "</table>\n",
       "</div>"
      ],
      "text/plain": [
       "   messages_included  mb_per_month_included  minutes_included  \\\n",
       "0                 50                  15360               500   \n",
       "1               1000                  30720              3000   \n",
       "\n",
       "   rub_monthly_fee  rub_per_gb  rub_per_message  rub_per_minute tariff_name  \n",
       "0              550         200                3               3       smart  \n",
       "1             1950         150                1               1       ultra  "
      ]
     },
     "metadata": {},
     "output_type": "display_data"
    },
    {
     "data": {
      "text/plain": [
       "'Пользователи'"
      ]
     },
     "metadata": {},
     "output_type": "display_data"
    },
    {
     "data": {
      "text/html": [
       "<div>\n",
       "<style scoped>\n",
       "    .dataframe tbody tr th:only-of-type {\n",
       "        vertical-align: middle;\n",
       "    }\n",
       "\n",
       "    .dataframe tbody tr th {\n",
       "        vertical-align: top;\n",
       "    }\n",
       "\n",
       "    .dataframe thead th {\n",
       "        text-align: right;\n",
       "    }\n",
       "</style>\n",
       "<table border=\"1\" class=\"dataframe\">\n",
       "  <thead>\n",
       "    <tr style=\"text-align: right;\">\n",
       "      <th></th>\n",
       "      <th>user_id</th>\n",
       "      <th>age</th>\n",
       "      <th>churn_date</th>\n",
       "      <th>city</th>\n",
       "      <th>first_name</th>\n",
       "      <th>last_name</th>\n",
       "      <th>reg_date</th>\n",
       "      <th>tariff</th>\n",
       "    </tr>\n",
       "  </thead>\n",
       "  <tbody>\n",
       "    <tr>\n",
       "      <th>0</th>\n",
       "      <td>1000</td>\n",
       "      <td>52</td>\n",
       "      <td>NaN</td>\n",
       "      <td>Краснодар</td>\n",
       "      <td>Рафаил</td>\n",
       "      <td>Верещагин</td>\n",
       "      <td>2018-05-25</td>\n",
       "      <td>ultra</td>\n",
       "    </tr>\n",
       "    <tr>\n",
       "      <th>1</th>\n",
       "      <td>1001</td>\n",
       "      <td>41</td>\n",
       "      <td>NaN</td>\n",
       "      <td>Москва</td>\n",
       "      <td>Иван</td>\n",
       "      <td>Ежов</td>\n",
       "      <td>2018-11-01</td>\n",
       "      <td>smart</td>\n",
       "    </tr>\n",
       "    <tr>\n",
       "      <th>2</th>\n",
       "      <td>1002</td>\n",
       "      <td>59</td>\n",
       "      <td>NaN</td>\n",
       "      <td>Стерлитамак</td>\n",
       "      <td>Евгений</td>\n",
       "      <td>Абрамович</td>\n",
       "      <td>2018-06-17</td>\n",
       "      <td>smart</td>\n",
       "    </tr>\n",
       "  </tbody>\n",
       "</table>\n",
       "</div>"
      ],
      "text/plain": [
       "   user_id  age churn_date         city first_name  last_name    reg_date  \\\n",
       "0     1000   52        NaN    Краснодар     Рафаил  Верещагин  2018-05-25   \n",
       "1     1001   41        NaN       Москва       Иван       Ежов  2018-11-01   \n",
       "2     1002   59        NaN  Стерлитамак    Евгений  Абрамович  2018-06-17   \n",
       "\n",
       "  tariff  \n",
       "0  ultra  \n",
       "1  smart  \n",
       "2  smart  "
      ]
     },
     "metadata": {},
     "output_type": "display_data"
    }
   ],
   "source": [
    "display('Тарифы',tariffs.head(3),\n",
    "        'Пользователи',users.head(3))"
   ]
  },
  {
   "cell_type": "code",
   "execution_count": 4,
   "metadata": {},
   "outputs": [
    {
     "name": "stdout",
     "output_type": "stream",
     "text": [
      "<class 'pandas.core.frame.DataFrame'>\n",
      "RangeIndex: 202607 entries, 0 to 202606\n",
      "Data columns (total 4 columns):\n",
      " #   Column     Non-Null Count   Dtype  \n",
      "---  ------     --------------   -----  \n",
      " 0   id         202607 non-null  object \n",
      " 1   call_date  202607 non-null  object \n",
      " 2   duration   202607 non-null  float64\n",
      " 3   user_id    202607 non-null  int64  \n",
      "dtypes: float64(1), int64(1), object(2)\n",
      "memory usage: 6.2+ MB\n"
     ]
    },
    {
     "data": {
      "text/plain": [
       "None"
      ]
     },
     "metadata": {},
     "output_type": "display_data"
    },
    {
     "data": {
      "image/png": "[encoded data removed]",
      "text/plain": [
       "<Figure size 432x288 with 1 Axes>"
      ]
     },
     "metadata": {
      "needs_background": "light"
     },
     "output_type": "display_data"
    },
    {
     "data": {
      "text/plain": [
       "'Доля звонков продолжительностью 0 секунд:24.3%'"
      ]
     },
     "metadata": {},
     "output_type": "display_data"
    }
   ],
   "source": [
    "#display('Звонки', calls.head(3))\n",
    "display(calls.info())\n",
    "\n",
    "plt.title('Абс. количество всех звонков и звонков длительностью 0 секунд')\n",
    "sns.histplot(data=calls.loc[calls['duration']>0],x='user_id',color='blue',alpha=.5, label='Все звонки')\n",
    "sns.histplot(data=calls.loc[calls['duration']==0],x='user_id', color='red',alpha=.5, label='Звонки по 0 сек')\n",
    "plt.legend()\n",
    "plt.show()\n",
    "\n",
    "display(f'Доля звонков продолжительностью 0 секунд:{round(calls.loc[calls[\"duration\"]==0,\"id\"].count()*100/calls.loc[calls[\"duration\"]>0,\"id\"].count(),2)}%')"
   ]
  },
  {
   "cell_type": "code",
   "execution_count": 5,
   "metadata": {},
   "outputs": [
    {
     "name": "stdout",
     "output_type": "stream",
     "text": [
      "<class 'pandas.core.frame.DataFrame'>\n",
      "RangeIndex: 123036 entries, 0 to 123035\n",
      "Data columns (total 3 columns):\n",
      " #   Column        Non-Null Count   Dtype \n",
      "---  ------        --------------   ----- \n",
      " 0   id            123036 non-null  object\n",
      " 1   message_date  123036 non-null  object\n",
      " 2   user_id       123036 non-null  int64 \n",
      "dtypes: int64(1), object(2)\n",
      "memory usage: 2.8+ MB\n"
     ]
    },
    {
     "data": {
      "text/plain": [
       "None"
      ]
     },
     "metadata": {},
     "output_type": "display_data"
    }
   ],
   "source": [
    "#display('СМС',messages.head(3))\n",
    "display(messages.info())\n",
    "\n",
    "#sns.histplot(data = messages, x='user_id')"
   ]
  },
  {
   "cell_type": "code",
   "execution_count": 6,
   "metadata": {},
   "outputs": [
    {
     "name": "stdout",
     "output_type": "stream",
     "text": [
      "<class 'pandas.core.frame.DataFrame'>\n",
      "RangeIndex: 149396 entries, 0 to 149395\n",
      "Data columns (total 5 columns):\n",
      " #   Column        Non-Null Count   Dtype  \n",
      "---  ------        --------------   -----  \n",
      " 0   Unnamed: 0    149396 non-null  int64  \n",
      " 1   id            149396 non-null  object \n",
      " 2   mb_used       149396 non-null  float64\n",
      " 3   session_date  149396 non-null  object \n",
      " 4   user_id       149396 non-null  int64  \n",
      "dtypes: float64(1), int64(2), object(2)\n",
      "memory usage: 5.7+ MB\n"
     ]
    },
    {
     "data": {
      "text/plain": [
       "None"
      ]
     },
     "metadata": {},
     "output_type": "display_data"
    },
    {
     "data": {
      "image/png": "[encoded data removed]",
      "text/plain": [
       "<Figure size 432x288 with 1 Axes>"
      ]
     },
     "metadata": {
      "needs_background": "light"
     },
     "output_type": "display_data"
    },
    {
     "data": {
      "text/plain": [
       "'Доля сессий с трафиком в 0 Mb:15.1%'"
      ]
     },
     "metadata": {},
     "output_type": "display_data"
    }
   ],
   "source": [
    "#display('Интернет',internet.head(3))\n",
    "display(internet.info())\n",
    "\n",
    "#display(internet.loc[internet['mb_used']==0])\n",
    "plt.title('Абс. количество всех сессий и сессий с трафиком в 0 Mb')\n",
    "sns.histplot(data=internet.loc[internet['mb_used']>0],x='user_id',color='blue',alpha=.5, label='Все сессии')\n",
    "sns.histplot(data=internet.loc[internet['mb_used']==0],x='user_id', color='red',alpha=.5, label='Сессии по 0 Mb')\n",
    "plt.legend()\n",
    "plt.show()\n",
    "\n",
    "display(f'Доля сессий с трафиком в 0 Mb:{round(internet.loc[internet[\"mb_used\"]==0,\"id\"].count()*100/internet.loc[internet[\"mb_used\"]>0,\"id\"].count(),2)}%')"
   ]
  },
  {
   "cell_type": "markdown",
   "metadata": {},
   "source": [
    "### Вывод о предоставленных для анализа данных  \n",
    "\n",
    "Для анализа предоставлены 5 датасетов : Тарифы, Пользователи, Звонки, Сообщения и Интернет.  \n",
    "Информация таблиц Тарифы и Пользователи соответствует аннотации предоставленных данных.  \n",
    "По данным таблицы Звонки - за весь период наблюдений совершено 202607 звонка, однако 24,3% из них по тем или иным причинам не состоялись и их длительность равна 0 секунд.  \n",
    "По данным таблицы Сообщения - за весь период наблюдений отправлено 123036 сообщений.  \n",
    "По данным таблицы Интернет - за весь период наблюдений состоялось 149396 сессий, однако 15.1% из них по тем или иным причинам не состоялись и их длительность равна 0 Mb.  \n"
   ]
  },
  {
   "cell_type": "markdown",
   "metadata": {},
   "source": [
    "## Подготовка данных к анализу"
   ]
  },
  {
   "cell_type": "markdown",
   "metadata": {},
   "source": [
    "### Преобразование формата даты и времени,проврка на наличие дубликатов"
   ]
  },
  {
   "cell_type": "code",
   "execution_count": 7,
   "metadata": {},
   "outputs": [
    {
     "data": {
      "text/plain": [
       "'Дубликаты'"
      ]
     },
     "metadata": {},
     "output_type": "display_data"
    },
    {
     "data": {
      "text/plain": [
       "'calls : 0'"
      ]
     },
     "metadata": {},
     "output_type": "display_data"
    },
    {
     "data": {
      "text/plain": [
       "'internet : 0'"
      ]
     },
     "metadata": {},
     "output_type": "display_data"
    },
    {
     "data": {
      "text/plain": [
       "'messages : 0'"
      ]
     },
     "metadata": {},
     "output_type": "display_data"
    },
    {
     "data": {
      "text/plain": [
       "'tariffs : 0'"
      ]
     },
     "metadata": {},
     "output_type": "display_data"
    },
    {
     "data": {
      "text/plain": [
       "'users : 0'"
      ]
     },
     "metadata": {},
     "output_type": "display_data"
    }
   ],
   "source": [
    "calls['call_date'] = pd.to_datetime(calls['call_date'])\n",
    "internet['session_date'] = pd.to_datetime(internet['session_date'])\n",
    "messages['message_date'] = pd.to_datetime(messages['message_date'])\n",
    "users['reg_date'] = pd.to_datetime(users['reg_date'])\n",
    "\n",
    "display('Дубликаты',\n",
    "    f'calls : {calls.duplicated().sum()}',\n",
    "    f'internet : {internet.duplicated().sum()}',\n",
    "    f'messages : {messages.duplicated().sum()}',\n",
    "    f'tariffs : {tariffs.duplicated().sum()}',\n",
    "    f'users : {users.duplicated().sum()}')"
   ]
  },
  {
   "cell_type": "markdown",
   "metadata": {},
   "source": [
    "### Подготовка информации о количестве и длительности звонков"
   ]
  },
  {
   "cell_type": "code",
   "execution_count": 8,
   "metadata": {
    "scrolled": true
   },
   "outputs": [
    {
     "data": {
      "text/html": [
       "<div>\n",
       "<style scoped>\n",
       "    .dataframe tbody tr th:only-of-type {\n",
       "        vertical-align: middle;\n",
       "    }\n",
       "\n",
       "    .dataframe tbody tr th {\n",
       "        vertical-align: top;\n",
       "    }\n",
       "\n",
       "    .dataframe thead th {\n",
       "        text-align: right;\n",
       "    }\n",
       "</style>\n",
       "<table border=\"1\" class=\"dataframe\">\n",
       "  <thead>\n",
       "    <tr style=\"text-align: right;\">\n",
       "      <th></th>\n",
       "      <th>user_id</th>\n",
       "      <th>month</th>\n",
       "      <th>count_calls</th>\n",
       "      <th>duration_sum</th>\n",
       "    </tr>\n",
       "  </thead>\n",
       "  <tbody>\n",
       "    <tr>\n",
       "      <th>3171</th>\n",
       "      <td>1499</td>\n",
       "      <td>10</td>\n",
       "      <td>68</td>\n",
       "      <td>449.0</td>\n",
       "    </tr>\n",
       "    <tr>\n",
       "      <th>3172</th>\n",
       "      <td>1499</td>\n",
       "      <td>11</td>\n",
       "      <td>74</td>\n",
       "      <td>612.0</td>\n",
       "    </tr>\n",
       "    <tr>\n",
       "      <th>3173</th>\n",
       "      <td>1499</td>\n",
       "      <td>12</td>\n",
       "      <td>69</td>\n",
       "      <td>492.0</td>\n",
       "    </tr>\n",
       "  </tbody>\n",
       "</table>\n",
       "</div>"
      ],
      "text/plain": [
       "      user_id  month  count_calls  duration_sum\n",
       "3171     1499     10           68         449.0\n",
       "3172     1499     11           74         612.0\n",
       "3173     1499     12           69         492.0"
      ]
     },
     "metadata": {},
     "output_type": "display_data"
    }
   ],
   "source": [
    "calls['month'] = calls['call_date'].dt.month # создаем отдельную графу с месфцем события\n",
    "\n",
    "calls['duration_ceil'] = np.ceil(calls['duration']) \n",
    "#окгругляем длительность звонка до минуты, но сохраняем исходную колонку на всякий случай\n",
    "\n",
    "new = calls.groupby(['user_id','month']).agg({'id':'count', 'duration_ceil':'sum'}).reset_index().rename(\n",
    "    columns={'user_id':'user_id','month':'month','id':'count_calls','duration_ceil':'duration_sum'})\n",
    "display(new.tail(3))"
   ]
  },
  {
   "cell_type": "markdown",
   "metadata": {},
   "source": [
    "### Объединение информации о звонках, сообщениях и трафике"
   ]
  },
  {
   "cell_type": "code",
   "execution_count": 9,
   "metadata": {
    "scrolled": true
   },
   "outputs": [
    {
     "data": {
      "text/html": [
       "<div>\n",
       "<style scoped>\n",
       "    .dataframe tbody tr th:only-of-type {\n",
       "        vertical-align: middle;\n",
       "    }\n",
       "\n",
       "    .dataframe tbody tr th {\n",
       "        vertical-align: top;\n",
       "    }\n",
       "\n",
       "    .dataframe thead th {\n",
       "        text-align: right;\n",
       "    }\n",
       "</style>\n",
       "<table border=\"1\" class=\"dataframe\">\n",
       "  <thead>\n",
       "    <tr style=\"text-align: right;\">\n",
       "      <th></th>\n",
       "      <th>user_id</th>\n",
       "      <th>month</th>\n",
       "      <th>count_calls</th>\n",
       "      <th>duration_sum</th>\n",
       "      <th>count_sms</th>\n",
       "      <th>mb_used</th>\n",
       "      <th>gb_used</th>\n",
       "      <th>tariff</th>\n",
       "      <th>city</th>\n",
       "    </tr>\n",
       "  </thead>\n",
       "  <tbody>\n",
       "    <tr>\n",
       "      <th>0</th>\n",
       "      <td>1000</td>\n",
       "      <td>5</td>\n",
       "      <td>22.0</td>\n",
       "      <td>159.0</td>\n",
       "      <td>22.0</td>\n",
       "      <td>2253.49</td>\n",
       "      <td>2.200674</td>\n",
       "      <td>ultra</td>\n",
       "      <td>Краснодар</td>\n",
       "    </tr>\n",
       "    <tr>\n",
       "      <th>1</th>\n",
       "      <td>1000</td>\n",
       "      <td>6</td>\n",
       "      <td>43.0</td>\n",
       "      <td>172.0</td>\n",
       "      <td>60.0</td>\n",
       "      <td>23233.77</td>\n",
       "      <td>22.689229</td>\n",
       "      <td>ultra</td>\n",
       "      <td>Краснодар</td>\n",
       "    </tr>\n",
       "    <tr>\n",
       "      <th>2</th>\n",
       "      <td>1000</td>\n",
       "      <td>7</td>\n",
       "      <td>47.0</td>\n",
       "      <td>340.0</td>\n",
       "      <td>75.0</td>\n",
       "      <td>14003.64</td>\n",
       "      <td>13.675430</td>\n",
       "      <td>ultra</td>\n",
       "      <td>Краснодар</td>\n",
       "    </tr>\n",
       "  </tbody>\n",
       "</table>\n",
       "</div>"
      ],
      "text/plain": [
       "   user_id  month  count_calls  duration_sum  count_sms   mb_used    gb_used  \\\n",
       "0     1000      5         22.0         159.0       22.0   2253.49   2.200674   \n",
       "1     1000      6         43.0         172.0       60.0  23233.77  22.689229   \n",
       "2     1000      7         47.0         340.0       75.0  14003.64  13.675430   \n",
       "\n",
       "  tariff       city  \n",
       "0  ultra  Краснодар  \n",
       "1  ultra  Краснодар  \n",
       "2  ultra  Краснодар  "
      ]
     },
     "metadata": {},
     "output_type": "display_data"
    }
   ],
   "source": [
    "# звонки + сообщения\n",
    "messages['month'] = messages['message_date'].dt.month\n",
    "message_groups = messages.groupby(['user_id','month'])['id'].count().reset_index().rename(columns={'id':'count_sms'})\n",
    "#display(message_groups)\n",
    "combine = pd.merge(new,message_groups[['user_id','month','count_sms']], how='outer', on=['user_id','month'])\n",
    "\n",
    "# звонки, сообщения + интернет\n",
    "internet['month'] = internet['session_date'].dt.month\n",
    "new_internet = internet.groupby(['user_id','month']).sum('mb_used').reset_index()\n",
    "new_internet['gb_used'] = new_internet['mb_used']/1024\n",
    "combine = pd.merge(combine,new_internet[['user_id','month','mb_used','gb_used']], \n",
    "                   how='outer', on=['user_id','month'])\n",
    "\n",
    "# добавляем к общей таблице информацию о городе пользователя и тарифе\n",
    "combine = pd.merge(combine,users[['user_id','tariff','city']],how='left',on='user_id')\n",
    "\n",
    "display(combine.head(3))"
   ]
  },
  {
   "cell_type": "markdown",
   "metadata": {},
   "source": [
    "### Расчет доходов от абонентской платы и услуг сверх тарифов\n"
   ]
  },
  {
   "cell_type": "code",
   "execution_count": 10,
   "metadata": {},
   "outputs": [
    {
     "data": {
      "text/html": [
       "<div>\n",
       "<style scoped>\n",
       "    .dataframe tbody tr th:only-of-type {\n",
       "        vertical-align: middle;\n",
       "    }\n",
       "\n",
       "    .dataframe tbody tr th {\n",
       "        vertical-align: top;\n",
       "    }\n",
       "\n",
       "    .dataframe thead th {\n",
       "        text-align: right;\n",
       "    }\n",
       "</style>\n",
       "<table border=\"1\" class=\"dataframe\">\n",
       "  <thead>\n",
       "    <tr style=\"text-align: right;\">\n",
       "      <th></th>\n",
       "      <th>user_id</th>\n",
       "      <th>month</th>\n",
       "      <th>count_calls</th>\n",
       "      <th>duration_sum</th>\n",
       "      <th>count_sms</th>\n",
       "      <th>mb_used</th>\n",
       "      <th>gb_used</th>\n",
       "      <th>tariff_name</th>\n",
       "      <th>city</th>\n",
       "      <th>messages_included</th>\n",
       "      <th>mb_per_month_included</th>\n",
       "      <th>minutes_included</th>\n",
       "      <th>rub_monthly_fee</th>\n",
       "      <th>rub_per_gb</th>\n",
       "      <th>rub_per_message</th>\n",
       "      <th>rub_per_minute</th>\n",
       "    </tr>\n",
       "  </thead>\n",
       "  <tbody>\n",
       "    <tr>\n",
       "      <th>0</th>\n",
       "      <td>1000</td>\n",
       "      <td>5</td>\n",
       "      <td>22.0</td>\n",
       "      <td>159.0</td>\n",
       "      <td>22.0</td>\n",
       "      <td>2253.49</td>\n",
       "      <td>2.200674</td>\n",
       "      <td>ultra</td>\n",
       "      <td>Краснодар</td>\n",
       "      <td>1000</td>\n",
       "      <td>30720</td>\n",
       "      <td>3000</td>\n",
       "      <td>1950</td>\n",
       "      <td>150</td>\n",
       "      <td>1</td>\n",
       "      <td>1</td>\n",
       "    </tr>\n",
       "    <tr>\n",
       "      <th>1</th>\n",
       "      <td>1000</td>\n",
       "      <td>6</td>\n",
       "      <td>43.0</td>\n",
       "      <td>172.0</td>\n",
       "      <td>60.0</td>\n",
       "      <td>23233.77</td>\n",
       "      <td>22.689229</td>\n",
       "      <td>ultra</td>\n",
       "      <td>Краснодар</td>\n",
       "      <td>1000</td>\n",
       "      <td>30720</td>\n",
       "      <td>3000</td>\n",
       "      <td>1950</td>\n",
       "      <td>150</td>\n",
       "      <td>1</td>\n",
       "      <td>1</td>\n",
       "    </tr>\n",
       "    <tr>\n",
       "      <th>2</th>\n",
       "      <td>1000</td>\n",
       "      <td>7</td>\n",
       "      <td>47.0</td>\n",
       "      <td>340.0</td>\n",
       "      <td>75.0</td>\n",
       "      <td>14003.64</td>\n",
       "      <td>13.675430</td>\n",
       "      <td>ultra</td>\n",
       "      <td>Краснодар</td>\n",
       "      <td>1000</td>\n",
       "      <td>30720</td>\n",
       "      <td>3000</td>\n",
       "      <td>1950</td>\n",
       "      <td>150</td>\n",
       "      <td>1</td>\n",
       "      <td>1</td>\n",
       "    </tr>\n",
       "  </tbody>\n",
       "</table>\n",
       "</div>"
      ],
      "text/plain": [
       "   user_id  month  count_calls  duration_sum  count_sms   mb_used    gb_used  \\\n",
       "0     1000      5         22.0         159.0       22.0   2253.49   2.200674   \n",
       "1     1000      6         43.0         172.0       60.0  23233.77  22.689229   \n",
       "2     1000      7         47.0         340.0       75.0  14003.64  13.675430   \n",
       "\n",
       "  tariff_name       city  messages_included  mb_per_month_included  \\\n",
       "0       ultra  Краснодар               1000                  30720   \n",
       "1       ultra  Краснодар               1000                  30720   \n",
       "2       ultra  Краснодар               1000                  30720   \n",
       "\n",
       "   minutes_included  rub_monthly_fee  rub_per_gb  rub_per_message  \\\n",
       "0              3000             1950         150                1   \n",
       "1              3000             1950         150                1   \n",
       "2              3000             1950         150                1   \n",
       "\n",
       "   rub_per_minute  \n",
       "0               1  \n",
       "1               1  \n",
       "2               1  "
      ]
     },
     "metadata": {},
     "output_type": "display_data"
    }
   ],
   "source": [
    "# Добавляем к общей таблице информацию о стоимости услуг\n",
    "combine = combine.rename(columns={'tariff':'tariff_name'})\n",
    "combine = pd.merge(combine,tariffs, on='tariff_name', how='outer')\n",
    "\n",
    "display(combine.head(3))"
   ]
  },
  {
   "cell_type": "code",
   "execution_count": 11,
   "metadata": {},
   "outputs": [
    {
     "data": {
      "text/html": [
       "<div>\n",
       "<style scoped>\n",
       "    .dataframe tbody tr th:only-of-type {\n",
       "        vertical-align: middle;\n",
       "    }\n",
       "\n",
       "    .dataframe tbody tr th {\n",
       "        vertical-align: top;\n",
       "    }\n",
       "\n",
       "    .dataframe thead th {\n",
       "        text-align: right;\n",
       "    }\n",
       "</style>\n",
       "<table border=\"1\" class=\"dataframe\">\n",
       "  <thead>\n",
       "    <tr style=\"text-align: right;\">\n",
       "      <th></th>\n",
       "      <th>user_id</th>\n",
       "      <th>month</th>\n",
       "      <th>count_calls</th>\n",
       "      <th>duration_sum</th>\n",
       "      <th>count_sms</th>\n",
       "      <th>mb_used</th>\n",
       "      <th>gb_used</th>\n",
       "      <th>tariff_name</th>\n",
       "      <th>city</th>\n",
       "      <th>messages_included</th>\n",
       "      <th>mb_per_month_included</th>\n",
       "      <th>minutes_included</th>\n",
       "      <th>rub_monthly_fee</th>\n",
       "      <th>rub_per_gb</th>\n",
       "      <th>rub_per_message</th>\n",
       "      <th>rub_per_minute</th>\n",
       "      <th>over_calls</th>\n",
       "      <th>over_sms</th>\n",
       "      <th>over_mb</th>\n",
       "    </tr>\n",
       "  </thead>\n",
       "  <tbody>\n",
       "    <tr>\n",
       "      <th>3211</th>\n",
       "      <td>1489</td>\n",
       "      <td>10</td>\n",
       "      <td>NaN</td>\n",
       "      <td>NaN</td>\n",
       "      <td>21.0</td>\n",
       "      <td>19559.44</td>\n",
       "      <td>19.101016</td>\n",
       "      <td>smart</td>\n",
       "      <td>Санкт-Петербург</td>\n",
       "      <td>50</td>\n",
       "      <td>15360</td>\n",
       "      <td>500</td>\n",
       "      <td>550</td>\n",
       "      <td>200</td>\n",
       "      <td>3</td>\n",
       "      <td>3</td>\n",
       "      <td>0.0</td>\n",
       "      <td>0.0</td>\n",
       "      <td>1000.0</td>\n",
       "    </tr>\n",
       "    <tr>\n",
       "      <th>3212</th>\n",
       "      <td>1489</td>\n",
       "      <td>11</td>\n",
       "      <td>NaN</td>\n",
       "      <td>NaN</td>\n",
       "      <td>20.0</td>\n",
       "      <td>17491.56</td>\n",
       "      <td>17.081602</td>\n",
       "      <td>smart</td>\n",
       "      <td>Санкт-Петербург</td>\n",
       "      <td>50</td>\n",
       "      <td>15360</td>\n",
       "      <td>500</td>\n",
       "      <td>550</td>\n",
       "      <td>200</td>\n",
       "      <td>3</td>\n",
       "      <td>3</td>\n",
       "      <td>0.0</td>\n",
       "      <td>0.0</td>\n",
       "      <td>600.0</td>\n",
       "    </tr>\n",
       "    <tr>\n",
       "      <th>3213</th>\n",
       "      <td>1489</td>\n",
       "      <td>12</td>\n",
       "      <td>NaN</td>\n",
       "      <td>NaN</td>\n",
       "      <td>35.0</td>\n",
       "      <td>17322.51</td>\n",
       "      <td>16.916514</td>\n",
       "      <td>smart</td>\n",
       "      <td>Санкт-Петербург</td>\n",
       "      <td>50</td>\n",
       "      <td>15360</td>\n",
       "      <td>500</td>\n",
       "      <td>550</td>\n",
       "      <td>200</td>\n",
       "      <td>3</td>\n",
       "      <td>3</td>\n",
       "      <td>0.0</td>\n",
       "      <td>0.0</td>\n",
       "      <td>400.0</td>\n",
       "    </tr>\n",
       "  </tbody>\n",
       "</table>\n",
       "</div>"
      ],
      "text/plain": [
       "      user_id  month  count_calls  duration_sum  count_sms   mb_used  \\\n",
       "3211     1489     10          NaN           NaN       21.0  19559.44   \n",
       "3212     1489     11          NaN           NaN       20.0  17491.56   \n",
       "3213     1489     12          NaN           NaN       35.0  17322.51   \n",
       "\n",
       "        gb_used tariff_name             city  messages_included  \\\n",
       "3211  19.101016       smart  Санкт-Петербург                 50   \n",
       "3212  17.081602       smart  Санкт-Петербург                 50   \n",
       "3213  16.916514       smart  Санкт-Петербург                 50   \n",
       "\n",
       "      mb_per_month_included  minutes_included  rub_monthly_fee  rub_per_gb  \\\n",
       "3211                  15360               500              550         200   \n",
       "3212                  15360               500              550         200   \n",
       "3213                  15360               500              550         200   \n",
       "\n",
       "      rub_per_message  rub_per_minute  over_calls  over_sms  over_mb  \n",
       "3211                3               3         0.0       0.0   1000.0  \n",
       "3212                3               3         0.0       0.0    600.0  \n",
       "3213                3               3         0.0       0.0    400.0  "
      ]
     },
     "metadata": {},
     "output_type": "display_data"
    }
   ],
   "source": [
    "# Расчет дохода от предоставленных услуг и объединение полученных результатов с общей таблицей\n",
    "\n",
    "combine['over_calls']=combine['duration_sum'] - combine['minutes_included'] # расчет дохода от добавочных минут\n",
    "combine['over_calls']=combine['over_calls'].apply(lambda x: 0 if x < 0 else x)\n",
    "combine['over_calls']=combine['over_calls']*combine['rub_per_minute']\n",
    "\n",
    "combine['over_sms']=combine['count_sms'] - combine['messages_included'] # расчет дохода от добавочных смс\n",
    "combine['over_sms']=combine['over_sms'].apply(lambda x: 0 if x < 0 else x)\n",
    "combine['over_sms']=combine['over_sms']*combine['rub_per_message']\n",
    "\n",
    "combine['over_mb']=combine['mb_used'] - combine['mb_per_month_included'] # расчет дохода от добавочных Gb\n",
    "combine['over_mb']=combine['over_mb'].apply(lambda x: 0 if x < 0 else x)\n",
    "combine['over_mb'] = np.ceil(combine['over_mb'] / 1024)\n",
    "combine['over_mb']=combine['over_mb']*combine['rub_per_gb']\n",
    "\n",
    "combine = combine.replace(to_replace={ # замена пропущенных значений (т.е. невостребованных услуг на \"0\")\n",
    "             'over_calls':{np.nan:0}, \n",
    "             'over_sms':{np.nan:0},\n",
    "             'over_mb':{np.nan:0},\n",
    "                              })\n",
    "\n",
    "display(combine.tail(3))"
   ]
  },
  {
   "cell_type": "code",
   "execution_count": 12,
   "metadata": {
    "scrolled": true
   },
   "outputs": [
    {
     "data": {
      "text/html": [
       "<div>\n",
       "<style scoped>\n",
       "    .dataframe tbody tr th:only-of-type {\n",
       "        vertical-align: middle;\n",
       "    }\n",
       "\n",
       "    .dataframe tbody tr th {\n",
       "        vertical-align: top;\n",
       "    }\n",
       "\n",
       "    .dataframe thead th {\n",
       "        text-align: right;\n",
       "    }\n",
       "</style>\n",
       "<table border=\"1\" class=\"dataframe\">\n",
       "  <thead>\n",
       "    <tr style=\"text-align: right;\">\n",
       "      <th></th>\n",
       "      <th>user_id</th>\n",
       "      <th>month</th>\n",
       "      <th>count_calls</th>\n",
       "      <th>duration_sum</th>\n",
       "      <th>count_sms</th>\n",
       "      <th>mb_used</th>\n",
       "      <th>gb_used</th>\n",
       "      <th>tariff_name</th>\n",
       "      <th>city</th>\n",
       "      <th>messages_included</th>\n",
       "      <th>mb_per_month_included</th>\n",
       "      <th>minutes_included</th>\n",
       "      <th>rub_monthly_fee</th>\n",
       "      <th>rub_per_gb</th>\n",
       "      <th>rub_per_message</th>\n",
       "      <th>rub_per_minute</th>\n",
       "      <th>over_calls</th>\n",
       "      <th>over_sms</th>\n",
       "      <th>over_mb</th>\n",
       "      <th>sum_month_reven</th>\n",
       "    </tr>\n",
       "  </thead>\n",
       "  <tbody>\n",
       "    <tr>\n",
       "      <th>3211</th>\n",
       "      <td>1489</td>\n",
       "      <td>10</td>\n",
       "      <td>NaN</td>\n",
       "      <td>NaN</td>\n",
       "      <td>21.0</td>\n",
       "      <td>19559.44</td>\n",
       "      <td>19.101016</td>\n",
       "      <td>smart</td>\n",
       "      <td>Санкт-Петербург</td>\n",
       "      <td>50</td>\n",
       "      <td>15360</td>\n",
       "      <td>500</td>\n",
       "      <td>550</td>\n",
       "      <td>200</td>\n",
       "      <td>3</td>\n",
       "      <td>3</td>\n",
       "      <td>0.0</td>\n",
       "      <td>0.0</td>\n",
       "      <td>1000.0</td>\n",
       "      <td>1550.0</td>\n",
       "    </tr>\n",
       "    <tr>\n",
       "      <th>3212</th>\n",
       "      <td>1489</td>\n",
       "      <td>11</td>\n",
       "      <td>NaN</td>\n",
       "      <td>NaN</td>\n",
       "      <td>20.0</td>\n",
       "      <td>17491.56</td>\n",
       "      <td>17.081602</td>\n",
       "      <td>smart</td>\n",
       "      <td>Санкт-Петербург</td>\n",
       "      <td>50</td>\n",
       "      <td>15360</td>\n",
       "      <td>500</td>\n",
       "      <td>550</td>\n",
       "      <td>200</td>\n",
       "      <td>3</td>\n",
       "      <td>3</td>\n",
       "      <td>0.0</td>\n",
       "      <td>0.0</td>\n",
       "      <td>600.0</td>\n",
       "      <td>1150.0</td>\n",
       "    </tr>\n",
       "    <tr>\n",
       "      <th>3213</th>\n",
       "      <td>1489</td>\n",
       "      <td>12</td>\n",
       "      <td>NaN</td>\n",
       "      <td>NaN</td>\n",
       "      <td>35.0</td>\n",
       "      <td>17322.51</td>\n",
       "      <td>16.916514</td>\n",
       "      <td>smart</td>\n",
       "      <td>Санкт-Петербург</td>\n",
       "      <td>50</td>\n",
       "      <td>15360</td>\n",
       "      <td>500</td>\n",
       "      <td>550</td>\n",
       "      <td>200</td>\n",
       "      <td>3</td>\n",
       "      <td>3</td>\n",
       "      <td>0.0</td>\n",
       "      <td>0.0</td>\n",
       "      <td>400.0</td>\n",
       "      <td>950.0</td>\n",
       "    </tr>\n",
       "  </tbody>\n",
       "</table>\n",
       "</div>"
      ],
      "text/plain": [
       "      user_id  month  count_calls  duration_sum  count_sms   mb_used  \\\n",
       "3211     1489     10          NaN           NaN       21.0  19559.44   \n",
       "3212     1489     11          NaN           NaN       20.0  17491.56   \n",
       "3213     1489     12          NaN           NaN       35.0  17322.51   \n",
       "\n",
       "        gb_used tariff_name             city  messages_included  \\\n",
       "3211  19.101016       smart  Санкт-Петербург                 50   \n",
       "3212  17.081602       smart  Санкт-Петербург                 50   \n",
       "3213  16.916514       smart  Санкт-Петербург                 50   \n",
       "\n",
       "      mb_per_month_included  minutes_included  rub_monthly_fee  rub_per_gb  \\\n",
       "3211                  15360               500              550         200   \n",
       "3212                  15360               500              550         200   \n",
       "3213                  15360               500              550         200   \n",
       "\n",
       "      rub_per_message  rub_per_minute  over_calls  over_sms  over_mb  \\\n",
       "3211                3               3         0.0       0.0   1000.0   \n",
       "3212                3               3         0.0       0.0    600.0   \n",
       "3213                3               3         0.0       0.0    400.0   \n",
       "\n",
       "      sum_month_reven  \n",
       "3211           1550.0  \n",
       "3212           1150.0  \n",
       "3213            950.0  "
      ]
     },
     "metadata": {},
     "output_type": "display_data"
    }
   ],
   "source": [
    "# Расчет общего дохода от пользователя в месяц\n",
    "\n",
    "combine['sum_month_reven'] = combine['rub_monthly_fee'] + combine['over_calls'] + combine['over_sms'] + combine['over_mb']\n",
    "display(combine.tail(3))"
   ]
  },
  {
   "cell_type": "markdown",
   "metadata": {},
   "source": [
    "## Анализ поведения клиентов"
   ]
  },
  {
   "cell_type": "markdown",
   "metadata": {},
   "source": [
    "### Анализ использования клиентами телефонной связи"
   ]
  },
  {
   "cell_type": "code",
   "execution_count": null,
   "metadata": {},
   "outputs": [
    {
     "data": {
      "text/plain": [
       "'Смарт :'"
      ]
     },
     "metadata": {},
     "output_type": "display_data"
    },
    {
     "data": {
      "text/plain": [
       "mean      419.062978\n",
       "var     35844.189551\n",
       "std       189.325618\n",
       "Name: duration_sum, dtype: float64"
      ]
     },
     "metadata": {},
     "output_type": "display_data"
    },
    {
     "data": {
      "text/plain": [
       "'Ультра :'"
      ]
     },
     "metadata": {},
     "output_type": "display_data"
    },
    {
     "data": {
      "text/plain": [
       "mean      545.451104\n",
       "var     94203.418396\n",
       "std       306.925754\n",
       "Name: duration_sum, dtype: float64"
      ]
     },
     "metadata": {},
     "output_type": "display_data"
    }
   ],
   "source": [
    "duration_smart = combine.query('tariff_name==\"smart\"')['duration_sum'].agg(['mean','var','std'])\n",
    "duration_ultra = combine.query('tariff_name==\"ultra\"')['duration_sum'].agg(['mean','var','std'])\n",
    "display('Смарт :', duration_smart)\n",
    "display('Ультра :', duration_ultra)\n",
    "\n",
    "fig, axes = plt.subplots(1,2, figsize=(15, 5), sharey=False)\n",
    "sns.distplot(combine.query('tariff_name==\"smart\"')['duration_sum'], ax=axes[0], label = 'Смарт')\n",
    "sns.distplot(combine.query('tariff_name==\"ultra\"')['duration_sum'], ax=axes[0], label = 'Ультра')\n",
    "axes[0].set(xlabel =\"Средняя длительность звонков в месяц\", ylabel = \"Плотность\", \n",
    "            title ='Распределение длительности телефонных разговоров')\n",
    "axes[0].legend(labels=[\"smart\",\"ultra\"])\n",
    "sns.boxplot(x ='duration_sum',y = 'tariff_name',data = combine[['tariff_name','duration_sum']].reset_index(), ax=axes[1])\n",
    "axes[1].set(xlabel =\"Средняя длительность звонков в месяц\", ylabel = \"Тариф\", \n",
    "            title ='Диаграмма размаха длительности телефонных разговоров')\n",
    "axes[1].legend(labels=[\"smart\",\"ultra\"])\n",
    "plt.show()"
   ]
  },
  {
   "cell_type": "markdown",
   "metadata": {},
   "source": [
    "**Вывод** : \n",
    "Распределение длительности звонков по тарифу Смарт имеет распределение близкое к нормальному. Распределение длительности звонков по тарифу Ультра имеет положительную ассиметрию, что свидетельствует о некотором преобладании наблюдений с меньшей  длительностью звонка. Пользователи тарифа Смарт в среднем каждый месяц тратят на разговоры по телефону 419±189 минуты, в то время как пользователи тарифа Ультра 545±306 минуту."
   ]
  },
  {
   "cell_type": "markdown",
   "metadata": {},
   "source": [
    "### Анализ использования клиентами смс-сообщений"
   ]
  },
  {
   "cell_type": "code",
   "execution_count": null,
   "metadata": {},
   "outputs": [],
   "source": [
    "sms_smart = combine.query('tariff_name==\"smart\"')['count_sms'].agg(['mean','var','std'])\n",
    "sms_ultra = combine.query('tariff_name==\"ultra\"')['count_sms'].agg(['mean','var','std'])\n",
    "display('Смарт :', sms_smart)\n",
    "display('Ультра :', sms_ultra)\n",
    "\n",
    "fig, axes = plt.subplots(1,2, figsize=(15, 5), sharey=False)\n",
    "sns.distplot(combine.query('tariff_name==\"smart\"')['count_sms'], ax=axes[0], label = 'Смарт')\n",
    "sns.distplot(combine.query('tariff_name==\"ultra\"')['count_sms'], ax=axes[0], label = 'Ультра')\n",
    "axes[0].set(xlabel =\"Среднее кол-во сообщений в месяц\", ylabel = \"Плотность\", \n",
    "            title ='Распределение среднего количества сообщений в месяц')\n",
    "axes[0].legend(labels=[\"smart\",\"ultra\"])\n",
    "sns.boxplot(x ='count_sms',y = 'tariff_name',data = combine[['tariff_name','count_sms']].reset_index(), ax=axes[1])\n",
    "axes[1].set(xlabel =\"Среднее кол-во сообщений в месяц\", ylabel = \"Тариф\", \n",
    "            title ='Диаграмма размаха среднего кол-ва сообщений в месяц')\n",
    "axes[1].legend(labels=[\"smart\",\"ultra\"])\n",
    "plt.show()"
   ]
  },
  {
   "cell_type": "markdown",
   "metadata": {},
   "source": [
    "**Вывод**:\n",
    "Распределения количества сообщений тарифа Смарт и тарифа Ультра имеют положительную ассиметрию, что свидетельствует о преобладании использования меньшего количества сообщений в сравнении со средним количеством. Таким образом пользователи тарифа Смарт обычно отправляют 38±26,7 сообщения в месяц, в то время как пользователи тарифа Ультра используют 61±45,9 сообщения."
   ]
  },
  {
   "cell_type": "markdown",
   "metadata": {},
   "source": [
    "### Анализ потребления клиентами интернет-трафика"
   ]
  },
  {
   "cell_type": "code",
   "execution_count": null,
   "metadata": {},
   "outputs": [],
   "source": [
    "gb_smart = combine.query('tariff_name==\"smart\"')['gb_used'].agg(['mean','var','std'])\n",
    "gb_ultra = combine.query('tariff_name==\"ultra\"')['gb_used'].agg(['mean','var','std'])\n",
    "display('Смарт :', gb_smart)\n",
    "display('Ультра :', gb_ultra)\n",
    "\n",
    "fig, axes = plt.subplots(1,2, figsize=(15, 5), sharey=False)\n",
    "sns.distplot(combine.query('tariff_name==\"smart\"')['gb_used'], ax=axes[0], label = 'Смарт')\n",
    "sns.distplot(combine.query('tariff_name==\"ultra\"')['gb_used'], ax=axes[0], label = 'Ультра')\n",
    "axes[0].set(xlabel =\"Среднее количество гигабайт трафика в месяц\", ylabel = \"Плотность\", \n",
    "            title ='Распределение среднего количества гигабайт трафика в месяц')\n",
    "axes[0].legend(labels=[\"smart\",\"ultra\"])\n",
    "sns.boxplot(x ='gb_used',y = 'tariff_name',data = combine[['tariff_name','gb_used']].reset_index(), ax=axes[1])\n",
    "axes[1].set(xlabel =\"Среднее кол-во гигабайт трафика в месяц\", ylabel = \"Тариф\", \n",
    "            title ='Диаграмма размаха среднего кол-ва гигабайт трафика в месяц')\n",
    "axes[1].legend(labels=[\"smart\",\"ultra\"])\n",
    "plt.show()"
   ]
  },
  {
   "cell_type": "markdown",
   "metadata": {},
   "source": [
    "**Вывод :**   \n",
    "Обе выборки характеризуются распределением, близким к нормальному. Таким образом для пользователей тарифа Смарт объем трафика в месяц составил 15,8±5,7 Гб, в то время как для пользователей тарифа Ультра 19,2±9,7 Гб."
   ]
  },
  {
   "cell_type": "markdown",
   "metadata": {
    "scrolled": false
   },
   "source": [
    "### Вывод о поведении клиентов, использующих разные тарифы  \n",
    "\n",
    "Пакет услуг пользователей тарифа Ультра включает большее количество минут, смс и Гб трафика, чем тарифа Смарт, за большую абонентскую плату. Что, в свою очередь, отражают полученные данные - пользователи тарифа Ультра имеют тенденцию к использованию в среднем большего количества минут разговора, большего количества смс и Гб трафика."
   ]
  },
  {
   "cell_type": "markdown",
   "metadata": {},
   "source": [
    "## Проверка гипотез"
   ]
  },
  {
   "cell_type": "markdown",
   "metadata": {},
   "source": [
    "Задача №1 проверить гипотезу:\n",
    "-средняя выручка пользователей тарифов «Ультра» и «Смарт» различаются;  \n",
    "\n",
    "Задача №2 проверить гипотезу:\n",
    "-средняя выручка пользователей из Москвы отличается от выручки пользователей из других регионов.  "
   ]
  },
  {
   "cell_type": "markdown",
   "metadata": {},
   "source": [
    "### Количество пользователей и суммарная выручка"
   ]
  },
  {
   "cell_type": "code",
   "execution_count": null,
   "metadata": {},
   "outputs": [],
   "source": [
    "# оценка количества пользователей\n",
    "display(combine.head(3))\n",
    "\n",
    "display(f'Всего уникальных пользователей : {combine[\"user_id\"].nunique()}')\n",
    "display(f'Пользователей тарифа Смарт : {combine.loc[combine[\"tariff_name\"]==\"smart\",\"user_id\"].nunique()}')\n",
    "display(f'Пользователей тарифа Ультра : {combine.loc[combine[\"tariff_name\"]==\"ultra\",\"user_id\"].nunique()}')\n",
    "\n",
    "\n",
    "user_count=combine.groupby(['tariff_name','month'],as_index=False)['user_id'].nunique()\n",
    "#display(user_count)\n",
    "pivot_user_count=pd.pivot_table(user_count, index='month', columns='tariff_name', values='user_id').reset_index()\n",
    "#display(pivot_user_count)\n",
    "\n",
    "# оценка суммарной выручки\n",
    "tariff_reven=combine.groupby(['tariff_name','month'],as_index=False)['sum_month_reven'].sum()\n",
    "pivot_tariff_reven=pd.pivot_table(tariff_reven, index='month', columns='tariff_name', values='sum_month_reven').reset_index()\n",
    "display(pivot_tariff_reven)"
   ]
  },
  {
   "cell_type": "code",
   "execution_count": null,
   "metadata": {},
   "outputs": [],
   "source": [
    "# Графики количества пользователей и выручки\n",
    "all_us = combine[['tariff_name','month','user_id']]\n",
    "all_reven = combine[['tariff_name','month','sum_month_reven']]\n",
    "\n",
    "fig,ax = plt.subplots(1,2, figsize=(15,5))\n",
    "sns.countplot(data=all_us, x='month',hue='tariff_name', ax=ax[0])\n",
    "ax[0].set(xlabel =\"Месяц\", ylabel = \"Кол-во пользователей\", \n",
    "            title ='Кол-во пользователей тарифа в месяц')\n",
    "ax[0].legend(title='Тариф')\n",
    "sns.barplot(data=all_reven, x='month',y='sum_month_reven', hue='tariff_name',estimator=sum, ax=ax[1])\n",
    "ax[1].set(xlabel =\"Месяц\", ylabel = \"Руб\", \n",
    "            title ='Суммарная выручка по тарифу в месяц')\n",
    "ax[1].legend(title='Тариф')\n",
    "plt.show()"
   ]
  },
  {
   "cell_type": "code",
   "execution_count": null,
   "metadata": {},
   "outputs": [],
   "source": [
    "# Доля каждого тарифа от годового дохода\n",
    "part_reven=pivot_tariff_reven[['smart','ultra']].sum().reset_index()\n",
    "part_reven.columns=['tariff_name','sum_revenue']\n",
    "part_reven['percent']= part_reven['sum_revenue']*100/part_reven['sum_revenue'].sum()\n",
    "display(part_reven)\n",
    "\n",
    "fig, axes = plt.subplots(1,1, figsize=(5, 5))\n",
    "explode = [0.05, 0]\n",
    "colors = sns.color_palette('bright')\n",
    "plt.pie(part_reven['percent'], labels=part_reven['tariff_name'], colors=colors,\n",
    "        autopct='%.0f%%', explode=explode, shadow=True)\n",
    "plt.show()"
   ]
  },
  {
   "cell_type": "markdown",
   "metadata": {},
   "source": [
    "Вывод: В предлагаемой выборке 498 пользователей, из которых 148 используют тариф \"Ультра\" и 350 используют тариф \"Смарт\".  Суммарная выручка за месяц тарифа Смарт превышает выручку тарифа Ультра на протяжении всего года и составляет 58.5 % от общегодовой выручки."
   ]
  },
  {
   "cell_type": "markdown",
   "metadata": {},
   "source": [
    "### Задача №1"
   ]
  },
  {
   "cell_type": "markdown",
   "metadata": {},
   "source": [
    "План:\n",
    "1. Необходимо проверить - различается ли средняя выручка пользователей тарифов. Для этого установим по умолчанию утверждение о том что выручки равны и попробуем опровергнуть его.   \n",
    "Следовательно нулевая гипотеза(𝐻0): выручка тарифа Ультра равна выручке тарифа Смарт.  \n",
    "2. Альтернативная гипотеза (𝐻1) : выручка тарифов Ультра НЕ равна выручке тарифа Смарт. (Гипотеза двусторонняя).\n",
    "3. Критерий для проверки нулевой гипотезы : критерий Стьюдента для несвязанных выборок.\n",
    "4. Определить наблюдаемое значение статистики.  \n",
    "5. Посчитать p-value. Сравнить p-value с фиксированным уровнем значимости (0.05).  \n",
    "6. Вывод"
   ]
  },
  {
   "cell_type": "code",
   "execution_count": null,
   "metadata": {
    "scrolled": true
   },
   "outputs": [],
   "source": [
    "display(combine.head(3))\n",
    "\n",
    "set_ultra = combine.loc[combine['tariff_name']=='ultra', 'sum_month_reven']\n",
    "set_smart = combine.loc[combine['tariff_name']=='smart', 'sum_month_reven']\n",
    "display(f'Дисперсия в выручке группы тарифа Ультра : {set_ultra.var()}')\n",
    "display(f'Дисперсия в выручке группы тарифа Ультра : {set_smart.var()}')\n",
    "\n",
    "alpha = 0.05\n",
    "\n",
    "task_1 = st.ttest_ind(\n",
    "    combine.loc[combine['tariff_name']=='ultra', 'sum_month_reven',],\n",
    "    combine.loc[combine['tariff_name']=='smart', 'sum_month_reven'],\n",
    "    equal_var = False)\n",
    "\n",
    "display('p-значение:', task_1.pvalue)\n",
    "\n",
    "if task_1.pvalue < alpha:\n",
    "    display(\"Отвергаем нулевую гипотезу\")\n",
    "else:\n",
    "    display(\"Не удалось отвергнуть нулевую гипотезу\") "
   ]
  },
  {
   "cell_type": "code",
   "execution_count": null,
   "metadata": {
    "scrolled": false
   },
   "outputs": [],
   "source": [
    "revenue_smart = combine.query('tariff_name==\"smart\"')['sum_month_reven'].agg(['mean','var','std','max'])\n",
    "revenue_ultra = combine.query('tariff_name==\"ultra\"')['sum_month_reven'].agg(['mean','var','std','max'])\n",
    "display('Смарт :', revenue_smart)\n",
    "display('Ультра :', revenue_ultra)\n",
    "\n",
    "fig, axes = plt.subplots(1,2, figsize=(15, 5), sharey=False)\n",
    "sns.distplot(combine.loc[combine['tariff_name']=='smart', 'sum_month_reven',], ax=axes[0], label = 'Смарт')\n",
    "sns.distplot(combine.loc[combine['tariff_name']=='ultra', 'sum_month_reven',], ax=axes[0], label = 'Ультра')\n",
    "axes[0].set(xlabel =\"Руб.\", ylabel = \"Плотность\", \n",
    "            title ='Распределение уровня среднего дохода от пользователя в месяц')\n",
    "axes[0].legend(labels=[\"smart\",\"ultra\"])\n",
    "sns.boxplot(x ='sum_month_reven',y = 'tariff_name',data = combine[['tariff_name','sum_month_reven']].reset_index(), ax=axes[1])\n",
    "axes[1].set(xlabel =\"Руб.\", ylabel = \"Тариф\", \n",
    "            title ='Диаграмма размаха среднего дохода от пользователя в месяц')\n",
    "axes[1].legend(labels=[\"smart\",\"ultra\"])\n",
    "plt.show()"
   ]
  },
  {
   "cell_type": "markdown",
   "metadata": {},
   "source": [
    "**Вывод:**\n",
    "Распределения в обоих группах усечены, т.к. доход от пользователя не может быть меньше абонентской платы, на уровеню которой соответствует наибольшая частота наблюдений в обоих группах. Таким образом, доход от пользователей  наиболее часто распределен на уровне абонентской платы, после чего частота его наблюдений стремительно снижается до максимально зафиксированных значений выручки от пользователя, которая для тарифа Смарт составила 6770 руб, для тарифа Ультра 4800."
   ]
  },
  {
   "cell_type": "markdown",
   "metadata": {},
   "source": [
    "### Задача №1 : Вывод  \n",
    "\n",
    "На имеющихся данных, на уровне значимости 5% (уровне доверия 95%) есть основания отвергнуть нулевую гипотезу в пользу альтернативной.  \n",
    "Средняя выручка тарифа Ультра не равна средней выручке тарифа Смарт."
   ]
  },
  {
   "cell_type": "markdown",
   "metadata": {},
   "source": [
    "### Задача №2"
   ]
  },
  {
   "cell_type": "markdown",
   "metadata": {},
   "source": [
    "План:\n",
    "\n",
    "1.  Необходимо проверить - отличается ли средняя выручка пользователей из Москвы от выручки пользователей из других регионов. Для этого установим по умолчанию утверждение о том, что выручка пользователей Москвы равна выручке любого другого региона и попробуем опровергнуть этот тезис.  \n",
    "Следовательно нулевая гипотеза(𝐻0): средняя выручка пользователей из Москвы равна средней выручке пользователей регионов.\n",
    "2.  Альтернативная гипотеза (𝐻1) : средняя выручка пользователей из Москву НЕ равна выручке пользователей из регионов. (Гипотеза двусторонняя).\n",
    "3.  Критерий для проверки нулевой гипотезы : критерий Стьюдента для несвязанных выборок.\n",
    "4.  Определить наблюдаемое значение статистики.\n",
    "5.  Посчитать p-value. Сравнить p-value с фиксированным уровнем значимости (0.05).\n",
    "6.  Вывод"
   ]
  },
  {
   "cell_type": "code",
   "execution_count": null,
   "metadata": {
    "scrolled": true
   },
   "outputs": [],
   "source": [
    " display(f'Дисперсия в выручке пользователей из Москвы : {combine.loc[combine[\"city\"]==\"Москва\", \"sum_month_reven\"].var()}')\n",
    "display(f'Дисперсия в выручке пользователей из регионов : {combine.loc[combine[\"city\"]!=\"Москва\", \"sum_month_reven\"].var()}')\n",
    "\n",
    "alpha = 0.05\n",
    "\n",
    "task_sec = st.ttest_ind(\n",
    "    combine.loc[combine['city']=='Москва', 'sum_month_reven',],\n",
    "    combine.loc[combine['city']!='Москва', 'sum_month_reven'],\n",
    "    equal_var = False)\n",
    "\n",
    "display('p-значение:', task_sec.pvalue)\n",
    "\n",
    "if task_sec.pvalue < alpha:\n",
    "    display(\"Отвергаем нулевую гипотезу\")\n",
    "else:\n",
    "    display(\"Не удалось отвергнуть нулевую гипотезу\") \n"
   ]
  },
  {
   "cell_type": "markdown",
   "metadata": {},
   "source": [
    "### Задача №2 : Вывод  \n",
    "\n",
    "На имеющихся данных, на уровне значимости 5% (уровне доверия 95%) нет оснований отвергать нулевую гипотезу в пользу альтернативной. Следовательно, нет оснований считать, что средняя выручка пользователей из Москвы не сопоставима со средней выручкой от пользователей из регионов."
   ]
  },
  {
   "cell_type": "markdown",
   "metadata": {},
   "source": [
    "## Общий вывод\n",
    "\n",
    "Общий вывод  \n",
    "  \n",
    "Выполнен анализ тарифных планов компании \"Мегалайн\" на основании данных выборки из 448 пользователей, из которых 148 используют тариф \"Ультра\" и 350 используют тариф \"Смарт\".  \n",
    "    \n",
    "Пользователи тарифа Ультра в среднем используют 545±306 минуты разговора, 61±45,9 сообщения и 19,2±9,7 Гб интернет трафика в месяц, для пользователей тарифа Смарт эти показатели составили 419±189, 38±26,7, 15,8±5,7 соответственно. \n",
    "\n",
    "Тариф Смарт является более популярным среди пользователей, если в январе этим тарифом пользовались только 34 человека, то к декабрю их количество достигло 337. Прирост пользователей в тарифе Ультра был более медленным - от 9 человек в январе, до 139 в декабре.   \n",
    "\n",
    "Суммарная выручка увеличивалась по обоим тарифам ежемесячно, таким образом для тарифа Смарт она выросла от 24525.0 руб. в январе до 531965 руб. в декабре. Для тарифа Ультра данные показатели составили 17550 руб. и 297300 руб. соответственно. \n",
    "\n",
    "При сравнении анализируемых тарифов, гипотеза о равенстве средних доходов по тарифу Смарт и тарифу Ультра была отвергнута на уровне значимости 5% (уровне доверия 95%, p-value: 4.26e-250), что говорит о наличии статистически значимого отличия между средними месячными доходами от пользователя.  \n",
    "\n",
    "\n",
    "При сравнительной оценке регионов, гипотеза о равенстве средней выручки пользователей из Москвы и средней выручки пользователей из регионов - на уровне значимости 5% (уровне доверия 95%,p-value: 0.52) отвергнута не была. Следовательно, нет оснований считать, что средняя выручка пользователей из Москвы не сопоставима со средней выручкой от пользователей из регионов.\n",
    "\n",
    "Таким образом, Тариф Ультра приносит больший средний доход от пользователя в сравнении с тарифом Смарт. Однако, тариф Смарт более популярен среди пользователей чем Ультра, и составляет до 59 % от годовой выручки. \n",
    "\n",
    "В качестве путей развития стоит рассмотреть возможности развития маркетингово компании тарифа Ультра, для популяризации его среди пользователей. "
   ]
  }
 ],
 "metadata": {
  "ExecuteTimeLog": [
   {
    "duration": 444,
    "start_time": "2022-06-15T18:49:52.224Z"
   },
   {
    "duration": 1056,
    "start_time": "2022-06-15T18:49:53.233Z"
   },
   {
    "duration": 13,
    "start_time": "2022-06-15T18:50:09.625Z"
   },
   {
    "duration": 413,
    "start_time": "2022-06-15T18:50:32.470Z"
   },
   {
    "duration": 457,
    "start_time": "2022-06-15T18:53:11.746Z"
   },
   {
    "duration": 32,
    "start_time": "2022-06-15T18:54:20.234Z"
   },
   {
    "duration": 52,
    "start_time": "2022-06-15T18:55:29.906Z"
   },
   {
    "duration": 107,
    "start_time": "2022-06-15T18:59:00.610Z"
   },
   {
    "duration": 160,
    "start_time": "2022-06-15T19:01:16.118Z"
   },
   {
    "duration": 30,
    "start_time": "2022-06-15T19:03:12.539Z"
   },
   {
    "duration": 268,
    "start_time": "2022-06-15T19:03:17.958Z"
   },
   {
    "duration": 39,
    "start_time": "2022-06-15T19:09:03.304Z"
   },
   {
    "duration": 388,
    "start_time": "2022-06-15T19:09:09.638Z"
   },
   {
    "duration": 474,
    "start_time": "2022-06-15T19:16:23.489Z"
   },
   {
    "duration": 33,
    "start_time": "2022-06-15T19:22:11.868Z"
   },
   {
    "duration": 480,
    "start_time": "2022-06-15T19:22:15.950Z"
   },
   {
    "duration": 3,
    "start_time": "2022-06-15T19:22:24.919Z"
   },
   {
    "duration": 494,
    "start_time": "2022-06-15T19:22:25.785Z"
   },
   {
    "duration": 34,
    "start_time": "2022-06-15T19:22:26.284Z"
   },
   {
    "duration": 514,
    "start_time": "2022-06-15T19:22:26.879Z"
   },
   {
    "duration": 525,
    "start_time": "2022-06-15T19:22:28.625Z"
   },
   {
    "duration": 36,
    "start_time": "2022-06-15T19:22:55.748Z"
   },
   {
    "duration": 43,
    "start_time": "2022-06-15T19:28:19.062Z"
   },
   {
    "duration": 34,
    "start_time": "2022-06-15T19:28:26.880Z"
   },
   {
    "duration": 83,
    "start_time": "2022-06-15T19:28:36.003Z"
   },
   {
    "duration": 99,
    "start_time": "2022-06-15T19:28:54.340Z"
   },
   {
    "duration": 91,
    "start_time": "2022-06-15T19:29:35.725Z"
   },
   {
    "duration": 9,
    "start_time": "2022-06-15T19:32:58.773Z"
   },
   {
    "duration": 59,
    "start_time": "2022-06-15T19:33:17.306Z"
   },
   {
    "duration": 87,
    "start_time": "2022-06-15T19:34:36.243Z"
   },
   {
    "duration": 121,
    "start_time": "2022-06-15T19:34:41.553Z"
   },
   {
    "duration": 102,
    "start_time": "2022-06-15T19:34:59.832Z"
   },
   {
    "duration": 105,
    "start_time": "2022-06-15T19:35:09.364Z"
   },
   {
    "duration": 94,
    "start_time": "2022-06-15T19:36:23.982Z"
   },
   {
    "duration": 50,
    "start_time": "2022-06-15T19:36:42.615Z"
   },
   {
    "duration": 19,
    "start_time": "2022-06-15T19:39:25.581Z"
   },
   {
    "duration": 13,
    "start_time": "2022-06-15T19:39:31.191Z"
   },
   {
    "duration": 21,
    "start_time": "2022-06-15T19:40:00.673Z"
   },
   {
    "duration": 478,
    "start_time": "2022-06-15T19:40:29.739Z"
   },
   {
    "duration": 460,
    "start_time": "2022-06-15T19:40:57.846Z"
   },
   {
    "duration": 12,
    "start_time": "2022-06-15T19:41:37.847Z"
   },
   {
    "duration": 23,
    "start_time": "2022-06-15T19:43:39.321Z"
   },
   {
    "duration": 11,
    "start_time": "2022-06-15T19:48:22.150Z"
   },
   {
    "duration": 96,
    "start_time": "2022-06-15T19:48:49.635Z"
   },
   {
    "duration": 29,
    "start_time": "2022-06-15T19:49:19.557Z"
   },
   {
    "duration": 81,
    "start_time": "2022-06-15T19:49:24.736Z"
   },
   {
    "duration": 132,
    "start_time": "2022-06-15T19:52:46.055Z"
   },
   {
    "duration": 473,
    "start_time": "2022-06-18T10:01:42.507Z"
   },
   {
    "duration": 951,
    "start_time": "2022-06-18T10:01:44.313Z"
   },
   {
    "duration": 36,
    "start_time": "2022-06-18T10:01:48.738Z"
   },
   {
    "duration": 383,
    "start_time": "2022-06-18T10:01:50.191Z"
   },
   {
    "duration": 106,
    "start_time": "2022-06-18T10:01:56.520Z"
   },
   {
    "duration": 149,
    "start_time": "2022-06-18T10:01:59.075Z"
   },
   {
    "duration": 106,
    "start_time": "2022-06-18T10:42:49.114Z"
   },
   {
    "duration": 22,
    "start_time": "2022-06-18T10:42:53.683Z"
   },
   {
    "duration": 21,
    "start_time": "2022-06-18T10:43:05.951Z"
   },
   {
    "duration": 3,
    "start_time": "2022-06-18T10:43:11.614Z"
   },
   {
    "duration": 569,
    "start_time": "2022-06-18T10:43:12.382Z"
   },
   {
    "duration": 29,
    "start_time": "2022-06-18T10:43:13.058Z"
   },
   {
    "duration": 362,
    "start_time": "2022-06-18T10:43:14.179Z"
   },
   {
    "duration": 97,
    "start_time": "2022-06-18T10:43:15.548Z"
   },
   {
    "duration": 56,
    "start_time": "2022-06-18T10:43:16.842Z"
   },
   {
    "duration": 3,
    "start_time": "2022-06-18T10:43:59.059Z"
   },
   {
    "duration": 454,
    "start_time": "2022-06-18T10:43:59.917Z"
   },
   {
    "duration": 27,
    "start_time": "2022-06-18T10:44:00.647Z"
   },
   {
    "duration": 371,
    "start_time": "2022-06-18T10:44:01.999Z"
   },
   {
    "duration": 103,
    "start_time": "2022-06-18T10:44:03.576Z"
   },
   {
    "duration": 61,
    "start_time": "2022-06-18T10:44:05.552Z"
   },
   {
    "duration": 99,
    "start_time": "2022-06-18T10:44:50.506Z"
   },
   {
    "duration": 107,
    "start_time": "2022-06-18T10:46:13.563Z"
   },
   {
    "duration": 125,
    "start_time": "2022-06-18T10:46:26.988Z"
   },
   {
    "duration": 108,
    "start_time": "2022-06-18T10:46:45.290Z"
   },
   {
    "duration": 68,
    "start_time": "2022-06-18T10:46:59.760Z"
   },
   {
    "duration": 126,
    "start_time": "2022-06-18T10:47:05.518Z"
   },
   {
    "duration": 86,
    "start_time": "2022-06-18T10:47:38.802Z"
   },
   {
    "duration": 143,
    "start_time": "2022-06-18T10:48:02.558Z"
   },
   {
    "duration": 112,
    "start_time": "2022-06-18T10:49:46.456Z"
   },
   {
    "duration": 123,
    "start_time": "2022-06-18T11:22:50.612Z"
   },
   {
    "duration": 67,
    "start_time": "2022-06-18T11:23:05.888Z"
   },
   {
    "duration": 133,
    "start_time": "2022-06-18T11:23:12.290Z"
   },
   {
    "duration": 130,
    "start_time": "2022-06-18T11:24:13.156Z"
   },
   {
    "duration": 139,
    "start_time": "2022-06-18T11:27:17.550Z"
   },
   {
    "duration": 121,
    "start_time": "2022-06-18T11:27:44.264Z"
   },
   {
    "duration": 122,
    "start_time": "2022-06-18T11:27:55.182Z"
   },
   {
    "duration": 133,
    "start_time": "2022-06-18T11:29:24.544Z"
   },
   {
    "duration": 122,
    "start_time": "2022-06-18T11:31:40.144Z"
   },
   {
    "duration": 135,
    "start_time": "2022-06-18T11:32:10.283Z"
   },
   {
    "duration": 118,
    "start_time": "2022-06-18T11:37:15.338Z"
   },
   {
    "duration": 8,
    "start_time": "2022-06-18T11:46:44.654Z"
   },
   {
    "duration": 379,
    "start_time": "2022-06-18T11:48:01.995Z"
   },
   {
    "duration": 11,
    "start_time": "2022-06-18T11:48:09.410Z"
   },
   {
    "duration": 21,
    "start_time": "2022-06-18T11:48:18.656Z"
   },
   {
    "duration": 51,
    "start_time": "2022-06-18T11:53:28.265Z"
   },
   {
    "duration": 45,
    "start_time": "2022-06-18T11:53:36.534Z"
   },
   {
    "duration": 24,
    "start_time": "2022-06-18T11:53:44.420Z"
   },
   {
    "duration": 34,
    "start_time": "2022-06-18T11:53:46.845Z"
   },
   {
    "duration": 36,
    "start_time": "2022-06-18T11:54:05.314Z"
   },
   {
    "duration": 41,
    "start_time": "2022-06-18T11:55:52.626Z"
   },
   {
    "duration": 34,
    "start_time": "2022-06-18T11:55:57.855Z"
   },
   {
    "duration": 52,
    "start_time": "2022-06-18T11:56:03.404Z"
   },
   {
    "duration": 56,
    "start_time": "2022-06-18T11:56:08.960Z"
   },
   {
    "duration": 64,
    "start_time": "2022-06-18T11:56:25.338Z"
   },
   {
    "duration": 18,
    "start_time": "2022-06-18T12:05:49.732Z"
   },
   {
    "duration": 211,
    "start_time": "2022-06-18T12:15:27.936Z"
   },
   {
    "duration": 208,
    "start_time": "2022-06-18T12:15:43.488Z"
   },
   {
    "duration": 20,
    "start_time": "2022-06-18T12:16:11.394Z"
   },
   {
    "duration": 140,
    "start_time": "2022-06-18T12:16:33.801Z"
   },
   {
    "duration": 123,
    "start_time": "2022-06-18T12:16:41.392Z"
   },
   {
    "duration": 143,
    "start_time": "2022-06-18T12:16:53.721Z"
   },
   {
    "duration": 33,
    "start_time": "2022-06-18T12:17:07.001Z"
   },
   {
    "duration": 289,
    "start_time": "2022-06-18T12:17:15.392Z"
   },
   {
    "duration": 208,
    "start_time": "2022-06-18T12:17:26.601Z"
   },
   {
    "duration": 436,
    "start_time": "2022-06-18T12:17:38.251Z"
   },
   {
    "duration": 27,
    "start_time": "2022-06-18T12:17:38.689Z"
   },
   {
    "duration": 391,
    "start_time": "2022-06-18T12:17:39.256Z"
   },
   {
    "duration": 106,
    "start_time": "2022-06-18T12:17:39.898Z"
   },
   {
    "duration": 82,
    "start_time": "2022-06-18T12:17:40.556Z"
   },
   {
    "duration": 46,
    "start_time": "2022-06-18T12:17:41.250Z"
   },
   {
    "duration": 10,
    "start_time": "2022-06-18T12:17:41.840Z"
   },
   {
    "duration": 78,
    "start_time": "2022-06-18T12:17:43.195Z"
   },
   {
    "duration": 226,
    "start_time": "2022-06-18T12:17:43.812Z"
   },
   {
    "duration": 3,
    "start_time": "2022-06-18T12:42:39.741Z"
   },
   {
    "duration": 978,
    "start_time": "2022-06-18T12:42:40.705Z"
   },
   {
    "duration": 50,
    "start_time": "2022-06-18T12:42:41.685Z"
   },
   {
    "duration": 510,
    "start_time": "2022-06-18T12:42:43.336Z"
   },
   {
    "duration": 6,
    "start_time": "2022-06-18T13:09:07.244Z"
   },
   {
    "duration": 1183,
    "start_time": "2022-06-18T13:09:07.981Z"
   },
   {
    "duration": 27,
    "start_time": "2022-06-18T13:09:09.167Z"
   },
   {
    "duration": 399,
    "start_time": "2022-06-18T13:09:10.591Z"
   },
   {
    "duration": 57,
    "start_time": "2022-06-18T13:09:52.704Z"
   },
   {
    "duration": 38,
    "start_time": "2022-06-18T13:10:40.588Z"
   },
   {
    "duration": 73,
    "start_time": "2022-06-18T13:13:24.121Z"
   },
   {
    "duration": 55,
    "start_time": "2022-06-18T13:14:38.106Z"
   },
   {
    "duration": 94,
    "start_time": "2022-06-18T13:15:17.907Z"
   },
   {
    "duration": 88,
    "start_time": "2022-06-18T13:15:25.991Z"
   },
   {
    "duration": 53,
    "start_time": "2022-06-18T13:15:33.863Z"
   },
   {
    "duration": 217,
    "start_time": "2022-06-18T13:16:00.908Z"
   },
   {
    "duration": 219,
    "start_time": "2022-06-18T13:16:09.461Z"
   },
   {
    "duration": 57,
    "start_time": "2022-06-18T13:17:25.942Z"
   },
   {
    "duration": 48,
    "start_time": "2022-06-18T13:17:39.660Z"
   },
   {
    "duration": 39,
    "start_time": "2022-06-18T13:17:48.880Z"
   },
   {
    "duration": 56,
    "start_time": "2022-06-18T13:17:56.496Z"
   },
   {
    "duration": 259,
    "start_time": "2022-06-18T13:21:05.379Z"
   },
   {
    "duration": 286,
    "start_time": "2022-06-18T13:21:19.280Z"
   },
   {
    "duration": 235,
    "start_time": "2022-06-18T13:21:39.356Z"
   },
   {
    "duration": 290,
    "start_time": "2022-06-18T13:22:29.717Z"
   },
   {
    "duration": 62,
    "start_time": "2022-06-18T13:22:32.450Z"
   },
   {
    "duration": 30,
    "start_time": "2022-06-18T13:24:45.457Z"
   },
   {
    "duration": 77,
    "start_time": "2022-06-18T13:25:05.470Z"
   },
   {
    "duration": 39,
    "start_time": "2022-06-18T13:25:06.657Z"
   },
   {
    "duration": 71,
    "start_time": "2022-06-18T13:25:07.950Z"
   },
   {
    "duration": 298,
    "start_time": "2022-06-18T13:25:09.208Z"
   },
   {
    "duration": 6,
    "start_time": "2022-06-18T13:25:12.045Z"
   },
   {
    "duration": 94,
    "start_time": "2022-06-18T19:19:31.021Z"
   },
   {
    "duration": 78,
    "start_time": "2022-06-18T19:19:53.101Z"
   },
   {
    "duration": 614,
    "start_time": "2022-06-18T19:20:21.652Z"
   },
   {
    "duration": 95,
    "start_time": "2022-06-18T19:20:29.698Z"
   },
   {
    "duration": 94,
    "start_time": "2022-06-18T19:22:14.383Z"
   },
   {
    "duration": 81,
    "start_time": "2022-06-18T19:22:24.216Z"
   },
   {
    "duration": 625,
    "start_time": "2022-06-18T19:22:48.645Z"
   },
   {
    "duration": 81,
    "start_time": "2022-06-18T19:26:13.562Z"
   },
   {
    "duration": 51,
    "start_time": "2022-06-18T19:26:46.590Z"
   },
   {
    "duration": 73,
    "start_time": "2022-06-18T19:27:26.572Z"
   },
   {
    "duration": 307,
    "start_time": "2022-06-18T19:27:58.673Z"
   },
   {
    "duration": 3,
    "start_time": "2022-06-18T19:30:08.392Z"
   },
   {
    "duration": 529,
    "start_time": "2022-06-18T19:30:09.159Z"
   },
   {
    "duration": 44,
    "start_time": "2022-06-18T19:30:09.881Z"
   },
   {
    "duration": 423,
    "start_time": "2022-06-18T19:30:11.233Z"
   },
   {
    "duration": 78,
    "start_time": "2022-06-18T19:30:13.685Z"
   },
   {
    "duration": 56,
    "start_time": "2022-06-18T19:30:14.907Z"
   },
   {
    "duration": 84,
    "start_time": "2022-06-18T19:30:18.933Z"
   },
   {
    "duration": 250,
    "start_time": "2022-06-18T19:30:20.626Z"
   },
   {
    "duration": 89,
    "start_time": "2022-06-18T19:32:43.571Z"
   },
   {
    "duration": 77,
    "start_time": "2022-06-18T19:32:57.267Z"
   },
   {
    "duration": 87,
    "start_time": "2022-06-18T19:33:11.287Z"
   },
   {
    "duration": 74,
    "start_time": "2022-06-18T19:33:28.162Z"
   },
   {
    "duration": 82,
    "start_time": "2022-06-18T19:34:34.290Z"
   },
   {
    "duration": 94,
    "start_time": "2022-06-18T19:34:42.871Z"
   },
   {
    "duration": 88,
    "start_time": "2022-06-18T19:35:06.805Z"
   },
   {
    "duration": 86,
    "start_time": "2022-06-18T19:37:30.712Z"
   },
   {
    "duration": 41,
    "start_time": "2022-06-18T19:40:50.441Z"
   },
   {
    "duration": 44,
    "start_time": "2022-06-18T19:41:02.455Z"
   },
   {
    "duration": 83,
    "start_time": "2022-06-18T19:44:08.794Z"
   },
   {
    "duration": 68,
    "start_time": "2022-06-18T19:44:36.336Z"
   },
   {
    "duration": 226,
    "start_time": "2022-06-18T19:47:51.050Z"
   },
   {
    "duration": 3,
    "start_time": "2022-06-18T19:57:01.767Z"
   },
   {
    "duration": 493,
    "start_time": "2022-06-18T19:57:02.470Z"
   },
   {
    "duration": 32,
    "start_time": "2022-06-18T19:57:03.083Z"
   },
   {
    "duration": 386,
    "start_time": "2022-06-18T19:57:04.105Z"
   },
   {
    "duration": 89,
    "start_time": "2022-06-18T19:57:05.384Z"
   },
   {
    "duration": 56,
    "start_time": "2022-06-18T19:57:06.178Z"
   },
   {
    "duration": 80,
    "start_time": "2022-06-18T19:57:07.215Z"
   },
   {
    "duration": 252,
    "start_time": "2022-06-18T19:57:08.360Z"
   },
   {
    "duration": 84,
    "start_time": "2022-06-18T20:08:26.817Z"
   },
   {
    "duration": 96,
    "start_time": "2022-06-18T20:12:07.180Z"
   },
   {
    "duration": 61,
    "start_time": "2022-06-18T20:13:43.006Z"
   },
   {
    "duration": 94,
    "start_time": "2022-06-18T20:14:02.680Z"
   },
   {
    "duration": 113,
    "start_time": "2022-06-18T20:14:31.976Z"
   },
   {
    "duration": 88,
    "start_time": "2022-06-18T20:15:27.388Z"
   },
   {
    "duration": 93,
    "start_time": "2022-06-18T20:15:36.418Z"
   },
   {
    "duration": 90,
    "start_time": "2022-06-18T20:16:58.676Z"
   },
   {
    "duration": 94,
    "start_time": "2022-06-18T20:18:02.102Z"
   },
   {
    "duration": 95,
    "start_time": "2022-06-18T20:34:38.589Z"
   },
   {
    "duration": 115,
    "start_time": "2022-06-18T20:35:00.340Z"
   },
   {
    "duration": 95,
    "start_time": "2022-06-18T20:35:09.647Z"
   },
   {
    "duration": 89,
    "start_time": "2022-06-18T20:35:54.768Z"
   },
   {
    "duration": 89,
    "start_time": "2022-06-18T20:36:04.396Z"
   },
   {
    "duration": 90,
    "start_time": "2022-06-18T20:36:15.683Z"
   },
   {
    "duration": 89,
    "start_time": "2022-06-18T20:38:04.482Z"
   },
   {
    "duration": 78,
    "start_time": "2022-06-18T20:38:28.476Z"
   },
   {
    "duration": 104,
    "start_time": "2022-06-18T20:38:49.637Z"
   },
   {
    "duration": 83,
    "start_time": "2022-06-18T20:40:27.813Z"
   },
   {
    "duration": 87,
    "start_time": "2022-06-18T20:41:57.747Z"
   },
   {
    "duration": 90,
    "start_time": "2022-06-18T20:42:20.060Z"
   },
   {
    "duration": 91,
    "start_time": "2022-06-18T20:43:06.472Z"
   },
   {
    "duration": 89,
    "start_time": "2022-06-18T20:47:11.662Z"
   },
   {
    "duration": 34,
    "start_time": "2022-06-18T20:50:14.248Z"
   },
   {
    "duration": 45,
    "start_time": "2022-06-18T21:42:54.693Z"
   },
   {
    "duration": 16,
    "start_time": "2022-06-18T21:51:16.673Z"
   },
   {
    "duration": 7,
    "start_time": "2022-06-18T21:51:30.845Z"
   },
   {
    "duration": 8,
    "start_time": "2022-06-18T21:52:11.357Z"
   },
   {
    "duration": 17,
    "start_time": "2022-06-18T21:55:50.293Z"
   },
   {
    "duration": 22,
    "start_time": "2022-06-18T21:56:20.408Z"
   },
   {
    "duration": 188,
    "start_time": "2022-06-18T21:56:33.851Z"
   },
   {
    "duration": 197,
    "start_time": "2022-06-18T21:56:43.787Z"
   },
   {
    "duration": 186,
    "start_time": "2022-06-18T21:56:59.295Z"
   },
   {
    "duration": 208,
    "start_time": "2022-06-18T21:57:10.042Z"
   },
   {
    "duration": 22,
    "start_time": "2022-06-18T21:57:19.551Z"
   },
   {
    "duration": 27,
    "start_time": "2022-06-18T21:57:26.975Z"
   },
   {
    "duration": 390,
    "start_time": "2022-06-18T21:57:35.751Z"
   },
   {
    "duration": 454,
    "start_time": "2022-06-18T22:01:16.366Z"
   },
   {
    "duration": 484,
    "start_time": "2022-06-18T22:01:59.156Z"
   },
   {
    "duration": 22,
    "start_time": "2022-06-18T22:02:11.919Z"
   },
   {
    "duration": 15,
    "start_time": "2022-06-18T22:02:17.242Z"
   },
   {
    "duration": 18,
    "start_time": "2022-06-18T22:02:46.178Z"
   },
   {
    "duration": 16,
    "start_time": "2022-06-18T22:06:15.938Z"
   },
   {
    "duration": 18,
    "start_time": "2022-06-18T22:06:42.188Z"
   },
   {
    "duration": 9,
    "start_time": "2022-06-18T22:07:43.270Z"
   },
   {
    "duration": 14,
    "start_time": "2022-06-18T22:08:01.116Z"
   },
   {
    "duration": 44,
    "start_time": "2022-06-18T22:08:10.486Z"
   },
   {
    "duration": 50,
    "start_time": "2022-06-18T22:09:26.250Z"
   },
   {
    "duration": 53,
    "start_time": "2022-06-18T22:09:57.337Z"
   },
   {
    "duration": 34,
    "start_time": "2022-06-18T22:18:19.544Z"
   },
   {
    "duration": 66,
    "start_time": "2022-06-18T22:18:44.692Z"
   },
   {
    "duration": 50,
    "start_time": "2022-06-18T22:21:58.415Z"
   },
   {
    "duration": 55,
    "start_time": "2022-06-18T22:22:57.544Z"
   },
   {
    "duration": 18,
    "start_time": "2022-06-18T22:23:04.721Z"
   },
   {
    "duration": 163,
    "start_time": "2022-06-18T22:23:05.938Z"
   },
   {
    "duration": 1126,
    "start_time": "2022-06-18T22:24:58.738Z"
   },
   {
    "duration": 68,
    "start_time": "2022-06-18T22:25:27.144Z"
   },
   {
    "duration": 88,
    "start_time": "2022-06-18T22:25:52.757Z"
   },
   {
    "duration": 99,
    "start_time": "2022-06-18T22:26:02.545Z"
   },
   {
    "duration": 75,
    "start_time": "2022-06-18T22:26:17.963Z"
   },
   {
    "duration": 60,
    "start_time": "2022-06-18T22:26:23.781Z"
   },
   {
    "duration": 3,
    "start_time": "2022-06-18T22:26:49.840Z"
   },
   {
    "duration": 8,
    "start_time": "2022-06-18T22:26:56.150Z"
   },
   {
    "duration": 17,
    "start_time": "2022-06-18T22:27:14.818Z"
   },
   {
    "duration": 34,
    "start_time": "2022-06-18T22:27:55.118Z"
   },
   {
    "duration": 27,
    "start_time": "2022-06-18T22:28:02.873Z"
   },
   {
    "duration": 27,
    "start_time": "2022-06-18T22:28:23.369Z"
   },
   {
    "duration": 33,
    "start_time": "2022-06-18T22:28:30.224Z"
   },
   {
    "duration": 28,
    "start_time": "2022-06-18T22:29:17.237Z"
   },
   {
    "duration": 34,
    "start_time": "2022-06-18T22:29:28.621Z"
   },
   {
    "duration": 29,
    "start_time": "2022-06-18T22:29:44.693Z"
   },
   {
    "duration": 1063,
    "start_time": "2022-06-18T22:30:23.898Z"
   },
   {
    "duration": 47,
    "start_time": "2022-06-18T22:31:26.442Z"
   },
   {
    "duration": 27,
    "start_time": "2022-06-18T22:31:38.040Z"
   },
   {
    "duration": 47,
    "start_time": "2022-06-18T22:32:58.735Z"
   },
   {
    "duration": 28,
    "start_time": "2022-06-18T22:34:29.337Z"
   },
   {
    "duration": 29,
    "start_time": "2022-06-18T22:35:00.681Z"
   },
   {
    "duration": 39,
    "start_time": "2022-06-18T22:36:27.911Z"
   },
   {
    "duration": 33,
    "start_time": "2022-06-18T22:36:55.241Z"
   },
   {
    "duration": 10,
    "start_time": "2022-06-18T22:37:25.380Z"
   },
   {
    "duration": 10,
    "start_time": "2022-06-18T22:37:35.441Z"
   },
   {
    "duration": 6,
    "start_time": "2022-06-18T22:37:51.142Z"
   },
   {
    "duration": 31,
    "start_time": "2022-06-18T22:38:02.349Z"
   },
   {
    "duration": 135,
    "start_time": "2022-06-18T22:38:25.111Z"
   },
   {
    "duration": 79,
    "start_time": "2022-06-18T22:38:35.689Z"
   },
   {
    "duration": 156,
    "start_time": "2022-06-18T22:38:38.192Z"
   },
   {
    "duration": 187,
    "start_time": "2022-06-18T22:39:17.812Z"
   },
   {
    "duration": 261,
    "start_time": "2022-06-18T22:41:03.279Z"
   },
   {
    "duration": 264,
    "start_time": "2022-06-18T22:41:22.577Z"
   },
   {
    "duration": 375,
    "start_time": "2022-06-20T19:07:12.900Z"
   },
   {
    "duration": 1050,
    "start_time": "2022-06-20T19:07:14.102Z"
   },
   {
    "duration": 45,
    "start_time": "2022-06-20T19:07:15.154Z"
   },
   {
    "duration": 407,
    "start_time": "2022-06-20T19:07:17.090Z"
   },
   {
    "duration": 85,
    "start_time": "2022-06-20T19:07:19.331Z"
   },
   {
    "duration": 79,
    "start_time": "2022-06-20T19:07:59.770Z"
   },
   {
    "duration": 5,
    "start_time": "2022-06-20T19:08:20.674Z"
   },
   {
    "duration": 14,
    "start_time": "2022-06-20T19:08:21.495Z"
   },
   {
    "duration": 12,
    "start_time": "2022-06-20T19:08:32.620Z"
   },
   {
    "duration": 11,
    "start_time": "2022-06-20T19:08:42.078Z"
   },
   {
    "duration": 11,
    "start_time": "2022-06-20T19:09:00.926Z"
   },
   {
    "duration": 290,
    "start_time": "2022-06-20T19:09:08.762Z"
   },
   {
    "duration": 68,
    "start_time": "2022-06-20T19:09:14.866Z"
   },
   {
    "duration": 224,
    "start_time": "2022-06-20T19:09:17.690Z"
   },
   {
    "duration": 3,
    "start_time": "2022-06-20T19:09:20.463Z"
   },
   {
    "duration": 249,
    "start_time": "2022-06-20T19:11:28.394Z"
   },
   {
    "duration": 69,
    "start_time": "2022-06-20T19:16:46.017Z"
   },
   {
    "duration": 254,
    "start_time": "2022-06-20T19:18:25.398Z"
   },
   {
    "duration": 236,
    "start_time": "2022-06-20T19:18:52.846Z"
   },
   {
    "duration": 72,
    "start_time": "2022-06-20T19:18:59.708Z"
   },
   {
    "duration": 239,
    "start_time": "2022-06-20T19:19:16.982Z"
   },
   {
    "duration": 229,
    "start_time": "2022-06-20T19:19:30.402Z"
   },
   {
    "duration": 432,
    "start_time": "2022-06-20T19:21:28.162Z"
   },
   {
    "duration": 426,
    "start_time": "2022-06-20T19:21:34.971Z"
   },
   {
    "duration": 473,
    "start_time": "2022-06-20T19:22:34.579Z"
   },
   {
    "duration": 430,
    "start_time": "2022-06-20T19:27:23.057Z"
   },
   {
    "duration": 221,
    "start_time": "2022-06-20T19:55:17.820Z"
   },
   {
    "duration": 253,
    "start_time": "2022-06-20T19:55:27.668Z"
   },
   {
    "duration": 8,
    "start_time": "2022-06-20T20:16:39.554Z"
   },
   {
    "duration": 46,
    "start_time": "2022-06-20T20:17:32.558Z"
   },
   {
    "duration": 381,
    "start_time": "2022-06-20T20:17:42.818Z"
   },
   {
    "duration": 926,
    "start_time": "2022-06-20T20:17:43.756Z"
   },
   {
    "duration": 42,
    "start_time": "2022-06-20T20:17:44.684Z"
   },
   {
    "duration": 414,
    "start_time": "2022-06-20T20:17:44.728Z"
   },
   {
    "duration": 83,
    "start_time": "2022-06-20T20:17:45.209Z"
   },
   {
    "duration": 4,
    "start_time": "2022-06-20T20:17:45.455Z"
   },
   {
    "duration": 242,
    "start_time": "2022-06-20T20:17:45.676Z"
   },
   {
    "duration": 229,
    "start_time": "2022-06-20T20:17:46.107Z"
   },
   {
    "duration": 397,
    "start_time": "2022-06-20T20:17:46.571Z"
   },
   {
    "duration": 3,
    "start_time": "2022-06-20T20:17:47.002Z"
   },
   {
    "duration": 3,
    "start_time": "2022-06-20T20:17:47.208Z"
   },
   {
    "duration": 2,
    "start_time": "2022-06-20T20:17:47.417Z"
   },
   {
    "duration": 47,
    "start_time": "2022-06-20T20:18:01.463Z"
   },
   {
    "duration": 393,
    "start_time": "2022-06-20T20:18:09.970Z"
   },
   {
    "duration": 26,
    "start_time": "2022-06-20T20:18:20.461Z"
   },
   {
    "duration": 352,
    "start_time": "2022-06-21T18:28:03.470Z"
   },
   {
    "duration": 882,
    "start_time": "2022-06-21T18:28:05.192Z"
   },
   {
    "duration": 36,
    "start_time": "2022-06-21T18:28:06.076Z"
   },
   {
    "duration": 320,
    "start_time": "2022-06-21T18:28:07.582Z"
   },
   {
    "duration": 77,
    "start_time": "2022-06-21T18:28:09.331Z"
   },
   {
    "duration": 4,
    "start_time": "2022-06-21T18:28:10.264Z"
   },
   {
    "duration": 212,
    "start_time": "2022-06-21T18:28:10.885Z"
   },
   {
    "duration": 198,
    "start_time": "2022-06-21T18:28:12.242Z"
   },
   {
    "duration": 382,
    "start_time": "2022-06-21T18:28:13.585Z"
   },
   {
    "duration": 2,
    "start_time": "2022-06-21T18:28:15.085Z"
   },
   {
    "duration": 2,
    "start_time": "2022-06-21T18:28:15.724Z"
   },
   {
    "duration": 2,
    "start_time": "2022-06-21T18:28:19.260Z"
   },
   {
    "duration": 50,
    "start_time": "2022-06-21T18:32:22.747Z"
   },
   {
    "duration": 6,
    "start_time": "2022-06-21T18:32:30.540Z"
   },
   {
    "duration": 6,
    "start_time": "2022-06-21T18:33:30.044Z"
   },
   {
    "duration": 5,
    "start_time": "2022-06-21T18:33:57.218Z"
   },
   {
    "duration": 6,
    "start_time": "2022-06-21T18:34:01.127Z"
   },
   {
    "duration": 421,
    "start_time": "2022-06-21T18:34:25.237Z"
   },
   {
    "duration": 907,
    "start_time": "2022-06-21T18:34:28.319Z"
   },
   {
    "duration": 34,
    "start_time": "2022-06-21T18:34:29.742Z"
   },
   {
    "duration": 309,
    "start_time": "2022-06-21T18:34:33.085Z"
   },
   {
    "duration": 80,
    "start_time": "2022-06-21T18:34:36.765Z"
   },
   {
    "duration": 223,
    "start_time": "2022-06-21T18:35:46.316Z"
   },
   {
    "duration": 196,
    "start_time": "2022-06-21T18:35:56.594Z"
   },
   {
    "duration": 420,
    "start_time": "2022-06-21T18:36:00.895Z"
   },
   {
    "duration": 2,
    "start_time": "2022-06-21T18:36:05.165Z"
   },
   {
    "duration": 2,
    "start_time": "2022-06-21T18:36:05.636Z"
   },
   {
    "duration": 2,
    "start_time": "2022-06-21T18:36:06.185Z"
   },
   {
    "duration": 5,
    "start_time": "2022-06-21T18:36:07.661Z"
   },
   {
    "duration": 73,
    "start_time": "2022-06-21T18:36:14.850Z"
   },
   {
    "duration": 30,
    "start_time": "2022-06-21T18:38:20.024Z"
   },
   {
    "duration": 49,
    "start_time": "2022-06-21T18:38:55.662Z"
   },
   {
    "duration": 44,
    "start_time": "2022-06-21T18:39:30.729Z"
   },
   {
    "duration": 81,
    "start_time": "2022-06-21T19:05:57.383Z"
   },
   {
    "duration": 67,
    "start_time": "2022-06-21T19:07:17.256Z"
   },
   {
    "duration": 62,
    "start_time": "2022-06-21T19:07:38.443Z"
   },
   {
    "duration": 25,
    "start_time": "2022-06-21T19:07:51.660Z"
   },
   {
    "duration": 10,
    "start_time": "2022-06-21T19:08:12.679Z"
   },
   {
    "duration": 6,
    "start_time": "2022-06-21T19:08:19.601Z"
   },
   {
    "duration": 231,
    "start_time": "2022-06-21T19:11:20.556Z"
   },
   {
    "duration": 206,
    "start_time": "2022-06-21T19:11:29.046Z"
   },
   {
    "duration": 115,
    "start_time": "2022-06-21T19:12:14.382Z"
   },
   {
    "duration": 74,
    "start_time": "2022-06-21T19:12:31.820Z"
   },
   {
    "duration": 34,
    "start_time": "2022-06-21T19:13:04.660Z"
   },
   {
    "duration": 47,
    "start_time": "2022-06-21T19:13:15.011Z"
   },
   {
    "duration": 99,
    "start_time": "2022-06-21T19:14:03.156Z"
   },
   {
    "duration": 143,
    "start_time": "2022-06-21T19:14:37.739Z"
   },
   {
    "duration": 38,
    "start_time": "2022-06-21T19:14:47.603Z"
   },
   {
    "duration": 4,
    "start_time": "2022-06-21T19:21:17.625Z"
   },
   {
    "duration": 4,
    "start_time": "2022-06-21T19:21:57.000Z"
   },
   {
    "duration": 27,
    "start_time": "2022-06-21T19:40:48.707Z"
   },
   {
    "duration": 31,
    "start_time": "2022-06-21T19:41:14.321Z"
   },
   {
    "duration": 30,
    "start_time": "2022-06-21T19:41:22.575Z"
   },
   {
    "duration": 29,
    "start_time": "2022-06-21T19:41:28.570Z"
   },
   {
    "duration": 30,
    "start_time": "2022-06-21T19:42:10.020Z"
   },
   {
    "duration": 33,
    "start_time": "2022-06-21T19:42:41.827Z"
   },
   {
    "duration": 402,
    "start_time": "2022-06-21T19:43:24.515Z"
   },
   {
    "duration": 379,
    "start_time": "2022-06-21T19:43:25.702Z"
   },
   {
    "duration": 33,
    "start_time": "2022-06-21T19:43:26.606Z"
   },
   {
    "duration": 320,
    "start_time": "2022-06-21T19:43:28.177Z"
   },
   {
    "duration": 74,
    "start_time": "2022-06-21T19:43:29.878Z"
   },
   {
    "duration": 214,
    "start_time": "2022-06-21T19:43:30.849Z"
   },
   {
    "duration": 225,
    "start_time": "2022-06-21T19:43:31.848Z"
   },
   {
    "duration": 385,
    "start_time": "2022-06-21T19:43:32.877Z"
   },
   {
    "duration": 39,
    "start_time": "2022-06-21T19:43:34.334Z"
   },
   {
    "duration": 3,
    "start_time": "2022-06-21T19:43:35.243Z"
   },
   {
    "duration": 32,
    "start_time": "2022-06-21T19:43:36.526Z"
   },
   {
    "duration": 33,
    "start_time": "2022-06-21T19:43:50.327Z"
   },
   {
    "duration": 33,
    "start_time": "2022-06-21T19:44:40.628Z"
   },
   {
    "duration": 216,
    "start_time": "2022-06-21T19:46:28.111Z"
   },
   {
    "duration": 252,
    "start_time": "2022-06-21T19:47:14.481Z"
   },
   {
    "duration": 368,
    "start_time": "2022-06-21T19:47:50.189Z"
   },
   {
    "duration": 118,
    "start_time": "2022-06-21T19:49:01.346Z"
   },
   {
    "duration": 2,
    "start_time": "2022-06-21T19:49:08.592Z"
   },
   {
    "duration": 340,
    "start_time": "2022-06-21T19:49:09.324Z"
   },
   {
    "duration": 30,
    "start_time": "2022-06-21T19:49:09.677Z"
   },
   {
    "duration": 291,
    "start_time": "2022-06-21T19:49:10.688Z"
   },
   {
    "duration": 69,
    "start_time": "2022-06-21T19:49:11.701Z"
   },
   {
    "duration": 202,
    "start_time": "2022-06-21T19:49:12.634Z"
   },
   {
    "duration": 192,
    "start_time": "2022-06-21T19:49:13.782Z"
   },
   {
    "duration": 344,
    "start_time": "2022-06-21T19:49:14.733Z"
   },
   {
    "duration": 39,
    "start_time": "2022-06-21T19:49:16.149Z"
   },
   {
    "duration": 4,
    "start_time": "2022-06-21T19:49:20.138Z"
   },
   {
    "duration": 35,
    "start_time": "2022-06-21T19:49:31.072Z"
   },
   {
    "duration": 373,
    "start_time": "2022-06-21T19:50:57.320Z"
   },
   {
    "duration": 350,
    "start_time": "2022-06-21T19:50:58.414Z"
   },
   {
    "duration": 33,
    "start_time": "2022-06-21T19:50:58.765Z"
   },
   {
    "duration": 353,
    "start_time": "2022-06-21T19:51:00.144Z"
   },
   {
    "duration": 74,
    "start_time": "2022-06-21T19:51:01.820Z"
   },
   {
    "duration": 206,
    "start_time": "2022-06-21T19:51:03.023Z"
   },
   {
    "duration": 202,
    "start_time": "2022-06-21T19:51:04.149Z"
   },
   {
    "duration": 364,
    "start_time": "2022-06-21T19:51:05.188Z"
   },
   {
    "duration": 40,
    "start_time": "2022-06-21T19:51:06.535Z"
   },
   {
    "duration": 3,
    "start_time": "2022-06-21T19:51:07.826Z"
   },
   {
    "duration": 34,
    "start_time": "2022-06-21T19:51:09.488Z"
   },
   {
    "duration": 229,
    "start_time": "2022-06-21T19:51:43.290Z"
   },
   {
    "duration": 250,
    "start_time": "2022-06-21T19:53:07.138Z"
   },
   {
    "duration": 352,
    "start_time": "2022-06-21T19:55:05.678Z"
   },
   {
    "duration": 28,
    "start_time": "2022-06-21T19:55:06.304Z"
   },
   {
    "duration": 333,
    "start_time": "2022-06-21T19:55:09.669Z"
   },
   {
    "duration": 74,
    "start_time": "2022-06-21T19:55:13.808Z"
   },
   {
    "duration": 217,
    "start_time": "2022-06-21T19:55:16.418Z"
   },
   {
    "duration": 70,
    "start_time": "2022-06-21T19:58:40.009Z"
   },
   {
    "duration": 72,
    "start_time": "2022-06-21T19:58:56.589Z"
   },
   {
    "duration": 233,
    "start_time": "2022-06-21T20:02:27.086Z"
   },
   {
    "duration": 100,
    "start_time": "2022-06-21T20:09:33.735Z"
   },
   {
    "duration": 218,
    "start_time": "2022-06-21T20:09:52.569Z"
   },
   {
    "duration": 54,
    "start_time": "2022-06-21T20:11:59.680Z"
   },
   {
    "duration": 240,
    "start_time": "2022-06-21T20:12:57.316Z"
   },
   {
    "duration": 374,
    "start_time": "2022-06-21T20:14:52.036Z"
   },
   {
    "duration": 309,
    "start_time": "2022-06-21T20:15:51.335Z"
   },
   {
    "duration": 314,
    "start_time": "2022-06-21T20:16:24.074Z"
   },
   {
    "duration": 468,
    "start_time": "2022-06-21T20:17:14.998Z"
   },
   {
    "duration": 470,
    "start_time": "2022-06-21T20:17:32.173Z"
   },
   {
    "duration": 33,
    "start_time": "2022-06-21T20:17:49.034Z"
   },
   {
    "duration": 31,
    "start_time": "2022-06-21T20:19:02.613Z"
   },
   {
    "duration": 696,
    "start_time": "2022-06-21T20:21:17.886Z"
   },
   {
    "duration": 785,
    "start_time": "2022-06-21T20:22:27.106Z"
   },
   {
    "duration": 856,
    "start_time": "2022-06-21T20:22:37.806Z"
   },
   {
    "duration": 37,
    "start_time": "2022-06-21T20:22:58.368Z"
   },
   {
    "duration": 43,
    "start_time": "2022-06-21T20:23:52.570Z"
   },
   {
    "duration": 43,
    "start_time": "2022-06-21T20:26:59.623Z"
   },
   {
    "duration": 43,
    "start_time": "2022-06-21T20:27:11.781Z"
   },
   {
    "duration": 874,
    "start_time": "2022-06-21T20:28:35.526Z"
   },
   {
    "duration": 927,
    "start_time": "2022-06-21T20:28:49.636Z"
   },
   {
    "duration": 835,
    "start_time": "2022-06-21T20:29:03.319Z"
   },
   {
    "duration": 42,
    "start_time": "2022-06-21T20:29:09.808Z"
   },
   {
    "duration": 41,
    "start_time": "2022-06-21T20:29:47.145Z"
   },
   {
    "duration": 393,
    "start_time": "2022-06-21T20:31:27.710Z"
   },
   {
    "duration": 46,
    "start_time": "2022-06-21T20:32:11.687Z"
   },
   {
    "duration": 73,
    "start_time": "2022-06-21T20:32:29.842Z"
   },
   {
    "duration": 46,
    "start_time": "2022-06-21T20:34:48.899Z"
   },
   {
    "duration": 49,
    "start_time": "2022-06-21T20:39:31.847Z"
   },
   {
    "duration": 55,
    "start_time": "2022-06-21T20:41:49.307Z"
   },
   {
    "duration": 73,
    "start_time": "2022-06-21T20:43:14.372Z"
   },
   {
    "duration": 26,
    "start_time": "2022-06-21T20:43:21.615Z"
   },
   {
    "duration": 32,
    "start_time": "2022-06-21T20:43:48.593Z"
   },
   {
    "duration": 52,
    "start_time": "2022-06-21T20:44:18.529Z"
   },
   {
    "duration": 52,
    "start_time": "2022-06-21T20:44:48.012Z"
   },
   {
    "duration": 44,
    "start_time": "2022-06-21T20:45:14.042Z"
   },
   {
    "duration": 48,
    "start_time": "2022-06-21T20:46:13.368Z"
   },
   {
    "duration": 57,
    "start_time": "2022-06-21T20:46:29.373Z"
   },
   {
    "duration": 57,
    "start_time": "2022-06-21T20:46:54.043Z"
   },
   {
    "duration": 449,
    "start_time": "2022-06-21T20:57:16.491Z"
   },
   {
    "duration": 66,
    "start_time": "2022-06-21T21:00:41.767Z"
   },
   {
    "duration": 38,
    "start_time": "2022-06-21T21:02:04.487Z"
   },
   {
    "duration": 68,
    "start_time": "2022-06-21T21:02:16.070Z"
   },
   {
    "duration": 15,
    "start_time": "2022-06-21T21:02:45.976Z"
   },
   {
    "duration": 109,
    "start_time": "2022-06-21T21:05:16.728Z"
   },
   {
    "duration": 10,
    "start_time": "2022-06-21T21:05:23.515Z"
   },
   {
    "duration": 146,
    "start_time": "2022-06-21T21:06:12.967Z"
   },
   {
    "duration": 195,
    "start_time": "2022-06-21T21:06:25.798Z"
   },
   {
    "duration": 112,
    "start_time": "2022-06-21T21:07:01.075Z"
   },
   {
    "duration": 127,
    "start_time": "2022-06-21T21:07:02.691Z"
   },
   {
    "duration": 328,
    "start_time": "2022-06-21T21:09:36.558Z"
   },
   {
    "duration": 306,
    "start_time": "2022-06-21T21:09:57.068Z"
   },
   {
    "duration": 322,
    "start_time": "2022-06-21T21:10:31.564Z"
   },
   {
    "duration": 528,
    "start_time": "2022-06-21T21:10:46.757Z"
   },
   {
    "duration": 44,
    "start_time": "2022-06-21T21:11:05.265Z"
   },
   {
    "duration": 101,
    "start_time": "2022-06-21T21:11:28.920Z"
   },
   {
    "duration": 110,
    "start_time": "2022-06-21T21:11:31.946Z"
   },
   {
    "duration": 118,
    "start_time": "2022-06-21T21:11:35.949Z"
   },
   {
    "duration": 1615,
    "start_time": "2022-06-22T20:36:05.861Z"
   },
   {
    "duration": 1577,
    "start_time": "2022-06-22T20:36:09.742Z"
   },
   {
    "duration": 48,
    "start_time": "2022-06-22T20:36:11.321Z"
   },
   {
    "duration": 442,
    "start_time": "2022-06-22T20:36:35.190Z"
   },
   {
    "duration": 3,
    "start_time": "2022-06-22T20:43:53.573Z"
   },
   {
    "duration": 117,
    "start_time": "2022-06-22T20:45:30.717Z"
   },
   {
    "duration": 4,
    "start_time": "2022-06-22T20:45:39.411Z"
   },
   {
    "duration": 531,
    "start_time": "2022-06-22T20:45:40.255Z"
   },
   {
    "duration": 55,
    "start_time": "2022-06-22T20:45:40.933Z"
   },
   {
    "duration": 472,
    "start_time": "2022-06-22T20:45:42.116Z"
   },
   {
    "duration": 131,
    "start_time": "2022-06-22T20:45:43.463Z"
   },
   {
    "duration": 408,
    "start_time": "2022-06-22T20:45:44.418Z"
   },
   {
    "duration": 458,
    "start_time": "2022-06-22T20:45:45.697Z"
   },
   {
    "duration": 720,
    "start_time": "2022-06-22T20:45:46.801Z"
   },
   {
    "duration": 51,
    "start_time": "2022-06-22T20:45:48.053Z"
   },
   {
    "duration": 5,
    "start_time": "2022-06-22T20:45:49.006Z"
   },
   {
    "duration": 119,
    "start_time": "2022-06-22T20:45:50.163Z"
   },
   {
    "duration": 206,
    "start_time": "2022-06-22T20:45:50.891Z"
   },
   {
    "duration": 204,
    "start_time": "2022-06-22T20:45:51.846Z"
   },
   {
    "duration": 159,
    "start_time": "2022-06-22T20:45:52.521Z"
   },
   {
    "duration": 31,
    "start_time": "2022-06-22T20:45:54.356Z"
   },
   {
    "duration": 1438,
    "start_time": "2022-06-23T18:36:59.667Z"
   },
   {
    "duration": 1140,
    "start_time": "2022-06-23T18:37:02.924Z"
   },
   {
    "duration": 59,
    "start_time": "2022-06-23T18:37:04.258Z"
   },
   {
    "duration": 527,
    "start_time": "2022-06-23T18:37:06.961Z"
   },
   {
    "duration": 130,
    "start_time": "2022-06-23T18:37:09.100Z"
   },
   {
    "duration": 412,
    "start_time": "2022-06-23T18:37:10.444Z"
   },
   {
    "duration": 425,
    "start_time": "2022-06-23T18:37:12.798Z"
   },
   {
    "duration": 654,
    "start_time": "2022-06-23T18:37:14.257Z"
   },
   {
    "duration": 70,
    "start_time": "2022-06-23T18:37:16.000Z"
   },
   {
    "duration": 4,
    "start_time": "2022-06-23T18:37:17.407Z"
   },
   {
    "duration": 140,
    "start_time": "2022-06-23T18:37:18.831Z"
   },
   {
    "duration": 152,
    "start_time": "2022-06-23T18:37:20.025Z"
   },
   {
    "duration": 138,
    "start_time": "2022-06-23T18:37:21.000Z"
   },
   {
    "duration": 154,
    "start_time": "2022-06-23T18:37:21.861Z"
   },
   {
    "duration": 40,
    "start_time": "2022-06-23T18:37:24.065Z"
   },
   {
    "duration": 135,
    "start_time": "2022-06-23T18:42:32.811Z"
   },
   {
    "duration": 50,
    "start_time": "2022-06-23T18:48:03.788Z"
   },
   {
    "duration": 38,
    "start_time": "2022-06-23T18:48:14.011Z"
   },
   {
    "duration": 35,
    "start_time": "2022-06-23T18:49:03.120Z"
   },
   {
    "duration": 40,
    "start_time": "2022-06-23T18:51:08.206Z"
   },
   {
    "duration": 42,
    "start_time": "2022-06-23T18:52:17.565Z"
   },
   {
    "duration": 35,
    "start_time": "2022-06-23T18:53:02.928Z"
   },
   {
    "duration": 372,
    "start_time": "2022-06-23T18:53:47.901Z"
   },
   {
    "duration": 1054,
    "start_time": "2022-06-23T18:55:27.146Z"
   },
   {
    "duration": 1060,
    "start_time": "2022-06-23T18:55:45.063Z"
   },
   {
    "duration": 40,
    "start_time": "2022-06-23T19:08:04.545Z"
   },
   {
    "duration": 50,
    "start_time": "2022-06-23T19:21:44.263Z"
   },
   {
    "duration": 687,
    "start_time": "2022-06-23T19:23:12.489Z"
   },
   {
    "duration": 40,
    "start_time": "2022-06-23T19:23:24.223Z"
   },
   {
    "duration": 32,
    "start_time": "2022-06-23T19:23:31.073Z"
   },
   {
    "duration": 48,
    "start_time": "2022-06-23T19:24:54.136Z"
   },
   {
    "duration": 4,
    "start_time": "2022-06-23T19:24:55.670Z"
   },
   {
    "duration": 93,
    "start_time": "2022-06-23T19:24:55.878Z"
   },
   {
    "duration": 123,
    "start_time": "2022-06-23T19:24:56.058Z"
   },
   {
    "duration": 129,
    "start_time": "2022-06-23T19:24:56.255Z"
   },
   {
    "duration": 190,
    "start_time": "2022-06-23T19:24:56.415Z"
   },
   {
    "duration": 34,
    "start_time": "2022-06-23T19:24:57.955Z"
   },
   {
    "duration": 51,
    "start_time": "2022-06-23T19:25:16.146Z"
   },
   {
    "duration": 4,
    "start_time": "2022-06-23T19:25:16.996Z"
   },
   {
    "duration": 83,
    "start_time": "2022-06-23T19:25:17.191Z"
   },
   {
    "duration": 125,
    "start_time": "2022-06-23T19:25:17.399Z"
   },
   {
    "duration": 130,
    "start_time": "2022-06-23T19:25:17.550Z"
   },
   {
    "duration": 114,
    "start_time": "2022-06-23T19:25:17.803Z"
   },
   {
    "duration": 44,
    "start_time": "2022-06-23T19:25:18.969Z"
   },
   {
    "duration": 48,
    "start_time": "2022-06-23T19:26:06.841Z"
   },
   {
    "duration": 52,
    "start_time": "2022-06-23T19:27:05.804Z"
   },
   {
    "duration": 51,
    "start_time": "2022-06-23T19:27:21.817Z"
   },
   {
    "duration": 57,
    "start_time": "2022-06-23T19:28:37.268Z"
   },
   {
    "duration": 80,
    "start_time": "2022-06-23T19:29:31.988Z"
   },
   {
    "duration": 78,
    "start_time": "2022-06-23T19:29:44.543Z"
   },
   {
    "duration": 83,
    "start_time": "2022-06-23T19:31:12.605Z"
   },
   {
    "duration": 49,
    "start_time": "2022-06-23T19:31:21.415Z"
   },
   {
    "duration": 940,
    "start_time": "2022-06-23T19:32:58.502Z"
   },
   {
    "duration": 54,
    "start_time": "2022-06-23T19:33:45.268Z"
   },
   {
    "duration": 896,
    "start_time": "2022-06-23T19:35:24.714Z"
   },
   {
    "duration": 72,
    "start_time": "2022-06-23T19:36:14.203Z"
   },
   {
    "duration": 4,
    "start_time": "2022-06-23T19:36:15.079Z"
   },
   {
    "duration": 113,
    "start_time": "2022-06-23T19:36:15.472Z"
   },
   {
    "duration": 132,
    "start_time": "2022-06-23T19:36:16.082Z"
   },
   {
    "duration": 145,
    "start_time": "2022-06-23T19:36:16.835Z"
   },
   {
    "duration": 152,
    "start_time": "2022-06-23T19:36:16.981Z"
   },
   {
    "duration": 75,
    "start_time": "2022-06-23T19:36:18.909Z"
   },
   {
    "duration": 28,
    "start_time": "2022-06-23T19:36:22.100Z"
   },
   {
    "duration": 1446,
    "start_time": "2022-06-24T20:27:51.711Z"
   },
   {
    "duration": 1804,
    "start_time": "2022-06-24T20:27:54.938Z"
   },
   {
    "duration": 57,
    "start_time": "2022-06-24T20:27:56.744Z"
   },
   {
    "duration": 405,
    "start_time": "2022-06-24T20:27:58.200Z"
   },
   {
    "duration": 95,
    "start_time": "2022-06-24T20:27:59.391Z"
   },
   {
    "duration": 407,
    "start_time": "2022-06-24T20:28:00.211Z"
   },
   {
    "duration": 373,
    "start_time": "2022-06-24T20:28:01.122Z"
   },
   {
    "duration": 607,
    "start_time": "2022-06-24T20:28:02.154Z"
   },
   {
    "duration": 53,
    "start_time": "2022-06-24T20:28:03.042Z"
   },
   {
    "duration": 5,
    "start_time": "2022-06-24T20:28:04.128Z"
   },
   {
    "duration": 91,
    "start_time": "2022-06-24T20:28:04.684Z"
   },
   {
    "duration": 148,
    "start_time": "2022-06-24T20:28:05.201Z"
   },
   {
    "duration": 143,
    "start_time": "2022-06-24T20:28:05.656Z"
   },
   {
    "duration": 137,
    "start_time": "2022-06-24T20:28:06.018Z"
   },
   {
    "duration": 58,
    "start_time": "2022-06-24T20:28:07.075Z"
   },
   {
    "duration": 28,
    "start_time": "2022-06-24T20:28:07.457Z"
   },
   {
    "duration": 47,
    "start_time": "2022-06-24T20:28:55.686Z"
   },
   {
    "duration": 6,
    "start_time": "2022-06-24T20:31:09.657Z"
   },
   {
    "duration": 34,
    "start_time": "2022-06-24T20:32:42.462Z"
   },
   {
    "duration": 45,
    "start_time": "2022-06-24T20:33:09.508Z"
   },
   {
    "duration": 25,
    "start_time": "2022-06-24T20:33:15.328Z"
   },
   {
    "duration": 36,
    "start_time": "2022-06-24T20:33:23.956Z"
   },
   {
    "duration": 22,
    "start_time": "2022-06-24T20:33:35.363Z"
   },
   {
    "duration": 83,
    "start_time": "2022-06-24T20:33:43.197Z"
   },
   {
    "duration": 18,
    "start_time": "2022-06-24T20:33:48.549Z"
   },
   {
    "duration": 100,
    "start_time": "2022-06-24T20:33:57.741Z"
   },
   {
    "duration": 91,
    "start_time": "2022-06-24T20:34:08.259Z"
   },
   {
    "duration": 80,
    "start_time": "2022-06-24T20:34:10.770Z"
   },
   {
    "duration": 878,
    "start_time": "2022-06-24T20:34:22.032Z"
   },
   {
    "duration": 12,
    "start_time": "2022-06-24T20:35:50.205Z"
   },
   {
    "duration": 223,
    "start_time": "2022-06-24T20:35:55.575Z"
   },
   {
    "duration": 13,
    "start_time": "2022-06-24T20:36:02.448Z"
   },
   {
    "duration": 28,
    "start_time": "2022-06-24T20:36:47.820Z"
   },
   {
    "duration": 23,
    "start_time": "2022-06-24T20:36:52.875Z"
   },
   {
    "duration": 36,
    "start_time": "2022-06-24T20:36:57.965Z"
   },
   {
    "duration": 14,
    "start_time": "2022-06-24T20:37:25.601Z"
   },
   {
    "duration": 776,
    "start_time": "2022-06-24T20:37:51.622Z"
   },
   {
    "duration": 17,
    "start_time": "2022-06-24T20:38:02.281Z"
   },
   {
    "duration": 17,
    "start_time": "2022-06-24T20:38:10.667Z"
   },
   {
    "duration": 22,
    "start_time": "2022-06-24T20:38:19.514Z"
   },
   {
    "duration": 25,
    "start_time": "2022-06-24T20:38:22.909Z"
   },
   {
    "duration": 1536,
    "start_time": "2022-06-24T20:39:10.365Z"
   },
   {
    "duration": 46,
    "start_time": "2022-06-24T20:39:51.779Z"
   },
   {
    "duration": 82,
    "start_time": "2022-06-24T20:40:36.909Z"
   },
   {
    "duration": 58,
    "start_time": "2022-06-24T20:40:42.804Z"
   },
   {
    "duration": 92,
    "start_time": "2022-06-24T20:41:00.950Z"
   },
   {
    "duration": 56,
    "start_time": "2022-06-24T20:41:11.543Z"
   },
   {
    "duration": 67,
    "start_time": "2022-06-24T20:41:17.243Z"
   },
   {
    "duration": 1155,
    "start_time": "2022-06-24T20:41:55.532Z"
   },
   {
    "duration": 36,
    "start_time": "2022-06-24T20:52:06.512Z"
   },
   {
    "duration": 34,
    "start_time": "2022-06-24T20:52:21.218Z"
   },
   {
    "duration": 50,
    "start_time": "2022-06-24T20:52:40.106Z"
   },
   {
    "duration": 38,
    "start_time": "2022-06-24T20:52:46.116Z"
   },
   {
    "duration": 74,
    "start_time": "2022-06-24T20:54:17.307Z"
   },
   {
    "duration": 33,
    "start_time": "2022-06-24T20:54:28.400Z"
   },
   {
    "duration": 33,
    "start_time": "2022-06-24T20:54:38.573Z"
   },
   {
    "duration": 32,
    "start_time": "2022-06-24T20:55:09.406Z"
   },
   {
    "duration": 55,
    "start_time": "2022-06-24T20:55:51.830Z"
   },
   {
    "duration": 1295,
    "start_time": "2022-06-24T20:56:27.933Z"
   },
   {
    "duration": 1278,
    "start_time": "2022-06-24T20:56:38.894Z"
   },
   {
    "duration": 47,
    "start_time": "2022-06-24T20:57:08.063Z"
   },
   {
    "duration": 1170,
    "start_time": "2022-06-24T20:57:11.329Z"
   },
   {
    "duration": 1254,
    "start_time": "2022-06-24T20:57:29.191Z"
   },
   {
    "duration": 25,
    "start_time": "2022-06-24T20:57:45.303Z"
   },
   {
    "duration": 47,
    "start_time": "2022-06-24T20:57:49.958Z"
   },
   {
    "duration": 1623,
    "start_time": "2022-06-25T10:56:20.778Z"
   },
   {
    "duration": 1348,
    "start_time": "2022-06-25T10:56:24.035Z"
   },
   {
    "duration": 39,
    "start_time": "2022-06-25T10:56:25.385Z"
   },
   {
    "duration": 492,
    "start_time": "2022-06-25T10:56:26.808Z"
   },
   {
    "duration": 123,
    "start_time": "2022-06-25T10:56:28.186Z"
   },
   {
    "duration": 410,
    "start_time": "2022-06-25T10:56:29.368Z"
   },
   {
    "duration": 484,
    "start_time": "2022-06-25T10:56:30.811Z"
   },
   {
    "duration": 639,
    "start_time": "2022-06-25T10:56:32.802Z"
   },
   {
    "duration": 81,
    "start_time": "2022-06-25T10:56:34.094Z"
   },
   {
    "duration": 5,
    "start_time": "2022-06-25T10:56:34.958Z"
   },
   {
    "duration": 136,
    "start_time": "2022-06-25T10:56:35.908Z"
   },
   {
    "duration": 156,
    "start_time": "2022-06-25T10:56:36.787Z"
   },
   {
    "duration": 200,
    "start_time": "2022-06-25T10:56:37.861Z"
   },
   {
    "duration": 142,
    "start_time": "2022-06-25T10:56:38.556Z"
   },
   {
    "duration": 31,
    "start_time": "2022-06-25T10:56:40.394Z"
   },
   {
    "duration": 24,
    "start_time": "2022-06-25T10:56:41.058Z"
   },
   {
    "duration": 76,
    "start_time": "2022-06-25T10:56:41.635Z"
   },
   {
    "duration": 34,
    "start_time": "2022-06-25T10:56:42.361Z"
   },
   {
    "duration": 27,
    "start_time": "2022-06-25T10:57:02.212Z"
   },
   {
    "duration": 12,
    "start_time": "2022-06-25T10:58:36.650Z"
   },
   {
    "duration": 33,
    "start_time": "2022-06-25T11:02:51.122Z"
   },
   {
    "duration": 46,
    "start_time": "2022-06-25T11:03:08.623Z"
   },
   {
    "duration": 30,
    "start_time": "2022-06-25T11:03:39.586Z"
   },
   {
    "duration": 30,
    "start_time": "2022-06-25T11:13:49.671Z"
   },
   {
    "duration": 1295,
    "start_time": "2022-06-25T22:01:58.055Z"
   },
   {
    "duration": 1396,
    "start_time": "2022-06-25T22:02:00.254Z"
   },
   {
    "duration": 48,
    "start_time": "2022-06-25T22:02:01.652Z"
   },
   {
    "duration": 419,
    "start_time": "2022-06-25T22:02:02.779Z"
   },
   {
    "duration": 84,
    "start_time": "2022-06-25T22:02:03.929Z"
   },
   {
    "duration": 335,
    "start_time": "2022-06-25T22:02:04.785Z"
   },
   {
    "duration": 367,
    "start_time": "2022-06-25T22:02:05.928Z"
   },
   {
    "duration": 646,
    "start_time": "2022-06-25T22:02:06.870Z"
   },
   {
    "duration": 58,
    "start_time": "2022-06-25T22:02:08.312Z"
   },
   {
    "duration": 4,
    "start_time": "2022-06-25T22:02:08.953Z"
   },
   {
    "duration": 104,
    "start_time": "2022-06-25T22:02:09.409Z"
   },
   {
    "duration": 145,
    "start_time": "2022-06-25T22:02:10.079Z"
   },
   {
    "duration": 149,
    "start_time": "2022-06-25T22:02:10.698Z"
   },
   {
    "duration": 132,
    "start_time": "2022-06-25T22:02:11.166Z"
   },
   {
    "duration": 50,
    "start_time": "2022-06-25T22:02:12.834Z"
   },
   {
    "duration": 20,
    "start_time": "2022-06-25T22:02:13.434Z"
   },
   {
    "duration": 38,
    "start_time": "2022-06-25T22:02:13.972Z"
   },
   {
    "duration": 27,
    "start_time": "2022-06-25T22:02:15.829Z"
   },
   {
    "duration": 163,
    "start_time": "2022-06-25T22:02:55.954Z"
   },
   {
    "duration": 43,
    "start_time": "2022-06-25T22:02:59.744Z"
   },
   {
    "duration": 1178,
    "start_time": "2022-06-27T19:26:20.909Z"
   },
   {
    "duration": 705,
    "start_time": "2022-06-27T19:26:22.089Z"
   },
   {
    "duration": 37,
    "start_time": "2022-06-27T19:26:22.796Z"
   },
   {
    "duration": 338,
    "start_time": "2022-06-27T19:26:24.738Z"
   },
   {
    "duration": 105,
    "start_time": "2022-06-27T19:26:25.459Z"
   },
   {
    "duration": 338,
    "start_time": "2022-06-27T19:26:26.124Z"
   },
   {
    "duration": 339,
    "start_time": "2022-06-27T19:26:26.778Z"
   },
   {
    "duration": 558,
    "start_time": "2022-06-27T19:26:27.431Z"
   },
   {
    "duration": 52,
    "start_time": "2022-06-27T19:26:28.089Z"
   },
   {
    "duration": 4,
    "start_time": "2022-06-27T19:26:28.739Z"
   },
   {
    "duration": 104,
    "start_time": "2022-06-27T19:26:29.059Z"
   },
   {
    "duration": 129,
    "start_time": "2022-06-27T19:26:29.360Z"
   },
   {
    "duration": 130,
    "start_time": "2022-06-27T19:26:29.704Z"
   },
   {
    "duration": 135,
    "start_time": "2022-06-27T19:26:30.117Z"
   },
   {
    "duration": 33,
    "start_time": "2022-06-27T19:26:31.483Z"
   },
   {
    "duration": 22,
    "start_time": "2022-06-27T19:26:32.064Z"
   },
   {
    "duration": 43,
    "start_time": "2022-06-27T19:26:32.563Z"
   },
   {
    "duration": 27,
    "start_time": "2022-06-27T19:26:33.065Z"
   },
   {
    "duration": 46,
    "start_time": "2022-06-27T19:33:50.033Z"
   },
   {
    "duration": 173,
    "start_time": "2022-06-27T19:34:00.745Z"
   },
   {
    "duration": 48,
    "start_time": "2022-06-27T19:34:59.465Z"
   },
   {
    "duration": 81,
    "start_time": "2022-06-27T19:35:33.360Z"
   },
   {
    "duration": 906,
    "start_time": "2022-06-27T19:36:02.135Z"
   },
   {
    "duration": 51,
    "start_time": "2022-06-27T19:36:42.499Z"
   },
   {
    "duration": 778,
    "start_time": "2022-06-27T19:36:49.812Z"
   },
   {
    "duration": 625,
    "start_time": "2022-06-27T19:37:17.010Z"
   },
   {
    "duration": 47,
    "start_time": "2022-06-27T19:37:24.805Z"
   },
   {
    "duration": 4,
    "start_time": "2022-06-27T19:37:25.617Z"
   },
   {
    "duration": 122,
    "start_time": "2022-06-27T19:37:25.834Z"
   },
   {
    "duration": 139,
    "start_time": "2022-06-27T19:37:26.070Z"
   },
   {
    "duration": 142,
    "start_time": "2022-06-27T19:37:26.779Z"
   },
   {
    "duration": 211,
    "start_time": "2022-06-27T19:37:26.951Z"
   },
   {
    "duration": 42,
    "start_time": "2022-06-27T19:37:31.667Z"
   },
   {
    "duration": 22,
    "start_time": "2022-06-27T19:37:40.742Z"
   },
   {
    "duration": 41,
    "start_time": "2022-06-27T19:37:41.873Z"
   },
   {
    "duration": 6,
    "start_time": "2022-06-27T19:38:21.466Z"
   },
   {
    "duration": 23,
    "start_time": "2022-06-27T19:39:42.272Z"
   },
   {
    "duration": 29,
    "start_time": "2022-06-27T19:39:48.977Z"
   },
   {
    "duration": 9,
    "start_time": "2022-06-27T19:40:17.273Z"
   },
   {
    "duration": 45,
    "start_time": "2022-06-27T19:40:23.395Z"
   },
   {
    "duration": 4,
    "start_time": "2022-06-27T19:40:24.919Z"
   },
   {
    "duration": 116,
    "start_time": "2022-06-27T19:40:25.168Z"
   },
   {
    "duration": 111,
    "start_time": "2022-06-27T19:40:25.395Z"
   },
   {
    "duration": 116,
    "start_time": "2022-06-27T19:40:25.822Z"
   },
   {
    "duration": 129,
    "start_time": "2022-06-27T19:40:26.036Z"
   },
   {
    "duration": 30,
    "start_time": "2022-06-27T19:40:29.223Z"
   },
   {
    "duration": 23,
    "start_time": "2022-06-27T19:40:29.699Z"
   },
   {
    "duration": 48,
    "start_time": "2022-06-27T19:40:34.767Z"
   },
   {
    "duration": 14,
    "start_time": "2022-06-27T19:41:02.253Z"
   },
   {
    "duration": 8,
    "start_time": "2022-06-27T19:41:15.186Z"
   },
   {
    "duration": 14,
    "start_time": "2022-06-27T19:41:30.170Z"
   },
   {
    "duration": 13,
    "start_time": "2022-06-27T19:42:58.819Z"
   },
   {
    "duration": 26,
    "start_time": "2022-06-27T19:43:13.110Z"
   },
   {
    "duration": 46,
    "start_time": "2022-06-27T19:43:39.928Z"
   },
   {
    "duration": 5,
    "start_time": "2022-06-27T19:43:40.664Z"
   },
   {
    "duration": 114,
    "start_time": "2022-06-27T19:43:40.953Z"
   },
   {
    "duration": 124,
    "start_time": "2022-06-27T19:43:41.282Z"
   },
   {
    "duration": 133,
    "start_time": "2022-06-27T19:43:41.620Z"
   },
   {
    "duration": 118,
    "start_time": "2022-06-27T19:43:41.916Z"
   },
   {
    "duration": 36,
    "start_time": "2022-06-27T19:43:43.629Z"
   },
   {
    "duration": 23,
    "start_time": "2022-06-27T19:43:44.264Z"
   },
   {
    "duration": 42,
    "start_time": "2022-06-27T19:43:44.864Z"
   },
   {
    "duration": 27,
    "start_time": "2022-06-27T19:43:45.676Z"
   },
   {
    "duration": 11,
    "start_time": "2022-06-27T19:43:46.320Z"
   },
   {
    "duration": 12,
    "start_time": "2022-06-27T19:44:07.541Z"
   },
   {
    "duration": 28,
    "start_time": "2022-06-27T19:44:50.677Z"
   },
   {
    "duration": 32,
    "start_time": "2022-06-27T19:45:17.268Z"
   },
   {
    "duration": 32,
    "start_time": "2022-06-27T19:45:32.402Z"
   },
   {
    "duration": 374,
    "start_time": "2022-06-27T19:45:56.370Z"
   },
   {
    "duration": 29,
    "start_time": "2022-06-27T19:46:02.268Z"
   },
   {
    "duration": 29,
    "start_time": "2022-06-27T19:46:08.156Z"
   },
   {
    "duration": 30,
    "start_time": "2022-06-27T19:46:17.893Z"
   },
   {
    "duration": 24,
    "start_time": "2022-06-27T19:46:35.581Z"
   },
   {
    "duration": 6,
    "start_time": "2022-06-27T19:47:56.962Z"
   },
   {
    "duration": 46,
    "start_time": "2022-06-27T20:36:01.163Z"
   },
   {
    "duration": 28,
    "start_time": "2022-06-27T20:36:03.905Z"
   },
   {
    "duration": 20,
    "start_time": "2022-06-27T20:36:43.424Z"
   },
   {
    "duration": 6,
    "start_time": "2022-06-27T20:39:07.427Z"
   },
   {
    "duration": 10,
    "start_time": "2022-06-27T20:39:19.467Z"
   },
   {
    "duration": 43,
    "start_time": "2022-06-27T20:39:23.793Z"
   },
   {
    "duration": 30,
    "start_time": "2022-06-27T20:39:24.392Z"
   },
   {
    "duration": 5,
    "start_time": "2022-06-27T20:39:24.999Z"
   },
   {
    "duration": 44,
    "start_time": "2022-06-27T20:39:49.229Z"
   },
   {
    "duration": 28,
    "start_time": "2022-06-27T20:39:49.639Z"
   },
   {
    "duration": 22,
    "start_time": "2022-06-27T20:39:50.030Z"
   },
   {
    "duration": 46,
    "start_time": "2022-06-27T20:40:45.806Z"
   },
   {
    "duration": 31,
    "start_time": "2022-06-27T20:40:46.290Z"
   },
   {
    "duration": 22,
    "start_time": "2022-06-27T20:40:46.786Z"
   },
   {
    "duration": 35,
    "start_time": "2022-06-27T20:40:55.206Z"
   },
   {
    "duration": 744,
    "start_time": "2022-06-27T20:42:17.864Z"
   },
   {
    "duration": 44,
    "start_time": "2022-06-27T20:42:50.497Z"
   },
   {
    "duration": 29,
    "start_time": "2022-06-27T20:42:50.961Z"
   },
   {
    "duration": 33,
    "start_time": "2022-06-27T20:42:51.452Z"
   },
   {
    "duration": 51,
    "start_time": "2022-06-27T20:42:52.806Z"
   },
   {
    "duration": 42,
    "start_time": "2022-06-27T20:45:03.402Z"
   },
   {
    "duration": 29,
    "start_time": "2022-06-27T20:45:03.802Z"
   },
   {
    "duration": 22,
    "start_time": "2022-06-27T20:45:04.206Z"
   },
   {
    "duration": 63,
    "start_time": "2022-06-27T20:45:06.134Z"
   },
   {
    "duration": 49,
    "start_time": "2022-06-27T20:45:16.130Z"
   },
   {
    "duration": 30,
    "start_time": "2022-06-27T20:45:16.538Z"
   },
   {
    "duration": 23,
    "start_time": "2022-06-27T20:45:16.892Z"
   },
   {
    "duration": 62,
    "start_time": "2022-06-27T20:45:17.472Z"
   },
   {
    "duration": 44,
    "start_time": "2022-06-27T20:45:41.096Z"
   },
   {
    "duration": 29,
    "start_time": "2022-06-27T20:45:41.443Z"
   },
   {
    "duration": 21,
    "start_time": "2022-06-27T20:45:41.839Z"
   },
   {
    "duration": 13,
    "start_time": "2022-06-27T20:45:42.382Z"
   },
   {
    "duration": 18,
    "start_time": "2022-06-27T20:46:15.238Z"
   },
   {
    "duration": 71,
    "start_time": "2022-06-27T20:46:54.913Z"
   },
   {
    "duration": 29,
    "start_time": "2022-06-27T20:47:03.781Z"
   },
   {
    "duration": 41,
    "start_time": "2022-06-27T20:47:27.389Z"
   },
   {
    "duration": 79,
    "start_time": "2022-06-27T20:47:37.904Z"
   },
   {
    "duration": 32,
    "start_time": "2022-06-27T20:47:38.497Z"
   },
   {
    "duration": 11,
    "start_time": "2022-06-27T20:48:13.781Z"
   },
   {
    "duration": 22,
    "start_time": "2022-06-27T20:48:41.530Z"
   },
   {
    "duration": 86,
    "start_time": "2022-06-27T20:50:15.189Z"
   },
   {
    "duration": 28,
    "start_time": "2022-06-27T20:50:15.751Z"
   },
   {
    "duration": 11,
    "start_time": "2022-06-27T20:50:17.253Z"
   },
   {
    "duration": 25,
    "start_time": "2022-06-27T20:50:18.866Z"
   },
   {
    "duration": 96,
    "start_time": "2022-06-27T20:50:35.247Z"
   },
   {
    "duration": 31,
    "start_time": "2022-06-27T20:50:35.799Z"
   },
   {
    "duration": 13,
    "start_time": "2022-06-27T20:50:37.283Z"
   },
   {
    "duration": 24,
    "start_time": "2022-06-27T20:50:43.976Z"
   },
   {
    "duration": 6,
    "start_time": "2022-06-27T20:50:57.653Z"
   },
   {
    "duration": 4,
    "start_time": "2022-06-27T20:51:11.059Z"
   },
   {
    "duration": 6,
    "start_time": "2022-06-27T20:51:20.382Z"
   },
   {
    "duration": 19,
    "start_time": "2022-06-27T20:52:58.641Z"
   },
   {
    "duration": 7,
    "start_time": "2022-06-27T20:53:11.260Z"
   },
   {
    "duration": 4,
    "start_time": "2022-06-27T20:53:38.863Z"
   },
   {
    "duration": 10,
    "start_time": "2022-06-27T20:53:47.862Z"
   },
   {
    "duration": 14,
    "start_time": "2022-06-27T20:54:31.150Z"
   },
   {
    "duration": 66,
    "start_time": "2022-06-27T20:58:42.728Z"
   },
   {
    "duration": 73,
    "start_time": "2022-06-27T20:58:44.995Z"
   },
   {
    "duration": 31,
    "start_time": "2022-06-27T20:58:50.900Z"
   },
   {
    "duration": 14,
    "start_time": "2022-06-27T20:59:20.529Z"
   },
   {
    "duration": 12,
    "start_time": "2022-06-27T20:59:26.681Z"
   },
   {
    "duration": 5,
    "start_time": "2022-06-27T20:59:33.924Z"
   },
   {
    "duration": 8,
    "start_time": "2022-06-27T20:59:49.991Z"
   },
   {
    "duration": 5,
    "start_time": "2022-06-27T21:01:36.280Z"
   },
   {
    "duration": 5,
    "start_time": "2022-06-27T21:01:51.695Z"
   },
   {
    "duration": 9,
    "start_time": "2022-06-27T21:02:15.122Z"
   },
   {
    "duration": 45,
    "start_time": "2022-06-27T21:02:32.341Z"
   },
   {
    "duration": 6,
    "start_time": "2022-06-27T21:02:35.421Z"
   },
   {
    "duration": 5,
    "start_time": "2022-06-27T21:03:06.278Z"
   },
   {
    "duration": 5,
    "start_time": "2022-06-27T21:03:13.262Z"
   },
   {
    "duration": 3,
    "start_time": "2022-06-27T21:04:53.815Z"
   },
   {
    "duration": 7,
    "start_time": "2022-06-27T21:06:25.195Z"
   },
   {
    "duration": 47,
    "start_time": "2022-06-27T21:09:10.782Z"
   },
   {
    "duration": 66,
    "start_time": "2022-06-27T21:09:43.943Z"
   },
   {
    "duration": 283,
    "start_time": "2022-06-27T21:12:05.214Z"
   },
   {
    "duration": 8,
    "start_time": "2022-06-27T21:13:38.036Z"
   },
   {
    "duration": 6,
    "start_time": "2022-06-27T21:17:07.080Z"
   },
   {
    "duration": 8,
    "start_time": "2022-06-27T21:17:24.548Z"
   },
   {
    "duration": 51,
    "start_time": "2022-06-27T21:17:42.760Z"
   },
   {
    "duration": 8,
    "start_time": "2022-06-27T21:17:46.097Z"
   },
   {
    "duration": 11,
    "start_time": "2022-06-27T21:18:39.150Z"
   },
   {
    "duration": 11,
    "start_time": "2022-06-27T21:18:48.533Z"
   },
   {
    "duration": 53,
    "start_time": "2022-06-27T21:23:14.286Z"
   },
   {
    "duration": 14,
    "start_time": "2022-06-27T21:23:30.738Z"
   },
   {
    "duration": 64,
    "start_time": "2022-06-27T21:24:11.630Z"
   },
   {
    "duration": 69,
    "start_time": "2022-06-27T21:24:21.279Z"
   },
   {
    "duration": 52,
    "start_time": "2022-06-27T21:25:16.838Z"
   },
   {
    "duration": 74,
    "start_time": "2022-06-27T21:25:28.991Z"
   },
   {
    "duration": 76,
    "start_time": "2022-06-27T21:26:43.546Z"
   },
   {
    "duration": 71,
    "start_time": "2022-06-27T21:26:51.179Z"
   },
   {
    "duration": 32,
    "start_time": "2022-06-27T21:26:52.156Z"
   },
   {
    "duration": 14,
    "start_time": "2022-06-27T21:26:53.221Z"
   },
   {
    "duration": 6,
    "start_time": "2022-06-27T21:26:54.023Z"
   },
   {
    "duration": 3,
    "start_time": "2022-06-27T21:26:55.566Z"
   },
   {
    "duration": 327,
    "start_time": "2022-06-27T21:26:56.635Z"
   },
   {
    "duration": 70,
    "start_time": "2022-06-27T21:26:59.648Z"
   },
   {
    "duration": 70,
    "start_time": "2022-06-27T21:29:53.479Z"
   },
   {
    "duration": 69,
    "start_time": "2022-06-27T21:30:09.828Z"
   },
   {
    "duration": 69,
    "start_time": "2022-06-27T21:30:24.906Z"
   },
   {
    "duration": 70,
    "start_time": "2022-06-27T21:30:47.362Z"
   },
   {
    "duration": 75,
    "start_time": "2022-06-27T21:30:55.080Z"
   },
   {
    "duration": 32,
    "start_time": "2022-06-27T21:30:55.646Z"
   },
   {
    "duration": 15,
    "start_time": "2022-06-27T21:30:56.582Z"
   },
   {
    "duration": 6,
    "start_time": "2022-06-27T21:30:57.280Z"
   },
   {
    "duration": 3,
    "start_time": "2022-06-27T21:30:58.005Z"
   },
   {
    "duration": 252,
    "start_time": "2022-06-27T21:30:58.630Z"
   },
   {
    "duration": 64,
    "start_time": "2022-06-27T21:31:00.300Z"
   },
   {
    "duration": 64,
    "start_time": "2022-06-27T21:31:21.553Z"
   },
   {
    "duration": 69,
    "start_time": "2022-06-27T21:31:36.846Z"
   },
   {
    "duration": 74,
    "start_time": "2022-06-27T21:32:12.093Z"
   },
   {
    "duration": 78,
    "start_time": "2022-06-27T21:32:18.056Z"
   },
   {
    "duration": 72,
    "start_time": "2022-06-27T21:32:55.979Z"
   },
   {
    "duration": 4308,
    "start_time": "2022-06-27T21:33:49.763Z"
   },
   {
    "duration": 4344,
    "start_time": "2022-06-27T21:34:20.873Z"
   },
   {
    "duration": 4601,
    "start_time": "2022-06-27T21:34:32.455Z"
   },
   {
    "duration": 65,
    "start_time": "2022-06-27T21:34:48.878Z"
   },
   {
    "duration": 74,
    "start_time": "2022-06-27T21:34:58.726Z"
   },
   {
    "duration": 73463,
    "start_time": "2022-06-27T21:38:27.377Z"
   },
   {
    "duration": 66,
    "start_time": "2022-06-27T21:39:49.791Z"
   },
   {
    "duration": 31,
    "start_time": "2022-06-27T21:39:50.364Z"
   },
   {
    "duration": 14,
    "start_time": "2022-06-27T21:39:51.077Z"
   },
   {
    "duration": 5,
    "start_time": "2022-06-27T21:39:51.708Z"
   },
   {
    "duration": 3,
    "start_time": "2022-06-27T21:39:54.240Z"
   },
   {
    "duration": 10,
    "start_time": "2022-06-27T21:40:38.922Z"
   },
   {
    "duration": 13,
    "start_time": "2022-06-27T21:40:57.377Z"
   },
   {
    "duration": 255,
    "start_time": "2022-06-27T21:41:25.602Z"
   },
   {
    "duration": 487,
    "start_time": "2022-06-27T21:42:51.694Z"
   },
   {
    "duration": 405,
    "start_time": "2022-06-27T21:43:18.325Z"
   },
   {
    "duration": 386,
    "start_time": "2022-06-27T21:43:25.805Z"
   },
   {
    "duration": 413,
    "start_time": "2022-06-27T21:43:32.783Z"
   },
   {
    "duration": 669,
    "start_time": "2022-06-27T21:44:32.726Z"
   },
   {
    "duration": 625,
    "start_time": "2022-06-27T21:45:25.889Z"
   },
   {
    "duration": 630,
    "start_time": "2022-06-27T21:45:51.129Z"
   },
   {
    "duration": 412,
    "start_time": "2022-06-27T21:46:19.565Z"
   },
   {
    "duration": 678,
    "start_time": "2022-06-27T21:47:39.288Z"
   },
   {
    "duration": 429,
    "start_time": "2022-06-27T21:47:55.132Z"
   },
   {
    "duration": 69,
    "start_time": "2022-06-27T21:53:43.615Z"
   },
   {
    "duration": 65,
    "start_time": "2022-06-27T21:54:03.691Z"
   },
   {
    "duration": 73,
    "start_time": "2022-06-27T21:54:12.725Z"
   },
   {
    "duration": 66,
    "start_time": "2022-06-27T21:55:01.776Z"
   },
   {
    "duration": 28,
    "start_time": "2022-06-27T21:55:01.945Z"
   },
   {
    "duration": 14,
    "start_time": "2022-06-27T21:55:06.319Z"
   },
   {
    "duration": 6,
    "start_time": "2022-06-27T21:55:08.123Z"
   },
   {
    "duration": 3,
    "start_time": "2022-06-27T21:55:08.775Z"
   },
   {
    "duration": 319,
    "start_time": "2022-06-27T21:55:12.439Z"
   },
   {
    "duration": 218,
    "start_time": "2022-06-27T21:55:21.229Z"
   },
   {
    "duration": 195,
    "start_time": "2022-06-27T21:56:59.808Z"
   },
   {
    "duration": 220,
    "start_time": "2022-06-27T21:57:35.014Z"
   },
   {
    "duration": 487,
    "start_time": "2022-06-27T21:58:01.857Z"
   },
   {
    "duration": 67,
    "start_time": "2022-06-27T21:58:18.946Z"
   },
   {
    "duration": 30,
    "start_time": "2022-06-27T21:58:19.478Z"
   },
   {
    "duration": 13,
    "start_time": "2022-06-27T21:58:20.366Z"
   },
   {
    "duration": 6,
    "start_time": "2022-06-27T21:58:20.849Z"
   },
   {
    "duration": 3,
    "start_time": "2022-06-27T21:58:22.081Z"
   },
   {
    "duration": 248,
    "start_time": "2022-06-27T21:58:22.910Z"
   },
   {
    "duration": 544,
    "start_time": "2022-06-27T21:58:25.009Z"
   },
   {
    "duration": 525,
    "start_time": "2022-06-27T21:58:38.528Z"
   },
   {
    "duration": 522,
    "start_time": "2022-06-27T21:59:09.576Z"
   },
   {
    "duration": 503,
    "start_time": "2022-06-27T21:59:18.698Z"
   },
   {
    "duration": 55,
    "start_time": "2022-06-27T22:00:13.517Z"
   },
   {
    "duration": 540,
    "start_time": "2022-06-27T22:00:20.161Z"
   },
   {
    "duration": 330,
    "start_time": "2022-06-27T22:12:02.865Z"
   },
   {
    "duration": 3,
    "start_time": "2022-06-27T22:17:19.309Z"
   },
   {
    "duration": 351,
    "start_time": "2022-06-27T22:17:20.752Z"
   },
   {
    "duration": 33,
    "start_time": "2022-06-27T22:17:21.979Z"
   },
   {
    "duration": 354,
    "start_time": "2022-06-27T22:17:24.855Z"
   },
   {
    "duration": 78,
    "start_time": "2022-06-27T22:17:26.858Z"
   },
   {
    "duration": 338,
    "start_time": "2022-06-27T22:17:29.714Z"
   },
   {
    "duration": 392,
    "start_time": "2022-06-27T22:17:31.593Z"
   },
   {
    "duration": 506,
    "start_time": "2022-06-27T22:17:33.690Z"
   },
   {
    "duration": 49,
    "start_time": "2022-06-27T22:17:35.668Z"
   },
   {
    "duration": 4,
    "start_time": "2022-06-27T22:17:59.608Z"
   },
   {
    "duration": 62,
    "start_time": "2022-06-27T22:19:18.187Z"
   },
   {
    "duration": 20,
    "start_time": "2022-06-27T22:20:05.984Z"
   },
   {
    "duration": 49,
    "start_time": "2022-06-27T22:20:47.338Z"
   },
   {
    "duration": 59,
    "start_time": "2022-06-27T22:20:51.191Z"
   },
   {
    "duration": 41,
    "start_time": "2022-06-27T22:22:53.991Z"
   },
   {
    "duration": 22,
    "start_time": "2022-06-27T22:23:03.472Z"
   },
   {
    "duration": 20,
    "start_time": "2022-06-27T22:23:05.632Z"
   },
   {
    "duration": 67,
    "start_time": "2022-06-27T22:31:26.960Z"
   },
   {
    "duration": 63,
    "start_time": "2022-06-27T22:31:35.801Z"
   },
   {
    "duration": 62,
    "start_time": "2022-06-27T22:32:19.304Z"
   },
   {
    "duration": 1352,
    "start_time": "2022-06-28T16:36:38.219Z"
   },
   {
    "duration": 1269,
    "start_time": "2022-06-28T16:36:41.141Z"
   },
   {
    "duration": 45,
    "start_time": "2022-06-28T16:36:42.423Z"
   },
   {
    "duration": 354,
    "start_time": "2022-06-28T16:36:45.007Z"
   },
   {
    "duration": 358,
    "start_time": "2022-06-28T16:37:43.913Z"
   },
   {
    "duration": 323,
    "start_time": "2022-06-28T16:37:52.483Z"
   },
   {
    "duration": 456,
    "start_time": "2022-06-28T16:39:15.233Z"
   },
   {
    "duration": 341,
    "start_time": "2022-06-28T16:39:55.984Z"
   },
   {
    "duration": 230,
    "start_time": "2022-06-28T16:40:25.355Z"
   },
   {
    "duration": 125,
    "start_time": "2022-06-28T16:40:55.000Z"
   },
   {
    "duration": 79,
    "start_time": "2022-06-28T16:41:04.122Z"
   },
   {
    "duration": 77,
    "start_time": "2022-06-28T16:41:12.085Z"
   },
   {
    "duration": 417,
    "start_time": "2022-06-28T16:42:20.695Z"
   },
   {
    "duration": 406,
    "start_time": "2022-06-28T16:42:37.066Z"
   },
   {
    "duration": 552,
    "start_time": "2022-06-28T16:43:30.098Z"
   },
   {
    "duration": 155,
    "start_time": "2022-06-28T16:44:04.139Z"
   },
   {
    "duration": 99,
    "start_time": "2022-06-28T16:51:33.250Z"
   },
   {
    "duration": 74,
    "start_time": "2022-06-28T16:52:25.531Z"
   },
   {
    "duration": 121,
    "start_time": "2022-06-28T16:57:43.932Z"
   },
   {
    "duration": 75,
    "start_time": "2022-06-28T17:00:27.216Z"
   },
   {
    "duration": 127,
    "start_time": "2022-06-28T17:03:25.791Z"
   },
   {
    "duration": 44,
    "start_time": "2022-06-28T17:03:41.646Z"
   },
   {
    "duration": 75,
    "start_time": "2022-06-28T17:03:55.893Z"
   },
   {
    "duration": 6,
    "start_time": "2022-06-28T17:05:20.711Z"
   },
   {
    "duration": 78,
    "start_time": "2022-06-28T17:05:33.321Z"
   },
   {
    "duration": 43,
    "start_time": "2022-06-28T17:07:47.914Z"
   },
   {
    "duration": 47,
    "start_time": "2022-06-28T17:08:29.979Z"
   },
   {
    "duration": 45,
    "start_time": "2022-06-28T17:11:02.978Z"
   },
   {
    "duration": 57,
    "start_time": "2022-06-28T17:11:39.769Z"
   },
   {
    "duration": 22,
    "start_time": "2022-06-28T17:13:34.273Z"
   },
   {
    "duration": 97,
    "start_time": "2022-06-28T17:14:20.831Z"
   },
   {
    "duration": 97,
    "start_time": "2022-06-28T17:14:54.417Z"
   },
   {
    "duration": 29,
    "start_time": "2022-06-28T17:15:08.614Z"
   },
   {
    "duration": 23,
    "start_time": "2022-06-28T17:15:24.620Z"
   },
   {
    "duration": 23,
    "start_time": "2022-06-28T17:15:31.705Z"
   },
   {
    "duration": 29,
    "start_time": "2022-06-28T17:15:48.424Z"
   },
   {
    "duration": 39,
    "start_time": "2022-06-28T17:17:46.468Z"
   },
   {
    "duration": 23,
    "start_time": "2022-06-28T17:18:00.803Z"
   },
   {
    "duration": 22,
    "start_time": "2022-06-28T17:21:16.005Z"
   },
   {
    "duration": 20,
    "start_time": "2022-06-28T17:23:06.089Z"
   },
   {
    "duration": 29,
    "start_time": "2022-06-28T17:31:51.609Z"
   },
   {
    "duration": 3,
    "start_time": "2022-06-28T17:32:21.010Z"
   },
   {
    "duration": 193,
    "start_time": "2022-06-28T17:32:27.169Z"
   },
   {
    "duration": 272,
    "start_time": "2022-06-28T17:33:56.336Z"
   },
   {
    "duration": 217,
    "start_time": "2022-06-28T17:34:49.864Z"
   },
   {
    "duration": 37,
    "start_time": "2022-06-28T17:35:17.794Z"
   },
   {
    "duration": 287,
    "start_time": "2022-06-28T17:35:55.724Z"
   },
   {
    "duration": 227,
    "start_time": "2022-06-28T17:36:01.503Z"
   },
   {
    "duration": 219,
    "start_time": "2022-06-28T17:39:09.596Z"
   },
   {
    "duration": 387,
    "start_time": "2022-06-28T17:40:00.168Z"
   },
   {
    "duration": 348,
    "start_time": "2022-06-28T17:40:56.140Z"
   },
   {
    "duration": 470,
    "start_time": "2022-06-28T17:41:32.671Z"
   },
   {
    "duration": 312,
    "start_time": "2022-06-28T17:42:54.903Z"
   },
   {
    "duration": 317,
    "start_time": "2022-06-28T17:43:04.270Z"
   },
   {
    "duration": 341,
    "start_time": "2022-06-28T17:44:18.652Z"
   },
   {
    "duration": 325,
    "start_time": "2022-06-28T17:44:44.093Z"
   },
   {
    "duration": 517,
    "start_time": "2022-06-28T17:44:55.346Z"
   },
   {
    "duration": 410,
    "start_time": "2022-06-28T17:45:29.593Z"
   },
   {
    "duration": 392,
    "start_time": "2022-06-28T17:45:49.730Z"
   },
   {
    "duration": 396,
    "start_time": "2022-06-28T17:45:58.129Z"
   },
   {
    "duration": 236,
    "start_time": "2022-06-28T17:50:02.654Z"
   },
   {
    "duration": 234,
    "start_time": "2022-06-28T17:50:21.940Z"
   },
   {
    "duration": 709,
    "start_time": "2022-06-28T17:50:30.016Z"
   },
   {
    "duration": 491,
    "start_time": "2022-06-28T17:50:37.310Z"
   },
   {
    "duration": 395,
    "start_time": "2022-06-28T17:51:09.621Z"
   },
   {
    "duration": 400,
    "start_time": "2022-06-28T17:51:20.965Z"
   },
   {
    "duration": 83,
    "start_time": "2022-06-28T17:53:29.518Z"
   },
   {
    "duration": 88,
    "start_time": "2022-06-28T17:53:41.572Z"
   },
   {
    "duration": 87,
    "start_time": "2022-06-28T17:53:44.343Z"
   },
   {
    "duration": 84,
    "start_time": "2022-06-28T17:53:59.867Z"
   },
   {
    "duration": 103,
    "start_time": "2022-06-28T17:54:22.305Z"
   },
   {
    "duration": 234,
    "start_time": "2022-06-28T17:54:29.067Z"
   },
   {
    "duration": 645,
    "start_time": "2022-06-28T17:54:55.826Z"
   },
   {
    "duration": 414,
    "start_time": "2022-06-28T17:55:35.544Z"
   },
   {
    "duration": 279,
    "start_time": "2022-06-28T17:55:46.173Z"
   },
   {
    "duration": 516,
    "start_time": "2022-06-28T17:56:37.270Z"
   },
   {
    "duration": 78,
    "start_time": "2022-06-28T17:56:57.671Z"
   },
   {
    "duration": 498,
    "start_time": "2022-06-28T17:57:02.068Z"
   },
   {
    "duration": 408,
    "start_time": "2022-06-28T17:57:11.711Z"
   },
   {
    "duration": 443,
    "start_time": "2022-06-28T17:57:29.898Z"
   },
   {
    "duration": 167,
    "start_time": "2022-06-28T17:59:54.421Z"
   },
   {
    "duration": 401,
    "start_time": "2022-06-28T18:00:00.818Z"
   },
   {
    "duration": 347,
    "start_time": "2022-06-28T18:00:21.211Z"
   },
   {
    "duration": 147,
    "start_time": "2022-06-28T18:00:34.953Z"
   },
   {
    "duration": 399,
    "start_time": "2022-06-28T18:00:40.479Z"
   },
   {
    "duration": 366,
    "start_time": "2022-06-28T18:04:15.075Z"
   },
   {
    "duration": 311,
    "start_time": "2022-06-28T18:04:27.571Z"
   },
   {
    "duration": 352,
    "start_time": "2022-06-28T18:05:20.403Z"
   },
   {
    "duration": 315,
    "start_time": "2022-06-28T18:05:41.417Z"
   },
   {
    "duration": 423,
    "start_time": "2022-06-28T18:06:02.478Z"
   },
   {
    "duration": 513,
    "start_time": "2022-06-28T18:06:30.184Z"
   },
   {
    "duration": 314,
    "start_time": "2022-06-28T18:07:09.271Z"
   },
   {
    "duration": 354,
    "start_time": "2022-06-28T18:07:19.844Z"
   },
   {
    "duration": 362,
    "start_time": "2022-06-28T18:07:32.422Z"
   },
   {
    "duration": 635,
    "start_time": "2022-06-28T18:08:40.276Z"
   },
   {
    "duration": 307,
    "start_time": "2022-06-28T18:08:50.387Z"
   },
   {
    "duration": 396,
    "start_time": "2022-06-28T18:09:18.428Z"
   },
   {
    "duration": 330,
    "start_time": "2022-06-28T18:09:28.180Z"
   },
   {
    "duration": 336,
    "start_time": "2022-06-28T18:13:24.988Z"
   },
   {
    "duration": 40,
    "start_time": "2022-06-28T18:22:13.934Z"
   },
   {
    "duration": 35,
    "start_time": "2022-06-28T18:22:17.173Z"
   },
   {
    "duration": 354,
    "start_time": "2022-06-28T18:22:59.435Z"
   },
   {
    "duration": 457,
    "start_time": "2022-06-28T18:23:12.240Z"
   },
   {
    "duration": 353,
    "start_time": "2022-06-28T18:23:22.418Z"
   },
   {
    "duration": 21,
    "start_time": "2022-06-28T18:23:35.935Z"
   },
   {
    "duration": 306,
    "start_time": "2022-06-28T18:23:55.779Z"
   },
   {
    "duration": 300,
    "start_time": "2022-06-28T18:30:41.713Z"
   },
   {
    "duration": 316,
    "start_time": "2022-06-28T18:30:49.647Z"
   },
   {
    "duration": 433,
    "start_time": "2022-06-28T18:33:01.247Z"
   },
   {
    "duration": 199,
    "start_time": "2022-06-28T18:38:09.468Z"
   },
   {
    "duration": 34,
    "start_time": "2022-06-28T18:38:34.602Z"
   },
   {
    "duration": 33,
    "start_time": "2022-06-28T18:38:51.886Z"
   },
   {
    "duration": 320,
    "start_time": "2022-06-28T18:39:02.113Z"
   },
   {
    "duration": 337,
    "start_time": "2022-06-28T18:39:33.853Z"
   },
   {
    "duration": 305,
    "start_time": "2022-06-28T18:40:48.930Z"
   },
   {
    "duration": 334,
    "start_time": "2022-06-28T18:45:16.979Z"
   },
   {
    "duration": 327,
    "start_time": "2022-06-28T18:45:17.878Z"
   },
   {
    "duration": 521,
    "start_time": "2022-06-28T18:45:18.901Z"
   },
   {
    "duration": 70,
    "start_time": "2022-06-28T18:45:19.493Z"
   },
   {
    "duration": 318,
    "start_time": "2022-06-28T18:45:21.593Z"
   },
   {
    "duration": 467,
    "start_time": "2022-06-28T18:45:35.979Z"
   },
   {
    "duration": 351,
    "start_time": "2022-06-28T18:46:37.795Z"
   },
   {
    "duration": 334,
    "start_time": "2022-06-28T18:50:20.398Z"
   },
   {
    "duration": 16,
    "start_time": "2022-06-28T18:51:19.127Z"
   },
   {
    "duration": 77,
    "start_time": "2022-06-28T18:51:23.406Z"
   },
   {
    "duration": 27,
    "start_time": "2022-06-28T18:51:24.481Z"
   },
   {
    "duration": 14,
    "start_time": "2022-06-28T18:51:26.725Z"
   },
   {
    "duration": 9,
    "start_time": "2022-06-28T18:51:28.807Z"
   },
   {
    "duration": 3,
    "start_time": "2022-06-28T18:51:49.113Z"
   },
   {
    "duration": 514,
    "start_time": "2022-06-28T18:51:51.379Z"
   },
   {
    "duration": 614,
    "start_time": "2022-06-28T18:58:00.772Z"
   },
   {
    "duration": 5,
    "start_time": "2022-06-28T18:58:34.478Z"
   },
   {
    "duration": 1546,
    "start_time": "2022-06-28T18:58:37.799Z"
   },
   {
    "duration": 540,
    "start_time": "2022-06-28T18:59:03.086Z"
   },
   {
    "duration": 569,
    "start_time": "2022-06-28T19:00:19.181Z"
   },
   {
    "duration": 6,
    "start_time": "2022-06-28T19:00:59.892Z"
   },
   {
    "duration": 7,
    "start_time": "2022-06-28T19:03:29.311Z"
   },
   {
    "duration": 1094,
    "start_time": "2022-06-28T19:15:28.788Z"
   },
   {
    "duration": 1412,
    "start_time": "2022-06-28T19:15:31.050Z"
   },
   {
    "duration": 44,
    "start_time": "2022-06-28T19:15:32.465Z"
   },
   {
    "duration": 284,
    "start_time": "2022-06-28T19:15:34.430Z"
   },
   {
    "duration": 86,
    "start_time": "2022-06-28T19:15:35.833Z"
   },
   {
    "duration": 432,
    "start_time": "2022-06-28T19:15:36.991Z"
   },
   {
    "duration": 341,
    "start_time": "2022-06-28T19:15:39.152Z"
   },
   {
    "duration": 550,
    "start_time": "2022-06-28T19:15:40.726Z"
   },
   {
    "duration": 80,
    "start_time": "2022-06-28T19:15:42.495Z"
   },
   {
    "duration": 443,
    "start_time": "2022-06-28T19:15:45.339Z"
   },
   {
    "duration": 340,
    "start_time": "2022-06-28T19:15:47.256Z"
   },
   {
    "duration": 330,
    "start_time": "2022-06-28T19:15:49.079Z"
   },
   {
    "duration": 406,
    "start_time": "2022-06-28T19:16:01.455Z"
   },
   {
    "duration": 335,
    "start_time": "2022-06-28T19:16:10.022Z"
   },
   {
    "duration": 322,
    "start_time": "2022-06-28T19:16:14.702Z"
   },
   {
    "duration": 73,
    "start_time": "2022-06-28T19:16:21.237Z"
   },
   {
    "duration": 25,
    "start_time": "2022-06-28T19:16:22.772Z"
   },
   {
    "duration": 17,
    "start_time": "2022-06-28T19:16:26.290Z"
   },
   {
    "duration": 7,
    "start_time": "2022-06-28T19:16:27.479Z"
   },
   {
    "duration": 4,
    "start_time": "2022-06-28T19:16:28.615Z"
   },
   {
    "duration": 535,
    "start_time": "2022-06-28T19:16:30.920Z"
   },
   {
    "duration": 1303,
    "start_time": "2022-06-29T13:42:16.285Z"
   },
   {
    "duration": 667,
    "start_time": "2022-06-29T13:42:17.591Z"
   },
   {
    "duration": 36,
    "start_time": "2022-06-29T13:42:18.260Z"
   },
   {
    "duration": 283,
    "start_time": "2022-06-29T13:42:18.298Z"
   },
   {
    "duration": 89,
    "start_time": "2022-06-29T13:42:18.583Z"
   },
   {
    "duration": 433,
    "start_time": "2022-06-29T13:42:18.674Z"
   },
   {
    "duration": 362,
    "start_time": "2022-06-29T13:42:19.109Z"
   },
   {
    "duration": 543,
    "start_time": "2022-06-29T13:42:19.473Z"
   },
   {
    "duration": 74,
    "start_time": "2022-06-29T13:42:20.018Z"
   },
   {
    "duration": 421,
    "start_time": "2022-06-29T13:42:20.094Z"
   },
   {
    "duration": 0,
    "start_time": "2022-06-29T13:42:20.517Z"
   },
   {
    "duration": 0,
    "start_time": "2022-06-29T13:42:20.519Z"
   },
   {
    "duration": 0,
    "start_time": "2022-06-29T13:42:20.520Z"
   },
   {
    "duration": 0,
    "start_time": "2022-06-29T13:42:20.522Z"
   },
   {
    "duration": 0,
    "start_time": "2022-06-29T13:42:20.523Z"
   },
   {
    "duration": 0,
    "start_time": "2022-06-29T13:42:20.524Z"
   },
   {
    "duration": 0,
    "start_time": "2022-06-29T13:42:20.526Z"
   },
   {
    "duration": 0,
    "start_time": "2022-06-29T13:42:20.527Z"
   },
   {
    "duration": 1122,
    "start_time": "2022-06-29T13:51:39.075Z"
   },
   {
    "duration": 376,
    "start_time": "2022-06-29T13:51:40.200Z"
   },
   {
    "duration": 36,
    "start_time": "2022-06-29T13:51:40.578Z"
   },
   {
    "duration": 294,
    "start_time": "2022-06-29T13:51:40.616Z"
   },
   {
    "duration": 96,
    "start_time": "2022-06-29T13:51:40.913Z"
   },
   {
    "duration": 407,
    "start_time": "2022-06-29T13:51:41.011Z"
   },
   {
    "duration": 382,
    "start_time": "2022-06-29T13:51:41.420Z"
   },
   {
    "duration": 554,
    "start_time": "2022-06-29T13:51:41.804Z"
   },
   {
    "duration": 77,
    "start_time": "2022-06-29T13:51:42.360Z"
   },
   {
    "duration": 439,
    "start_time": "2022-06-29T13:51:42.439Z"
   },
   {
    "duration": 0,
    "start_time": "2022-06-29T13:51:42.881Z"
   },
   {
    "duration": 0,
    "start_time": "2022-06-29T13:51:42.883Z"
   },
   {
    "duration": 0,
    "start_time": "2022-06-29T13:51:42.884Z"
   },
   {
    "duration": 0,
    "start_time": "2022-06-29T13:51:42.885Z"
   },
   {
    "duration": 0,
    "start_time": "2022-06-29T13:51:42.887Z"
   },
   {
    "duration": 0,
    "start_time": "2022-06-29T13:51:42.888Z"
   },
   {
    "duration": 0,
    "start_time": "2022-06-29T13:51:42.890Z"
   },
   {
    "duration": 0,
    "start_time": "2022-06-29T13:51:42.891Z"
   },
   {
    "duration": 8,
    "start_time": "2022-06-29T13:57:31.654Z"
   },
   {
    "duration": 20,
    "start_time": "2022-06-29T13:57:54.623Z"
   },
   {
    "duration": 16,
    "start_time": "2022-06-29T13:58:20.643Z"
   },
   {
    "duration": 35,
    "start_time": "2022-06-29T13:58:55.084Z"
   },
   {
    "duration": 36,
    "start_time": "2022-06-29T13:59:29.314Z"
   },
   {
    "duration": 18,
    "start_time": "2022-06-29T14:09:34.178Z"
   },
   {
    "duration": 9,
    "start_time": "2022-06-29T14:10:16.067Z"
   },
   {
    "duration": 18,
    "start_time": "2022-06-29T14:20:21.107Z"
   },
   {
    "duration": 20,
    "start_time": "2022-06-29T14:20:33.714Z"
   },
   {
    "duration": 3,
    "start_time": "2022-06-29T14:29:57.360Z"
   },
   {
    "duration": 1197,
    "start_time": "2022-06-29T14:30:02.898Z"
   },
   {
    "duration": 414,
    "start_time": "2022-06-29T14:30:04.097Z"
   },
   {
    "duration": 40,
    "start_time": "2022-06-29T14:30:04.513Z"
   },
   {
    "duration": 354,
    "start_time": "2022-06-29T14:30:04.555Z"
   },
   {
    "duration": 114,
    "start_time": "2022-06-29T14:30:04.912Z"
   },
   {
    "duration": 461,
    "start_time": "2022-06-29T14:30:05.028Z"
   },
   {
    "duration": 430,
    "start_time": "2022-06-29T14:30:05.491Z"
   },
   {
    "duration": 635,
    "start_time": "2022-06-29T14:30:05.923Z"
   },
   {
    "duration": 88,
    "start_time": "2022-06-29T14:30:06.559Z"
   },
   {
    "duration": 400,
    "start_time": "2022-06-29T14:30:06.651Z"
   },
   {
    "duration": 0,
    "start_time": "2022-06-29T14:30:07.053Z"
   },
   {
    "duration": 0,
    "start_time": "2022-06-29T14:30:07.054Z"
   },
   {
    "duration": 0,
    "start_time": "2022-06-29T14:30:07.055Z"
   },
   {
    "duration": 0,
    "start_time": "2022-06-29T14:30:07.056Z"
   },
   {
    "duration": 0,
    "start_time": "2022-06-29T14:30:07.057Z"
   },
   {
    "duration": 0,
    "start_time": "2022-06-29T14:30:07.058Z"
   },
   {
    "duration": 0,
    "start_time": "2022-06-29T14:30:07.059Z"
   },
   {
    "duration": 0,
    "start_time": "2022-06-29T14:30:07.059Z"
   },
   {
    "duration": 3,
    "start_time": "2022-06-29T14:30:29.470Z"
   },
   {
    "duration": 1157,
    "start_time": "2022-06-29T14:30:34.393Z"
   },
   {
    "duration": 411,
    "start_time": "2022-06-29T14:30:35.552Z"
   },
   {
    "duration": 44,
    "start_time": "2022-06-29T14:30:35.968Z"
   },
   {
    "duration": 379,
    "start_time": "2022-06-29T14:30:36.014Z"
   },
   {
    "duration": 109,
    "start_time": "2022-06-29T14:30:36.395Z"
   },
   {
    "duration": 446,
    "start_time": "2022-06-29T14:30:36.505Z"
   },
   {
    "duration": 416,
    "start_time": "2022-06-29T14:30:36.953Z"
   },
   {
    "duration": 612,
    "start_time": "2022-06-29T14:30:37.371Z"
   },
   {
    "duration": 84,
    "start_time": "2022-06-29T14:30:37.985Z"
   },
   {
    "duration": 517,
    "start_time": "2022-06-29T14:30:38.071Z"
   },
   {
    "duration": 0,
    "start_time": "2022-06-29T14:30:38.590Z"
   },
   {
    "duration": 0,
    "start_time": "2022-06-29T14:30:38.591Z"
   },
   {
    "duration": 0,
    "start_time": "2022-06-29T14:30:38.593Z"
   },
   {
    "duration": 0,
    "start_time": "2022-06-29T14:30:38.594Z"
   },
   {
    "duration": 0,
    "start_time": "2022-06-29T14:30:38.595Z"
   },
   {
    "duration": 0,
    "start_time": "2022-06-29T14:30:38.597Z"
   },
   {
    "duration": 0,
    "start_time": "2022-06-29T14:30:38.598Z"
   },
   {
    "duration": 0,
    "start_time": "2022-06-29T14:30:38.600Z"
   },
   {
    "duration": 6,
    "start_time": "2022-06-29T14:31:11.952Z"
   },
   {
    "duration": 11,
    "start_time": "2022-06-29T14:31:20.064Z"
   },
   {
    "duration": 105,
    "start_time": "2022-06-29T14:33:12.318Z"
   },
   {
    "duration": 55,
    "start_time": "2022-06-29T16:00:32.007Z"
   },
   {
    "duration": 3,
    "start_time": "2022-06-29T16:08:42.810Z"
   },
   {
    "duration": 164,
    "start_time": "2022-06-29T16:24:28.324Z"
   },
   {
    "duration": 449,
    "start_time": "2022-06-29T16:24:36.815Z"
   },
   {
    "duration": 78,
    "start_time": "2022-06-29T16:25:41.360Z"
   },
   {
    "duration": 1489,
    "start_time": "2022-06-29T16:26:53.481Z"
   },
   {
    "duration": 720,
    "start_time": "2022-06-29T16:26:56.573Z"
   },
   {
    "duration": 85803,
    "start_time": "2022-06-29T16:33:03.050Z"
   },
   {
    "duration": 222,
    "start_time": "2022-06-29T16:35:19.954Z"
   },
   {
    "duration": 3,
    "start_time": "2022-06-29T16:37:43.890Z"
   },
   {
    "duration": 448,
    "start_time": "2022-06-29T16:37:44.679Z"
   },
   {
    "duration": 39,
    "start_time": "2022-06-29T16:37:45.130Z"
   },
   {
    "duration": 259,
    "start_time": "2022-06-29T16:37:45.171Z"
   },
   {
    "duration": 314,
    "start_time": "2022-06-29T16:37:45.998Z"
   },
   {
    "duration": 112,
    "start_time": "2022-06-29T16:37:46.526Z"
   },
   {
    "duration": 410,
    "start_time": "2022-06-29T16:37:46.817Z"
   },
   {
    "duration": 389,
    "start_time": "2022-06-29T16:37:47.241Z"
   },
   {
    "duration": 593,
    "start_time": "2022-06-29T16:37:47.659Z"
   },
   {
    "duration": 91,
    "start_time": "2022-06-29T16:37:48.254Z"
   },
   {
    "duration": 355,
    "start_time": "2022-06-29T16:37:48.851Z"
   },
   {
    "duration": 424,
    "start_time": "2022-06-29T16:37:49.952Z"
   },
   {
    "duration": 338,
    "start_time": "2022-06-29T16:37:50.643Z"
   },
   {
    "duration": 77,
    "start_time": "2022-06-29T16:37:52.578Z"
   },
   {
    "duration": 23,
    "start_time": "2022-06-29T16:37:52.867Z"
   },
   {
    "duration": 14,
    "start_time": "2022-06-29T16:37:53.122Z"
   },
   {
    "duration": 9,
    "start_time": "2022-06-29T16:37:53.542Z"
   },
   {
    "duration": 4,
    "start_time": "2022-06-29T16:37:53.738Z"
   },
   {
    "duration": 675,
    "start_time": "2022-06-29T16:37:54.147Z"
   },
   {
    "duration": 580,
    "start_time": "2022-06-29T16:38:45.276Z"
   },
   {
    "duration": 453,
    "start_time": "2022-06-29T16:38:52.355Z"
   },
   {
    "duration": 596,
    "start_time": "2022-06-29T16:39:13.599Z"
   },
   {
    "duration": 586,
    "start_time": "2022-06-29T16:39:28.414Z"
   },
   {
    "duration": 684,
    "start_time": "2022-06-29T16:40:39.180Z"
   },
   {
    "duration": 604,
    "start_time": "2022-06-29T16:41:21.557Z"
   },
   {
    "duration": 666,
    "start_time": "2022-06-29T16:44:39.999Z"
   },
   {
    "duration": 70,
    "start_time": "2022-06-29T16:46:32.967Z"
   },
   {
    "duration": 21,
    "start_time": "2022-06-29T16:46:40.194Z"
   },
   {
    "duration": 35,
    "start_time": "2022-06-29T16:47:01.469Z"
   },
   {
    "duration": 51,
    "start_time": "2022-06-29T16:47:58.781Z"
   },
   {
    "duration": 39,
    "start_time": "2022-06-29T16:48:48.436Z"
   },
   {
    "duration": 238,
    "start_time": "2022-06-29T16:50:25.590Z"
   },
   {
    "duration": 309,
    "start_time": "2022-06-29T16:53:04.333Z"
   },
   {
    "duration": 253,
    "start_time": "2022-06-29T16:53:31.626Z"
   },
   {
    "duration": 0,
    "start_time": "2022-06-29T16:56:26.173Z"
   },
   {
    "duration": 0,
    "start_time": "2022-06-29T16:56:26.174Z"
   },
   {
    "duration": 4,
    "start_time": "2022-06-29T16:59:59.602Z"
   },
   {
    "duration": 424,
    "start_time": "2022-06-29T17:00:04.591Z"
   },
   {
    "duration": 20,
    "start_time": "2022-06-29T17:00:06.332Z"
   },
   {
    "duration": 46,
    "start_time": "2022-06-29T17:00:22.063Z"
   },
   {
    "duration": 63,
    "start_time": "2022-06-29T17:06:37.306Z"
   },
   {
    "duration": 10,
    "start_time": "2022-06-29T17:06:44.351Z"
   },
   {
    "duration": 1242,
    "start_time": "2022-06-29T17:06:48.152Z"
   },
   {
    "duration": 802,
    "start_time": "2022-06-29T17:06:51.737Z"
   },
   {
    "duration": 177,
    "start_time": "2022-06-29T17:06:56.692Z"
   },
   {
    "duration": 254,
    "start_time": "2022-06-29T17:08:25.606Z"
   },
   {
    "duration": 161,
    "start_time": "2022-06-29T17:13:12.752Z"
   },
   {
    "duration": 173,
    "start_time": "2022-06-29T17:19:01.947Z"
   },
   {
    "duration": 162,
    "start_time": "2022-06-29T17:19:07.722Z"
   },
   {
    "duration": 3,
    "start_time": "2022-06-29T17:21:32.459Z"
   },
   {
    "duration": 446,
    "start_time": "2022-06-29T17:21:33.936Z"
   },
   {
    "duration": 17,
    "start_time": "2022-06-29T17:21:35.982Z"
   },
   {
    "duration": 61,
    "start_time": "2022-06-29T17:21:37.661Z"
   },
   {
    "duration": 34,
    "start_time": "2022-06-29T17:21:43.663Z"
   },
   {
    "duration": 35,
    "start_time": "2022-06-29T17:21:48.637Z"
   },
   {
    "duration": 209,
    "start_time": "2022-06-29T17:22:41.051Z"
   },
   {
    "duration": 75,
    "start_time": "2022-06-29T17:27:43.665Z"
   },
   {
    "duration": 336,
    "start_time": "2022-06-29T17:28:14.202Z"
   },
   {
    "duration": 14,
    "start_time": "2022-06-29T17:28:17.888Z"
   },
   {
    "duration": 516,
    "start_time": "2022-06-29T17:28:33.454Z"
   },
   {
    "duration": 161,
    "start_time": "2022-06-29T17:33:32.259Z"
   },
   {
    "duration": 189,
    "start_time": "2022-06-29T17:33:46.739Z"
   },
   {
    "duration": 167,
    "start_time": "2022-06-29T17:33:50.065Z"
   },
   {
    "duration": 87,
    "start_time": "2022-06-29T17:37:06.538Z"
   },
   {
    "duration": 12,
    "start_time": "2022-06-29T17:37:13.888Z"
   },
   {
    "duration": 83,
    "start_time": "2022-06-29T17:38:21.412Z"
   },
   {
    "duration": 26,
    "start_time": "2022-06-29T17:39:28.622Z"
   },
   {
    "duration": 23,
    "start_time": "2022-06-29T17:40:00.483Z"
   },
   {
    "duration": 19,
    "start_time": "2022-06-29T17:40:19.919Z"
   },
   {
    "duration": 12,
    "start_time": "2022-06-29T17:40:49.195Z"
   },
   {
    "duration": 14,
    "start_time": "2022-06-29T17:40:57.337Z"
   },
   {
    "duration": 27,
    "start_time": "2022-06-29T17:41:44.360Z"
   },
   {
    "duration": 202,
    "start_time": "2022-06-29T17:42:25.929Z"
   },
   {
    "duration": 276,
    "start_time": "2022-06-29T17:42:53.293Z"
   },
   {
    "duration": 292,
    "start_time": "2022-06-29T17:43:06.754Z"
   },
   {
    "duration": 388,
    "start_time": "2022-06-29T17:43:16.790Z"
   },
   {
    "duration": 32,
    "start_time": "2022-06-29T17:50:00.379Z"
   },
   {
    "duration": 64,
    "start_time": "2022-06-29T17:53:10.829Z"
   },
   {
    "duration": 39,
    "start_time": "2022-06-29T17:53:15.063Z"
   },
   {
    "duration": 287,
    "start_time": "2022-06-29T17:53:23.667Z"
   },
   {
    "duration": 299,
    "start_time": "2022-06-29T17:53:39.544Z"
   },
   {
    "duration": 310,
    "start_time": "2022-06-29T17:53:44.572Z"
   },
   {
    "duration": 361,
    "start_time": "2022-06-29T17:55:39.734Z"
   },
   {
    "duration": 474,
    "start_time": "2022-06-29T17:56:15.895Z"
   },
   {
    "duration": 381,
    "start_time": "2022-06-29T17:56:26.796Z"
   },
   {
    "duration": 410,
    "start_time": "2022-06-29T17:57:28.268Z"
   },
   {
    "duration": 352,
    "start_time": "2022-06-29T17:58:04.883Z"
   },
   {
    "duration": 349,
    "start_time": "2022-06-29T17:58:14.963Z"
   },
   {
    "duration": 346,
    "start_time": "2022-06-29T17:58:49.982Z"
   },
   {
    "duration": 489,
    "start_time": "2022-06-29T17:59:11.611Z"
   },
   {
    "duration": 339,
    "start_time": "2022-06-29T18:00:45.409Z"
   },
   {
    "duration": 367,
    "start_time": "2022-06-29T18:01:37.542Z"
   },
   {
    "duration": 382,
    "start_time": "2022-06-29T18:02:22.462Z"
   },
   {
    "duration": 468,
    "start_time": "2022-06-29T18:02:41.394Z"
   },
   {
    "duration": 38,
    "start_time": "2022-06-29T18:05:13.196Z"
   },
   {
    "duration": 1919,
    "start_time": "2022-06-29T18:06:59.907Z"
   },
   {
    "duration": 1901,
    "start_time": "2022-06-29T18:07:37.087Z"
   },
   {
    "duration": 403,
    "start_time": "2022-06-29T18:07:52.833Z"
   },
   {
    "duration": 411,
    "start_time": "2022-06-29T18:08:22.844Z"
   },
   {
    "duration": 256,
    "start_time": "2022-06-29T18:20:17.879Z"
   },
   {
    "duration": 1275,
    "start_time": "2022-06-29T21:36:37.775Z"
   },
   {
    "duration": 794,
    "start_time": "2022-06-29T21:36:39.052Z"
   },
   {
    "duration": 30,
    "start_time": "2022-06-29T21:36:39.849Z"
   },
   {
    "duration": 439,
    "start_time": "2022-06-29T21:36:39.881Z"
   },
   {
    "duration": 25,
    "start_time": "2022-06-29T21:36:41.224Z"
   },
   {
    "duration": 409,
    "start_time": "2022-06-29T21:36:41.862Z"
   },
   {
    "duration": 338,
    "start_time": "2022-06-29T21:36:54.171Z"
   },
   {
    "duration": 113,
    "start_time": "2022-06-29T21:37:32.520Z"
   },
   {
    "duration": 96,
    "start_time": "2022-06-29T21:37:42.604Z"
   },
   {
    "duration": 86,
    "start_time": "2022-06-29T21:37:44.479Z"
   },
   {
    "duration": 91,
    "start_time": "2022-06-29T21:40:37.588Z"
   },
   {
    "duration": 44,
    "start_time": "2022-06-29T21:40:42.000Z"
   },
   {
    "duration": 50,
    "start_time": "2022-06-29T21:44:58.045Z"
   },
   {
    "duration": 30,
    "start_time": "2022-06-29T21:52:12.650Z"
   },
   {
    "duration": 23,
    "start_time": "2022-06-29T21:52:44.737Z"
   },
   {
    "duration": 77,
    "start_time": "2022-06-29T21:53:08.755Z"
   },
   {
    "duration": 75,
    "start_time": "2022-06-29T21:53:37.463Z"
   },
   {
    "duration": 62,
    "start_time": "2022-06-29T21:53:53.136Z"
   },
   {
    "duration": 72,
    "start_time": "2022-06-29T21:53:58.471Z"
   },
   {
    "duration": 18,
    "start_time": "2022-06-29T21:56:00.079Z"
   },
   {
    "duration": 23,
    "start_time": "2022-06-29T21:56:38.418Z"
   },
   {
    "duration": 21,
    "start_time": "2022-06-29T21:56:57.860Z"
   },
   {
    "duration": 22,
    "start_time": "2022-06-29T21:58:21.631Z"
   },
   {
    "duration": 80,
    "start_time": "2022-06-29T21:59:16.511Z"
   },
   {
    "duration": 60,
    "start_time": "2022-06-29T22:00:45.656Z"
   },
   {
    "duration": 5,
    "start_time": "2022-06-29T22:01:54.066Z"
   },
   {
    "duration": 96,
    "start_time": "2022-06-29T22:02:01.021Z"
   },
   {
    "duration": 98,
    "start_time": "2022-06-29T22:02:13.037Z"
   },
   {
    "duration": 76,
    "start_time": "2022-06-29T22:05:18.308Z"
   },
   {
    "duration": 103,
    "start_time": "2022-06-29T22:05:28.384Z"
   },
   {
    "duration": 83,
    "start_time": "2022-06-29T22:06:05.701Z"
   },
   {
    "duration": 73,
    "start_time": "2022-06-29T22:08:39.285Z"
   },
   {
    "duration": 1482,
    "start_time": "2022-06-29T22:09:08.498Z"
   },
   {
    "duration": 78,
    "start_time": "2022-06-29T22:09:39.971Z"
   },
   {
    "duration": 85,
    "start_time": "2022-06-29T22:09:51.784Z"
   },
   {
    "duration": 99,
    "start_time": "2022-06-29T22:14:51.540Z"
   },
   {
    "duration": 97,
    "start_time": "2022-06-29T22:15:42.789Z"
   },
   {
    "duration": 96,
    "start_time": "2022-06-29T22:16:37.598Z"
   },
   {
    "duration": 56,
    "start_time": "2022-06-29T22:18:35.923Z"
   },
   {
    "duration": 88,
    "start_time": "2022-06-29T22:18:48.587Z"
   },
   {
    "duration": 122,
    "start_time": "2022-06-29T22:19:02.988Z"
   },
   {
    "duration": 101,
    "start_time": "2022-06-29T22:20:01.933Z"
   },
   {
    "duration": 81,
    "start_time": "2022-06-29T22:22:15.344Z"
   },
   {
    "duration": 92,
    "start_time": "2022-06-29T22:22:26.557Z"
   },
   {
    "duration": 135,
    "start_time": "2022-06-29T22:24:25.625Z"
   },
   {
    "duration": 867,
    "start_time": "2022-06-29T22:25:37.112Z"
   },
   {
    "duration": 767,
    "start_time": "2022-06-29T22:25:55.049Z"
   },
   {
    "duration": 3,
    "start_time": "2022-06-29T22:26:04.056Z"
   },
   {
    "duration": 377,
    "start_time": "2022-06-29T22:26:04.752Z"
   },
   {
    "duration": 18,
    "start_time": "2022-06-29T22:26:05.131Z"
   },
   {
    "duration": 394,
    "start_time": "2022-06-29T22:26:05.153Z"
   },
   {
    "duration": 44,
    "start_time": "2022-06-29T22:26:05.549Z"
   },
   {
    "duration": 484,
    "start_time": "2022-06-29T22:26:05.903Z"
   },
   {
    "duration": 254,
    "start_time": "2022-06-29T22:26:11.172Z"
   },
   {
    "duration": 79,
    "start_time": "2022-06-29T22:26:13.727Z"
   },
   {
    "duration": 67,
    "start_time": "2022-06-29T22:26:22.526Z"
   },
   {
    "duration": 177,
    "start_time": "2022-06-29T22:26:47.324Z"
   },
   {
    "duration": 102,
    "start_time": "2022-06-29T22:27:16.501Z"
   },
   {
    "duration": 152,
    "start_time": "2022-06-29T22:27:32.724Z"
   },
   {
    "duration": 137,
    "start_time": "2022-06-29T22:27:48.717Z"
   },
   {
    "duration": 179,
    "start_time": "2022-06-29T22:31:57.030Z"
   },
   {
    "duration": 135,
    "start_time": "2022-06-29T22:32:44.192Z"
   },
   {
    "duration": 178,
    "start_time": "2022-06-29T22:33:50.164Z"
   },
   {
    "duration": 133,
    "start_time": "2022-06-29T22:34:36.538Z"
   },
   {
    "duration": 145,
    "start_time": "2022-06-29T22:34:57.948Z"
   },
   {
    "duration": 160,
    "start_time": "2022-06-29T22:36:05.700Z"
   },
   {
    "duration": 149,
    "start_time": "2022-06-29T22:37:38.793Z"
   },
   {
    "duration": 155,
    "start_time": "2022-06-29T22:50:13.688Z"
   },
   {
    "duration": 1265,
    "start_time": "2022-06-30T16:24:48.158Z"
   },
   {
    "duration": 709,
    "start_time": "2022-06-30T16:24:51.486Z"
   },
   {
    "duration": 20,
    "start_time": "2022-06-30T16:24:52.763Z"
   },
   {
    "duration": 446,
    "start_time": "2022-06-30T16:24:53.489Z"
   },
   {
    "duration": 30,
    "start_time": "2022-06-30T16:24:54.850Z"
   },
   {
    "duration": 398,
    "start_time": "2022-06-30T16:24:55.534Z"
   },
   {
    "duration": 269,
    "start_time": "2022-06-30T16:25:40.141Z"
   },
   {
    "duration": 79,
    "start_time": "2022-06-30T16:25:44.295Z"
   },
   {
    "duration": 92,
    "start_time": "2022-06-30T16:30:37.044Z"
   },
   {
    "duration": 70,
    "start_time": "2022-06-30T16:30:46.103Z"
   },
   {
    "duration": 10,
    "start_time": "2022-06-30T16:30:50.147Z"
   },
   {
    "duration": 201,
    "start_time": "2022-06-30T16:31:06.157Z"
   },
   {
    "duration": 20,
    "start_time": "2022-06-30T16:31:08.872Z"
   },
   {
    "duration": 50,
    "start_time": "2022-06-30T16:34:41.000Z"
   },
   {
    "duration": 25,
    "start_time": "2022-06-30T16:34:46.285Z"
   },
   {
    "duration": 25,
    "start_time": "2022-06-30T16:35:12.358Z"
   },
   {
    "duration": 30,
    "start_time": "2022-06-30T16:35:17.798Z"
   },
   {
    "duration": 29,
    "start_time": "2022-06-30T16:35:26.649Z"
   },
   {
    "duration": 22,
    "start_time": "2022-06-30T16:58:08.605Z"
   },
   {
    "duration": 239,
    "start_time": "2022-06-30T16:58:26.293Z"
   },
   {
    "duration": 5276,
    "start_time": "2022-06-30T16:58:35.846Z"
   },
   {
    "duration": 232,
    "start_time": "2022-06-30T16:58:58.274Z"
   },
   {
    "duration": 5145,
    "start_time": "2022-06-30T16:59:03.779Z"
   },
   {
    "duration": 180,
    "start_time": "2022-06-30T17:01:06.188Z"
   },
   {
    "duration": 5351,
    "start_time": "2022-06-30T17:01:08.866Z"
   },
   {
    "duration": 20,
    "start_time": "2022-06-30T17:09:17.510Z"
   },
   {
    "duration": 945,
    "start_time": "2022-06-30T17:10:09.035Z"
   },
   {
    "duration": 27,
    "start_time": "2022-06-30T17:10:42.918Z"
   },
   {
    "duration": 36,
    "start_time": "2022-06-30T17:13:26.039Z"
   },
   {
    "duration": 37,
    "start_time": "2022-06-30T17:13:57.402Z"
   },
   {
    "duration": 148,
    "start_time": "2022-06-30T17:19:45.002Z"
   },
   {
    "duration": 164,
    "start_time": "2022-06-30T17:19:51.579Z"
   },
   {
    "duration": 156,
    "start_time": "2022-06-30T17:20:06.639Z"
   },
   {
    "duration": 135,
    "start_time": "2022-06-30T17:20:45.806Z"
   },
   {
    "duration": 69,
    "start_time": "2022-06-30T17:20:55.503Z"
   },
   {
    "duration": 54,
    "start_time": "2022-06-30T17:21:18.195Z"
   },
   {
    "duration": 39,
    "start_time": "2022-06-30T17:21:26.774Z"
   },
   {
    "duration": 138,
    "start_time": "2022-06-30T17:22:19.307Z"
   },
   {
    "duration": 35,
    "start_time": "2022-06-30T17:22:23.888Z"
   },
   {
    "duration": 840,
    "start_time": "2022-06-30T17:22:37.468Z"
   },
   {
    "duration": 155,
    "start_time": "2022-06-30T17:23:10.666Z"
   },
   {
    "duration": 28,
    "start_time": "2022-06-30T17:23:14.087Z"
   },
   {
    "duration": 42,
    "start_time": "2022-06-30T17:23:55.390Z"
   },
   {
    "duration": 48,
    "start_time": "2022-06-30T17:24:45.535Z"
   },
   {
    "duration": 980,
    "start_time": "2022-06-30T17:26:08.377Z"
   },
   {
    "duration": 132,
    "start_time": "2022-06-30T17:26:11.779Z"
   },
   {
    "duration": 996,
    "start_time": "2022-06-30T17:26:14.518Z"
   },
   {
    "duration": 126,
    "start_time": "2022-06-30T17:26:23.994Z"
   },
   {
    "duration": 27,
    "start_time": "2022-06-30T17:26:25.988Z"
   },
   {
    "duration": 125,
    "start_time": "2022-06-30T17:28:39.854Z"
   },
   {
    "duration": 19,
    "start_time": "2022-06-30T17:28:41.802Z"
   },
   {
    "duration": 136,
    "start_time": "2022-06-30T17:31:20.935Z"
   },
   {
    "duration": 123,
    "start_time": "2022-06-30T17:31:39.890Z"
   },
   {
    "duration": 128,
    "start_time": "2022-06-30T17:31:56.000Z"
   },
   {
    "duration": 990,
    "start_time": "2022-06-30T17:32:20.273Z"
   },
   {
    "duration": 788,
    "start_time": "2022-06-30T17:32:35.202Z"
   },
   {
    "duration": 18,
    "start_time": "2022-06-30T17:33:41.552Z"
   },
   {
    "duration": 125,
    "start_time": "2022-06-30T17:33:49.954Z"
   },
   {
    "duration": 19,
    "start_time": "2022-06-30T17:33:51.561Z"
   },
   {
    "duration": 861,
    "start_time": "2022-06-30T17:33:55.286Z"
   },
   {
    "duration": 725,
    "start_time": "2022-06-30T17:34:06.565Z"
   },
   {
    "duration": 912,
    "start_time": "2022-06-30T17:34:58.566Z"
   },
   {
    "duration": 835,
    "start_time": "2022-06-30T17:36:43.640Z"
   },
   {
    "duration": 27,
    "start_time": "2022-06-30T17:37:00.854Z"
   },
   {
    "duration": 193,
    "start_time": "2022-06-30T17:37:13.592Z"
   },
   {
    "duration": 25,
    "start_time": "2022-06-30T17:37:16.233Z"
   },
   {
    "duration": 139,
    "start_time": "2022-06-30T17:37:34.700Z"
   },
   {
    "duration": 19,
    "start_time": "2022-06-30T17:37:46.520Z"
   },
   {
    "duration": 142,
    "start_time": "2022-06-30T17:38:08.394Z"
   },
   {
    "duration": 370,
    "start_time": "2022-06-30T17:38:17.504Z"
   },
   {
    "duration": 26,
    "start_time": "2022-06-30T17:38:29.537Z"
   },
   {
    "duration": 3,
    "start_time": "2022-06-30T17:38:42.170Z"
   },
   {
    "duration": 364,
    "start_time": "2022-06-30T17:38:43.524Z"
   },
   {
    "duration": 18,
    "start_time": "2022-06-30T17:38:44.593Z"
   },
   {
    "duration": 390,
    "start_time": "2022-06-30T17:38:45.413Z"
   },
   {
    "duration": 40,
    "start_time": "2022-06-30T17:38:46.035Z"
   },
   {
    "duration": 407,
    "start_time": "2022-06-30T17:38:46.673Z"
   },
   {
    "duration": 248,
    "start_time": "2022-06-30T17:38:49.813Z"
   },
   {
    "duration": 101,
    "start_time": "2022-06-30T17:38:53.488Z"
   },
   {
    "duration": 72,
    "start_time": "2022-06-30T17:38:55.358Z"
   },
   {
    "duration": 132,
    "start_time": "2022-06-30T17:38:57.373Z"
   },
   {
    "duration": 19,
    "start_time": "2022-06-30T17:39:00.219Z"
   },
   {
    "duration": 36,
    "start_time": "2022-06-30T17:39:14.270Z"
   },
   {
    "duration": 19,
    "start_time": "2022-06-30T17:42:26.359Z"
   },
   {
    "duration": 4,
    "start_time": "2022-06-30T17:43:40.466Z"
   },
   {
    "duration": 461,
    "start_time": "2022-06-30T17:43:44.708Z"
   },
   {
    "duration": 921,
    "start_time": "2022-06-30T17:43:52.348Z"
   },
   {
    "duration": 640,
    "start_time": "2022-06-30T17:45:26.344Z"
   },
   {
    "duration": 751,
    "start_time": "2022-06-30T17:45:50.388Z"
   },
   {
    "duration": 942,
    "start_time": "2022-06-30T17:46:07.319Z"
   },
   {
    "duration": 819,
    "start_time": "2022-06-30T17:46:42.928Z"
   },
   {
    "duration": 14,
    "start_time": "2022-06-30T17:49:01.804Z"
   },
   {
    "duration": 14,
    "start_time": "2022-06-30T17:49:15.151Z"
   },
   {
    "duration": 584,
    "start_time": "2022-06-30T17:49:32.909Z"
   },
   {
    "duration": 607,
    "start_time": "2022-06-30T17:50:43.112Z"
   },
   {
    "duration": 39,
    "start_time": "2022-06-30T17:51:07.432Z"
   },
   {
    "duration": 1131,
    "start_time": "2022-06-30T17:53:26.338Z"
   },
   {
    "duration": 58,
    "start_time": "2022-06-30T17:55:10.586Z"
   },
   {
    "duration": 48,
    "start_time": "2022-06-30T17:56:16.486Z"
   },
   {
    "duration": 50,
    "start_time": "2022-06-30T17:56:20.909Z"
   },
   {
    "duration": 57,
    "start_time": "2022-06-30T17:56:32.844Z"
   },
   {
    "duration": 1008,
    "start_time": "2022-06-30T17:56:54.210Z"
   },
   {
    "duration": 39,
    "start_time": "2022-06-30T17:57:46.792Z"
   },
   {
    "duration": 27,
    "start_time": "2022-06-30T17:58:23.587Z"
   },
   {
    "duration": 28,
    "start_time": "2022-06-30T17:58:40.178Z"
   },
   {
    "duration": 26,
    "start_time": "2022-06-30T17:58:47.111Z"
   },
   {
    "duration": 28,
    "start_time": "2022-06-30T18:00:27.090Z"
   },
   {
    "duration": 29,
    "start_time": "2022-06-30T18:00:35.087Z"
   },
   {
    "duration": 28,
    "start_time": "2022-06-30T18:00:40.946Z"
   },
   {
    "duration": 36,
    "start_time": "2022-06-30T18:03:38.581Z"
   },
   {
    "duration": 3,
    "start_time": "2022-06-30T18:04:14.446Z"
   },
   {
    "duration": 359,
    "start_time": "2022-06-30T18:04:14.983Z"
   },
   {
    "duration": 21,
    "start_time": "2022-06-30T18:04:15.344Z"
   },
   {
    "duration": 410,
    "start_time": "2022-06-30T18:04:15.367Z"
   },
   {
    "duration": 30,
    "start_time": "2022-06-30T18:04:15.779Z"
   },
   {
    "duration": 426,
    "start_time": "2022-06-30T18:04:15.827Z"
   },
   {
    "duration": 240,
    "start_time": "2022-06-30T18:04:17.367Z"
   },
   {
    "duration": 77,
    "start_time": "2022-06-30T18:04:18.597Z"
   },
   {
    "duration": 64,
    "start_time": "2022-06-30T18:04:19.645Z"
   },
   {
    "duration": 145,
    "start_time": "2022-06-30T18:04:20.385Z"
   },
   {
    "duration": 24,
    "start_time": "2022-06-30T18:04:22.527Z"
   },
   {
    "duration": 52,
    "start_time": "2022-06-30T18:04:23.376Z"
   },
   {
    "duration": 44,
    "start_time": "2022-06-30T18:05:34.002Z"
   },
   {
    "duration": 42,
    "start_time": "2022-06-30T18:05:52.017Z"
   },
   {
    "duration": 29,
    "start_time": "2022-06-30T18:05:58.753Z"
   },
   {
    "duration": 48,
    "start_time": "2022-06-30T18:07:04.481Z"
   },
   {
    "duration": 33,
    "start_time": "2022-06-30T18:08:18.681Z"
   },
   {
    "duration": 37,
    "start_time": "2022-06-30T18:08:26.749Z"
   },
   {
    "duration": 49,
    "start_time": "2022-06-30T18:08:36.698Z"
   },
   {
    "duration": 37,
    "start_time": "2022-06-30T18:08:44.985Z"
   },
   {
    "duration": 35,
    "start_time": "2022-06-30T18:10:58.991Z"
   },
   {
    "duration": 10,
    "start_time": "2022-06-30T18:14:30.154Z"
   },
   {
    "duration": 15,
    "start_time": "2022-06-30T18:14:53.530Z"
   },
   {
    "duration": 12,
    "start_time": "2022-06-30T18:15:56.861Z"
   },
   {
    "duration": 17,
    "start_time": "2022-06-30T18:16:02.394Z"
   },
   {
    "duration": 17,
    "start_time": "2022-06-30T18:16:26.357Z"
   },
   {
    "duration": 15,
    "start_time": "2022-06-30T18:16:32.098Z"
   },
   {
    "duration": 10,
    "start_time": "2022-06-30T18:16:37.387Z"
   },
   {
    "duration": 19,
    "start_time": "2022-06-30T18:17:33.731Z"
   },
   {
    "duration": 17,
    "start_time": "2022-06-30T18:21:52.707Z"
   },
   {
    "duration": 186,
    "start_time": "2022-06-30T18:21:57.088Z"
   },
   {
    "duration": 17,
    "start_time": "2022-06-30T18:21:58.000Z"
   },
   {
    "duration": 29,
    "start_time": "2022-06-30T18:21:58.518Z"
   },
   {
    "duration": 23,
    "start_time": "2022-06-30T18:21:59.320Z"
   },
   {
    "duration": 1261,
    "start_time": "2022-06-30T18:23:51.260Z"
   },
   {
    "duration": 16,
    "start_time": "2022-06-30T18:24:23.450Z"
   },
   {
    "duration": 150,
    "start_time": "2022-06-30T18:24:27.492Z"
   },
   {
    "duration": 19,
    "start_time": "2022-06-30T18:24:28.607Z"
   },
   {
    "duration": 26,
    "start_time": "2022-06-30T18:24:28.791Z"
   },
   {
    "duration": 33,
    "start_time": "2022-06-30T18:24:34.062Z"
   },
   {
    "duration": 19,
    "start_time": "2022-06-30T18:25:11.183Z"
   },
   {
    "duration": 26,
    "start_time": "2022-06-30T18:25:11.782Z"
   },
   {
    "duration": 128,
    "start_time": "2022-06-30T18:25:35.615Z"
   },
   {
    "duration": 18,
    "start_time": "2022-06-30T18:25:49.347Z"
   },
   {
    "duration": 30,
    "start_time": "2022-06-30T18:25:55.920Z"
   },
   {
    "duration": 18,
    "start_time": "2022-06-30T18:35:50.083Z"
   },
   {
    "duration": 24,
    "start_time": "2022-06-30T18:36:09.086Z"
   },
   {
    "duration": 21,
    "start_time": "2022-06-30T18:36:49.314Z"
   },
   {
    "duration": 852,
    "start_time": "2022-06-30T18:38:57.944Z"
   },
   {
    "duration": 32,
    "start_time": "2022-06-30T18:41:40.910Z"
   },
   {
    "duration": 136,
    "start_time": "2022-06-30T18:42:07.860Z"
   },
   {
    "duration": 24,
    "start_time": "2022-06-30T18:42:09.222Z"
   },
   {
    "duration": 28,
    "start_time": "2022-06-30T18:42:12.893Z"
   },
   {
    "duration": 24,
    "start_time": "2022-06-30T18:42:29.539Z"
   },
   {
    "duration": 34,
    "start_time": "2022-06-30T19:42:05.398Z"
   },
   {
    "duration": 42,
    "start_time": "2022-06-30T19:42:11.514Z"
   },
   {
    "duration": 53,
    "start_time": "2022-06-30T19:42:22.022Z"
   },
   {
    "duration": 40,
    "start_time": "2022-06-30T19:42:28.393Z"
   },
   {
    "duration": 4,
    "start_time": "2022-06-30T19:42:41.552Z"
   },
   {
    "duration": 35,
    "start_time": "2022-06-30T19:42:43.299Z"
   },
   {
    "duration": 69,
    "start_time": "2022-06-30T19:44:44.681Z"
   },
   {
    "duration": 961,
    "start_time": "2022-06-30T19:44:49.086Z"
   },
   {
    "duration": 704,
    "start_time": "2022-06-30T19:45:04.057Z"
   },
   {
    "duration": 7,
    "start_time": "2022-06-30T19:46:31.271Z"
   },
   {
    "duration": 7,
    "start_time": "2022-06-30T19:47:05.909Z"
   },
   {
    "duration": 10,
    "start_time": "2022-06-30T19:47:22.293Z"
   },
   {
    "duration": 19,
    "start_time": "2022-06-30T19:47:51.506Z"
   },
   {
    "duration": 90,
    "start_time": "2022-06-30T19:53:31.376Z"
   },
   {
    "duration": 18,
    "start_time": "2022-06-30T19:53:37.756Z"
   },
   {
    "duration": 30,
    "start_time": "2022-06-30T19:55:00.798Z"
   },
   {
    "duration": 35,
    "start_time": "2022-06-30T19:55:09.788Z"
   },
   {
    "duration": 57,
    "start_time": "2022-06-30T19:56:28.514Z"
   },
   {
    "duration": 50,
    "start_time": "2022-06-30T19:57:02.390Z"
   },
   {
    "duration": 93,
    "start_time": "2022-06-30T19:57:58.707Z"
   },
   {
    "duration": 171,
    "start_time": "2022-06-30T19:59:19.208Z"
   },
   {
    "duration": 17,
    "start_time": "2022-06-30T19:59:25.268Z"
   },
   {
    "duration": 34,
    "start_time": "2022-06-30T19:59:25.417Z"
   },
   {
    "duration": 40,
    "start_time": "2022-06-30T19:59:25.551Z"
   },
   {
    "duration": 94,
    "start_time": "2022-06-30T19:59:25.710Z"
   },
   {
    "duration": 601,
    "start_time": "2022-06-30T19:59:25.846Z"
   },
   {
    "duration": 66,
    "start_time": "2022-06-30T19:59:41.636Z"
   },
   {
    "duration": 193,
    "start_time": "2022-06-30T20:00:01.287Z"
   },
   {
    "duration": 26,
    "start_time": "2022-06-30T20:00:04.084Z"
   },
   {
    "duration": 46,
    "start_time": "2022-06-30T20:00:04.219Z"
   },
   {
    "duration": 42,
    "start_time": "2022-06-30T20:00:04.768Z"
   },
   {
    "duration": 94,
    "start_time": "2022-06-30T20:00:05.866Z"
   },
   {
    "duration": 308,
    "start_time": "2022-06-30T20:03:27.646Z"
   },
   {
    "duration": 317,
    "start_time": "2022-06-30T20:05:38.521Z"
   },
   {
    "duration": 335,
    "start_time": "2022-06-30T20:06:40.134Z"
   },
   {
    "duration": 78,
    "start_time": "2022-06-30T20:08:54.144Z"
   },
   {
    "duration": 86,
    "start_time": "2022-06-30T20:09:02.982Z"
   },
   {
    "duration": 361,
    "start_time": "2022-06-30T20:10:20.216Z"
   },
   {
    "duration": 7,
    "start_time": "2022-06-30T20:11:36.066Z"
   },
   {
    "duration": 305,
    "start_time": "2022-06-30T20:12:15.460Z"
   },
   {
    "duration": 327,
    "start_time": "2022-06-30T20:13:15.058Z"
   },
   {
    "duration": 311,
    "start_time": "2022-06-30T20:13:21.818Z"
   },
   {
    "duration": 367,
    "start_time": "2022-06-30T20:13:37.122Z"
   },
   {
    "duration": 10,
    "start_time": "2022-06-30T20:14:27.217Z"
   },
   {
    "duration": 275,
    "start_time": "2022-06-30T20:14:44.201Z"
   },
   {
    "duration": 1425,
    "start_time": "2022-06-30T20:15:08.408Z"
   },
   {
    "duration": 378,
    "start_time": "2022-06-30T20:15:33.972Z"
   },
   {
    "duration": 162,
    "start_time": "2022-06-30T20:17:06.716Z"
   },
   {
    "duration": 37,
    "start_time": "2022-06-30T20:17:45.566Z"
   },
   {
    "duration": 265,
    "start_time": "2022-06-30T20:18:54.044Z"
   },
   {
    "duration": 342,
    "start_time": "2022-06-30T20:18:59.711Z"
   },
   {
    "duration": 37,
    "start_time": "2022-06-30T20:22:49.055Z"
   },
   {
    "duration": 16,
    "start_time": "2022-06-30T20:23:21.402Z"
   },
   {
    "duration": 18,
    "start_time": "2022-06-30T20:23:40.244Z"
   },
   {
    "duration": 271,
    "start_time": "2022-06-30T20:25:29.223Z"
   },
   {
    "duration": 26,
    "start_time": "2022-06-30T20:25:36.065Z"
   },
   {
    "duration": 300,
    "start_time": "2022-06-30T20:25:37.286Z"
   },
   {
    "duration": 284,
    "start_time": "2022-06-30T20:25:38.721Z"
   },
   {
    "duration": 59,
    "start_time": "2022-06-30T20:33:30.681Z"
   },
   {
    "duration": 75,
    "start_time": "2022-06-30T20:33:36.376Z"
   },
   {
    "duration": 61,
    "start_time": "2022-06-30T20:36:09.925Z"
   },
   {
    "duration": 193,
    "start_time": "2022-06-30T20:40:51.228Z"
   },
   {
    "duration": 84,
    "start_time": "2022-06-30T20:41:20.375Z"
   },
   {
    "duration": 46,
    "start_time": "2022-06-30T20:43:55.675Z"
   },
   {
    "duration": 18,
    "start_time": "2022-06-30T20:46:15.124Z"
   },
   {
    "duration": 33,
    "start_time": "2022-06-30T20:48:22.010Z"
   },
   {
    "duration": 29,
    "start_time": "2022-06-30T20:50:40.332Z"
   },
   {
    "duration": 19,
    "start_time": "2022-06-30T20:51:07.691Z"
   },
   {
    "duration": 293,
    "start_time": "2022-06-30T20:56:42.104Z"
   },
   {
    "duration": 276,
    "start_time": "2022-06-30T20:56:56.543Z"
   },
   {
    "duration": 383,
    "start_time": "2022-06-30T20:57:43.700Z"
   },
   {
    "duration": 410,
    "start_time": "2022-06-30T20:57:55.051Z"
   },
   {
    "duration": 16,
    "start_time": "2022-06-30T20:58:07.708Z"
   },
   {
    "duration": 412,
    "start_time": "2022-06-30T20:58:27.353Z"
   },
   {
    "duration": 342,
    "start_time": "2022-06-30T20:58:52.075Z"
   },
   {
    "duration": 99,
    "start_time": "2022-06-30T20:59:26.733Z"
   },
   {
    "duration": 72,
    "start_time": "2022-06-30T20:59:39.297Z"
   },
   {
    "duration": 398,
    "start_time": "2022-06-30T21:00:12.093Z"
   },
   {
    "duration": 299,
    "start_time": "2022-06-30T21:00:25.669Z"
   },
   {
    "duration": 304,
    "start_time": "2022-06-30T21:03:39.677Z"
   },
   {
    "duration": 320,
    "start_time": "2022-06-30T21:04:06.598Z"
   },
   {
    "duration": 311,
    "start_time": "2022-06-30T21:04:55.030Z"
   },
   {
    "duration": 459,
    "start_time": "2022-06-30T21:05:06.268Z"
   },
   {
    "duration": 554,
    "start_time": "2022-06-30T21:06:11.819Z"
   },
   {
    "duration": 331,
    "start_time": "2022-06-30T21:06:27.000Z"
   },
   {
    "duration": 312,
    "start_time": "2022-06-30T21:06:50.073Z"
   },
   {
    "duration": 354,
    "start_time": "2022-06-30T21:07:12.784Z"
   },
   {
    "duration": 283,
    "start_time": "2022-06-30T21:08:00.879Z"
   },
   {
    "duration": 342,
    "start_time": "2022-06-30T21:08:13.593Z"
   },
   {
    "duration": 370,
    "start_time": "2022-06-30T21:08:38.365Z"
   },
   {
    "duration": 290,
    "start_time": "2022-06-30T21:09:21.005Z"
   },
   {
    "duration": 315,
    "start_time": "2022-06-30T21:09:33.363Z"
   },
   {
    "duration": 318,
    "start_time": "2022-06-30T21:10:54.509Z"
   },
   {
    "duration": 336,
    "start_time": "2022-06-30T21:11:37.724Z"
   },
   {
    "duration": 466,
    "start_time": "2022-06-30T21:11:59.781Z"
   },
   {
    "duration": 389,
    "start_time": "2022-06-30T21:12:51.967Z"
   },
   {
    "duration": 292,
    "start_time": "2022-06-30T21:13:28.462Z"
   },
   {
    "duration": 3,
    "start_time": "2022-06-30T21:15:30.398Z"
   },
   {
    "duration": 290,
    "start_time": "2022-06-30T21:15:55.487Z"
   },
   {
    "duration": 436,
    "start_time": "2022-06-30T21:17:14.423Z"
   },
   {
    "duration": 334,
    "start_time": "2022-06-30T21:17:51.074Z"
   },
   {
    "duration": 314,
    "start_time": "2022-06-30T21:17:58.030Z"
   },
   {
    "duration": 390,
    "start_time": "2022-06-30T21:18:44.992Z"
   },
   {
    "duration": 282,
    "start_time": "2022-06-30T21:20:05.273Z"
   },
   {
    "duration": 290,
    "start_time": "2022-06-30T21:20:23.896Z"
   },
   {
    "duration": 269,
    "start_time": "2022-06-30T21:20:38.690Z"
   },
   {
    "duration": 302,
    "start_time": "2022-06-30T21:20:51.447Z"
   },
   {
    "duration": 324,
    "start_time": "2022-06-30T21:21:04.270Z"
   },
   {
    "duration": 443,
    "start_time": "2022-06-30T21:22:53.703Z"
   },
   {
    "duration": 292,
    "start_time": "2022-06-30T21:23:25.520Z"
   },
   {
    "duration": 311,
    "start_time": "2022-06-30T21:24:21.544Z"
   },
   {
    "duration": 62,
    "start_time": "2022-06-30T21:34:13.477Z"
   },
   {
    "duration": 298,
    "start_time": "2022-06-30T21:34:16.769Z"
   },
   {
    "duration": 312,
    "start_time": "2022-06-30T21:34:53.769Z"
   },
   {
    "duration": 304,
    "start_time": "2022-06-30T21:36:53.050Z"
   },
   {
    "duration": 390,
    "start_time": "2022-06-30T21:37:17.342Z"
   },
   {
    "duration": 24,
    "start_time": "2022-06-30T21:38:12.843Z"
   },
   {
    "duration": 306,
    "start_time": "2022-06-30T21:38:29.151Z"
   },
   {
    "duration": 299,
    "start_time": "2022-06-30T21:39:28.369Z"
   },
   {
    "duration": 29,
    "start_time": "2022-06-30T21:40:38.233Z"
   },
   {
    "duration": 307,
    "start_time": "2022-06-30T21:40:50.214Z"
   },
   {
    "duration": 302,
    "start_time": "2022-06-30T21:41:12.775Z"
   },
   {
    "duration": 411,
    "start_time": "2022-06-30T21:41:50.427Z"
   },
   {
    "duration": 313,
    "start_time": "2022-06-30T21:42:34.857Z"
   },
   {
    "duration": 308,
    "start_time": "2022-06-30T21:43:38.314Z"
   },
   {
    "duration": 1131,
    "start_time": "2022-06-30T21:49:52.619Z"
   },
   {
    "duration": 405,
    "start_time": "2022-06-30T21:49:53.751Z"
   },
   {
    "duration": 19,
    "start_time": "2022-06-30T21:49:54.158Z"
   },
   {
    "duration": 436,
    "start_time": "2022-06-30T21:49:54.179Z"
   },
   {
    "duration": 26,
    "start_time": "2022-06-30T21:49:54.617Z"
   },
   {
    "duration": 417,
    "start_time": "2022-06-30T21:49:54.645Z"
   },
   {
    "duration": 309,
    "start_time": "2022-06-30T21:49:55.063Z"
   },
   {
    "duration": 70,
    "start_time": "2022-06-30T21:49:55.374Z"
   },
   {
    "duration": 106,
    "start_time": "2022-06-30T21:49:55.445Z"
   },
   {
    "duration": 26,
    "start_time": "2022-06-30T21:49:55.555Z"
   },
   {
    "duration": 50,
    "start_time": "2022-06-30T21:49:55.583Z"
   },
   {
    "duration": 24,
    "start_time": "2022-06-30T21:49:55.635Z"
   },
   {
    "duration": 124,
    "start_time": "2022-06-30T21:49:55.661Z"
   },
   {
    "duration": 0,
    "start_time": "2022-06-30T21:49:55.787Z"
   },
   {
    "duration": 0,
    "start_time": "2022-06-30T21:49:55.788Z"
   },
   {
    "duration": 0,
    "start_time": "2022-06-30T21:49:55.789Z"
   },
   {
    "duration": 0,
    "start_time": "2022-06-30T21:49:55.791Z"
   },
   {
    "duration": 0,
    "start_time": "2022-06-30T21:49:55.792Z"
   },
   {
    "duration": 0,
    "start_time": "2022-06-30T21:49:55.793Z"
   },
   {
    "duration": 0,
    "start_time": "2022-06-30T21:49:55.794Z"
   },
   {
    "duration": 0,
    "start_time": "2022-06-30T21:49:55.796Z"
   },
   {
    "duration": 327,
    "start_time": "2022-06-30T21:50:46.295Z"
   },
   {
    "duration": 298,
    "start_time": "2022-06-30T21:50:50.639Z"
   },
   {
    "duration": 373,
    "start_time": "2022-06-30T21:50:52.466Z"
   },
   {
    "duration": 8,
    "start_time": "2022-06-30T22:23:17.195Z"
   },
   {
    "duration": 16,
    "start_time": "2022-06-30T22:24:59.471Z"
   },
   {
    "duration": 1085,
    "start_time": "2022-06-30T22:25:47.940Z"
   },
   {
    "duration": 416,
    "start_time": "2022-06-30T22:25:49.027Z"
   },
   {
    "duration": 19,
    "start_time": "2022-06-30T22:25:49.445Z"
   },
   {
    "duration": 403,
    "start_time": "2022-06-30T22:25:49.466Z"
   },
   {
    "duration": 19,
    "start_time": "2022-06-30T22:25:49.871Z"
   },
   {
    "duration": 390,
    "start_time": "2022-06-30T22:25:49.892Z"
   },
   {
    "duration": 294,
    "start_time": "2022-06-30T22:25:50.283Z"
   },
   {
    "duration": 68,
    "start_time": "2022-06-30T22:25:50.579Z"
   },
   {
    "duration": 95,
    "start_time": "2022-06-30T22:25:50.649Z"
   },
   {
    "duration": 17,
    "start_time": "2022-06-30T22:25:50.746Z"
   },
   {
    "duration": 28,
    "start_time": "2022-06-30T22:25:50.764Z"
   },
   {
    "duration": 45,
    "start_time": "2022-06-30T22:25:50.794Z"
   },
   {
    "duration": 289,
    "start_time": "2022-06-30T22:25:50.841Z"
   },
   {
    "duration": 311,
    "start_time": "2022-06-30T22:25:51.132Z"
   },
   {
    "duration": 369,
    "start_time": "2022-06-30T22:25:51.445Z"
   },
   {
    "duration": 21,
    "start_time": "2022-06-30T22:25:51.815Z"
   },
   {
    "duration": 109,
    "start_time": "2022-06-30T22:25:51.838Z"
   },
   {
    "duration": 0,
    "start_time": "2022-06-30T22:25:51.949Z"
   },
   {
    "duration": 0,
    "start_time": "2022-06-30T22:25:51.950Z"
   },
   {
    "duration": 26,
    "start_time": "2022-06-30T22:31:41.016Z"
   },
   {
    "duration": 21,
    "start_time": "2022-06-30T22:31:55.603Z"
   },
   {
    "duration": 25,
    "start_time": "2022-06-30T22:34:46.242Z"
   },
   {
    "duration": 25,
    "start_time": "2022-06-30T22:35:42.391Z"
   },
   {
    "duration": 23,
    "start_time": "2022-06-30T22:35:51.847Z"
   },
   {
    "duration": 27,
    "start_time": "2022-06-30T22:38:25.261Z"
   },
   {
    "duration": 37,
    "start_time": "2022-06-30T22:38:44.011Z"
   },
   {
    "duration": 25,
    "start_time": "2022-06-30T22:39:09.944Z"
   },
   {
    "duration": 4,
    "start_time": "2022-06-30T22:54:00.712Z"
   },
   {
    "duration": 17,
    "start_time": "2022-06-30T22:54:18.822Z"
   },
   {
    "duration": 9,
    "start_time": "2022-06-30T22:57:05.491Z"
   },
   {
    "duration": 14,
    "start_time": "2022-06-30T22:57:21.179Z"
   },
   {
    "duration": 16,
    "start_time": "2022-06-30T22:58:14.494Z"
   },
   {
    "duration": 15,
    "start_time": "2022-06-30T22:58:30.602Z"
   },
   {
    "duration": 692,
    "start_time": "2022-06-30T22:58:43.986Z"
   },
   {
    "duration": 761,
    "start_time": "2022-06-30T23:00:14.560Z"
   },
   {
    "duration": 740,
    "start_time": "2022-06-30T23:01:41.240Z"
   },
   {
    "duration": 850,
    "start_time": "2022-06-30T23:05:06.002Z"
   },
   {
    "duration": 55,
    "start_time": "2022-06-30T23:06:53.051Z"
   },
   {
    "duration": 797,
    "start_time": "2022-06-30T23:06:59.269Z"
   },
   {
    "duration": 752,
    "start_time": "2022-06-30T23:07:12.104Z"
   },
   {
    "duration": 778,
    "start_time": "2022-06-30T23:08:38.614Z"
   },
   {
    "duration": 708,
    "start_time": "2022-06-30T23:10:45.079Z"
   },
   {
    "duration": 55,
    "start_time": "2022-06-30T23:12:44.548Z"
   },
   {
    "duration": 6,
    "start_time": "2022-06-30T23:12:53.070Z"
   },
   {
    "duration": 810,
    "start_time": "2022-06-30T23:13:09.601Z"
   },
   {
    "duration": 742,
    "start_time": "2022-06-30T23:14:24.297Z"
   },
   {
    "duration": 739,
    "start_time": "2022-06-30T23:14:42.883Z"
   },
   {
    "duration": 306,
    "start_time": "2022-06-30T23:23:48.139Z"
   },
   {
    "duration": 316,
    "start_time": "2022-06-30T23:24:18.869Z"
   },
   {
    "duration": 346,
    "start_time": "2022-06-30T23:24:44.918Z"
   },
   {
    "duration": 90,
    "start_time": "2022-06-30T23:25:00.515Z"
   },
   {
    "duration": 351,
    "start_time": "2022-06-30T23:25:06.326Z"
   },
   {
    "duration": 1392,
    "start_time": "2022-07-01T09:51:26.590Z"
   },
   {
    "duration": 700,
    "start_time": "2022-07-01T09:51:27.984Z"
   },
   {
    "duration": 23,
    "start_time": "2022-07-01T09:51:28.687Z"
   },
   {
    "duration": 431,
    "start_time": "2022-07-01T09:51:30.249Z"
   },
   {
    "duration": 18,
    "start_time": "2022-07-01T09:51:31.451Z"
   },
   {
    "duration": 383,
    "start_time": "2022-07-01T09:51:32.883Z"
   },
   {
    "duration": 315,
    "start_time": "2022-07-01T09:52:33.279Z"
   },
   {
    "duration": 51,
    "start_time": "2022-07-01T09:52:44.843Z"
   },
   {
    "duration": 92,
    "start_time": "2022-07-01T09:52:49.004Z"
   },
   {
    "duration": 18,
    "start_time": "2022-07-01T09:52:55.604Z"
   },
   {
    "duration": 30,
    "start_time": "2022-07-01T09:53:23.135Z"
   },
   {
    "duration": 18,
    "start_time": "2022-07-01T09:53:24.370Z"
   },
   {
    "duration": 352,
    "start_time": "2022-07-01T09:53:28.985Z"
   },
   {
    "duration": 337,
    "start_time": "2022-07-01T10:54:28.551Z"
   },
   {
    "duration": 420,
    "start_time": "2022-07-01T10:54:38.605Z"
   },
   {
    "duration": 362,
    "start_time": "2022-07-01T11:00:01.374Z"
   },
   {
    "duration": 345,
    "start_time": "2022-07-01T11:00:13.971Z"
   },
   {
    "duration": 342,
    "start_time": "2022-07-01T11:00:21.747Z"
   },
   {
    "duration": 389,
    "start_time": "2022-07-01T11:00:45.749Z"
   },
   {
    "duration": 338,
    "start_time": "2022-07-01T11:03:31.373Z"
   },
   {
    "duration": 441,
    "start_time": "2022-07-01T11:04:15.645Z"
   },
   {
    "duration": 352,
    "start_time": "2022-07-01T11:22:56.551Z"
   },
   {
    "duration": 5,
    "start_time": "2022-07-01T12:01:21.825Z"
   },
   {
    "duration": 444,
    "start_time": "2022-07-01T12:01:22.843Z"
   },
   {
    "duration": 26,
    "start_time": "2022-07-01T12:01:23.289Z"
   },
   {
    "duration": 431,
    "start_time": "2022-07-01T12:01:23.374Z"
   },
   {
    "duration": 23,
    "start_time": "2022-07-01T12:01:24.674Z"
   },
   {
    "duration": 456,
    "start_time": "2022-07-01T12:01:25.229Z"
   },
   {
    "duration": 305,
    "start_time": "2022-07-01T12:01:32.122Z"
   },
   {
    "duration": 50,
    "start_time": "2022-07-01T12:01:33.994Z"
   },
   {
    "duration": 105,
    "start_time": "2022-07-01T12:01:34.770Z"
   },
   {
    "duration": 21,
    "start_time": "2022-07-01T12:01:36.404Z"
   },
   {
    "duration": 44,
    "start_time": "2022-07-01T12:01:37.223Z"
   },
   {
    "duration": 25,
    "start_time": "2022-07-01T12:01:38.700Z"
   },
   {
    "duration": 446,
    "start_time": "2022-07-01T12:01:41.437Z"
   },
   {
    "duration": 527,
    "start_time": "2022-07-01T12:01:49.224Z"
   },
   {
    "duration": 402,
    "start_time": "2022-07-01T12:01:51.401Z"
   },
   {
    "duration": 42,
    "start_time": "2022-07-01T12:02:03.457Z"
   },
   {
    "duration": 35,
    "start_time": "2022-07-01T12:09:44.467Z"
   },
   {
    "duration": 798,
    "start_time": "2022-07-01T12:12:50.173Z"
   },
   {
    "duration": 772,
    "start_time": "2022-07-01T12:13:18.401Z"
   },
   {
    "duration": 1338,
    "start_time": "2022-07-01T12:13:52.209Z"
   },
   {
    "duration": 779,
    "start_time": "2022-07-01T12:14:19.041Z"
   },
   {
    "duration": 860,
    "start_time": "2022-07-01T12:14:52.082Z"
   },
   {
    "duration": 886,
    "start_time": "2022-07-01T12:15:30.043Z"
   },
   {
    "duration": 745,
    "start_time": "2022-07-01T12:19:26.631Z"
   },
   {
    "duration": 797,
    "start_time": "2022-07-01T12:20:47.196Z"
   },
   {
    "duration": 845,
    "start_time": "2022-07-01T12:21:16.310Z"
   },
   {
    "duration": 40,
    "start_time": "2022-07-01T12:28:56.425Z"
   },
   {
    "duration": 33,
    "start_time": "2022-07-01T12:29:25.560Z"
   },
   {
    "duration": 8,
    "start_time": "2022-07-01T12:38:35.401Z"
   },
   {
    "duration": 24,
    "start_time": "2022-07-01T12:40:18.023Z"
   },
   {
    "duration": 22,
    "start_time": "2022-07-01T12:47:00.978Z"
   },
   {
    "duration": 21,
    "start_time": "2022-07-01T12:47:28.381Z"
   },
   {
    "duration": 855,
    "start_time": "2022-07-01T13:02:14.778Z"
   },
   {
    "duration": 857,
    "start_time": "2022-07-01T13:03:14.993Z"
   },
   {
    "duration": 761,
    "start_time": "2022-07-01T13:03:44.330Z"
   },
   {
    "duration": 785,
    "start_time": "2022-07-01T13:09:40.208Z"
   },
   {
    "duration": 800,
    "start_time": "2022-07-01T13:10:18.932Z"
   },
   {
    "duration": 854,
    "start_time": "2022-07-01T13:10:43.014Z"
   },
   {
    "duration": 28,
    "start_time": "2022-07-01T13:29:13.286Z"
   },
   {
    "duration": 28,
    "start_time": "2022-07-01T13:29:56.553Z"
   },
   {
    "duration": 33,
    "start_time": "2022-07-01T13:30:06.348Z"
   },
   {
    "duration": 29,
    "start_time": "2022-07-01T13:30:13.328Z"
   },
   {
    "duration": 28,
    "start_time": "2022-07-01T13:30:42.847Z"
   },
   {
    "duration": 1431,
    "start_time": "2022-07-01T13:32:24.444Z"
   },
   {
    "duration": 29,
    "start_time": "2022-07-01T13:32:40.184Z"
   },
   {
    "duration": 19,
    "start_time": "2022-07-01T13:32:54.402Z"
   },
   {
    "duration": 22,
    "start_time": "2022-07-01T13:33:06.161Z"
   },
   {
    "duration": 26,
    "start_time": "2022-07-01T13:35:13.775Z"
   },
   {
    "duration": 31,
    "start_time": "2022-07-01T13:35:28.980Z"
   },
   {
    "duration": 47,
    "start_time": "2022-07-01T13:37:29.547Z"
   },
   {
    "duration": 41,
    "start_time": "2022-07-01T13:37:36.752Z"
   },
   {
    "duration": 40,
    "start_time": "2022-07-01T13:40:40.364Z"
   },
   {
    "duration": 118,
    "start_time": "2022-07-01T13:41:06.012Z"
   },
   {
    "duration": 40,
    "start_time": "2022-07-01T13:41:31.069Z"
   },
   {
    "duration": 40,
    "start_time": "2022-07-01T13:42:54.587Z"
   },
   {
    "duration": 36,
    "start_time": "2022-07-01T13:43:37.077Z"
   },
   {
    "duration": 54,
    "start_time": "2022-07-01T13:44:59.090Z"
   },
   {
    "duration": 62,
    "start_time": "2022-07-01T13:45:13.204Z"
   },
   {
    "duration": 49,
    "start_time": "2022-07-01T13:45:36.491Z"
   },
   {
    "duration": 57,
    "start_time": "2022-07-01T13:46:26.501Z"
   },
   {
    "duration": 53,
    "start_time": "2022-07-01T13:47:31.924Z"
   },
   {
    "duration": 52,
    "start_time": "2022-07-01T13:50:52.037Z"
   },
   {
    "duration": 167,
    "start_time": "2022-07-01T13:51:16.949Z"
   },
   {
    "duration": 9,
    "start_time": "2022-07-01T13:52:19.692Z"
   },
   {
    "duration": 13,
    "start_time": "2022-07-01T13:52:23.333Z"
   },
   {
    "duration": 56,
    "start_time": "2022-07-01T13:53:23.025Z"
   },
   {
    "duration": 51,
    "start_time": "2022-07-01T13:53:36.732Z"
   },
   {
    "duration": 56,
    "start_time": "2022-07-01T13:53:57.556Z"
   },
   {
    "duration": 153,
    "start_time": "2022-07-01T13:54:04.327Z"
   },
   {
    "duration": 132,
    "start_time": "2022-07-01T13:54:14.582Z"
   },
   {
    "duration": 14,
    "start_time": "2022-07-01T13:54:34.302Z"
   },
   {
    "duration": 14,
    "start_time": "2022-07-01T13:54:57.316Z"
   },
   {
    "duration": 158,
    "start_time": "2022-07-01T13:55:07.020Z"
   },
   {
    "duration": 141,
    "start_time": "2022-07-01T13:55:14.016Z"
   },
   {
    "duration": 1269,
    "start_time": "2022-07-01T13:56:11.774Z"
   },
   {
    "duration": 131,
    "start_time": "2022-07-01T13:56:21.535Z"
   },
   {
    "duration": 118,
    "start_time": "2022-07-01T13:59:59.663Z"
   },
   {
    "duration": 112,
    "start_time": "2022-07-01T14:00:41.319Z"
   },
   {
    "duration": 122,
    "start_time": "2022-07-01T14:01:04.442Z"
   },
   {
    "duration": 14,
    "start_time": "2022-07-01T14:03:22.696Z"
   },
   {
    "duration": 8,
    "start_time": "2022-07-01T14:03:37.620Z"
   },
   {
    "duration": 4,
    "start_time": "2022-07-01T14:04:06.290Z"
   },
   {
    "duration": 12,
    "start_time": "2022-07-01T14:04:24.943Z"
   },
   {
    "duration": 20,
    "start_time": "2022-07-01T14:05:35.787Z"
   },
   {
    "duration": 504,
    "start_time": "2022-07-01T14:06:35.919Z"
   },
   {
    "duration": 33,
    "start_time": "2022-07-01T14:07:33.520Z"
   },
   {
    "duration": 433,
    "start_time": "2022-07-01T14:08:44.802Z"
   },
   {
    "duration": 33,
    "start_time": "2022-07-01T14:08:55.715Z"
   },
   {
    "duration": 30,
    "start_time": "2022-07-01T14:11:57.996Z"
   },
   {
    "duration": 26,
    "start_time": "2022-07-01T14:12:52.135Z"
   },
   {
    "duration": 26,
    "start_time": "2022-07-01T14:13:36.366Z"
   },
   {
    "duration": 26,
    "start_time": "2022-07-01T14:13:50.870Z"
   },
   {
    "duration": 35,
    "start_time": "2022-07-01T14:14:02.165Z"
   },
   {
    "duration": 28,
    "start_time": "2022-07-01T14:14:20.224Z"
   },
   {
    "duration": 10,
    "start_time": "2022-07-01T14:15:07.280Z"
   },
   {
    "duration": 120,
    "start_time": "2022-07-01T14:15:12.203Z"
   },
   {
    "duration": 62,
    "start_time": "2022-07-01T14:15:27.420Z"
   },
   {
    "duration": 180,
    "start_time": "2022-07-01T14:15:35.711Z"
   },
   {
    "duration": 15,
    "start_time": "2022-07-01T14:16:02.477Z"
   },
   {
    "duration": 15,
    "start_time": "2022-07-01T14:16:39.080Z"
   },
   {
    "duration": 46,
    "start_time": "2022-07-01T14:16:53.738Z"
   },
   {
    "duration": 16,
    "start_time": "2022-07-01T14:17:09.763Z"
   },
   {
    "duration": 61,
    "start_time": "2022-07-01T14:18:14.091Z"
   },
   {
    "duration": 213,
    "start_time": "2022-07-01T14:18:28.224Z"
   },
   {
    "duration": 187,
    "start_time": "2022-07-01T14:18:52.520Z"
   },
   {
    "duration": 17,
    "start_time": "2022-07-01T14:19:20.380Z"
   },
   {
    "duration": 131,
    "start_time": "2022-07-01T14:19:49.186Z"
   },
   {
    "duration": 179,
    "start_time": "2022-07-01T14:20:15.619Z"
   },
   {
    "duration": 51,
    "start_time": "2022-07-01T14:20:25.638Z"
   },
   {
    "duration": 541,
    "start_time": "2022-07-01T14:21:24.465Z"
   },
   {
    "duration": 19,
    "start_time": "2022-07-01T14:21:37.840Z"
   },
   {
    "duration": 177,
    "start_time": "2022-07-01T14:24:49.499Z"
   },
   {
    "duration": 223,
    "start_time": "2022-07-01T14:25:11.172Z"
   },
   {
    "duration": 48,
    "start_time": "2022-07-01T14:26:17.552Z"
   },
   {
    "duration": 53,
    "start_time": "2022-07-01T14:26:22.945Z"
   },
   {
    "duration": 96,
    "start_time": "2022-07-01T14:26:48.210Z"
   },
   {
    "duration": 400,
    "start_time": "2022-07-01T14:27:07.477Z"
   },
   {
    "duration": 54,
    "start_time": "2022-07-01T14:27:40.928Z"
   },
   {
    "duration": 213,
    "start_time": "2022-07-01T14:28:17.157Z"
   },
   {
    "duration": 350,
    "start_time": "2022-07-01T14:28:36.729Z"
   },
   {
    "duration": 842,
    "start_time": "2022-07-01T14:29:50.626Z"
   },
   {
    "duration": 209,
    "start_time": "2022-07-01T14:30:09.973Z"
   },
   {
    "duration": 310,
    "start_time": "2022-07-01T14:33:06.835Z"
   },
   {
    "duration": 207,
    "start_time": "2022-07-01T14:35:20.705Z"
   },
   {
    "duration": 230,
    "start_time": "2022-07-01T14:37:03.114Z"
   },
   {
    "duration": 352,
    "start_time": "2022-07-01T14:37:11.601Z"
   },
   {
    "duration": 300,
    "start_time": "2022-07-01T14:37:18.212Z"
   },
   {
    "duration": 62,
    "start_time": "2022-07-01T14:39:25.862Z"
   },
   {
    "duration": 308,
    "start_time": "2022-07-01T14:39:31.416Z"
   },
   {
    "duration": 58,
    "start_time": "2022-07-01T14:39:45.918Z"
   },
   {
    "duration": 58,
    "start_time": "2022-07-01T14:40:24.522Z"
   },
   {
    "duration": 348,
    "start_time": "2022-07-01T14:40:39.583Z"
   },
   {
    "duration": 396,
    "start_time": "2022-07-01T14:41:31.193Z"
   },
   {
    "duration": 331,
    "start_time": "2022-07-01T14:42:16.633Z"
   },
   {
    "duration": 1054,
    "start_time": "2022-07-01T14:42:42.195Z"
   },
   {
    "duration": 907,
    "start_time": "2022-07-01T14:44:30.545Z"
   },
   {
    "duration": 932,
    "start_time": "2022-07-01T14:46:25.339Z"
   },
   {
    "duration": 67,
    "start_time": "2022-07-01T14:47:38.647Z"
   },
   {
    "duration": 1121,
    "start_time": "2022-07-01T14:47:42.525Z"
   },
   {
    "duration": 1014,
    "start_time": "2022-07-01T14:49:24.784Z"
   },
   {
    "duration": 1092,
    "start_time": "2022-07-01T14:51:15.871Z"
   },
   {
    "duration": 113,
    "start_time": "2022-07-01T14:53:36.209Z"
   },
   {
    "duration": 411,
    "start_time": "2022-07-01T14:53:42.311Z"
   },
   {
    "duration": 953,
    "start_time": "2022-07-01T14:54:33.059Z"
   },
   {
    "duration": 959,
    "start_time": "2022-07-01T14:57:27.809Z"
   },
   {
    "duration": 1012,
    "start_time": "2022-07-01T14:58:04.054Z"
   },
   {
    "duration": 341,
    "start_time": "2022-07-01T14:58:51.652Z"
   },
   {
    "duration": 547,
    "start_time": "2022-07-01T14:59:12.197Z"
   },
   {
    "duration": 961,
    "start_time": "2022-07-01T14:59:35.967Z"
   },
   {
    "duration": 980,
    "start_time": "2022-07-01T14:59:44.516Z"
   },
   {
    "duration": 959,
    "start_time": "2022-07-01T14:59:57.235Z"
   },
   {
    "duration": 58,
    "start_time": "2022-07-01T15:01:31.816Z"
   },
   {
    "duration": 934,
    "start_time": "2022-07-01T15:01:48.420Z"
   },
   {
    "duration": 58,
    "start_time": "2022-07-01T15:20:04.800Z"
   },
   {
    "duration": 64,
    "start_time": "2022-07-01T15:21:13.867Z"
   },
   {
    "duration": 61,
    "start_time": "2022-07-01T15:21:22.883Z"
   },
   {
    "duration": 59,
    "start_time": "2022-07-01T15:25:17.363Z"
   },
   {
    "duration": 1140,
    "start_time": "2022-07-01T15:25:45.036Z"
   },
   {
    "duration": 1264,
    "start_time": "2022-07-01T15:30:58.742Z"
   },
   {
    "duration": 61,
    "start_time": "2022-07-01T15:31:27.077Z"
   },
   {
    "duration": 492,
    "start_time": "2022-07-01T15:31:44.560Z"
   },
   {
    "duration": 1117,
    "start_time": "2022-07-01T15:31:53.424Z"
   },
   {
    "duration": 792,
    "start_time": "2022-07-01T15:32:35.510Z"
   },
   {
    "duration": 980,
    "start_time": "2022-07-01T15:35:18.242Z"
   },
   {
    "duration": 48,
    "start_time": "2022-07-01T15:35:26.264Z"
   },
   {
    "duration": 860,
    "start_time": "2022-07-01T15:35:48.501Z"
   },
   {
    "duration": 7,
    "start_time": "2022-07-01T15:38:14.057Z"
   },
   {
    "duration": 929,
    "start_time": "2022-07-01T15:38:26.716Z"
   },
   {
    "duration": 824,
    "start_time": "2022-07-01T15:38:35.478Z"
   },
   {
    "duration": 58,
    "start_time": "2022-07-01T15:39:21.934Z"
   },
   {
    "duration": 61,
    "start_time": "2022-07-01T15:39:32.307Z"
   },
   {
    "duration": 1030,
    "start_time": "2022-07-01T15:39:42.350Z"
   },
   {
    "duration": 58,
    "start_time": "2022-07-01T15:39:50.505Z"
   },
   {
    "duration": 52,
    "start_time": "2022-07-01T15:40:35.762Z"
   },
   {
    "duration": 50,
    "start_time": "2022-07-01T15:41:29.262Z"
   },
   {
    "duration": 769,
    "start_time": "2022-07-01T15:43:05.403Z"
   },
   {
    "duration": 805,
    "start_time": "2022-07-01T15:43:49.496Z"
   },
   {
    "duration": 58,
    "start_time": "2022-07-01T15:44:06.855Z"
   },
   {
    "duration": 793,
    "start_time": "2022-07-01T15:45:08.985Z"
   },
   {
    "duration": 850,
    "start_time": "2022-07-01T15:45:41.335Z"
   },
   {
    "duration": 1005,
    "start_time": "2022-07-01T15:46:00.384Z"
   },
   {
    "duration": 67,
    "start_time": "2022-07-01T15:46:12.578Z"
   },
   {
    "duration": 877,
    "start_time": "2022-07-01T15:46:50.748Z"
   },
   {
    "duration": 817,
    "start_time": "2022-07-01T15:47:08.295Z"
   },
   {
    "duration": 1286,
    "start_time": "2022-07-01T15:47:14.571Z"
   },
   {
    "duration": 54,
    "start_time": "2022-07-01T15:47:35.911Z"
   },
   {
    "duration": 14,
    "start_time": "2022-07-01T16:15:52.972Z"
   },
   {
    "duration": 14,
    "start_time": "2022-07-01T16:17:17.106Z"
   },
   {
    "duration": 15,
    "start_time": "2022-07-01T16:17:21.642Z"
   },
   {
    "duration": 23,
    "start_time": "2022-07-01T16:17:25.443Z"
   },
   {
    "duration": 24,
    "start_time": "2022-07-01T16:17:48.574Z"
   },
   {
    "duration": 27,
    "start_time": "2022-07-01T16:17:56.557Z"
   },
   {
    "duration": 33,
    "start_time": "2022-07-01T16:18:35.487Z"
   },
   {
    "duration": 21,
    "start_time": "2022-07-01T16:20:29.992Z"
   },
   {
    "duration": 21,
    "start_time": "2022-07-01T16:21:17.471Z"
   },
   {
    "duration": 1496,
    "start_time": "2022-07-01T16:23:30.013Z"
   },
   {
    "duration": 1471,
    "start_time": "2022-07-01T16:23:50.813Z"
   },
   {
    "duration": 11,
    "start_time": "2022-07-01T16:25:41.989Z"
   },
   {
    "duration": 32,
    "start_time": "2022-07-01T16:26:35.781Z"
   },
   {
    "duration": 49,
    "start_time": "2022-07-01T16:28:35.794Z"
   },
   {
    "duration": 5,
    "start_time": "2022-07-01T16:28:48.152Z"
   },
   {
    "duration": 22,
    "start_time": "2022-07-01T16:29:06.626Z"
   },
   {
    "duration": 1610,
    "start_time": "2022-07-01T16:29:19.332Z"
   },
   {
    "duration": 445,
    "start_time": "2022-07-01T16:31:19.518Z"
   },
   {
    "duration": 417,
    "start_time": "2022-07-01T16:31:53.613Z"
   },
   {
    "duration": 122,
    "start_time": "2022-07-01T16:32:16.180Z"
   },
   {
    "duration": 118,
    "start_time": "2022-07-01T16:32:25.409Z"
   },
   {
    "duration": 432,
    "start_time": "2022-07-01T16:32:49.803Z"
   },
   {
    "duration": 527,
    "start_time": "2022-07-01T16:33:53.694Z"
   },
   {
    "duration": 456,
    "start_time": "2022-07-01T16:34:19.832Z"
   },
   {
    "duration": 7,
    "start_time": "2022-07-01T16:40:08.778Z"
   },
   {
    "duration": 23,
    "start_time": "2022-07-01T16:40:17.871Z"
   },
   {
    "duration": 23,
    "start_time": "2022-07-01T16:40:27.477Z"
   },
   {
    "duration": 629,
    "start_time": "2022-07-01T16:41:07.848Z"
   },
   {
    "duration": 615,
    "start_time": "2022-07-01T16:41:21.992Z"
   },
   {
    "duration": 1233,
    "start_time": "2022-07-01T16:42:10.293Z"
   },
   {
    "duration": 1135,
    "start_time": "2022-07-01T16:42:43.015Z"
   },
   {
    "duration": 1198,
    "start_time": "2022-07-01T16:42:53.957Z"
   },
   {
    "duration": 2179,
    "start_time": "2022-07-01T16:43:05.285Z"
   },
   {
    "duration": 1336,
    "start_time": "2022-07-01T16:43:09.961Z"
   },
   {
    "duration": 9,
    "start_time": "2022-07-01T16:49:10.553Z"
   },
   {
    "duration": 44,
    "start_time": "2022-07-01T16:49:11.545Z"
   },
   {
    "duration": 734,
    "start_time": "2022-07-01T16:49:25.718Z"
   },
   {
    "duration": 8,
    "start_time": "2022-07-01T16:49:38.344Z"
   },
   {
    "duration": 47,
    "start_time": "2022-07-01T16:49:45.770Z"
   },
   {
    "duration": 1230,
    "start_time": "2022-07-01T16:51:06.472Z"
   },
   {
    "duration": 12,
    "start_time": "2022-07-01T16:54:25.895Z"
   },
   {
    "duration": 13,
    "start_time": "2022-07-01T16:55:36.895Z"
   },
   {
    "duration": 14,
    "start_time": "2022-07-01T16:55:45.556Z"
   },
   {
    "duration": 1111,
    "start_time": "2022-07-01T16:57:03.159Z"
   },
   {
    "duration": 21,
    "start_time": "2022-07-01T16:58:04.590Z"
   },
   {
    "duration": 43,
    "start_time": "2022-07-01T16:58:09.973Z"
   },
   {
    "duration": 20,
    "start_time": "2022-07-01T16:58:39.111Z"
   },
   {
    "duration": 553,
    "start_time": "2022-07-01T16:59:27.580Z"
   },
   {
    "duration": 646,
    "start_time": "2022-07-01T17:00:33.001Z"
   },
   {
    "duration": 635,
    "start_time": "2022-07-01T17:00:55.668Z"
   },
   {
    "duration": 731,
    "start_time": "2022-07-01T17:02:18.565Z"
   },
   {
    "duration": 156,
    "start_time": "2022-07-01T17:03:28.852Z"
   },
   {
    "duration": 1644,
    "start_time": "2022-07-01T17:03:43.747Z"
   },
   {
    "duration": 1761,
    "start_time": "2022-07-01T17:04:13.584Z"
   },
   {
    "duration": 1577,
    "start_time": "2022-07-01T17:09:17.168Z"
   },
   {
    "duration": 1769,
    "start_time": "2022-07-01T17:09:25.484Z"
   },
   {
    "duration": 1693,
    "start_time": "2022-07-01T17:09:38.086Z"
   },
   {
    "duration": 1698,
    "start_time": "2022-07-01T17:09:46.405Z"
   },
   {
    "duration": 1672,
    "start_time": "2022-07-01T17:09:50.232Z"
   },
   {
    "duration": 1573,
    "start_time": "2022-07-01T17:10:07.591Z"
   },
   {
    "duration": 1726,
    "start_time": "2022-07-01T17:10:23.423Z"
   },
   {
    "duration": 1713,
    "start_time": "2022-07-01T17:10:40.962Z"
   },
   {
    "duration": 68,
    "start_time": "2022-07-01T17:13:52.395Z"
   },
   {
    "duration": 54,
    "start_time": "2022-07-01T17:16:19.494Z"
   },
   {
    "duration": 67,
    "start_time": "2022-07-01T17:16:40.023Z"
   },
   {
    "duration": 65,
    "start_time": "2022-07-01T17:17:48.057Z"
   },
   {
    "duration": 199,
    "start_time": "2022-07-01T17:18:32.689Z"
   },
   {
    "duration": 1039,
    "start_time": "2022-07-01T17:18:41.203Z"
   },
   {
    "duration": 347,
    "start_time": "2022-07-01T17:19:32.602Z"
   },
   {
    "duration": 192,
    "start_time": "2022-07-01T17:20:16.488Z"
   },
   {
    "duration": 961,
    "start_time": "2022-07-01T17:21:30.178Z"
   },
   {
    "duration": 962,
    "start_time": "2022-07-01T17:21:43.225Z"
   },
   {
    "duration": 69,
    "start_time": "2022-07-01T17:23:00.227Z"
   },
   {
    "duration": 66,
    "start_time": "2022-07-01T17:24:40.951Z"
   },
   {
    "duration": 814,
    "start_time": "2022-07-01T17:25:09.344Z"
   },
   {
    "duration": 70,
    "start_time": "2022-07-01T17:26:21.675Z"
   },
   {
    "duration": 1771,
    "start_time": "2022-07-01T17:27:19.007Z"
   },
   {
    "duration": 81,
    "start_time": "2022-07-01T17:27:57.508Z"
   },
   {
    "duration": 34,
    "start_time": "2022-07-01T17:48:19.456Z"
   },
   {
    "duration": 47,
    "start_time": "2022-07-01T17:49:03.128Z"
   },
   {
    "duration": 37,
    "start_time": "2022-07-01T17:49:37.003Z"
   },
   {
    "duration": 51,
    "start_time": "2022-07-01T17:51:36.856Z"
   },
   {
    "duration": 214,
    "start_time": "2022-07-01T17:58:42.188Z"
   },
   {
    "duration": 82,
    "start_time": "2022-07-01T17:58:46.331Z"
   },
   {
    "duration": 1658,
    "start_time": "2022-07-01T17:58:48.026Z"
   },
   {
    "duration": 271,
    "start_time": "2022-07-01T18:00:22.133Z"
   },
   {
    "duration": 1661,
    "start_time": "2022-07-01T18:00:51.945Z"
   },
   {
    "duration": 80,
    "start_time": "2022-07-01T18:06:06.840Z"
   },
   {
    "duration": 1738,
    "start_time": "2022-07-01T18:06:46.518Z"
   },
   {
    "duration": 1589,
    "start_time": "2022-07-01T18:06:56.090Z"
   },
   {
    "duration": 54,
    "start_time": "2022-07-01T18:12:54.391Z"
   },
   {
    "duration": 1790,
    "start_time": "2022-07-01T18:13:08.221Z"
   },
   {
    "duration": 1684,
    "start_time": "2022-07-01T18:13:29.183Z"
   },
   {
    "duration": 1863,
    "start_time": "2022-07-01T18:14:25.913Z"
   },
   {
    "duration": 1712,
    "start_time": "2022-07-01T18:14:40.730Z"
   },
   {
    "duration": 1810,
    "start_time": "2022-07-01T18:15:37.036Z"
   },
   {
    "duration": 1637,
    "start_time": "2022-07-01T18:17:05.793Z"
   },
   {
    "duration": 1867,
    "start_time": "2022-07-01T18:17:13.695Z"
   },
   {
    "duration": 1624,
    "start_time": "2022-07-01T18:17:51.312Z"
   },
   {
    "duration": 1783,
    "start_time": "2022-07-01T18:18:09.734Z"
   },
   {
    "duration": 73,
    "start_time": "2022-07-01T18:19:43.324Z"
   },
   {
    "duration": 1763,
    "start_time": "2022-07-01T18:19:47.714Z"
   },
   {
    "duration": 1633,
    "start_time": "2022-07-01T18:22:56.344Z"
   },
   {
    "duration": 8,
    "start_time": "2022-07-01T18:26:12.722Z"
   },
   {
    "duration": 81,
    "start_time": "2022-07-01T18:31:25.865Z"
   },
   {
    "duration": 462,
    "start_time": "2022-07-01T19:15:07.838Z"
   },
   {
    "duration": 422,
    "start_time": "2022-07-01T19:17:17.244Z"
   },
   {
    "duration": 14,
    "start_time": "2022-07-01T19:28:14.469Z"
   },
   {
    "duration": 16,
    "start_time": "2022-07-01T19:29:33.774Z"
   },
   {
    "duration": 10,
    "start_time": "2022-07-01T19:29:42.528Z"
   },
   {
    "duration": 12,
    "start_time": "2022-07-01T19:29:54.987Z"
   },
   {
    "duration": 16,
    "start_time": "2022-07-01T19:30:35.868Z"
   },
   {
    "duration": 23,
    "start_time": "2022-07-01T19:30:54.539Z"
   },
   {
    "duration": 989,
    "start_time": "2022-07-01T19:32:46.310Z"
   },
   {
    "duration": 18,
    "start_time": "2022-07-01T19:32:56.237Z"
   },
   {
    "duration": 24,
    "start_time": "2022-07-01T19:34:40.799Z"
   },
   {
    "duration": 20,
    "start_time": "2022-07-01T19:35:39.393Z"
   },
   {
    "duration": 19,
    "start_time": "2022-07-01T19:36:10.385Z"
   },
   {
    "duration": 22,
    "start_time": "2022-07-01T19:36:25.384Z"
   },
   {
    "duration": 100,
    "start_time": "2022-07-01T19:36:37.343Z"
   },
   {
    "duration": 1006,
    "start_time": "2022-07-01T19:37:26.393Z"
   },
   {
    "duration": 81,
    "start_time": "2022-07-01T19:37:33.317Z"
   },
   {
    "duration": 969,
    "start_time": "2022-07-01T19:37:45.970Z"
   },
   {
    "duration": 1005,
    "start_time": "2022-07-01T19:38:11.016Z"
   },
   {
    "duration": 912,
    "start_time": "2022-07-01T19:38:16.897Z"
   },
   {
    "duration": 907,
    "start_time": "2022-07-01T19:38:28.541Z"
   },
   {
    "duration": 913,
    "start_time": "2022-07-01T19:38:42.921Z"
   },
   {
    "duration": 23,
    "start_time": "2022-07-01T19:39:24.247Z"
   },
   {
    "duration": 18,
    "start_time": "2022-07-01T19:39:38.167Z"
   },
   {
    "duration": 10,
    "start_time": "2022-07-01T19:40:08.677Z"
   },
   {
    "duration": 9,
    "start_time": "2022-07-01T19:40:19.774Z"
   },
   {
    "duration": 4,
    "start_time": "2022-07-01T19:41:26.379Z"
   },
   {
    "duration": 11,
    "start_time": "2022-07-01T19:41:31.607Z"
   },
   {
    "duration": 19,
    "start_time": "2022-07-01T19:41:37.550Z"
   },
   {
    "duration": 86,
    "start_time": "2022-07-01T19:41:42.199Z"
   },
   {
    "duration": 82,
    "start_time": "2022-07-01T19:42:11.546Z"
   },
   {
    "duration": 65,
    "start_time": "2022-07-01T19:42:45.483Z"
   },
   {
    "duration": 85,
    "start_time": "2022-07-01T19:42:54.340Z"
   },
   {
    "duration": 306,
    "start_time": "2022-07-01T19:43:22.220Z"
   },
   {
    "duration": 78,
    "start_time": "2022-07-01T19:45:16.227Z"
   },
   {
    "duration": 101,
    "start_time": "2022-07-01T19:46:24.936Z"
   },
   {
    "duration": 118,
    "start_time": "2022-07-01T19:46:39.493Z"
   },
   {
    "duration": 100,
    "start_time": "2022-07-01T19:46:44.737Z"
   },
   {
    "duration": 103,
    "start_time": "2022-07-01T19:46:58.944Z"
   },
   {
    "duration": 125,
    "start_time": "2022-07-01T19:47:54.041Z"
   },
   {
    "duration": 1084,
    "start_time": "2022-07-01T20:05:10.917Z"
   },
   {
    "duration": 414,
    "start_time": "2022-07-01T20:05:12.003Z"
   },
   {
    "duration": 20,
    "start_time": "2022-07-01T20:05:12.418Z"
   },
   {
    "duration": 480,
    "start_time": "2022-07-01T20:05:12.440Z"
   },
   {
    "duration": 18,
    "start_time": "2022-07-01T20:05:12.922Z"
   },
   {
    "duration": 435,
    "start_time": "2022-07-01T20:05:12.953Z"
   },
   {
    "duration": 346,
    "start_time": "2022-07-01T20:05:13.390Z"
   },
   {
    "duration": 68,
    "start_time": "2022-07-01T20:05:13.738Z"
   },
   {
    "duration": 118,
    "start_time": "2022-07-01T20:05:13.807Z"
   },
   {
    "duration": 29,
    "start_time": "2022-07-01T20:05:13.928Z"
   },
   {
    "duration": 33,
    "start_time": "2022-07-01T20:05:13.964Z"
   },
   {
    "duration": 15,
    "start_time": "2022-07-01T20:05:13.999Z"
   },
   {
    "duration": 374,
    "start_time": "2022-07-01T20:05:14.015Z"
   },
   {
    "duration": 362,
    "start_time": "2022-07-01T20:05:14.391Z"
   },
   {
    "duration": 459,
    "start_time": "2022-07-01T20:05:14.755Z"
   },
   {
    "duration": 84,
    "start_time": "2022-07-01T20:05:15.216Z"
   },
   {
    "duration": 1090,
    "start_time": "2022-07-01T20:05:15.302Z"
   },
   {
    "duration": 112,
    "start_time": "2022-07-01T20:05:16.394Z"
   },
   {
    "duration": 27,
    "start_time": "2022-07-01T20:05:16.507Z"
   },
   {
    "duration": 389,
    "start_time": "2022-07-01T20:05:16.556Z"
   },
   {
    "duration": 875,
    "start_time": "2022-07-01T20:05:16.951Z"
   },
   {
    "duration": 0,
    "start_time": "2022-07-01T20:05:17.827Z"
   },
   {
    "duration": 0,
    "start_time": "2022-07-01T20:05:17.828Z"
   },
   {
    "duration": 0,
    "start_time": "2022-07-01T20:05:17.829Z"
   },
   {
    "duration": 0,
    "start_time": "2022-07-01T20:05:17.830Z"
   },
   {
    "duration": 804,
    "start_time": "2022-07-01T20:06:52.034Z"
   },
   {
    "duration": 8,
    "start_time": "2022-07-01T20:07:04.812Z"
   },
   {
    "duration": 90,
    "start_time": "2022-07-01T20:07:06.590Z"
   },
   {
    "duration": 879,
    "start_time": "2022-07-01T20:07:20.144Z"
   },
   {
    "duration": 944,
    "start_time": "2022-07-01T20:07:48.998Z"
   },
   {
    "duration": 905,
    "start_time": "2022-07-01T20:07:57.728Z"
   },
   {
    "duration": 60,
    "start_time": "2022-07-01T20:08:23.195Z"
   },
   {
    "duration": 1673,
    "start_time": "2022-07-01T20:08:26.992Z"
   },
   {
    "duration": 1920,
    "start_time": "2022-07-01T20:08:37.815Z"
   },
   {
    "duration": 1751,
    "start_time": "2022-07-01T20:09:08.236Z"
   },
   {
    "duration": 45,
    "start_time": "2022-07-02T08:26:57.324Z"
   },
   {
    "duration": 5,
    "start_time": "2022-07-02T08:27:11.953Z"
   },
   {
    "duration": 1453,
    "start_time": "2022-07-02T08:27:17.760Z"
   },
   {
    "duration": 752,
    "start_time": "2022-07-02T08:27:19.216Z"
   },
   {
    "duration": 24,
    "start_time": "2022-07-02T08:27:19.970Z"
   },
   {
    "duration": 517,
    "start_time": "2022-07-02T08:27:19.996Z"
   },
   {
    "duration": 20,
    "start_time": "2022-07-02T08:27:20.515Z"
   },
   {
    "duration": 416,
    "start_time": "2022-07-02T08:27:20.537Z"
   },
   {
    "duration": 166,
    "start_time": "2022-07-02T08:27:20.955Z"
   },
   {
    "duration": 309,
    "start_time": "2022-07-02T08:27:21.124Z"
   },
   {
    "duration": 63,
    "start_time": "2022-07-02T08:27:21.434Z"
   },
   {
    "duration": 110,
    "start_time": "2022-07-02T08:27:21.500Z"
   },
   {
    "duration": 20,
    "start_time": "2022-07-02T08:27:21.611Z"
   },
   {
    "duration": 50,
    "start_time": "2022-07-02T08:27:21.633Z"
   },
   {
    "duration": 19,
    "start_time": "2022-07-02T08:27:21.685Z"
   },
   {
    "duration": 384,
    "start_time": "2022-07-02T08:27:21.706Z"
   },
   {
    "duration": 361,
    "start_time": "2022-07-02T08:27:22.092Z"
   },
   {
    "duration": 471,
    "start_time": "2022-07-02T08:27:22.456Z"
   },
   {
    "duration": 59,
    "start_time": "2022-07-02T08:27:22.928Z"
   },
   {
    "duration": 1061,
    "start_time": "2022-07-02T08:27:22.989Z"
   },
   {
    "duration": 108,
    "start_time": "2022-07-02T08:27:24.052Z"
   },
   {
    "duration": 31,
    "start_time": "2022-07-02T08:27:24.162Z"
   },
   {
    "duration": 391,
    "start_time": "2022-07-02T08:27:24.194Z"
   },
   {
    "duration": 800,
    "start_time": "2022-07-02T08:27:24.587Z"
   },
   {
    "duration": 11,
    "start_time": "2022-07-02T08:27:25.389Z"
   },
   {
    "duration": 114,
    "start_time": "2022-07-02T08:27:25.402Z"
   },
   {
    "duration": 1810,
    "start_time": "2022-07-02T08:27:25.518Z"
   },
   {
    "duration": 1676,
    "start_time": "2022-07-02T08:27:27.329Z"
   },
   {
    "duration": 187,
    "start_time": "2022-07-02T08:29:55.362Z"
   },
   {
    "duration": 1107,
    "start_time": "2022-07-02T08:35:56.005Z"
   },
   {
    "duration": 384,
    "start_time": "2022-07-02T08:35:57.114Z"
   },
   {
    "duration": 22,
    "start_time": "2022-07-02T08:35:57.499Z"
   },
   {
    "duration": 417,
    "start_time": "2022-07-02T08:35:57.523Z"
   },
   {
    "duration": 34,
    "start_time": "2022-07-02T08:35:57.942Z"
   },
   {
    "duration": 392,
    "start_time": "2022-07-02T08:35:57.978Z"
   },
   {
    "duration": 55442,
    "start_time": "2022-07-02T08:35:58.371Z"
   },
   {
    "duration": 289,
    "start_time": "2022-07-02T08:36:53.815Z"
   },
   {
    "duration": 73,
    "start_time": "2022-07-02T08:36:54.106Z"
   },
   {
    "duration": 105,
    "start_time": "2022-07-02T08:36:54.180Z"
   },
   {
    "duration": 17,
    "start_time": "2022-07-02T08:36:54.286Z"
   },
   {
    "duration": 28,
    "start_time": "2022-07-02T08:36:54.305Z"
   },
   {
    "duration": 27,
    "start_time": "2022-07-02T08:36:54.354Z"
   },
   {
    "duration": 382,
    "start_time": "2022-07-02T08:36:54.384Z"
   },
   {
    "duration": 361,
    "start_time": "2022-07-02T08:36:54.768Z"
   },
   {
    "duration": 409,
    "start_time": "2022-07-02T08:36:55.131Z"
   },
   {
    "duration": 57,
    "start_time": "2022-07-02T08:36:55.541Z"
   },
   {
    "duration": 1031,
    "start_time": "2022-07-02T08:36:55.600Z"
   },
   {
    "duration": 109,
    "start_time": "2022-07-02T08:36:56.632Z"
   },
   {
    "duration": 41,
    "start_time": "2022-07-02T08:36:56.742Z"
   },
   {
    "duration": 386,
    "start_time": "2022-07-02T08:36:56.784Z"
   },
   {
    "duration": 742,
    "start_time": "2022-07-02T08:36:57.172Z"
   },
   {
    "duration": 7,
    "start_time": "2022-07-02T08:36:57.916Z"
   },
   {
    "duration": 97,
    "start_time": "2022-07-02T08:36:57.924Z"
   },
   {
    "duration": 1849,
    "start_time": "2022-07-02T08:36:58.023Z"
   },
   {
    "duration": 1899,
    "start_time": "2022-07-02T08:36:59.874Z"
   },
   {
    "duration": 101,
    "start_time": "2022-07-02T08:38:12.766Z"
   },
   {
    "duration": 163,
    "start_time": "2022-07-02T08:38:24.844Z"
   },
   {
    "duration": 158,
    "start_time": "2022-07-02T08:38:32.385Z"
   },
   {
    "duration": 34,
    "start_time": "2022-07-02T08:48:44.444Z"
   },
   {
    "duration": 25,
    "start_time": "2022-07-02T08:49:05.770Z"
   },
   {
    "duration": 27,
    "start_time": "2022-07-02T08:49:37.264Z"
   },
   {
    "duration": 27,
    "start_time": "2022-07-02T08:49:41.105Z"
   },
   {
    "duration": 28,
    "start_time": "2022-07-02T08:49:55.033Z"
   },
   {
    "duration": 76,
    "start_time": "2022-07-02T08:59:10.788Z"
   },
   {
    "duration": 78,
    "start_time": "2022-07-02T08:59:19.298Z"
   },
   {
    "duration": 7,
    "start_time": "2022-07-02T08:59:22.178Z"
   },
   {
    "duration": 145,
    "start_time": "2022-07-02T09:14:21.529Z"
   },
   {
    "duration": 157,
    "start_time": "2022-07-02T09:14:44.251Z"
   },
   {
    "duration": 211,
    "start_time": "2022-07-02T09:15:00.432Z"
   },
   {
    "duration": 197,
    "start_time": "2022-07-02T09:15:13.732Z"
   },
   {
    "duration": 210,
    "start_time": "2022-07-02T09:15:20.253Z"
   },
   {
    "duration": 1165,
    "start_time": "2022-07-02T09:28:39.552Z"
   },
   {
    "duration": 396,
    "start_time": "2022-07-02T09:28:40.719Z"
   },
   {
    "duration": 24,
    "start_time": "2022-07-02T09:28:41.117Z"
   },
   {
    "duration": 492,
    "start_time": "2022-07-02T09:28:41.144Z"
   },
   {
    "duration": 36,
    "start_time": "2022-07-02T09:28:41.638Z"
   },
   {
    "duration": 415,
    "start_time": "2022-07-02T09:28:41.676Z"
   },
   {
    "duration": 330,
    "start_time": "2022-07-02T09:28:42.093Z"
   },
   {
    "duration": 77,
    "start_time": "2022-07-02T09:28:42.425Z"
   },
   {
    "duration": 123,
    "start_time": "2022-07-02T09:28:42.504Z"
   },
   {
    "duration": 31,
    "start_time": "2022-07-02T09:28:42.631Z"
   },
   {
    "duration": 36,
    "start_time": "2022-07-02T09:28:42.664Z"
   },
   {
    "duration": 20,
    "start_time": "2022-07-02T09:28:42.702Z"
   },
   {
    "duration": 437,
    "start_time": "2022-07-02T09:28:42.724Z"
   },
   {
    "duration": 411,
    "start_time": "2022-07-02T09:28:43.163Z"
   },
   {
    "duration": 488,
    "start_time": "2022-07-02T09:28:43.576Z"
   },
   {
    "duration": 71,
    "start_time": "2022-07-02T09:28:44.066Z"
   },
   {
    "duration": 1008,
    "start_time": "2022-07-02T09:28:44.139Z"
   },
   {
    "duration": 109,
    "start_time": "2022-07-02T09:28:45.150Z"
   },
   {
    "duration": 38,
    "start_time": "2022-07-02T09:28:45.261Z"
   },
   {
    "duration": 425,
    "start_time": "2022-07-02T09:28:45.303Z"
   },
   {
    "duration": 770,
    "start_time": "2022-07-02T09:28:45.729Z"
   },
   {
    "duration": 10,
    "start_time": "2022-07-02T09:28:46.501Z"
   },
   {
    "duration": 124,
    "start_time": "2022-07-02T09:28:46.514Z"
   },
   {
    "duration": 1841,
    "start_time": "2022-07-02T09:28:46.651Z"
   },
   {
    "duration": 1677,
    "start_time": "2022-07-02T09:28:48.494Z"
   },
   {
    "duration": 1490,
    "start_time": "2022-07-02T12:41:27.832Z"
   },
   {
    "duration": 1402,
    "start_time": "2022-07-02T12:41:31.320Z"
   },
   {
    "duration": 28,
    "start_time": "2022-07-02T12:41:32.724Z"
   },
   {
    "duration": 443,
    "start_time": "2022-07-02T12:41:32.754Z"
   },
   {
    "duration": 22,
    "start_time": "2022-07-02T12:41:33.199Z"
   },
   {
    "duration": 424,
    "start_time": "2022-07-02T12:41:33.223Z"
   },
   {
    "duration": 350,
    "start_time": "2022-07-02T12:41:36.622Z"
   },
   {
    "duration": 55,
    "start_time": "2022-07-02T12:41:38.313Z"
   },
   {
    "duration": 96,
    "start_time": "2022-07-02T12:41:39.647Z"
   },
   {
    "duration": 18,
    "start_time": "2022-07-02T12:41:42.385Z"
   },
   {
    "duration": 39,
    "start_time": "2022-07-02T12:41:43.498Z"
   },
   {
    "duration": 20,
    "start_time": "2022-07-02T12:41:44.133Z"
   },
   {
    "duration": 9,
    "start_time": "2022-07-02T12:42:41.233Z"
   },
   {
    "duration": 11,
    "start_time": "2022-07-02T12:44:01.271Z"
   },
   {
    "duration": 306,
    "start_time": "2022-07-02T12:47:41.849Z"
   },
   {
    "duration": 202,
    "start_time": "2022-07-02T12:47:50.358Z"
   },
   {
    "duration": 222,
    "start_time": "2022-07-02T12:48:48.834Z"
   },
   {
    "duration": 418,
    "start_time": "2022-07-02T12:50:30.437Z"
   },
   {
    "duration": 568,
    "start_time": "2022-07-02T12:51:06.428Z"
   },
   {
    "duration": 1701,
    "start_time": "2022-07-02T12:52:09.415Z"
   },
   {
    "duration": 451,
    "start_time": "2022-07-02T12:52:21.680Z"
   },
   {
    "duration": 4,
    "start_time": "2022-07-02T12:56:44.748Z"
   },
   {
    "duration": 4,
    "start_time": "2022-07-02T13:03:12.099Z"
   },
   {
    "duration": 493,
    "start_time": "2022-07-02T13:08:54.695Z"
   },
   {
    "duration": 114,
    "start_time": "2022-07-02T13:10:29.105Z"
   },
   {
    "duration": 452,
    "start_time": "2022-07-02T13:10:36.384Z"
   },
   {
    "duration": 578,
    "start_time": "2022-07-02T13:10:48.993Z"
   },
   {
    "duration": 469,
    "start_time": "2022-07-02T13:11:24.401Z"
   },
   {
    "duration": 5,
    "start_time": "2022-07-02T13:16:42.777Z"
   },
   {
    "duration": 5,
    "start_time": "2022-07-02T13:17:12.488Z"
   },
   {
    "duration": 451,
    "start_time": "2022-07-02T13:21:19.790Z"
   },
   {
    "duration": 462,
    "start_time": "2022-07-02T13:22:17.184Z"
   },
   {
    "duration": 487,
    "start_time": "2022-07-02T13:27:53.081Z"
   },
   {
    "duration": 88,
    "start_time": "2022-07-02T13:30:19.298Z"
   },
   {
    "duration": 121,
    "start_time": "2022-07-02T13:31:37.781Z"
   },
   {
    "duration": 4,
    "start_time": "2022-07-02T13:31:45.381Z"
   },
   {
    "duration": 4,
    "start_time": "2022-07-02T13:33:12.901Z"
   },
   {
    "duration": 451,
    "start_time": "2022-07-02T13:38:03.479Z"
   },
   {
    "duration": 575,
    "start_time": "2022-07-02T13:38:20.493Z"
   },
   {
    "duration": 433,
    "start_time": "2022-07-02T13:39:55.818Z"
   },
   {
    "duration": 502,
    "start_time": "2022-07-02T13:41:01.540Z"
   },
   {
    "duration": 5,
    "start_time": "2022-07-02T13:43:43.926Z"
   },
   {
    "duration": 5,
    "start_time": "2022-07-02T13:43:54.090Z"
   },
   {
    "duration": 4,
    "start_time": "2022-07-02T13:43:56.846Z"
   },
   {
    "duration": 465,
    "start_time": "2022-07-02T13:44:31.377Z"
   },
   {
    "duration": 525,
    "start_time": "2022-07-02T13:44:46.449Z"
   },
   {
    "duration": 541,
    "start_time": "2022-07-02T13:47:44.319Z"
   },
   {
    "duration": 451,
    "start_time": "2022-07-02T13:48:41.890Z"
   },
   {
    "duration": 87,
    "start_time": "2022-07-02T13:49:12.085Z"
   },
   {
    "duration": 451,
    "start_time": "2022-07-02T13:50:41.194Z"
   },
   {
    "duration": 79,
    "start_time": "2022-07-02T13:51:01.488Z"
   },
   {
    "duration": 473,
    "start_time": "2022-07-02T14:00:38.268Z"
   },
   {
    "duration": 473,
    "start_time": "2022-07-02T14:01:04.506Z"
   },
   {
    "duration": 1862,
    "start_time": "2022-07-02T14:02:58.944Z"
   },
   {
    "duration": 577,
    "start_time": "2022-07-02T14:03:11.790Z"
   },
   {
    "duration": 486,
    "start_time": "2022-07-02T14:05:15.180Z"
   },
   {
    "duration": 534,
    "start_time": "2022-07-02T14:05:56.086Z"
   },
   {
    "duration": 599,
    "start_time": "2022-07-02T14:06:06.652Z"
   },
   {
    "duration": 479,
    "start_time": "2022-07-02T14:06:38.105Z"
   },
   {
    "duration": 12,
    "start_time": "2022-07-02T14:21:51.192Z"
   },
   {
    "duration": 13,
    "start_time": "2022-07-02T14:22:28.270Z"
   },
   {
    "duration": 773,
    "start_time": "2022-07-02T14:22:40.205Z"
   },
   {
    "duration": 7,
    "start_time": "2022-07-02T14:22:43.905Z"
   },
   {
    "duration": 55,
    "start_time": "2022-07-02T14:22:44.748Z"
   },
   {
    "duration": 95,
    "start_time": "2022-07-02T14:24:31.181Z"
   },
   {
    "duration": 16,
    "start_time": "2022-07-02T14:25:13.982Z"
   },
   {
    "duration": 39,
    "start_time": "2022-07-02T14:25:32.741Z"
   },
   {
    "duration": 93,
    "start_time": "2022-07-02T14:25:42.641Z"
   },
   {
    "duration": 53,
    "start_time": "2022-07-02T14:26:06.743Z"
   },
   {
    "duration": 16,
    "start_time": "2022-07-02T14:26:20.919Z"
   },
   {
    "duration": 22,
    "start_time": "2022-07-02T14:29:45.011Z"
   },
   {
    "duration": 19,
    "start_time": "2022-07-02T14:30:10.895Z"
   },
   {
    "duration": 81,
    "start_time": "2022-07-02T14:30:55.995Z"
   },
   {
    "duration": 28,
    "start_time": "2022-07-02T14:31:13.499Z"
   },
   {
    "duration": 15,
    "start_time": "2022-07-02T14:31:35.565Z"
   },
   {
    "duration": 19,
    "start_time": "2022-07-02T14:36:00.951Z"
   },
   {
    "duration": 17,
    "start_time": "2022-07-02T14:36:15.521Z"
   },
   {
    "duration": 1276,
    "start_time": "2022-07-02T14:53:43.522Z"
   },
   {
    "duration": 449,
    "start_time": "2022-07-02T14:53:44.801Z"
   },
   {
    "duration": 22,
    "start_time": "2022-07-02T14:53:45.252Z"
   },
   {
    "duration": 466,
    "start_time": "2022-07-02T14:53:45.276Z"
   },
   {
    "duration": 19,
    "start_time": "2022-07-02T14:53:45.743Z"
   },
   {
    "duration": 427,
    "start_time": "2022-07-02T14:53:45.764Z"
   },
   {
    "duration": 328,
    "start_time": "2022-07-02T14:53:46.194Z"
   },
   {
    "duration": 69,
    "start_time": "2022-07-02T14:53:46.524Z"
   },
   {
    "duration": 111,
    "start_time": "2022-07-02T14:53:46.594Z"
   },
   {
    "duration": 20,
    "start_time": "2022-07-02T14:53:46.707Z"
   },
   {
    "duration": 43,
    "start_time": "2022-07-02T14:53:46.728Z"
   },
   {
    "duration": 22,
    "start_time": "2022-07-02T14:53:46.773Z"
   },
   {
    "duration": 558,
    "start_time": "2022-07-02T14:53:46.797Z"
   },
   {
    "duration": 456,
    "start_time": "2022-07-02T14:53:47.358Z"
   },
   {
    "duration": 591,
    "start_time": "2022-07-02T14:53:47.816Z"
   },
   {
    "duration": 65,
    "start_time": "2022-07-02T14:53:48.409Z"
   },
   {
    "duration": 1080,
    "start_time": "2022-07-02T14:53:48.475Z"
   },
   {
    "duration": 108,
    "start_time": "2022-07-02T14:53:49.557Z"
   },
   {
    "duration": 29,
    "start_time": "2022-07-02T14:53:49.667Z"
   },
   {
    "duration": 506,
    "start_time": "2022-07-02T14:53:49.697Z"
   },
   {
    "duration": 15,
    "start_time": "2022-07-02T14:53:50.204Z"
   }
  ],
  "kernelspec": {
   "display_name": "Python 3 (ipykernel)",
   "language": "python",
   "name": "python3"
  },
  "language_info": {
   "codemirror_mode": {
    "name": "ipython",
    "version": 3
   },
   "file_extension": ".py",
   "mimetype": "text/x-python",
   "name": "python",
   "nbconvert_exporter": "python",
   "pygments_lexer": "ipython3",
   "version": "3.8.10"
  },
  "toc": {
   "base_numbering": 1,
   "nav_menu": {
    "height": "266px",
    "width": "831px"
   },
   "number_sections": true,
   "sideBar": true,
   "skip_h1_title": true,
   "title_cell": "Table of Contents",
   "title_sidebar": "Contents",
   "toc_cell": false,
   "toc_position": {
    "height": "calc(100% - 180px)",
    "left": "10px",
    "top": "150px",
    "width": "242.792px"
   },
   "toc_section_display": true,
   "toc_window_display": false
  }
 },
 "nbformat": 4,
 "nbformat_minor": 2
}
