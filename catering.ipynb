{
 "cells": [
  {
   "cell_type": "markdown",
   "id": "2db989d0",
   "metadata": {},
   "source": [
    "# Исследование рынка заведений общественного питания Москвы"
   ]
  },
  {
   "cell_type": "markdown",
   "id": "263688b9",
   "metadata": {},
   "source": [
    "## Введение\n",
    "\n",
    "Компания-заказчик планирует открытие нового заведения общественного питания в Мсокве. Для разработки стратегии развития клиенту необходим анализ рынка заведений общественного питания города Москва. В качестве источника данных предложено использовать открытые данные в сети интернет."
   ]
  },
  {
   "cell_type": "markdown",
   "id": "9f921003",
   "metadata": {},
   "source": [
    "## Цель проекта\n",
    "Выполнить исследовательский анализ рынка общественного питания в Москве на основе открытых данных правительства Москвы. На основе полученных результатов подготовить рекомендации для инвесторов. "
   ]
  },
  {
   "cell_type": "markdown",
   "id": "ae0ee1f0",
   "metadata": {},
   "source": [
    "## Описание данных.\n",
    "Датасет \"rest_data.csv\", включает информацию об объектах общественного питания по следующим параметрам:  \n",
    "\n",
    "id — идентификатор объекта;  \n",
    "object_name — название объекта общественного питания;  \n",
    "chain — сетевой ресторан;  \n",
    "object_type — тип объекта общественного питания;  \n",
    "address — адрес;  \n",
    "number — количество посадочных мест.  \n",
    "\n",
    "Датасет \"districts\", сформирован на основе данных портала открытых данных правительства Москвы, включает информацию о районах и улицах Москвы:  \n",
    "\n",
    "street - улица;  \n",
    "areaid - идентификатор района;  \n",
    "okrug - округ;  \n",
    "area - район.  "
   ]
  },
  {
   "cell_type": "markdown",
   "id": "3a53e785",
   "metadata": {},
   "source": [
    "## План работы.\n",
    "\n",
    "1. Введение\n",
    "2. Изучение общей информации о предоставленных данных\n",
    "3. Оценка соотношения количества различных видов объектов общественного питания.\n",
    "4. Характеристика сетевых и несетевых заведений.\n",
    "5. Характеристика заведений общественного питания по количеству посадочных мест.\n",
    "6. География заведений общественного питания Москвы.\n",
    "7. Общий вывод и рекомендации. "
   ]
  },
  {
   "cell_type": "markdown",
   "id": "f169c273",
   "metadata": {},
   "source": [
    "# Изучение общей информации о предоставленных данных"
   ]
  },
  {
   "cell_type": "code",
   "execution_count": 1,
   "id": "9182876d",
   "metadata": {},
   "outputs": [],
   "source": [
    "# импорт библиотек\n",
    "import pandas as pd\n",
    "import numpy as np\n",
    "import seaborn as sns\n",
    "import matplotlib.pyplot as plt\n",
    "from matplotlib import gridspec\n",
    "import plotly.express as px\n",
    "from plotly import graph_objects as go\n",
    "from plotly.subplots import make_subplots\n",
    "import plotly.figure_factory as ff\n",
    "import textwrap\n",
    "from io import BytesIO\n",
    "import requests"
   ]
  },
  {
   "cell_type": "markdown",
   "id": "77993cee",
   "metadata": {},
   "source": [
    "## Общая информационная сводка о данных\n"
   ]
  },
  {
   "cell_type": "code",
   "execution_count": 2,
   "id": "e761405f",
   "metadata": {},
   "outputs": [],
   "source": [
    "rest_data = pd.read_csv('/home/daniil/Documents/datasets/catering/rest_data.csv')\n",
    "\n",
    "# Импорт данных, содержащих информацию об улицах и районах Москвы\n",
    "spreadsheet_id = '1_g06cWHzwy-PGGrDqR-vP09_wmzRBs3xAHlaYq6s5FU'\n",
    "file_name = 'https://docs.google.com/spreadsheets/d/{}/export?format=csv'.format(spreadsheet_id)\n",
    "r = requests.get(file_name)\n",
    "districts = pd.read_csv(BytesIO(r.content))\n",
    "\n",
    "#df.columns = ['street','areaid','okrug','area']\n",
    "#df['street']=df['street'].str.lower()\n",
    "\n",
    "tables = [rest_data, districts]\n",
    "names = ['rest_data','districts']"
   ]
  },
  {
   "cell_type": "code",
   "execution_count": 3,
   "id": "d684de51",
   "metadata": {},
   "outputs": [
    {
     "name": "stdout",
     "output_type": "stream",
     "text": [
      "\n",
      "\u001b[1;30;47m_____________НАБОР:  REST_DATA_____________\u001b[0;0m\n",
      " \n",
      "\u001b[2;30;47m Вывод первых строк: \u001b[0;0m\n"
     ]
    },
    {
     "data": {
      "text/html": [
       "<div>\n",
       "<style scoped>\n",
       "    .dataframe tbody tr th:only-of-type {\n",
       "        vertical-align: middle;\n",
       "    }\n",
       "\n",
       "    .dataframe tbody tr th {\n",
       "        vertical-align: top;\n",
       "    }\n",
       "\n",
       "    .dataframe thead th {\n",
       "        text-align: right;\n",
       "    }\n",
       "</style>\n",
       "<table border=\"1\" class=\"dataframe\">\n",
       "  <thead>\n",
       "    <tr style=\"text-align: right;\">\n",
       "      <th></th>\n",
       "      <th>id</th>\n",
       "      <th>object_name</th>\n",
       "      <th>chain</th>\n",
       "      <th>object_type</th>\n",
       "      <th>address</th>\n",
       "      <th>number</th>\n",
       "    </tr>\n",
       "  </thead>\n",
       "  <tbody>\n",
       "    <tr>\n",
       "      <th>0</th>\n",
       "      <td>151635</td>\n",
       "      <td>СМЕТАНА</td>\n",
       "      <td>нет</td>\n",
       "      <td>кафе</td>\n",
       "      <td>город Москва, улица Егора Абакумова, дом 9</td>\n",
       "      <td>48</td>\n",
       "    </tr>\n",
       "    <tr>\n",
       "      <th>1</th>\n",
       "      <td>77874</td>\n",
       "      <td>Родник</td>\n",
       "      <td>нет</td>\n",
       "      <td>кафе</td>\n",
       "      <td>город Москва, улица Талалихина, дом 2/1, корпус 1</td>\n",
       "      <td>35</td>\n",
       "    </tr>\n",
       "    <tr>\n",
       "      <th>2</th>\n",
       "      <td>24309</td>\n",
       "      <td>Кафе «Академия»</td>\n",
       "      <td>нет</td>\n",
       "      <td>кафе</td>\n",
       "      <td>город Москва, Абельмановская улица, дом 6</td>\n",
       "      <td>95</td>\n",
       "    </tr>\n",
       "  </tbody>\n",
       "</table>\n",
       "</div>"
      ],
      "text/plain": [
       "       id      object_name chain object_type  \\\n",
       "0  151635          СМЕТАНА   нет        кафе   \n",
       "1   77874           Родник   нет        кафе   \n",
       "2   24309  Кафе «Академия»   нет        кафе   \n",
       "\n",
       "                                             address  number  \n",
       "0         город Москва, улица Егора Абакумова, дом 9      48  \n",
       "1  город Москва, улица Талалихина, дом 2/1, корпус 1      35  \n",
       "2          город Москва, Абельмановская улица, дом 6      95  "
      ]
     },
     "metadata": {},
     "output_type": "display_data"
    },
    {
     "name": "stdout",
     "output_type": "stream",
     "text": [
      "\n",
      "\u001b[2;30;47m Общая сводка : \u001b[0;0m\n",
      "<class 'pandas.core.frame.DataFrame'>\n",
      "RangeIndex: 15366 entries, 0 to 15365\n",
      "Data columns (total 6 columns):\n",
      " #   Column       Non-Null Count  Dtype \n",
      "---  ------       --------------  ----- \n",
      " 0   id           15366 non-null  int64 \n",
      " 1   object_name  15366 non-null  object\n",
      " 2   chain        15366 non-null  object\n",
      " 3   object_type  15366 non-null  object\n",
      " 4   address      15366 non-null  object\n",
      " 5   number       15366 non-null  int64 \n",
      "dtypes: int64(2), object(4)\n",
      "memory usage: 720.4+ KB\n"
     ]
    },
    {
     "data": {
      "text/plain": [
       "None"
      ]
     },
     "metadata": {},
     "output_type": "display_data"
    },
    {
     "name": "stdout",
     "output_type": "stream",
     "text": [
      "\u001b[2;30;47m Подсчет доли пропусков в % : \u001b[0;0m\n"
     ]
    },
    {
     "data": {
      "text/plain": [
       "id             0.0\n",
       "object_name    0.0\n",
       "chain          0.0\n",
       "object_type    0.0\n",
       "address        0.0\n",
       "number         0.0\n",
       "dtype: float64"
      ]
     },
     "metadata": {},
     "output_type": "display_data"
    },
    {
     "name": "stdout",
     "output_type": "stream",
     "text": [
      "\u001b[2;30;47m Подсчет дубликатов :\u001b[0;0m\n"
     ]
    },
    {
     "data": {
      "text/plain": [
       "0.0"
      ]
     },
     "metadata": {},
     "output_type": "display_data"
    },
    {
     "name": "stdout",
     "output_type": "stream",
     "text": [
      "\n",
      "\u001b[2;30;47m Сводка числовых значений, включая даты: \u001b[0;0m\n"
     ]
    },
    {
     "data": {
      "text/html": [
       "<div>\n",
       "<style scoped>\n",
       "    .dataframe tbody tr th:only-of-type {\n",
       "        vertical-align: middle;\n",
       "    }\n",
       "\n",
       "    .dataframe tbody tr th {\n",
       "        vertical-align: top;\n",
       "    }\n",
       "\n",
       "    .dataframe thead th {\n",
       "        text-align: right;\n",
       "    }\n",
       "</style>\n",
       "<table border=\"1\" class=\"dataframe\">\n",
       "  <thead>\n",
       "    <tr style=\"text-align: right;\">\n",
       "      <th></th>\n",
       "      <th>count</th>\n",
       "      <th>mean</th>\n",
       "      <th>std</th>\n",
       "      <th>min</th>\n",
       "      <th>25%</th>\n",
       "      <th>50%</th>\n",
       "      <th>75%</th>\n",
       "      <th>max</th>\n",
       "    </tr>\n",
       "  </thead>\n",
       "  <tbody>\n",
       "    <tr>\n",
       "      <th>id</th>\n",
       "      <td>15366.0</td>\n",
       "      <td>119720.066901</td>\n",
       "      <td>73036.130732</td>\n",
       "      <td>838.0</td>\n",
       "      <td>28524.0</td>\n",
       "      <td>144974.5</td>\n",
       "      <td>184262.25</td>\n",
       "      <td>223439.0</td>\n",
       "    </tr>\n",
       "    <tr>\n",
       "      <th>number</th>\n",
       "      <td>15366.0</td>\n",
       "      <td>59.547182</td>\n",
       "      <td>74.736833</td>\n",
       "      <td>0.0</td>\n",
       "      <td>12.0</td>\n",
       "      <td>40.0</td>\n",
       "      <td>80.00</td>\n",
       "      <td>1700.0</td>\n",
       "    </tr>\n",
       "  </tbody>\n",
       "</table>\n",
       "</div>"
      ],
      "text/plain": [
       "          count           mean           std    min      25%       50%  \\\n",
       "id      15366.0  119720.066901  73036.130732  838.0  28524.0  144974.5   \n",
       "number  15366.0      59.547182     74.736833    0.0     12.0      40.0   \n",
       "\n",
       "              75%       max  \n",
       "id      184262.25  223439.0  \n",
       "number      80.00    1700.0  "
      ]
     },
     "metadata": {},
     "output_type": "display_data"
    },
    {
     "name": "stdout",
     "output_type": "stream",
     "text": [
      "\n",
      "\u001b[2;30;47m Общая сводка строковых значений: \u001b[0;0m\n"
     ]
    },
    {
     "data": {
      "text/html": [
       "<div>\n",
       "<style scoped>\n",
       "    .dataframe tbody tr th:only-of-type {\n",
       "        vertical-align: middle;\n",
       "    }\n",
       "\n",
       "    .dataframe tbody tr th {\n",
       "        vertical-align: top;\n",
       "    }\n",
       "\n",
       "    .dataframe thead th {\n",
       "        text-align: right;\n",
       "    }\n",
       "</style>\n",
       "<table border=\"1\" class=\"dataframe\">\n",
       "  <thead>\n",
       "    <tr style=\"text-align: right;\">\n",
       "      <th></th>\n",
       "      <th>count</th>\n",
       "      <th>unique</th>\n",
       "      <th>top</th>\n",
       "      <th>freq</th>\n",
       "    </tr>\n",
       "  </thead>\n",
       "  <tbody>\n",
       "    <tr>\n",
       "      <th>object_name</th>\n",
       "      <td>15366</td>\n",
       "      <td>10393</td>\n",
       "      <td>Столовая</td>\n",
       "      <td>267</td>\n",
       "    </tr>\n",
       "    <tr>\n",
       "      <th>chain</th>\n",
       "      <td>15366</td>\n",
       "      <td>2</td>\n",
       "      <td>нет</td>\n",
       "      <td>12398</td>\n",
       "    </tr>\n",
       "    <tr>\n",
       "      <th>object_type</th>\n",
       "      <td>15366</td>\n",
       "      <td>9</td>\n",
       "      <td>кафе</td>\n",
       "      <td>6099</td>\n",
       "    </tr>\n",
       "    <tr>\n",
       "      <th>address</th>\n",
       "      <td>15366</td>\n",
       "      <td>9108</td>\n",
       "      <td>город Москва, Ходынский бульвар, дом 4</td>\n",
       "      <td>95</td>\n",
       "    </tr>\n",
       "  </tbody>\n",
       "</table>\n",
       "</div>"
      ],
      "text/plain": [
       "             count unique                                     top   freq\n",
       "object_name  15366  10393                                Столовая    267\n",
       "chain        15366      2                                     нет  12398\n",
       "object_type  15366      9                                    кафе   6099\n",
       "address      15366   9108  город Москва, Ходынский бульвар, дом 4     95"
      ]
     },
     "metadata": {},
     "output_type": "display_data"
    },
    {
     "name": "stdout",
     "output_type": "stream",
     "text": [
      "\n",
      "\u001b[01;30;47m_____________ОКОНЧАНИЕ ОТЧЕТА_____________\u001b[0;0m\n",
      "\n",
      "\n",
      "\n",
      "\u001b[1;30;47m_____________НАБОР:  DISTRICTS_____________\u001b[0;0m\n",
      " \n",
      "\u001b[2;30;47m Вывод первых строк: \u001b[0;0m\n"
     ]
    },
    {
     "data": {
      "text/html": [
       "<div>\n",
       "<style scoped>\n",
       "    .dataframe tbody tr th:only-of-type {\n",
       "        vertical-align: middle;\n",
       "    }\n",
       "\n",
       "    .dataframe tbody tr th {\n",
       "        vertical-align: top;\n",
       "    }\n",
       "\n",
       "    .dataframe thead th {\n",
       "        text-align: right;\n",
       "    }\n",
       "</style>\n",
       "<table border=\"1\" class=\"dataframe\">\n",
       "  <thead>\n",
       "    <tr style=\"text-align: right;\">\n",
       "      <th></th>\n",
       "      <th>streetname</th>\n",
       "      <th>areaid</th>\n",
       "      <th>okrug</th>\n",
       "      <th>area</th>\n",
       "    </tr>\n",
       "  </thead>\n",
       "  <tbody>\n",
       "    <tr>\n",
       "      <th>0</th>\n",
       "      <td>Выставочный переулок</td>\n",
       "      <td>17</td>\n",
       "      <td>ЦАО</td>\n",
       "      <td>Пресненский район</td>\n",
       "    </tr>\n",
       "    <tr>\n",
       "      <th>1</th>\n",
       "      <td>улица Гашека</td>\n",
       "      <td>17</td>\n",
       "      <td>ЦАО</td>\n",
       "      <td>Пресненский район</td>\n",
       "    </tr>\n",
       "    <tr>\n",
       "      <th>2</th>\n",
       "      <td>Большая Никитская улица</td>\n",
       "      <td>17</td>\n",
       "      <td>ЦАО</td>\n",
       "      <td>Пресненский район</td>\n",
       "    </tr>\n",
       "  </tbody>\n",
       "</table>\n",
       "</div>"
      ],
      "text/plain": [
       "                streetname  areaid okrug               area\n",
       "0     Выставочный переулок      17   ЦАО  Пресненский район\n",
       "1             улица Гашека      17   ЦАО  Пресненский район\n",
       "2  Большая Никитская улица      17   ЦАО  Пресненский район"
      ]
     },
     "metadata": {},
     "output_type": "display_data"
    },
    {
     "name": "stdout",
     "output_type": "stream",
     "text": [
      "\n",
      "\u001b[2;30;47m Общая сводка : \u001b[0;0m\n",
      "<class 'pandas.core.frame.DataFrame'>\n",
      "RangeIndex: 4398 entries, 0 to 4397\n",
      "Data columns (total 4 columns):\n",
      " #   Column      Non-Null Count  Dtype \n",
      "---  ------      --------------  ----- \n",
      " 0   streetname  4398 non-null   object\n",
      " 1   areaid      4398 non-null   int64 \n",
      " 2   okrug       4398 non-null   object\n",
      " 3   area        4398 non-null   object\n",
      "dtypes: int64(1), object(3)\n",
      "memory usage: 137.6+ KB\n"
     ]
    },
    {
     "data": {
      "text/plain": [
       "None"
      ]
     },
     "metadata": {},
     "output_type": "display_data"
    },
    {
     "name": "stdout",
     "output_type": "stream",
     "text": [
      "\u001b[2;30;47m Подсчет доли пропусков в % : \u001b[0;0m\n"
     ]
    },
    {
     "data": {
      "text/plain": [
       "streetname    0.0\n",
       "areaid        0.0\n",
       "okrug         0.0\n",
       "area          0.0\n",
       "dtype: float64"
      ]
     },
     "metadata": {},
     "output_type": "display_data"
    },
    {
     "name": "stdout",
     "output_type": "stream",
     "text": [
      "\u001b[2;30;47m Подсчет дубликатов :\u001b[0;0m\n"
     ]
    },
    {
     "data": {
      "text/plain": [
       "0.18"
      ]
     },
     "metadata": {},
     "output_type": "display_data"
    },
    {
     "name": "stdout",
     "output_type": "stream",
     "text": [
      "\n",
      "\u001b[2;30;47m Сводка числовых значений, включая даты: \u001b[0;0m\n"
     ]
    },
    {
     "data": {
      "text/html": [
       "<div>\n",
       "<style scoped>\n",
       "    .dataframe tbody tr th:only-of-type {\n",
       "        vertical-align: middle;\n",
       "    }\n",
       "\n",
       "    .dataframe tbody tr th {\n",
       "        vertical-align: top;\n",
       "    }\n",
       "\n",
       "    .dataframe thead th {\n",
       "        text-align: right;\n",
       "    }\n",
       "</style>\n",
       "<table border=\"1\" class=\"dataframe\">\n",
       "  <thead>\n",
       "    <tr style=\"text-align: right;\">\n",
       "      <th></th>\n",
       "      <th>count</th>\n",
       "      <th>mean</th>\n",
       "      <th>std</th>\n",
       "      <th>min</th>\n",
       "      <th>25%</th>\n",
       "      <th>50%</th>\n",
       "      <th>75%</th>\n",
       "      <th>max</th>\n",
       "    </tr>\n",
       "  </thead>\n",
       "  <tbody>\n",
       "    <tr>\n",
       "      <th>areaid</th>\n",
       "      <td>4398.0</td>\n",
       "      <td>59.213734</td>\n",
       "      <td>38.474637</td>\n",
       "      <td>12.0</td>\n",
       "      <td>20.0</td>\n",
       "      <td>51.0</td>\n",
       "      <td>93.0</td>\n",
       "      <td>134.0</td>\n",
       "    </tr>\n",
       "  </tbody>\n",
       "</table>\n",
       "</div>"
      ],
      "text/plain": [
       "         count       mean        std   min   25%   50%   75%    max\n",
       "areaid  4398.0  59.213734  38.474637  12.0  20.0  51.0  93.0  134.0"
      ]
     },
     "metadata": {},
     "output_type": "display_data"
    },
    {
     "name": "stdout",
     "output_type": "stream",
     "text": [
      "\n",
      "\u001b[2;30;47m Общая сводка строковых значений: \u001b[0;0m\n"
     ]
    },
    {
     "data": {
      "text/html": [
       "<div>\n",
       "<style scoped>\n",
       "    .dataframe tbody tr th:only-of-type {\n",
       "        vertical-align: middle;\n",
       "    }\n",
       "\n",
       "    .dataframe tbody tr th {\n",
       "        vertical-align: top;\n",
       "    }\n",
       "\n",
       "    .dataframe thead th {\n",
       "        text-align: right;\n",
       "    }\n",
       "</style>\n",
       "<table border=\"1\" class=\"dataframe\">\n",
       "  <thead>\n",
       "    <tr style=\"text-align: right;\">\n",
       "      <th></th>\n",
       "      <th>count</th>\n",
       "      <th>unique</th>\n",
       "      <th>top</th>\n",
       "      <th>freq</th>\n",
       "    </tr>\n",
       "  </thead>\n",
       "  <tbody>\n",
       "    <tr>\n",
       "      <th>streetname</th>\n",
       "      <td>4398</td>\n",
       "      <td>3604</td>\n",
       "      <td>Московская Кольцевая Автодорога</td>\n",
       "      <td>42</td>\n",
       "    </tr>\n",
       "    <tr>\n",
       "      <th>okrug</th>\n",
       "      <td>4398</td>\n",
       "      <td>10</td>\n",
       "      <td>ЦАО</td>\n",
       "      <td>1200</td>\n",
       "    </tr>\n",
       "    <tr>\n",
       "      <th>area</th>\n",
       "      <td>4398</td>\n",
       "      <td>123</td>\n",
       "      <td>Тверской район</td>\n",
       "      <td>179</td>\n",
       "    </tr>\n",
       "  </tbody>\n",
       "</table>\n",
       "</div>"
      ],
      "text/plain": [
       "           count unique                              top  freq\n",
       "streetname  4398   3604  Московская Кольцевая Автодорога    42\n",
       "okrug       4398     10                              ЦАО  1200\n",
       "area        4398    123                   Тверской район   179"
      ]
     },
     "metadata": {},
     "output_type": "display_data"
    },
    {
     "name": "stdout",
     "output_type": "stream",
     "text": [
      "\n",
      "\u001b[01;30;47m_____________ОКОНЧАНИЕ ОТЧЕТА_____________\u001b[0;0m\n",
      "\n",
      "\n"
     ]
    }
   ],
   "source": [
    "for name, table in zip(names, tables):\n",
    "    print(\n",
    "        f'\\n\\033[1;30;47m_____________НАБОР:  {name.upper()}_____________\\033[0;0m\\n',\n",
    "        '\\n\\033[2;30;47m Вывод первых строк: \\033[0;0m',\n",
    "        )\n",
    "    display(table.head(3))\n",
    "    print('\\n\\033[2;30;47m Общая сводка : \\033[0;0m') # вывод общей сводки о датасете\n",
    "    display(table.info())\n",
    "    print('\\033[2;30;47m Подсчет доли пропусков в % : \\033[0;0m')\n",
    "    display(round(table.isnull().mean() * 100, 2))\n",
    "    print('\\033[2;30;47m Подсчет дубликатов :\\033[0;0m')\n",
    "    display(round(table.duplicated().mean() * 100, 2))    # проверка явных дубликатов\n",
    "    print('\\n\\033[2;30;47m Сводка числовых значений, включая даты: \\033[0;0m')\n",
    "    display(table.describe(datetime_is_numeric=True).T)\n",
    "    print('\\n\\033[2;30;47m Общая сводка строковых значений: \\033[0;0m')\n",
    "    try:\n",
    "            display(table.describe(include=['object']).T)\n",
    "    except:\n",
    "            display('Набор не содержит строковых значений')\n",
    "    print ('\\n\\033[01;30;47m_____________ОКОНЧАНИЕ ОТЧЕТА_____________\\033[0;0m\\n\\n')\n"
   ]
  },
  {
   "cell_type": "markdown",
   "id": "9010780d",
   "metadata": {},
   "source": [
    "## Предобработка данных. Дополнительная сводка."
   ]
  },
  {
   "cell_type": "code",
   "execution_count": 4,
   "id": "3c8fc5b3",
   "metadata": {},
   "outputs": [
    {
     "data": {
      "text/plain": [
       "'Количество дубликатов : 85'"
      ]
     },
     "metadata": {},
     "output_type": "display_data"
    },
    {
     "data": {
      "text/plain": [
       "'Количество дубликатов после обработки : 0'"
      ]
     },
     "metadata": {},
     "output_type": "display_data"
    }
   ],
   "source": [
    "# Поиск и удаление дубликатов\n",
    "rest_data['object_name']=rest_data['object_name'].str.lower()\n",
    "rest_data['address']=rest_data['address'].str.lower()\n",
    "display(f'Количество дубликатов : {rest_data.duplicated(subset=[\"object_name\",\"chain\",\"object_type\",\"address\",\"number\"]).sum()}')\n",
    "\n",
    "rest_data=rest_data.drop_duplicates(subset=['object_name','chain','object_type','address','number'])\n",
    "display(f'Количество дубликатов после обработки : {rest_data.duplicated(subset=[\"object_name\",\"chain\",\"object_type\",\"address\",\"number\"]).sum()}')"
   ]
  },
  {
   "cell_type": "code",
   "execution_count": 5,
   "id": "07b03282",
   "metadata": {},
   "outputs": [
    {
     "data": {
      "text/plain": [
       "'Общее количество объектов : 15281'"
      ]
     },
     "metadata": {},
     "output_type": "display_data"
    },
    {
     "data": {
      "text/plain": [
       "'Количество типов заведений : 9'"
      ]
     },
     "metadata": {},
     "output_type": "display_data"
    },
    {
     "data": {
      "text/plain": [
       "\"Типы заведений : ['кафе' 'столовая' 'закусочная' 'предприятие быстрого обслуживания'\\n 'ресторан' 'кафетерий' 'буфет' 'бар' 'магазин (отдел кулинарии)']\""
      ]
     },
     "metadata": {},
     "output_type": "display_data"
    }
   ],
   "source": [
    "display(f'Общее количество объектов : {rest_data[\"id\"].nunique()}')\n",
    "display(f'Количество типов заведений : {rest_data[\"object_type\"].nunique()}')\n",
    "display(f'Типы заведений : {rest_data[\"object_type\"].unique()}')"
   ]
  },
  {
   "cell_type": "markdown",
   "id": "3ad8e957",
   "metadata": {},
   "source": [
    "***Вывод***  \n",
    "Датасет \"rest_data\" содержит информацию о 15281 заведениях общепита, среди которых кафе, столовые, закусочные, предприятия быстрого обслуживания, рестораны, кафетерии, буфеты, бары, отделы кулинарии магазинов. Кроме того указан уникальный номер объекта, статус объекта (сетевой /несетевой), адрес и количество посадочных мест.\n",
    "Пропусков в данных не обнаружено. Выявлено 85 дубликатов, которые были удалены из общего набора данных.\n",
    "\n",
    "Датасет \"districts\" включает следующие данные: название улицы, id района, название округа, название района. Общее количество наблюдений - 4398, среди которых встречаются уникальных названий улиц - 3604, уникальных округов - 10, уникальных названий районов - 123. Пропусков в данных не обнаружено. Количество дубликатов достигает 20%, однако необходимость обработки дубликатов для целей настоящего исследования отсутствует."
   ]
  },
  {
   "cell_type": "markdown",
   "id": "76306a80",
   "metadata": {},
   "source": [
    "# Оценка соотношения количества различных видов объектов общественного питания."
   ]
  },
  {
   "cell_type": "code",
   "execution_count": 40,
   "id": "6a1043fe",
   "metadata": {},
   "outputs": [
    {
     "data": {
      "image/png": "[encoded data removed]",
      "text/plain": [
       "<Figure size 1008x504 with 1 Axes>"
      ]
     },
     "metadata": {},
     "output_type": "display_data"
    },
    {
     "data": {
      "application/vnd.plotly.v1+json": {
       "config": {
        "plotlyServerURL": "https://plot.ly"
       },
       "data": [
        {
         "cells": {
          "align": "center",
          "values": [
           [
            "кафе",
            "столовая",
            "ресторан",
            "предприятие быстрого обслуживания",
            "бар",
            "буфет",
            "кафетерий",
            "закусочная",
            "магазин (отдел кулинарии)"
           ],
           [
            6071,
            2584,
            2282,
            1897,
            855,
            576,
            395,
            348,
            273
           ],
           [
            39.73,
            16.91,
            14.93,
            12.41,
            5.6,
            3.77,
            2.58,
            2.28,
            1.79
           ]
          ]
         },
         "domain": {
          "x": [
           0,
           0.45
          ],
          "y": [
           0,
           1
          ]
         },
         "header": {
          "values": [
           "Тип объекта",
           "Кол-во абс.",
           "Кол-во %"
          ]
         },
         "type": "table"
        },
        {
         "domain": {
          "x": [
           0.55,
           1
          ],
          "y": [
           0,
           1
          ]
         },
         "labels": [
          "кафе",
          "столовая",
          "ресторан",
          "предприятие быстрого обслуживания",
          "бар",
          "буфет",
          "кафетерий",
          "закусочная",
          "магазин (отдел кулинарии)"
         ],
         "type": "pie",
         "values": [
          6071,
          2584,
          2282,
          1897,
          855,
          576,
          395,
          348,
          273
         ]
        }
       ],
       "layout": {
        "legend": {
         "y": 0.5
        },
        "template": {
         "data": {
          "bar": [
           {
            "error_x": {
             "color": "#2a3f5f"
            },
            "error_y": {
             "color": "#2a3f5f"
            },
            "marker": {
             "line": {
              "color": "#E5ECF6",
              "width": 0.5
             },
             "pattern": {
              "fillmode": "overlay",
              "size": 10,
              "solidity": 0.2
             }
            },
            "type": "bar"
           }
          ],
          "barpolar": [
           {
            "marker": {
             "line": {
              "color": "#E5ECF6",
              "width": 0.5
             },
             "pattern": {
              "fillmode": "overlay",
              "size": 10,
              "solidity": 0.2
             }
            },
            "type": "barpolar"
           }
          ],
          "carpet": [
           {
            "aaxis": {
             "endlinecolor": "#2a3f5f",
             "gridcolor": "white",
             "linecolor": "white",
             "minorgridcolor": "white",
             "startlinecolor": "#2a3f5f"
            },
            "baxis": {
             "endlinecolor": "#2a3f5f",
             "gridcolor": "white",
             "linecolor": "white",
             "minorgridcolor": "white",
             "startlinecolor": "#2a3f5f"
            },
            "type": "carpet"
           }
          ],
          "choropleth": [
           {
            "colorbar": {
             "outlinewidth": 0,
             "ticks": ""
            },
            "type": "choropleth"
           }
          ],
          "contour": [
           {
            "colorbar": {
             "outlinewidth": 0,
             "ticks": ""
            },
            "colorscale": [
             [
              0,
              "#0d0887"
             ],
             [
              0.1111111111111111,
              "#46039f"
             ],
             [
              0.2222222222222222,
              "#7201a8"
             ],
             [
              0.3333333333333333,
              "#9c179e"
             ],
             [
              0.4444444444444444,
              "#bd3786"
             ],
             [
              0.5555555555555556,
              "#d8576b"
             ],
             [
              0.6666666666666666,
              "#ed7953"
             ],
             [
              0.7777777777777778,
              "#fb9f3a"
             ],
             [
              0.8888888888888888,
              "#fdca26"
             ],
             [
              1,
              "#f0f921"
             ]
            ],
            "type": "contour"
           }
          ],
          "contourcarpet": [
           {
            "colorbar": {
             "outlinewidth": 0,
             "ticks": ""
            },
            "type": "contourcarpet"
           }
          ],
          "heatmap": [
           {
            "colorbar": {
             "outlinewidth": 0,
             "ticks": ""
            },
            "colorscale": [
             [
              0,
              "#0d0887"
             ],
             [
              0.1111111111111111,
              "#46039f"
             ],
             [
              0.2222222222222222,
              "#7201a8"
             ],
             [
              0.3333333333333333,
              "#9c179e"
             ],
             [
              0.4444444444444444,
              "#bd3786"
             ],
             [
              0.5555555555555556,
              "#d8576b"
             ],
             [
              0.6666666666666666,
              "#ed7953"
             ],
             [
              0.7777777777777778,
              "#fb9f3a"
             ],
             [
              0.8888888888888888,
              "#fdca26"
             ],
             [
              1,
              "#f0f921"
             ]
            ],
            "type": "heatmap"
           }
          ],
          "heatmapgl": [
           {
            "colorbar": {
             "outlinewidth": 0,
             "ticks": ""
            },
            "colorscale": [
             [
              0,
              "#0d0887"
             ],
             [
              0.1111111111111111,
              "#46039f"
             ],
             [
              0.2222222222222222,
              "#7201a8"
             ],
             [
              0.3333333333333333,
              "#9c179e"
             ],
             [
              0.4444444444444444,
              "#bd3786"
             ],
             [
              0.5555555555555556,
              "#d8576b"
             ],
             [
              0.6666666666666666,
              "#ed7953"
             ],
             [
              0.7777777777777778,
              "#fb9f3a"
             ],
             [
              0.8888888888888888,
              "#fdca26"
             ],
             [
              1,
              "#f0f921"
             ]
            ],
            "type": "heatmapgl"
           }
          ],
          "histogram": [
           {
            "marker": {
             "pattern": {
              "fillmode": "overlay",
              "size": 10,
              "solidity": 0.2
             }
            },
            "type": "histogram"
           }
          ],
          "histogram2d": [
           {
            "colorbar": {
             "outlinewidth": 0,
             "ticks": ""
            },
            "colorscale": [
             [
              0,
              "#0d0887"
             ],
             [
              0.1111111111111111,
              "#46039f"
             ],
             [
              0.2222222222222222,
              "#7201a8"
             ],
             [
              0.3333333333333333,
              "#9c179e"
             ],
             [
              0.4444444444444444,
              "#bd3786"
             ],
             [
              0.5555555555555556,
              "#d8576b"
             ],
             [
              0.6666666666666666,
              "#ed7953"
             ],
             [
              0.7777777777777778,
              "#fb9f3a"
             ],
             [
              0.8888888888888888,
              "#fdca26"
             ],
             [
              1,
              "#f0f921"
             ]
            ],
            "type": "histogram2d"
           }
          ],
          "histogram2dcontour": [
           {
            "colorbar": {
             "outlinewidth": 0,
             "ticks": ""
            },
            "colorscale": [
             [
              0,
              "#0d0887"
             ],
             [
              0.1111111111111111,
              "#46039f"
             ],
             [
              0.2222222222222222,
              "#7201a8"
             ],
             [
              0.3333333333333333,
              "#9c179e"
             ],
             [
              0.4444444444444444,
              "#bd3786"
             ],
             [
              0.5555555555555556,
              "#d8576b"
             ],
             [
              0.6666666666666666,
              "#ed7953"
             ],
             [
              0.7777777777777778,
              "#fb9f3a"
             ],
             [
              0.8888888888888888,
              "#fdca26"
             ],
             [
              1,
              "#f0f921"
             ]
            ],
            "type": "histogram2dcontour"
           }
          ],
          "mesh3d": [
           {
            "colorbar": {
             "outlinewidth": 0,
             "ticks": ""
            },
            "type": "mesh3d"
           }
          ],
          "parcoords": [
           {
            "line": {
             "colorbar": {
              "outlinewidth": 0,
              "ticks": ""
             }
            },
            "type": "parcoords"
           }
          ],
          "pie": [
           {
            "automargin": true,
            "type": "pie"
           }
          ],
          "scatter": [
           {
            "marker": {
             "colorbar": {
              "outlinewidth": 0,
              "ticks": ""
             }
            },
            "type": "scatter"
           }
          ],
          "scatter3d": [
           {
            "line": {
             "colorbar": {
              "outlinewidth": 0,
              "ticks": ""
             }
            },
            "marker": {
             "colorbar": {
              "outlinewidth": 0,
              "ticks": ""
             }
            },
            "type": "scatter3d"
           }
          ],
          "scattercarpet": [
           {
            "marker": {
             "colorbar": {
              "outlinewidth": 0,
              "ticks": ""
             }
            },
            "type": "scattercarpet"
           }
          ],
          "scattergeo": [
           {
            "marker": {
             "colorbar": {
              "outlinewidth": 0,
              "ticks": ""
             }
            },
            "type": "scattergeo"
           }
          ],
          "scattergl": [
           {
            "marker": {
             "colorbar": {
              "outlinewidth": 0,
              "ticks": ""
             }
            },
            "type": "scattergl"
           }
          ],
          "scattermapbox": [
           {
            "marker": {
             "colorbar": {
              "outlinewidth": 0,
              "ticks": ""
             }
            },
            "type": "scattermapbox"
           }
          ],
          "scatterpolar": [
           {
            "marker": {
             "colorbar": {
              "outlinewidth": 0,
              "ticks": ""
             }
            },
            "type": "scatterpolar"
           }
          ],
          "scatterpolargl": [
           {
            "marker": {
             "colorbar": {
              "outlinewidth": 0,
              "ticks": ""
             }
            },
            "type": "scatterpolargl"
           }
          ],
          "scatterternary": [
           {
            "marker": {
             "colorbar": {
              "outlinewidth": 0,
              "ticks": ""
             }
            },
            "type": "scatterternary"
           }
          ],
          "surface": [
           {
            "colorbar": {
             "outlinewidth": 0,
             "ticks": ""
            },
            "colorscale": [
             [
              0,
              "#0d0887"
             ],
             [
              0.1111111111111111,
              "#46039f"
             ],
             [
              0.2222222222222222,
              "#7201a8"
             ],
             [
              0.3333333333333333,
              "#9c179e"
             ],
             [
              0.4444444444444444,
              "#bd3786"
             ],
             [
              0.5555555555555556,
              "#d8576b"
             ],
             [
              0.6666666666666666,
              "#ed7953"
             ],
             [
              0.7777777777777778,
              "#fb9f3a"
             ],
             [
              0.8888888888888888,
              "#fdca26"
             ],
             [
              1,
              "#f0f921"
             ]
            ],
            "type": "surface"
           }
          ],
          "table": [
           {
            "cells": {
             "fill": {
              "color": "#EBF0F8"
             },
             "line": {
              "color": "white"
             }
            },
            "header": {
             "fill": {
              "color": "#C8D4E3"
             },
             "line": {
              "color": "white"
             }
            },
            "type": "table"
           }
          ]
         },
         "layout": {
          "annotationdefaults": {
           "arrowcolor": "#2a3f5f",
           "arrowhead": 0,
           "arrowwidth": 1
          },
          "autotypenumbers": "strict",
          "coloraxis": {
           "colorbar": {
            "outlinewidth": 0,
            "ticks": ""
           }
          },
          "colorscale": {
           "diverging": [
            [
             0,
             "#8e0152"
            ],
            [
             0.1,
             "#c51b7d"
            ],
            [
             0.2,
             "#de77ae"
            ],
            [
             0.3,
             "#f1b6da"
            ],
            [
             0.4,
             "#fde0ef"
            ],
            [
             0.5,
             "#f7f7f7"
            ],
            [
             0.6,
             "#e6f5d0"
            ],
            [
             0.7,
             "#b8e186"
            ],
            [
             0.8,
             "#7fbc41"
            ],
            [
             0.9,
             "#4d9221"
            ],
            [
             1,
             "#276419"
            ]
           ],
           "sequential": [
            [
             0,
             "#0d0887"
            ],
            [
             0.1111111111111111,
             "#46039f"
            ],
            [
             0.2222222222222222,
             "#7201a8"
            ],
            [
             0.3333333333333333,
             "#9c179e"
            ],
            [
             0.4444444444444444,
             "#bd3786"
            ],
            [
             0.5555555555555556,
             "#d8576b"
            ],
            [
             0.6666666666666666,
             "#ed7953"
            ],
            [
             0.7777777777777778,
             "#fb9f3a"
            ],
            [
             0.8888888888888888,
             "#fdca26"
            ],
            [
             1,
             "#f0f921"
            ]
           ],
           "sequentialminus": [
            [
             0,
             "#0d0887"
            ],
            [
             0.1111111111111111,
             "#46039f"
            ],
            [
             0.2222222222222222,
             "#7201a8"
            ],
            [
             0.3333333333333333,
             "#9c179e"
            ],
            [
             0.4444444444444444,
             "#bd3786"
            ],
            [
             0.5555555555555556,
             "#d8576b"
            ],
            [
             0.6666666666666666,
             "#ed7953"
            ],
            [
             0.7777777777777778,
             "#fb9f3a"
            ],
            [
             0.8888888888888888,
             "#fdca26"
            ],
            [
             1,
             "#f0f921"
            ]
           ]
          },
          "colorway": [
           "#636efa",
           "#EF553B",
           "#00cc96",
           "#ab63fa",
           "#FFA15A",
           "#19d3f3",
           "#FF6692",
           "#B6E880",
           "#FF97FF",
           "#FECB52"
          ],
          "font": {
           "color": "#2a3f5f"
          },
          "geo": {
           "bgcolor": "white",
           "lakecolor": "white",
           "landcolor": "#E5ECF6",
           "showlakes": true,
           "showland": true,
           "subunitcolor": "white"
          },
          "hoverlabel": {
           "align": "left"
          },
          "hovermode": "closest",
          "mapbox": {
           "style": "light"
          },
          "paper_bgcolor": "white",
          "plot_bgcolor": "#E5ECF6",
          "polar": {
           "angularaxis": {
            "gridcolor": "white",
            "linecolor": "white",
            "ticks": ""
           },
           "bgcolor": "#E5ECF6",
           "radialaxis": {
            "gridcolor": "white",
            "linecolor": "white",
            "ticks": ""
           }
          },
          "scene": {
           "xaxis": {
            "backgroundcolor": "#E5ECF6",
            "gridcolor": "white",
            "gridwidth": 2,
            "linecolor": "white",
            "showbackground": true,
            "ticks": "",
            "zerolinecolor": "white"
           },
           "yaxis": {
            "backgroundcolor": "#E5ECF6",
            "gridcolor": "white",
            "gridwidth": 2,
            "linecolor": "white",
            "showbackground": true,
            "ticks": "",
            "zerolinecolor": "white"
           },
           "zaxis": {
            "backgroundcolor": "#E5ECF6",
            "gridcolor": "white",
            "gridwidth": 2,
            "linecolor": "white",
            "showbackground": true,
            "ticks": "",
            "zerolinecolor": "white"
           }
          },
          "shapedefaults": {
           "line": {
            "color": "#2a3f5f"
           }
          },
          "ternary": {
           "aaxis": {
            "gridcolor": "white",
            "linecolor": "white",
            "ticks": ""
           },
           "baxis": {
            "gridcolor": "white",
            "linecolor": "white",
            "ticks": ""
           },
           "bgcolor": "#E5ECF6",
           "caxis": {
            "gridcolor": "white",
            "linecolor": "white",
            "ticks": ""
           }
          },
          "title": {
           "x": 0.05
          },
          "xaxis": {
           "automargin": true,
           "gridcolor": "white",
           "linecolor": "white",
           "ticks": "",
           "title": {
            "standoff": 15
           },
           "zerolinecolor": "white",
           "zerolinewidth": 2
          },
          "yaxis": {
           "automargin": true,
           "gridcolor": "white",
           "linecolor": "white",
           "ticks": "",
           "title": {
            "standoff": 15
           },
           "zerolinecolor": "white",
           "zerolinewidth": 2
          }
         }
        },
        "title": {
         "font": {
          "color": "black",
          "family": "Arial",
          "size": 18
         },
         "text": "<b>Соотношение видов объектов общественного питания</b>",
         "x": 0.5
        }
       }
      },
      "text/html": [
       "<div>                            <div id=\"4968dbc8-e9e5-48ea-b329-0da177cf0c9f\" class=\"plotly-graph-div\" style=\"height:525px; width:100%;\"></div>            <script type=\"text/javascript\">                require([\"plotly\"], function(Plotly) {                    window.PLOTLYENV=window.PLOTLYENV || {};                                    if (document.getElementById(\"4968dbc8-e9e5-48ea-b329-0da177cf0c9f\")) {                    Plotly.newPlot(                        \"4968dbc8-e9e5-48ea-b329-0da177cf0c9f\",                        [{\"cells\":{\"align\":\"center\",\"values\":[[\"\\u043a\\u0430\\u0444\\u0435\",\"\\u0441\\u0442\\u043e\\u043b\\u043e\\u0432\\u0430\\u044f\",\"\\u0440\\u0435\\u0441\\u0442\\u043e\\u0440\\u0430\\u043d\",\"\\u043f\\u0440\\u0435\\u0434\\u043f\\u0440\\u0438\\u044f\\u0442\\u0438\\u0435 \\u0431\\u044b\\u0441\\u0442\\u0440\\u043e\\u0433\\u043e \\u043e\\u0431\\u0441\\u043b\\u0443\\u0436\\u0438\\u0432\\u0430\\u043d\\u0438\\u044f\",\"\\u0431\\u0430\\u0440\",\"\\u0431\\u0443\\u0444\\u0435\\u0442\",\"\\u043a\\u0430\\u0444\\u0435\\u0442\\u0435\\u0440\\u0438\\u0439\",\"\\u0437\\u0430\\u043a\\u0443\\u0441\\u043e\\u0447\\u043d\\u0430\\u044f\",\"\\u043c\\u0430\\u0433\\u0430\\u0437\\u0438\\u043d (\\u043e\\u0442\\u0434\\u0435\\u043b \\u043a\\u0443\\u043b\\u0438\\u043d\\u0430\\u0440\\u0438\\u0438)\"],[6071,2584,2282,1897,855,576,395,348,273],[39.73,16.91,14.93,12.41,5.6,3.77,2.58,2.28,1.79]]},\"header\":{\"values\":[\"\\u0422\\u0438\\u043f \\u043e\\u0431\\u044a\\u0435\\u043a\\u0442\\u0430\",\"\\u041a\\u043e\\u043b-\\u0432\\u043e \\u0430\\u0431\\u0441.\",\"\\u041a\\u043e\\u043b-\\u0432\\u043e %\"]},\"type\":\"table\",\"domain\":{\"x\":[0.0,0.45],\"y\":[0.0,1.0]}},{\"labels\":[\"\\u043a\\u0430\\u0444\\u0435\",\"\\u0441\\u0442\\u043e\\u043b\\u043e\\u0432\\u0430\\u044f\",\"\\u0440\\u0435\\u0441\\u0442\\u043e\\u0440\\u0430\\u043d\",\"\\u043f\\u0440\\u0435\\u0434\\u043f\\u0440\\u0438\\u044f\\u0442\\u0438\\u0435 \\u0431\\u044b\\u0441\\u0442\\u0440\\u043e\\u0433\\u043e \\u043e\\u0431\\u0441\\u043b\\u0443\\u0436\\u0438\\u0432\\u0430\\u043d\\u0438\\u044f\",\"\\u0431\\u0430\\u0440\",\"\\u0431\\u0443\\u0444\\u0435\\u0442\",\"\\u043a\\u0430\\u0444\\u0435\\u0442\\u0435\\u0440\\u0438\\u0439\",\"\\u0437\\u0430\\u043a\\u0443\\u0441\\u043e\\u0447\\u043d\\u0430\\u044f\",\"\\u043c\\u0430\\u0433\\u0430\\u0437\\u0438\\u043d (\\u043e\\u0442\\u0434\\u0435\\u043b \\u043a\\u0443\\u043b\\u0438\\u043d\\u0430\\u0440\\u0438\\u0438)\"],\"values\":[6071,2584,2282,1897,855,576,395,348,273],\"type\":\"pie\",\"domain\":{\"x\":[0.55,1.0],\"y\":[0.0,1.0]}}],                        {\"template\":{\"data\":{\"bar\":[{\"error_x\":{\"color\":\"#2a3f5f\"},\"error_y\":{\"color\":\"#2a3f5f\"},\"marker\":{\"line\":{\"color\":\"#E5ECF6\",\"width\":0.5},\"pattern\":{\"fillmode\":\"overlay\",\"size\":10,\"solidity\":0.2}},\"type\":\"bar\"}],\"barpolar\":[{\"marker\":{\"line\":{\"color\":\"#E5ECF6\",\"width\":0.5},\"pattern\":{\"fillmode\":\"overlay\",\"size\":10,\"solidity\":0.2}},\"type\":\"barpolar\"}],\"carpet\":[{\"aaxis\":{\"endlinecolor\":\"#2a3f5f\",\"gridcolor\":\"white\",\"linecolor\":\"white\",\"minorgridcolor\":\"white\",\"startlinecolor\":\"#2a3f5f\"},\"baxis\":{\"endlinecolor\":\"#2a3f5f\",\"gridcolor\":\"white\",\"linecolor\":\"white\",\"minorgridcolor\":\"white\",\"startlinecolor\":\"#2a3f5f\"},\"type\":\"carpet\"}],\"choropleth\":[{\"colorbar\":{\"outlinewidth\":0,\"ticks\":\"\"},\"type\":\"choropleth\"}],\"contour\":[{\"colorbar\":{\"outlinewidth\":0,\"ticks\":\"\"},\"colorscale\":[[0.0,\"#0d0887\"],[0.1111111111111111,\"#46039f\"],[0.2222222222222222,\"#7201a8\"],[0.3333333333333333,\"#9c179e\"],[0.4444444444444444,\"#bd3786\"],[0.5555555555555556,\"#d8576b\"],[0.6666666666666666,\"#ed7953\"],[0.7777777777777778,\"#fb9f3a\"],[0.8888888888888888,\"#fdca26\"],[1.0,\"#f0f921\"]],\"type\":\"contour\"}],\"contourcarpet\":[{\"colorbar\":{\"outlinewidth\":0,\"ticks\":\"\"},\"type\":\"contourcarpet\"}],\"heatmap\":[{\"colorbar\":{\"outlinewidth\":0,\"ticks\":\"\"},\"colorscale\":[[0.0,\"#0d0887\"],[0.1111111111111111,\"#46039f\"],[0.2222222222222222,\"#7201a8\"],[0.3333333333333333,\"#9c179e\"],[0.4444444444444444,\"#bd3786\"],[0.5555555555555556,\"#d8576b\"],[0.6666666666666666,\"#ed7953\"],[0.7777777777777778,\"#fb9f3a\"],[0.8888888888888888,\"#fdca26\"],[1.0,\"#f0f921\"]],\"type\":\"heatmap\"}],\"heatmapgl\":[{\"colorbar\":{\"outlinewidth\":0,\"ticks\":\"\"},\"colorscale\":[[0.0,\"#0d0887\"],[0.1111111111111111,\"#46039f\"],[0.2222222222222222,\"#7201a8\"],[0.3333333333333333,\"#9c179e\"],[0.4444444444444444,\"#bd3786\"],[0.5555555555555556,\"#d8576b\"],[0.6666666666666666,\"#ed7953\"],[0.7777777777777778,\"#fb9f3a\"],[0.8888888888888888,\"#fdca26\"],[1.0,\"#f0f921\"]],\"type\":\"heatmapgl\"}],\"histogram\":[{\"marker\":{\"pattern\":{\"fillmode\":\"overlay\",\"size\":10,\"solidity\":0.2}},\"type\":\"histogram\"}],\"histogram2d\":[{\"colorbar\":{\"outlinewidth\":0,\"ticks\":\"\"},\"colorscale\":[[0.0,\"#0d0887\"],[0.1111111111111111,\"#46039f\"],[0.2222222222222222,\"#7201a8\"],[0.3333333333333333,\"#9c179e\"],[0.4444444444444444,\"#bd3786\"],[0.5555555555555556,\"#d8576b\"],[0.6666666666666666,\"#ed7953\"],[0.7777777777777778,\"#fb9f3a\"],[0.8888888888888888,\"#fdca26\"],[1.0,\"#f0f921\"]],\"type\":\"histogram2d\"}],\"histogram2dcontour\":[{\"colorbar\":{\"outlinewidth\":0,\"ticks\":\"\"},\"colorscale\":[[0.0,\"#0d0887\"],[0.1111111111111111,\"#46039f\"],[0.2222222222222222,\"#7201a8\"],[0.3333333333333333,\"#9c179e\"],[0.4444444444444444,\"#bd3786\"],[0.5555555555555556,\"#d8576b\"],[0.6666666666666666,\"#ed7953\"],[0.7777777777777778,\"#fb9f3a\"],[0.8888888888888888,\"#fdca26\"],[1.0,\"#f0f921\"]],\"type\":\"histogram2dcontour\"}],\"mesh3d\":[{\"colorbar\":{\"outlinewidth\":0,\"ticks\":\"\"},\"type\":\"mesh3d\"}],\"parcoords\":[{\"line\":{\"colorbar\":{\"outlinewidth\":0,\"ticks\":\"\"}},\"type\":\"parcoords\"}],\"pie\":[{\"automargin\":true,\"type\":\"pie\"}],\"scatter\":[{\"marker\":{\"colorbar\":{\"outlinewidth\":0,\"ticks\":\"\"}},\"type\":\"scatter\"}],\"scatter3d\":[{\"line\":{\"colorbar\":{\"outlinewidth\":0,\"ticks\":\"\"}},\"marker\":{\"colorbar\":{\"outlinewidth\":0,\"ticks\":\"\"}},\"type\":\"scatter3d\"}],\"scattercarpet\":[{\"marker\":{\"colorbar\":{\"outlinewidth\":0,\"ticks\":\"\"}},\"type\":\"scattercarpet\"}],\"scattergeo\":[{\"marker\":{\"colorbar\":{\"outlinewidth\":0,\"ticks\":\"\"}},\"type\":\"scattergeo\"}],\"scattergl\":[{\"marker\":{\"colorbar\":{\"outlinewidth\":0,\"ticks\":\"\"}},\"type\":\"scattergl\"}],\"scattermapbox\":[{\"marker\":{\"colorbar\":{\"outlinewidth\":0,\"ticks\":\"\"}},\"type\":\"scattermapbox\"}],\"scatterpolar\":[{\"marker\":{\"colorbar\":{\"outlinewidth\":0,\"ticks\":\"\"}},\"type\":\"scatterpolar\"}],\"scatterpolargl\":[{\"marker\":{\"colorbar\":{\"outlinewidth\":0,\"ticks\":\"\"}},\"type\":\"scatterpolargl\"}],\"scatterternary\":[{\"marker\":{\"colorbar\":{\"outlinewidth\":0,\"ticks\":\"\"}},\"type\":\"scatterternary\"}],\"surface\":[{\"colorbar\":{\"outlinewidth\":0,\"ticks\":\"\"},\"colorscale\":[[0.0,\"#0d0887\"],[0.1111111111111111,\"#46039f\"],[0.2222222222222222,\"#7201a8\"],[0.3333333333333333,\"#9c179e\"],[0.4444444444444444,\"#bd3786\"],[0.5555555555555556,\"#d8576b\"],[0.6666666666666666,\"#ed7953\"],[0.7777777777777778,\"#fb9f3a\"],[0.8888888888888888,\"#fdca26\"],[1.0,\"#f0f921\"]],\"type\":\"surface\"}],\"table\":[{\"cells\":{\"fill\":{\"color\":\"#EBF0F8\"},\"line\":{\"color\":\"white\"}},\"header\":{\"fill\":{\"color\":\"#C8D4E3\"},\"line\":{\"color\":\"white\"}},\"type\":\"table\"}]},\"layout\":{\"annotationdefaults\":{\"arrowcolor\":\"#2a3f5f\",\"arrowhead\":0,\"arrowwidth\":1},\"autotypenumbers\":\"strict\",\"coloraxis\":{\"colorbar\":{\"outlinewidth\":0,\"ticks\":\"\"}},\"colorscale\":{\"diverging\":[[0,\"#8e0152\"],[0.1,\"#c51b7d\"],[0.2,\"#de77ae\"],[0.3,\"#f1b6da\"],[0.4,\"#fde0ef\"],[0.5,\"#f7f7f7\"],[0.6,\"#e6f5d0\"],[0.7,\"#b8e186\"],[0.8,\"#7fbc41\"],[0.9,\"#4d9221\"],[1,\"#276419\"]],\"sequential\":[[0.0,\"#0d0887\"],[0.1111111111111111,\"#46039f\"],[0.2222222222222222,\"#7201a8\"],[0.3333333333333333,\"#9c179e\"],[0.4444444444444444,\"#bd3786\"],[0.5555555555555556,\"#d8576b\"],[0.6666666666666666,\"#ed7953\"],[0.7777777777777778,\"#fb9f3a\"],[0.8888888888888888,\"#fdca26\"],[1.0,\"#f0f921\"]],\"sequentialminus\":[[0.0,\"#0d0887\"],[0.1111111111111111,\"#46039f\"],[0.2222222222222222,\"#7201a8\"],[0.3333333333333333,\"#9c179e\"],[0.4444444444444444,\"#bd3786\"],[0.5555555555555556,\"#d8576b\"],[0.6666666666666666,\"#ed7953\"],[0.7777777777777778,\"#fb9f3a\"],[0.8888888888888888,\"#fdca26\"],[1.0,\"#f0f921\"]]},\"colorway\":[\"#636efa\",\"#EF553B\",\"#00cc96\",\"#ab63fa\",\"#FFA15A\",\"#19d3f3\",\"#FF6692\",\"#B6E880\",\"#FF97FF\",\"#FECB52\"],\"font\":{\"color\":\"#2a3f5f\"},\"geo\":{\"bgcolor\":\"white\",\"lakecolor\":\"white\",\"landcolor\":\"#E5ECF6\",\"showlakes\":true,\"showland\":true,\"subunitcolor\":\"white\"},\"hoverlabel\":{\"align\":\"left\"},\"hovermode\":\"closest\",\"mapbox\":{\"style\":\"light\"},\"paper_bgcolor\":\"white\",\"plot_bgcolor\":\"#E5ECF6\",\"polar\":{\"angularaxis\":{\"gridcolor\":\"white\",\"linecolor\":\"white\",\"ticks\":\"\"},\"bgcolor\":\"#E5ECF6\",\"radialaxis\":{\"gridcolor\":\"white\",\"linecolor\":\"white\",\"ticks\":\"\"}},\"scene\":{\"xaxis\":{\"backgroundcolor\":\"#E5ECF6\",\"gridcolor\":\"white\",\"gridwidth\":2,\"linecolor\":\"white\",\"showbackground\":true,\"ticks\":\"\",\"zerolinecolor\":\"white\"},\"yaxis\":{\"backgroundcolor\":\"#E5ECF6\",\"gridcolor\":\"white\",\"gridwidth\":2,\"linecolor\":\"white\",\"showbackground\":true,\"ticks\":\"\",\"zerolinecolor\":\"white\"},\"zaxis\":{\"backgroundcolor\":\"#E5ECF6\",\"gridcolor\":\"white\",\"gridwidth\":2,\"linecolor\":\"white\",\"showbackground\":true,\"ticks\":\"\",\"zerolinecolor\":\"white\"}},\"shapedefaults\":{\"line\":{\"color\":\"#2a3f5f\"}},\"ternary\":{\"aaxis\":{\"gridcolor\":\"white\",\"linecolor\":\"white\",\"ticks\":\"\"},\"baxis\":{\"gridcolor\":\"white\",\"linecolor\":\"white\",\"ticks\":\"\"},\"bgcolor\":\"#E5ECF6\",\"caxis\":{\"gridcolor\":\"white\",\"linecolor\":\"white\",\"ticks\":\"\"}},\"title\":{\"x\":0.05},\"xaxis\":{\"automargin\":true,\"gridcolor\":\"white\",\"linecolor\":\"white\",\"ticks\":\"\",\"title\":{\"standoff\":15},\"zerolinecolor\":\"white\",\"zerolinewidth\":2},\"yaxis\":{\"automargin\":true,\"gridcolor\":\"white\",\"linecolor\":\"white\",\"ticks\":\"\",\"title\":{\"standoff\":15},\"zerolinecolor\":\"white\",\"zerolinewidth\":2}}},\"legend\":{\"y\":0.5},\"title\":{\"font\":{\"family\":\"Arial\",\"color\":\"black\",\"size\":18},\"text\":\"<b>\\u0421\\u043e\\u043e\\u0442\\u043d\\u043e\\u0448\\u0435\\u043d\\u0438\\u0435 \\u0432\\u0438\\u0434\\u043e\\u0432 \\u043e\\u0431\\u044a\\u0435\\u043a\\u0442\\u043e\\u0432 \\u043e\\u0431\\u0449\\u0435\\u0441\\u0442\\u0432\\u0435\\u043d\\u043d\\u043e\\u0433\\u043e \\u043f\\u0438\\u0442\\u0430\\u043d\\u0438\\u044f</b>\",\"x\":0.5}},                        {\"responsive\": true}                    ).then(function(){\n",
       "                            \n",
       "var gd = document.getElementById('4968dbc8-e9e5-48ea-b329-0da177cf0c9f');\n",
       "var x = new MutationObserver(function (mutations, observer) {{\n",
       "        var display = window.getComputedStyle(gd).display;\n",
       "        if (!display || display === 'none') {{\n",
       "            console.log([gd, 'removed!']);\n",
       "            Plotly.purge(gd);\n",
       "            observer.disconnect();\n",
       "        }}\n",
       "}});\n",
       "\n",
       "// Listen for the removal of the full notebook cells\n",
       "var notebookContainer = gd.closest('#notebook-container');\n",
       "if (notebookContainer) {{\n",
       "    x.observe(notebookContainer, {childList: true});\n",
       "}}\n",
       "\n",
       "// Listen for the clearing of the current output cell\n",
       "var outputEl = gd.closest('.output');\n",
       "if (outputEl) {{\n",
       "    x.observe(outputEl, {childList: true});\n",
       "}}\n",
       "\n",
       "                        })                };                });            </script>        </div>"
      ]
     },
     "metadata": {},
     "output_type": "display_data"
    }
   ],
   "source": [
    "group_obj = rest_data.groupby('object_type')['id'].count().reset_index().sort_values('id',ascending=False).rename(columns={'id':'count'})\n",
    "obj_sum = group_obj['count'].sum()\n",
    "group_obj['percent'] =  round((group_obj['count']/obj_sum)*100,2)\n",
    "\n",
    "wrapped_labels = [label.replace(' ', '\\n') for label in group_obj['object_type']]\n",
    "\n",
    "fig=plt.figure(figsize=(14,7))\n",
    "sns.set_style('darkgrid')\n",
    "sns.barplot(x='count', y='object_type', data=group_obj, color='royalblue')\n",
    "plt.yticks(np.arange(len(wrapped_labels)), wrapped_labels)\n",
    "plt.xticks(rotation=90)\n",
    "plt.xlabel('Количество заведений')\n",
    "plt.ylabel('Тип объекта')\n",
    "plt.title('Количество различных видов объектов общественного питания', fontdict={'fontsize': 16, 'fontweight':'bold'},y=1.01)\n",
    "plt.show()\n",
    "\n",
    "header_count=['Тип объекта', 'Кол-во абс.','Кол-во %']\n",
    "\n",
    "fig = make_subplots(rows=1, cols=2, specs=[[{'type':'domain'}, {'type':'domain'}]])\n",
    "fig.add_trace(go.Table(\n",
    "    header=dict(values=header_count),\n",
    "    cells=dict(values=[group_obj[k].tolist() for k in group_obj.columns[:]],\n",
    "                            align='center')),\n",
    "               1,1)\n",
    "fig.add_trace(go.Pie(\n",
    "    labels=group_obj['object_type'], \n",
    "    values=group_obj['count']),\n",
    "              1, 2)\n",
    "fig.update_layout(\n",
    "    legend=dict(y=.5),\n",
    "    title_text='<b>Соотношение видов объектов общественного питания</b>',\n",
    "    title_font_family=\"Arial\",\n",
    "    title_font_color=\"black\",\n",
    "    title_font_size = 18,\n",
    "    title_x=0.5\n",
    "    )\n",
    "fig.show()"
   ]
  },
  {
   "cell_type": "markdown",
   "id": "7484b761",
   "metadata": {},
   "source": [
    "***Вывод***  \n",
    "По имеющимся данным, среди заведений общественного питания Москвы наибольшее распространение получили кафе - 6071 (39,7%) заведения, столовые - 2584 (16,9%), рестораны 2282 (14,9%). "
   ]
  },
  {
   "cell_type": "markdown",
   "id": "29aa86b4",
   "metadata": {},
   "source": [
    "# Характеристика сетевых и несетевых заведений."
   ]
  },
  {
   "cell_type": "code",
   "execution_count": 7,
   "id": "68ab1f7e",
   "metadata": {},
   "outputs": [
    {
     "data": {
      "application/vnd.plotly.v1+json": {
       "config": {
        "plotlyServerURL": "https://plot.ly"
       },
       "data": [
        {
         "cells": {
          "align": "center",
          "values": [
           [
            "да",
            "нет"
           ],
           [
            2964,
            12317
           ],
           [
            19.4,
            80.6
           ]
          ]
         },
         "domain": {
          "x": [
           0,
           0.45
          ],
          "y": [
           0,
           0.6
          ]
         },
         "header": {
          "values": [
           "Статус сети",
           "Кол-во абс.",
           "Кол-во %"
          ]
         },
         "name": "first plot",
         "type": "table"
        },
        {
         "domain": {
          "x": [
           0.55,
           1
          ],
          "y": [
           0,
           1
          ]
         },
         "labels": [
          "Cетевой",
          "Несетевой"
         ],
         "name": "Status",
         "pull": 0.01,
         "type": "pie",
         "values": [
          2964,
          12317
         ]
        }
       ],
       "layout": {
        "height": 400,
        "legend": {
         "orientation": "h",
         "x": 0.93,
         "xanchor": "right"
        },
        "margin": {
         "b": 0,
         "l": 0,
         "r": 0,
         "t": 25
        },
        "template": {
         "data": {
          "bar": [
           {
            "error_x": {
             "color": "#2a3f5f"
            },
            "error_y": {
             "color": "#2a3f5f"
            },
            "marker": {
             "line": {
              "color": "#E5ECF6",
              "width": 0.5
             },
             "pattern": {
              "fillmode": "overlay",
              "size": 10,
              "solidity": 0.2
             }
            },
            "type": "bar"
           }
          ],
          "barpolar": [
           {
            "marker": {
             "line": {
              "color": "#E5ECF6",
              "width": 0.5
             },
             "pattern": {
              "fillmode": "overlay",
              "size": 10,
              "solidity": 0.2
             }
            },
            "type": "barpolar"
           }
          ],
          "carpet": [
           {
            "aaxis": {
             "endlinecolor": "#2a3f5f",
             "gridcolor": "white",
             "linecolor": "white",
             "minorgridcolor": "white",
             "startlinecolor": "#2a3f5f"
            },
            "baxis": {
             "endlinecolor": "#2a3f5f",
             "gridcolor": "white",
             "linecolor": "white",
             "minorgridcolor": "white",
             "startlinecolor": "#2a3f5f"
            },
            "type": "carpet"
           }
          ],
          "choropleth": [
           {
            "colorbar": {
             "outlinewidth": 0,
             "ticks": ""
            },
            "type": "choropleth"
           }
          ],
          "contour": [
           {
            "colorbar": {
             "outlinewidth": 0,
             "ticks": ""
            },
            "colorscale": [
             [
              0,
              "#0d0887"
             ],
             [
              0.1111111111111111,
              "#46039f"
             ],
             [
              0.2222222222222222,
              "#7201a8"
             ],
             [
              0.3333333333333333,
              "#9c179e"
             ],
             [
              0.4444444444444444,
              "#bd3786"
             ],
             [
              0.5555555555555556,
              "#d8576b"
             ],
             [
              0.6666666666666666,
              "#ed7953"
             ],
             [
              0.7777777777777778,
              "#fb9f3a"
             ],
             [
              0.8888888888888888,
              "#fdca26"
             ],
             [
              1,
              "#f0f921"
             ]
            ],
            "type": "contour"
           }
          ],
          "contourcarpet": [
           {
            "colorbar": {
             "outlinewidth": 0,
             "ticks": ""
            },
            "type": "contourcarpet"
           }
          ],
          "heatmap": [
           {
            "colorbar": {
             "outlinewidth": 0,
             "ticks": ""
            },
            "colorscale": [
             [
              0,
              "#0d0887"
             ],
             [
              0.1111111111111111,
              "#46039f"
             ],
             [
              0.2222222222222222,
              "#7201a8"
             ],
             [
              0.3333333333333333,
              "#9c179e"
             ],
             [
              0.4444444444444444,
              "#bd3786"
             ],
             [
              0.5555555555555556,
              "#d8576b"
             ],
             [
              0.6666666666666666,
              "#ed7953"
             ],
             [
              0.7777777777777778,
              "#fb9f3a"
             ],
             [
              0.8888888888888888,
              "#fdca26"
             ],
             [
              1,
              "#f0f921"
             ]
            ],
            "type": "heatmap"
           }
          ],
          "heatmapgl": [
           {
            "colorbar": {
             "outlinewidth": 0,
             "ticks": ""
            },
            "colorscale": [
             [
              0,
              "#0d0887"
             ],
             [
              0.1111111111111111,
              "#46039f"
             ],
             [
              0.2222222222222222,
              "#7201a8"
             ],
             [
              0.3333333333333333,
              "#9c179e"
             ],
             [
              0.4444444444444444,
              "#bd3786"
             ],
             [
              0.5555555555555556,
              "#d8576b"
             ],
             [
              0.6666666666666666,
              "#ed7953"
             ],
             [
              0.7777777777777778,
              "#fb9f3a"
             ],
             [
              0.8888888888888888,
              "#fdca26"
             ],
             [
              1,
              "#f0f921"
             ]
            ],
            "type": "heatmapgl"
           }
          ],
          "histogram": [
           {
            "marker": {
             "pattern": {
              "fillmode": "overlay",
              "size": 10,
              "solidity": 0.2
             }
            },
            "type": "histogram"
           }
          ],
          "histogram2d": [
           {
            "colorbar": {
             "outlinewidth": 0,
             "ticks": ""
            },
            "colorscale": [
             [
              0,
              "#0d0887"
             ],
             [
              0.1111111111111111,
              "#46039f"
             ],
             [
              0.2222222222222222,
              "#7201a8"
             ],
             [
              0.3333333333333333,
              "#9c179e"
             ],
             [
              0.4444444444444444,
              "#bd3786"
             ],
             [
              0.5555555555555556,
              "#d8576b"
             ],
             [
              0.6666666666666666,
              "#ed7953"
             ],
             [
              0.7777777777777778,
              "#fb9f3a"
             ],
             [
              0.8888888888888888,
              "#fdca26"
             ],
             [
              1,
              "#f0f921"
             ]
            ],
            "type": "histogram2d"
           }
          ],
          "histogram2dcontour": [
           {
            "colorbar": {
             "outlinewidth": 0,
             "ticks": ""
            },
            "colorscale": [
             [
              0,
              "#0d0887"
             ],
             [
              0.1111111111111111,
              "#46039f"
             ],
             [
              0.2222222222222222,
              "#7201a8"
             ],
             [
              0.3333333333333333,
              "#9c179e"
             ],
             [
              0.4444444444444444,
              "#bd3786"
             ],
             [
              0.5555555555555556,
              "#d8576b"
             ],
             [
              0.6666666666666666,
              "#ed7953"
             ],
             [
              0.7777777777777778,
              "#fb9f3a"
             ],
             [
              0.8888888888888888,
              "#fdca26"
             ],
             [
              1,
              "#f0f921"
             ]
            ],
            "type": "histogram2dcontour"
           }
          ],
          "mesh3d": [
           {
            "colorbar": {
             "outlinewidth": 0,
             "ticks": ""
            },
            "type": "mesh3d"
           }
          ],
          "parcoords": [
           {
            "line": {
             "colorbar": {
              "outlinewidth": 0,
              "ticks": ""
             }
            },
            "type": "parcoords"
           }
          ],
          "pie": [
           {
            "automargin": true,
            "type": "pie"
           }
          ],
          "scatter": [
           {
            "marker": {
             "colorbar": {
              "outlinewidth": 0,
              "ticks": ""
             }
            },
            "type": "scatter"
           }
          ],
          "scatter3d": [
           {
            "line": {
             "colorbar": {
              "outlinewidth": 0,
              "ticks": ""
             }
            },
            "marker": {
             "colorbar": {
              "outlinewidth": 0,
              "ticks": ""
             }
            },
            "type": "scatter3d"
           }
          ],
          "scattercarpet": [
           {
            "marker": {
             "colorbar": {
              "outlinewidth": 0,
              "ticks": ""
             }
            },
            "type": "scattercarpet"
           }
          ],
          "scattergeo": [
           {
            "marker": {
             "colorbar": {
              "outlinewidth": 0,
              "ticks": ""
             }
            },
            "type": "scattergeo"
           }
          ],
          "scattergl": [
           {
            "marker": {
             "colorbar": {
              "outlinewidth": 0,
              "ticks": ""
             }
            },
            "type": "scattergl"
           }
          ],
          "scattermapbox": [
           {
            "marker": {
             "colorbar": {
              "outlinewidth": 0,
              "ticks": ""
             }
            },
            "type": "scattermapbox"
           }
          ],
          "scatterpolar": [
           {
            "marker": {
             "colorbar": {
              "outlinewidth": 0,
              "ticks": ""
             }
            },
            "type": "scatterpolar"
           }
          ],
          "scatterpolargl": [
           {
            "marker": {
             "colorbar": {
              "outlinewidth": 0,
              "ticks": ""
             }
            },
            "type": "scatterpolargl"
           }
          ],
          "scatterternary": [
           {
            "marker": {
             "colorbar": {
              "outlinewidth": 0,
              "ticks": ""
             }
            },
            "type": "scatterternary"
           }
          ],
          "surface": [
           {
            "colorbar": {
             "outlinewidth": 0,
             "ticks": ""
            },
            "colorscale": [
             [
              0,
              "#0d0887"
             ],
             [
              0.1111111111111111,
              "#46039f"
             ],
             [
              0.2222222222222222,
              "#7201a8"
             ],
             [
              0.3333333333333333,
              "#9c179e"
             ],
             [
              0.4444444444444444,
              "#bd3786"
             ],
             [
              0.5555555555555556,
              "#d8576b"
             ],
             [
              0.6666666666666666,
              "#ed7953"
             ],
             [
              0.7777777777777778,
              "#fb9f3a"
             ],
             [
              0.8888888888888888,
              "#fdca26"
             ],
             [
              1,
              "#f0f921"
             ]
            ],
            "type": "surface"
           }
          ],
          "table": [
           {
            "cells": {
             "fill": {
              "color": "#EBF0F8"
             },
             "line": {
              "color": "white"
             }
            },
            "header": {
             "fill": {
              "color": "#C8D4E3"
             },
             "line": {
              "color": "white"
             }
            },
            "type": "table"
           }
          ]
         },
         "layout": {
          "annotationdefaults": {
           "arrowcolor": "#2a3f5f",
           "arrowhead": 0,
           "arrowwidth": 1
          },
          "autotypenumbers": "strict",
          "coloraxis": {
           "colorbar": {
            "outlinewidth": 0,
            "ticks": ""
           }
          },
          "colorscale": {
           "diverging": [
            [
             0,
             "#8e0152"
            ],
            [
             0.1,
             "#c51b7d"
            ],
            [
             0.2,
             "#de77ae"
            ],
            [
             0.3,
             "#f1b6da"
            ],
            [
             0.4,
             "#fde0ef"
            ],
            [
             0.5,
             "#f7f7f7"
            ],
            [
             0.6,
             "#e6f5d0"
            ],
            [
             0.7,
             "#b8e186"
            ],
            [
             0.8,
             "#7fbc41"
            ],
            [
             0.9,
             "#4d9221"
            ],
            [
             1,
             "#276419"
            ]
           ],
           "sequential": [
            [
             0,
             "#0d0887"
            ],
            [
             0.1111111111111111,
             "#46039f"
            ],
            [
             0.2222222222222222,
             "#7201a8"
            ],
            [
             0.3333333333333333,
             "#9c179e"
            ],
            [
             0.4444444444444444,
             "#bd3786"
            ],
            [
             0.5555555555555556,
             "#d8576b"
            ],
            [
             0.6666666666666666,
             "#ed7953"
            ],
            [
             0.7777777777777778,
             "#fb9f3a"
            ],
            [
             0.8888888888888888,
             "#fdca26"
            ],
            [
             1,
             "#f0f921"
            ]
           ],
           "sequentialminus": [
            [
             0,
             "#0d0887"
            ],
            [
             0.1111111111111111,
             "#46039f"
            ],
            [
             0.2222222222222222,
             "#7201a8"
            ],
            [
             0.3333333333333333,
             "#9c179e"
            ],
            [
             0.4444444444444444,
             "#bd3786"
            ],
            [
             0.5555555555555556,
             "#d8576b"
            ],
            [
             0.6666666666666666,
             "#ed7953"
            ],
            [
             0.7777777777777778,
             "#fb9f3a"
            ],
            [
             0.8888888888888888,
             "#fdca26"
            ],
            [
             1,
             "#f0f921"
            ]
           ]
          },
          "colorway": [
           "#636efa",
           "#EF553B",
           "#00cc96",
           "#ab63fa",
           "#FFA15A",
           "#19d3f3",
           "#FF6692",
           "#B6E880",
           "#FF97FF",
           "#FECB52"
          ],
          "font": {
           "color": "#2a3f5f"
          },
          "geo": {
           "bgcolor": "white",
           "lakecolor": "white",
           "landcolor": "#E5ECF6",
           "showlakes": true,
           "showland": true,
           "subunitcolor": "white"
          },
          "hoverlabel": {
           "align": "left"
          },
          "hovermode": "closest",
          "mapbox": {
           "style": "light"
          },
          "paper_bgcolor": "white",
          "plot_bgcolor": "#E5ECF6",
          "polar": {
           "angularaxis": {
            "gridcolor": "white",
            "linecolor": "white",
            "ticks": ""
           },
           "bgcolor": "#E5ECF6",
           "radialaxis": {
            "gridcolor": "white",
            "linecolor": "white",
            "ticks": ""
           }
          },
          "scene": {
           "xaxis": {
            "backgroundcolor": "#E5ECF6",
            "gridcolor": "white",
            "gridwidth": 2,
            "linecolor": "white",
            "showbackground": true,
            "ticks": "",
            "zerolinecolor": "white"
           },
           "yaxis": {
            "backgroundcolor": "#E5ECF6",
            "gridcolor": "white",
            "gridwidth": 2,
            "linecolor": "white",
            "showbackground": true,
            "ticks": "",
            "zerolinecolor": "white"
           },
           "zaxis": {
            "backgroundcolor": "#E5ECF6",
            "gridcolor": "white",
            "gridwidth": 2,
            "linecolor": "white",
            "showbackground": true,
            "ticks": "",
            "zerolinecolor": "white"
           }
          },
          "shapedefaults": {
           "line": {
            "color": "#2a3f5f"
           }
          },
          "ternary": {
           "aaxis": {
            "gridcolor": "white",
            "linecolor": "white",
            "ticks": ""
           },
           "baxis": {
            "gridcolor": "white",
            "linecolor": "white",
            "ticks": ""
           },
           "bgcolor": "#E5ECF6",
           "caxis": {
            "gridcolor": "white",
            "linecolor": "white",
            "ticks": ""
           }
          },
          "title": {
           "x": 0.05
          },
          "xaxis": {
           "automargin": true,
           "gridcolor": "white",
           "linecolor": "white",
           "ticks": "",
           "title": {
            "standoff": 15
           },
           "zerolinecolor": "white",
           "zerolinewidth": 2
          },
          "yaxis": {
           "automargin": true,
           "gridcolor": "white",
           "linecolor": "white",
           "ticks": "",
           "title": {
            "standoff": 15
           },
           "zerolinecolor": "white",
           "zerolinewidth": 2
          }
         }
        },
        "title": {
         "font": {
          "color": "black",
          "family": "Arial",
          "size": 18
         },
         "text": "<b>Соотношение сетевых и несетевых объектов</b>",
         "x": 0.5
        },
        "width": 800
       }
      },
      "text/html": [
       "<div>                            <div id=\"cff86a3f-a7b4-4e47-ac32-a5b954715b3c\" class=\"plotly-graph-div\" style=\"height:400px; width:800px;\"></div>            <script type=\"text/javascript\">                require([\"plotly\"], function(Plotly) {                    window.PLOTLYENV=window.PLOTLYENV || {};                                    if (document.getElementById(\"cff86a3f-a7b4-4e47-ac32-a5b954715b3c\")) {                    Plotly.newPlot(                        \"cff86a3f-a7b4-4e47-ac32-a5b954715b3c\",                        [{\"cells\":{\"align\":\"center\",\"values\":[[\"\\u0434\\u0430\",\"\\u043d\\u0435\\u0442\"],[2964,12317],[19.4,80.6]]},\"header\":{\"values\":[\"\\u0421\\u0442\\u0430\\u0442\\u0443\\u0441 \\u0441\\u0435\\u0442\\u0438\",\"\\u041a\\u043e\\u043b-\\u0432\\u043e \\u0430\\u0431\\u0441.\",\"\\u041a\\u043e\\u043b-\\u0432\\u043e %\"]},\"name\":\"first plot\",\"type\":\"table\",\"domain\":{\"x\":[0.0,0.45],\"y\":[0,0.6]}},{\"labels\":[\"C\\u0435\\u0442\\u0435\\u0432\\u043e\\u0439\",\"\\u041d\\u0435\\u0441\\u0435\\u0442\\u0435\\u0432\\u043e\\u0439\"],\"name\":\"Status\",\"pull\":0.01,\"values\":[2964,12317],\"type\":\"pie\",\"domain\":{\"x\":[0.55,1.0],\"y\":[0.0,1.0]}}],                        {\"template\":{\"data\":{\"bar\":[{\"error_x\":{\"color\":\"#2a3f5f\"},\"error_y\":{\"color\":\"#2a3f5f\"},\"marker\":{\"line\":{\"color\":\"#E5ECF6\",\"width\":0.5},\"pattern\":{\"fillmode\":\"overlay\",\"size\":10,\"solidity\":0.2}},\"type\":\"bar\"}],\"barpolar\":[{\"marker\":{\"line\":{\"color\":\"#E5ECF6\",\"width\":0.5},\"pattern\":{\"fillmode\":\"overlay\",\"size\":10,\"solidity\":0.2}},\"type\":\"barpolar\"}],\"carpet\":[{\"aaxis\":{\"endlinecolor\":\"#2a3f5f\",\"gridcolor\":\"white\",\"linecolor\":\"white\",\"minorgridcolor\":\"white\",\"startlinecolor\":\"#2a3f5f\"},\"baxis\":{\"endlinecolor\":\"#2a3f5f\",\"gridcolor\":\"white\",\"linecolor\":\"white\",\"minorgridcolor\":\"white\",\"startlinecolor\":\"#2a3f5f\"},\"type\":\"carpet\"}],\"choropleth\":[{\"colorbar\":{\"outlinewidth\":0,\"ticks\":\"\"},\"type\":\"choropleth\"}],\"contour\":[{\"colorbar\":{\"outlinewidth\":0,\"ticks\":\"\"},\"colorscale\":[[0.0,\"#0d0887\"],[0.1111111111111111,\"#46039f\"],[0.2222222222222222,\"#7201a8\"],[0.3333333333333333,\"#9c179e\"],[0.4444444444444444,\"#bd3786\"],[0.5555555555555556,\"#d8576b\"],[0.6666666666666666,\"#ed7953\"],[0.7777777777777778,\"#fb9f3a\"],[0.8888888888888888,\"#fdca26\"],[1.0,\"#f0f921\"]],\"type\":\"contour\"}],\"contourcarpet\":[{\"colorbar\":{\"outlinewidth\":0,\"ticks\":\"\"},\"type\":\"contourcarpet\"}],\"heatmap\":[{\"colorbar\":{\"outlinewidth\":0,\"ticks\":\"\"},\"colorscale\":[[0.0,\"#0d0887\"],[0.1111111111111111,\"#46039f\"],[0.2222222222222222,\"#7201a8\"],[0.3333333333333333,\"#9c179e\"],[0.4444444444444444,\"#bd3786\"],[0.5555555555555556,\"#d8576b\"],[0.6666666666666666,\"#ed7953\"],[0.7777777777777778,\"#fb9f3a\"],[0.8888888888888888,\"#fdca26\"],[1.0,\"#f0f921\"]],\"type\":\"heatmap\"}],\"heatmapgl\":[{\"colorbar\":{\"outlinewidth\":0,\"ticks\":\"\"},\"colorscale\":[[0.0,\"#0d0887\"],[0.1111111111111111,\"#46039f\"],[0.2222222222222222,\"#7201a8\"],[0.3333333333333333,\"#9c179e\"],[0.4444444444444444,\"#bd3786\"],[0.5555555555555556,\"#d8576b\"],[0.6666666666666666,\"#ed7953\"],[0.7777777777777778,\"#fb9f3a\"],[0.8888888888888888,\"#fdca26\"],[1.0,\"#f0f921\"]],\"type\":\"heatmapgl\"}],\"histogram\":[{\"marker\":{\"pattern\":{\"fillmode\":\"overlay\",\"size\":10,\"solidity\":0.2}},\"type\":\"histogram\"}],\"histogram2d\":[{\"colorbar\":{\"outlinewidth\":0,\"ticks\":\"\"},\"colorscale\":[[0.0,\"#0d0887\"],[0.1111111111111111,\"#46039f\"],[0.2222222222222222,\"#7201a8\"],[0.3333333333333333,\"#9c179e\"],[0.4444444444444444,\"#bd3786\"],[0.5555555555555556,\"#d8576b\"],[0.6666666666666666,\"#ed7953\"],[0.7777777777777778,\"#fb9f3a\"],[0.8888888888888888,\"#fdca26\"],[1.0,\"#f0f921\"]],\"type\":\"histogram2d\"}],\"histogram2dcontour\":[{\"colorbar\":{\"outlinewidth\":0,\"ticks\":\"\"},\"colorscale\":[[0.0,\"#0d0887\"],[0.1111111111111111,\"#46039f\"],[0.2222222222222222,\"#7201a8\"],[0.3333333333333333,\"#9c179e\"],[0.4444444444444444,\"#bd3786\"],[0.5555555555555556,\"#d8576b\"],[0.6666666666666666,\"#ed7953\"],[0.7777777777777778,\"#fb9f3a\"],[0.8888888888888888,\"#fdca26\"],[1.0,\"#f0f921\"]],\"type\":\"histogram2dcontour\"}],\"mesh3d\":[{\"colorbar\":{\"outlinewidth\":0,\"ticks\":\"\"},\"type\":\"mesh3d\"}],\"parcoords\":[{\"line\":{\"colorbar\":{\"outlinewidth\":0,\"ticks\":\"\"}},\"type\":\"parcoords\"}],\"pie\":[{\"automargin\":true,\"type\":\"pie\"}],\"scatter\":[{\"marker\":{\"colorbar\":{\"outlinewidth\":0,\"ticks\":\"\"}},\"type\":\"scatter\"}],\"scatter3d\":[{\"line\":{\"colorbar\":{\"outlinewidth\":0,\"ticks\":\"\"}},\"marker\":{\"colorbar\":{\"outlinewidth\":0,\"ticks\":\"\"}},\"type\":\"scatter3d\"}],\"scattercarpet\":[{\"marker\":{\"colorbar\":{\"outlinewidth\":0,\"ticks\":\"\"}},\"type\":\"scattercarpet\"}],\"scattergeo\":[{\"marker\":{\"colorbar\":{\"outlinewidth\":0,\"ticks\":\"\"}},\"type\":\"scattergeo\"}],\"scattergl\":[{\"marker\":{\"colorbar\":{\"outlinewidth\":0,\"ticks\":\"\"}},\"type\":\"scattergl\"}],\"scattermapbox\":[{\"marker\":{\"colorbar\":{\"outlinewidth\":0,\"ticks\":\"\"}},\"type\":\"scattermapbox\"}],\"scatterpolar\":[{\"marker\":{\"colorbar\":{\"outlinewidth\":0,\"ticks\":\"\"}},\"type\":\"scatterpolar\"}],\"scatterpolargl\":[{\"marker\":{\"colorbar\":{\"outlinewidth\":0,\"ticks\":\"\"}},\"type\":\"scatterpolargl\"}],\"scatterternary\":[{\"marker\":{\"colorbar\":{\"outlinewidth\":0,\"ticks\":\"\"}},\"type\":\"scatterternary\"}],\"surface\":[{\"colorbar\":{\"outlinewidth\":0,\"ticks\":\"\"},\"colorscale\":[[0.0,\"#0d0887\"],[0.1111111111111111,\"#46039f\"],[0.2222222222222222,\"#7201a8\"],[0.3333333333333333,\"#9c179e\"],[0.4444444444444444,\"#bd3786\"],[0.5555555555555556,\"#d8576b\"],[0.6666666666666666,\"#ed7953\"],[0.7777777777777778,\"#fb9f3a\"],[0.8888888888888888,\"#fdca26\"],[1.0,\"#f0f921\"]],\"type\":\"surface\"}],\"table\":[{\"cells\":{\"fill\":{\"color\":\"#EBF0F8\"},\"line\":{\"color\":\"white\"}},\"header\":{\"fill\":{\"color\":\"#C8D4E3\"},\"line\":{\"color\":\"white\"}},\"type\":\"table\"}]},\"layout\":{\"annotationdefaults\":{\"arrowcolor\":\"#2a3f5f\",\"arrowhead\":0,\"arrowwidth\":1},\"autotypenumbers\":\"strict\",\"coloraxis\":{\"colorbar\":{\"outlinewidth\":0,\"ticks\":\"\"}},\"colorscale\":{\"diverging\":[[0,\"#8e0152\"],[0.1,\"#c51b7d\"],[0.2,\"#de77ae\"],[0.3,\"#f1b6da\"],[0.4,\"#fde0ef\"],[0.5,\"#f7f7f7\"],[0.6,\"#e6f5d0\"],[0.7,\"#b8e186\"],[0.8,\"#7fbc41\"],[0.9,\"#4d9221\"],[1,\"#276419\"]],\"sequential\":[[0.0,\"#0d0887\"],[0.1111111111111111,\"#46039f\"],[0.2222222222222222,\"#7201a8\"],[0.3333333333333333,\"#9c179e\"],[0.4444444444444444,\"#bd3786\"],[0.5555555555555556,\"#d8576b\"],[0.6666666666666666,\"#ed7953\"],[0.7777777777777778,\"#fb9f3a\"],[0.8888888888888888,\"#fdca26\"],[1.0,\"#f0f921\"]],\"sequentialminus\":[[0.0,\"#0d0887\"],[0.1111111111111111,\"#46039f\"],[0.2222222222222222,\"#7201a8\"],[0.3333333333333333,\"#9c179e\"],[0.4444444444444444,\"#bd3786\"],[0.5555555555555556,\"#d8576b\"],[0.6666666666666666,\"#ed7953\"],[0.7777777777777778,\"#fb9f3a\"],[0.8888888888888888,\"#fdca26\"],[1.0,\"#f0f921\"]]},\"colorway\":[\"#636efa\",\"#EF553B\",\"#00cc96\",\"#ab63fa\",\"#FFA15A\",\"#19d3f3\",\"#FF6692\",\"#B6E880\",\"#FF97FF\",\"#FECB52\"],\"font\":{\"color\":\"#2a3f5f\"},\"geo\":{\"bgcolor\":\"white\",\"lakecolor\":\"white\",\"landcolor\":\"#E5ECF6\",\"showlakes\":true,\"showland\":true,\"subunitcolor\":\"white\"},\"hoverlabel\":{\"align\":\"left\"},\"hovermode\":\"closest\",\"mapbox\":{\"style\":\"light\"},\"paper_bgcolor\":\"white\",\"plot_bgcolor\":\"#E5ECF6\",\"polar\":{\"angularaxis\":{\"gridcolor\":\"white\",\"linecolor\":\"white\",\"ticks\":\"\"},\"bgcolor\":\"#E5ECF6\",\"radialaxis\":{\"gridcolor\":\"white\",\"linecolor\":\"white\",\"ticks\":\"\"}},\"scene\":{\"xaxis\":{\"backgroundcolor\":\"#E5ECF6\",\"gridcolor\":\"white\",\"gridwidth\":2,\"linecolor\":\"white\",\"showbackground\":true,\"ticks\":\"\",\"zerolinecolor\":\"white\"},\"yaxis\":{\"backgroundcolor\":\"#E5ECF6\",\"gridcolor\":\"white\",\"gridwidth\":2,\"linecolor\":\"white\",\"showbackground\":true,\"ticks\":\"\",\"zerolinecolor\":\"white\"},\"zaxis\":{\"backgroundcolor\":\"#E5ECF6\",\"gridcolor\":\"white\",\"gridwidth\":2,\"linecolor\":\"white\",\"showbackground\":true,\"ticks\":\"\",\"zerolinecolor\":\"white\"}},\"shapedefaults\":{\"line\":{\"color\":\"#2a3f5f\"}},\"ternary\":{\"aaxis\":{\"gridcolor\":\"white\",\"linecolor\":\"white\",\"ticks\":\"\"},\"baxis\":{\"gridcolor\":\"white\",\"linecolor\":\"white\",\"ticks\":\"\"},\"bgcolor\":\"#E5ECF6\",\"caxis\":{\"gridcolor\":\"white\",\"linecolor\":\"white\",\"ticks\":\"\"}},\"title\":{\"x\":0.05},\"xaxis\":{\"automargin\":true,\"gridcolor\":\"white\",\"linecolor\":\"white\",\"ticks\":\"\",\"title\":{\"standoff\":15},\"zerolinecolor\":\"white\",\"zerolinewidth\":2},\"yaxis\":{\"automargin\":true,\"gridcolor\":\"white\",\"linecolor\":\"white\",\"ticks\":\"\",\"title\":{\"standoff\":15},\"zerolinecolor\":\"white\",\"zerolinewidth\":2}}},\"legend\":{\"orientation\":\"h\",\"x\":0.93,\"xanchor\":\"right\"},\"margin\":{\"l\":0,\"r\":0,\"t\":25,\"b\":0},\"title\":{\"font\":{\"family\":\"Arial\",\"color\":\"black\",\"size\":18},\"text\":\"<b>\\u0421\\u043e\\u043e\\u0442\\u043d\\u043e\\u0448\\u0435\\u043d\\u0438\\u0435 \\u0441\\u0435\\u0442\\u0435\\u0432\\u044b\\u0445 \\u0438 \\u043d\\u0435\\u0441\\u0435\\u0442\\u0435\\u0432\\u044b\\u0445 \\u043e\\u0431\\u044a\\u0435\\u043a\\u0442\\u043e\\u0432</b>\",\"x\":0.5},\"width\":800,\"height\":400},                        {\"responsive\": true}                    ).then(function(){\n",
       "                            \n",
       "var gd = document.getElementById('cff86a3f-a7b4-4e47-ac32-a5b954715b3c');\n",
       "var x = new MutationObserver(function (mutations, observer) {{\n",
       "        var display = window.getComputedStyle(gd).display;\n",
       "        if (!display || display === 'none') {{\n",
       "            console.log([gd, 'removed!']);\n",
       "            Plotly.purge(gd);\n",
       "            observer.disconnect();\n",
       "        }}\n",
       "}});\n",
       "\n",
       "// Listen for the removal of the full notebook cells\n",
       "var notebookContainer = gd.closest('#notebook-container');\n",
       "if (notebookContainer) {{\n",
       "    x.observe(notebookContainer, {childList: true});\n",
       "}}\n",
       "\n",
       "// Listen for the clearing of the current output cell\n",
       "var outputEl = gd.closest('.output');\n",
       "if (outputEl) {{\n",
       "    x.observe(outputEl, {childList: true});\n",
       "}}\n",
       "\n",
       "                        })                };                });            </script>        </div>"
      ]
     },
     "metadata": {},
     "output_type": "display_data"
    }
   ],
   "source": [
    "chain = rest_data.groupby('chain')['id'].count().reset_index()\n",
    "chain['percent'] = round((chain['id'] / chain['id'].sum())*100,1)\n",
    "\n",
    "header_chain = ['Статус сети', 'Кол-во абс.', 'Кол-во %']\n",
    "\n",
    "fig = make_subplots(rows=1, cols=2, specs=[[{'type':'domain'}, {'type':'domain'}]])\n",
    "fig.add_trace(go.Table(header=dict(values=header_chain),\n",
    "    cells=dict(values=[chain[k].tolist() for k in chain.columns[:]],\n",
    "                            align='center'), name='first plot'),\n",
    "              1,1)\n",
    "fig.add_trace(go.Pie(go.Pie(labels=[\"Cетевой\",'Несетевой'], values=chain['id'],pull=0.01, name='Status')),\n",
    "             1,2)\n",
    "fig.update_traces(domain=dict(x=[0, 0.45], y=[0, 0.6]), \n",
    "                  selector={'name':'first plot'})\n",
    "fig.update_layout(width=800, height=400,\n",
    "                  legend_orientation=\"h\",\n",
    "                  legend=dict(x=.93,xanchor='right'),\n",
    "                  margin=dict(l=0,r=0,t=25,b=0),\n",
    "                  title_text='<b>Соотношение сетевых и несетевых объектов</b>',\n",
    "                  title_font_family=\"Arial\",\n",
    "                  title_font_color=\"black\",\n",
    "                  title_font_size = 18,\n",
    "                  title_x=0.5)\n",
    "fig.show()"
   ]
  },
  {
   "cell_type": "code",
   "execution_count": 8,
   "id": "314367b6",
   "metadata": {},
   "outputs": [
    {
     "data": {
      "application/vnd.plotly.v1+json": {
       "config": {
        "plotlyServerURL": "https://plot.ly"
       },
       "data": [
        {
         "cells": {
          "align": "center",
          "values": [
           [
            "предприятие быстрого обслуживания",
            "магазин (отдел кулинарии)",
            "ресторан",
            "кафе",
            "закусочная",
            "кафетерий",
            "бар",
            "буфет",
            "столовая"
           ],
           [
            1897,
            273,
            2282,
            6071,
            348,
            395,
            855,
            576,
            2584
           ],
           [
            788,
            78,
            543,
            1396,
            56,
            52,
            37,
            11,
            3
           ],
           [
            41.54,
            28.57,
            23.79,
            22.99,
            16.09,
            13.16,
            4.33,
            1.91,
            0.12
           ]
          ]
         },
         "domain": {
          "x": [
           0,
           0.45
          ],
          "y": [
           0,
           0.95
          ]
         },
         "header": {
          "values": [
           "Тип объекта",
           "Общее кол-во абс.",
           "Кол-во сетевых абс.",
           "Доля сетевых %"
          ]
         },
         "name": "first plot",
         "type": "table"
        },
        {
         "type": "bar",
         "x": [
          "предприятие быстрого обслуживания",
          "магазин (отдел кулинарии)",
          "ресторан",
          "кафе",
          "закусочная",
          "кафетерий",
          "бар",
          "буфет",
          "столовая"
         ],
         "xaxis": "x",
         "y": [
          41.54,
          28.57,
          23.79,
          22.99,
          16.09,
          13.16,
          4.33,
          1.91,
          0.12
         ],
         "yaxis": "y"
        }
       ],
       "layout": {
        "height": 500,
        "legend": {
         "orientation": "h",
         "x": 0.93,
         "xanchor": "right"
        },
        "margin": {
         "b": 0,
         "l": 0,
         "r": 110,
         "t": 25
        },
        "template": {
         "data": {
          "bar": [
           {
            "error_x": {
             "color": "#2a3f5f"
            },
            "error_y": {
             "color": "#2a3f5f"
            },
            "marker": {
             "line": {
              "color": "#E5ECF6",
              "width": 0.5
             },
             "pattern": {
              "fillmode": "overlay",
              "size": 10,
              "solidity": 0.2
             }
            },
            "type": "bar"
           }
          ],
          "barpolar": [
           {
            "marker": {
             "line": {
              "color": "#E5ECF6",
              "width": 0.5
             },
             "pattern": {
              "fillmode": "overlay",
              "size": 10,
              "solidity": 0.2
             }
            },
            "type": "barpolar"
           }
          ],
          "carpet": [
           {
            "aaxis": {
             "endlinecolor": "#2a3f5f",
             "gridcolor": "white",
             "linecolor": "white",
             "minorgridcolor": "white",
             "startlinecolor": "#2a3f5f"
            },
            "baxis": {
             "endlinecolor": "#2a3f5f",
             "gridcolor": "white",
             "linecolor": "white",
             "minorgridcolor": "white",
             "startlinecolor": "#2a3f5f"
            },
            "type": "carpet"
           }
          ],
          "choropleth": [
           {
            "colorbar": {
             "outlinewidth": 0,
             "ticks": ""
            },
            "type": "choropleth"
           }
          ],
          "contour": [
           {
            "colorbar": {
             "outlinewidth": 0,
             "ticks": ""
            },
            "colorscale": [
             [
              0,
              "#0d0887"
             ],
             [
              0.1111111111111111,
              "#46039f"
             ],
             [
              0.2222222222222222,
              "#7201a8"
             ],
             [
              0.3333333333333333,
              "#9c179e"
             ],
             [
              0.4444444444444444,
              "#bd3786"
             ],
             [
              0.5555555555555556,
              "#d8576b"
             ],
             [
              0.6666666666666666,
              "#ed7953"
             ],
             [
              0.7777777777777778,
              "#fb9f3a"
             ],
             [
              0.8888888888888888,
              "#fdca26"
             ],
             [
              1,
              "#f0f921"
             ]
            ],
            "type": "contour"
           }
          ],
          "contourcarpet": [
           {
            "colorbar": {
             "outlinewidth": 0,
             "ticks": ""
            },
            "type": "contourcarpet"
           }
          ],
          "heatmap": [
           {
            "colorbar": {
             "outlinewidth": 0,
             "ticks": ""
            },
            "colorscale": [
             [
              0,
              "#0d0887"
             ],
             [
              0.1111111111111111,
              "#46039f"
             ],
             [
              0.2222222222222222,
              "#7201a8"
             ],
             [
              0.3333333333333333,
              "#9c179e"
             ],
             [
              0.4444444444444444,
              "#bd3786"
             ],
             [
              0.5555555555555556,
              "#d8576b"
             ],
             [
              0.6666666666666666,
              "#ed7953"
             ],
             [
              0.7777777777777778,
              "#fb9f3a"
             ],
             [
              0.8888888888888888,
              "#fdca26"
             ],
             [
              1,
              "#f0f921"
             ]
            ],
            "type": "heatmap"
           }
          ],
          "heatmapgl": [
           {
            "colorbar": {
             "outlinewidth": 0,
             "ticks": ""
            },
            "colorscale": [
             [
              0,
              "#0d0887"
             ],
             [
              0.1111111111111111,
              "#46039f"
             ],
             [
              0.2222222222222222,
              "#7201a8"
             ],
             [
              0.3333333333333333,
              "#9c179e"
             ],
             [
              0.4444444444444444,
              "#bd3786"
             ],
             [
              0.5555555555555556,
              "#d8576b"
             ],
             [
              0.6666666666666666,
              "#ed7953"
             ],
             [
              0.7777777777777778,
              "#fb9f3a"
             ],
             [
              0.8888888888888888,
              "#fdca26"
             ],
             [
              1,
              "#f0f921"
             ]
            ],
            "type": "heatmapgl"
           }
          ],
          "histogram": [
           {
            "marker": {
             "pattern": {
              "fillmode": "overlay",
              "size": 10,
              "solidity": 0.2
             }
            },
            "type": "histogram"
           }
          ],
          "histogram2d": [
           {
            "colorbar": {
             "outlinewidth": 0,
             "ticks": ""
            },
            "colorscale": [
             [
              0,
              "#0d0887"
             ],
             [
              0.1111111111111111,
              "#46039f"
             ],
             [
              0.2222222222222222,
              "#7201a8"
             ],
             [
              0.3333333333333333,
              "#9c179e"
             ],
             [
              0.4444444444444444,
              "#bd3786"
             ],
             [
              0.5555555555555556,
              "#d8576b"
             ],
             [
              0.6666666666666666,
              "#ed7953"
             ],
             [
              0.7777777777777778,
              "#fb9f3a"
             ],
             [
              0.8888888888888888,
              "#fdca26"
             ],
             [
              1,
              "#f0f921"
             ]
            ],
            "type": "histogram2d"
           }
          ],
          "histogram2dcontour": [
           {
            "colorbar": {
             "outlinewidth": 0,
             "ticks": ""
            },
            "colorscale": [
             [
              0,
              "#0d0887"
             ],
             [
              0.1111111111111111,
              "#46039f"
             ],
             [
              0.2222222222222222,
              "#7201a8"
             ],
             [
              0.3333333333333333,
              "#9c179e"
             ],
             [
              0.4444444444444444,
              "#bd3786"
             ],
             [
              0.5555555555555556,
              "#d8576b"
             ],
             [
              0.6666666666666666,
              "#ed7953"
             ],
             [
              0.7777777777777778,
              "#fb9f3a"
             ],
             [
              0.8888888888888888,
              "#fdca26"
             ],
             [
              1,
              "#f0f921"
             ]
            ],
            "type": "histogram2dcontour"
           }
          ],
          "mesh3d": [
           {
            "colorbar": {
             "outlinewidth": 0,
             "ticks": ""
            },
            "type": "mesh3d"
           }
          ],
          "parcoords": [
           {
            "line": {
             "colorbar": {
              "outlinewidth": 0,
              "ticks": ""
             }
            },
            "type": "parcoords"
           }
          ],
          "pie": [
           {
            "automargin": true,
            "type": "pie"
           }
          ],
          "scatter": [
           {
            "marker": {
             "colorbar": {
              "outlinewidth": 0,
              "ticks": ""
             }
            },
            "type": "scatter"
           }
          ],
          "scatter3d": [
           {
            "line": {
             "colorbar": {
              "outlinewidth": 0,
              "ticks": ""
             }
            },
            "marker": {
             "colorbar": {
              "outlinewidth": 0,
              "ticks": ""
             }
            },
            "type": "scatter3d"
           }
          ],
          "scattercarpet": [
           {
            "marker": {
             "colorbar": {
              "outlinewidth": 0,
              "ticks": ""
             }
            },
            "type": "scattercarpet"
           }
          ],
          "scattergeo": [
           {
            "marker": {
             "colorbar": {
              "outlinewidth": 0,
              "ticks": ""
             }
            },
            "type": "scattergeo"
           }
          ],
          "scattergl": [
           {
            "marker": {
             "colorbar": {
              "outlinewidth": 0,
              "ticks": ""
             }
            },
            "type": "scattergl"
           }
          ],
          "scattermapbox": [
           {
            "marker": {
             "colorbar": {
              "outlinewidth": 0,
              "ticks": ""
             }
            },
            "type": "scattermapbox"
           }
          ],
          "scatterpolar": [
           {
            "marker": {
             "colorbar": {
              "outlinewidth": 0,
              "ticks": ""
             }
            },
            "type": "scatterpolar"
           }
          ],
          "scatterpolargl": [
           {
            "marker": {
             "colorbar": {
              "outlinewidth": 0,
              "ticks": ""
             }
            },
            "type": "scatterpolargl"
           }
          ],
          "scatterternary": [
           {
            "marker": {
             "colorbar": {
              "outlinewidth": 0,
              "ticks": ""
             }
            },
            "type": "scatterternary"
           }
          ],
          "surface": [
           {
            "colorbar": {
             "outlinewidth": 0,
             "ticks": ""
            },
            "colorscale": [
             [
              0,
              "#0d0887"
             ],
             [
              0.1111111111111111,
              "#46039f"
             ],
             [
              0.2222222222222222,
              "#7201a8"
             ],
             [
              0.3333333333333333,
              "#9c179e"
             ],
             [
              0.4444444444444444,
              "#bd3786"
             ],
             [
              0.5555555555555556,
              "#d8576b"
             ],
             [
              0.6666666666666666,
              "#ed7953"
             ],
             [
              0.7777777777777778,
              "#fb9f3a"
             ],
             [
              0.8888888888888888,
              "#fdca26"
             ],
             [
              1,
              "#f0f921"
             ]
            ],
            "type": "surface"
           }
          ],
          "table": [
           {
            "cells": {
             "fill": {
              "color": "#EBF0F8"
             },
             "line": {
              "color": "white"
             }
            },
            "header": {
             "fill": {
              "color": "#C8D4E3"
             },
             "line": {
              "color": "white"
             }
            },
            "type": "table"
           }
          ]
         },
         "layout": {
          "annotationdefaults": {
           "arrowcolor": "#2a3f5f",
           "arrowhead": 0,
           "arrowwidth": 1
          },
          "autotypenumbers": "strict",
          "coloraxis": {
           "colorbar": {
            "outlinewidth": 0,
            "ticks": ""
           }
          },
          "colorscale": {
           "diverging": [
            [
             0,
             "#8e0152"
            ],
            [
             0.1,
             "#c51b7d"
            ],
            [
             0.2,
             "#de77ae"
            ],
            [
             0.3,
             "#f1b6da"
            ],
            [
             0.4,
             "#fde0ef"
            ],
            [
             0.5,
             "#f7f7f7"
            ],
            [
             0.6,
             "#e6f5d0"
            ],
            [
             0.7,
             "#b8e186"
            ],
            [
             0.8,
             "#7fbc41"
            ],
            [
             0.9,
             "#4d9221"
            ],
            [
             1,
             "#276419"
            ]
           ],
           "sequential": [
            [
             0,
             "#0d0887"
            ],
            [
             0.1111111111111111,
             "#46039f"
            ],
            [
             0.2222222222222222,
             "#7201a8"
            ],
            [
             0.3333333333333333,
             "#9c179e"
            ],
            [
             0.4444444444444444,
             "#bd3786"
            ],
            [
             0.5555555555555556,
             "#d8576b"
            ],
            [
             0.6666666666666666,
             "#ed7953"
            ],
            [
             0.7777777777777778,
             "#fb9f3a"
            ],
            [
             0.8888888888888888,
             "#fdca26"
            ],
            [
             1,
             "#f0f921"
            ]
           ],
           "sequentialminus": [
            [
             0,
             "#0d0887"
            ],
            [
             0.1111111111111111,
             "#46039f"
            ],
            [
             0.2222222222222222,
             "#7201a8"
            ],
            [
             0.3333333333333333,
             "#9c179e"
            ],
            [
             0.4444444444444444,
             "#bd3786"
            ],
            [
             0.5555555555555556,
             "#d8576b"
            ],
            [
             0.6666666666666666,
             "#ed7953"
            ],
            [
             0.7777777777777778,
             "#fb9f3a"
            ],
            [
             0.8888888888888888,
             "#fdca26"
            ],
            [
             1,
             "#f0f921"
            ]
           ]
          },
          "colorway": [
           "#636efa",
           "#EF553B",
           "#00cc96",
           "#ab63fa",
           "#FFA15A",
           "#19d3f3",
           "#FF6692",
           "#B6E880",
           "#FF97FF",
           "#FECB52"
          ],
          "font": {
           "color": "#2a3f5f"
          },
          "geo": {
           "bgcolor": "white",
           "lakecolor": "white",
           "landcolor": "#E5ECF6",
           "showlakes": true,
           "showland": true,
           "subunitcolor": "white"
          },
          "hoverlabel": {
           "align": "left"
          },
          "hovermode": "closest",
          "mapbox": {
           "style": "light"
          },
          "paper_bgcolor": "white",
          "plot_bgcolor": "#E5ECF6",
          "polar": {
           "angularaxis": {
            "gridcolor": "white",
            "linecolor": "white",
            "ticks": ""
           },
           "bgcolor": "#E5ECF6",
           "radialaxis": {
            "gridcolor": "white",
            "linecolor": "white",
            "ticks": ""
           }
          },
          "scene": {
           "xaxis": {
            "backgroundcolor": "#E5ECF6",
            "gridcolor": "white",
            "gridwidth": 2,
            "linecolor": "white",
            "showbackground": true,
            "ticks": "",
            "zerolinecolor": "white"
           },
           "yaxis": {
            "backgroundcolor": "#E5ECF6",
            "gridcolor": "white",
            "gridwidth": 2,
            "linecolor": "white",
            "showbackground": true,
            "ticks": "",
            "zerolinecolor": "white"
           },
           "zaxis": {
            "backgroundcolor": "#E5ECF6",
            "gridcolor": "white",
            "gridwidth": 2,
            "linecolor": "white",
            "showbackground": true,
            "ticks": "",
            "zerolinecolor": "white"
           }
          },
          "shapedefaults": {
           "line": {
            "color": "#2a3f5f"
           }
          },
          "ternary": {
           "aaxis": {
            "gridcolor": "white",
            "linecolor": "white",
            "ticks": ""
           },
           "baxis": {
            "gridcolor": "white",
            "linecolor": "white",
            "ticks": ""
           },
           "bgcolor": "#E5ECF6",
           "caxis": {
            "gridcolor": "white",
            "linecolor": "white",
            "ticks": ""
           }
          },
          "title": {
           "x": 0.05
          },
          "xaxis": {
           "automargin": true,
           "gridcolor": "white",
           "linecolor": "white",
           "ticks": "",
           "title": {
            "standoff": 15
           },
           "zerolinecolor": "white",
           "zerolinewidth": 2
          },
          "yaxis": {
           "automargin": true,
           "gridcolor": "white",
           "linecolor": "white",
           "ticks": "",
           "title": {
            "standoff": 15
           },
           "zerolinecolor": "white",
           "zerolinewidth": 2
          }
         }
        },
        "title": {
         "font": {
          "color": "black",
          "size": 18
         },
         "text": "<b>Доля сетевых объектов среди заведений различных типов</b>",
         "x": 0.5
        },
        "width": 950,
        "xaxis": {
         "anchor": "y",
         "domain": [
          0.55,
          1
         ]
        },
        "yaxis": {
         "anchor": "x",
         "domain": [
          0,
          1
         ]
        }
       }
      },
      "text/html": [
       "<div>                            <div id=\"4253278d-6a5f-4db2-9866-13b088d4d25f\" class=\"plotly-graph-div\" style=\"height:500px; width:950px;\"></div>            <script type=\"text/javascript\">                require([\"plotly\"], function(Plotly) {                    window.PLOTLYENV=window.PLOTLYENV || {};                                    if (document.getElementById(\"4253278d-6a5f-4db2-9866-13b088d4d25f\")) {                    Plotly.newPlot(                        \"4253278d-6a5f-4db2-9866-13b088d4d25f\",                        [{\"cells\":{\"align\":\"center\",\"values\":[[\"\\u043f\\u0440\\u0435\\u0434\\u043f\\u0440\\u0438\\u044f\\u0442\\u0438\\u0435 \\u0431\\u044b\\u0441\\u0442\\u0440\\u043e\\u0433\\u043e \\u043e\\u0431\\u0441\\u043b\\u0443\\u0436\\u0438\\u0432\\u0430\\u043d\\u0438\\u044f\",\"\\u043c\\u0430\\u0433\\u0430\\u0437\\u0438\\u043d (\\u043e\\u0442\\u0434\\u0435\\u043b \\u043a\\u0443\\u043b\\u0438\\u043d\\u0430\\u0440\\u0438\\u0438)\",\"\\u0440\\u0435\\u0441\\u0442\\u043e\\u0440\\u0430\\u043d\",\"\\u043a\\u0430\\u0444\\u0435\",\"\\u0437\\u0430\\u043a\\u0443\\u0441\\u043e\\u0447\\u043d\\u0430\\u044f\",\"\\u043a\\u0430\\u0444\\u0435\\u0442\\u0435\\u0440\\u0438\\u0439\",\"\\u0431\\u0430\\u0440\",\"\\u0431\\u0443\\u0444\\u0435\\u0442\",\"\\u0441\\u0442\\u043e\\u043b\\u043e\\u0432\\u0430\\u044f\"],[1897,273,2282,6071,348,395,855,576,2584],[788,78,543,1396,56,52,37,11,3],[41.54,28.57,23.79,22.99,16.09,13.16,4.33,1.91,0.12]]},\"header\":{\"values\":[\"\\u0422\\u0438\\u043f \\u043e\\u0431\\u044a\\u0435\\u043a\\u0442\\u0430\",\"\\u041e\\u0431\\u0449\\u0435\\u0435 \\u043a\\u043e\\u043b-\\u0432\\u043e \\u0430\\u0431\\u0441.\",\"\\u041a\\u043e\\u043b-\\u0432\\u043e \\u0441\\u0435\\u0442\\u0435\\u0432\\u044b\\u0445 \\u0430\\u0431\\u0441.\",\"\\u0414\\u043e\\u043b\\u044f \\u0441\\u0435\\u0442\\u0435\\u0432\\u044b\\u0445 %\"]},\"name\":\"first plot\",\"type\":\"table\",\"domain\":{\"x\":[0.0,0.45],\"y\":[0,0.95]}},{\"x\":[\"\\u043f\\u0440\\u0435\\u0434\\u043f\\u0440\\u0438\\u044f\\u0442\\u0438\\u0435 \\u0431\\u044b\\u0441\\u0442\\u0440\\u043e\\u0433\\u043e \\u043e\\u0431\\u0441\\u043b\\u0443\\u0436\\u0438\\u0432\\u0430\\u043d\\u0438\\u044f\",\"\\u043c\\u0430\\u0433\\u0430\\u0437\\u0438\\u043d (\\u043e\\u0442\\u0434\\u0435\\u043b \\u043a\\u0443\\u043b\\u0438\\u043d\\u0430\\u0440\\u0438\\u0438)\",\"\\u0440\\u0435\\u0441\\u0442\\u043e\\u0440\\u0430\\u043d\",\"\\u043a\\u0430\\u0444\\u0435\",\"\\u0437\\u0430\\u043a\\u0443\\u0441\\u043e\\u0447\\u043d\\u0430\\u044f\",\"\\u043a\\u0430\\u0444\\u0435\\u0442\\u0435\\u0440\\u0438\\u0439\",\"\\u0431\\u0430\\u0440\",\"\\u0431\\u0443\\u0444\\u0435\\u0442\",\"\\u0441\\u0442\\u043e\\u043b\\u043e\\u0432\\u0430\\u044f\"],\"y\":[41.54,28.57,23.79,22.99,16.09,13.16,4.33,1.91,0.12],\"type\":\"bar\",\"xaxis\":\"x\",\"yaxis\":\"y\"}],                        {\"template\":{\"data\":{\"bar\":[{\"error_x\":{\"color\":\"#2a3f5f\"},\"error_y\":{\"color\":\"#2a3f5f\"},\"marker\":{\"line\":{\"color\":\"#E5ECF6\",\"width\":0.5},\"pattern\":{\"fillmode\":\"overlay\",\"size\":10,\"solidity\":0.2}},\"type\":\"bar\"}],\"barpolar\":[{\"marker\":{\"line\":{\"color\":\"#E5ECF6\",\"width\":0.5},\"pattern\":{\"fillmode\":\"overlay\",\"size\":10,\"solidity\":0.2}},\"type\":\"barpolar\"}],\"carpet\":[{\"aaxis\":{\"endlinecolor\":\"#2a3f5f\",\"gridcolor\":\"white\",\"linecolor\":\"white\",\"minorgridcolor\":\"white\",\"startlinecolor\":\"#2a3f5f\"},\"baxis\":{\"endlinecolor\":\"#2a3f5f\",\"gridcolor\":\"white\",\"linecolor\":\"white\",\"minorgridcolor\":\"white\",\"startlinecolor\":\"#2a3f5f\"},\"type\":\"carpet\"}],\"choropleth\":[{\"colorbar\":{\"outlinewidth\":0,\"ticks\":\"\"},\"type\":\"choropleth\"}],\"contour\":[{\"colorbar\":{\"outlinewidth\":0,\"ticks\":\"\"},\"colorscale\":[[0.0,\"#0d0887\"],[0.1111111111111111,\"#46039f\"],[0.2222222222222222,\"#7201a8\"],[0.3333333333333333,\"#9c179e\"],[0.4444444444444444,\"#bd3786\"],[0.5555555555555556,\"#d8576b\"],[0.6666666666666666,\"#ed7953\"],[0.7777777777777778,\"#fb9f3a\"],[0.8888888888888888,\"#fdca26\"],[1.0,\"#f0f921\"]],\"type\":\"contour\"}],\"contourcarpet\":[{\"colorbar\":{\"outlinewidth\":0,\"ticks\":\"\"},\"type\":\"contourcarpet\"}],\"heatmap\":[{\"colorbar\":{\"outlinewidth\":0,\"ticks\":\"\"},\"colorscale\":[[0.0,\"#0d0887\"],[0.1111111111111111,\"#46039f\"],[0.2222222222222222,\"#7201a8\"],[0.3333333333333333,\"#9c179e\"],[0.4444444444444444,\"#bd3786\"],[0.5555555555555556,\"#d8576b\"],[0.6666666666666666,\"#ed7953\"],[0.7777777777777778,\"#fb9f3a\"],[0.8888888888888888,\"#fdca26\"],[1.0,\"#f0f921\"]],\"type\":\"heatmap\"}],\"heatmapgl\":[{\"colorbar\":{\"outlinewidth\":0,\"ticks\":\"\"},\"colorscale\":[[0.0,\"#0d0887\"],[0.1111111111111111,\"#46039f\"],[0.2222222222222222,\"#7201a8\"],[0.3333333333333333,\"#9c179e\"],[0.4444444444444444,\"#bd3786\"],[0.5555555555555556,\"#d8576b\"],[0.6666666666666666,\"#ed7953\"],[0.7777777777777778,\"#fb9f3a\"],[0.8888888888888888,\"#fdca26\"],[1.0,\"#f0f921\"]],\"type\":\"heatmapgl\"}],\"histogram\":[{\"marker\":{\"pattern\":{\"fillmode\":\"overlay\",\"size\":10,\"solidity\":0.2}},\"type\":\"histogram\"}],\"histogram2d\":[{\"colorbar\":{\"outlinewidth\":0,\"ticks\":\"\"},\"colorscale\":[[0.0,\"#0d0887\"],[0.1111111111111111,\"#46039f\"],[0.2222222222222222,\"#7201a8\"],[0.3333333333333333,\"#9c179e\"],[0.4444444444444444,\"#bd3786\"],[0.5555555555555556,\"#d8576b\"],[0.6666666666666666,\"#ed7953\"],[0.7777777777777778,\"#fb9f3a\"],[0.8888888888888888,\"#fdca26\"],[1.0,\"#f0f921\"]],\"type\":\"histogram2d\"}],\"histogram2dcontour\":[{\"colorbar\":{\"outlinewidth\":0,\"ticks\":\"\"},\"colorscale\":[[0.0,\"#0d0887\"],[0.1111111111111111,\"#46039f\"],[0.2222222222222222,\"#7201a8\"],[0.3333333333333333,\"#9c179e\"],[0.4444444444444444,\"#bd3786\"],[0.5555555555555556,\"#d8576b\"],[0.6666666666666666,\"#ed7953\"],[0.7777777777777778,\"#fb9f3a\"],[0.8888888888888888,\"#fdca26\"],[1.0,\"#f0f921\"]],\"type\":\"histogram2dcontour\"}],\"mesh3d\":[{\"colorbar\":{\"outlinewidth\":0,\"ticks\":\"\"},\"type\":\"mesh3d\"}],\"parcoords\":[{\"line\":{\"colorbar\":{\"outlinewidth\":0,\"ticks\":\"\"}},\"type\":\"parcoords\"}],\"pie\":[{\"automargin\":true,\"type\":\"pie\"}],\"scatter\":[{\"marker\":{\"colorbar\":{\"outlinewidth\":0,\"ticks\":\"\"}},\"type\":\"scatter\"}],\"scatter3d\":[{\"line\":{\"colorbar\":{\"outlinewidth\":0,\"ticks\":\"\"}},\"marker\":{\"colorbar\":{\"outlinewidth\":0,\"ticks\":\"\"}},\"type\":\"scatter3d\"}],\"scattercarpet\":[{\"marker\":{\"colorbar\":{\"outlinewidth\":0,\"ticks\":\"\"}},\"type\":\"scattercarpet\"}],\"scattergeo\":[{\"marker\":{\"colorbar\":{\"outlinewidth\":0,\"ticks\":\"\"}},\"type\":\"scattergeo\"}],\"scattergl\":[{\"marker\":{\"colorbar\":{\"outlinewidth\":0,\"ticks\":\"\"}},\"type\":\"scattergl\"}],\"scattermapbox\":[{\"marker\":{\"colorbar\":{\"outlinewidth\":0,\"ticks\":\"\"}},\"type\":\"scattermapbox\"}],\"scatterpolar\":[{\"marker\":{\"colorbar\":{\"outlinewidth\":0,\"ticks\":\"\"}},\"type\":\"scatterpolar\"}],\"scatterpolargl\":[{\"marker\":{\"colorbar\":{\"outlinewidth\":0,\"ticks\":\"\"}},\"type\":\"scatterpolargl\"}],\"scatterternary\":[{\"marker\":{\"colorbar\":{\"outlinewidth\":0,\"ticks\":\"\"}},\"type\":\"scatterternary\"}],\"surface\":[{\"colorbar\":{\"outlinewidth\":0,\"ticks\":\"\"},\"colorscale\":[[0.0,\"#0d0887\"],[0.1111111111111111,\"#46039f\"],[0.2222222222222222,\"#7201a8\"],[0.3333333333333333,\"#9c179e\"],[0.4444444444444444,\"#bd3786\"],[0.5555555555555556,\"#d8576b\"],[0.6666666666666666,\"#ed7953\"],[0.7777777777777778,\"#fb9f3a\"],[0.8888888888888888,\"#fdca26\"],[1.0,\"#f0f921\"]],\"type\":\"surface\"}],\"table\":[{\"cells\":{\"fill\":{\"color\":\"#EBF0F8\"},\"line\":{\"color\":\"white\"}},\"header\":{\"fill\":{\"color\":\"#C8D4E3\"},\"line\":{\"color\":\"white\"}},\"type\":\"table\"}]},\"layout\":{\"annotationdefaults\":{\"arrowcolor\":\"#2a3f5f\",\"arrowhead\":0,\"arrowwidth\":1},\"autotypenumbers\":\"strict\",\"coloraxis\":{\"colorbar\":{\"outlinewidth\":0,\"ticks\":\"\"}},\"colorscale\":{\"diverging\":[[0,\"#8e0152\"],[0.1,\"#c51b7d\"],[0.2,\"#de77ae\"],[0.3,\"#f1b6da\"],[0.4,\"#fde0ef\"],[0.5,\"#f7f7f7\"],[0.6,\"#e6f5d0\"],[0.7,\"#b8e186\"],[0.8,\"#7fbc41\"],[0.9,\"#4d9221\"],[1,\"#276419\"]],\"sequential\":[[0.0,\"#0d0887\"],[0.1111111111111111,\"#46039f\"],[0.2222222222222222,\"#7201a8\"],[0.3333333333333333,\"#9c179e\"],[0.4444444444444444,\"#bd3786\"],[0.5555555555555556,\"#d8576b\"],[0.6666666666666666,\"#ed7953\"],[0.7777777777777778,\"#fb9f3a\"],[0.8888888888888888,\"#fdca26\"],[1.0,\"#f0f921\"]],\"sequentialminus\":[[0.0,\"#0d0887\"],[0.1111111111111111,\"#46039f\"],[0.2222222222222222,\"#7201a8\"],[0.3333333333333333,\"#9c179e\"],[0.4444444444444444,\"#bd3786\"],[0.5555555555555556,\"#d8576b\"],[0.6666666666666666,\"#ed7953\"],[0.7777777777777778,\"#fb9f3a\"],[0.8888888888888888,\"#fdca26\"],[1.0,\"#f0f921\"]]},\"colorway\":[\"#636efa\",\"#EF553B\",\"#00cc96\",\"#ab63fa\",\"#FFA15A\",\"#19d3f3\",\"#FF6692\",\"#B6E880\",\"#FF97FF\",\"#FECB52\"],\"font\":{\"color\":\"#2a3f5f\"},\"geo\":{\"bgcolor\":\"white\",\"lakecolor\":\"white\",\"landcolor\":\"#E5ECF6\",\"showlakes\":true,\"showland\":true,\"subunitcolor\":\"white\"},\"hoverlabel\":{\"align\":\"left\"},\"hovermode\":\"closest\",\"mapbox\":{\"style\":\"light\"},\"paper_bgcolor\":\"white\",\"plot_bgcolor\":\"#E5ECF6\",\"polar\":{\"angularaxis\":{\"gridcolor\":\"white\",\"linecolor\":\"white\",\"ticks\":\"\"},\"bgcolor\":\"#E5ECF6\",\"radialaxis\":{\"gridcolor\":\"white\",\"linecolor\":\"white\",\"ticks\":\"\"}},\"scene\":{\"xaxis\":{\"backgroundcolor\":\"#E5ECF6\",\"gridcolor\":\"white\",\"gridwidth\":2,\"linecolor\":\"white\",\"showbackground\":true,\"ticks\":\"\",\"zerolinecolor\":\"white\"},\"yaxis\":{\"backgroundcolor\":\"#E5ECF6\",\"gridcolor\":\"white\",\"gridwidth\":2,\"linecolor\":\"white\",\"showbackground\":true,\"ticks\":\"\",\"zerolinecolor\":\"white\"},\"zaxis\":{\"backgroundcolor\":\"#E5ECF6\",\"gridcolor\":\"white\",\"gridwidth\":2,\"linecolor\":\"white\",\"showbackground\":true,\"ticks\":\"\",\"zerolinecolor\":\"white\"}},\"shapedefaults\":{\"line\":{\"color\":\"#2a3f5f\"}},\"ternary\":{\"aaxis\":{\"gridcolor\":\"white\",\"linecolor\":\"white\",\"ticks\":\"\"},\"baxis\":{\"gridcolor\":\"white\",\"linecolor\":\"white\",\"ticks\":\"\"},\"bgcolor\":\"#E5ECF6\",\"caxis\":{\"gridcolor\":\"white\",\"linecolor\":\"white\",\"ticks\":\"\"}},\"title\":{\"x\":0.05},\"xaxis\":{\"automargin\":true,\"gridcolor\":\"white\",\"linecolor\":\"white\",\"ticks\":\"\",\"title\":{\"standoff\":15},\"zerolinecolor\":\"white\",\"zerolinewidth\":2},\"yaxis\":{\"automargin\":true,\"gridcolor\":\"white\",\"linecolor\":\"white\",\"ticks\":\"\",\"title\":{\"standoff\":15},\"zerolinecolor\":\"white\",\"zerolinewidth\":2}}},\"xaxis\":{\"anchor\":\"y\",\"domain\":[0.55,1.0]},\"yaxis\":{\"anchor\":\"x\",\"domain\":[0.0,1.0]},\"legend\":{\"orientation\":\"h\",\"x\":0.93,\"xanchor\":\"right\"},\"margin\":{\"l\":0,\"r\":110,\"t\":25,\"b\":0},\"title\":{\"font\":{\"color\":\"black\",\"size\":18},\"text\":\"<b>\\u0414\\u043e\\u043b\\u044f \\u0441\\u0435\\u0442\\u0435\\u0432\\u044b\\u0445 \\u043e\\u0431\\u044a\\u0435\\u043a\\u0442\\u043e\\u0432 \\u0441\\u0440\\u0435\\u0434\\u0438 \\u0437\\u0430\\u0432\\u0435\\u0434\\u0435\\u043d\\u0438\\u0439 \\u0440\\u0430\\u0437\\u043b\\u0438\\u0447\\u043d\\u044b\\u0445 \\u0442\\u0438\\u043f\\u043e\\u0432</b>\",\"x\":0.5},\"width\":950,\"height\":500},                        {\"responsive\": true}                    ).then(function(){\n",
       "                            \n",
       "var gd = document.getElementById('4253278d-6a5f-4db2-9866-13b088d4d25f');\n",
       "var x = new MutationObserver(function (mutations, observer) {{\n",
       "        var display = window.getComputedStyle(gd).display;\n",
       "        if (!display || display === 'none') {{\n",
       "            console.log([gd, 'removed!']);\n",
       "            Plotly.purge(gd);\n",
       "            observer.disconnect();\n",
       "        }}\n",
       "}});\n",
       "\n",
       "// Listen for the removal of the full notebook cells\n",
       "var notebookContainer = gd.closest('#notebook-container');\n",
       "if (notebookContainer) {{\n",
       "    x.observe(notebookContainer, {childList: true});\n",
       "}}\n",
       "\n",
       "// Listen for the clearing of the current output cell\n",
       "var outputEl = gd.closest('.output');\n",
       "if (outputEl) {{\n",
       "    x.observe(outputEl, {childList: true});\n",
       "}}\n",
       "\n",
       "                        })                };                });            </script>        </div>"
      ]
     },
     "metadata": {},
     "output_type": "display_data"
    }
   ],
   "source": [
    "# Определение вида объекта общественного питания, для которого  характерно сетевое распространение.\n",
    "\n",
    "type_group = rest_data.groupby('object_type')['id'].count().reset_index()\n",
    "\n",
    "chain_group = rest_data.query('chain in \"да\"').groupby('object_type')['id'].count().reset_index()\n",
    "\n",
    "type_group = type_group.merge(chain_group, how='left', on='object_type')\n",
    "type_group.columns = ['object_type', 'common_obj', 'chain_obj']\n",
    "\n",
    "type_group['chain_part'] = ((type_group['chain_obj']/type_group['common_obj'])*100).round(2)\n",
    "type_group = type_group.sort_values('chain_part', ascending=False)\n",
    "\n",
    "header_group = ['Тип объекта','Общее кол-во абс.','Кол-во сетевых абс.','Доля сетевых %']\n",
    "fig=make_subplots(rows=1,cols=2,specs=[[{'type':'domain'},{'type':'xy'}]])\n",
    "fig.add_trace(go.Table(header=dict(values=header_group),\n",
    "    cells=dict(values=[type_group[k].tolist() for k in type_group.columns[:]],\n",
    "                            align='center'), name='first plot'),\n",
    "              1,1)\n",
    "fig.add_trace(go.Bar(x=type_group['object_type'], y=type_group['chain_part']),1,2)\n",
    "fig.update_traces(domain=dict(x=[0, 0.45], y=[0, 0.95]), \n",
    "                  selector={'name':'first plot'})\n",
    "fig.update_layout(width=950, height=500,\n",
    "                  legend_orientation=\"h\",\n",
    "                  legend=dict(x=.93,xanchor='right'),\n",
    "                  margin=dict(l=0,r=110,t=25,b=0),\n",
    "                  title_text='<b>Доля сетевых объектов среди заведений различных типов</b>',\n",
    "                  title_font_color=\"black\",\n",
    "                  title_font_size = 18,\n",
    "                  title_x=0.5)\n",
    "fig.show()"
   ]
  },
  {
   "cell_type": "markdown",
   "id": "206a7d6d",
   "metadata": {},
   "source": [
    "***Вывод***  \n",
    "2964 (19,4%) заведений общественного питания Москвы являются сетевыми.\n",
    "\n",
    "Согласно имеющимся данным, образование сети в наибольшей степени характерно для объектов типа предприятий быстрого обслуживания - 41.5% предприятий. За ними в порядке убывания следуют отделы кулинарии магазинов, рестораны и кафе. В случае закусочных и кафетериев сетевой тип заведения наблюдался в 16 и 13 % соответственно. Наиболее редко сети образуют бары, буфеты и столовые, для них этот показатель составлял менее 5%."
   ]
  },
  {
   "cell_type": "markdown",
   "id": "6ed01baf",
   "metadata": {},
   "source": [
    "# Характеристика заведений общественного питания по количеству посадочных мест."
   ]
  },
  {
   "cell_type": "markdown",
   "id": "28df2f8f",
   "metadata": {},
   "source": [
    "## Определение особенностей по количеству объектов в сети и количеству посадочных мест\n"
   ]
  },
  {
   "cell_type": "code",
   "execution_count": 20,
   "id": "9f89f7a2",
   "metadata": {},
   "outputs": [
    {
     "data": {
      "text/plain": [
       "'Максимальное количество заведений сети : 157'"
      ]
     },
     "metadata": {},
     "output_type": "display_data"
    },
    {
     "data": {
      "text/plain": [
       "'Минимальное количество заведений сети : 1'"
      ]
     },
     "metadata": {},
     "output_type": "display_data"
    },
    {
     "data": {
      "text/plain": [
       "'Максимальное количество посадочных мест среди сетевых заведений: 580'"
      ]
     },
     "metadata": {},
     "output_type": "display_data"
    },
    {
     "data": {
      "text/plain": [
       "'Минимальное количество посадочных метс среди сетевых заведений: 0'"
      ]
     },
     "metadata": {},
     "output_type": "display_data"
    },
    {
     "data": {
      "application/vnd.plotly.v1+json": {
       "config": {
        "plotlyServerURL": "https://plot.ly"
       },
       "data": [
        {
         "hovertemplate": "count=%{x}<br>median=%{y}<extra></extra>",
         "legendgroup": "",
         "marker": {
          "color": "#636efa",
          "opacity": 0.5,
          "symbol": "circle"
         },
         "mode": "markers",
         "name": "",
         "orientation": "v",
         "showlegend": false,
         "type": "scatter",
         "x": [
          1,
          1,
          1,
          3,
          1,
          1,
          3,
          1,
          4,
          25,
          1,
          3,
          5,
          1,
          6,
          1,
          1,
          1,
          3,
          1,
          1,
          1,
          4,
          1,
          5,
          155,
          1,
          7,
          3,
          2,
          2,
          1,
          1,
          1,
          1,
          5,
          1,
          2,
          4,
          1,
          2,
          1,
          1,
          4,
          1,
          30,
          1,
          1,
          1,
          1,
          2,
          34,
          3,
          1,
          2,
          1,
          1,
          1,
          1,
          3,
          1,
          2,
          1,
          2,
          1,
          1,
          1,
          1,
          5,
          2,
          2,
          1,
          1,
          1,
          7,
          6,
          15,
          1,
          1,
          19,
          1,
          1,
          1,
          3,
          1,
          1,
          1,
          1,
          1,
          1,
          1,
          2,
          1,
          2,
          12,
          1,
          2,
          1,
          1,
          1,
          1,
          3,
          1,
          2,
          1,
          9,
          1,
          1,
          8,
          137,
          7,
          5,
          1,
          1,
          1,
          11,
          1,
          10,
          1,
          1,
          2,
          1,
          1,
          2,
          9,
          12,
          1,
          6,
          1,
          6,
          1,
          1,
          1,
          1,
          1,
          1,
          10,
          1,
          1,
          1,
          4,
          1,
          4,
          1,
          3,
          1,
          6,
          1,
          5,
          6,
          3,
          1,
          1,
          1,
          7,
          10,
          1,
          49,
          1,
          90,
          1,
          2,
          2,
          2,
          5,
          2,
          1,
          1,
          1,
          2,
          1,
          1,
          1,
          1,
          1,
          2,
          4,
          1,
          2,
          1,
          25,
          9,
          2,
          3,
          2,
          2,
          3,
          1,
          1,
          1,
          1,
          1,
          1,
          1,
          1,
          1,
          1,
          1,
          1,
          2,
          11,
          1,
          2,
          1,
          3,
          6,
          2,
          3,
          1,
          1,
          2,
          1,
          1,
          1,
          1,
          2,
          4,
          1,
          1,
          5,
          1,
          1,
          1,
          6,
          3,
          2,
          2,
          3,
          1,
          1,
          2,
          1,
          4,
          1,
          1,
          1,
          1,
          1,
          9,
          2,
          1,
          1,
          3,
          1,
          1,
          16,
          3,
          6,
          2,
          1,
          1,
          1,
          1,
          1,
          1,
          1,
          1,
          1,
          1,
          1,
          1,
          1,
          1,
          1,
          1,
          3,
          1,
          1,
          1,
          1,
          1,
          1,
          1,
          1,
          1,
          1,
          2,
          5,
          7,
          1,
          2,
          2,
          1,
          9,
          3,
          1,
          1,
          44,
          1,
          1,
          1,
          34,
          1,
          2,
          3,
          3,
          1,
          1,
          1,
          2,
          1,
          1,
          6,
          1,
          4,
          15,
          1,
          3,
          2,
          1,
          2,
          90,
          14,
          16,
          6,
          3,
          1,
          1,
          1,
          3,
          1,
          6,
          1,
          1,
          3,
          1,
          5,
          1,
          1,
          2,
          150,
          6,
          1,
          1,
          1,
          6,
          1,
          2,
          1,
          72,
          6,
          1,
          1,
          2,
          1,
          1,
          5,
          1,
          24,
          1,
          2,
          1,
          24,
          1,
          1,
          1,
          1,
          6,
          1,
          1,
          1,
          2,
          1,
          1,
          1,
          2,
          5,
          51,
          1,
          1,
          1,
          1,
          1,
          3,
          1,
          2,
          1,
          1,
          1,
          1,
          2,
          1,
          1,
          15,
          1,
          2,
          5,
          18,
          9,
          1,
          4,
          5,
          10,
          1,
          1,
          1,
          2,
          1,
          2,
          3,
          3,
          1,
          1,
          3,
          6,
          1,
          10,
          26,
          1,
          7,
          1,
          1,
          1,
          2,
          1,
          5,
          1,
          1,
          1,
          1,
          6,
          3,
          1,
          2,
          1,
          3,
          4,
          3,
          1,
          1,
          2,
          2,
          3,
          2,
          1,
          1,
          1,
          2,
          1,
          1,
          5,
          1,
          1,
          2,
          2,
          8,
          1,
          1,
          3,
          1,
          11,
          1,
          1,
          2,
          3,
          1,
          1,
          5,
          3,
          1,
          2,
          1,
          1,
          1,
          1,
          1,
          3,
          1,
          1,
          1,
          1,
          1,
          3,
          2,
          2,
          8,
          6,
          19,
          1,
          1,
          2,
          3,
          1,
          1,
          1,
          1,
          1,
          6,
          1,
          1,
          1,
          1,
          1,
          21,
          3,
          1,
          14,
          1,
          1,
          1,
          2,
          1,
          1,
          1,
          2,
          72,
          1,
          1,
          13,
          13,
          2,
          1,
          3,
          15,
          2,
          1,
          1,
          32,
          2,
          7,
          3,
          94,
          1,
          1,
          4,
          1,
          1,
          6,
          9,
          1,
          2,
          1,
          1,
          1,
          7,
          1,
          1,
          1,
          9,
          3,
          1,
          2,
          38,
          1,
          1,
          4,
          32,
          2,
          2,
          1,
          43,
          1,
          6,
          1,
          1,
          1,
          1,
          6,
          1,
          1,
          1,
          1,
          1,
          157,
          1,
          1,
          1,
          13,
          1,
          38,
          1,
          1,
          1,
          1,
          1,
          2,
          4
         ],
         "xaxis": "x",
         "y": [
          88,
          75,
          40,
          68,
          46,
          6,
          20,
          0,
          50,
          10,
          4,
          32,
          15,
          40,
          10,
          80,
          70,
          50,
          20,
          65,
          45,
          96,
          9.5,
          82,
          30,
          45,
          146,
          27,
          20,
          21.5,
          62.5,
          150,
          90,
          0,
          65,
          40,
          0,
          0,
          75,
          10,
          38,
          35,
          20,
          26,
          6,
          42,
          33,
          28,
          34,
          40,
          90,
          15,
          30,
          100,
          39,
          45,
          50,
          90,
          20,
          27,
          0,
          12,
          40,
          43.5,
          20,
          20,
          48,
          150,
          10,
          0,
          2,
          8,
          10,
          20,
          10,
          55,
          32,
          40,
          0,
          56,
          60,
          150,
          70,
          240,
          0,
          6,
          39,
          5,
          65,
          43,
          45,
          93,
          25,
          22.5,
          2.5,
          35,
          18,
          1,
          90,
          80,
          80,
          15,
          10,
          55,
          50,
          25,
          48,
          190,
          33,
          45,
          75,
          16,
          85,
          46,
          40,
          60,
          15,
          75,
          0,
          96,
          97.5,
          42,
          98,
          25,
          30,
          17,
          50,
          50,
          17,
          75,
          120,
          144,
          143,
          5,
          65,
          0,
          110,
          36,
          90,
          12,
          130,
          120,
          130,
          98,
          145,
          80,
          17.5,
          40,
          36,
          115,
          80,
          41,
          45,
          80,
          45,
          96,
          7,
          30,
          70,
          16,
          4,
          70,
          110,
          123,
          64,
          98,
          40,
          10,
          2,
          20,
          10,
          20,
          0,
          0,
          10,
          72,
          110,
          60,
          17.5,
          35,
          96,
          90,
          99,
          98,
          94,
          94,
          67,
          32,
          45,
          60,
          22,
          30,
          40,
          40,
          9,
          40,
          23,
          12,
          19,
          20.5,
          60,
          2,
          26,
          40,
          36,
          91.5,
          7.5,
          50,
          98,
          80,
          27.5,
          10,
          60,
          75,
          60,
          18.5,
          134,
          10,
          18,
          40,
          40,
          60,
          165,
          165,
          80,
          18,
          22,
          24,
          3,
          50,
          17.5,
          90,
          55.5,
          15,
          16,
          7,
          150,
          70,
          40,
          135,
          80,
          50,
          60,
          38,
          102,
          60,
          22,
          103.5,
          85,
          225,
          22,
          176,
          10,
          68,
          48,
          175,
          122,
          12,
          300,
          75,
          80,
          16,
          12,
          4,
          17,
          220,
          35,
          8,
          15,
          225,
          90,
          15,
          100,
          84,
          3,
          87,
          35,
          16,
          150,
          18,
          38,
          43,
          50,
          110,
          130,
          20,
          2,
          0,
          4,
          6,
          20,
          50,
          130,
          54,
          41,
          81,
          50,
          10,
          40,
          22,
          23,
          42,
          57.5,
          90,
          85,
          65,
          65,
          15,
          30,
          85,
          43.5,
          15,
          90,
          31.5,
          47.5,
          25,
          70,
          35,
          45,
          80,
          53,
          16,
          17,
          10,
          0,
          16,
          10,
          25,
          20,
          10,
          77.5,
          70,
          75,
          170,
          20,
          58,
          80,
          45,
          20,
          0,
          54,
          70,
          12,
          17.5,
          250,
          70,
          45,
          70,
          140,
          22,
          48,
          35,
          42.5,
          40,
          48,
          48,
          60,
          84,
          99,
          215,
          60,
          13.5,
          1,
          42,
          160,
          113,
          50,
          20,
          60,
          40,
          60,
          60,
          1,
          95,
          12,
          245,
          20,
          25,
          45,
          22,
          17.5,
          10,
          0,
          0,
          30,
          24.5,
          36,
          19,
          20,
          43,
          37.5,
          15,
          18.5,
          0,
          40,
          28,
          23.5,
          80,
          32.5,
          85,
          25,
          28,
          0,
          90,
          3.5,
          266,
          33.5,
          30,
          6,
          36,
          20,
          40,
          10,
          38,
          24,
          24,
          0,
          24,
          16,
          20,
          46,
          0,
          20,
          42,
          16,
          50,
          125,
          45,
          10,
          95,
          63,
          139,
          128,
          35,
          98,
          120,
          100,
          121.5,
          20,
          95,
          136,
          96,
          120,
          72.5,
          125,
          121,
          60,
          32,
          90,
          92,
          98,
          135,
          20,
          89,
          200,
          60,
          250,
          160,
          124,
          100,
          85,
          30,
          0,
          180,
          50,
          100,
          54,
          170,
          25,
          48,
          55,
          96,
          49,
          21,
          3,
          65,
          103.5,
          10,
          16,
          24,
          18,
          145,
          80,
          98,
          80,
          8,
          48,
          12,
          200,
          82,
          35,
          70,
          150,
          41,
          42,
          50,
          0,
          10,
          0,
          280,
          215,
          80,
          120,
          35,
          49,
          6,
          4,
          22,
          6,
          5,
          10,
          20,
          20,
          6,
          47.5,
          48,
          8,
          99,
          83.5,
          6,
          200,
          23,
          50,
          12,
          75,
          70,
          200,
          18,
          90,
          180,
          0,
          90,
          96,
          40,
          160,
          99,
          45,
          25,
          24,
          120,
          130,
          97.5,
          46.5,
          63,
          30,
          47,
          40,
          16.5,
          11,
          40,
          100,
          150,
          49.5,
          306,
          149,
          80,
          20,
          17,
          32,
          70,
          85,
          11,
          50,
          50,
          60,
          25,
          48,
          25,
          48,
          98,
          99,
          282,
          2,
          300,
          155,
          105,
          104
         ],
         "yaxis": "y"
        },
        {
         "alignmentgroup": "True",
         "bingroup": "x",
         "hovertemplate": "count=%{y}<extra></extra>",
         "legendgroup": "",
         "marker": {
          "color": "#636efa"
         },
         "name": "",
         "offsetgroup": "",
         "opacity": 0.5,
         "showlegend": false,
         "type": "histogram",
         "x": [
          1,
          1,
          1,
          3,
          1,
          1,
          3,
          1,
          4,
          25,
          1,
          3,
          5,
          1,
          6,
          1,
          1,
          1,
          3,
          1,
          1,
          1,
          4,
          1,
          5,
          155,
          1,
          7,
          3,
          2,
          2,
          1,
          1,
          1,
          1,
          5,
          1,
          2,
          4,
          1,
          2,
          1,
          1,
          4,
          1,
          30,
          1,
          1,
          1,
          1,
          2,
          34,
          3,
          1,
          2,
          1,
          1,
          1,
          1,
          3,
          1,
          2,
          1,
          2,
          1,
          1,
          1,
          1,
          5,
          2,
          2,
          1,
          1,
          1,
          7,
          6,
          15,
          1,
          1,
          19,
          1,
          1,
          1,
          3,
          1,
          1,
          1,
          1,
          1,
          1,
          1,
          2,
          1,
          2,
          12,
          1,
          2,
          1,
          1,
          1,
          1,
          3,
          1,
          2,
          1,
          9,
          1,
          1,
          8,
          137,
          7,
          5,
          1,
          1,
          1,
          11,
          1,
          10,
          1,
          1,
          2,
          1,
          1,
          2,
          9,
          12,
          1,
          6,
          1,
          6,
          1,
          1,
          1,
          1,
          1,
          1,
          10,
          1,
          1,
          1,
          4,
          1,
          4,
          1,
          3,
          1,
          6,
          1,
          5,
          6,
          3,
          1,
          1,
          1,
          7,
          10,
          1,
          49,
          1,
          90,
          1,
          2,
          2,
          2,
          5,
          2,
          1,
          1,
          1,
          2,
          1,
          1,
          1,
          1,
          1,
          2,
          4,
          1,
          2,
          1,
          25,
          9,
          2,
          3,
          2,
          2,
          3,
          1,
          1,
          1,
          1,
          1,
          1,
          1,
          1,
          1,
          1,
          1,
          1,
          2,
          11,
          1,
          2,
          1,
          3,
          6,
          2,
          3,
          1,
          1,
          2,
          1,
          1,
          1,
          1,
          2,
          4,
          1,
          1,
          5,
          1,
          1,
          1,
          6,
          3,
          2,
          2,
          3,
          1,
          1,
          2,
          1,
          4,
          1,
          1,
          1,
          1,
          1,
          9,
          2,
          1,
          1,
          3,
          1,
          1,
          16,
          3,
          6,
          2,
          1,
          1,
          1,
          1,
          1,
          1,
          1,
          1,
          1,
          1,
          1,
          1,
          1,
          1,
          1,
          1,
          3,
          1,
          1,
          1,
          1,
          1,
          1,
          1,
          1,
          1,
          1,
          2,
          5,
          7,
          1,
          2,
          2,
          1,
          9,
          3,
          1,
          1,
          44,
          1,
          1,
          1,
          34,
          1,
          2,
          3,
          3,
          1,
          1,
          1,
          2,
          1,
          1,
          6,
          1,
          4,
          15,
          1,
          3,
          2,
          1,
          2,
          90,
          14,
          16,
          6,
          3,
          1,
          1,
          1,
          3,
          1,
          6,
          1,
          1,
          3,
          1,
          5,
          1,
          1,
          2,
          150,
          6,
          1,
          1,
          1,
          6,
          1,
          2,
          1,
          72,
          6,
          1,
          1,
          2,
          1,
          1,
          5,
          1,
          24,
          1,
          2,
          1,
          24,
          1,
          1,
          1,
          1,
          6,
          1,
          1,
          1,
          2,
          1,
          1,
          1,
          2,
          5,
          51,
          1,
          1,
          1,
          1,
          1,
          3,
          1,
          2,
          1,
          1,
          1,
          1,
          2,
          1,
          1,
          15,
          1,
          2,
          5,
          18,
          9,
          1,
          4,
          5,
          10,
          1,
          1,
          1,
          2,
          1,
          2,
          3,
          3,
          1,
          1,
          3,
          6,
          1,
          10,
          26,
          1,
          7,
          1,
          1,
          1,
          2,
          1,
          5,
          1,
          1,
          1,
          1,
          6,
          3,
          1,
          2,
          1,
          3,
          4,
          3,
          1,
          1,
          2,
          2,
          3,
          2,
          1,
          1,
          1,
          2,
          1,
          1,
          5,
          1,
          1,
          2,
          2,
          8,
          1,
          1,
          3,
          1,
          11,
          1,
          1,
          2,
          3,
          1,
          1,
          5,
          3,
          1,
          2,
          1,
          1,
          1,
          1,
          1,
          3,
          1,
          1,
          1,
          1,
          1,
          3,
          2,
          2,
          8,
          6,
          19,
          1,
          1,
          2,
          3,
          1,
          1,
          1,
          1,
          1,
          6,
          1,
          1,
          1,
          1,
          1,
          21,
          3,
          1,
          14,
          1,
          1,
          1,
          2,
          1,
          1,
          1,
          2,
          72,
          1,
          1,
          13,
          13,
          2,
          1,
          3,
          15,
          2,
          1,
          1,
          32,
          2,
          7,
          3,
          94,
          1,
          1,
          4,
          1,
          1,
          6,
          9,
          1,
          2,
          1,
          1,
          1,
          7,
          1,
          1,
          1,
          9,
          3,
          1,
          2,
          38,
          1,
          1,
          4,
          32,
          2,
          2,
          1,
          43,
          1,
          6,
          1,
          1,
          1,
          1,
          6,
          1,
          1,
          1,
          1,
          1,
          157,
          1,
          1,
          1,
          13,
          1,
          38,
          1,
          1,
          1,
          1,
          1,
          2,
          4
         ],
         "xaxis": "x3",
         "yaxis": "y3"
        },
        {
         "alignmentgroup": "True",
         "bingroup": "y",
         "hovertemplate": "median=%{y}<br>count=%{x}<extra></extra>",
         "legendgroup": "",
         "marker": {
          "color": "#636efa"
         },
         "name": "",
         "offsetgroup": "",
         "opacity": 0.5,
         "showlegend": false,
         "type": "histogram",
         "xaxis": "x2",
         "y": [
          88,
          75,
          40,
          68,
          46,
          6,
          20,
          0,
          50,
          10,
          4,
          32,
          15,
          40,
          10,
          80,
          70,
          50,
          20,
          65,
          45,
          96,
          9.5,
          82,
          30,
          45,
          146,
          27,
          20,
          21.5,
          62.5,
          150,
          90,
          0,
          65,
          40,
          0,
          0,
          75,
          10,
          38,
          35,
          20,
          26,
          6,
          42,
          33,
          28,
          34,
          40,
          90,
          15,
          30,
          100,
          39,
          45,
          50,
          90,
          20,
          27,
          0,
          12,
          40,
          43.5,
          20,
          20,
          48,
          150,
          10,
          0,
          2,
          8,
          10,
          20,
          10,
          55,
          32,
          40,
          0,
          56,
          60,
          150,
          70,
          240,
          0,
          6,
          39,
          5,
          65,
          43,
          45,
          93,
          25,
          22.5,
          2.5,
          35,
          18,
          1,
          90,
          80,
          80,
          15,
          10,
          55,
          50,
          25,
          48,
          190,
          33,
          45,
          75,
          16,
          85,
          46,
          40,
          60,
          15,
          75,
          0,
          96,
          97.5,
          42,
          98,
          25,
          30,
          17,
          50,
          50,
          17,
          75,
          120,
          144,
          143,
          5,
          65,
          0,
          110,
          36,
          90,
          12,
          130,
          120,
          130,
          98,
          145,
          80,
          17.5,
          40,
          36,
          115,
          80,
          41,
          45,
          80,
          45,
          96,
          7,
          30,
          70,
          16,
          4,
          70,
          110,
          123,
          64,
          98,
          40,
          10,
          2,
          20,
          10,
          20,
          0,
          0,
          10,
          72,
          110,
          60,
          17.5,
          35,
          96,
          90,
          99,
          98,
          94,
          94,
          67,
          32,
          45,
          60,
          22,
          30,
          40,
          40,
          9,
          40,
          23,
          12,
          19,
          20.5,
          60,
          2,
          26,
          40,
          36,
          91.5,
          7.5,
          50,
          98,
          80,
          27.5,
          10,
          60,
          75,
          60,
          18.5,
          134,
          10,
          18,
          40,
          40,
          60,
          165,
          165,
          80,
          18,
          22,
          24,
          3,
          50,
          17.5,
          90,
          55.5,
          15,
          16,
          7,
          150,
          70,
          40,
          135,
          80,
          50,
          60,
          38,
          102,
          60,
          22,
          103.5,
          85,
          225,
          22,
          176,
          10,
          68,
          48,
          175,
          122,
          12,
          300,
          75,
          80,
          16,
          12,
          4,
          17,
          220,
          35,
          8,
          15,
          225,
          90,
          15,
          100,
          84,
          3,
          87,
          35,
          16,
          150,
          18,
          38,
          43,
          50,
          110,
          130,
          20,
          2,
          0,
          4,
          6,
          20,
          50,
          130,
          54,
          41,
          81,
          50,
          10,
          40,
          22,
          23,
          42,
          57.5,
          90,
          85,
          65,
          65,
          15,
          30,
          85,
          43.5,
          15,
          90,
          31.5,
          47.5,
          25,
          70,
          35,
          45,
          80,
          53,
          16,
          17,
          10,
          0,
          16,
          10,
          25,
          20,
          10,
          77.5,
          70,
          75,
          170,
          20,
          58,
          80,
          45,
          20,
          0,
          54,
          70,
          12,
          17.5,
          250,
          70,
          45,
          70,
          140,
          22,
          48,
          35,
          42.5,
          40,
          48,
          48,
          60,
          84,
          99,
          215,
          60,
          13.5,
          1,
          42,
          160,
          113,
          50,
          20,
          60,
          40,
          60,
          60,
          1,
          95,
          12,
          245,
          20,
          25,
          45,
          22,
          17.5,
          10,
          0,
          0,
          30,
          24.5,
          36,
          19,
          20,
          43,
          37.5,
          15,
          18.5,
          0,
          40,
          28,
          23.5,
          80,
          32.5,
          85,
          25,
          28,
          0,
          90,
          3.5,
          266,
          33.5,
          30,
          6,
          36,
          20,
          40,
          10,
          38,
          24,
          24,
          0,
          24,
          16,
          20,
          46,
          0,
          20,
          42,
          16,
          50,
          125,
          45,
          10,
          95,
          63,
          139,
          128,
          35,
          98,
          120,
          100,
          121.5,
          20,
          95,
          136,
          96,
          120,
          72.5,
          125,
          121,
          60,
          32,
          90,
          92,
          98,
          135,
          20,
          89,
          200,
          60,
          250,
          160,
          124,
          100,
          85,
          30,
          0,
          180,
          50,
          100,
          54,
          170,
          25,
          48,
          55,
          96,
          49,
          21,
          3,
          65,
          103.5,
          10,
          16,
          24,
          18,
          145,
          80,
          98,
          80,
          8,
          48,
          12,
          200,
          82,
          35,
          70,
          150,
          41,
          42,
          50,
          0,
          10,
          0,
          280,
          215,
          80,
          120,
          35,
          49,
          6,
          4,
          22,
          6,
          5,
          10,
          20,
          20,
          6,
          47.5,
          48,
          8,
          99,
          83.5,
          6,
          200,
          23,
          50,
          12,
          75,
          70,
          200,
          18,
          90,
          180,
          0,
          90,
          96,
          40,
          160,
          99,
          45,
          25,
          24,
          120,
          130,
          97.5,
          46.5,
          63,
          30,
          47,
          40,
          16.5,
          11,
          40,
          100,
          150,
          49.5,
          306,
          149,
          80,
          20,
          17,
          32,
          70,
          85,
          11,
          50,
          50,
          60,
          25,
          48,
          25,
          48,
          98,
          99,
          282,
          2,
          300,
          155,
          105,
          104
         ],
         "yaxis": "y2"
        }
       ],
       "layout": {
        "barmode": "overlay",
        "height": 600,
        "legend": {
         "tracegroupgap": 0
        },
        "margin": {
         "b": 0,
         "l": 0,
         "r": 0,
         "t": 50
        },
        "template": {
         "data": {
          "bar": [
           {
            "error_x": {
             "color": "#2a3f5f"
            },
            "error_y": {
             "color": "#2a3f5f"
            },
            "marker": {
             "line": {
              "color": "#E5ECF6",
              "width": 0.5
             },
             "pattern": {
              "fillmode": "overlay",
              "size": 10,
              "solidity": 0.2
             }
            },
            "type": "bar"
           }
          ],
          "barpolar": [
           {
            "marker": {
             "line": {
              "color": "#E5ECF6",
              "width": 0.5
             },
             "pattern": {
              "fillmode": "overlay",
              "size": 10,
              "solidity": 0.2
             }
            },
            "type": "barpolar"
           }
          ],
          "carpet": [
           {
            "aaxis": {
             "endlinecolor": "#2a3f5f",
             "gridcolor": "white",
             "linecolor": "white",
             "minorgridcolor": "white",
             "startlinecolor": "#2a3f5f"
            },
            "baxis": {
             "endlinecolor": "#2a3f5f",
             "gridcolor": "white",
             "linecolor": "white",
             "minorgridcolor": "white",
             "startlinecolor": "#2a3f5f"
            },
            "type": "carpet"
           }
          ],
          "choropleth": [
           {
            "colorbar": {
             "outlinewidth": 0,
             "ticks": ""
            },
            "type": "choropleth"
           }
          ],
          "contour": [
           {
            "colorbar": {
             "outlinewidth": 0,
             "ticks": ""
            },
            "colorscale": [
             [
              0,
              "#0d0887"
             ],
             [
              0.1111111111111111,
              "#46039f"
             ],
             [
              0.2222222222222222,
              "#7201a8"
             ],
             [
              0.3333333333333333,
              "#9c179e"
             ],
             [
              0.4444444444444444,
              "#bd3786"
             ],
             [
              0.5555555555555556,
              "#d8576b"
             ],
             [
              0.6666666666666666,
              "#ed7953"
             ],
             [
              0.7777777777777778,
              "#fb9f3a"
             ],
             [
              0.8888888888888888,
              "#fdca26"
             ],
             [
              1,
              "#f0f921"
             ]
            ],
            "type": "contour"
           }
          ],
          "contourcarpet": [
           {
            "colorbar": {
             "outlinewidth": 0,
             "ticks": ""
            },
            "type": "contourcarpet"
           }
          ],
          "heatmap": [
           {
            "colorbar": {
             "outlinewidth": 0,
             "ticks": ""
            },
            "colorscale": [
             [
              0,
              "#0d0887"
             ],
             [
              0.1111111111111111,
              "#46039f"
             ],
             [
              0.2222222222222222,
              "#7201a8"
             ],
             [
              0.3333333333333333,
              "#9c179e"
             ],
             [
              0.4444444444444444,
              "#bd3786"
             ],
             [
              0.5555555555555556,
              "#d8576b"
             ],
             [
              0.6666666666666666,
              "#ed7953"
             ],
             [
              0.7777777777777778,
              "#fb9f3a"
             ],
             [
              0.8888888888888888,
              "#fdca26"
             ],
             [
              1,
              "#f0f921"
             ]
            ],
            "type": "heatmap"
           }
          ],
          "heatmapgl": [
           {
            "colorbar": {
             "outlinewidth": 0,
             "ticks": ""
            },
            "colorscale": [
             [
              0,
              "#0d0887"
             ],
             [
              0.1111111111111111,
              "#46039f"
             ],
             [
              0.2222222222222222,
              "#7201a8"
             ],
             [
              0.3333333333333333,
              "#9c179e"
             ],
             [
              0.4444444444444444,
              "#bd3786"
             ],
             [
              0.5555555555555556,
              "#d8576b"
             ],
             [
              0.6666666666666666,
              "#ed7953"
             ],
             [
              0.7777777777777778,
              "#fb9f3a"
             ],
             [
              0.8888888888888888,
              "#fdca26"
             ],
             [
              1,
              "#f0f921"
             ]
            ],
            "type": "heatmapgl"
           }
          ],
          "histogram": [
           {
            "marker": {
             "pattern": {
              "fillmode": "overlay",
              "size": 10,
              "solidity": 0.2
             }
            },
            "type": "histogram"
           }
          ],
          "histogram2d": [
           {
            "colorbar": {
             "outlinewidth": 0,
             "ticks": ""
            },
            "colorscale": [
             [
              0,
              "#0d0887"
             ],
             [
              0.1111111111111111,
              "#46039f"
             ],
             [
              0.2222222222222222,
              "#7201a8"
             ],
             [
              0.3333333333333333,
              "#9c179e"
             ],
             [
              0.4444444444444444,
              "#bd3786"
             ],
             [
              0.5555555555555556,
              "#d8576b"
             ],
             [
              0.6666666666666666,
              "#ed7953"
             ],
             [
              0.7777777777777778,
              "#fb9f3a"
             ],
             [
              0.8888888888888888,
              "#fdca26"
             ],
             [
              1,
              "#f0f921"
             ]
            ],
            "type": "histogram2d"
           }
          ],
          "histogram2dcontour": [
           {
            "colorbar": {
             "outlinewidth": 0,
             "ticks": ""
            },
            "colorscale": [
             [
              0,
              "#0d0887"
             ],
             [
              0.1111111111111111,
              "#46039f"
             ],
             [
              0.2222222222222222,
              "#7201a8"
             ],
             [
              0.3333333333333333,
              "#9c179e"
             ],
             [
              0.4444444444444444,
              "#bd3786"
             ],
             [
              0.5555555555555556,
              "#d8576b"
             ],
             [
              0.6666666666666666,
              "#ed7953"
             ],
             [
              0.7777777777777778,
              "#fb9f3a"
             ],
             [
              0.8888888888888888,
              "#fdca26"
             ],
             [
              1,
              "#f0f921"
             ]
            ],
            "type": "histogram2dcontour"
           }
          ],
          "mesh3d": [
           {
            "colorbar": {
             "outlinewidth": 0,
             "ticks": ""
            },
            "type": "mesh3d"
           }
          ],
          "parcoords": [
           {
            "line": {
             "colorbar": {
              "outlinewidth": 0,
              "ticks": ""
             }
            },
            "type": "parcoords"
           }
          ],
          "pie": [
           {
            "automargin": true,
            "type": "pie"
           }
          ],
          "scatter": [
           {
            "marker": {
             "colorbar": {
              "outlinewidth": 0,
              "ticks": ""
             }
            },
            "type": "scatter"
           }
          ],
          "scatter3d": [
           {
            "line": {
             "colorbar": {
              "outlinewidth": 0,
              "ticks": ""
             }
            },
            "marker": {
             "colorbar": {
              "outlinewidth": 0,
              "ticks": ""
             }
            },
            "type": "scatter3d"
           }
          ],
          "scattercarpet": [
           {
            "marker": {
             "colorbar": {
              "outlinewidth": 0,
              "ticks": ""
             }
            },
            "type": "scattercarpet"
           }
          ],
          "scattergeo": [
           {
            "marker": {
             "colorbar": {
              "outlinewidth": 0,
              "ticks": ""
             }
            },
            "type": "scattergeo"
           }
          ],
          "scattergl": [
           {
            "marker": {
             "colorbar": {
              "outlinewidth": 0,
              "ticks": ""
             }
            },
            "type": "scattergl"
           }
          ],
          "scattermapbox": [
           {
            "marker": {
             "colorbar": {
              "outlinewidth": 0,
              "ticks": ""
             }
            },
            "type": "scattermapbox"
           }
          ],
          "scatterpolar": [
           {
            "marker": {
             "colorbar": {
              "outlinewidth": 0,
              "ticks": ""
             }
            },
            "type": "scatterpolar"
           }
          ],
          "scatterpolargl": [
           {
            "marker": {
             "colorbar": {
              "outlinewidth": 0,
              "ticks": ""
             }
            },
            "type": "scatterpolargl"
           }
          ],
          "scatterternary": [
           {
            "marker": {
             "colorbar": {
              "outlinewidth": 0,
              "ticks": ""
             }
            },
            "type": "scatterternary"
           }
          ],
          "surface": [
           {
            "colorbar": {
             "outlinewidth": 0,
             "ticks": ""
            },
            "colorscale": [
             [
              0,
              "#0d0887"
             ],
             [
              0.1111111111111111,
              "#46039f"
             ],
             [
              0.2222222222222222,
              "#7201a8"
             ],
             [
              0.3333333333333333,
              "#9c179e"
             ],
             [
              0.4444444444444444,
              "#bd3786"
             ],
             [
              0.5555555555555556,
              "#d8576b"
             ],
             [
              0.6666666666666666,
              "#ed7953"
             ],
             [
              0.7777777777777778,
              "#fb9f3a"
             ],
             [
              0.8888888888888888,
              "#fdca26"
             ],
             [
              1,
              "#f0f921"
             ]
            ],
            "type": "surface"
           }
          ],
          "table": [
           {
            "cells": {
             "fill": {
              "color": "#EBF0F8"
             },
             "line": {
              "color": "white"
             }
            },
            "header": {
             "fill": {
              "color": "#C8D4E3"
             },
             "line": {
              "color": "white"
             }
            },
            "type": "table"
           }
          ]
         },
         "layout": {
          "annotationdefaults": {
           "arrowcolor": "#2a3f5f",
           "arrowhead": 0,
           "arrowwidth": 1
          },
          "autotypenumbers": "strict",
          "coloraxis": {
           "colorbar": {
            "outlinewidth": 0,
            "ticks": ""
           }
          },
          "colorscale": {
           "diverging": [
            [
             0,
             "#8e0152"
            ],
            [
             0.1,
             "#c51b7d"
            ],
            [
             0.2,
             "#de77ae"
            ],
            [
             0.3,
             "#f1b6da"
            ],
            [
             0.4,
             "#fde0ef"
            ],
            [
             0.5,
             "#f7f7f7"
            ],
            [
             0.6,
             "#e6f5d0"
            ],
            [
             0.7,
             "#b8e186"
            ],
            [
             0.8,
             "#7fbc41"
            ],
            [
             0.9,
             "#4d9221"
            ],
            [
             1,
             "#276419"
            ]
           ],
           "sequential": [
            [
             0,
             "#0d0887"
            ],
            [
             0.1111111111111111,
             "#46039f"
            ],
            [
             0.2222222222222222,
             "#7201a8"
            ],
            [
             0.3333333333333333,
             "#9c179e"
            ],
            [
             0.4444444444444444,
             "#bd3786"
            ],
            [
             0.5555555555555556,
             "#d8576b"
            ],
            [
             0.6666666666666666,
             "#ed7953"
            ],
            [
             0.7777777777777778,
             "#fb9f3a"
            ],
            [
             0.8888888888888888,
             "#fdca26"
            ],
            [
             1,
             "#f0f921"
            ]
           ],
           "sequentialminus": [
            [
             0,
             "#0d0887"
            ],
            [
             0.1111111111111111,
             "#46039f"
            ],
            [
             0.2222222222222222,
             "#7201a8"
            ],
            [
             0.3333333333333333,
             "#9c179e"
            ],
            [
             0.4444444444444444,
             "#bd3786"
            ],
            [
             0.5555555555555556,
             "#d8576b"
            ],
            [
             0.6666666666666666,
             "#ed7953"
            ],
            [
             0.7777777777777778,
             "#fb9f3a"
            ],
            [
             0.8888888888888888,
             "#fdca26"
            ],
            [
             1,
             "#f0f921"
            ]
           ]
          },
          "colorway": [
           "#636efa",
           "#EF553B",
           "#00cc96",
           "#ab63fa",
           "#FFA15A",
           "#19d3f3",
           "#FF6692",
           "#B6E880",
           "#FF97FF",
           "#FECB52"
          ],
          "font": {
           "color": "#2a3f5f"
          },
          "geo": {
           "bgcolor": "white",
           "lakecolor": "white",
           "landcolor": "#E5ECF6",
           "showlakes": true,
           "showland": true,
           "subunitcolor": "white"
          },
          "hoverlabel": {
           "align": "left"
          },
          "hovermode": "closest",
          "mapbox": {
           "style": "light"
          },
          "paper_bgcolor": "white",
          "plot_bgcolor": "#E5ECF6",
          "polar": {
           "angularaxis": {
            "gridcolor": "white",
            "linecolor": "white",
            "ticks": ""
           },
           "bgcolor": "#E5ECF6",
           "radialaxis": {
            "gridcolor": "white",
            "linecolor": "white",
            "ticks": ""
           }
          },
          "scene": {
           "xaxis": {
            "backgroundcolor": "#E5ECF6",
            "gridcolor": "white",
            "gridwidth": 2,
            "linecolor": "white",
            "showbackground": true,
            "ticks": "",
            "zerolinecolor": "white"
           },
           "yaxis": {
            "backgroundcolor": "#E5ECF6",
            "gridcolor": "white",
            "gridwidth": 2,
            "linecolor": "white",
            "showbackground": true,
            "ticks": "",
            "zerolinecolor": "white"
           },
           "zaxis": {
            "backgroundcolor": "#E5ECF6",
            "gridcolor": "white",
            "gridwidth": 2,
            "linecolor": "white",
            "showbackground": true,
            "ticks": "",
            "zerolinecolor": "white"
           }
          },
          "shapedefaults": {
           "line": {
            "color": "#2a3f5f"
           }
          },
          "ternary": {
           "aaxis": {
            "gridcolor": "white",
            "linecolor": "white",
            "ticks": ""
           },
           "baxis": {
            "gridcolor": "white",
            "linecolor": "white",
            "ticks": ""
           },
           "bgcolor": "#E5ECF6",
           "caxis": {
            "gridcolor": "white",
            "linecolor": "white",
            "ticks": ""
           }
          },
          "title": {
           "x": 0.05
          },
          "xaxis": {
           "automargin": true,
           "gridcolor": "white",
           "linecolor": "white",
           "ticks": "",
           "title": {
            "standoff": 15
           },
           "zerolinecolor": "white",
           "zerolinewidth": 2
          },
          "yaxis": {
           "automargin": true,
           "gridcolor": "white",
           "linecolor": "white",
           "ticks": "",
           "title": {
            "standoff": 15
           },
           "zerolinecolor": "white",
           "zerolinewidth": 2
          }
         }
        },
        "title": {
         "font": {
          "color": "black",
          "size": 18
         },
         "text": "<b>Распределение заведений по количеству объектов сети и количеству посадочных мест</b>",
         "x": 0.5,
         "xanchor": "center"
        },
        "width": 950,
        "xaxis": {
         "anchor": "y",
         "domain": [
          0,
          0.7363
         ],
         "title": {
          "text": "Кол-во заведений"
         }
        },
        "xaxis2": {
         "anchor": "y2",
         "domain": [
          0.7413,
          1
         ],
         "matches": "x2",
         "showgrid": true,
         "showline": false,
         "showticklabels": false,
         "ticks": ""
        },
        "xaxis3": {
         "anchor": "y3",
         "domain": [
          0,
          0.7363
         ],
         "matches": "x",
         "showgrid": true,
         "showticklabels": false
        },
        "xaxis4": {
         "anchor": "y4",
         "domain": [
          0.7413,
          1
         ],
         "matches": "x2",
         "showgrid": true,
         "showline": false,
         "showticklabels": false,
         "ticks": ""
        },
        "yaxis": {
         "anchor": "x",
         "domain": [
          0,
          0.7326
         ],
         "title": {
          "text": "Медиана посадочных мест"
         }
        },
        "yaxis2": {
         "anchor": "x2",
         "domain": [
          0,
          0.7326
         ],
         "matches": "y",
         "showgrid": true,
         "showticklabels": false
        },
        "yaxis3": {
         "anchor": "x3",
         "domain": [
          0.7426,
          1
         ],
         "matches": "y3",
         "showgrid": true,
         "showline": false,
         "showticklabels": false,
         "ticks": ""
        },
        "yaxis4": {
         "anchor": "x4",
         "domain": [
          0.7426,
          1
         ],
         "matches": "y3",
         "showgrid": true,
         "showline": false,
         "showticklabels": false,
         "ticks": ""
        }
       }
      },
      "text/html": [
       "<div>                            <div id=\"35710908-c7d8-453e-8071-ab7dc7c1aed6\" class=\"plotly-graph-div\" style=\"height:600px; width:950px;\"></div>            <script type=\"text/javascript\">                require([\"plotly\"], function(Plotly) {                    window.PLOTLYENV=window.PLOTLYENV || {};                                    if (document.getElementById(\"35710908-c7d8-453e-8071-ab7dc7c1aed6\")) {                    Plotly.newPlot(                        \"35710908-c7d8-453e-8071-ab7dc7c1aed6\",                        [{\"hovertemplate\":\"count=%{x}<br>median=%{y}<extra></extra>\",\"legendgroup\":\"\",\"marker\":{\"color\":\"#636efa\",\"opacity\":0.5,\"symbol\":\"circle\"},\"mode\":\"markers\",\"name\":\"\",\"orientation\":\"v\",\"showlegend\":false,\"x\":[1,1,1,3,1,1,3,1,4,25,1,3,5,1,6,1,1,1,3,1,1,1,4,1,5,155,1,7,3,2,2,1,1,1,1,5,1,2,4,1,2,1,1,4,1,30,1,1,1,1,2,34,3,1,2,1,1,1,1,3,1,2,1,2,1,1,1,1,5,2,2,1,1,1,7,6,15,1,1,19,1,1,1,3,1,1,1,1,1,1,1,2,1,2,12,1,2,1,1,1,1,3,1,2,1,9,1,1,8,137,7,5,1,1,1,11,1,10,1,1,2,1,1,2,9,12,1,6,1,6,1,1,1,1,1,1,10,1,1,1,4,1,4,1,3,1,6,1,5,6,3,1,1,1,7,10,1,49,1,90,1,2,2,2,5,2,1,1,1,2,1,1,1,1,1,2,4,1,2,1,25,9,2,3,2,2,3,1,1,1,1,1,1,1,1,1,1,1,1,2,11,1,2,1,3,6,2,3,1,1,2,1,1,1,1,2,4,1,1,5,1,1,1,6,3,2,2,3,1,1,2,1,4,1,1,1,1,1,9,2,1,1,3,1,1,16,3,6,2,1,1,1,1,1,1,1,1,1,1,1,1,1,1,1,1,3,1,1,1,1,1,1,1,1,1,1,2,5,7,1,2,2,1,9,3,1,1,44,1,1,1,34,1,2,3,3,1,1,1,2,1,1,6,1,4,15,1,3,2,1,2,90,14,16,6,3,1,1,1,3,1,6,1,1,3,1,5,1,1,2,150,6,1,1,1,6,1,2,1,72,6,1,1,2,1,1,5,1,24,1,2,1,24,1,1,1,1,6,1,1,1,2,1,1,1,2,5,51,1,1,1,1,1,3,1,2,1,1,1,1,2,1,1,15,1,2,5,18,9,1,4,5,10,1,1,1,2,1,2,3,3,1,1,3,6,1,10,26,1,7,1,1,1,2,1,5,1,1,1,1,6,3,1,2,1,3,4,3,1,1,2,2,3,2,1,1,1,2,1,1,5,1,1,2,2,8,1,1,3,1,11,1,1,2,3,1,1,5,3,1,2,1,1,1,1,1,3,1,1,1,1,1,3,2,2,8,6,19,1,1,2,3,1,1,1,1,1,6,1,1,1,1,1,21,3,1,14,1,1,1,2,1,1,1,2,72,1,1,13,13,2,1,3,15,2,1,1,32,2,7,3,94,1,1,4,1,1,6,9,1,2,1,1,1,7,1,1,1,9,3,1,2,38,1,1,4,32,2,2,1,43,1,6,1,1,1,1,6,1,1,1,1,1,157,1,1,1,13,1,38,1,1,1,1,1,2,4],\"xaxis\":\"x\",\"y\":[88.0,75.0,40.0,68.0,46.0,6.0,20.0,0.0,50.0,10.0,4.0,32.0,15.0,40.0,10.0,80.0,70.0,50.0,20.0,65.0,45.0,96.0,9.5,82.0,30.0,45.0,146.0,27.0,20.0,21.5,62.5,150.0,90.0,0.0,65.0,40.0,0.0,0.0,75.0,10.0,38.0,35.0,20.0,26.0,6.0,42.0,33.0,28.0,34.0,40.0,90.0,15.0,30.0,100.0,39.0,45.0,50.0,90.0,20.0,27.0,0.0,12.0,40.0,43.5,20.0,20.0,48.0,150.0,10.0,0.0,2.0,8.0,10.0,20.0,10.0,55.0,32.0,40.0,0.0,56.0,60.0,150.0,70.0,240.0,0.0,6.0,39.0,5.0,65.0,43.0,45.0,93.0,25.0,22.5,2.5,35.0,18.0,1.0,90.0,80.0,80.0,15.0,10.0,55.0,50.0,25.0,48.0,190.0,33.0,45.0,75.0,16.0,85.0,46.0,40.0,60.0,15.0,75.0,0.0,96.0,97.5,42.0,98.0,25.0,30.0,17.0,50.0,50.0,17.0,75.0,120.0,144.0,143.0,5.0,65.0,0.0,110.0,36.0,90.0,12.0,130.0,120.0,130.0,98.0,145.0,80.0,17.5,40.0,36.0,115.0,80.0,41.0,45.0,80.0,45.0,96.0,7.0,30.0,70.0,16.0,4.0,70.0,110.0,123.0,64.0,98.0,40.0,10.0,2.0,20.0,10.0,20.0,0.0,0.0,10.0,72.0,110.0,60.0,17.5,35.0,96.0,90.0,99.0,98.0,94.0,94.0,67.0,32.0,45.0,60.0,22.0,30.0,40.0,40.0,9.0,40.0,23.0,12.0,19.0,20.5,60.0,2.0,26.0,40.0,36.0,91.5,7.5,50.0,98.0,80.0,27.5,10.0,60.0,75.0,60.0,18.5,134.0,10.0,18.0,40.0,40.0,60.0,165.0,165.0,80.0,18.0,22.0,24.0,3.0,50.0,17.5,90.0,55.5,15.0,16.0,7.0,150.0,70.0,40.0,135.0,80.0,50.0,60.0,38.0,102.0,60.0,22.0,103.5,85.0,225.0,22.0,176.0,10.0,68.0,48.0,175.0,122.0,12.0,300.0,75.0,80.0,16.0,12.0,4.0,17.0,220.0,35.0,8.0,15.0,225.0,90.0,15.0,100.0,84.0,3.0,87.0,35.0,16.0,150.0,18.0,38.0,43.0,50.0,110.0,130.0,20.0,2.0,0.0,4.0,6.0,20.0,50.0,130.0,54.0,41.0,81.0,50.0,10.0,40.0,22.0,23.0,42.0,57.5,90.0,85.0,65.0,65.0,15.0,30.0,85.0,43.5,15.0,90.0,31.5,47.5,25.0,70.0,35.0,45.0,80.0,53.0,16.0,17.0,10.0,0.0,16.0,10.0,25.0,20.0,10.0,77.5,70.0,75.0,170.0,20.0,58.0,80.0,45.0,20.0,0.0,54.0,70.0,12.0,17.5,250.0,70.0,45.0,70.0,140.0,22.0,48.0,35.0,42.5,40.0,48.0,48.0,60.0,84.0,99.0,215.0,60.0,13.5,1.0,42.0,160.0,113.0,50.0,20.0,60.0,40.0,60.0,60.0,1.0,95.0,12.0,245.0,20.0,25.0,45.0,22.0,17.5,10.0,0.0,0.0,30.0,24.5,36.0,19.0,20.0,43.0,37.5,15.0,18.5,0.0,40.0,28.0,23.5,80.0,32.5,85.0,25.0,28.0,0.0,90.0,3.5,266.0,33.5,30.0,6.0,36.0,20.0,40.0,10.0,38.0,24.0,24.0,0.0,24.0,16.0,20.0,46.0,0.0,20.0,42.0,16.0,50.0,125.0,45.0,10.0,95.0,63.0,139.0,128.0,35.0,98.0,120.0,100.0,121.5,20.0,95.0,136.0,96.0,120.0,72.5,125.0,121.0,60.0,32.0,90.0,92.0,98.0,135.0,20.0,89.0,200.0,60.0,250.0,160.0,124.0,100.0,85.0,30.0,0.0,180.0,50.0,100.0,54.0,170.0,25.0,48.0,55.0,96.0,49.0,21.0,3.0,65.0,103.5,10.0,16.0,24.0,18.0,145.0,80.0,98.0,80.0,8.0,48.0,12.0,200.0,82.0,35.0,70.0,150.0,41.0,42.0,50.0,0.0,10.0,0.0,280.0,215.0,80.0,120.0,35.0,49.0,6.0,4.0,22.0,6.0,5.0,10.0,20.0,20.0,6.0,47.5,48.0,8.0,99.0,83.5,6.0,200.0,23.0,50.0,12.0,75.0,70.0,200.0,18.0,90.0,180.0,0.0,90.0,96.0,40.0,160.0,99.0,45.0,25.0,24.0,120.0,130.0,97.5,46.5,63.0,30.0,47.0,40.0,16.5,11.0,40.0,100.0,150.0,49.5,306.0,149.0,80.0,20.0,17.0,32.0,70.0,85.0,11.0,50.0,50.0,60.0,25.0,48.0,25.0,48.0,98.0,99.0,282.0,2.0,300.0,155.0,105.0,104.0],\"yaxis\":\"y\",\"type\":\"scatter\"},{\"alignmentgroup\":\"True\",\"bingroup\":\"x\",\"hovertemplate\":\"count=%{y}<extra></extra>\",\"legendgroup\":\"\",\"marker\":{\"color\":\"#636efa\"},\"name\":\"\",\"offsetgroup\":\"\",\"opacity\":0.5,\"showlegend\":false,\"x\":[1,1,1,3,1,1,3,1,4,25,1,3,5,1,6,1,1,1,3,1,1,1,4,1,5,155,1,7,3,2,2,1,1,1,1,5,1,2,4,1,2,1,1,4,1,30,1,1,1,1,2,34,3,1,2,1,1,1,1,3,1,2,1,2,1,1,1,1,5,2,2,1,1,1,7,6,15,1,1,19,1,1,1,3,1,1,1,1,1,1,1,2,1,2,12,1,2,1,1,1,1,3,1,2,1,9,1,1,8,137,7,5,1,1,1,11,1,10,1,1,2,1,1,2,9,12,1,6,1,6,1,1,1,1,1,1,10,1,1,1,4,1,4,1,3,1,6,1,5,6,3,1,1,1,7,10,1,49,1,90,1,2,2,2,5,2,1,1,1,2,1,1,1,1,1,2,4,1,2,1,25,9,2,3,2,2,3,1,1,1,1,1,1,1,1,1,1,1,1,2,11,1,2,1,3,6,2,3,1,1,2,1,1,1,1,2,4,1,1,5,1,1,1,6,3,2,2,3,1,1,2,1,4,1,1,1,1,1,9,2,1,1,3,1,1,16,3,6,2,1,1,1,1,1,1,1,1,1,1,1,1,1,1,1,1,3,1,1,1,1,1,1,1,1,1,1,2,5,7,1,2,2,1,9,3,1,1,44,1,1,1,34,1,2,3,3,1,1,1,2,1,1,6,1,4,15,1,3,2,1,2,90,14,16,6,3,1,1,1,3,1,6,1,1,3,1,5,1,1,2,150,6,1,1,1,6,1,2,1,72,6,1,1,2,1,1,5,1,24,1,2,1,24,1,1,1,1,6,1,1,1,2,1,1,1,2,5,51,1,1,1,1,1,3,1,2,1,1,1,1,2,1,1,15,1,2,5,18,9,1,4,5,10,1,1,1,2,1,2,3,3,1,1,3,6,1,10,26,1,7,1,1,1,2,1,5,1,1,1,1,6,3,1,2,1,3,4,3,1,1,2,2,3,2,1,1,1,2,1,1,5,1,1,2,2,8,1,1,3,1,11,1,1,2,3,1,1,5,3,1,2,1,1,1,1,1,3,1,1,1,1,1,3,2,2,8,6,19,1,1,2,3,1,1,1,1,1,6,1,1,1,1,1,21,3,1,14,1,1,1,2,1,1,1,2,72,1,1,13,13,2,1,3,15,2,1,1,32,2,7,3,94,1,1,4,1,1,6,9,1,2,1,1,1,7,1,1,1,9,3,1,2,38,1,1,4,32,2,2,1,43,1,6,1,1,1,1,6,1,1,1,1,1,157,1,1,1,13,1,38,1,1,1,1,1,2,4],\"xaxis\":\"x3\",\"yaxis\":\"y3\",\"type\":\"histogram\"},{\"alignmentgroup\":\"True\",\"bingroup\":\"y\",\"hovertemplate\":\"median=%{y}<br>count=%{x}<extra></extra>\",\"legendgroup\":\"\",\"marker\":{\"color\":\"#636efa\"},\"name\":\"\",\"offsetgroup\":\"\",\"opacity\":0.5,\"showlegend\":false,\"xaxis\":\"x2\",\"y\":[88.0,75.0,40.0,68.0,46.0,6.0,20.0,0.0,50.0,10.0,4.0,32.0,15.0,40.0,10.0,80.0,70.0,50.0,20.0,65.0,45.0,96.0,9.5,82.0,30.0,45.0,146.0,27.0,20.0,21.5,62.5,150.0,90.0,0.0,65.0,40.0,0.0,0.0,75.0,10.0,38.0,35.0,20.0,26.0,6.0,42.0,33.0,28.0,34.0,40.0,90.0,15.0,30.0,100.0,39.0,45.0,50.0,90.0,20.0,27.0,0.0,12.0,40.0,43.5,20.0,20.0,48.0,150.0,10.0,0.0,2.0,8.0,10.0,20.0,10.0,55.0,32.0,40.0,0.0,56.0,60.0,150.0,70.0,240.0,0.0,6.0,39.0,5.0,65.0,43.0,45.0,93.0,25.0,22.5,2.5,35.0,18.0,1.0,90.0,80.0,80.0,15.0,10.0,55.0,50.0,25.0,48.0,190.0,33.0,45.0,75.0,16.0,85.0,46.0,40.0,60.0,15.0,75.0,0.0,96.0,97.5,42.0,98.0,25.0,30.0,17.0,50.0,50.0,17.0,75.0,120.0,144.0,143.0,5.0,65.0,0.0,110.0,36.0,90.0,12.0,130.0,120.0,130.0,98.0,145.0,80.0,17.5,40.0,36.0,115.0,80.0,41.0,45.0,80.0,45.0,96.0,7.0,30.0,70.0,16.0,4.0,70.0,110.0,123.0,64.0,98.0,40.0,10.0,2.0,20.0,10.0,20.0,0.0,0.0,10.0,72.0,110.0,60.0,17.5,35.0,96.0,90.0,99.0,98.0,94.0,94.0,67.0,32.0,45.0,60.0,22.0,30.0,40.0,40.0,9.0,40.0,23.0,12.0,19.0,20.5,60.0,2.0,26.0,40.0,36.0,91.5,7.5,50.0,98.0,80.0,27.5,10.0,60.0,75.0,60.0,18.5,134.0,10.0,18.0,40.0,40.0,60.0,165.0,165.0,80.0,18.0,22.0,24.0,3.0,50.0,17.5,90.0,55.5,15.0,16.0,7.0,150.0,70.0,40.0,135.0,80.0,50.0,60.0,38.0,102.0,60.0,22.0,103.5,85.0,225.0,22.0,176.0,10.0,68.0,48.0,175.0,122.0,12.0,300.0,75.0,80.0,16.0,12.0,4.0,17.0,220.0,35.0,8.0,15.0,225.0,90.0,15.0,100.0,84.0,3.0,87.0,35.0,16.0,150.0,18.0,38.0,43.0,50.0,110.0,130.0,20.0,2.0,0.0,4.0,6.0,20.0,50.0,130.0,54.0,41.0,81.0,50.0,10.0,40.0,22.0,23.0,42.0,57.5,90.0,85.0,65.0,65.0,15.0,30.0,85.0,43.5,15.0,90.0,31.5,47.5,25.0,70.0,35.0,45.0,80.0,53.0,16.0,17.0,10.0,0.0,16.0,10.0,25.0,20.0,10.0,77.5,70.0,75.0,170.0,20.0,58.0,80.0,45.0,20.0,0.0,54.0,70.0,12.0,17.5,250.0,70.0,45.0,70.0,140.0,22.0,48.0,35.0,42.5,40.0,48.0,48.0,60.0,84.0,99.0,215.0,60.0,13.5,1.0,42.0,160.0,113.0,50.0,20.0,60.0,40.0,60.0,60.0,1.0,95.0,12.0,245.0,20.0,25.0,45.0,22.0,17.5,10.0,0.0,0.0,30.0,24.5,36.0,19.0,20.0,43.0,37.5,15.0,18.5,0.0,40.0,28.0,23.5,80.0,32.5,85.0,25.0,28.0,0.0,90.0,3.5,266.0,33.5,30.0,6.0,36.0,20.0,40.0,10.0,38.0,24.0,24.0,0.0,24.0,16.0,20.0,46.0,0.0,20.0,42.0,16.0,50.0,125.0,45.0,10.0,95.0,63.0,139.0,128.0,35.0,98.0,120.0,100.0,121.5,20.0,95.0,136.0,96.0,120.0,72.5,125.0,121.0,60.0,32.0,90.0,92.0,98.0,135.0,20.0,89.0,200.0,60.0,250.0,160.0,124.0,100.0,85.0,30.0,0.0,180.0,50.0,100.0,54.0,170.0,25.0,48.0,55.0,96.0,49.0,21.0,3.0,65.0,103.5,10.0,16.0,24.0,18.0,145.0,80.0,98.0,80.0,8.0,48.0,12.0,200.0,82.0,35.0,70.0,150.0,41.0,42.0,50.0,0.0,10.0,0.0,280.0,215.0,80.0,120.0,35.0,49.0,6.0,4.0,22.0,6.0,5.0,10.0,20.0,20.0,6.0,47.5,48.0,8.0,99.0,83.5,6.0,200.0,23.0,50.0,12.0,75.0,70.0,200.0,18.0,90.0,180.0,0.0,90.0,96.0,40.0,160.0,99.0,45.0,25.0,24.0,120.0,130.0,97.5,46.5,63.0,30.0,47.0,40.0,16.5,11.0,40.0,100.0,150.0,49.5,306.0,149.0,80.0,20.0,17.0,32.0,70.0,85.0,11.0,50.0,50.0,60.0,25.0,48.0,25.0,48.0,98.0,99.0,282.0,2.0,300.0,155.0,105.0,104.0],\"yaxis\":\"y2\",\"type\":\"histogram\"}],                        {\"template\":{\"data\":{\"bar\":[{\"error_x\":{\"color\":\"#2a3f5f\"},\"error_y\":{\"color\":\"#2a3f5f\"},\"marker\":{\"line\":{\"color\":\"#E5ECF6\",\"width\":0.5},\"pattern\":{\"fillmode\":\"overlay\",\"size\":10,\"solidity\":0.2}},\"type\":\"bar\"}],\"barpolar\":[{\"marker\":{\"line\":{\"color\":\"#E5ECF6\",\"width\":0.5},\"pattern\":{\"fillmode\":\"overlay\",\"size\":10,\"solidity\":0.2}},\"type\":\"barpolar\"}],\"carpet\":[{\"aaxis\":{\"endlinecolor\":\"#2a3f5f\",\"gridcolor\":\"white\",\"linecolor\":\"white\",\"minorgridcolor\":\"white\",\"startlinecolor\":\"#2a3f5f\"},\"baxis\":{\"endlinecolor\":\"#2a3f5f\",\"gridcolor\":\"white\",\"linecolor\":\"white\",\"minorgridcolor\":\"white\",\"startlinecolor\":\"#2a3f5f\"},\"type\":\"carpet\"}],\"choropleth\":[{\"colorbar\":{\"outlinewidth\":0,\"ticks\":\"\"},\"type\":\"choropleth\"}],\"contour\":[{\"colorbar\":{\"outlinewidth\":0,\"ticks\":\"\"},\"colorscale\":[[0.0,\"#0d0887\"],[0.1111111111111111,\"#46039f\"],[0.2222222222222222,\"#7201a8\"],[0.3333333333333333,\"#9c179e\"],[0.4444444444444444,\"#bd3786\"],[0.5555555555555556,\"#d8576b\"],[0.6666666666666666,\"#ed7953\"],[0.7777777777777778,\"#fb9f3a\"],[0.8888888888888888,\"#fdca26\"],[1.0,\"#f0f921\"]],\"type\":\"contour\"}],\"contourcarpet\":[{\"colorbar\":{\"outlinewidth\":0,\"ticks\":\"\"},\"type\":\"contourcarpet\"}],\"heatmap\":[{\"colorbar\":{\"outlinewidth\":0,\"ticks\":\"\"},\"colorscale\":[[0.0,\"#0d0887\"],[0.1111111111111111,\"#46039f\"],[0.2222222222222222,\"#7201a8\"],[0.3333333333333333,\"#9c179e\"],[0.4444444444444444,\"#bd3786\"],[0.5555555555555556,\"#d8576b\"],[0.6666666666666666,\"#ed7953\"],[0.7777777777777778,\"#fb9f3a\"],[0.8888888888888888,\"#fdca26\"],[1.0,\"#f0f921\"]],\"type\":\"heatmap\"}],\"heatmapgl\":[{\"colorbar\":{\"outlinewidth\":0,\"ticks\":\"\"},\"colorscale\":[[0.0,\"#0d0887\"],[0.1111111111111111,\"#46039f\"],[0.2222222222222222,\"#7201a8\"],[0.3333333333333333,\"#9c179e\"],[0.4444444444444444,\"#bd3786\"],[0.5555555555555556,\"#d8576b\"],[0.6666666666666666,\"#ed7953\"],[0.7777777777777778,\"#fb9f3a\"],[0.8888888888888888,\"#fdca26\"],[1.0,\"#f0f921\"]],\"type\":\"heatmapgl\"}],\"histogram\":[{\"marker\":{\"pattern\":{\"fillmode\":\"overlay\",\"size\":10,\"solidity\":0.2}},\"type\":\"histogram\"}],\"histogram2d\":[{\"colorbar\":{\"outlinewidth\":0,\"ticks\":\"\"},\"colorscale\":[[0.0,\"#0d0887\"],[0.1111111111111111,\"#46039f\"],[0.2222222222222222,\"#7201a8\"],[0.3333333333333333,\"#9c179e\"],[0.4444444444444444,\"#bd3786\"],[0.5555555555555556,\"#d8576b\"],[0.6666666666666666,\"#ed7953\"],[0.7777777777777778,\"#fb9f3a\"],[0.8888888888888888,\"#fdca26\"],[1.0,\"#f0f921\"]],\"type\":\"histogram2d\"}],\"histogram2dcontour\":[{\"colorbar\":{\"outlinewidth\":0,\"ticks\":\"\"},\"colorscale\":[[0.0,\"#0d0887\"],[0.1111111111111111,\"#46039f\"],[0.2222222222222222,\"#7201a8\"],[0.3333333333333333,\"#9c179e\"],[0.4444444444444444,\"#bd3786\"],[0.5555555555555556,\"#d8576b\"],[0.6666666666666666,\"#ed7953\"],[0.7777777777777778,\"#fb9f3a\"],[0.8888888888888888,\"#fdca26\"],[1.0,\"#f0f921\"]],\"type\":\"histogram2dcontour\"}],\"mesh3d\":[{\"colorbar\":{\"outlinewidth\":0,\"ticks\":\"\"},\"type\":\"mesh3d\"}],\"parcoords\":[{\"line\":{\"colorbar\":{\"outlinewidth\":0,\"ticks\":\"\"}},\"type\":\"parcoords\"}],\"pie\":[{\"automargin\":true,\"type\":\"pie\"}],\"scatter\":[{\"marker\":{\"colorbar\":{\"outlinewidth\":0,\"ticks\":\"\"}},\"type\":\"scatter\"}],\"scatter3d\":[{\"line\":{\"colorbar\":{\"outlinewidth\":0,\"ticks\":\"\"}},\"marker\":{\"colorbar\":{\"outlinewidth\":0,\"ticks\":\"\"}},\"type\":\"scatter3d\"}],\"scattercarpet\":[{\"marker\":{\"colorbar\":{\"outlinewidth\":0,\"ticks\":\"\"}},\"type\":\"scattercarpet\"}],\"scattergeo\":[{\"marker\":{\"colorbar\":{\"outlinewidth\":0,\"ticks\":\"\"}},\"type\":\"scattergeo\"}],\"scattergl\":[{\"marker\":{\"colorbar\":{\"outlinewidth\":0,\"ticks\":\"\"}},\"type\":\"scattergl\"}],\"scattermapbox\":[{\"marker\":{\"colorbar\":{\"outlinewidth\":0,\"ticks\":\"\"}},\"type\":\"scattermapbox\"}],\"scatterpolar\":[{\"marker\":{\"colorbar\":{\"outlinewidth\":0,\"ticks\":\"\"}},\"type\":\"scatterpolar\"}],\"scatterpolargl\":[{\"marker\":{\"colorbar\":{\"outlinewidth\":0,\"ticks\":\"\"}},\"type\":\"scatterpolargl\"}],\"scatterternary\":[{\"marker\":{\"colorbar\":{\"outlinewidth\":0,\"ticks\":\"\"}},\"type\":\"scatterternary\"}],\"surface\":[{\"colorbar\":{\"outlinewidth\":0,\"ticks\":\"\"},\"colorscale\":[[0.0,\"#0d0887\"],[0.1111111111111111,\"#46039f\"],[0.2222222222222222,\"#7201a8\"],[0.3333333333333333,\"#9c179e\"],[0.4444444444444444,\"#bd3786\"],[0.5555555555555556,\"#d8576b\"],[0.6666666666666666,\"#ed7953\"],[0.7777777777777778,\"#fb9f3a\"],[0.8888888888888888,\"#fdca26\"],[1.0,\"#f0f921\"]],\"type\":\"surface\"}],\"table\":[{\"cells\":{\"fill\":{\"color\":\"#EBF0F8\"},\"line\":{\"color\":\"white\"}},\"header\":{\"fill\":{\"color\":\"#C8D4E3\"},\"line\":{\"color\":\"white\"}},\"type\":\"table\"}]},\"layout\":{\"annotationdefaults\":{\"arrowcolor\":\"#2a3f5f\",\"arrowhead\":0,\"arrowwidth\":1},\"autotypenumbers\":\"strict\",\"coloraxis\":{\"colorbar\":{\"outlinewidth\":0,\"ticks\":\"\"}},\"colorscale\":{\"diverging\":[[0,\"#8e0152\"],[0.1,\"#c51b7d\"],[0.2,\"#de77ae\"],[0.3,\"#f1b6da\"],[0.4,\"#fde0ef\"],[0.5,\"#f7f7f7\"],[0.6,\"#e6f5d0\"],[0.7,\"#b8e186\"],[0.8,\"#7fbc41\"],[0.9,\"#4d9221\"],[1,\"#276419\"]],\"sequential\":[[0.0,\"#0d0887\"],[0.1111111111111111,\"#46039f\"],[0.2222222222222222,\"#7201a8\"],[0.3333333333333333,\"#9c179e\"],[0.4444444444444444,\"#bd3786\"],[0.5555555555555556,\"#d8576b\"],[0.6666666666666666,\"#ed7953\"],[0.7777777777777778,\"#fb9f3a\"],[0.8888888888888888,\"#fdca26\"],[1.0,\"#f0f921\"]],\"sequentialminus\":[[0.0,\"#0d0887\"],[0.1111111111111111,\"#46039f\"],[0.2222222222222222,\"#7201a8\"],[0.3333333333333333,\"#9c179e\"],[0.4444444444444444,\"#bd3786\"],[0.5555555555555556,\"#d8576b\"],[0.6666666666666666,\"#ed7953\"],[0.7777777777777778,\"#fb9f3a\"],[0.8888888888888888,\"#fdca26\"],[1.0,\"#f0f921\"]]},\"colorway\":[\"#636efa\",\"#EF553B\",\"#00cc96\",\"#ab63fa\",\"#FFA15A\",\"#19d3f3\",\"#FF6692\",\"#B6E880\",\"#FF97FF\",\"#FECB52\"],\"font\":{\"color\":\"#2a3f5f\"},\"geo\":{\"bgcolor\":\"white\",\"lakecolor\":\"white\",\"landcolor\":\"#E5ECF6\",\"showlakes\":true,\"showland\":true,\"subunitcolor\":\"white\"},\"hoverlabel\":{\"align\":\"left\"},\"hovermode\":\"closest\",\"mapbox\":{\"style\":\"light\"},\"paper_bgcolor\":\"white\",\"plot_bgcolor\":\"#E5ECF6\",\"polar\":{\"angularaxis\":{\"gridcolor\":\"white\",\"linecolor\":\"white\",\"ticks\":\"\"},\"bgcolor\":\"#E5ECF6\",\"radialaxis\":{\"gridcolor\":\"white\",\"linecolor\":\"white\",\"ticks\":\"\"}},\"scene\":{\"xaxis\":{\"backgroundcolor\":\"#E5ECF6\",\"gridcolor\":\"white\",\"gridwidth\":2,\"linecolor\":\"white\",\"showbackground\":true,\"ticks\":\"\",\"zerolinecolor\":\"white\"},\"yaxis\":{\"backgroundcolor\":\"#E5ECF6\",\"gridcolor\":\"white\",\"gridwidth\":2,\"linecolor\":\"white\",\"showbackground\":true,\"ticks\":\"\",\"zerolinecolor\":\"white\"},\"zaxis\":{\"backgroundcolor\":\"#E5ECF6\",\"gridcolor\":\"white\",\"gridwidth\":2,\"linecolor\":\"white\",\"showbackground\":true,\"ticks\":\"\",\"zerolinecolor\":\"white\"}},\"shapedefaults\":{\"line\":{\"color\":\"#2a3f5f\"}},\"ternary\":{\"aaxis\":{\"gridcolor\":\"white\",\"linecolor\":\"white\",\"ticks\":\"\"},\"baxis\":{\"gridcolor\":\"white\",\"linecolor\":\"white\",\"ticks\":\"\"},\"bgcolor\":\"#E5ECF6\",\"caxis\":{\"gridcolor\":\"white\",\"linecolor\":\"white\",\"ticks\":\"\"}},\"title\":{\"x\":0.05},\"xaxis\":{\"automargin\":true,\"gridcolor\":\"white\",\"linecolor\":\"white\",\"ticks\":\"\",\"title\":{\"standoff\":15},\"zerolinecolor\":\"white\",\"zerolinewidth\":2},\"yaxis\":{\"automargin\":true,\"gridcolor\":\"white\",\"linecolor\":\"white\",\"ticks\":\"\",\"title\":{\"standoff\":15},\"zerolinecolor\":\"white\",\"zerolinewidth\":2}}},\"xaxis\":{\"anchor\":\"y\",\"domain\":[0.0,0.7363],\"title\":{\"text\":\"\\u041a\\u043e\\u043b-\\u0432\\u043e \\u0437\\u0430\\u0432\\u0435\\u0434\\u0435\\u043d\\u0438\\u0439\"}},\"yaxis\":{\"anchor\":\"x\",\"domain\":[0.0,0.7326],\"title\":{\"text\":\"\\u041c\\u0435\\u0434\\u0438\\u0430\\u043d\\u0430 \\u043f\\u043e\\u0441\\u0430\\u0434\\u043e\\u0447\\u043d\\u044b\\u0445 \\u043c\\u0435\\u0441\\u0442\"}},\"xaxis2\":{\"anchor\":\"y2\",\"domain\":[0.7413,1.0],\"matches\":\"x2\",\"showticklabels\":false,\"showline\":false,\"ticks\":\"\",\"showgrid\":true},\"yaxis2\":{\"anchor\":\"x2\",\"domain\":[0.0,0.7326],\"matches\":\"y\",\"showticklabels\":false,\"showgrid\":true},\"xaxis3\":{\"anchor\":\"y3\",\"domain\":[0.0,0.7363],\"matches\":\"x\",\"showticklabels\":false,\"showgrid\":true},\"yaxis3\":{\"anchor\":\"x3\",\"domain\":[0.7426,1.0],\"matches\":\"y3\",\"showticklabels\":false,\"showline\":false,\"ticks\":\"\",\"showgrid\":true},\"xaxis4\":{\"anchor\":\"y4\",\"domain\":[0.7413,1.0],\"matches\":\"x2\",\"showticklabels\":false,\"showgrid\":true,\"showline\":false,\"ticks\":\"\"},\"yaxis4\":{\"anchor\":\"x4\",\"domain\":[0.7426,1.0],\"matches\":\"y3\",\"showticklabels\":false,\"showline\":false,\"ticks\":\"\",\"showgrid\":true},\"legend\":{\"tracegroupgap\":0},\"margin\":{\"t\":50,\"r\":0,\"l\":0,\"b\":0},\"barmode\":\"overlay\",\"title\":{\"font\":{\"size\":18,\"color\":\"black\"},\"text\":\"<b>\\u0420\\u0430\\u0441\\u043f\\u0440\\u0435\\u0434\\u0435\\u043b\\u0435\\u043d\\u0438\\u0435 \\u0437\\u0430\\u0432\\u0435\\u0434\\u0435\\u043d\\u0438\\u0439 \\u043f\\u043e \\u043a\\u043e\\u043b\\u0438\\u0447\\u0435\\u0441\\u0442\\u0432\\u0443 \\u043e\\u0431\\u044a\\u0435\\u043a\\u0442\\u043e\\u0432 \\u0441\\u0435\\u0442\\u0438 \\u0438 \\u043a\\u043e\\u043b\\u0438\\u0447\\u0435\\u0441\\u0442\\u0432\\u0443 \\u043f\\u043e\\u0441\\u0430\\u0434\\u043e\\u0447\\u043d\\u044b\\u0445 \\u043c\\u0435\\u0441\\u0442</b>\",\"xanchor\":\"center\",\"x\":0.5},\"width\":950,\"height\":600},                        {\"responsive\": true}                    ).then(function(){\n",
       "                            \n",
       "var gd = document.getElementById('35710908-c7d8-453e-8071-ab7dc7c1aed6');\n",
       "var x = new MutationObserver(function (mutations, observer) {{\n",
       "        var display = window.getComputedStyle(gd).display;\n",
       "        if (!display || display === 'none') {{\n",
       "            console.log([gd, 'removed!']);\n",
       "            Plotly.purge(gd);\n",
       "            observer.disconnect();\n",
       "        }}\n",
       "}});\n",
       "\n",
       "// Listen for the removal of the full notebook cells\n",
       "var notebookContainer = gd.closest('#notebook-container');\n",
       "if (notebookContainer) {{\n",
       "    x.observe(notebookContainer, {childList: true});\n",
       "}}\n",
       "\n",
       "// Listen for the clearing of the current output cell\n",
       "var outputEl = gd.closest('.output');\n",
       "if (outputEl) {{\n",
       "    x.observe(outputEl, {childList: true});\n",
       "}}\n",
       "\n",
       "                        })                };                });            </script>        </div>"
      ]
     },
     "metadata": {},
     "output_type": "display_data"
    }
   ],
   "source": [
    "only_chain = rest_data.query('chain in \"да\"') # фильтрация заведений по критерию статуса 'сетевого'\n",
    "num_seat = only_chain.groupby('object_name')['number'].agg(['count', 'median']).reset_index()\n",
    "\n",
    "display(f'Максимальное количество заведений сети : {num_seat[\"count\"].max()}',\n",
    "       f'Минимальное количество заведений сети : {num_seat[\"count\"].min()}',\n",
    "       f'Максимальное количество посадочных мест среди сетевых заведений: {only_chain[\"number\"].max()}',\n",
    "       f'Минимальное количество посадочных метс среди сетевых заведений: {only_chain[\"number\"].min()}')\n",
    "\n",
    "fig = px.scatter(num_seat, x= num_seat['count'], \n",
    "                 y=num_seat['median'], \n",
    "                 marginal_x = 'histogram',\n",
    "                 marginal_y='histogram', opacity=0.5)\n",
    "fig.update_layout(width=950, height=600,\n",
    "                 title_text = ('<b>Распределение заведений по количеству объектов сети и количеству посадочных мест</b>'),\n",
    "                 title_font_size = 18,\n",
    "                 title_font_color='black',\n",
    "                 title_xanchor='center',\n",
    "                 title_x=.5,\n",
    "                 xaxis_title = 'Кол-во заведений',\n",
    "                 yaxis_title = 'Медиана посадочных мест',\n",
    "                 margin=dict(r=0,l=0,t=50,b=0))\n",
    "fig.show()"
   ]
  },
  {
   "cell_type": "markdown",
   "id": "86ed175a",
   "metadata": {},
   "source": [
    "***Вывод***   \n",
    "Распределение объектов общественного питания по количеству заведений сети имеет выраженную правостороннюю ассиметрию, вероятно в том числе за счет наличия заведений с аномально большим количеством посадочных мест. Для получения более детализированной картины и общей тенденции имеет смысл рассмотреть подобные наблюдения как выбросы."
   ]
  },
  {
   "cell_type": "code",
   "execution_count": 23,
   "id": "cf2e3f48",
   "metadata": {},
   "outputs": [
    {
     "data": {
      "text/plain": [
       "array([ 8.4, 16.4, 90. ])"
      ]
     },
     "metadata": {},
     "output_type": "display_data"
    },
    {
     "data": {
      "text/plain": [
       "array([125.  , 160.  , 253.84])"
      ]
     },
     "metadata": {},
     "output_type": "display_data"
    },
    {
     "data": {
      "text/plain": [
       "577"
      ]
     },
     "metadata": {},
     "output_type": "display_data"
    },
    {
     "data": {
      "text/plain": [
       "520"
      ]
     },
     "metadata": {},
     "output_type": "display_data"
    },
    {
     "data": {
      "application/vnd.plotly.v1+json": {
       "config": {
        "plotlyServerURL": "https://plot.ly"
       },
       "data": [
        {
         "hovertemplate": "count=%{x}<br>median=%{y}<extra></extra>",
         "legendgroup": "",
         "marker": {
          "color": "#636efa",
          "opacity": 0.5,
          "symbol": "circle"
         },
         "mode": "markers",
         "name": "",
         "orientation": "v",
         "showlegend": false,
         "type": "scatter",
         "x": [
          1,
          1,
          1,
          3,
          1,
          1,
          3,
          1,
          4,
          1,
          3,
          5,
          1,
          6,
          1,
          1,
          1,
          3,
          1,
          1,
          1,
          4,
          1,
          5,
          1,
          7,
          3,
          2,
          2,
          1,
          1,
          1,
          1,
          5,
          1,
          2,
          4,
          1,
          2,
          1,
          1,
          4,
          1,
          1,
          1,
          1,
          1,
          2,
          3,
          1,
          2,
          1,
          1,
          1,
          1,
          3,
          1,
          2,
          1,
          2,
          1,
          1,
          1,
          1,
          5,
          2,
          2,
          1,
          1,
          1,
          7,
          6,
          15,
          1,
          1,
          1,
          1,
          1,
          1,
          1,
          1,
          1,
          1,
          1,
          1,
          2,
          1,
          2,
          12,
          1,
          2,
          1,
          1,
          1,
          1,
          3,
          1,
          2,
          1,
          9,
          1,
          8,
          7,
          5,
          1,
          1,
          1,
          11,
          1,
          10,
          1,
          1,
          2,
          1,
          1,
          2,
          9,
          12,
          1,
          6,
          1,
          6,
          1,
          1,
          1,
          1,
          1,
          1,
          10,
          1,
          1,
          1,
          4,
          1,
          4,
          1,
          3,
          1,
          6,
          1,
          5,
          6,
          3,
          1,
          1,
          1,
          7,
          10,
          1,
          1,
          1,
          2,
          2,
          2,
          5,
          2,
          1,
          1,
          1,
          2,
          1,
          1,
          1,
          1,
          1,
          2,
          4,
          1,
          2,
          1,
          9,
          2,
          3,
          2,
          2,
          3,
          1,
          1,
          1,
          1,
          1,
          1,
          1,
          1,
          1,
          1,
          1,
          1,
          2,
          11,
          1,
          2,
          1,
          3,
          6,
          2,
          3,
          1,
          1,
          2,
          1,
          1,
          1,
          1,
          2,
          4,
          1,
          1,
          5,
          1,
          1,
          3,
          2,
          2,
          3,
          1,
          1,
          2,
          1,
          4,
          1,
          1,
          1,
          1,
          1,
          9,
          2,
          1,
          1,
          3,
          1,
          1,
          16,
          3,
          6,
          2,
          1,
          1,
          1,
          1,
          1,
          1,
          1,
          1,
          1,
          1,
          1,
          1,
          1,
          1,
          1,
          1,
          1,
          1,
          1,
          1,
          1,
          2,
          5,
          7,
          1,
          2,
          2,
          1,
          9,
          3,
          1,
          1,
          1,
          1,
          1,
          1,
          2,
          3,
          3,
          1,
          1,
          1,
          2,
          1,
          1,
          6,
          1,
          4,
          15,
          1,
          3,
          2,
          1,
          2,
          14,
          16,
          6,
          3,
          1,
          1,
          1,
          3,
          1,
          6,
          1,
          1,
          3,
          1,
          5,
          1,
          1,
          2,
          6,
          1,
          1,
          6,
          1,
          2,
          1,
          6,
          1,
          1,
          2,
          1,
          5,
          1,
          1,
          2,
          1,
          1,
          1,
          1,
          1,
          6,
          1,
          1,
          2,
          1,
          1,
          1,
          2,
          5,
          1,
          1,
          1,
          1,
          1,
          3,
          1,
          1,
          1,
          1,
          1,
          2,
          1,
          1,
          15,
          1,
          2,
          5,
          9,
          1,
          4,
          5,
          10,
          1,
          1,
          1,
          2,
          1,
          2,
          3,
          3,
          1,
          1,
          3,
          6,
          10,
          1,
          7,
          1,
          1,
          1,
          2,
          1,
          5,
          1,
          1,
          1,
          1,
          6,
          3,
          1,
          2,
          1,
          3,
          4,
          3,
          1,
          1,
          2,
          2,
          3,
          2,
          1,
          1,
          1,
          2,
          1,
          1,
          5,
          1,
          1,
          2,
          2,
          8,
          1,
          1,
          3,
          1,
          11,
          1,
          1,
          2,
          1,
          5,
          3,
          1,
          2,
          1,
          1,
          1,
          1,
          3,
          1,
          1,
          1,
          1,
          3,
          2,
          2,
          8,
          6,
          1,
          1,
          2,
          3,
          1,
          1,
          1,
          1,
          1,
          6,
          1,
          1,
          1,
          1,
          3,
          1,
          14,
          1,
          1,
          1,
          1,
          1,
          2,
          1,
          1,
          13,
          13,
          2,
          1,
          3,
          15,
          2,
          1,
          1,
          2,
          7,
          1,
          1,
          4,
          1,
          6,
          9,
          2,
          1,
          1,
          1,
          7,
          1,
          1,
          1,
          9,
          3,
          1,
          2,
          1,
          1,
          4,
          2,
          2,
          1,
          1,
          6,
          1,
          1,
          1,
          6,
          1,
          1,
          1,
          1,
          1,
          1,
          1,
          1,
          13,
          1,
          1,
          1,
          1,
          2,
          4
         ],
         "xaxis": "x",
         "y": [
          88,
          75,
          40,
          68,
          46,
          6,
          20,
          0,
          50,
          4,
          32,
          15,
          40,
          10,
          80,
          70,
          50,
          20,
          65,
          45,
          96,
          9.5,
          82,
          30,
          146,
          27,
          20,
          21.5,
          62.5,
          150,
          90,
          0,
          65,
          40,
          0,
          0,
          75,
          10,
          38,
          35,
          20,
          26,
          6,
          33,
          28,
          34,
          40,
          90,
          30,
          100,
          39,
          45,
          50,
          90,
          20,
          27,
          0,
          12,
          40,
          43.5,
          20,
          20,
          48,
          150,
          10,
          0,
          2,
          8,
          10,
          20,
          10,
          55,
          32,
          40,
          0,
          60,
          150,
          70,
          0,
          6,
          39,
          5,
          65,
          43,
          45,
          93,
          25,
          22.5,
          2.5,
          35,
          18,
          1,
          90,
          80,
          80,
          15,
          10,
          55,
          50,
          25,
          48,
          33,
          75,
          16,
          85,
          46,
          40,
          60,
          15,
          75,
          0,
          96,
          97.5,
          42,
          98,
          25,
          30,
          17,
          50,
          50,
          17,
          75,
          120,
          144,
          143,
          5,
          65,
          0,
          110,
          36,
          90,
          12,
          130,
          120,
          130,
          98,
          145,
          80,
          17.5,
          40,
          36,
          115,
          80,
          41,
          45,
          80,
          45,
          96,
          7,
          70,
          4,
          70,
          110,
          123,
          64,
          98,
          40,
          10,
          2,
          20,
          10,
          20,
          0,
          0,
          10,
          72,
          110,
          60,
          17.5,
          35,
          90,
          99,
          98,
          94,
          94,
          67,
          32,
          45,
          60,
          22,
          30,
          40,
          40,
          9,
          40,
          23,
          12,
          19,
          20.5,
          60,
          2,
          26,
          40,
          36,
          91.5,
          7.5,
          50,
          98,
          80,
          27.5,
          10,
          60,
          75,
          60,
          18.5,
          134,
          10,
          18,
          40,
          40,
          60,
          80,
          18,
          22,
          24,
          3,
          50,
          17.5,
          90,
          55.5,
          15,
          16,
          7,
          150,
          70,
          40,
          135,
          80,
          50,
          60,
          38,
          102,
          60,
          22,
          103.5,
          85,
          22,
          10,
          68,
          48,
          122,
          12,
          75,
          80,
          16,
          12,
          4,
          17,
          35,
          8,
          15,
          90,
          15,
          100,
          84,
          3,
          87,
          35,
          16,
          150,
          18,
          38,
          43,
          50,
          110,
          130,
          20,
          2,
          4,
          6,
          20,
          130,
          54,
          41,
          81,
          50,
          10,
          40,
          22,
          23,
          42,
          57.5,
          90,
          85,
          65,
          65,
          15,
          30,
          85,
          43.5,
          90,
          31.5,
          47.5,
          25,
          70,
          35,
          45,
          80,
          53,
          16,
          17,
          10,
          0,
          16,
          10,
          25,
          20,
          10,
          70,
          75,
          20,
          58,
          80,
          45,
          20,
          54,
          70,
          12,
          17.5,
          70,
          45,
          70,
          22,
          48,
          35,
          40,
          48,
          48,
          60,
          84,
          99,
          60,
          13.5,
          1,
          42,
          160,
          113,
          50,
          60,
          40,
          60,
          60,
          1,
          95,
          12,
          20,
          25,
          45,
          22,
          17.5,
          10,
          0,
          0,
          30,
          24.5,
          36,
          20,
          43,
          37.5,
          15,
          18.5,
          0,
          40,
          28,
          23.5,
          80,
          32.5,
          85,
          25,
          28,
          0,
          90,
          3.5,
          33.5,
          6,
          36,
          20,
          40,
          10,
          38,
          24,
          24,
          0,
          24,
          16,
          20,
          46,
          0,
          20,
          42,
          16,
          50,
          125,
          45,
          10,
          95,
          63,
          139,
          128,
          35,
          98,
          120,
          100,
          121.5,
          20,
          95,
          136,
          96,
          120,
          72.5,
          125,
          121,
          60,
          32,
          90,
          92,
          98,
          135,
          20,
          89,
          60,
          160,
          124,
          100,
          85,
          30,
          0,
          50,
          100,
          54,
          25,
          48,
          55,
          96,
          49,
          21,
          3,
          65,
          103.5,
          16,
          24,
          18,
          145,
          80,
          98,
          80,
          8,
          48,
          12,
          82,
          35,
          70,
          150,
          42,
          50,
          0,
          10,
          0,
          80,
          120,
          35,
          49,
          4,
          22,
          6,
          5,
          10,
          20,
          20,
          6,
          47.5,
          48,
          8,
          83.5,
          6,
          50,
          12,
          75,
          70,
          18,
          90,
          0,
          90,
          96,
          40,
          160,
          99,
          45,
          25,
          24,
          120,
          130,
          97.5,
          63,
          30,
          47,
          16.5,
          11,
          40,
          150,
          49.5,
          149,
          80,
          20,
          17,
          32,
          70,
          85,
          11,
          50,
          60,
          25,
          48,
          25,
          48,
          99,
          2,
          155,
          105,
          104
         ],
         "yaxis": "y"
        },
        {
         "alignmentgroup": "True",
         "hovertemplate": "count=%{x}<extra></extra>",
         "legendgroup": "",
         "marker": {
          "color": "#636efa",
          "symbol": "circle"
         },
         "name": "",
         "notched": true,
         "offsetgroup": "",
         "showlegend": false,
         "type": "box",
         "x": [
          1,
          1,
          1,
          3,
          1,
          1,
          3,
          1,
          4,
          1,
          3,
          5,
          1,
          6,
          1,
          1,
          1,
          3,
          1,
          1,
          1,
          4,
          1,
          5,
          1,
          7,
          3,
          2,
          2,
          1,
          1,
          1,
          1,
          5,
          1,
          2,
          4,
          1,
          2,
          1,
          1,
          4,
          1,
          1,
          1,
          1,
          1,
          2,
          3,
          1,
          2,
          1,
          1,
          1,
          1,
          3,
          1,
          2,
          1,
          2,
          1,
          1,
          1,
          1,
          5,
          2,
          2,
          1,
          1,
          1,
          7,
          6,
          15,
          1,
          1,
          1,
          1,
          1,
          1,
          1,
          1,
          1,
          1,
          1,
          1,
          2,
          1,
          2,
          12,
          1,
          2,
          1,
          1,
          1,
          1,
          3,
          1,
          2,
          1,
          9,
          1,
          8,
          7,
          5,
          1,
          1,
          1,
          11,
          1,
          10,
          1,
          1,
          2,
          1,
          1,
          2,
          9,
          12,
          1,
          6,
          1,
          6,
          1,
          1,
          1,
          1,
          1,
          1,
          10,
          1,
          1,
          1,
          4,
          1,
          4,
          1,
          3,
          1,
          6,
          1,
          5,
          6,
          3,
          1,
          1,
          1,
          7,
          10,
          1,
          1,
          1,
          2,
          2,
          2,
          5,
          2,
          1,
          1,
          1,
          2,
          1,
          1,
          1,
          1,
          1,
          2,
          4,
          1,
          2,
          1,
          9,
          2,
          3,
          2,
          2,
          3,
          1,
          1,
          1,
          1,
          1,
          1,
          1,
          1,
          1,
          1,
          1,
          1,
          2,
          11,
          1,
          2,
          1,
          3,
          6,
          2,
          3,
          1,
          1,
          2,
          1,
          1,
          1,
          1,
          2,
          4,
          1,
          1,
          5,
          1,
          1,
          3,
          2,
          2,
          3,
          1,
          1,
          2,
          1,
          4,
          1,
          1,
          1,
          1,
          1,
          9,
          2,
          1,
          1,
          3,
          1,
          1,
          16,
          3,
          6,
          2,
          1,
          1,
          1,
          1,
          1,
          1,
          1,
          1,
          1,
          1,
          1,
          1,
          1,
          1,
          1,
          1,
          1,
          1,
          1,
          1,
          1,
          2,
          5,
          7,
          1,
          2,
          2,
          1,
          9,
          3,
          1,
          1,
          1,
          1,
          1,
          1,
          2,
          3,
          3,
          1,
          1,
          1,
          2,
          1,
          1,
          6,
          1,
          4,
          15,
          1,
          3,
          2,
          1,
          2,
          14,
          16,
          6,
          3,
          1,
          1,
          1,
          3,
          1,
          6,
          1,
          1,
          3,
          1,
          5,
          1,
          1,
          2,
          6,
          1,
          1,
          6,
          1,
          2,
          1,
          6,
          1,
          1,
          2,
          1,
          5,
          1,
          1,
          2,
          1,
          1,
          1,
          1,
          1,
          6,
          1,
          1,
          2,
          1,
          1,
          1,
          2,
          5,
          1,
          1,
          1,
          1,
          1,
          3,
          1,
          1,
          1,
          1,
          1,
          2,
          1,
          1,
          15,
          1,
          2,
          5,
          9,
          1,
          4,
          5,
          10,
          1,
          1,
          1,
          2,
          1,
          2,
          3,
          3,
          1,
          1,
          3,
          6,
          10,
          1,
          7,
          1,
          1,
          1,
          2,
          1,
          5,
          1,
          1,
          1,
          1,
          6,
          3,
          1,
          2,
          1,
          3,
          4,
          3,
          1,
          1,
          2,
          2,
          3,
          2,
          1,
          1,
          1,
          2,
          1,
          1,
          5,
          1,
          1,
          2,
          2,
          8,
          1,
          1,
          3,
          1,
          11,
          1,
          1,
          2,
          1,
          5,
          3,
          1,
          2,
          1,
          1,
          1,
          1,
          3,
          1,
          1,
          1,
          1,
          3,
          2,
          2,
          8,
          6,
          1,
          1,
          2,
          3,
          1,
          1,
          1,
          1,
          1,
          6,
          1,
          1,
          1,
          1,
          3,
          1,
          14,
          1,
          1,
          1,
          1,
          1,
          2,
          1,
          1,
          13,
          13,
          2,
          1,
          3,
          15,
          2,
          1,
          1,
          2,
          7,
          1,
          1,
          4,
          1,
          6,
          9,
          2,
          1,
          1,
          1,
          7,
          1,
          1,
          1,
          9,
          3,
          1,
          2,
          1,
          1,
          4,
          2,
          2,
          1,
          1,
          6,
          1,
          1,
          1,
          6,
          1,
          1,
          1,
          1,
          1,
          1,
          1,
          1,
          13,
          1,
          1,
          1,
          1,
          2,
          4
         ],
         "xaxis": "x3",
         "yaxis": "y3"
        },
        {
         "alignmentgroup": "True",
         "hovertemplate": "median=%{y}<extra></extra>",
         "legendgroup": "",
         "marker": {
          "color": "#636efa",
          "symbol": "circle"
         },
         "name": "",
         "notched": true,
         "offsetgroup": "",
         "showlegend": false,
         "type": "box",
         "xaxis": "x2",
         "y": [
          88,
          75,
          40,
          68,
          46,
          6,
          20,
          0,
          50,
          4,
          32,
          15,
          40,
          10,
          80,
          70,
          50,
          20,
          65,
          45,
          96,
          9.5,
          82,
          30,
          146,
          27,
          20,
          21.5,
          62.5,
          150,
          90,
          0,
          65,
          40,
          0,
          0,
          75,
          10,
          38,
          35,
          20,
          26,
          6,
          33,
          28,
          34,
          40,
          90,
          30,
          100,
          39,
          45,
          50,
          90,
          20,
          27,
          0,
          12,
          40,
          43.5,
          20,
          20,
          48,
          150,
          10,
          0,
          2,
          8,
          10,
          20,
          10,
          55,
          32,
          40,
          0,
          60,
          150,
          70,
          0,
          6,
          39,
          5,
          65,
          43,
          45,
          93,
          25,
          22.5,
          2.5,
          35,
          18,
          1,
          90,
          80,
          80,
          15,
          10,
          55,
          50,
          25,
          48,
          33,
          75,
          16,
          85,
          46,
          40,
          60,
          15,
          75,
          0,
          96,
          97.5,
          42,
          98,
          25,
          30,
          17,
          50,
          50,
          17,
          75,
          120,
          144,
          143,
          5,
          65,
          0,
          110,
          36,
          90,
          12,
          130,
          120,
          130,
          98,
          145,
          80,
          17.5,
          40,
          36,
          115,
          80,
          41,
          45,
          80,
          45,
          96,
          7,
          70,
          4,
          70,
          110,
          123,
          64,
          98,
          40,
          10,
          2,
          20,
          10,
          20,
          0,
          0,
          10,
          72,
          110,
          60,
          17.5,
          35,
          90,
          99,
          98,
          94,
          94,
          67,
          32,
          45,
          60,
          22,
          30,
          40,
          40,
          9,
          40,
          23,
          12,
          19,
          20.5,
          60,
          2,
          26,
          40,
          36,
          91.5,
          7.5,
          50,
          98,
          80,
          27.5,
          10,
          60,
          75,
          60,
          18.5,
          134,
          10,
          18,
          40,
          40,
          60,
          80,
          18,
          22,
          24,
          3,
          50,
          17.5,
          90,
          55.5,
          15,
          16,
          7,
          150,
          70,
          40,
          135,
          80,
          50,
          60,
          38,
          102,
          60,
          22,
          103.5,
          85,
          22,
          10,
          68,
          48,
          122,
          12,
          75,
          80,
          16,
          12,
          4,
          17,
          35,
          8,
          15,
          90,
          15,
          100,
          84,
          3,
          87,
          35,
          16,
          150,
          18,
          38,
          43,
          50,
          110,
          130,
          20,
          2,
          4,
          6,
          20,
          130,
          54,
          41,
          81,
          50,
          10,
          40,
          22,
          23,
          42,
          57.5,
          90,
          85,
          65,
          65,
          15,
          30,
          85,
          43.5,
          90,
          31.5,
          47.5,
          25,
          70,
          35,
          45,
          80,
          53,
          16,
          17,
          10,
          0,
          16,
          10,
          25,
          20,
          10,
          70,
          75,
          20,
          58,
          80,
          45,
          20,
          54,
          70,
          12,
          17.5,
          70,
          45,
          70,
          22,
          48,
          35,
          40,
          48,
          48,
          60,
          84,
          99,
          60,
          13.5,
          1,
          42,
          160,
          113,
          50,
          60,
          40,
          60,
          60,
          1,
          95,
          12,
          20,
          25,
          45,
          22,
          17.5,
          10,
          0,
          0,
          30,
          24.5,
          36,
          20,
          43,
          37.5,
          15,
          18.5,
          0,
          40,
          28,
          23.5,
          80,
          32.5,
          85,
          25,
          28,
          0,
          90,
          3.5,
          33.5,
          6,
          36,
          20,
          40,
          10,
          38,
          24,
          24,
          0,
          24,
          16,
          20,
          46,
          0,
          20,
          42,
          16,
          50,
          125,
          45,
          10,
          95,
          63,
          139,
          128,
          35,
          98,
          120,
          100,
          121.5,
          20,
          95,
          136,
          96,
          120,
          72.5,
          125,
          121,
          60,
          32,
          90,
          92,
          98,
          135,
          20,
          89,
          60,
          160,
          124,
          100,
          85,
          30,
          0,
          50,
          100,
          54,
          25,
          48,
          55,
          96,
          49,
          21,
          3,
          65,
          103.5,
          16,
          24,
          18,
          145,
          80,
          98,
          80,
          8,
          48,
          12,
          82,
          35,
          70,
          150,
          42,
          50,
          0,
          10,
          0,
          80,
          120,
          35,
          49,
          4,
          22,
          6,
          5,
          10,
          20,
          20,
          6,
          47.5,
          48,
          8,
          83.5,
          6,
          50,
          12,
          75,
          70,
          18,
          90,
          0,
          90,
          96,
          40,
          160,
          99,
          45,
          25,
          24,
          120,
          130,
          97.5,
          63,
          30,
          47,
          16.5,
          11,
          40,
          150,
          49.5,
          149,
          80,
          20,
          17,
          32,
          70,
          85,
          11,
          50,
          60,
          25,
          48,
          25,
          48,
          99,
          2,
          155,
          105,
          104
         ],
         "yaxis": "y2"
        }
       ],
       "layout": {
        "height": 600,
        "legend": {
         "tracegroupgap": 0
        },
        "margin": {
         "b": 0,
         "l": 0,
         "r": 0,
         "t": 50
        },
        "template": {
         "data": {
          "bar": [
           {
            "error_x": {
             "color": "#2a3f5f"
            },
            "error_y": {
             "color": "#2a3f5f"
            },
            "marker": {
             "line": {
              "color": "#E5ECF6",
              "width": 0.5
             },
             "pattern": {
              "fillmode": "overlay",
              "size": 10,
              "solidity": 0.2
             }
            },
            "type": "bar"
           }
          ],
          "barpolar": [
           {
            "marker": {
             "line": {
              "color": "#E5ECF6",
              "width": 0.5
             },
             "pattern": {
              "fillmode": "overlay",
              "size": 10,
              "solidity": 0.2
             }
            },
            "type": "barpolar"
           }
          ],
          "carpet": [
           {
            "aaxis": {
             "endlinecolor": "#2a3f5f",
             "gridcolor": "white",
             "linecolor": "white",
             "minorgridcolor": "white",
             "startlinecolor": "#2a3f5f"
            },
            "baxis": {
             "endlinecolor": "#2a3f5f",
             "gridcolor": "white",
             "linecolor": "white",
             "minorgridcolor": "white",
             "startlinecolor": "#2a3f5f"
            },
            "type": "carpet"
           }
          ],
          "choropleth": [
           {
            "colorbar": {
             "outlinewidth": 0,
             "ticks": ""
            },
            "type": "choropleth"
           }
          ],
          "contour": [
           {
            "colorbar": {
             "outlinewidth": 0,
             "ticks": ""
            },
            "colorscale": [
             [
              0,
              "#0d0887"
             ],
             [
              0.1111111111111111,
              "#46039f"
             ],
             [
              0.2222222222222222,
              "#7201a8"
             ],
             [
              0.3333333333333333,
              "#9c179e"
             ],
             [
              0.4444444444444444,
              "#bd3786"
             ],
             [
              0.5555555555555556,
              "#d8576b"
             ],
             [
              0.6666666666666666,
              "#ed7953"
             ],
             [
              0.7777777777777778,
              "#fb9f3a"
             ],
             [
              0.8888888888888888,
              "#fdca26"
             ],
             [
              1,
              "#f0f921"
             ]
            ],
            "type": "contour"
           }
          ],
          "contourcarpet": [
           {
            "colorbar": {
             "outlinewidth": 0,
             "ticks": ""
            },
            "type": "contourcarpet"
           }
          ],
          "heatmap": [
           {
            "colorbar": {
             "outlinewidth": 0,
             "ticks": ""
            },
            "colorscale": [
             [
              0,
              "#0d0887"
             ],
             [
              0.1111111111111111,
              "#46039f"
             ],
             [
              0.2222222222222222,
              "#7201a8"
             ],
             [
              0.3333333333333333,
              "#9c179e"
             ],
             [
              0.4444444444444444,
              "#bd3786"
             ],
             [
              0.5555555555555556,
              "#d8576b"
             ],
             [
              0.6666666666666666,
              "#ed7953"
             ],
             [
              0.7777777777777778,
              "#fb9f3a"
             ],
             [
              0.8888888888888888,
              "#fdca26"
             ],
             [
              1,
              "#f0f921"
             ]
            ],
            "type": "heatmap"
           }
          ],
          "heatmapgl": [
           {
            "colorbar": {
             "outlinewidth": 0,
             "ticks": ""
            },
            "colorscale": [
             [
              0,
              "#0d0887"
             ],
             [
              0.1111111111111111,
              "#46039f"
             ],
             [
              0.2222222222222222,
              "#7201a8"
             ],
             [
              0.3333333333333333,
              "#9c179e"
             ],
             [
              0.4444444444444444,
              "#bd3786"
             ],
             [
              0.5555555555555556,
              "#d8576b"
             ],
             [
              0.6666666666666666,
              "#ed7953"
             ],
             [
              0.7777777777777778,
              "#fb9f3a"
             ],
             [
              0.8888888888888888,
              "#fdca26"
             ],
             [
              1,
              "#f0f921"
             ]
            ],
            "type": "heatmapgl"
           }
          ],
          "histogram": [
           {
            "marker": {
             "pattern": {
              "fillmode": "overlay",
              "size": 10,
              "solidity": 0.2
             }
            },
            "type": "histogram"
           }
          ],
          "histogram2d": [
           {
            "colorbar": {
             "outlinewidth": 0,
             "ticks": ""
            },
            "colorscale": [
             [
              0,
              "#0d0887"
             ],
             [
              0.1111111111111111,
              "#46039f"
             ],
             [
              0.2222222222222222,
              "#7201a8"
             ],
             [
              0.3333333333333333,
              "#9c179e"
             ],
             [
              0.4444444444444444,
              "#bd3786"
             ],
             [
              0.5555555555555556,
              "#d8576b"
             ],
             [
              0.6666666666666666,
              "#ed7953"
             ],
             [
              0.7777777777777778,
              "#fb9f3a"
             ],
             [
              0.8888888888888888,
              "#fdca26"
             ],
             [
              1,
              "#f0f921"
             ]
            ],
            "type": "histogram2d"
           }
          ],
          "histogram2dcontour": [
           {
            "colorbar": {
             "outlinewidth": 0,
             "ticks": ""
            },
            "colorscale": [
             [
              0,
              "#0d0887"
             ],
             [
              0.1111111111111111,
              "#46039f"
             ],
             [
              0.2222222222222222,
              "#7201a8"
             ],
             [
              0.3333333333333333,
              "#9c179e"
             ],
             [
              0.4444444444444444,
              "#bd3786"
             ],
             [
              0.5555555555555556,
              "#d8576b"
             ],
             [
              0.6666666666666666,
              "#ed7953"
             ],
             [
              0.7777777777777778,
              "#fb9f3a"
             ],
             [
              0.8888888888888888,
              "#fdca26"
             ],
             [
              1,
              "#f0f921"
             ]
            ],
            "type": "histogram2dcontour"
           }
          ],
          "mesh3d": [
           {
            "colorbar": {
             "outlinewidth": 0,
             "ticks": ""
            },
            "type": "mesh3d"
           }
          ],
          "parcoords": [
           {
            "line": {
             "colorbar": {
              "outlinewidth": 0,
              "ticks": ""
             }
            },
            "type": "parcoords"
           }
          ],
          "pie": [
           {
            "automargin": true,
            "type": "pie"
           }
          ],
          "scatter": [
           {
            "marker": {
             "colorbar": {
              "outlinewidth": 0,
              "ticks": ""
             }
            },
            "type": "scatter"
           }
          ],
          "scatter3d": [
           {
            "line": {
             "colorbar": {
              "outlinewidth": 0,
              "ticks": ""
             }
            },
            "marker": {
             "colorbar": {
              "outlinewidth": 0,
              "ticks": ""
             }
            },
            "type": "scatter3d"
           }
          ],
          "scattercarpet": [
           {
            "marker": {
             "colorbar": {
              "outlinewidth": 0,
              "ticks": ""
             }
            },
            "type": "scattercarpet"
           }
          ],
          "scattergeo": [
           {
            "marker": {
             "colorbar": {
              "outlinewidth": 0,
              "ticks": ""
             }
            },
            "type": "scattergeo"
           }
          ],
          "scattergl": [
           {
            "marker": {
             "colorbar": {
              "outlinewidth": 0,
              "ticks": ""
             }
            },
            "type": "scattergl"
           }
          ],
          "scattermapbox": [
           {
            "marker": {
             "colorbar": {
              "outlinewidth": 0,
              "ticks": ""
             }
            },
            "type": "scattermapbox"
           }
          ],
          "scatterpolar": [
           {
            "marker": {
             "colorbar": {
              "outlinewidth": 0,
              "ticks": ""
             }
            },
            "type": "scatterpolar"
           }
          ],
          "scatterpolargl": [
           {
            "marker": {
             "colorbar": {
              "outlinewidth": 0,
              "ticks": ""
             }
            },
            "type": "scatterpolargl"
           }
          ],
          "scatterternary": [
           {
            "marker": {
             "colorbar": {
              "outlinewidth": 0,
              "ticks": ""
             }
            },
            "type": "scatterternary"
           }
          ],
          "surface": [
           {
            "colorbar": {
             "outlinewidth": 0,
             "ticks": ""
            },
            "colorscale": [
             [
              0,
              "#0d0887"
             ],
             [
              0.1111111111111111,
              "#46039f"
             ],
             [
              0.2222222222222222,
              "#7201a8"
             ],
             [
              0.3333333333333333,
              "#9c179e"
             ],
             [
              0.4444444444444444,
              "#bd3786"
             ],
             [
              0.5555555555555556,
              "#d8576b"
             ],
             [
              0.6666666666666666,
              "#ed7953"
             ],
             [
              0.7777777777777778,
              "#fb9f3a"
             ],
             [
              0.8888888888888888,
              "#fdca26"
             ],
             [
              1,
              "#f0f921"
             ]
            ],
            "type": "surface"
           }
          ],
          "table": [
           {
            "cells": {
             "fill": {
              "color": "#EBF0F8"
             },
             "line": {
              "color": "white"
             }
            },
            "header": {
             "fill": {
              "color": "#C8D4E3"
             },
             "line": {
              "color": "white"
             }
            },
            "type": "table"
           }
          ]
         },
         "layout": {
          "annotationdefaults": {
           "arrowcolor": "#2a3f5f",
           "arrowhead": 0,
           "arrowwidth": 1
          },
          "autotypenumbers": "strict",
          "coloraxis": {
           "colorbar": {
            "outlinewidth": 0,
            "ticks": ""
           }
          },
          "colorscale": {
           "diverging": [
            [
             0,
             "#8e0152"
            ],
            [
             0.1,
             "#c51b7d"
            ],
            [
             0.2,
             "#de77ae"
            ],
            [
             0.3,
             "#f1b6da"
            ],
            [
             0.4,
             "#fde0ef"
            ],
            [
             0.5,
             "#f7f7f7"
            ],
            [
             0.6,
             "#e6f5d0"
            ],
            [
             0.7,
             "#b8e186"
            ],
            [
             0.8,
             "#7fbc41"
            ],
            [
             0.9,
             "#4d9221"
            ],
            [
             1,
             "#276419"
            ]
           ],
           "sequential": [
            [
             0,
             "#0d0887"
            ],
            [
             0.1111111111111111,
             "#46039f"
            ],
            [
             0.2222222222222222,
             "#7201a8"
            ],
            [
             0.3333333333333333,
             "#9c179e"
            ],
            [
             0.4444444444444444,
             "#bd3786"
            ],
            [
             0.5555555555555556,
             "#d8576b"
            ],
            [
             0.6666666666666666,
             "#ed7953"
            ],
            [
             0.7777777777777778,
             "#fb9f3a"
            ],
            [
             0.8888888888888888,
             "#fdca26"
            ],
            [
             1,
             "#f0f921"
            ]
           ],
           "sequentialminus": [
            [
             0,
             "#0d0887"
            ],
            [
             0.1111111111111111,
             "#46039f"
            ],
            [
             0.2222222222222222,
             "#7201a8"
            ],
            [
             0.3333333333333333,
             "#9c179e"
            ],
            [
             0.4444444444444444,
             "#bd3786"
            ],
            [
             0.5555555555555556,
             "#d8576b"
            ],
            [
             0.6666666666666666,
             "#ed7953"
            ],
            [
             0.7777777777777778,
             "#fb9f3a"
            ],
            [
             0.8888888888888888,
             "#fdca26"
            ],
            [
             1,
             "#f0f921"
            ]
           ]
          },
          "colorway": [
           "#636efa",
           "#EF553B",
           "#00cc96",
           "#ab63fa",
           "#FFA15A",
           "#19d3f3",
           "#FF6692",
           "#B6E880",
           "#FF97FF",
           "#FECB52"
          ],
          "font": {
           "color": "#2a3f5f"
          },
          "geo": {
           "bgcolor": "white",
           "lakecolor": "white",
           "landcolor": "#E5ECF6",
           "showlakes": true,
           "showland": true,
           "subunitcolor": "white"
          },
          "hoverlabel": {
           "align": "left"
          },
          "hovermode": "closest",
          "mapbox": {
           "style": "light"
          },
          "paper_bgcolor": "white",
          "plot_bgcolor": "#E5ECF6",
          "polar": {
           "angularaxis": {
            "gridcolor": "white",
            "linecolor": "white",
            "ticks": ""
           },
           "bgcolor": "#E5ECF6",
           "radialaxis": {
            "gridcolor": "white",
            "linecolor": "white",
            "ticks": ""
           }
          },
          "scene": {
           "xaxis": {
            "backgroundcolor": "#E5ECF6",
            "gridcolor": "white",
            "gridwidth": 2,
            "linecolor": "white",
            "showbackground": true,
            "ticks": "",
            "zerolinecolor": "white"
           },
           "yaxis": {
            "backgroundcolor": "#E5ECF6",
            "gridcolor": "white",
            "gridwidth": 2,
            "linecolor": "white",
            "showbackground": true,
            "ticks": "",
            "zerolinecolor": "white"
           },
           "zaxis": {
            "backgroundcolor": "#E5ECF6",
            "gridcolor": "white",
            "gridwidth": 2,
            "linecolor": "white",
            "showbackground": true,
            "ticks": "",
            "zerolinecolor": "white"
           }
          },
          "shapedefaults": {
           "line": {
            "color": "#2a3f5f"
           }
          },
          "ternary": {
           "aaxis": {
            "gridcolor": "white",
            "linecolor": "white",
            "ticks": ""
           },
           "baxis": {
            "gridcolor": "white",
            "linecolor": "white",
            "ticks": ""
           },
           "bgcolor": "#E5ECF6",
           "caxis": {
            "gridcolor": "white",
            "linecolor": "white",
            "ticks": ""
           }
          },
          "title": {
           "x": 0.05
          },
          "xaxis": {
           "automargin": true,
           "gridcolor": "white",
           "linecolor": "white",
           "ticks": "",
           "title": {
            "standoff": 15
           },
           "zerolinecolor": "white",
           "zerolinewidth": 2
          },
          "yaxis": {
           "automargin": true,
           "gridcolor": "white",
           "linecolor": "white",
           "ticks": "",
           "title": {
            "standoff": 15
           },
           "zerolinecolor": "white",
           "zerolinewidth": 2
          }
         }
        },
        "title": {
         "font": {
          "color": "black",
          "size": 18
         },
         "text": "<b>Распределение заведений по количеству объектов сети и количеству посадочных мест</b>",
         "x": 0.5,
         "xanchor": "center"
        },
        "width": 950,
        "xaxis": {
         "anchor": "y",
         "domain": [
          0,
          0.8358
         ],
         "title": {
          "text": "Кол-во заведений"
         }
        },
        "xaxis2": {
         "anchor": "y2",
         "domain": [
          0.8408,
          1
         ],
         "matches": "x2",
         "showgrid": false,
         "showline": false,
         "showticklabels": false,
         "ticks": ""
        },
        "xaxis3": {
         "anchor": "y3",
         "domain": [
          0,
          0.8358
         ],
         "matches": "x",
         "showgrid": true,
         "showticklabels": false
        },
        "xaxis4": {
         "anchor": "y4",
         "domain": [
          0.8408,
          1
         ],
         "matches": "x2",
         "showgrid": false,
         "showline": false,
         "showticklabels": false,
         "ticks": ""
        },
        "yaxis": {
         "anchor": "x",
         "domain": [
          0,
          0.8316
         ],
         "title": {
          "text": "Медиана посадочных мест"
         }
        },
        "yaxis2": {
         "anchor": "x2",
         "domain": [
          0,
          0.8316
         ],
         "matches": "y",
         "showgrid": true,
         "showticklabels": false
        },
        "yaxis3": {
         "anchor": "x3",
         "domain": [
          0.8416,
          1
         ],
         "matches": "y3",
         "showgrid": false,
         "showline": false,
         "showticklabels": false,
         "ticks": ""
        },
        "yaxis4": {
         "anchor": "x4",
         "domain": [
          0.8416,
          1
         ],
         "matches": "y3",
         "showgrid": true,
         "showline": false,
         "showticklabels": false,
         "ticks": ""
        }
       }
      },
      "text/html": [
       "<div>                            <div id=\"e4e9aad9-3ac3-4def-981e-ea422239bd90\" class=\"plotly-graph-div\" style=\"height:600px; width:950px;\"></div>            <script type=\"text/javascript\">                require([\"plotly\"], function(Plotly) {                    window.PLOTLYENV=window.PLOTLYENV || {};                                    if (document.getElementById(\"e4e9aad9-3ac3-4def-981e-ea422239bd90\")) {                    Plotly.newPlot(                        \"e4e9aad9-3ac3-4def-981e-ea422239bd90\",                        [{\"hovertemplate\":\"count=%{x}<br>median=%{y}<extra></extra>\",\"legendgroup\":\"\",\"marker\":{\"color\":\"#636efa\",\"opacity\":0.5,\"symbol\":\"circle\"},\"mode\":\"markers\",\"name\":\"\",\"orientation\":\"v\",\"showlegend\":false,\"x\":[1,1,1,3,1,1,3,1,4,1,3,5,1,6,1,1,1,3,1,1,1,4,1,5,1,7,3,2,2,1,1,1,1,5,1,2,4,1,2,1,1,4,1,1,1,1,1,2,3,1,2,1,1,1,1,3,1,2,1,2,1,1,1,1,5,2,2,1,1,1,7,6,15,1,1,1,1,1,1,1,1,1,1,1,1,2,1,2,12,1,2,1,1,1,1,3,1,2,1,9,1,8,7,5,1,1,1,11,1,10,1,1,2,1,1,2,9,12,1,6,1,6,1,1,1,1,1,1,10,1,1,1,4,1,4,1,3,1,6,1,5,6,3,1,1,1,7,10,1,1,1,2,2,2,5,2,1,1,1,2,1,1,1,1,1,2,4,1,2,1,9,2,3,2,2,3,1,1,1,1,1,1,1,1,1,1,1,1,2,11,1,2,1,3,6,2,3,1,1,2,1,1,1,1,2,4,1,1,5,1,1,3,2,2,3,1,1,2,1,4,1,1,1,1,1,9,2,1,1,3,1,1,16,3,6,2,1,1,1,1,1,1,1,1,1,1,1,1,1,1,1,1,1,1,1,1,1,2,5,7,1,2,2,1,9,3,1,1,1,1,1,1,2,3,3,1,1,1,2,1,1,6,1,4,15,1,3,2,1,2,14,16,6,3,1,1,1,3,1,6,1,1,3,1,5,1,1,2,6,1,1,6,1,2,1,6,1,1,2,1,5,1,1,2,1,1,1,1,1,6,1,1,2,1,1,1,2,5,1,1,1,1,1,3,1,1,1,1,1,2,1,1,15,1,2,5,9,1,4,5,10,1,1,1,2,1,2,3,3,1,1,3,6,10,1,7,1,1,1,2,1,5,1,1,1,1,6,3,1,2,1,3,4,3,1,1,2,2,3,2,1,1,1,2,1,1,5,1,1,2,2,8,1,1,3,1,11,1,1,2,1,5,3,1,2,1,1,1,1,3,1,1,1,1,3,2,2,8,6,1,1,2,3,1,1,1,1,1,6,1,1,1,1,3,1,14,1,1,1,1,1,2,1,1,13,13,2,1,3,15,2,1,1,2,7,1,1,4,1,6,9,2,1,1,1,7,1,1,1,9,3,1,2,1,1,4,2,2,1,1,6,1,1,1,6,1,1,1,1,1,1,1,1,13,1,1,1,1,2,4],\"xaxis\":\"x\",\"y\":[88.0,75.0,40.0,68.0,46.0,6.0,20.0,0.0,50.0,4.0,32.0,15.0,40.0,10.0,80.0,70.0,50.0,20.0,65.0,45.0,96.0,9.5,82.0,30.0,146.0,27.0,20.0,21.5,62.5,150.0,90.0,0.0,65.0,40.0,0.0,0.0,75.0,10.0,38.0,35.0,20.0,26.0,6.0,33.0,28.0,34.0,40.0,90.0,30.0,100.0,39.0,45.0,50.0,90.0,20.0,27.0,0.0,12.0,40.0,43.5,20.0,20.0,48.0,150.0,10.0,0.0,2.0,8.0,10.0,20.0,10.0,55.0,32.0,40.0,0.0,60.0,150.0,70.0,0.0,6.0,39.0,5.0,65.0,43.0,45.0,93.0,25.0,22.5,2.5,35.0,18.0,1.0,90.0,80.0,80.0,15.0,10.0,55.0,50.0,25.0,48.0,33.0,75.0,16.0,85.0,46.0,40.0,60.0,15.0,75.0,0.0,96.0,97.5,42.0,98.0,25.0,30.0,17.0,50.0,50.0,17.0,75.0,120.0,144.0,143.0,5.0,65.0,0.0,110.0,36.0,90.0,12.0,130.0,120.0,130.0,98.0,145.0,80.0,17.5,40.0,36.0,115.0,80.0,41.0,45.0,80.0,45.0,96.0,7.0,70.0,4.0,70.0,110.0,123.0,64.0,98.0,40.0,10.0,2.0,20.0,10.0,20.0,0.0,0.0,10.0,72.0,110.0,60.0,17.5,35.0,90.0,99.0,98.0,94.0,94.0,67.0,32.0,45.0,60.0,22.0,30.0,40.0,40.0,9.0,40.0,23.0,12.0,19.0,20.5,60.0,2.0,26.0,40.0,36.0,91.5,7.5,50.0,98.0,80.0,27.5,10.0,60.0,75.0,60.0,18.5,134.0,10.0,18.0,40.0,40.0,60.0,80.0,18.0,22.0,24.0,3.0,50.0,17.5,90.0,55.5,15.0,16.0,7.0,150.0,70.0,40.0,135.0,80.0,50.0,60.0,38.0,102.0,60.0,22.0,103.5,85.0,22.0,10.0,68.0,48.0,122.0,12.0,75.0,80.0,16.0,12.0,4.0,17.0,35.0,8.0,15.0,90.0,15.0,100.0,84.0,3.0,87.0,35.0,16.0,150.0,18.0,38.0,43.0,50.0,110.0,130.0,20.0,2.0,4.0,6.0,20.0,130.0,54.0,41.0,81.0,50.0,10.0,40.0,22.0,23.0,42.0,57.5,90.0,85.0,65.0,65.0,15.0,30.0,85.0,43.5,90.0,31.5,47.5,25.0,70.0,35.0,45.0,80.0,53.0,16.0,17.0,10.0,0.0,16.0,10.0,25.0,20.0,10.0,70.0,75.0,20.0,58.0,80.0,45.0,20.0,54.0,70.0,12.0,17.5,70.0,45.0,70.0,22.0,48.0,35.0,40.0,48.0,48.0,60.0,84.0,99.0,60.0,13.5,1.0,42.0,160.0,113.0,50.0,60.0,40.0,60.0,60.0,1.0,95.0,12.0,20.0,25.0,45.0,22.0,17.5,10.0,0.0,0.0,30.0,24.5,36.0,20.0,43.0,37.5,15.0,18.5,0.0,40.0,28.0,23.5,80.0,32.5,85.0,25.0,28.0,0.0,90.0,3.5,33.5,6.0,36.0,20.0,40.0,10.0,38.0,24.0,24.0,0.0,24.0,16.0,20.0,46.0,0.0,20.0,42.0,16.0,50.0,125.0,45.0,10.0,95.0,63.0,139.0,128.0,35.0,98.0,120.0,100.0,121.5,20.0,95.0,136.0,96.0,120.0,72.5,125.0,121.0,60.0,32.0,90.0,92.0,98.0,135.0,20.0,89.0,60.0,160.0,124.0,100.0,85.0,30.0,0.0,50.0,100.0,54.0,25.0,48.0,55.0,96.0,49.0,21.0,3.0,65.0,103.5,16.0,24.0,18.0,145.0,80.0,98.0,80.0,8.0,48.0,12.0,82.0,35.0,70.0,150.0,42.0,50.0,0.0,10.0,0.0,80.0,120.0,35.0,49.0,4.0,22.0,6.0,5.0,10.0,20.0,20.0,6.0,47.5,48.0,8.0,83.5,6.0,50.0,12.0,75.0,70.0,18.0,90.0,0.0,90.0,96.0,40.0,160.0,99.0,45.0,25.0,24.0,120.0,130.0,97.5,63.0,30.0,47.0,16.5,11.0,40.0,150.0,49.5,149.0,80.0,20.0,17.0,32.0,70.0,85.0,11.0,50.0,60.0,25.0,48.0,25.0,48.0,99.0,2.0,155.0,105.0,104.0],\"yaxis\":\"y\",\"type\":\"scatter\"},{\"alignmentgroup\":\"True\",\"hovertemplate\":\"count=%{x}<extra></extra>\",\"legendgroup\":\"\",\"marker\":{\"color\":\"#636efa\",\"symbol\":\"circle\"},\"name\":\"\",\"notched\":true,\"offsetgroup\":\"\",\"showlegend\":false,\"x\":[1,1,1,3,1,1,3,1,4,1,3,5,1,6,1,1,1,3,1,1,1,4,1,5,1,7,3,2,2,1,1,1,1,5,1,2,4,1,2,1,1,4,1,1,1,1,1,2,3,1,2,1,1,1,1,3,1,2,1,2,1,1,1,1,5,2,2,1,1,1,7,6,15,1,1,1,1,1,1,1,1,1,1,1,1,2,1,2,12,1,2,1,1,1,1,3,1,2,1,9,1,8,7,5,1,1,1,11,1,10,1,1,2,1,1,2,9,12,1,6,1,6,1,1,1,1,1,1,10,1,1,1,4,1,4,1,3,1,6,1,5,6,3,1,1,1,7,10,1,1,1,2,2,2,5,2,1,1,1,2,1,1,1,1,1,2,4,1,2,1,9,2,3,2,2,3,1,1,1,1,1,1,1,1,1,1,1,1,2,11,1,2,1,3,6,2,3,1,1,2,1,1,1,1,2,4,1,1,5,1,1,3,2,2,3,1,1,2,1,4,1,1,1,1,1,9,2,1,1,3,1,1,16,3,6,2,1,1,1,1,1,1,1,1,1,1,1,1,1,1,1,1,1,1,1,1,1,2,5,7,1,2,2,1,9,3,1,1,1,1,1,1,2,3,3,1,1,1,2,1,1,6,1,4,15,1,3,2,1,2,14,16,6,3,1,1,1,3,1,6,1,1,3,1,5,1,1,2,6,1,1,6,1,2,1,6,1,1,2,1,5,1,1,2,1,1,1,1,1,6,1,1,2,1,1,1,2,5,1,1,1,1,1,3,1,1,1,1,1,2,1,1,15,1,2,5,9,1,4,5,10,1,1,1,2,1,2,3,3,1,1,3,6,10,1,7,1,1,1,2,1,5,1,1,1,1,6,3,1,2,1,3,4,3,1,1,2,2,3,2,1,1,1,2,1,1,5,1,1,2,2,8,1,1,3,1,11,1,1,2,1,5,3,1,2,1,1,1,1,3,1,1,1,1,3,2,2,8,6,1,1,2,3,1,1,1,1,1,6,1,1,1,1,3,1,14,1,1,1,1,1,2,1,1,13,13,2,1,3,15,2,1,1,2,7,1,1,4,1,6,9,2,1,1,1,7,1,1,1,9,3,1,2,1,1,4,2,2,1,1,6,1,1,1,6,1,1,1,1,1,1,1,1,13,1,1,1,1,2,4],\"xaxis\":\"x3\",\"yaxis\":\"y3\",\"type\":\"box\"},{\"alignmentgroup\":\"True\",\"hovertemplate\":\"median=%{y}<extra></extra>\",\"legendgroup\":\"\",\"marker\":{\"color\":\"#636efa\",\"symbol\":\"circle\"},\"name\":\"\",\"notched\":true,\"offsetgroup\":\"\",\"showlegend\":false,\"xaxis\":\"x2\",\"y\":[88.0,75.0,40.0,68.0,46.0,6.0,20.0,0.0,50.0,4.0,32.0,15.0,40.0,10.0,80.0,70.0,50.0,20.0,65.0,45.0,96.0,9.5,82.0,30.0,146.0,27.0,20.0,21.5,62.5,150.0,90.0,0.0,65.0,40.0,0.0,0.0,75.0,10.0,38.0,35.0,20.0,26.0,6.0,33.0,28.0,34.0,40.0,90.0,30.0,100.0,39.0,45.0,50.0,90.0,20.0,27.0,0.0,12.0,40.0,43.5,20.0,20.0,48.0,150.0,10.0,0.0,2.0,8.0,10.0,20.0,10.0,55.0,32.0,40.0,0.0,60.0,150.0,70.0,0.0,6.0,39.0,5.0,65.0,43.0,45.0,93.0,25.0,22.5,2.5,35.0,18.0,1.0,90.0,80.0,80.0,15.0,10.0,55.0,50.0,25.0,48.0,33.0,75.0,16.0,85.0,46.0,40.0,60.0,15.0,75.0,0.0,96.0,97.5,42.0,98.0,25.0,30.0,17.0,50.0,50.0,17.0,75.0,120.0,144.0,143.0,5.0,65.0,0.0,110.0,36.0,90.0,12.0,130.0,120.0,130.0,98.0,145.0,80.0,17.5,40.0,36.0,115.0,80.0,41.0,45.0,80.0,45.0,96.0,7.0,70.0,4.0,70.0,110.0,123.0,64.0,98.0,40.0,10.0,2.0,20.0,10.0,20.0,0.0,0.0,10.0,72.0,110.0,60.0,17.5,35.0,90.0,99.0,98.0,94.0,94.0,67.0,32.0,45.0,60.0,22.0,30.0,40.0,40.0,9.0,40.0,23.0,12.0,19.0,20.5,60.0,2.0,26.0,40.0,36.0,91.5,7.5,50.0,98.0,80.0,27.5,10.0,60.0,75.0,60.0,18.5,134.0,10.0,18.0,40.0,40.0,60.0,80.0,18.0,22.0,24.0,3.0,50.0,17.5,90.0,55.5,15.0,16.0,7.0,150.0,70.0,40.0,135.0,80.0,50.0,60.0,38.0,102.0,60.0,22.0,103.5,85.0,22.0,10.0,68.0,48.0,122.0,12.0,75.0,80.0,16.0,12.0,4.0,17.0,35.0,8.0,15.0,90.0,15.0,100.0,84.0,3.0,87.0,35.0,16.0,150.0,18.0,38.0,43.0,50.0,110.0,130.0,20.0,2.0,4.0,6.0,20.0,130.0,54.0,41.0,81.0,50.0,10.0,40.0,22.0,23.0,42.0,57.5,90.0,85.0,65.0,65.0,15.0,30.0,85.0,43.5,90.0,31.5,47.5,25.0,70.0,35.0,45.0,80.0,53.0,16.0,17.0,10.0,0.0,16.0,10.0,25.0,20.0,10.0,70.0,75.0,20.0,58.0,80.0,45.0,20.0,54.0,70.0,12.0,17.5,70.0,45.0,70.0,22.0,48.0,35.0,40.0,48.0,48.0,60.0,84.0,99.0,60.0,13.5,1.0,42.0,160.0,113.0,50.0,60.0,40.0,60.0,60.0,1.0,95.0,12.0,20.0,25.0,45.0,22.0,17.5,10.0,0.0,0.0,30.0,24.5,36.0,20.0,43.0,37.5,15.0,18.5,0.0,40.0,28.0,23.5,80.0,32.5,85.0,25.0,28.0,0.0,90.0,3.5,33.5,6.0,36.0,20.0,40.0,10.0,38.0,24.0,24.0,0.0,24.0,16.0,20.0,46.0,0.0,20.0,42.0,16.0,50.0,125.0,45.0,10.0,95.0,63.0,139.0,128.0,35.0,98.0,120.0,100.0,121.5,20.0,95.0,136.0,96.0,120.0,72.5,125.0,121.0,60.0,32.0,90.0,92.0,98.0,135.0,20.0,89.0,60.0,160.0,124.0,100.0,85.0,30.0,0.0,50.0,100.0,54.0,25.0,48.0,55.0,96.0,49.0,21.0,3.0,65.0,103.5,16.0,24.0,18.0,145.0,80.0,98.0,80.0,8.0,48.0,12.0,82.0,35.0,70.0,150.0,42.0,50.0,0.0,10.0,0.0,80.0,120.0,35.0,49.0,4.0,22.0,6.0,5.0,10.0,20.0,20.0,6.0,47.5,48.0,8.0,83.5,6.0,50.0,12.0,75.0,70.0,18.0,90.0,0.0,90.0,96.0,40.0,160.0,99.0,45.0,25.0,24.0,120.0,130.0,97.5,63.0,30.0,47.0,16.5,11.0,40.0,150.0,49.5,149.0,80.0,20.0,17.0,32.0,70.0,85.0,11.0,50.0,60.0,25.0,48.0,25.0,48.0,99.0,2.0,155.0,105.0,104.0],\"yaxis\":\"y2\",\"type\":\"box\"}],                        {\"template\":{\"data\":{\"bar\":[{\"error_x\":{\"color\":\"#2a3f5f\"},\"error_y\":{\"color\":\"#2a3f5f\"},\"marker\":{\"line\":{\"color\":\"#E5ECF6\",\"width\":0.5},\"pattern\":{\"fillmode\":\"overlay\",\"size\":10,\"solidity\":0.2}},\"type\":\"bar\"}],\"barpolar\":[{\"marker\":{\"line\":{\"color\":\"#E5ECF6\",\"width\":0.5},\"pattern\":{\"fillmode\":\"overlay\",\"size\":10,\"solidity\":0.2}},\"type\":\"barpolar\"}],\"carpet\":[{\"aaxis\":{\"endlinecolor\":\"#2a3f5f\",\"gridcolor\":\"white\",\"linecolor\":\"white\",\"minorgridcolor\":\"white\",\"startlinecolor\":\"#2a3f5f\"},\"baxis\":{\"endlinecolor\":\"#2a3f5f\",\"gridcolor\":\"white\",\"linecolor\":\"white\",\"minorgridcolor\":\"white\",\"startlinecolor\":\"#2a3f5f\"},\"type\":\"carpet\"}],\"choropleth\":[{\"colorbar\":{\"outlinewidth\":0,\"ticks\":\"\"},\"type\":\"choropleth\"}],\"contour\":[{\"colorbar\":{\"outlinewidth\":0,\"ticks\":\"\"},\"colorscale\":[[0.0,\"#0d0887\"],[0.1111111111111111,\"#46039f\"],[0.2222222222222222,\"#7201a8\"],[0.3333333333333333,\"#9c179e\"],[0.4444444444444444,\"#bd3786\"],[0.5555555555555556,\"#d8576b\"],[0.6666666666666666,\"#ed7953\"],[0.7777777777777778,\"#fb9f3a\"],[0.8888888888888888,\"#fdca26\"],[1.0,\"#f0f921\"]],\"type\":\"contour\"}],\"contourcarpet\":[{\"colorbar\":{\"outlinewidth\":0,\"ticks\":\"\"},\"type\":\"contourcarpet\"}],\"heatmap\":[{\"colorbar\":{\"outlinewidth\":0,\"ticks\":\"\"},\"colorscale\":[[0.0,\"#0d0887\"],[0.1111111111111111,\"#46039f\"],[0.2222222222222222,\"#7201a8\"],[0.3333333333333333,\"#9c179e\"],[0.4444444444444444,\"#bd3786\"],[0.5555555555555556,\"#d8576b\"],[0.6666666666666666,\"#ed7953\"],[0.7777777777777778,\"#fb9f3a\"],[0.8888888888888888,\"#fdca26\"],[1.0,\"#f0f921\"]],\"type\":\"heatmap\"}],\"heatmapgl\":[{\"colorbar\":{\"outlinewidth\":0,\"ticks\":\"\"},\"colorscale\":[[0.0,\"#0d0887\"],[0.1111111111111111,\"#46039f\"],[0.2222222222222222,\"#7201a8\"],[0.3333333333333333,\"#9c179e\"],[0.4444444444444444,\"#bd3786\"],[0.5555555555555556,\"#d8576b\"],[0.6666666666666666,\"#ed7953\"],[0.7777777777777778,\"#fb9f3a\"],[0.8888888888888888,\"#fdca26\"],[1.0,\"#f0f921\"]],\"type\":\"heatmapgl\"}],\"histogram\":[{\"marker\":{\"pattern\":{\"fillmode\":\"overlay\",\"size\":10,\"solidity\":0.2}},\"type\":\"histogram\"}],\"histogram2d\":[{\"colorbar\":{\"outlinewidth\":0,\"ticks\":\"\"},\"colorscale\":[[0.0,\"#0d0887\"],[0.1111111111111111,\"#46039f\"],[0.2222222222222222,\"#7201a8\"],[0.3333333333333333,\"#9c179e\"],[0.4444444444444444,\"#bd3786\"],[0.5555555555555556,\"#d8576b\"],[0.6666666666666666,\"#ed7953\"],[0.7777777777777778,\"#fb9f3a\"],[0.8888888888888888,\"#fdca26\"],[1.0,\"#f0f921\"]],\"type\":\"histogram2d\"}],\"histogram2dcontour\":[{\"colorbar\":{\"outlinewidth\":0,\"ticks\":\"\"},\"colorscale\":[[0.0,\"#0d0887\"],[0.1111111111111111,\"#46039f\"],[0.2222222222222222,\"#7201a8\"],[0.3333333333333333,\"#9c179e\"],[0.4444444444444444,\"#bd3786\"],[0.5555555555555556,\"#d8576b\"],[0.6666666666666666,\"#ed7953\"],[0.7777777777777778,\"#fb9f3a\"],[0.8888888888888888,\"#fdca26\"],[1.0,\"#f0f921\"]],\"type\":\"histogram2dcontour\"}],\"mesh3d\":[{\"colorbar\":{\"outlinewidth\":0,\"ticks\":\"\"},\"type\":\"mesh3d\"}],\"parcoords\":[{\"line\":{\"colorbar\":{\"outlinewidth\":0,\"ticks\":\"\"}},\"type\":\"parcoords\"}],\"pie\":[{\"automargin\":true,\"type\":\"pie\"}],\"scatter\":[{\"marker\":{\"colorbar\":{\"outlinewidth\":0,\"ticks\":\"\"}},\"type\":\"scatter\"}],\"scatter3d\":[{\"line\":{\"colorbar\":{\"outlinewidth\":0,\"ticks\":\"\"}},\"marker\":{\"colorbar\":{\"outlinewidth\":0,\"ticks\":\"\"}},\"type\":\"scatter3d\"}],\"scattercarpet\":[{\"marker\":{\"colorbar\":{\"outlinewidth\":0,\"ticks\":\"\"}},\"type\":\"scattercarpet\"}],\"scattergeo\":[{\"marker\":{\"colorbar\":{\"outlinewidth\":0,\"ticks\":\"\"}},\"type\":\"scattergeo\"}],\"scattergl\":[{\"marker\":{\"colorbar\":{\"outlinewidth\":0,\"ticks\":\"\"}},\"type\":\"scattergl\"}],\"scattermapbox\":[{\"marker\":{\"colorbar\":{\"outlinewidth\":0,\"ticks\":\"\"}},\"type\":\"scattermapbox\"}],\"scatterpolar\":[{\"marker\":{\"colorbar\":{\"outlinewidth\":0,\"ticks\":\"\"}},\"type\":\"scatterpolar\"}],\"scatterpolargl\":[{\"marker\":{\"colorbar\":{\"outlinewidth\":0,\"ticks\":\"\"}},\"type\":\"scatterpolargl\"}],\"scatterternary\":[{\"marker\":{\"colorbar\":{\"outlinewidth\":0,\"ticks\":\"\"}},\"type\":\"scatterternary\"}],\"surface\":[{\"colorbar\":{\"outlinewidth\":0,\"ticks\":\"\"},\"colorscale\":[[0.0,\"#0d0887\"],[0.1111111111111111,\"#46039f\"],[0.2222222222222222,\"#7201a8\"],[0.3333333333333333,\"#9c179e\"],[0.4444444444444444,\"#bd3786\"],[0.5555555555555556,\"#d8576b\"],[0.6666666666666666,\"#ed7953\"],[0.7777777777777778,\"#fb9f3a\"],[0.8888888888888888,\"#fdca26\"],[1.0,\"#f0f921\"]],\"type\":\"surface\"}],\"table\":[{\"cells\":{\"fill\":{\"color\":\"#EBF0F8\"},\"line\":{\"color\":\"white\"}},\"header\":{\"fill\":{\"color\":\"#C8D4E3\"},\"line\":{\"color\":\"white\"}},\"type\":\"table\"}]},\"layout\":{\"annotationdefaults\":{\"arrowcolor\":\"#2a3f5f\",\"arrowhead\":0,\"arrowwidth\":1},\"autotypenumbers\":\"strict\",\"coloraxis\":{\"colorbar\":{\"outlinewidth\":0,\"ticks\":\"\"}},\"colorscale\":{\"diverging\":[[0,\"#8e0152\"],[0.1,\"#c51b7d\"],[0.2,\"#de77ae\"],[0.3,\"#f1b6da\"],[0.4,\"#fde0ef\"],[0.5,\"#f7f7f7\"],[0.6,\"#e6f5d0\"],[0.7,\"#b8e186\"],[0.8,\"#7fbc41\"],[0.9,\"#4d9221\"],[1,\"#276419\"]],\"sequential\":[[0.0,\"#0d0887\"],[0.1111111111111111,\"#46039f\"],[0.2222222222222222,\"#7201a8\"],[0.3333333333333333,\"#9c179e\"],[0.4444444444444444,\"#bd3786\"],[0.5555555555555556,\"#d8576b\"],[0.6666666666666666,\"#ed7953\"],[0.7777777777777778,\"#fb9f3a\"],[0.8888888888888888,\"#fdca26\"],[1.0,\"#f0f921\"]],\"sequentialminus\":[[0.0,\"#0d0887\"],[0.1111111111111111,\"#46039f\"],[0.2222222222222222,\"#7201a8\"],[0.3333333333333333,\"#9c179e\"],[0.4444444444444444,\"#bd3786\"],[0.5555555555555556,\"#d8576b\"],[0.6666666666666666,\"#ed7953\"],[0.7777777777777778,\"#fb9f3a\"],[0.8888888888888888,\"#fdca26\"],[1.0,\"#f0f921\"]]},\"colorway\":[\"#636efa\",\"#EF553B\",\"#00cc96\",\"#ab63fa\",\"#FFA15A\",\"#19d3f3\",\"#FF6692\",\"#B6E880\",\"#FF97FF\",\"#FECB52\"],\"font\":{\"color\":\"#2a3f5f\"},\"geo\":{\"bgcolor\":\"white\",\"lakecolor\":\"white\",\"landcolor\":\"#E5ECF6\",\"showlakes\":true,\"showland\":true,\"subunitcolor\":\"white\"},\"hoverlabel\":{\"align\":\"left\"},\"hovermode\":\"closest\",\"mapbox\":{\"style\":\"light\"},\"paper_bgcolor\":\"white\",\"plot_bgcolor\":\"#E5ECF6\",\"polar\":{\"angularaxis\":{\"gridcolor\":\"white\",\"linecolor\":\"white\",\"ticks\":\"\"},\"bgcolor\":\"#E5ECF6\",\"radialaxis\":{\"gridcolor\":\"white\",\"linecolor\":\"white\",\"ticks\":\"\"}},\"scene\":{\"xaxis\":{\"backgroundcolor\":\"#E5ECF6\",\"gridcolor\":\"white\",\"gridwidth\":2,\"linecolor\":\"white\",\"showbackground\":true,\"ticks\":\"\",\"zerolinecolor\":\"white\"},\"yaxis\":{\"backgroundcolor\":\"#E5ECF6\",\"gridcolor\":\"white\",\"gridwidth\":2,\"linecolor\":\"white\",\"showbackground\":true,\"ticks\":\"\",\"zerolinecolor\":\"white\"},\"zaxis\":{\"backgroundcolor\":\"#E5ECF6\",\"gridcolor\":\"white\",\"gridwidth\":2,\"linecolor\":\"white\",\"showbackground\":true,\"ticks\":\"\",\"zerolinecolor\":\"white\"}},\"shapedefaults\":{\"line\":{\"color\":\"#2a3f5f\"}},\"ternary\":{\"aaxis\":{\"gridcolor\":\"white\",\"linecolor\":\"white\",\"ticks\":\"\"},\"baxis\":{\"gridcolor\":\"white\",\"linecolor\":\"white\",\"ticks\":\"\"},\"bgcolor\":\"#E5ECF6\",\"caxis\":{\"gridcolor\":\"white\",\"linecolor\":\"white\",\"ticks\":\"\"}},\"title\":{\"x\":0.05},\"xaxis\":{\"automargin\":true,\"gridcolor\":\"white\",\"linecolor\":\"white\",\"ticks\":\"\",\"title\":{\"standoff\":15},\"zerolinecolor\":\"white\",\"zerolinewidth\":2},\"yaxis\":{\"automargin\":true,\"gridcolor\":\"white\",\"linecolor\":\"white\",\"ticks\":\"\",\"title\":{\"standoff\":15},\"zerolinecolor\":\"white\",\"zerolinewidth\":2}}},\"xaxis\":{\"anchor\":\"y\",\"domain\":[0.0,0.8358],\"title\":{\"text\":\"\\u041a\\u043e\\u043b-\\u0432\\u043e \\u0437\\u0430\\u0432\\u0435\\u0434\\u0435\\u043d\\u0438\\u0439\"}},\"yaxis\":{\"anchor\":\"x\",\"domain\":[0.0,0.8316],\"title\":{\"text\":\"\\u041c\\u0435\\u0434\\u0438\\u0430\\u043d\\u0430 \\u043f\\u043e\\u0441\\u0430\\u0434\\u043e\\u0447\\u043d\\u044b\\u0445 \\u043c\\u0435\\u0441\\u0442\"}},\"xaxis2\":{\"anchor\":\"y2\",\"domain\":[0.8408,1.0],\"matches\":\"x2\",\"showticklabels\":false,\"showline\":false,\"ticks\":\"\",\"showgrid\":false},\"yaxis2\":{\"anchor\":\"x2\",\"domain\":[0.0,0.8316],\"matches\":\"y\",\"showticklabels\":false,\"showgrid\":true},\"xaxis3\":{\"anchor\":\"y3\",\"domain\":[0.0,0.8358],\"matches\":\"x\",\"showticklabels\":false,\"showgrid\":true},\"yaxis3\":{\"anchor\":\"x3\",\"domain\":[0.8416,1.0],\"matches\":\"y3\",\"showticklabels\":false,\"showline\":false,\"ticks\":\"\",\"showgrid\":false},\"xaxis4\":{\"anchor\":\"y4\",\"domain\":[0.8408,1.0],\"matches\":\"x2\",\"showticklabels\":false,\"showgrid\":false,\"showline\":false,\"ticks\":\"\"},\"yaxis4\":{\"anchor\":\"x4\",\"domain\":[0.8416,1.0],\"matches\":\"y3\",\"showticklabels\":false,\"showline\":false,\"ticks\":\"\",\"showgrid\":true},\"legend\":{\"tracegroupgap\":0},\"margin\":{\"t\":50,\"r\":0,\"l\":0,\"b\":0},\"title\":{\"font\":{\"size\":18,\"color\":\"black\"},\"text\":\"<b>\\u0420\\u0430\\u0441\\u043f\\u0440\\u0435\\u0434\\u0435\\u043b\\u0435\\u043d\\u0438\\u0435 \\u0437\\u0430\\u0432\\u0435\\u0434\\u0435\\u043d\\u0438\\u0439 \\u043f\\u043e \\u043a\\u043e\\u043b\\u0438\\u0447\\u0435\\u0441\\u0442\\u0432\\u0443 \\u043e\\u0431\\u044a\\u0435\\u043a\\u0442\\u043e\\u0432 \\u0441\\u0435\\u0442\\u0438 \\u0438 \\u043a\\u043e\\u043b\\u0438\\u0447\\u0435\\u0441\\u0442\\u0432\\u0443 \\u043f\\u043e\\u0441\\u0430\\u0434\\u043e\\u0447\\u043d\\u044b\\u0445 \\u043c\\u0435\\u0441\\u0442</b>\",\"xanchor\":\"center\",\"x\":0.5},\"width\":950,\"height\":600},                        {\"responsive\": true}                    ).then(function(){\n",
       "                            \n",
       "var gd = document.getElementById('e4e9aad9-3ac3-4def-981e-ea422239bd90');\n",
       "var x = new MutationObserver(function (mutations, observer) {{\n",
       "        var display = window.getComputedStyle(gd).display;\n",
       "        if (!display || display === 'none') {{\n",
       "            console.log([gd, 'removed!']);\n",
       "            Plotly.purge(gd);\n",
       "            observer.disconnect();\n",
       "        }}\n",
       "}});\n",
       "\n",
       "// Listen for the removal of the full notebook cells\n",
       "var notebookContainer = gd.closest('#notebook-container');\n",
       "if (notebookContainer) {{\n",
       "    x.observe(notebookContainer, {childList: true});\n",
       "}}\n",
       "\n",
       "// Listen for the clearing of the current output cell\n",
       "var outputEl = gd.closest('.output');\n",
       "if (outputEl) {{\n",
       "    x.observe(outputEl, {childList: true});\n",
       "}}\n",
       "\n",
       "                        })                };                });            </script>        </div>"
      ]
     },
     "metadata": {},
     "output_type": "display_data"
    }
   ],
   "source": [
    "# определяем процентили для границы отсечения выбросов по количеству заведений\n",
    "num_order = np.percentile(num_seat['count'], [90,95,99]) \n",
    "display(num_order)\n",
    "# определяем процентили для границы отсечения выбросов по количеству посадочных мест\n",
    "seat_order = np.percentile(num_seat['median'], [90,95,99])\n",
    "display(seat_order)\n",
    "\n",
    "num_seat_trunc = num_seat.query('count <= @num_order[1] and median <=@seat_order[1]') # фильтруем датасет по 95 процентилю\n",
    "display(num_seat.shape[0], num_seat_trunc.shape[0]) \n",
    "\n",
    "fig = px.scatter(num_seat_trunc, x= num_seat_trunc['count'], \n",
    "                 y=num_seat_trunc['median'], \n",
    "                 marginal_x = 'box',\n",
    "                 marginal_y='box', opacity=0.5)\n",
    "fig.update_layout(width=950, height=600,\n",
    "                 title_text = ('<b>Распределение заведений по количеству объектов сети и количеству посадочных мест</b>'),\n",
    "                 title_font_size = 18,\n",
    "                 title_font_color='black',\n",
    "                 title_xanchor='center',\n",
    "                 title_x=.5,\n",
    "                 xaxis_title = 'Кол-во заведений',\n",
    "                 yaxis_title = 'Медиана посадочных мест',\n",
    "                 margin=dict(r=0,l=0,t=50,b=0))\n",
    "fig.show()"
   ]
  },
  {
   "cell_type": "markdown",
   "id": "5a60602e",
   "metadata": {},
   "source": [
    "***Вывод***  \n",
    "Как было установлено ранее, 2964 заведения имеют статус сетевого, однако, при группировке заведений выявлено 577 сетей, что можно объяснть либо наличием в городе лишь одного заведения-представителя для целого ряда сетей, либо использование компаниями различных названий для своих объектов. Идентификаторы объектов, предоставленные в настоящем наборе данных не позволяют идентифицировать принадлежность объектов при описанных выше условиях, в силу чего на графике значительное количество наблюдений визуализируется на уровне количества заведений равному 1. \n",
    "\n",
    "Исходя из полученных данных, следует, что сети заведений общественного питания в Москве включают от 1 до 157 объектов, лишь 5% (29 абс.) сетей имеет более 16 заведений и лишь 10% имеет более 8 заведений.   \n",
    "\n",
    "Количество посадочных мест, среди анализируемых сетевых объектов варьировало от 0 до 580, 5% (28 абс.) объектов имеют более 160 мест, медиана посадочных мест равна 40, \"средняя\" половина заведений имеет от 18 до 80 мест.\n",
    "\n",
    "Таким образом преобладают (75% от общего количества) сети с относительно небольшим (до 3) количеством объектов и вместимостью до 80 посадочных мест. (3q для распределения количества объектов и посадочных мест)"
   ]
  },
  {
   "cell_type": "markdown",
   "id": "30089afb",
   "metadata": {},
   "source": [
    "## Среднее количество посадочных мест для каждого вида объекта общественного питания."
   ]
  },
  {
   "cell_type": "code",
   "execution_count": 24,
   "id": "1b1a1efd",
   "metadata": {},
   "outputs": [
    {
     "data": {
      "text/html": [
       "<div>\n",
       "<style scoped>\n",
       "    .dataframe tbody tr th:only-of-type {\n",
       "        vertical-align: middle;\n",
       "    }\n",
       "\n",
       "    .dataframe tbody tr th {\n",
       "        vertical-align: top;\n",
       "    }\n",
       "\n",
       "    .dataframe thead th {\n",
       "        text-align: right;\n",
       "    }\n",
       "</style>\n",
       "<table border=\"1\" class=\"dataframe\">\n",
       "  <thead>\n",
       "    <tr style=\"text-align: right;\">\n",
       "      <th></th>\n",
       "      <th>object_type</th>\n",
       "      <th>mean</th>\n",
       "      <th>std</th>\n",
       "      <th>count</th>\n",
       "    </tr>\n",
       "  </thead>\n",
       "  <tbody>\n",
       "    <tr>\n",
       "      <th>8</th>\n",
       "      <td>столовая</td>\n",
       "      <td>130.3</td>\n",
       "      <td>95.2</td>\n",
       "      <td>2584</td>\n",
       "    </tr>\n",
       "  </tbody>\n",
       "</table>\n",
       "</div>"
      ],
      "text/plain": [
       "  object_type   mean   std  count\n",
       "8    столовая  130.3  95.2   2584"
      ]
     },
     "metadata": {},
     "output_type": "display_data"
    }
   ],
   "source": [
    "# группируем данные для подсчета среднего кол-ва мест\n",
    "seat = rest_data.groupby('object_type')['number'].agg(\n",
    "    ['mean','std','count'\n",
    "    ]).reset_index().sort_values('mean', ascending=False).round(1)\n",
    "display(seat.head(1))\n"
   ]
  },
  {
   "cell_type": "code",
   "execution_count": 25,
   "id": "f26fa5f5",
   "metadata": {},
   "outputs": [],
   "source": [
    "# расчет CI для Bar plot количества мест в заведениях\n",
    "z=1.96\n",
    "seat['low_ci95'] = (seat['mean'] - z*(seat['std']/np.sqrt(seat['count']))).round(1)\n",
    "seat['upp_ci95'] = (seat['mean'] + z*(seat['std']/np.sqrt(seat['count']))).round(1)"
   ]
  },
  {
   "cell_type": "code",
   "execution_count": 27,
   "id": "24a7573e",
   "metadata": {},
   "outputs": [
    {
     "data": {
      "application/vnd.plotly.v1+json": {
       "config": {
        "plotlyServerURL": "https://plot.ly"
       },
       "data": [
        {
         "cells": {
          "values": [
           [
            "столовая",
            "ресторан",
            "буфет",
            "бар",
            "кафе",
            "предприятие быстрого обслуживания",
            "кафетерий",
            "закусочная",
            "магазин (отдел кулинарии)"
           ],
           [
            130.3,
            96.9,
            51.4,
            43.5,
            39.8,
            20.8,
            9.2,
            7.8,
            5.6
           ]
          ]
         },
         "domain": {
          "x": [
           0,
           0.45
          ],
          "y": [
           0,
           0.8
          ]
         },
         "header": {
          "values": [
           "Тип объекта",
           "Среднее кол-во мест"
          ]
         },
         "name": "first_plot",
         "type": "table"
        },
        {
         "error_y": {
          "array": [
           3.6999999999999886,
           3.8999999999999915,
           4.600000000000001,
           4.5,
           1,
           1.6999999999999993,
           1.4000000000000004,
           1.7999999999999998,
           1.2000000000000002
          ],
          "arrayminus": [
           3.700000000000017,
           3.9000000000000057,
           4.600000000000001,
           4.5,
           1,
           1.6999999999999993,
           1.3999999999999995,
           1.7999999999999998,
           1.1999999999999993
          ],
          "symmetric": false,
          "type": "data"
         },
         "name": "Кол-во мест",
         "type": "bar",
         "x": [
          "столовая",
          "ресторан",
          "буфет",
          "бар",
          "кафе",
          "предприятие быстрого обслуживания",
          "кафетерий",
          "закусочная",
          "магазин (отдел кулинарии)"
         ],
         "xaxis": "x",
         "y": [
          130.3,
          96.9,
          51.4,
          43.5,
          39.8,
          20.8,
          9.2,
          7.8,
          5.6
         ],
         "yaxis": "y"
        }
       ],
       "layout": {
        "height": 600,
        "margin": {
         "b": 0,
         "l": 0,
         "r": 0,
         "t": 50
        },
        "template": {
         "data": {
          "bar": [
           {
            "error_x": {
             "color": "#2a3f5f"
            },
            "error_y": {
             "color": "#2a3f5f"
            },
            "marker": {
             "line": {
              "color": "#E5ECF6",
              "width": 0.5
             },
             "pattern": {
              "fillmode": "overlay",
              "size": 10,
              "solidity": 0.2
             }
            },
            "type": "bar"
           }
          ],
          "barpolar": [
           {
            "marker": {
             "line": {
              "color": "#E5ECF6",
              "width": 0.5
             },
             "pattern": {
              "fillmode": "overlay",
              "size": 10,
              "solidity": 0.2
             }
            },
            "type": "barpolar"
           }
          ],
          "carpet": [
           {
            "aaxis": {
             "endlinecolor": "#2a3f5f",
             "gridcolor": "white",
             "linecolor": "white",
             "minorgridcolor": "white",
             "startlinecolor": "#2a3f5f"
            },
            "baxis": {
             "endlinecolor": "#2a3f5f",
             "gridcolor": "white",
             "linecolor": "white",
             "minorgridcolor": "white",
             "startlinecolor": "#2a3f5f"
            },
            "type": "carpet"
           }
          ],
          "choropleth": [
           {
            "colorbar": {
             "outlinewidth": 0,
             "ticks": ""
            },
            "type": "choropleth"
           }
          ],
          "contour": [
           {
            "colorbar": {
             "outlinewidth": 0,
             "ticks": ""
            },
            "colorscale": [
             [
              0,
              "#0d0887"
             ],
             [
              0.1111111111111111,
              "#46039f"
             ],
             [
              0.2222222222222222,
              "#7201a8"
             ],
             [
              0.3333333333333333,
              "#9c179e"
             ],
             [
              0.4444444444444444,
              "#bd3786"
             ],
             [
              0.5555555555555556,
              "#d8576b"
             ],
             [
              0.6666666666666666,
              "#ed7953"
             ],
             [
              0.7777777777777778,
              "#fb9f3a"
             ],
             [
              0.8888888888888888,
              "#fdca26"
             ],
             [
              1,
              "#f0f921"
             ]
            ],
            "type": "contour"
           }
          ],
          "contourcarpet": [
           {
            "colorbar": {
             "outlinewidth": 0,
             "ticks": ""
            },
            "type": "contourcarpet"
           }
          ],
          "heatmap": [
           {
            "colorbar": {
             "outlinewidth": 0,
             "ticks": ""
            },
            "colorscale": [
             [
              0,
              "#0d0887"
             ],
             [
              0.1111111111111111,
              "#46039f"
             ],
             [
              0.2222222222222222,
              "#7201a8"
             ],
             [
              0.3333333333333333,
              "#9c179e"
             ],
             [
              0.4444444444444444,
              "#bd3786"
             ],
             [
              0.5555555555555556,
              "#d8576b"
             ],
             [
              0.6666666666666666,
              "#ed7953"
             ],
             [
              0.7777777777777778,
              "#fb9f3a"
             ],
             [
              0.8888888888888888,
              "#fdca26"
             ],
             [
              1,
              "#f0f921"
             ]
            ],
            "type": "heatmap"
           }
          ],
          "heatmapgl": [
           {
            "colorbar": {
             "outlinewidth": 0,
             "ticks": ""
            },
            "colorscale": [
             [
              0,
              "#0d0887"
             ],
             [
              0.1111111111111111,
              "#46039f"
             ],
             [
              0.2222222222222222,
              "#7201a8"
             ],
             [
              0.3333333333333333,
              "#9c179e"
             ],
             [
              0.4444444444444444,
              "#bd3786"
             ],
             [
              0.5555555555555556,
              "#d8576b"
             ],
             [
              0.6666666666666666,
              "#ed7953"
             ],
             [
              0.7777777777777778,
              "#fb9f3a"
             ],
             [
              0.8888888888888888,
              "#fdca26"
             ],
             [
              1,
              "#f0f921"
             ]
            ],
            "type": "heatmapgl"
           }
          ],
          "histogram": [
           {
            "marker": {
             "pattern": {
              "fillmode": "overlay",
              "size": 10,
              "solidity": 0.2
             }
            },
            "type": "histogram"
           }
          ],
          "histogram2d": [
           {
            "colorbar": {
             "outlinewidth": 0,
             "ticks": ""
            },
            "colorscale": [
             [
              0,
              "#0d0887"
             ],
             [
              0.1111111111111111,
              "#46039f"
             ],
             [
              0.2222222222222222,
              "#7201a8"
             ],
             [
              0.3333333333333333,
              "#9c179e"
             ],
             [
              0.4444444444444444,
              "#bd3786"
             ],
             [
              0.5555555555555556,
              "#d8576b"
             ],
             [
              0.6666666666666666,
              "#ed7953"
             ],
             [
              0.7777777777777778,
              "#fb9f3a"
             ],
             [
              0.8888888888888888,
              "#fdca26"
             ],
             [
              1,
              "#f0f921"
             ]
            ],
            "type": "histogram2d"
           }
          ],
          "histogram2dcontour": [
           {
            "colorbar": {
             "outlinewidth": 0,
             "ticks": ""
            },
            "colorscale": [
             [
              0,
              "#0d0887"
             ],
             [
              0.1111111111111111,
              "#46039f"
             ],
             [
              0.2222222222222222,
              "#7201a8"
             ],
             [
              0.3333333333333333,
              "#9c179e"
             ],
             [
              0.4444444444444444,
              "#bd3786"
             ],
             [
              0.5555555555555556,
              "#d8576b"
             ],
             [
              0.6666666666666666,
              "#ed7953"
             ],
             [
              0.7777777777777778,
              "#fb9f3a"
             ],
             [
              0.8888888888888888,
              "#fdca26"
             ],
             [
              1,
              "#f0f921"
             ]
            ],
            "type": "histogram2dcontour"
           }
          ],
          "mesh3d": [
           {
            "colorbar": {
             "outlinewidth": 0,
             "ticks": ""
            },
            "type": "mesh3d"
           }
          ],
          "parcoords": [
           {
            "line": {
             "colorbar": {
              "outlinewidth": 0,
              "ticks": ""
             }
            },
            "type": "parcoords"
           }
          ],
          "pie": [
           {
            "automargin": true,
            "type": "pie"
           }
          ],
          "scatter": [
           {
            "marker": {
             "colorbar": {
              "outlinewidth": 0,
              "ticks": ""
             }
            },
            "type": "scatter"
           }
          ],
          "scatter3d": [
           {
            "line": {
             "colorbar": {
              "outlinewidth": 0,
              "ticks": ""
             }
            },
            "marker": {
             "colorbar": {
              "outlinewidth": 0,
              "ticks": ""
             }
            },
            "type": "scatter3d"
           }
          ],
          "scattercarpet": [
           {
            "marker": {
             "colorbar": {
              "outlinewidth": 0,
              "ticks": ""
             }
            },
            "type": "scattercarpet"
           }
          ],
          "scattergeo": [
           {
            "marker": {
             "colorbar": {
              "outlinewidth": 0,
              "ticks": ""
             }
            },
            "type": "scattergeo"
           }
          ],
          "scattergl": [
           {
            "marker": {
             "colorbar": {
              "outlinewidth": 0,
              "ticks": ""
             }
            },
            "type": "scattergl"
           }
          ],
          "scattermapbox": [
           {
            "marker": {
             "colorbar": {
              "outlinewidth": 0,
              "ticks": ""
             }
            },
            "type": "scattermapbox"
           }
          ],
          "scatterpolar": [
           {
            "marker": {
             "colorbar": {
              "outlinewidth": 0,
              "ticks": ""
             }
            },
            "type": "scatterpolar"
           }
          ],
          "scatterpolargl": [
           {
            "marker": {
             "colorbar": {
              "outlinewidth": 0,
              "ticks": ""
             }
            },
            "type": "scatterpolargl"
           }
          ],
          "scatterternary": [
           {
            "marker": {
             "colorbar": {
              "outlinewidth": 0,
              "ticks": ""
             }
            },
            "type": "scatterternary"
           }
          ],
          "surface": [
           {
            "colorbar": {
             "outlinewidth": 0,
             "ticks": ""
            },
            "colorscale": [
             [
              0,
              "#0d0887"
             ],
             [
              0.1111111111111111,
              "#46039f"
             ],
             [
              0.2222222222222222,
              "#7201a8"
             ],
             [
              0.3333333333333333,
              "#9c179e"
             ],
             [
              0.4444444444444444,
              "#bd3786"
             ],
             [
              0.5555555555555556,
              "#d8576b"
             ],
             [
              0.6666666666666666,
              "#ed7953"
             ],
             [
              0.7777777777777778,
              "#fb9f3a"
             ],
             [
              0.8888888888888888,
              "#fdca26"
             ],
             [
              1,
              "#f0f921"
             ]
            ],
            "type": "surface"
           }
          ],
          "table": [
           {
            "cells": {
             "fill": {
              "color": "#EBF0F8"
             },
             "line": {
              "color": "white"
             }
            },
            "header": {
             "fill": {
              "color": "#C8D4E3"
             },
             "line": {
              "color": "white"
             }
            },
            "type": "table"
           }
          ]
         },
         "layout": {
          "annotationdefaults": {
           "arrowcolor": "#2a3f5f",
           "arrowhead": 0,
           "arrowwidth": 1
          },
          "autotypenumbers": "strict",
          "coloraxis": {
           "colorbar": {
            "outlinewidth": 0,
            "ticks": ""
           }
          },
          "colorscale": {
           "diverging": [
            [
             0,
             "#8e0152"
            ],
            [
             0.1,
             "#c51b7d"
            ],
            [
             0.2,
             "#de77ae"
            ],
            [
             0.3,
             "#f1b6da"
            ],
            [
             0.4,
             "#fde0ef"
            ],
            [
             0.5,
             "#f7f7f7"
            ],
            [
             0.6,
             "#e6f5d0"
            ],
            [
             0.7,
             "#b8e186"
            ],
            [
             0.8,
             "#7fbc41"
            ],
            [
             0.9,
             "#4d9221"
            ],
            [
             1,
             "#276419"
            ]
           ],
           "sequential": [
            [
             0,
             "#0d0887"
            ],
            [
             0.1111111111111111,
             "#46039f"
            ],
            [
             0.2222222222222222,
             "#7201a8"
            ],
            [
             0.3333333333333333,
             "#9c179e"
            ],
            [
             0.4444444444444444,
             "#bd3786"
            ],
            [
             0.5555555555555556,
             "#d8576b"
            ],
            [
             0.6666666666666666,
             "#ed7953"
            ],
            [
             0.7777777777777778,
             "#fb9f3a"
            ],
            [
             0.8888888888888888,
             "#fdca26"
            ],
            [
             1,
             "#f0f921"
            ]
           ],
           "sequentialminus": [
            [
             0,
             "#0d0887"
            ],
            [
             0.1111111111111111,
             "#46039f"
            ],
            [
             0.2222222222222222,
             "#7201a8"
            ],
            [
             0.3333333333333333,
             "#9c179e"
            ],
            [
             0.4444444444444444,
             "#bd3786"
            ],
            [
             0.5555555555555556,
             "#d8576b"
            ],
            [
             0.6666666666666666,
             "#ed7953"
            ],
            [
             0.7777777777777778,
             "#fb9f3a"
            ],
            [
             0.8888888888888888,
             "#fdca26"
            ],
            [
             1,
             "#f0f921"
            ]
           ]
          },
          "colorway": [
           "#636efa",
           "#EF553B",
           "#00cc96",
           "#ab63fa",
           "#FFA15A",
           "#19d3f3",
           "#FF6692",
           "#B6E880",
           "#FF97FF",
           "#FECB52"
          ],
          "font": {
           "color": "#2a3f5f"
          },
          "geo": {
           "bgcolor": "white",
           "lakecolor": "white",
           "landcolor": "#E5ECF6",
           "showlakes": true,
           "showland": true,
           "subunitcolor": "white"
          },
          "hoverlabel": {
           "align": "left"
          },
          "hovermode": "closest",
          "mapbox": {
           "style": "light"
          },
          "paper_bgcolor": "white",
          "plot_bgcolor": "#E5ECF6",
          "polar": {
           "angularaxis": {
            "gridcolor": "white",
            "linecolor": "white",
            "ticks": ""
           },
           "bgcolor": "#E5ECF6",
           "radialaxis": {
            "gridcolor": "white",
            "linecolor": "white",
            "ticks": ""
           }
          },
          "scene": {
           "xaxis": {
            "backgroundcolor": "#E5ECF6",
            "gridcolor": "white",
            "gridwidth": 2,
            "linecolor": "white",
            "showbackground": true,
            "ticks": "",
            "zerolinecolor": "white"
           },
           "yaxis": {
            "backgroundcolor": "#E5ECF6",
            "gridcolor": "white",
            "gridwidth": 2,
            "linecolor": "white",
            "showbackground": true,
            "ticks": "",
            "zerolinecolor": "white"
           },
           "zaxis": {
            "backgroundcolor": "#E5ECF6",
            "gridcolor": "white",
            "gridwidth": 2,
            "linecolor": "white",
            "showbackground": true,
            "ticks": "",
            "zerolinecolor": "white"
           }
          },
          "shapedefaults": {
           "line": {
            "color": "#2a3f5f"
           }
          },
          "ternary": {
           "aaxis": {
            "gridcolor": "white",
            "linecolor": "white",
            "ticks": ""
           },
           "baxis": {
            "gridcolor": "white",
            "linecolor": "white",
            "ticks": ""
           },
           "bgcolor": "#E5ECF6",
           "caxis": {
            "gridcolor": "white",
            "linecolor": "white",
            "ticks": ""
           }
          },
          "title": {
           "x": 0.05
          },
          "xaxis": {
           "automargin": true,
           "gridcolor": "white",
           "linecolor": "white",
           "ticks": "",
           "title": {
            "standoff": 15
           },
           "zerolinecolor": "white",
           "zerolinewidth": 2
          },
          "yaxis": {
           "automargin": true,
           "gridcolor": "white",
           "linecolor": "white",
           "ticks": "",
           "title": {
            "standoff": 15
           },
           "zerolinecolor": "white",
           "zerolinewidth": 2
          }
         }
        },
        "title": {
         "font": {
          "color": "black",
          "size": 18
         },
         "text": "<b>Среднее кол-во посадочных мест</b>",
         "x": 0.5,
         "xanchor": "center"
        },
        "width": 950,
        "xaxis": {
         "anchor": "y",
         "domain": [
          0.55,
          1
         ]
        },
        "yaxis": {
         "anchor": "x",
         "domain": [
          0,
          1
         ]
        }
       }
      },
      "text/html": [
       "<div>                            <div id=\"64cd5729-1c18-4075-acd4-12f2063a857d\" class=\"plotly-graph-div\" style=\"height:600px; width:950px;\"></div>            <script type=\"text/javascript\">                require([\"plotly\"], function(Plotly) {                    window.PLOTLYENV=window.PLOTLYENV || {};                                    if (document.getElementById(\"64cd5729-1c18-4075-acd4-12f2063a857d\")) {                    Plotly.newPlot(                        \"64cd5729-1c18-4075-acd4-12f2063a857d\",                        [{\"cells\":{\"values\":[[\"\\u0441\\u0442\\u043e\\u043b\\u043e\\u0432\\u0430\\u044f\",\"\\u0440\\u0435\\u0441\\u0442\\u043e\\u0440\\u0430\\u043d\",\"\\u0431\\u0443\\u0444\\u0435\\u0442\",\"\\u0431\\u0430\\u0440\",\"\\u043a\\u0430\\u0444\\u0435\",\"\\u043f\\u0440\\u0435\\u0434\\u043f\\u0440\\u0438\\u044f\\u0442\\u0438\\u0435 \\u0431\\u044b\\u0441\\u0442\\u0440\\u043e\\u0433\\u043e \\u043e\\u0431\\u0441\\u043b\\u0443\\u0436\\u0438\\u0432\\u0430\\u043d\\u0438\\u044f\",\"\\u043a\\u0430\\u0444\\u0435\\u0442\\u0435\\u0440\\u0438\\u0439\",\"\\u0437\\u0430\\u043a\\u0443\\u0441\\u043e\\u0447\\u043d\\u0430\\u044f\",\"\\u043c\\u0430\\u0433\\u0430\\u0437\\u0438\\u043d (\\u043e\\u0442\\u0434\\u0435\\u043b \\u043a\\u0443\\u043b\\u0438\\u043d\\u0430\\u0440\\u0438\\u0438)\"],[130.3,96.9,51.4,43.5,39.8,20.8,9.2,7.8,5.6]]},\"header\":{\"values\":[\"\\u0422\\u0438\\u043f \\u043e\\u0431\\u044a\\u0435\\u043a\\u0442\\u0430\",\"\\u0421\\u0440\\u0435\\u0434\\u043d\\u0435\\u0435 \\u043a\\u043e\\u043b-\\u0432\\u043e \\u043c\\u0435\\u0441\\u0442\"]},\"name\":\"first_plot\",\"type\":\"table\",\"domain\":{\"x\":[0.0,0.45],\"y\":[0,0.8]}},{\"error_y\":{\"array\":[3.6999999999999886,3.8999999999999915,4.600000000000001,4.5,1.0,1.6999999999999993,1.4000000000000004,1.7999999999999998,1.2000000000000002],\"arrayminus\":[3.700000000000017,3.9000000000000057,4.600000000000001,4.5,1.0,1.6999999999999993,1.3999999999999995,1.7999999999999998,1.1999999999999993],\"symmetric\":false,\"type\":\"data\"},\"name\":\"\\u041a\\u043e\\u043b-\\u0432\\u043e \\u043c\\u0435\\u0441\\u0442\",\"x\":[\"\\u0441\\u0442\\u043e\\u043b\\u043e\\u0432\\u0430\\u044f\",\"\\u0440\\u0435\\u0441\\u0442\\u043e\\u0440\\u0430\\u043d\",\"\\u0431\\u0443\\u0444\\u0435\\u0442\",\"\\u0431\\u0430\\u0440\",\"\\u043a\\u0430\\u0444\\u0435\",\"\\u043f\\u0440\\u0435\\u0434\\u043f\\u0440\\u0438\\u044f\\u0442\\u0438\\u0435 \\u0431\\u044b\\u0441\\u0442\\u0440\\u043e\\u0433\\u043e \\u043e\\u0431\\u0441\\u043b\\u0443\\u0436\\u0438\\u0432\\u0430\\u043d\\u0438\\u044f\",\"\\u043a\\u0430\\u0444\\u0435\\u0442\\u0435\\u0440\\u0438\\u0439\",\"\\u0437\\u0430\\u043a\\u0443\\u0441\\u043e\\u0447\\u043d\\u0430\\u044f\",\"\\u043c\\u0430\\u0433\\u0430\\u0437\\u0438\\u043d (\\u043e\\u0442\\u0434\\u0435\\u043b \\u043a\\u0443\\u043b\\u0438\\u043d\\u0430\\u0440\\u0438\\u0438)\"],\"y\":[130.3,96.9,51.4,43.5,39.8,20.8,9.2,7.8,5.6],\"type\":\"bar\",\"xaxis\":\"x\",\"yaxis\":\"y\"}],                        {\"template\":{\"data\":{\"bar\":[{\"error_x\":{\"color\":\"#2a3f5f\"},\"error_y\":{\"color\":\"#2a3f5f\"},\"marker\":{\"line\":{\"color\":\"#E5ECF6\",\"width\":0.5},\"pattern\":{\"fillmode\":\"overlay\",\"size\":10,\"solidity\":0.2}},\"type\":\"bar\"}],\"barpolar\":[{\"marker\":{\"line\":{\"color\":\"#E5ECF6\",\"width\":0.5},\"pattern\":{\"fillmode\":\"overlay\",\"size\":10,\"solidity\":0.2}},\"type\":\"barpolar\"}],\"carpet\":[{\"aaxis\":{\"endlinecolor\":\"#2a3f5f\",\"gridcolor\":\"white\",\"linecolor\":\"white\",\"minorgridcolor\":\"white\",\"startlinecolor\":\"#2a3f5f\"},\"baxis\":{\"endlinecolor\":\"#2a3f5f\",\"gridcolor\":\"white\",\"linecolor\":\"white\",\"minorgridcolor\":\"white\",\"startlinecolor\":\"#2a3f5f\"},\"type\":\"carpet\"}],\"choropleth\":[{\"colorbar\":{\"outlinewidth\":0,\"ticks\":\"\"},\"type\":\"choropleth\"}],\"contour\":[{\"colorbar\":{\"outlinewidth\":0,\"ticks\":\"\"},\"colorscale\":[[0.0,\"#0d0887\"],[0.1111111111111111,\"#46039f\"],[0.2222222222222222,\"#7201a8\"],[0.3333333333333333,\"#9c179e\"],[0.4444444444444444,\"#bd3786\"],[0.5555555555555556,\"#d8576b\"],[0.6666666666666666,\"#ed7953\"],[0.7777777777777778,\"#fb9f3a\"],[0.8888888888888888,\"#fdca26\"],[1.0,\"#f0f921\"]],\"type\":\"contour\"}],\"contourcarpet\":[{\"colorbar\":{\"outlinewidth\":0,\"ticks\":\"\"},\"type\":\"contourcarpet\"}],\"heatmap\":[{\"colorbar\":{\"outlinewidth\":0,\"ticks\":\"\"},\"colorscale\":[[0.0,\"#0d0887\"],[0.1111111111111111,\"#46039f\"],[0.2222222222222222,\"#7201a8\"],[0.3333333333333333,\"#9c179e\"],[0.4444444444444444,\"#bd3786\"],[0.5555555555555556,\"#d8576b\"],[0.6666666666666666,\"#ed7953\"],[0.7777777777777778,\"#fb9f3a\"],[0.8888888888888888,\"#fdca26\"],[1.0,\"#f0f921\"]],\"type\":\"heatmap\"}],\"heatmapgl\":[{\"colorbar\":{\"outlinewidth\":0,\"ticks\":\"\"},\"colorscale\":[[0.0,\"#0d0887\"],[0.1111111111111111,\"#46039f\"],[0.2222222222222222,\"#7201a8\"],[0.3333333333333333,\"#9c179e\"],[0.4444444444444444,\"#bd3786\"],[0.5555555555555556,\"#d8576b\"],[0.6666666666666666,\"#ed7953\"],[0.7777777777777778,\"#fb9f3a\"],[0.8888888888888888,\"#fdca26\"],[1.0,\"#f0f921\"]],\"type\":\"heatmapgl\"}],\"histogram\":[{\"marker\":{\"pattern\":{\"fillmode\":\"overlay\",\"size\":10,\"solidity\":0.2}},\"type\":\"histogram\"}],\"histogram2d\":[{\"colorbar\":{\"outlinewidth\":0,\"ticks\":\"\"},\"colorscale\":[[0.0,\"#0d0887\"],[0.1111111111111111,\"#46039f\"],[0.2222222222222222,\"#7201a8\"],[0.3333333333333333,\"#9c179e\"],[0.4444444444444444,\"#bd3786\"],[0.5555555555555556,\"#d8576b\"],[0.6666666666666666,\"#ed7953\"],[0.7777777777777778,\"#fb9f3a\"],[0.8888888888888888,\"#fdca26\"],[1.0,\"#f0f921\"]],\"type\":\"histogram2d\"}],\"histogram2dcontour\":[{\"colorbar\":{\"outlinewidth\":0,\"ticks\":\"\"},\"colorscale\":[[0.0,\"#0d0887\"],[0.1111111111111111,\"#46039f\"],[0.2222222222222222,\"#7201a8\"],[0.3333333333333333,\"#9c179e\"],[0.4444444444444444,\"#bd3786\"],[0.5555555555555556,\"#d8576b\"],[0.6666666666666666,\"#ed7953\"],[0.7777777777777778,\"#fb9f3a\"],[0.8888888888888888,\"#fdca26\"],[1.0,\"#f0f921\"]],\"type\":\"histogram2dcontour\"}],\"mesh3d\":[{\"colorbar\":{\"outlinewidth\":0,\"ticks\":\"\"},\"type\":\"mesh3d\"}],\"parcoords\":[{\"line\":{\"colorbar\":{\"outlinewidth\":0,\"ticks\":\"\"}},\"type\":\"parcoords\"}],\"pie\":[{\"automargin\":true,\"type\":\"pie\"}],\"scatter\":[{\"marker\":{\"colorbar\":{\"outlinewidth\":0,\"ticks\":\"\"}},\"type\":\"scatter\"}],\"scatter3d\":[{\"line\":{\"colorbar\":{\"outlinewidth\":0,\"ticks\":\"\"}},\"marker\":{\"colorbar\":{\"outlinewidth\":0,\"ticks\":\"\"}},\"type\":\"scatter3d\"}],\"scattercarpet\":[{\"marker\":{\"colorbar\":{\"outlinewidth\":0,\"ticks\":\"\"}},\"type\":\"scattercarpet\"}],\"scattergeo\":[{\"marker\":{\"colorbar\":{\"outlinewidth\":0,\"ticks\":\"\"}},\"type\":\"scattergeo\"}],\"scattergl\":[{\"marker\":{\"colorbar\":{\"outlinewidth\":0,\"ticks\":\"\"}},\"type\":\"scattergl\"}],\"scattermapbox\":[{\"marker\":{\"colorbar\":{\"outlinewidth\":0,\"ticks\":\"\"}},\"type\":\"scattermapbox\"}],\"scatterpolar\":[{\"marker\":{\"colorbar\":{\"outlinewidth\":0,\"ticks\":\"\"}},\"type\":\"scatterpolar\"}],\"scatterpolargl\":[{\"marker\":{\"colorbar\":{\"outlinewidth\":0,\"ticks\":\"\"}},\"type\":\"scatterpolargl\"}],\"scatterternary\":[{\"marker\":{\"colorbar\":{\"outlinewidth\":0,\"ticks\":\"\"}},\"type\":\"scatterternary\"}],\"surface\":[{\"colorbar\":{\"outlinewidth\":0,\"ticks\":\"\"},\"colorscale\":[[0.0,\"#0d0887\"],[0.1111111111111111,\"#46039f\"],[0.2222222222222222,\"#7201a8\"],[0.3333333333333333,\"#9c179e\"],[0.4444444444444444,\"#bd3786\"],[0.5555555555555556,\"#d8576b\"],[0.6666666666666666,\"#ed7953\"],[0.7777777777777778,\"#fb9f3a\"],[0.8888888888888888,\"#fdca26\"],[1.0,\"#f0f921\"]],\"type\":\"surface\"}],\"table\":[{\"cells\":{\"fill\":{\"color\":\"#EBF0F8\"},\"line\":{\"color\":\"white\"}},\"header\":{\"fill\":{\"color\":\"#C8D4E3\"},\"line\":{\"color\":\"white\"}},\"type\":\"table\"}]},\"layout\":{\"annotationdefaults\":{\"arrowcolor\":\"#2a3f5f\",\"arrowhead\":0,\"arrowwidth\":1},\"autotypenumbers\":\"strict\",\"coloraxis\":{\"colorbar\":{\"outlinewidth\":0,\"ticks\":\"\"}},\"colorscale\":{\"diverging\":[[0,\"#8e0152\"],[0.1,\"#c51b7d\"],[0.2,\"#de77ae\"],[0.3,\"#f1b6da\"],[0.4,\"#fde0ef\"],[0.5,\"#f7f7f7\"],[0.6,\"#e6f5d0\"],[0.7,\"#b8e186\"],[0.8,\"#7fbc41\"],[0.9,\"#4d9221\"],[1,\"#276419\"]],\"sequential\":[[0.0,\"#0d0887\"],[0.1111111111111111,\"#46039f\"],[0.2222222222222222,\"#7201a8\"],[0.3333333333333333,\"#9c179e\"],[0.4444444444444444,\"#bd3786\"],[0.5555555555555556,\"#d8576b\"],[0.6666666666666666,\"#ed7953\"],[0.7777777777777778,\"#fb9f3a\"],[0.8888888888888888,\"#fdca26\"],[1.0,\"#f0f921\"]],\"sequentialminus\":[[0.0,\"#0d0887\"],[0.1111111111111111,\"#46039f\"],[0.2222222222222222,\"#7201a8\"],[0.3333333333333333,\"#9c179e\"],[0.4444444444444444,\"#bd3786\"],[0.5555555555555556,\"#d8576b\"],[0.6666666666666666,\"#ed7953\"],[0.7777777777777778,\"#fb9f3a\"],[0.8888888888888888,\"#fdca26\"],[1.0,\"#f0f921\"]]},\"colorway\":[\"#636efa\",\"#EF553B\",\"#00cc96\",\"#ab63fa\",\"#FFA15A\",\"#19d3f3\",\"#FF6692\",\"#B6E880\",\"#FF97FF\",\"#FECB52\"],\"font\":{\"color\":\"#2a3f5f\"},\"geo\":{\"bgcolor\":\"white\",\"lakecolor\":\"white\",\"landcolor\":\"#E5ECF6\",\"showlakes\":true,\"showland\":true,\"subunitcolor\":\"white\"},\"hoverlabel\":{\"align\":\"left\"},\"hovermode\":\"closest\",\"mapbox\":{\"style\":\"light\"},\"paper_bgcolor\":\"white\",\"plot_bgcolor\":\"#E5ECF6\",\"polar\":{\"angularaxis\":{\"gridcolor\":\"white\",\"linecolor\":\"white\",\"ticks\":\"\"},\"bgcolor\":\"#E5ECF6\",\"radialaxis\":{\"gridcolor\":\"white\",\"linecolor\":\"white\",\"ticks\":\"\"}},\"scene\":{\"xaxis\":{\"backgroundcolor\":\"#E5ECF6\",\"gridcolor\":\"white\",\"gridwidth\":2,\"linecolor\":\"white\",\"showbackground\":true,\"ticks\":\"\",\"zerolinecolor\":\"white\"},\"yaxis\":{\"backgroundcolor\":\"#E5ECF6\",\"gridcolor\":\"white\",\"gridwidth\":2,\"linecolor\":\"white\",\"showbackground\":true,\"ticks\":\"\",\"zerolinecolor\":\"white\"},\"zaxis\":{\"backgroundcolor\":\"#E5ECF6\",\"gridcolor\":\"white\",\"gridwidth\":2,\"linecolor\":\"white\",\"showbackground\":true,\"ticks\":\"\",\"zerolinecolor\":\"white\"}},\"shapedefaults\":{\"line\":{\"color\":\"#2a3f5f\"}},\"ternary\":{\"aaxis\":{\"gridcolor\":\"white\",\"linecolor\":\"white\",\"ticks\":\"\"},\"baxis\":{\"gridcolor\":\"white\",\"linecolor\":\"white\",\"ticks\":\"\"},\"bgcolor\":\"#E5ECF6\",\"caxis\":{\"gridcolor\":\"white\",\"linecolor\":\"white\",\"ticks\":\"\"}},\"title\":{\"x\":0.05},\"xaxis\":{\"automargin\":true,\"gridcolor\":\"white\",\"linecolor\":\"white\",\"ticks\":\"\",\"title\":{\"standoff\":15},\"zerolinecolor\":\"white\",\"zerolinewidth\":2},\"yaxis\":{\"automargin\":true,\"gridcolor\":\"white\",\"linecolor\":\"white\",\"ticks\":\"\",\"title\":{\"standoff\":15},\"zerolinecolor\":\"white\",\"zerolinewidth\":2}}},\"xaxis\":{\"anchor\":\"y\",\"domain\":[0.55,1.0]},\"yaxis\":{\"anchor\":\"x\",\"domain\":[0.0,1.0]},\"title\":{\"font\":{\"size\":18,\"color\":\"black\"},\"text\":\"<b>\\u0421\\u0440\\u0435\\u0434\\u043d\\u0435\\u0435 \\u043a\\u043e\\u043b-\\u0432\\u043e \\u043f\\u043e\\u0441\\u0430\\u0434\\u043e\\u0447\\u043d\\u044b\\u0445 \\u043c\\u0435\\u0441\\u0442</b>\",\"xanchor\":\"center\",\"x\":0.5},\"margin\":{\"r\":0,\"l\":0,\"t\":50,\"b\":0},\"width\":950,\"height\":600},                        {\"responsive\": true}                    ).then(function(){\n",
       "                            \n",
       "var gd = document.getElementById('64cd5729-1c18-4075-acd4-12f2063a857d');\n",
       "var x = new MutationObserver(function (mutations, observer) {{\n",
       "        var display = window.getComputedStyle(gd).display;\n",
       "        if (!display || display === 'none') {{\n",
       "            console.log([gd, 'removed!']);\n",
       "            Plotly.purge(gd);\n",
       "            observer.disconnect();\n",
       "        }}\n",
       "}});\n",
       "\n",
       "// Listen for the removal of the full notebook cells\n",
       "var notebookContainer = gd.closest('#notebook-container');\n",
       "if (notebookContainer) {{\n",
       "    x.observe(notebookContainer, {childList: true});\n",
       "}}\n",
       "\n",
       "// Listen for the clearing of the current output cell\n",
       "var outputEl = gd.closest('.output');\n",
       "if (outputEl) {{\n",
       "    x.observe(outputEl, {childList: true});\n",
       "}}\n",
       "\n",
       "                        })                };                });            </script>        </div>"
      ]
     },
     "metadata": {},
     "output_type": "display_data"
    }
   ],
   "source": [
    "# график среднего распределения среднего кол-ва посадочных мест по типам заведений\n",
    "fig = make_subplots(rows=1,cols=2,specs=[[{'type':'domain'}, {'type':'xy'}]])\n",
    "fig.add_trace(go.Table(header=dict(values=['Тип объекта','Среднее кол-во мест']),\n",
    "                      cells=dict(values=[seat[k].to_list() for k in seat.columns[:2]]),\n",
    "                      name='first_plot'),1,1)\n",
    "\n",
    "fig.add_traces(go.Bar(x=seat['object_type'], y=seat['mean'],\n",
    "                      error_y={'type':'data',\n",
    "                                   'symmetric':False,\n",
    "                                   'array':seat['upp_ci95']-seat['mean'],\n",
    "                                   'arrayminus': seat['mean']-seat['low_ci95']},\n",
    "                      name='Кол-во мест'),1,2)\n",
    "fig.update_traces()\n",
    "fig.update_traces(domain=dict(x=[0, 0.45], y=[0, 0.80]), \n",
    "                  selector={'name':'first_plot'})\n",
    "fig.update_layout(width = 950, height = 600,\n",
    "                 title_text ='<b>Среднее кол-во посадочных мест</b>',\n",
    "                 title_font_size = 18,\n",
    "                 title_xanchor='center',\n",
    "                 title_x=.5,\n",
    "                 title_font_color='black',\n",
    "                 margin = dict(r=0,l=0,t=50,b=0))\n",
    "fig.show()"
   ]
  },
  {
   "cell_type": "markdown",
   "id": "755018fb",
   "metadata": {},
   "source": [
    "***Вывод***  \n",
    "Наиболее крупными заведениями с точки зрения количества мест являются столовые - в среднем 130 мест, ща ними следуют рестораны и буфеты - 97 мест и 51 соответственно. Наименьшей вместимостью характеризуются отделы кулинарии магазинов - в среднем около 5 посадочных мест. "
   ]
  },
  {
   "cell_type": "markdown",
   "id": "d80f2889",
   "metadata": {},
   "source": [
    "# География заведений общественного питания Москвы."
   ]
  },
  {
   "cell_type": "code",
   "execution_count": 28,
   "id": "76cbf4bc",
   "metadata": {},
   "outputs": [
    {
     "data": {
      "text/html": [
       "<div>\n",
       "<style scoped>\n",
       "    .dataframe tbody tr th:only-of-type {\n",
       "        vertical-align: middle;\n",
       "    }\n",
       "\n",
       "    .dataframe tbody tr th {\n",
       "        vertical-align: top;\n",
       "    }\n",
       "\n",
       "    .dataframe thead th {\n",
       "        text-align: right;\n",
       "    }\n",
       "</style>\n",
       "<table border=\"1\" class=\"dataframe\">\n",
       "  <thead>\n",
       "    <tr style=\"text-align: right;\">\n",
       "      <th></th>\n",
       "      <th>id</th>\n",
       "      <th>object_name</th>\n",
       "      <th>chain</th>\n",
       "      <th>object_type</th>\n",
       "      <th>address</th>\n",
       "      <th>number</th>\n",
       "      <th>street</th>\n",
       "    </tr>\n",
       "  </thead>\n",
       "  <tbody>\n",
       "    <tr>\n",
       "      <th>0</th>\n",
       "      <td>151635</td>\n",
       "      <td>сметана</td>\n",
       "      <td>нет</td>\n",
       "      <td>кафе</td>\n",
       "      <td>город москва, улица егора абакумова, дом 9</td>\n",
       "      <td>48</td>\n",
       "      <td>улица егора абакумова</td>\n",
       "    </tr>\n",
       "    <tr>\n",
       "      <th>1</th>\n",
       "      <td>77874</td>\n",
       "      <td>родник</td>\n",
       "      <td>нет</td>\n",
       "      <td>кафе</td>\n",
       "      <td>город москва, улица талалихина, дом 2/1, корпус 1</td>\n",
       "      <td>35</td>\n",
       "      <td>улица талалихина</td>\n",
       "    </tr>\n",
       "    <tr>\n",
       "      <th>2</th>\n",
       "      <td>24309</td>\n",
       "      <td>кафе «академия»</td>\n",
       "      <td>нет</td>\n",
       "      <td>кафе</td>\n",
       "      <td>город москва, абельмановская улица, дом 6</td>\n",
       "      <td>95</td>\n",
       "      <td>абельмановская улица</td>\n",
       "    </tr>\n",
       "  </tbody>\n",
       "</table>\n",
       "</div>"
      ],
      "text/plain": [
       "       id      object_name chain object_type  \\\n",
       "0  151635          сметана   нет        кафе   \n",
       "1   77874           родник   нет        кафе   \n",
       "2   24309  кафе «академия»   нет        кафе   \n",
       "\n",
       "                                             address  number  \\\n",
       "0         город москва, улица егора абакумова, дом 9      48   \n",
       "1  город москва, улица талалихина, дом 2/1, корпус 1      35   \n",
       "2          город москва, абельмановская улица, дом 6      95   \n",
       "\n",
       "                  street  \n",
       "0  улица егора абакумова  \n",
       "1       улица талалихина  \n",
       "2   абельмановская улица  "
      ]
     },
     "metadata": {},
     "output_type": "display_data"
    },
    {
     "data": {
      "text/plain": [
       "0"
      ]
     },
     "metadata": {},
     "output_type": "display_data"
    }
   ],
   "source": [
    "# Выделение в отдельный столбец информации об улице из столбца address .\n",
    "def street(addr):\n",
    "    addr=addr.split(',')\n",
    "    new=''\n",
    "    for i in addr:\n",
    "        if 'улица' in i or 'проспект' in i or 'переулок' in i or 'шоссе' in i or 'бульвар' in i or 'проезд' in i or 'набережная' in i or 'площадь' in i or 'аллея' in i or 'Проезд' in i or 'линия' in i or 'деревня' in i or 'тупик' in i or 'квартал' in i:\n",
    "            new += i\n",
    "        else:\n",
    "            pass\n",
    "    return new\n",
    "\n",
    "# возможно критерий отбора для улицы или иной территориальной единицы не оптимален, но лучше придумать не смог.\n",
    "rest_data['street'] = rest_data['address'].apply(street)\n",
    "rest_data['street'] = rest_data['street'].str.strip()\n",
    "display(rest_data.head(3))\n",
    "\n",
    "display(rest_data['street'].isnull().sum())"
   ]
  },
  {
   "cell_type": "markdown",
   "id": "7de98e67",
   "metadata": {},
   "source": [
    "# Топ-10 улиц по количеству объектов общественного питания.  Определение районов, в которых находятся эти улицы.¶"
   ]
  },
  {
   "cell_type": "code",
   "execution_count": 49,
   "id": "a356cb1c",
   "metadata": {},
   "outputs": [
    {
     "data": {
      "text/html": [
       "<div>\n",
       "<style scoped>\n",
       "    .dataframe tbody tr th:only-of-type {\n",
       "        vertical-align: middle;\n",
       "    }\n",
       "\n",
       "    .dataframe tbody tr th {\n",
       "        vertical-align: top;\n",
       "    }\n",
       "\n",
       "    .dataframe thead th {\n",
       "        text-align: right;\n",
       "    }\n",
       "</style>\n",
       "<table border=\"1\" class=\"dataframe\">\n",
       "  <thead>\n",
       "    <tr style=\"text-align: right;\">\n",
       "      <th></th>\n",
       "      <th>index</th>\n",
       "      <th>street</th>\n",
       "      <th>id</th>\n",
       "    </tr>\n",
       "  </thead>\n",
       "  <tbody>\n",
       "    <tr>\n",
       "      <th>1</th>\n",
       "      <td>1117</td>\n",
       "      <td>проспект мира</td>\n",
       "      <td>203</td>\n",
       "    </tr>\n",
       "    <tr>\n",
       "      <th>2</th>\n",
       "      <td>1121</td>\n",
       "      <td>профсоюзная улица</td>\n",
       "      <td>182</td>\n",
       "    </tr>\n",
       "    <tr>\n",
       "      <th>3</th>\n",
       "      <td>743</td>\n",
       "      <td>ленинградский проспект</td>\n",
       "      <td>172</td>\n",
       "    </tr>\n",
       "    <tr>\n",
       "      <th>4</th>\n",
       "      <td>1072</td>\n",
       "      <td>пресненская набережная</td>\n",
       "      <td>167</td>\n",
       "    </tr>\n",
       "    <tr>\n",
       "      <th>5</th>\n",
       "      <td>411</td>\n",
       "      <td>варшавское шоссе</td>\n",
       "      <td>165</td>\n",
       "    </tr>\n",
       "    <tr>\n",
       "      <th>6</th>\n",
       "      <td>746</td>\n",
       "      <td>ленинский проспект</td>\n",
       "      <td>148</td>\n",
       "    </tr>\n",
       "    <tr>\n",
       "      <th>7</th>\n",
       "      <td>1113</td>\n",
       "      <td>проспект вернадского</td>\n",
       "      <td>128</td>\n",
       "    </tr>\n",
       "    <tr>\n",
       "      <th>8</th>\n",
       "      <td>733</td>\n",
       "      <td>кутузовский проспект</td>\n",
       "      <td>114</td>\n",
       "    </tr>\n",
       "    <tr>\n",
       "      <th>9</th>\n",
       "      <td>653</td>\n",
       "      <td>каширское шоссе</td>\n",
       "      <td>111</td>\n",
       "    </tr>\n",
       "    <tr>\n",
       "      <th>10</th>\n",
       "      <td>663</td>\n",
       "      <td>кировоградская улица</td>\n",
       "      <td>108</td>\n",
       "    </tr>\n",
       "  </tbody>\n",
       "</table>\n",
       "</div>"
      ],
      "text/plain": [
       "    index                  street   id\n",
       "1    1117           проспект мира  203\n",
       "2    1121       профсоюзная улица  182\n",
       "3     743  ленинградский проспект  172\n",
       "4    1072  пресненская набережная  167\n",
       "5     411        варшавское шоссе  165\n",
       "6     746      ленинский проспект  148\n",
       "7    1113    проспект вернадского  128\n",
       "8     733    кутузовский проспект  114\n",
       "9     653         каширское шоссе  111\n",
       "10    663    кировоградская улица  108"
      ]
     },
     "metadata": {},
     "output_type": "display_data"
    }
   ],
   "source": [
    "pop_street = rest_data.groupby('street')['id'].count().reset_index().sort_values('id', ascending=False)\n",
    "\n",
    "pop10=pop_street.reset_index().head(15)\n",
    "pop10['street'] = pop10['street'].str.strip()\n",
    "pop10=pop10.loc[1:10,]\n",
    "display(pop10)"
   ]
  },
  {
   "cell_type": "code",
   "execution_count": 48,
   "id": "e589dc84",
   "metadata": {},
   "outputs": [
    {
     "data": {
      "image/png": "[encoded data removed]",
      "text/plain": [
       "<Figure size 1008x504 with 1 Axes>"
      ]
     },
     "metadata": {},
     "output_type": "display_data"
    }
   ],
   "source": [
    "# график самых популярных улиц\n",
    "fig=plt.figure(figsize=(14,7))\n",
    "sns.set_style('darkgrid')\n",
    "sns.barplot(x='street',y='id', data=pop10, color='royalblue')\n",
    "plt.xticks(rotation=50)\n",
    "plt.xlabel('Улица')\n",
    "plt.ylabel('Количество заведений общепита')\n",
    "plt.title('Самые популярные улицы', fontdict={'fontsize': 16, 'fontweight':'bold'},y=1.01)\n",
    "plt.show()"
   ]
  },
  {
   "cell_type": "markdown",
   "id": "0a74d9df",
   "metadata": {},
   "source": [
    "## Определение районов соответствующих топ-10 улиц.\n"
   ]
  },
  {
   "cell_type": "code",
   "execution_count": 54,
   "id": "08e391da",
   "metadata": {},
   "outputs": [
    {
     "data": {
      "text/html": [
       "<div>\n",
       "<style scoped>\n",
       "    .dataframe tbody tr th:only-of-type {\n",
       "        vertical-align: middle;\n",
       "    }\n",
       "\n",
       "    .dataframe tbody tr th {\n",
       "        vertical-align: top;\n",
       "    }\n",
       "\n",
       "    .dataframe thead th {\n",
       "        text-align: right;\n",
       "    }\n",
       "</style>\n",
       "<table border=\"1\" class=\"dataframe\">\n",
       "  <thead>\n",
       "    <tr style=\"text-align: right;\">\n",
       "      <th></th>\n",
       "      <th>street</th>\n",
       "      <th>area</th>\n",
       "    </tr>\n",
       "  </thead>\n",
       "  <tbody>\n",
       "    <tr>\n",
       "      <th>0</th>\n",
       "      <td>варшавское шоссе</td>\n",
       "      <td>[Район Чертаново Центральное, Район Чертаново ...</td>\n",
       "    </tr>\n",
       "    <tr>\n",
       "      <th>1</th>\n",
       "      <td>каширское шоссе</td>\n",
       "      <td>[Район Москворечье-Сабурово, Район Нагатино-Са...</td>\n",
       "    </tr>\n",
       "    <tr>\n",
       "      <th>2</th>\n",
       "      <td>кировоградская улица</td>\n",
       "      <td>[Район Чертаново Центральное, Район Чертаново ...</td>\n",
       "    </tr>\n",
       "    <tr>\n",
       "      <th>3</th>\n",
       "      <td>кутузовский проспект</td>\n",
       "      <td>[Район Дорогомилово, Район Фили-Давыдково]</td>\n",
       "    </tr>\n",
       "    <tr>\n",
       "      <th>4</th>\n",
       "      <td>ленинградский проспект</td>\n",
       "      <td>[Район Аэропорт, Район Беговой, Хорошевский ра...</td>\n",
       "    </tr>\n",
       "    <tr>\n",
       "      <th>5</th>\n",
       "      <td>ленинский проспект</td>\n",
       "      <td>[Район Проспект Вернадского, Район Тропарево-Н...</td>\n",
       "    </tr>\n",
       "    <tr>\n",
       "      <th>6</th>\n",
       "      <td>пресненская набережная</td>\n",
       "      <td>[Пресненский район]</td>\n",
       "    </tr>\n",
       "    <tr>\n",
       "      <th>7</th>\n",
       "      <td>проспект вернадского</td>\n",
       "      <td>[Район Проспект Вернадского, Район Раменки, Ра...</td>\n",
       "    </tr>\n",
       "    <tr>\n",
       "      <th>8</th>\n",
       "      <td>проспект мира</td>\n",
       "      <td>[Алексеевский район, Ярославский Район, Район ...</td>\n",
       "    </tr>\n",
       "    <tr>\n",
       "      <th>9</th>\n",
       "      <td>профсоюзная улица</td>\n",
       "      <td>[Академический район, Район Черемушки, Район Я...</td>\n",
       "    </tr>\n",
       "  </tbody>\n",
       "</table>\n",
       "</div>"
      ],
      "text/plain": [
       "                   street                                               area\n",
       "0        варшавское шоссе  [Район Чертаново Центральное, Район Чертаново ...\n",
       "1         каширское шоссе  [Район Москворечье-Сабурово, Район Нагатино-Са...\n",
       "2    кировоградская улица  [Район Чертаново Центральное, Район Чертаново ...\n",
       "3    кутузовский проспект         [Район Дорогомилово, Район Фили-Давыдково]\n",
       "4  ленинградский проспект  [Район Аэропорт, Район Беговой, Хорошевский ра...\n",
       "5      ленинский проспект  [Район Проспект Вернадского, Район Тропарево-Н...\n",
       "6  пресненская набережная                                [Пресненский район]\n",
       "7    проспект вернадского  [Район Проспект Вернадского, Район Раменки, Ра...\n",
       "8           проспект мира  [Алексеевский район, Ярославский Район, Район ...\n",
       "9       профсоюзная улица  [Академический район, Район Черемушки, Район Я..."
      ]
     },
     "metadata": {},
     "output_type": "display_data"
    },
    {
     "data": {
      "text/plain": [
       "48"
      ]
     },
     "metadata": {},
     "output_type": "display_data"
    }
   ],
   "source": [
    "districts.columns = ['street','areaid','okrug','area']\n",
    "districts['street']=districts['street'].str.lower()\n",
    "pop_area = pd.merge(pop10,districts,how='left',on='street')\n",
    "\n",
    "un_area = pop_area.groupby('street').area.agg(['unique']).reset_index()\n",
    "un_area.columns = ['street','area']\n",
    "display(un_area)\n",
    "\n",
    "display(un_area['area'].apply(len).sum()) # Количество районов"
   ]
  },
  {
   "cell_type": "markdown",
   "id": "f1b1c909",
   "metadata": {},
   "source": [
    "***Вывод***  \n",
    "На графике представлены улицы с наибольшим количеством заведений общественного питания, число которых варьирует от 204 на проспекте Мира до 108 на Кировоградской улице. Данные улицы имеют большое протяжение, в следствии чего относятся к 48 районам Москвы. 320 заведений объединены в одну группу т.к. в адресе данных заведений не указана улица, проспект или аналогичная территориальная единица. Для таких объектов характерно расположение в малонаселенных районах, наличие в них большого количества общепитов не характерно. \n"
   ]
  },
  {
   "cell_type": "markdown",
   "id": "4539219e",
   "metadata": {},
   "source": [
    "# Определение числа улиц с одним объектом общественного питания. а также районов Москвы, в которых находятся эти улицы."
   ]
  },
  {
   "cell_type": "code",
   "execution_count": 59,
   "id": "cab9a5f5",
   "metadata": {},
   "outputs": [
    {
     "data": {
      "text/plain": [
       "'Количество улиц с 1 заведением'"
      ]
     },
     "metadata": {},
     "output_type": "display_data"
    },
    {
     "data": {
      "text/plain": [
       "576"
      ]
     },
     "metadata": {},
     "output_type": "display_data"
    },
    {
     "data": {
      "text/plain": [
       "'Количество районов, в которых расположены эти улицы'"
      ]
     },
     "metadata": {},
     "output_type": "display_data"
    },
    {
     "data": {
      "text/plain": [
       "101"
      ]
     },
     "metadata": {},
     "output_type": "display_data"
    },
    {
     "data": {
      "image/png": "[encoded data removed]",
      "text/plain": [
       "<Figure size 1008x504 with 1 Axes>"
      ]
     },
     "metadata": {},
     "output_type": "display_data"
    }
   ],
   "source": [
    "one_obj = pop_street.query('id==1')\n",
    "display('Количество улиц с 1 заведением',one_obj['street'].count())\n",
    "\n",
    "one_obj_area = pd.merge(one_obj, districts, how='left',on='street')\n",
    "display('Количество районов, в которых расположены эти улицы',len(one_obj_area['area'].value_counts()))\n",
    "\n",
    "one_obj_gr = one_obj_area.groupby('area')['street'].count().reset_index().sort_values('street', ascending=False)\n",
    "#display(one_obj_gr.head(20))\n",
    "\n",
    "# график самых популярных улиц\n",
    "fig=plt.figure(figsize=(14,7))\n",
    "sns.set_style('darkgrid')\n",
    "sns.barplot(x='street',y='area', data=one_obj_gr.head(20), color='royalblue')\n",
    "plt.xlabel('Количество улиц с 1 объектом')\n",
    "plt.ylabel('Район')\n",
    "plt.title('Районы с низкой конкуренцией', fontdict={'fontsize': 16, 'fontweight':'bold'},y=1.01)\n",
    "plt.show()"
   ]
  },
  {
   "cell_type": "markdown",
   "id": "79beb5cd",
   "metadata": {},
   "source": [
    "***Вывод***  \n",
    "Полученные результаты указывают, что на 576 улицах располагается лишь одно заведение общественного питания. Указанные улицы распределены между 101 районом, с наибольшей концентрацией в таких районах как Таганский, Хамовники, Басманный, Тверской и Пресненский."
   ]
  },
  {
   "cell_type": "markdown",
   "id": "e9a794ef",
   "metadata": {},
   "source": [
    "# Оценка распределения количества посадочных мест для улиц с большим количеством объектов общественного питания. Определение закономерностей."
   ]
  },
  {
   "cell_type": "code",
   "execution_count": 60,
   "id": "9b45a9ca",
   "metadata": {},
   "outputs": [
    {
     "data": {
      "text/plain": [
       "'Описание посадочных мест на улицах с большим количеством общепитов'"
      ]
     },
     "metadata": {},
     "output_type": "display_data"
    },
    {
     "data": {
      "text/plain": [
       "count    1498.000000\n",
       "mean       58.216956\n",
       "std        90.154897\n",
       "min         0.000000\n",
       "25%        12.000000\n",
       "50%        40.000000\n",
       "75%        75.000000\n",
       "max      1700.000000\n",
       "Name: number, dtype: float64"
      ]
     },
     "metadata": {},
     "output_type": "display_data"
    },
    {
     "data": {
      "text/plain": [
       "'Описание посадочных мест на улицах с большим количеством общепитов, без выбросов'"
      ]
     },
     "metadata": {},
     "output_type": "display_data"
    },
    {
     "data": {
      "text/plain": [
       "count    1400.000000\n",
       "mean       42.300714\n",
       "std        38.387684\n",
       "min         0.000000\n",
       "25%        12.000000\n",
       "50%        32.000000\n",
       "75%        60.000000\n",
       "max       168.000000\n",
       "Name: number, dtype: float64"
      ]
     },
     "metadata": {},
     "output_type": "display_data"
    },
    {
     "data": {
      "text/plain": [
       "'Количество особенно крупных объектв:'"
      ]
     },
     "metadata": {},
     "output_type": "display_data"
    },
    {
     "data": {
      "text/plain": [
       "98"
      ]
     },
     "metadata": {},
     "output_type": "display_data"
    },
    {
     "name": "stderr",
     "output_type": "stream",
     "text": [
      "/home/daniil/.local/lib/python3.8/site-packages/seaborn/distributions.py:2619: FutureWarning:\n",
      "\n",
      "`distplot` is a deprecated function and will be removed in a future version. Please adapt your code to use either `displot` (a figure-level function with similar flexibility) or `histplot` (an axes-level function for histograms).\n",
      "\n"
     ]
    },
    {
     "data": {
      "image/png": "[encoded data removed]",
      "text/plain": [
       "<Figure size 1080x360 with 2 Axes>"
      ]
     },
     "metadata": {},
     "output_type": "display_data"
    }
   ],
   "source": [
    "st_list=pop10.street.tolist() \n",
    "main_st = rest_data.query('street in @st_list')\n",
    "display('Описание посадочных мест на улицах с большим количеством общепитов', main_st['number'].describe())\n",
    "\n",
    "iqr_obj = main_st.query('number <=169')\n",
    "display('Описание посадочных мест на улицах с большим количеством общепитов, без выбросов', iqr_obj['number'].describe())\n",
    "display('Количество особенно крупных объектв:',main_st['number'].count()-iqr_obj['number'].count() )\n",
    "\n",
    "fig, axes = plt.subplots(1, 2, figsize=(15,5))\n",
    "sns.boxplot(ax=axes[0],y=iqr_obj['number'])\n",
    "plt.xlabel('Заведения общественного питания')\n",
    "plt.suptitle('Распределение количества посадочных мест')\n",
    "\n",
    "sns.distplot(iqr_obj['number'], norm_hist=True, bins=10,kde=True)\n",
    "plt.xlim(0, 170)\n",
    "plt.xlabel('Заведения общественного питания')\n",
    "plt.show()"
   ]
  },
  {
   "cell_type": "markdown",
   "id": "6b6bab9d",
   "metadata": {},
   "source": [
    "***Вывод***  \n",
    "Анализ данных показал, что на улицах с большим количеством заведений общественного питания, последние могут как не обладать посадочными местами, так и иметь до 1700 мест. Распределение количества мест не является нормальным, среднее их количество составило 58, а медиана 40. Следует отметить, что часть заведений является значительно крупнее остальных, при расчете 1.5 межквартильного интервала установлено, что к такому типу объектов можно отнести заведения с количеством мест более 169, а самих таких общепитов - 98. Без учета подобных крупных среднее количество посадочных мест равно 42."
   ]
  },
  {
   "cell_type": "markdown",
   "id": "37a7c21f",
   "metadata": {},
   "source": [
    "# Общий вывод."
   ]
  },
  {
   "cell_type": "markdown",
   "id": "487921bd",
   "metadata": {},
   "source": [
    "Выполнен анализ данных о заведениях общественного питания Москвы. \n",
    "- Всего проанализировано 15281 уникальных объектов.   \n",
    "- Наиболее распространенным типом заведения, согласно имеющимся данным, является кафе, за ними по частоте следуют столовые, рестораны и предприятия быстрого обслуживания. Лишь пятая часть от общего количества заведений общественного питания являются сетевыми.   \n",
    "- Образование сети в наибольшей степени характерно для объектов типа предприятий быстрого обслуживания - до 41% объектов. За ними в порядке убывания установить организовать сеть удалось отделам кулинарии магазинов (28%), ресторанам (23%) и кафе(22%). Закусочные, кафетерии, буфеты, бары и столовые значительно реже формируют сети.   \n",
    "- Самыми крупными объектами, как правило являются столовые, в среднем они предлагают до 130 посадочных мест, что больше чем у любого другого типа предприятия.  \n",
    "- Ряд улиц характеризует высокое количество общепитов, к таким относятся Проспект Мира, Профсоюзная улица, Ленинградский проспект, Пресненская набережная, Варшавское шоссе, Ленинский проспект, Проспект Вернадского, Кутузовский проспект, Каширское шоссе, Кировоградская улица. Данные улицы располагаются на 48 районах Москвы.\n",
    "- Полученные результаты показывают, что на 576 улицах располагается лишь одно заведение общественного питания. Указанные улицы распределены между 101 районом, с наибольшей концентрацией в таких районах как Таганский, Хамовники, Басманный, Тверской и Пресненский. Данные районы располагают не менее чем 20 улицами лишь с одним общепитом и могут оказаться перспективными для развития новых общепитов.   \n",
    "- Согласно полученным результатам - на улицах с большим количеством заведений общественного питания, последние могут как не обладать посадочными местами, так и иметь до 1700 мест. Следует отметить, что часть заведений является значительно крупнее остальных, к такому типу объектов можно отнести заведения с количеством мест более 169, а самих таких общепитов - 98. Без учета подобных крупных объектов - среднее количество посадочных мест равно 42.  \n",
    "\n",
    "Резюме: \n",
    "- кафе - наиболее популярный тип заведений общественного питания, за ним следуют рестораны, столовые и предприятия быстрого обслуживания \n",
    "- Кафе, рестораны и предприятия быстрого обслуживания значительно чаще других организуют сети \n",
    "- столовые - самые крупные объекты общепита, в буфетах, барах и кафе количество мест в среднем вдвое меньше \n",
    "- опыт рынка для сетей: много заведений - мало посадочных мест \n",
    "- наиболее востребованные на рынке общепита улицы: проспект Мира, Профсоюзная улица, Ленинградский проспект, Пресненская набережная, Варшавское шоссе, Ленинский проспект, проспект Вернадского, Кутузовский проспект, Каширское шоссе. \n",
    "- Среднее количество посадочных мест на перечисленных улицах - 42 \n",
    "- Таганский, Хамовники, Басманный, Тверской и Пресненский - представляют менее выраженную конкуренцию для развития предприятий общественного питания. \n",
    "\n"
   ]
  },
  {
   "cell_type": "code",
   "execution_count": null,
   "id": "868d57c0",
   "metadata": {},
   "outputs": [],
   "source": []
  }
 ],
 "metadata": {
  "kernelspec": {
   "display_name": "Python 3 (ipykernel)",
   "language": "python",
   "name": "python3"
  },
  "language_info": {
   "codemirror_mode": {
    "name": "ipython",
    "version": 3
   },
   "file_extension": ".py",
   "mimetype": "text/x-python",
   "name": "python",
   "nbconvert_exporter": "python",
   "pygments_lexer": "ipython3",
   "version": "3.8.10"
  },
  "toc": {
   "base_numbering": 1,
   "nav_menu": {},
   "number_sections": true,
   "sideBar": true,
   "skip_h1_title": false,
   "title_cell": "Table of Contents",
   "title_sidebar": "Contents",
   "toc_cell": false,
   "toc_position": {
    "height": "calc(100% - 180px)",
    "left": "10px",
    "top": "150px",
    "width": "458.594px"
   },
   "toc_section_display": true,
   "toc_window_display": true
  }
 },
 "nbformat": 4,
 "nbformat_minor": 5
}
