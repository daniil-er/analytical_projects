{
 "cells": [
  {
   "cell_type": "markdown",
   "metadata": {},
   "source": [
    "# Исследование рынка заведений общественного питания Москвы"
   ]
  },
  {
   "cell_type": "markdown",
   "metadata": {},
   "source": [
    "## Введение"
   ]
  },
  {
   "cell_type": "markdown",
   "metadata": {},
   "source": [
    "### Цель проекта\n",
    "Выполнить исследовательский анализ рынка общественного питания в Москве на основе открытых данных правительства Москвы. На основе полученных результатов подготовить рекомендации для инвесторов. "
   ]
  },
  {
   "cell_type": "markdown",
   "metadata": {},
   "source": [
    "### Описание данных.\n",
    "Датасет \"rest_data.csv\", включает информацию об объектах общественного питания по следующим параметрам:  \n",
    "\n",
    "id — идентификатор объекта;  \n",
    "object_name — название объекта общественного питания;  \n",
    "chain — сетевой ресторан;  \n",
    "object_type — тип объекта общественного питания;  \n",
    "address — адрес;  \n",
    "number — количество посадочных мест.  \n",
    "\n",
    "Датасет \n",
    "\n",
    ", включает информацию о районах и улицах Москвы:  \n",
    "\n",
    "street - улица;  \n",
    "areaid - идентификатор района;  \n",
    "okrug - округ;  \n",
    "area - район.  "
   ]
  },
  {
   "cell_type": "markdown",
   "metadata": {},
   "source": [
    "### План работы.\n",
    "\n",
    "1. Введение\n",
    "2. Изучение общей информации о предоставленных данных\n",
    "3. Оценка соотношения количества различных видов объектов общественного питания.\n",
    "4. Характеристика сетевых и несетевых заведений.\n",
    "5. Характеристика заведений общественного питания по количеству посадочных мест.\n",
    "6. География заведений общественного питания Москвы.\n",
    "7. Общий вывод и рекомендации. "
   ]
  },
  {
   "cell_type": "markdown",
   "metadata": {},
   "source": [
    "## Изучение общей информации о предоставленных данных"
   ]
  },
  {
   "cell_type": "code",
   "execution_count": 39,
   "metadata": {},
   "outputs": [],
   "source": [
    "# импорт библиотек\n",
    "import pandas as pd\n",
    "import numpy as np\n",
    "import seaborn as sns\n",
    "import matplotlib.pyplot as plt\n",
    "from matplotlib import gridspec\n",
    "import plotly.express as px\n",
    "from plotly import graph_objects as go\n",
    "from plotly.subplots import make_subplots\n",
    "import plotly.figure_factory as ff\n",
    "import textwrap\n",
    "from io import BytesIO\n",
    "import requests"
   ]
  },
  {
   "cell_type": "code",
   "execution_count": 40,
   "metadata": {},
   "outputs": [
    {
     "data": {
      "text/html": [
       "<div>\n",
       "<style scoped>\n",
       "    .dataframe tbody tr th:only-of-type {\n",
       "        vertical-align: middle;\n",
       "    }\n",
       "\n",
       "    .dataframe tbody tr th {\n",
       "        vertical-align: top;\n",
       "    }\n",
       "\n",
       "    .dataframe thead th {\n",
       "        text-align: right;\n",
       "    }\n",
       "</style>\n",
       "<table border=\"1\" class=\"dataframe\">\n",
       "  <thead>\n",
       "    <tr style=\"text-align: right;\">\n",
       "      <th></th>\n",
       "      <th>id</th>\n",
       "      <th>object_name</th>\n",
       "      <th>chain</th>\n",
       "      <th>object_type</th>\n",
       "      <th>address</th>\n",
       "      <th>number</th>\n",
       "    </tr>\n",
       "  </thead>\n",
       "  <tbody>\n",
       "    <tr>\n",
       "      <th>0</th>\n",
       "      <td>151635</td>\n",
       "      <td>СМЕТАНА</td>\n",
       "      <td>нет</td>\n",
       "      <td>кафе</td>\n",
       "      <td>город Москва, улица Егора Абакумова, дом 9</td>\n",
       "      <td>48</td>\n",
       "    </tr>\n",
       "    <tr>\n",
       "      <th>1</th>\n",
       "      <td>77874</td>\n",
       "      <td>Родник</td>\n",
       "      <td>нет</td>\n",
       "      <td>кафе</td>\n",
       "      <td>город Москва, улица Талалихина, дом 2/1, корпус 1</td>\n",
       "      <td>35</td>\n",
       "    </tr>\n",
       "    <tr>\n",
       "      <th>2</th>\n",
       "      <td>24309</td>\n",
       "      <td>Кафе «Академия»</td>\n",
       "      <td>нет</td>\n",
       "      <td>кафе</td>\n",
       "      <td>город Москва, Абельмановская улица, дом 6</td>\n",
       "      <td>95</td>\n",
       "    </tr>\n",
       "  </tbody>\n",
       "</table>\n",
       "</div>"
      ],
      "text/plain": [
       "       id      object_name chain object_type  \\\n",
       "0  151635          СМЕТАНА   нет        кафе   \n",
       "1   77874           Родник   нет        кафе   \n",
       "2   24309  Кафе «Академия»   нет        кафе   \n",
       "\n",
       "                                             address  number  \n",
       "0         город Москва, улица Егора Абакумова, дом 9      48  \n",
       "1  город Москва, улица Талалихина, дом 2/1, корпус 1      35  \n",
       "2          город Москва, Абельмановская улица, дом 6      95  "
      ]
     },
     "metadata": {},
     "output_type": "display_data"
    },
    {
     "name": "stdout",
     "output_type": "stream",
     "text": [
      "<class 'pandas.core.frame.DataFrame'>\n",
      "RangeIndex: 15366 entries, 0 to 15365\n",
      "Data columns (total 6 columns):\n",
      " #   Column       Non-Null Count  Dtype \n",
      "---  ------       --------------  ----- \n",
      " 0   id           15366 non-null  int64 \n",
      " 1   object_name  15366 non-null  object\n",
      " 2   chain        15366 non-null  object\n",
      " 3   object_type  15366 non-null  object\n",
      " 4   address      15366 non-null  object\n",
      " 5   number       15366 non-null  int64 \n",
      "dtypes: int64(2), object(4)\n",
      "memory usage: 720.4+ KB\n"
     ]
    },
    {
     "data": {
      "text/plain": [
       "None"
      ]
     },
     "metadata": {},
     "output_type": "display_data"
    }
   ],
   "source": [
    "# первичное ознакомление с данными\n",
    "data = pd.read_csv('/home/daniil/Documents/datasets/catering/rest_data.csv')\n",
    "\n",
    "display(data.head(3))\n",
    "display(data.info())"
   ]
  },
  {
   "cell_type": "code",
   "execution_count": 41,
   "metadata": {},
   "outputs": [
    {
     "data": {
      "text/plain": [
       "array([], dtype=int64)"
      ]
     },
     "metadata": {},
     "output_type": "display_data"
    },
    {
     "data": {
      "text/plain": [
       "array([], dtype=int64)"
      ]
     },
     "metadata": {},
     "output_type": "display_data"
    }
   ],
   "source": [
    "# Поиск пропущенных значений\n",
    "display(np.where(pd.isnull(data))[0])\n",
    "display(np.where(data.applymap(lambda x: x == ''))[0])"
   ]
  },
  {
   "cell_type": "code",
   "execution_count": 42,
   "metadata": {},
   "outputs": [
    {
     "data": {
      "text/plain": [
       "'Количество дубликатов : 85'"
      ]
     },
     "metadata": {},
     "output_type": "display_data"
    },
    {
     "data": {
      "text/plain": [
       "'Количество дубликатов после обработки : 0'"
      ]
     },
     "metadata": {},
     "output_type": "display_data"
    }
   ],
   "source": [
    "# Поиск и удаление дубликатов\n",
    "data['object_name']=data['object_name'].str.lower()\n",
    "data['address']=data['address'].str.lower()\n",
    "\n",
    "display(f'Количество дубликатов : {data.duplicated(subset=[\"object_name\",\"chain\",\"object_type\",\"address\",\"number\"]).sum()}')\n",
    "\n",
    "data=data.drop_duplicates(subset=['object_name','chain','object_type','address','number'])\n",
    "\n",
    "display(f'Количество дубликатов после обработки : {data.duplicated(subset=[\"object_name\",\"chain\",\"object_type\",\"address\",\"number\"]).sum()}')"
   ]
  },
  {
   "cell_type": "code",
   "execution_count": 43,
   "metadata": {},
   "outputs": [
    {
     "data": {
      "text/plain": [
       "'Общее количество объектов : 15281'"
      ]
     },
     "metadata": {},
     "output_type": "display_data"
    },
    {
     "data": {
      "text/plain": [
       "'Количество типов заведений : 9'"
      ]
     },
     "metadata": {},
     "output_type": "display_data"
    },
    {
     "data": {
      "text/plain": [
       "\"Типы заведений : ['кафе' 'столовая' 'закусочная' 'предприятие быстрого обслуживания'\\n 'ресторан' 'кафетерий' 'буфет' 'бар' 'магазин (отдел кулинарии)']\""
      ]
     },
     "metadata": {},
     "output_type": "display_data"
    }
   ],
   "source": [
    "display(f'Общее количество объектов : {data[\"id\"].nunique()}')\n",
    "display(f'Количество типов заведений : {data[\"object_type\"].nunique()}')\n",
    "display(f'Типы заведений : {data[\"object_type\"].unique()}')"
   ]
  },
  {
   "cell_type": "markdown",
   "metadata": {},
   "source": [
    "***Вывод***  \n",
    "Датасет содержит информацию о 15281 заведениях общепита, среди которых кафе, столовые, закусочные, предприятия быстрого обслуживания, рестораны, кафетерии, буфеты, бар, отделы кулинарии магазинов. Кроме того указан уникальный номер объекта, статус объекта (сетевой /несетевой), адрес и количество посадочных мест.  \n",
    "Пропусков в данных не обнаружено. Выявлено 85 дубликатов, которые были удалены из общего набора данных."
   ]
  },
  {
   "cell_type": "markdown",
   "metadata": {},
   "source": [
    "## Оценка соотношения количества различных видов объектов общественного питания."
   ]
  },
  {
   "cell_type": "code",
   "execution_count": 44,
   "metadata": {},
   "outputs": [
    {
     "data": {
      "image/png": "[encoded data removed]",
      "text/plain": [
       "<Figure size 864x504 with 1 Axes>"
      ]
     },
     "metadata": {},
     "output_type": "display_data"
    },
    {
     "data": {
      "application/vnd.plotly.v1+json": {
       "config": {
        "plotlyServerURL": "https://plot.ly"
       },
       "data": [
        {
         "cells": {
          "align": "center",
          "values": [
           [
            "кафе",
            "столовая",
            "ресторан",
            "предприятие быстрого обслуживания",
            "бар",
            "буфет",
            "кафетерий",
            "закусочная",
            "магазин (отдел кулинарии)"
           ],
           [
            6071,
            2584,
            2282,
            1897,
            855,
            576,
            395,
            348,
            273
           ],
           [
            39.73,
            16.91,
            14.93,
            12.41,
            5.6,
            3.77,
            2.58,
            2.28,
            1.79
           ]
          ]
         },
         "domain": {
          "x": [
           0,
           0.45
          ],
          "y": [
           0,
           1
          ]
         },
         "header": {
          "values": [
           "Тип объекта",
           "Кол-во абс.",
           "Кол-во %"
          ]
         },
         "type": "table"
        },
        {
         "domain": {
          "x": [
           0.55,
           1
          ],
          "y": [
           0,
           1
          ]
         },
         "labels": [
          "кафе",
          "столовая",
          "ресторан",
          "предприятие быстрого обслуживания",
          "бар",
          "буфет",
          "кафетерий",
          "закусочная",
          "магазин (отдел кулинарии)"
         ],
         "type": "pie",
         "values": [
          6071,
          2584,
          2282,
          1897,
          855,
          576,
          395,
          348,
          273
         ]
        }
       ],
       "layout": {
        "legend": {
         "y": 0.5
        },
        "template": {
         "data": {
          "bar": [
           {
            "error_x": {
             "color": "#2a3f5f"
            },
            "error_y": {
             "color": "#2a3f5f"
            },
            "marker": {
             "line": {
              "color": "#E5ECF6",
              "width": 0.5
             },
             "pattern": {
              "fillmode": "overlay",
              "size": 10,
              "solidity": 0.2
             }
            },
            "type": "bar"
           }
          ],
          "barpolar": [
           {
            "marker": {
             "line": {
              "color": "#E5ECF6",
              "width": 0.5
             },
             "pattern": {
              "fillmode": "overlay",
              "size": 10,
              "solidity": 0.2
             }
            },
            "type": "barpolar"
           }
          ],
          "carpet": [
           {
            "aaxis": {
             "endlinecolor": "#2a3f5f",
             "gridcolor": "white",
             "linecolor": "white",
             "minorgridcolor": "white",
             "startlinecolor": "#2a3f5f"
            },
            "baxis": {
             "endlinecolor": "#2a3f5f",
             "gridcolor": "white",
             "linecolor": "white",
             "minorgridcolor": "white",
             "startlinecolor": "#2a3f5f"
            },
            "type": "carpet"
           }
          ],
          "choropleth": [
           {
            "colorbar": {
             "outlinewidth": 0,
             "ticks": ""
            },
            "type": "choropleth"
           }
          ],
          "contour": [
           {
            "colorbar": {
             "outlinewidth": 0,
             "ticks": ""
            },
            "colorscale": [
             [
              0,
              "#0d0887"
             ],
             [
              0.1111111111111111,
              "#46039f"
             ],
             [
              0.2222222222222222,
              "#7201a8"
             ],
             [
              0.3333333333333333,
              "#9c179e"
             ],
             [
              0.4444444444444444,
              "#bd3786"
             ],
             [
              0.5555555555555556,
              "#d8576b"
             ],
             [
              0.6666666666666666,
              "#ed7953"
             ],
             [
              0.7777777777777778,
              "#fb9f3a"
             ],
             [
              0.8888888888888888,
              "#fdca26"
             ],
             [
              1,
              "#f0f921"
             ]
            ],
            "type": "contour"
           }
          ],
          "contourcarpet": [
           {
            "colorbar": {
             "outlinewidth": 0,
             "ticks": ""
            },
            "type": "contourcarpet"
           }
          ],
          "heatmap": [
           {
            "colorbar": {
             "outlinewidth": 0,
             "ticks": ""
            },
            "colorscale": [
             [
              0,
              "#0d0887"
             ],
             [
              0.1111111111111111,
              "#46039f"
             ],
             [
              0.2222222222222222,
              "#7201a8"
             ],
             [
              0.3333333333333333,
              "#9c179e"
             ],
             [
              0.4444444444444444,
              "#bd3786"
             ],
             [
              0.5555555555555556,
              "#d8576b"
             ],
             [
              0.6666666666666666,
              "#ed7953"
             ],
             [
              0.7777777777777778,
              "#fb9f3a"
             ],
             [
              0.8888888888888888,
              "#fdca26"
             ],
             [
              1,
              "#f0f921"
             ]
            ],
            "type": "heatmap"
           }
          ],
          "heatmapgl": [
           {
            "colorbar": {
             "outlinewidth": 0,
             "ticks": ""
            },
            "colorscale": [
             [
              0,
              "#0d0887"
             ],
             [
              0.1111111111111111,
              "#46039f"
             ],
             [
              0.2222222222222222,
              "#7201a8"
             ],
             [
              0.3333333333333333,
              "#9c179e"
             ],
             [
              0.4444444444444444,
              "#bd3786"
             ],
             [
              0.5555555555555556,
              "#d8576b"
             ],
             [
              0.6666666666666666,
              "#ed7953"
             ],
             [
              0.7777777777777778,
              "#fb9f3a"
             ],
             [
              0.8888888888888888,
              "#fdca26"
             ],
             [
              1,
              "#f0f921"
             ]
            ],
            "type": "heatmapgl"
           }
          ],
          "histogram": [
           {
            "marker": {
             "pattern": {
              "fillmode": "overlay",
              "size": 10,
              "solidity": 0.2
             }
            },
            "type": "histogram"
           }
          ],
          "histogram2d": [
           {
            "colorbar": {
             "outlinewidth": 0,
             "ticks": ""
            },
            "colorscale": [
             [
              0,
              "#0d0887"
             ],
             [
              0.1111111111111111,
              "#46039f"
             ],
             [
              0.2222222222222222,
              "#7201a8"
             ],
             [
              0.3333333333333333,
              "#9c179e"
             ],
             [
              0.4444444444444444,
              "#bd3786"
             ],
             [
              0.5555555555555556,
              "#d8576b"
             ],
             [
              0.6666666666666666,
              "#ed7953"
             ],
             [
              0.7777777777777778,
              "#fb9f3a"
             ],
             [
              0.8888888888888888,
              "#fdca26"
             ],
             [
              1,
              "#f0f921"
             ]
            ],
            "type": "histogram2d"
           }
          ],
          "histogram2dcontour": [
           {
            "colorbar": {
             "outlinewidth": 0,
             "ticks": ""
            },
            "colorscale": [
             [
              0,
              "#0d0887"
             ],
             [
              0.1111111111111111,
              "#46039f"
             ],
             [
              0.2222222222222222,
              "#7201a8"
             ],
             [
              0.3333333333333333,
              "#9c179e"
             ],
             [
              0.4444444444444444,
              "#bd3786"
             ],
             [
              0.5555555555555556,
              "#d8576b"
             ],
             [
              0.6666666666666666,
              "#ed7953"
             ],
             [
              0.7777777777777778,
              "#fb9f3a"
             ],
             [
              0.8888888888888888,
              "#fdca26"
             ],
             [
              1,
              "#f0f921"
             ]
            ],
            "type": "histogram2dcontour"
           }
          ],
          "mesh3d": [
           {
            "colorbar": {
             "outlinewidth": 0,
             "ticks": ""
            },
            "type": "mesh3d"
           }
          ],
          "parcoords": [
           {
            "line": {
             "colorbar": {
              "outlinewidth": 0,
              "ticks": ""
             }
            },
            "type": "parcoords"
           }
          ],
          "pie": [
           {
            "automargin": true,
            "type": "pie"
           }
          ],
          "scatter": [
           {
            "marker": {
             "colorbar": {
              "outlinewidth": 0,
              "ticks": ""
             }
            },
            "type": "scatter"
           }
          ],
          "scatter3d": [
           {
            "line": {
             "colorbar": {
              "outlinewidth": 0,
              "ticks": ""
             }
            },
            "marker": {
             "colorbar": {
              "outlinewidth": 0,
              "ticks": ""
             }
            },
            "type": "scatter3d"
           }
          ],
          "scattercarpet": [
           {
            "marker": {
             "colorbar": {
              "outlinewidth": 0,
              "ticks": ""
             }
            },
            "type": "scattercarpet"
           }
          ],
          "scattergeo": [
           {
            "marker": {
             "colorbar": {
              "outlinewidth": 0,
              "ticks": ""
             }
            },
            "type": "scattergeo"
           }
          ],
          "scattergl": [
           {
            "marker": {
             "colorbar": {
              "outlinewidth": 0,
              "ticks": ""
             }
            },
            "type": "scattergl"
           }
          ],
          "scattermapbox": [
           {
            "marker": {
             "colorbar": {
              "outlinewidth": 0,
              "ticks": ""
             }
            },
            "type": "scattermapbox"
           }
          ],
          "scatterpolar": [
           {
            "marker": {
             "colorbar": {
              "outlinewidth": 0,
              "ticks": ""
             }
            },
            "type": "scatterpolar"
           }
          ],
          "scatterpolargl": [
           {
            "marker": {
             "colorbar": {
              "outlinewidth": 0,
              "ticks": ""
             }
            },
            "type": "scatterpolargl"
           }
          ],
          "scatterternary": [
           {
            "marker": {
             "colorbar": {
              "outlinewidth": 0,
              "ticks": ""
             }
            },
            "type": "scatterternary"
           }
          ],
          "surface": [
           {
            "colorbar": {
             "outlinewidth": 0,
             "ticks": ""
            },
            "colorscale": [
             [
              0,
              "#0d0887"
             ],
             [
              0.1111111111111111,
              "#46039f"
             ],
             [
              0.2222222222222222,
              "#7201a8"
             ],
             [
              0.3333333333333333,
              "#9c179e"
             ],
             [
              0.4444444444444444,
              "#bd3786"
             ],
             [
              0.5555555555555556,
              "#d8576b"
             ],
             [
              0.6666666666666666,
              "#ed7953"
             ],
             [
              0.7777777777777778,
              "#fb9f3a"
             ],
             [
              0.8888888888888888,
              "#fdca26"
             ],
             [
              1,
              "#f0f921"
             ]
            ],
            "type": "surface"
           }
          ],
          "table": [
           {
            "cells": {
             "fill": {
              "color": "#EBF0F8"
             },
             "line": {
              "color": "white"
             }
            },
            "header": {
             "fill": {
              "color": "#C8D4E3"
             },
             "line": {
              "color": "white"
             }
            },
            "type": "table"
           }
          ]
         },
         "layout": {
          "annotationdefaults": {
           "arrowcolor": "#2a3f5f",
           "arrowhead": 0,
           "arrowwidth": 1
          },
          "autotypenumbers": "strict",
          "coloraxis": {
           "colorbar": {
            "outlinewidth": 0,
            "ticks": ""
           }
          },
          "colorscale": {
           "diverging": [
            [
             0,
             "#8e0152"
            ],
            [
             0.1,
             "#c51b7d"
            ],
            [
             0.2,
             "#de77ae"
            ],
            [
             0.3,
             "#f1b6da"
            ],
            [
             0.4,
             "#fde0ef"
            ],
            [
             0.5,
             "#f7f7f7"
            ],
            [
             0.6,
             "#e6f5d0"
            ],
            [
             0.7,
             "#b8e186"
            ],
            [
             0.8,
             "#7fbc41"
            ],
            [
             0.9,
             "#4d9221"
            ],
            [
             1,
             "#276419"
            ]
           ],
           "sequential": [
            [
             0,
             "#0d0887"
            ],
            [
             0.1111111111111111,
             "#46039f"
            ],
            [
             0.2222222222222222,
             "#7201a8"
            ],
            [
             0.3333333333333333,
             "#9c179e"
            ],
            [
             0.4444444444444444,
             "#bd3786"
            ],
            [
             0.5555555555555556,
             "#d8576b"
            ],
            [
             0.6666666666666666,
             "#ed7953"
            ],
            [
             0.7777777777777778,
             "#fb9f3a"
            ],
            [
             0.8888888888888888,
             "#fdca26"
            ],
            [
             1,
             "#f0f921"
            ]
           ],
           "sequentialminus": [
            [
             0,
             "#0d0887"
            ],
            [
             0.1111111111111111,
             "#46039f"
            ],
            [
             0.2222222222222222,
             "#7201a8"
            ],
            [
             0.3333333333333333,
             "#9c179e"
            ],
            [
             0.4444444444444444,
             "#bd3786"
            ],
            [
             0.5555555555555556,
             "#d8576b"
            ],
            [
             0.6666666666666666,
             "#ed7953"
            ],
            [
             0.7777777777777778,
             "#fb9f3a"
            ],
            [
             0.8888888888888888,
             "#fdca26"
            ],
            [
             1,
             "#f0f921"
            ]
           ]
          },
          "colorway": [
           "#636efa",
           "#EF553B",
           "#00cc96",
           "#ab63fa",
           "#FFA15A",
           "#19d3f3",
           "#FF6692",
           "#B6E880",
           "#FF97FF",
           "#FECB52"
          ],
          "font": {
           "color": "#2a3f5f"
          },
          "geo": {
           "bgcolor": "white",
           "lakecolor": "white",
           "landcolor": "#E5ECF6",
           "showlakes": true,
           "showland": true,
           "subunitcolor": "white"
          },
          "hoverlabel": {
           "align": "left"
          },
          "hovermode": "closest",
          "mapbox": {
           "style": "light"
          },
          "paper_bgcolor": "white",
          "plot_bgcolor": "#E5ECF6",
          "polar": {
           "angularaxis": {
            "gridcolor": "white",
            "linecolor": "white",
            "ticks": ""
           },
           "bgcolor": "#E5ECF6",
           "radialaxis": {
            "gridcolor": "white",
            "linecolor": "white",
            "ticks": ""
           }
          },
          "scene": {
           "xaxis": {
            "backgroundcolor": "#E5ECF6",
            "gridcolor": "white",
            "gridwidth": 2,
            "linecolor": "white",
            "showbackground": true,
            "ticks": "",
            "zerolinecolor": "white"
           },
           "yaxis": {
            "backgroundcolor": "#E5ECF6",
            "gridcolor": "white",
            "gridwidth": 2,
            "linecolor": "white",
            "showbackground": true,
            "ticks": "",
            "zerolinecolor": "white"
           },
           "zaxis": {
            "backgroundcolor": "#E5ECF6",
            "gridcolor": "white",
            "gridwidth": 2,
            "linecolor": "white",
            "showbackground": true,
            "ticks": "",
            "zerolinecolor": "white"
           }
          },
          "shapedefaults": {
           "line": {
            "color": "#2a3f5f"
           }
          },
          "ternary": {
           "aaxis": {
            "gridcolor": "white",
            "linecolor": "white",
            "ticks": ""
           },
           "baxis": {
            "gridcolor": "white",
            "linecolor": "white",
            "ticks": ""
           },
           "bgcolor": "#E5ECF6",
           "caxis": {
            "gridcolor": "white",
            "linecolor": "white",
            "ticks": ""
           }
          },
          "title": {
           "x": 0.05
          },
          "xaxis": {
           "automargin": true,
           "gridcolor": "white",
           "linecolor": "white",
           "ticks": "",
           "title": {
            "standoff": 15
           },
           "zerolinecolor": "white",
           "zerolinewidth": 2
          },
          "yaxis": {
           "automargin": true,
           "gridcolor": "white",
           "linecolor": "white",
           "ticks": "",
           "title": {
            "standoff": 15
           },
           "zerolinecolor": "white",
           "zerolinewidth": 2
          }
         }
        },
        "title": {
         "font": {
          "color": "black",
          "size": 18
         },
         "text": "Соотношение видов объектов общественного питания",
         "x": 0.5
        }
       }
      },
      "text/html": [
       "<div>                            <div id=\"39467f97-f69c-434b-8493-50b5584cb3a0\" class=\"plotly-graph-div\" style=\"height:525px; width:100%;\"></div>            <script type=\"text/javascript\">                require([\"plotly\"], function(Plotly) {                    window.PLOTLYENV=window.PLOTLYENV || {};                                    if (document.getElementById(\"39467f97-f69c-434b-8493-50b5584cb3a0\")) {                    Plotly.newPlot(                        \"39467f97-f69c-434b-8493-50b5584cb3a0\",                        [{\"cells\":{\"align\":\"center\",\"values\":[[\"\\u043a\\u0430\\u0444\\u0435\",\"\\u0441\\u0442\\u043e\\u043b\\u043e\\u0432\\u0430\\u044f\",\"\\u0440\\u0435\\u0441\\u0442\\u043e\\u0440\\u0430\\u043d\",\"\\u043f\\u0440\\u0435\\u0434\\u043f\\u0440\\u0438\\u044f\\u0442\\u0438\\u0435 \\u0431\\u044b\\u0441\\u0442\\u0440\\u043e\\u0433\\u043e \\u043e\\u0431\\u0441\\u043b\\u0443\\u0436\\u0438\\u0432\\u0430\\u043d\\u0438\\u044f\",\"\\u0431\\u0430\\u0440\",\"\\u0431\\u0443\\u0444\\u0435\\u0442\",\"\\u043a\\u0430\\u0444\\u0435\\u0442\\u0435\\u0440\\u0438\\u0439\",\"\\u0437\\u0430\\u043a\\u0443\\u0441\\u043e\\u0447\\u043d\\u0430\\u044f\",\"\\u043c\\u0430\\u0433\\u0430\\u0437\\u0438\\u043d (\\u043e\\u0442\\u0434\\u0435\\u043b \\u043a\\u0443\\u043b\\u0438\\u043d\\u0430\\u0440\\u0438\\u0438)\"],[6071,2584,2282,1897,855,576,395,348,273],[39.73,16.91,14.93,12.41,5.6,3.77,2.58,2.28,1.79]]},\"header\":{\"values\":[\"\\u0422\\u0438\\u043f \\u043e\\u0431\\u044a\\u0435\\u043a\\u0442\\u0430\",\"\\u041a\\u043e\\u043b-\\u0432\\u043e \\u0430\\u0431\\u0441.\",\"\\u041a\\u043e\\u043b-\\u0432\\u043e %\"]},\"type\":\"table\",\"domain\":{\"x\":[0.0,0.45],\"y\":[0.0,1.0]}},{\"labels\":[\"\\u043a\\u0430\\u0444\\u0435\",\"\\u0441\\u0442\\u043e\\u043b\\u043e\\u0432\\u0430\\u044f\",\"\\u0440\\u0435\\u0441\\u0442\\u043e\\u0440\\u0430\\u043d\",\"\\u043f\\u0440\\u0435\\u0434\\u043f\\u0440\\u0438\\u044f\\u0442\\u0438\\u0435 \\u0431\\u044b\\u0441\\u0442\\u0440\\u043e\\u0433\\u043e \\u043e\\u0431\\u0441\\u043b\\u0443\\u0436\\u0438\\u0432\\u0430\\u043d\\u0438\\u044f\",\"\\u0431\\u0430\\u0440\",\"\\u0431\\u0443\\u0444\\u0435\\u0442\",\"\\u043a\\u0430\\u0444\\u0435\\u0442\\u0435\\u0440\\u0438\\u0439\",\"\\u0437\\u0430\\u043a\\u0443\\u0441\\u043e\\u0447\\u043d\\u0430\\u044f\",\"\\u043c\\u0430\\u0433\\u0430\\u0437\\u0438\\u043d (\\u043e\\u0442\\u0434\\u0435\\u043b \\u043a\\u0443\\u043b\\u0438\\u043d\\u0430\\u0440\\u0438\\u0438)\"],\"values\":[6071,2584,2282,1897,855,576,395,348,273],\"type\":\"pie\",\"domain\":{\"x\":[0.55,1.0],\"y\":[0.0,1.0]}}],                        {\"template\":{\"data\":{\"bar\":[{\"error_x\":{\"color\":\"#2a3f5f\"},\"error_y\":{\"color\":\"#2a3f5f\"},\"marker\":{\"line\":{\"color\":\"#E5ECF6\",\"width\":0.5},\"pattern\":{\"fillmode\":\"overlay\",\"size\":10,\"solidity\":0.2}},\"type\":\"bar\"}],\"barpolar\":[{\"marker\":{\"line\":{\"color\":\"#E5ECF6\",\"width\":0.5},\"pattern\":{\"fillmode\":\"overlay\",\"size\":10,\"solidity\":0.2}},\"type\":\"barpolar\"}],\"carpet\":[{\"aaxis\":{\"endlinecolor\":\"#2a3f5f\",\"gridcolor\":\"white\",\"linecolor\":\"white\",\"minorgridcolor\":\"white\",\"startlinecolor\":\"#2a3f5f\"},\"baxis\":{\"endlinecolor\":\"#2a3f5f\",\"gridcolor\":\"white\",\"linecolor\":\"white\",\"minorgridcolor\":\"white\",\"startlinecolor\":\"#2a3f5f\"},\"type\":\"carpet\"}],\"choropleth\":[{\"colorbar\":{\"outlinewidth\":0,\"ticks\":\"\"},\"type\":\"choropleth\"}],\"contour\":[{\"colorbar\":{\"outlinewidth\":0,\"ticks\":\"\"},\"colorscale\":[[0.0,\"#0d0887\"],[0.1111111111111111,\"#46039f\"],[0.2222222222222222,\"#7201a8\"],[0.3333333333333333,\"#9c179e\"],[0.4444444444444444,\"#bd3786\"],[0.5555555555555556,\"#d8576b\"],[0.6666666666666666,\"#ed7953\"],[0.7777777777777778,\"#fb9f3a\"],[0.8888888888888888,\"#fdca26\"],[1.0,\"#f0f921\"]],\"type\":\"contour\"}],\"contourcarpet\":[{\"colorbar\":{\"outlinewidth\":0,\"ticks\":\"\"},\"type\":\"contourcarpet\"}],\"heatmap\":[{\"colorbar\":{\"outlinewidth\":0,\"ticks\":\"\"},\"colorscale\":[[0.0,\"#0d0887\"],[0.1111111111111111,\"#46039f\"],[0.2222222222222222,\"#7201a8\"],[0.3333333333333333,\"#9c179e\"],[0.4444444444444444,\"#bd3786\"],[0.5555555555555556,\"#d8576b\"],[0.6666666666666666,\"#ed7953\"],[0.7777777777777778,\"#fb9f3a\"],[0.8888888888888888,\"#fdca26\"],[1.0,\"#f0f921\"]],\"type\":\"heatmap\"}],\"heatmapgl\":[{\"colorbar\":{\"outlinewidth\":0,\"ticks\":\"\"},\"colorscale\":[[0.0,\"#0d0887\"],[0.1111111111111111,\"#46039f\"],[0.2222222222222222,\"#7201a8\"],[0.3333333333333333,\"#9c179e\"],[0.4444444444444444,\"#bd3786\"],[0.5555555555555556,\"#d8576b\"],[0.6666666666666666,\"#ed7953\"],[0.7777777777777778,\"#fb9f3a\"],[0.8888888888888888,\"#fdca26\"],[1.0,\"#f0f921\"]],\"type\":\"heatmapgl\"}],\"histogram\":[{\"marker\":{\"pattern\":{\"fillmode\":\"overlay\",\"size\":10,\"solidity\":0.2}},\"type\":\"histogram\"}],\"histogram2d\":[{\"colorbar\":{\"outlinewidth\":0,\"ticks\":\"\"},\"colorscale\":[[0.0,\"#0d0887\"],[0.1111111111111111,\"#46039f\"],[0.2222222222222222,\"#7201a8\"],[0.3333333333333333,\"#9c179e\"],[0.4444444444444444,\"#bd3786\"],[0.5555555555555556,\"#d8576b\"],[0.6666666666666666,\"#ed7953\"],[0.7777777777777778,\"#fb9f3a\"],[0.8888888888888888,\"#fdca26\"],[1.0,\"#f0f921\"]],\"type\":\"histogram2d\"}],\"histogram2dcontour\":[{\"colorbar\":{\"outlinewidth\":0,\"ticks\":\"\"},\"colorscale\":[[0.0,\"#0d0887\"],[0.1111111111111111,\"#46039f\"],[0.2222222222222222,\"#7201a8\"],[0.3333333333333333,\"#9c179e\"],[0.4444444444444444,\"#bd3786\"],[0.5555555555555556,\"#d8576b\"],[0.6666666666666666,\"#ed7953\"],[0.7777777777777778,\"#fb9f3a\"],[0.8888888888888888,\"#fdca26\"],[1.0,\"#f0f921\"]],\"type\":\"histogram2dcontour\"}],\"mesh3d\":[{\"colorbar\":{\"outlinewidth\":0,\"ticks\":\"\"},\"type\":\"mesh3d\"}],\"parcoords\":[{\"line\":{\"colorbar\":{\"outlinewidth\":0,\"ticks\":\"\"}},\"type\":\"parcoords\"}],\"pie\":[{\"automargin\":true,\"type\":\"pie\"}],\"scatter\":[{\"marker\":{\"colorbar\":{\"outlinewidth\":0,\"ticks\":\"\"}},\"type\":\"scatter\"}],\"scatter3d\":[{\"line\":{\"colorbar\":{\"outlinewidth\":0,\"ticks\":\"\"}},\"marker\":{\"colorbar\":{\"outlinewidth\":0,\"ticks\":\"\"}},\"type\":\"scatter3d\"}],\"scattercarpet\":[{\"marker\":{\"colorbar\":{\"outlinewidth\":0,\"ticks\":\"\"}},\"type\":\"scattercarpet\"}],\"scattergeo\":[{\"marker\":{\"colorbar\":{\"outlinewidth\":0,\"ticks\":\"\"}},\"type\":\"scattergeo\"}],\"scattergl\":[{\"marker\":{\"colorbar\":{\"outlinewidth\":0,\"ticks\":\"\"}},\"type\":\"scattergl\"}],\"scattermapbox\":[{\"marker\":{\"colorbar\":{\"outlinewidth\":0,\"ticks\":\"\"}},\"type\":\"scattermapbox\"}],\"scatterpolar\":[{\"marker\":{\"colorbar\":{\"outlinewidth\":0,\"ticks\":\"\"}},\"type\":\"scatterpolar\"}],\"scatterpolargl\":[{\"marker\":{\"colorbar\":{\"outlinewidth\":0,\"ticks\":\"\"}},\"type\":\"scatterpolargl\"}],\"scatterternary\":[{\"marker\":{\"colorbar\":{\"outlinewidth\":0,\"ticks\":\"\"}},\"type\":\"scatterternary\"}],\"surface\":[{\"colorbar\":{\"outlinewidth\":0,\"ticks\":\"\"},\"colorscale\":[[0.0,\"#0d0887\"],[0.1111111111111111,\"#46039f\"],[0.2222222222222222,\"#7201a8\"],[0.3333333333333333,\"#9c179e\"],[0.4444444444444444,\"#bd3786\"],[0.5555555555555556,\"#d8576b\"],[0.6666666666666666,\"#ed7953\"],[0.7777777777777778,\"#fb9f3a\"],[0.8888888888888888,\"#fdca26\"],[1.0,\"#f0f921\"]],\"type\":\"surface\"}],\"table\":[{\"cells\":{\"fill\":{\"color\":\"#EBF0F8\"},\"line\":{\"color\":\"white\"}},\"header\":{\"fill\":{\"color\":\"#C8D4E3\"},\"line\":{\"color\":\"white\"}},\"type\":\"table\"}]},\"layout\":{\"annotationdefaults\":{\"arrowcolor\":\"#2a3f5f\",\"arrowhead\":0,\"arrowwidth\":1},\"autotypenumbers\":\"strict\",\"coloraxis\":{\"colorbar\":{\"outlinewidth\":0,\"ticks\":\"\"}},\"colorscale\":{\"diverging\":[[0,\"#8e0152\"],[0.1,\"#c51b7d\"],[0.2,\"#de77ae\"],[0.3,\"#f1b6da\"],[0.4,\"#fde0ef\"],[0.5,\"#f7f7f7\"],[0.6,\"#e6f5d0\"],[0.7,\"#b8e186\"],[0.8,\"#7fbc41\"],[0.9,\"#4d9221\"],[1,\"#276419\"]],\"sequential\":[[0.0,\"#0d0887\"],[0.1111111111111111,\"#46039f\"],[0.2222222222222222,\"#7201a8\"],[0.3333333333333333,\"#9c179e\"],[0.4444444444444444,\"#bd3786\"],[0.5555555555555556,\"#d8576b\"],[0.6666666666666666,\"#ed7953\"],[0.7777777777777778,\"#fb9f3a\"],[0.8888888888888888,\"#fdca26\"],[1.0,\"#f0f921\"]],\"sequentialminus\":[[0.0,\"#0d0887\"],[0.1111111111111111,\"#46039f\"],[0.2222222222222222,\"#7201a8\"],[0.3333333333333333,\"#9c179e\"],[0.4444444444444444,\"#bd3786\"],[0.5555555555555556,\"#d8576b\"],[0.6666666666666666,\"#ed7953\"],[0.7777777777777778,\"#fb9f3a\"],[0.8888888888888888,\"#fdca26\"],[1.0,\"#f0f921\"]]},\"colorway\":[\"#636efa\",\"#EF553B\",\"#00cc96\",\"#ab63fa\",\"#FFA15A\",\"#19d3f3\",\"#FF6692\",\"#B6E880\",\"#FF97FF\",\"#FECB52\"],\"font\":{\"color\":\"#2a3f5f\"},\"geo\":{\"bgcolor\":\"white\",\"lakecolor\":\"white\",\"landcolor\":\"#E5ECF6\",\"showlakes\":true,\"showland\":true,\"subunitcolor\":\"white\"},\"hoverlabel\":{\"align\":\"left\"},\"hovermode\":\"closest\",\"mapbox\":{\"style\":\"light\"},\"paper_bgcolor\":\"white\",\"plot_bgcolor\":\"#E5ECF6\",\"polar\":{\"angularaxis\":{\"gridcolor\":\"white\",\"linecolor\":\"white\",\"ticks\":\"\"},\"bgcolor\":\"#E5ECF6\",\"radialaxis\":{\"gridcolor\":\"white\",\"linecolor\":\"white\",\"ticks\":\"\"}},\"scene\":{\"xaxis\":{\"backgroundcolor\":\"#E5ECF6\",\"gridcolor\":\"white\",\"gridwidth\":2,\"linecolor\":\"white\",\"showbackground\":true,\"ticks\":\"\",\"zerolinecolor\":\"white\"},\"yaxis\":{\"backgroundcolor\":\"#E5ECF6\",\"gridcolor\":\"white\",\"gridwidth\":2,\"linecolor\":\"white\",\"showbackground\":true,\"ticks\":\"\",\"zerolinecolor\":\"white\"},\"zaxis\":{\"backgroundcolor\":\"#E5ECF6\",\"gridcolor\":\"white\",\"gridwidth\":2,\"linecolor\":\"white\",\"showbackground\":true,\"ticks\":\"\",\"zerolinecolor\":\"white\"}},\"shapedefaults\":{\"line\":{\"color\":\"#2a3f5f\"}},\"ternary\":{\"aaxis\":{\"gridcolor\":\"white\",\"linecolor\":\"white\",\"ticks\":\"\"},\"baxis\":{\"gridcolor\":\"white\",\"linecolor\":\"white\",\"ticks\":\"\"},\"bgcolor\":\"#E5ECF6\",\"caxis\":{\"gridcolor\":\"white\",\"linecolor\":\"white\",\"ticks\":\"\"}},\"title\":{\"x\":0.05},\"xaxis\":{\"automargin\":true,\"gridcolor\":\"white\",\"linecolor\":\"white\",\"ticks\":\"\",\"title\":{\"standoff\":15},\"zerolinecolor\":\"white\",\"zerolinewidth\":2},\"yaxis\":{\"automargin\":true,\"gridcolor\":\"white\",\"linecolor\":\"white\",\"ticks\":\"\",\"title\":{\"standoff\":15},\"zerolinecolor\":\"white\",\"zerolinewidth\":2}}},\"legend\":{\"y\":0.5},\"title\":{\"font\":{\"color\":\"black\",\"size\":18},\"text\":\"\\u0421\\u043e\\u043e\\u0442\\u043d\\u043e\\u0448\\u0435\\u043d\\u0438\\u0435 \\u0432\\u0438\\u0434\\u043e\\u0432 \\u043e\\u0431\\u044a\\u0435\\u043a\\u0442\\u043e\\u0432 \\u043e\\u0431\\u0449\\u0435\\u0441\\u0442\\u0432\\u0435\\u043d\\u043d\\u043e\\u0433\\u043e \\u043f\\u0438\\u0442\\u0430\\u043d\\u0438\\u044f\",\"x\":0.5}},                        {\"responsive\": true}                    ).then(function(){\n",
       "                            \n",
       "var gd = document.getElementById('39467f97-f69c-434b-8493-50b5584cb3a0');\n",
       "var x = new MutationObserver(function (mutations, observer) {{\n",
       "        var display = window.getComputedStyle(gd).display;\n",
       "        if (!display || display === 'none') {{\n",
       "            console.log([gd, 'removed!']);\n",
       "            Plotly.purge(gd);\n",
       "            observer.disconnect();\n",
       "        }}\n",
       "}});\n",
       "\n",
       "// Listen for the removal of the full notebook cells\n",
       "var notebookContainer = gd.closest('#notebook-container');\n",
       "if (notebookContainer) {{\n",
       "    x.observe(notebookContainer, {childList: true});\n",
       "}}\n",
       "\n",
       "// Listen for the clearing of the current output cell\n",
       "var outputEl = gd.closest('.output');\n",
       "if (outputEl) {{\n",
       "    x.observe(outputEl, {childList: true});\n",
       "}}\n",
       "\n",
       "                        })                };                });            </script>        </div>"
      ]
     },
     "metadata": {},
     "output_type": "display_data"
    }
   ],
   "source": [
    "group_obj = data.groupby('object_type')['id'].count().reset_index().sort_values('id',ascending=False).rename(columns={'id':'count'})\n",
    "obj_sum = group_obj['count'].sum()\n",
    "group_obj['percent'] =  round((group_obj['count']/obj_sum)*100,2)\n",
    "\n",
    "wrapped_labels = [label.replace(' ', '\\n') for label in group_obj['object_type']]\n",
    "\n",
    "fig=plt.figure(figsize=(12,7))\n",
    "sns.set_style('darkgrid')\n",
    "sns.barplot(x='count', y='object_type', data=group_obj, color='royalblue')\n",
    "plt.yticks(np.arange(len(wrapped_labels)), wrapped_labels)\n",
    "plt.xticks(rotation=90)\n",
    "plt.xlabel('Количество заведений')\n",
    "plt.ylabel('Тип объекта')\n",
    "plt.title('Количество различных видов объектов общественного питания', fontdict={'fontsize': 16, 'fontweight': 'medium'})\n",
    "plt.show()\n",
    "\n",
    "header_count=['Тип объекта', 'Кол-во абс.','Кол-во %']\n",
    "\n",
    "fig = make_subplots(rows=1, cols=2, specs=[[{'type':'domain'}, {'type':'domain'}]])\n",
    "fig.add_trace(go.Table(\n",
    "    header=dict(values=header_count),\n",
    "    cells=dict(values=[group_obj[k].tolist() for k in group_obj.columns[:]],\n",
    "                            align='center')),\n",
    "               1,1)\n",
    "fig.add_trace(go.Pie(\n",
    "    labels=group_obj['object_type'], \n",
    "    values=group_obj['count']),\n",
    "              1, 2)\n",
    "fig.update_layout(\n",
    "    legend=dict(y=.5),\n",
    "    title_text='Соотношение видов объектов общественного питания',\n",
    "    title_font_color=\"black\",\n",
    "    title_font_size = 18,\n",
    "    title_x=0.5\n",
    "    )\n",
    "fig.show()"
   ]
  },
  {
   "cell_type": "markdown",
   "metadata": {},
   "source": [
    "***Вывод***  \n",
    "По имеющимся данным, среди заведений общественного питания Москвы наибольшее распространение получили кафе - 6071 (39,7%) заведения, столовые - 2584 (16,9%), рестораны 2282 (14,9%). "
   ]
  },
  {
   "cell_type": "markdown",
   "metadata": {},
   "source": [
    "## Характеристика сетевых и несетевых заведений."
   ]
  },
  {
   "cell_type": "code",
   "execution_count": 45,
   "metadata": {},
   "outputs": [
    {
     "data": {
      "application/vnd.plotly.v1+json": {
       "config": {
        "plotlyServerURL": "https://plot.ly"
       },
       "data": [
        {
         "cells": {
          "align": "center",
          "values": [
           [
            "да",
            "нет"
           ],
           [
            2964,
            12317
           ],
           [
            19.4,
            80.6
           ]
          ]
         },
         "domain": {
          "x": [
           0,
           0.45
          ],
          "y": [
           0,
           0.6
          ]
         },
         "header": {
          "values": [
           "Статус сети",
           "Кол-во абс.",
           "Кол-во %"
          ]
         },
         "name": "first plot",
         "type": "table"
        },
        {
         "domain": {
          "x": [
           0.55,
           1
          ],
          "y": [
           0,
           1
          ]
         },
         "labels": [
          "Cетевой",
          "Несетевой"
         ],
         "name": "Status",
         "pull": 0.01,
         "type": "pie",
         "values": [
          2964,
          12317
         ]
        }
       ],
       "layout": {
        "height": 400,
        "legend": {
         "orientation": "h",
         "x": 0.93,
         "xanchor": "right"
        },
        "margin": {
         "b": 0,
         "l": 0,
         "r": 0,
         "t": 25
        },
        "template": {
         "data": {
          "bar": [
           {
            "error_x": {
             "color": "#2a3f5f"
            },
            "error_y": {
             "color": "#2a3f5f"
            },
            "marker": {
             "line": {
              "color": "#E5ECF6",
              "width": 0.5
             },
             "pattern": {
              "fillmode": "overlay",
              "size": 10,
              "solidity": 0.2
             }
            },
            "type": "bar"
           }
          ],
          "barpolar": [
           {
            "marker": {
             "line": {
              "color": "#E5ECF6",
              "width": 0.5
             },
             "pattern": {
              "fillmode": "overlay",
              "size": 10,
              "solidity": 0.2
             }
            },
            "type": "barpolar"
           }
          ],
          "carpet": [
           {
            "aaxis": {
             "endlinecolor": "#2a3f5f",
             "gridcolor": "white",
             "linecolor": "white",
             "minorgridcolor": "white",
             "startlinecolor": "#2a3f5f"
            },
            "baxis": {
             "endlinecolor": "#2a3f5f",
             "gridcolor": "white",
             "linecolor": "white",
             "minorgridcolor": "white",
             "startlinecolor": "#2a3f5f"
            },
            "type": "carpet"
           }
          ],
          "choropleth": [
           {
            "colorbar": {
             "outlinewidth": 0,
             "ticks": ""
            },
            "type": "choropleth"
           }
          ],
          "contour": [
           {
            "colorbar": {
             "outlinewidth": 0,
             "ticks": ""
            },
            "colorscale": [
             [
              0,
              "#0d0887"
             ],
             [
              0.1111111111111111,
              "#46039f"
             ],
             [
              0.2222222222222222,
              "#7201a8"
             ],
             [
              0.3333333333333333,
              "#9c179e"
             ],
             [
              0.4444444444444444,
              "#bd3786"
             ],
             [
              0.5555555555555556,
              "#d8576b"
             ],
             [
              0.6666666666666666,
              "#ed7953"
             ],
             [
              0.7777777777777778,
              "#fb9f3a"
             ],
             [
              0.8888888888888888,
              "#fdca26"
             ],
             [
              1,
              "#f0f921"
             ]
            ],
            "type": "contour"
           }
          ],
          "contourcarpet": [
           {
            "colorbar": {
             "outlinewidth": 0,
             "ticks": ""
            },
            "type": "contourcarpet"
           }
          ],
          "heatmap": [
           {
            "colorbar": {
             "outlinewidth": 0,
             "ticks": ""
            },
            "colorscale": [
             [
              0,
              "#0d0887"
             ],
             [
              0.1111111111111111,
              "#46039f"
             ],
             [
              0.2222222222222222,
              "#7201a8"
             ],
             [
              0.3333333333333333,
              "#9c179e"
             ],
             [
              0.4444444444444444,
              "#bd3786"
             ],
             [
              0.5555555555555556,
              "#d8576b"
             ],
             [
              0.6666666666666666,
              "#ed7953"
             ],
             [
              0.7777777777777778,
              "#fb9f3a"
             ],
             [
              0.8888888888888888,
              "#fdca26"
             ],
             [
              1,
              "#f0f921"
             ]
            ],
            "type": "heatmap"
           }
          ],
          "heatmapgl": [
           {
            "colorbar": {
             "outlinewidth": 0,
             "ticks": ""
            },
            "colorscale": [
             [
              0,
              "#0d0887"
             ],
             [
              0.1111111111111111,
              "#46039f"
             ],
             [
              0.2222222222222222,
              "#7201a8"
             ],
             [
              0.3333333333333333,
              "#9c179e"
             ],
             [
              0.4444444444444444,
              "#bd3786"
             ],
             [
              0.5555555555555556,
              "#d8576b"
             ],
             [
              0.6666666666666666,
              "#ed7953"
             ],
             [
              0.7777777777777778,
              "#fb9f3a"
             ],
             [
              0.8888888888888888,
              "#fdca26"
             ],
             [
              1,
              "#f0f921"
             ]
            ],
            "type": "heatmapgl"
           }
          ],
          "histogram": [
           {
            "marker": {
             "pattern": {
              "fillmode": "overlay",
              "size": 10,
              "solidity": 0.2
             }
            },
            "type": "histogram"
           }
          ],
          "histogram2d": [
           {
            "colorbar": {
             "outlinewidth": 0,
             "ticks": ""
            },
            "colorscale": [
             [
              0,
              "#0d0887"
             ],
             [
              0.1111111111111111,
              "#46039f"
             ],
             [
              0.2222222222222222,
              "#7201a8"
             ],
             [
              0.3333333333333333,
              "#9c179e"
             ],
             [
              0.4444444444444444,
              "#bd3786"
             ],
             [
              0.5555555555555556,
              "#d8576b"
             ],
             [
              0.6666666666666666,
              "#ed7953"
             ],
             [
              0.7777777777777778,
              "#fb9f3a"
             ],
             [
              0.8888888888888888,
              "#fdca26"
             ],
             [
              1,
              "#f0f921"
             ]
            ],
            "type": "histogram2d"
           }
          ],
          "histogram2dcontour": [
           {
            "colorbar": {
             "outlinewidth": 0,
             "ticks": ""
            },
            "colorscale": [
             [
              0,
              "#0d0887"
             ],
             [
              0.1111111111111111,
              "#46039f"
             ],
             [
              0.2222222222222222,
              "#7201a8"
             ],
             [
              0.3333333333333333,
              "#9c179e"
             ],
             [
              0.4444444444444444,
              "#bd3786"
             ],
             [
              0.5555555555555556,
              "#d8576b"
             ],
             [
              0.6666666666666666,
              "#ed7953"
             ],
             [
              0.7777777777777778,
              "#fb9f3a"
             ],
             [
              0.8888888888888888,
              "#fdca26"
             ],
             [
              1,
              "#f0f921"
             ]
            ],
            "type": "histogram2dcontour"
           }
          ],
          "mesh3d": [
           {
            "colorbar": {
             "outlinewidth": 0,
             "ticks": ""
            },
            "type": "mesh3d"
           }
          ],
          "parcoords": [
           {
            "line": {
             "colorbar": {
              "outlinewidth": 0,
              "ticks": ""
             }
            },
            "type": "parcoords"
           }
          ],
          "pie": [
           {
            "automargin": true,
            "type": "pie"
           }
          ],
          "scatter": [
           {
            "marker": {
             "colorbar": {
              "outlinewidth": 0,
              "ticks": ""
             }
            },
            "type": "scatter"
           }
          ],
          "scatter3d": [
           {
            "line": {
             "colorbar": {
              "outlinewidth": 0,
              "ticks": ""
             }
            },
            "marker": {
             "colorbar": {
              "outlinewidth": 0,
              "ticks": ""
             }
            },
            "type": "scatter3d"
           }
          ],
          "scattercarpet": [
           {
            "marker": {
             "colorbar": {
              "outlinewidth": 0,
              "ticks": ""
             }
            },
            "type": "scattercarpet"
           }
          ],
          "scattergeo": [
           {
            "marker": {
             "colorbar": {
              "outlinewidth": 0,
              "ticks": ""
             }
            },
            "type": "scattergeo"
           }
          ],
          "scattergl": [
           {
            "marker": {
             "colorbar": {
              "outlinewidth": 0,
              "ticks": ""
             }
            },
            "type": "scattergl"
           }
          ],
          "scattermapbox": [
           {
            "marker": {
             "colorbar": {
              "outlinewidth": 0,
              "ticks": ""
             }
            },
            "type": "scattermapbox"
           }
          ],
          "scatterpolar": [
           {
            "marker": {
             "colorbar": {
              "outlinewidth": 0,
              "ticks": ""
             }
            },
            "type": "scatterpolar"
           }
          ],
          "scatterpolargl": [
           {
            "marker": {
             "colorbar": {
              "outlinewidth": 0,
              "ticks": ""
             }
            },
            "type": "scatterpolargl"
           }
          ],
          "scatterternary": [
           {
            "marker": {
             "colorbar": {
              "outlinewidth": 0,
              "ticks": ""
             }
            },
            "type": "scatterternary"
           }
          ],
          "surface": [
           {
            "colorbar": {
             "outlinewidth": 0,
             "ticks": ""
            },
            "colorscale": [
             [
              0,
              "#0d0887"
             ],
             [
              0.1111111111111111,
              "#46039f"
             ],
             [
              0.2222222222222222,
              "#7201a8"
             ],
             [
              0.3333333333333333,
              "#9c179e"
             ],
             [
              0.4444444444444444,
              "#bd3786"
             ],
             [
              0.5555555555555556,
              "#d8576b"
             ],
             [
              0.6666666666666666,
              "#ed7953"
             ],
             [
              0.7777777777777778,
              "#fb9f3a"
             ],
             [
              0.8888888888888888,
              "#fdca26"
             ],
             [
              1,
              "#f0f921"
             ]
            ],
            "type": "surface"
           }
          ],
          "table": [
           {
            "cells": {
             "fill": {
              "color": "#EBF0F8"
             },
             "line": {
              "color": "white"
             }
            },
            "header": {
             "fill": {
              "color": "#C8D4E3"
             },
             "line": {
              "color": "white"
             }
            },
            "type": "table"
           }
          ]
         },
         "layout": {
          "annotationdefaults": {
           "arrowcolor": "#2a3f5f",
           "arrowhead": 0,
           "arrowwidth": 1
          },
          "autotypenumbers": "strict",
          "coloraxis": {
           "colorbar": {
            "outlinewidth": 0,
            "ticks": ""
           }
          },
          "colorscale": {
           "diverging": [
            [
             0,
             "#8e0152"
            ],
            [
             0.1,
             "#c51b7d"
            ],
            [
             0.2,
             "#de77ae"
            ],
            [
             0.3,
             "#f1b6da"
            ],
            [
             0.4,
             "#fde0ef"
            ],
            [
             0.5,
             "#f7f7f7"
            ],
            [
             0.6,
             "#e6f5d0"
            ],
            [
             0.7,
             "#b8e186"
            ],
            [
             0.8,
             "#7fbc41"
            ],
            [
             0.9,
             "#4d9221"
            ],
            [
             1,
             "#276419"
            ]
           ],
           "sequential": [
            [
             0,
             "#0d0887"
            ],
            [
             0.1111111111111111,
             "#46039f"
            ],
            [
             0.2222222222222222,
             "#7201a8"
            ],
            [
             0.3333333333333333,
             "#9c179e"
            ],
            [
             0.4444444444444444,
             "#bd3786"
            ],
            [
             0.5555555555555556,
             "#d8576b"
            ],
            [
             0.6666666666666666,
             "#ed7953"
            ],
            [
             0.7777777777777778,
             "#fb9f3a"
            ],
            [
             0.8888888888888888,
             "#fdca26"
            ],
            [
             1,
             "#f0f921"
            ]
           ],
           "sequentialminus": [
            [
             0,
             "#0d0887"
            ],
            [
             0.1111111111111111,
             "#46039f"
            ],
            [
             0.2222222222222222,
             "#7201a8"
            ],
            [
             0.3333333333333333,
             "#9c179e"
            ],
            [
             0.4444444444444444,
             "#bd3786"
            ],
            [
             0.5555555555555556,
             "#d8576b"
            ],
            [
             0.6666666666666666,
             "#ed7953"
            ],
            [
             0.7777777777777778,
             "#fb9f3a"
            ],
            [
             0.8888888888888888,
             "#fdca26"
            ],
            [
             1,
             "#f0f921"
            ]
           ]
          },
          "colorway": [
           "#636efa",
           "#EF553B",
           "#00cc96",
           "#ab63fa",
           "#FFA15A",
           "#19d3f3",
           "#FF6692",
           "#B6E880",
           "#FF97FF",
           "#FECB52"
          ],
          "font": {
           "color": "#2a3f5f"
          },
          "geo": {
           "bgcolor": "white",
           "lakecolor": "white",
           "landcolor": "#E5ECF6",
           "showlakes": true,
           "showland": true,
           "subunitcolor": "white"
          },
          "hoverlabel": {
           "align": "left"
          },
          "hovermode": "closest",
          "mapbox": {
           "style": "light"
          },
          "paper_bgcolor": "white",
          "plot_bgcolor": "#E5ECF6",
          "polar": {
           "angularaxis": {
            "gridcolor": "white",
            "linecolor": "white",
            "ticks": ""
           },
           "bgcolor": "#E5ECF6",
           "radialaxis": {
            "gridcolor": "white",
            "linecolor": "white",
            "ticks": ""
           }
          },
          "scene": {
           "xaxis": {
            "backgroundcolor": "#E5ECF6",
            "gridcolor": "white",
            "gridwidth": 2,
            "linecolor": "white",
            "showbackground": true,
            "ticks": "",
            "zerolinecolor": "white"
           },
           "yaxis": {
            "backgroundcolor": "#E5ECF6",
            "gridcolor": "white",
            "gridwidth": 2,
            "linecolor": "white",
            "showbackground": true,
            "ticks": "",
            "zerolinecolor": "white"
           },
           "zaxis": {
            "backgroundcolor": "#E5ECF6",
            "gridcolor": "white",
            "gridwidth": 2,
            "linecolor": "white",
            "showbackground": true,
            "ticks": "",
            "zerolinecolor": "white"
           }
          },
          "shapedefaults": {
           "line": {
            "color": "#2a3f5f"
           }
          },
          "ternary": {
           "aaxis": {
            "gridcolor": "white",
            "linecolor": "white",
            "ticks": ""
           },
           "baxis": {
            "gridcolor": "white",
            "linecolor": "white",
            "ticks": ""
           },
           "bgcolor": "#E5ECF6",
           "caxis": {
            "gridcolor": "white",
            "linecolor": "white",
            "ticks": ""
           }
          },
          "title": {
           "x": 0.05
          },
          "xaxis": {
           "automargin": true,
           "gridcolor": "white",
           "linecolor": "white",
           "ticks": "",
           "title": {
            "standoff": 15
           },
           "zerolinecolor": "white",
           "zerolinewidth": 2
          },
          "yaxis": {
           "automargin": true,
           "gridcolor": "white",
           "linecolor": "white",
           "ticks": "",
           "title": {
            "standoff": 15
           },
           "zerolinecolor": "white",
           "zerolinewidth": 2
          }
         }
        },
        "title": {
         "font": {
          "color": "black",
          "size": 18
         },
         "text": "Соотношение сетевых и несетевых объектов",
         "x": 0.5
        },
        "width": 800
       }
      },
      "text/html": [
       "<div>                            <div id=\"d5242cec-99c2-4005-9829-1757fab42962\" class=\"plotly-graph-div\" style=\"height:400px; width:800px;\"></div>            <script type=\"text/javascript\">                require([\"plotly\"], function(Plotly) {                    window.PLOTLYENV=window.PLOTLYENV || {};                                    if (document.getElementById(\"d5242cec-99c2-4005-9829-1757fab42962\")) {                    Plotly.newPlot(                        \"d5242cec-99c2-4005-9829-1757fab42962\",                        [{\"cells\":{\"align\":\"center\",\"values\":[[\"\\u0434\\u0430\",\"\\u043d\\u0435\\u0442\"],[2964,12317],[19.4,80.6]]},\"header\":{\"values\":[\"\\u0421\\u0442\\u0430\\u0442\\u0443\\u0441 \\u0441\\u0435\\u0442\\u0438\",\"\\u041a\\u043e\\u043b-\\u0432\\u043e \\u0430\\u0431\\u0441.\",\"\\u041a\\u043e\\u043b-\\u0432\\u043e %\"]},\"name\":\"first plot\",\"type\":\"table\",\"domain\":{\"x\":[0.0,0.45],\"y\":[0,0.6]}},{\"labels\":[\"C\\u0435\\u0442\\u0435\\u0432\\u043e\\u0439\",\"\\u041d\\u0435\\u0441\\u0435\\u0442\\u0435\\u0432\\u043e\\u0439\"],\"name\":\"Status\",\"pull\":0.01,\"values\":[2964,12317],\"type\":\"pie\",\"domain\":{\"x\":[0.55,1.0],\"y\":[0.0,1.0]}}],                        {\"template\":{\"data\":{\"bar\":[{\"error_x\":{\"color\":\"#2a3f5f\"},\"error_y\":{\"color\":\"#2a3f5f\"},\"marker\":{\"line\":{\"color\":\"#E5ECF6\",\"width\":0.5},\"pattern\":{\"fillmode\":\"overlay\",\"size\":10,\"solidity\":0.2}},\"type\":\"bar\"}],\"barpolar\":[{\"marker\":{\"line\":{\"color\":\"#E5ECF6\",\"width\":0.5},\"pattern\":{\"fillmode\":\"overlay\",\"size\":10,\"solidity\":0.2}},\"type\":\"barpolar\"}],\"carpet\":[{\"aaxis\":{\"endlinecolor\":\"#2a3f5f\",\"gridcolor\":\"white\",\"linecolor\":\"white\",\"minorgridcolor\":\"white\",\"startlinecolor\":\"#2a3f5f\"},\"baxis\":{\"endlinecolor\":\"#2a3f5f\",\"gridcolor\":\"white\",\"linecolor\":\"white\",\"minorgridcolor\":\"white\",\"startlinecolor\":\"#2a3f5f\"},\"type\":\"carpet\"}],\"choropleth\":[{\"colorbar\":{\"outlinewidth\":0,\"ticks\":\"\"},\"type\":\"choropleth\"}],\"contour\":[{\"colorbar\":{\"outlinewidth\":0,\"ticks\":\"\"},\"colorscale\":[[0.0,\"#0d0887\"],[0.1111111111111111,\"#46039f\"],[0.2222222222222222,\"#7201a8\"],[0.3333333333333333,\"#9c179e\"],[0.4444444444444444,\"#bd3786\"],[0.5555555555555556,\"#d8576b\"],[0.6666666666666666,\"#ed7953\"],[0.7777777777777778,\"#fb9f3a\"],[0.8888888888888888,\"#fdca26\"],[1.0,\"#f0f921\"]],\"type\":\"contour\"}],\"contourcarpet\":[{\"colorbar\":{\"outlinewidth\":0,\"ticks\":\"\"},\"type\":\"contourcarpet\"}],\"heatmap\":[{\"colorbar\":{\"outlinewidth\":0,\"ticks\":\"\"},\"colorscale\":[[0.0,\"#0d0887\"],[0.1111111111111111,\"#46039f\"],[0.2222222222222222,\"#7201a8\"],[0.3333333333333333,\"#9c179e\"],[0.4444444444444444,\"#bd3786\"],[0.5555555555555556,\"#d8576b\"],[0.6666666666666666,\"#ed7953\"],[0.7777777777777778,\"#fb9f3a\"],[0.8888888888888888,\"#fdca26\"],[1.0,\"#f0f921\"]],\"type\":\"heatmap\"}],\"heatmapgl\":[{\"colorbar\":{\"outlinewidth\":0,\"ticks\":\"\"},\"colorscale\":[[0.0,\"#0d0887\"],[0.1111111111111111,\"#46039f\"],[0.2222222222222222,\"#7201a8\"],[0.3333333333333333,\"#9c179e\"],[0.4444444444444444,\"#bd3786\"],[0.5555555555555556,\"#d8576b\"],[0.6666666666666666,\"#ed7953\"],[0.7777777777777778,\"#fb9f3a\"],[0.8888888888888888,\"#fdca26\"],[1.0,\"#f0f921\"]],\"type\":\"heatmapgl\"}],\"histogram\":[{\"marker\":{\"pattern\":{\"fillmode\":\"overlay\",\"size\":10,\"solidity\":0.2}},\"type\":\"histogram\"}],\"histogram2d\":[{\"colorbar\":{\"outlinewidth\":0,\"ticks\":\"\"},\"colorscale\":[[0.0,\"#0d0887\"],[0.1111111111111111,\"#46039f\"],[0.2222222222222222,\"#7201a8\"],[0.3333333333333333,\"#9c179e\"],[0.4444444444444444,\"#bd3786\"],[0.5555555555555556,\"#d8576b\"],[0.6666666666666666,\"#ed7953\"],[0.7777777777777778,\"#fb9f3a\"],[0.8888888888888888,\"#fdca26\"],[1.0,\"#f0f921\"]],\"type\":\"histogram2d\"}],\"histogram2dcontour\":[{\"colorbar\":{\"outlinewidth\":0,\"ticks\":\"\"},\"colorscale\":[[0.0,\"#0d0887\"],[0.1111111111111111,\"#46039f\"],[0.2222222222222222,\"#7201a8\"],[0.3333333333333333,\"#9c179e\"],[0.4444444444444444,\"#bd3786\"],[0.5555555555555556,\"#d8576b\"],[0.6666666666666666,\"#ed7953\"],[0.7777777777777778,\"#fb9f3a\"],[0.8888888888888888,\"#fdca26\"],[1.0,\"#f0f921\"]],\"type\":\"histogram2dcontour\"}],\"mesh3d\":[{\"colorbar\":{\"outlinewidth\":0,\"ticks\":\"\"},\"type\":\"mesh3d\"}],\"parcoords\":[{\"line\":{\"colorbar\":{\"outlinewidth\":0,\"ticks\":\"\"}},\"type\":\"parcoords\"}],\"pie\":[{\"automargin\":true,\"type\":\"pie\"}],\"scatter\":[{\"marker\":{\"colorbar\":{\"outlinewidth\":0,\"ticks\":\"\"}},\"type\":\"scatter\"}],\"scatter3d\":[{\"line\":{\"colorbar\":{\"outlinewidth\":0,\"ticks\":\"\"}},\"marker\":{\"colorbar\":{\"outlinewidth\":0,\"ticks\":\"\"}},\"type\":\"scatter3d\"}],\"scattercarpet\":[{\"marker\":{\"colorbar\":{\"outlinewidth\":0,\"ticks\":\"\"}},\"type\":\"scattercarpet\"}],\"scattergeo\":[{\"marker\":{\"colorbar\":{\"outlinewidth\":0,\"ticks\":\"\"}},\"type\":\"scattergeo\"}],\"scattergl\":[{\"marker\":{\"colorbar\":{\"outlinewidth\":0,\"ticks\":\"\"}},\"type\":\"scattergl\"}],\"scattermapbox\":[{\"marker\":{\"colorbar\":{\"outlinewidth\":0,\"ticks\":\"\"}},\"type\":\"scattermapbox\"}],\"scatterpolar\":[{\"marker\":{\"colorbar\":{\"outlinewidth\":0,\"ticks\":\"\"}},\"type\":\"scatterpolar\"}],\"scatterpolargl\":[{\"marker\":{\"colorbar\":{\"outlinewidth\":0,\"ticks\":\"\"}},\"type\":\"scatterpolargl\"}],\"scatterternary\":[{\"marker\":{\"colorbar\":{\"outlinewidth\":0,\"ticks\":\"\"}},\"type\":\"scatterternary\"}],\"surface\":[{\"colorbar\":{\"outlinewidth\":0,\"ticks\":\"\"},\"colorscale\":[[0.0,\"#0d0887\"],[0.1111111111111111,\"#46039f\"],[0.2222222222222222,\"#7201a8\"],[0.3333333333333333,\"#9c179e\"],[0.4444444444444444,\"#bd3786\"],[0.5555555555555556,\"#d8576b\"],[0.6666666666666666,\"#ed7953\"],[0.7777777777777778,\"#fb9f3a\"],[0.8888888888888888,\"#fdca26\"],[1.0,\"#f0f921\"]],\"type\":\"surface\"}],\"table\":[{\"cells\":{\"fill\":{\"color\":\"#EBF0F8\"},\"line\":{\"color\":\"white\"}},\"header\":{\"fill\":{\"color\":\"#C8D4E3\"},\"line\":{\"color\":\"white\"}},\"type\":\"table\"}]},\"layout\":{\"annotationdefaults\":{\"arrowcolor\":\"#2a3f5f\",\"arrowhead\":0,\"arrowwidth\":1},\"autotypenumbers\":\"strict\",\"coloraxis\":{\"colorbar\":{\"outlinewidth\":0,\"ticks\":\"\"}},\"colorscale\":{\"diverging\":[[0,\"#8e0152\"],[0.1,\"#c51b7d\"],[0.2,\"#de77ae\"],[0.3,\"#f1b6da\"],[0.4,\"#fde0ef\"],[0.5,\"#f7f7f7\"],[0.6,\"#e6f5d0\"],[0.7,\"#b8e186\"],[0.8,\"#7fbc41\"],[0.9,\"#4d9221\"],[1,\"#276419\"]],\"sequential\":[[0.0,\"#0d0887\"],[0.1111111111111111,\"#46039f\"],[0.2222222222222222,\"#7201a8\"],[0.3333333333333333,\"#9c179e\"],[0.4444444444444444,\"#bd3786\"],[0.5555555555555556,\"#d8576b\"],[0.6666666666666666,\"#ed7953\"],[0.7777777777777778,\"#fb9f3a\"],[0.8888888888888888,\"#fdca26\"],[1.0,\"#f0f921\"]],\"sequentialminus\":[[0.0,\"#0d0887\"],[0.1111111111111111,\"#46039f\"],[0.2222222222222222,\"#7201a8\"],[0.3333333333333333,\"#9c179e\"],[0.4444444444444444,\"#bd3786\"],[0.5555555555555556,\"#d8576b\"],[0.6666666666666666,\"#ed7953\"],[0.7777777777777778,\"#fb9f3a\"],[0.8888888888888888,\"#fdca26\"],[1.0,\"#f0f921\"]]},\"colorway\":[\"#636efa\",\"#EF553B\",\"#00cc96\",\"#ab63fa\",\"#FFA15A\",\"#19d3f3\",\"#FF6692\",\"#B6E880\",\"#FF97FF\",\"#FECB52\"],\"font\":{\"color\":\"#2a3f5f\"},\"geo\":{\"bgcolor\":\"white\",\"lakecolor\":\"white\",\"landcolor\":\"#E5ECF6\",\"showlakes\":true,\"showland\":true,\"subunitcolor\":\"white\"},\"hoverlabel\":{\"align\":\"left\"},\"hovermode\":\"closest\",\"mapbox\":{\"style\":\"light\"},\"paper_bgcolor\":\"white\",\"plot_bgcolor\":\"#E5ECF6\",\"polar\":{\"angularaxis\":{\"gridcolor\":\"white\",\"linecolor\":\"white\",\"ticks\":\"\"},\"bgcolor\":\"#E5ECF6\",\"radialaxis\":{\"gridcolor\":\"white\",\"linecolor\":\"white\",\"ticks\":\"\"}},\"scene\":{\"xaxis\":{\"backgroundcolor\":\"#E5ECF6\",\"gridcolor\":\"white\",\"gridwidth\":2,\"linecolor\":\"white\",\"showbackground\":true,\"ticks\":\"\",\"zerolinecolor\":\"white\"},\"yaxis\":{\"backgroundcolor\":\"#E5ECF6\",\"gridcolor\":\"white\",\"gridwidth\":2,\"linecolor\":\"white\",\"showbackground\":true,\"ticks\":\"\",\"zerolinecolor\":\"white\"},\"zaxis\":{\"backgroundcolor\":\"#E5ECF6\",\"gridcolor\":\"white\",\"gridwidth\":2,\"linecolor\":\"white\",\"showbackground\":true,\"ticks\":\"\",\"zerolinecolor\":\"white\"}},\"shapedefaults\":{\"line\":{\"color\":\"#2a3f5f\"}},\"ternary\":{\"aaxis\":{\"gridcolor\":\"white\",\"linecolor\":\"white\",\"ticks\":\"\"},\"baxis\":{\"gridcolor\":\"white\",\"linecolor\":\"white\",\"ticks\":\"\"},\"bgcolor\":\"#E5ECF6\",\"caxis\":{\"gridcolor\":\"white\",\"linecolor\":\"white\",\"ticks\":\"\"}},\"title\":{\"x\":0.05},\"xaxis\":{\"automargin\":true,\"gridcolor\":\"white\",\"linecolor\":\"white\",\"ticks\":\"\",\"title\":{\"standoff\":15},\"zerolinecolor\":\"white\",\"zerolinewidth\":2},\"yaxis\":{\"automargin\":true,\"gridcolor\":\"white\",\"linecolor\":\"white\",\"ticks\":\"\",\"title\":{\"standoff\":15},\"zerolinecolor\":\"white\",\"zerolinewidth\":2}}},\"legend\":{\"orientation\":\"h\",\"x\":0.93,\"xanchor\":\"right\"},\"margin\":{\"l\":0,\"r\":0,\"t\":25,\"b\":0},\"title\":{\"font\":{\"color\":\"black\",\"size\":18},\"text\":\"\\u0421\\u043e\\u043e\\u0442\\u043d\\u043e\\u0448\\u0435\\u043d\\u0438\\u0435 \\u0441\\u0435\\u0442\\u0435\\u0432\\u044b\\u0445 \\u0438 \\u043d\\u0435\\u0441\\u0435\\u0442\\u0435\\u0432\\u044b\\u0445 \\u043e\\u0431\\u044a\\u0435\\u043a\\u0442\\u043e\\u0432\",\"x\":0.5},\"width\":800,\"height\":400},                        {\"responsive\": true}                    ).then(function(){\n",
       "                            \n",
       "var gd = document.getElementById('d5242cec-99c2-4005-9829-1757fab42962');\n",
       "var x = new MutationObserver(function (mutations, observer) {{\n",
       "        var display = window.getComputedStyle(gd).display;\n",
       "        if (!display || display === 'none') {{\n",
       "            console.log([gd, 'removed!']);\n",
       "            Plotly.purge(gd);\n",
       "            observer.disconnect();\n",
       "        }}\n",
       "}});\n",
       "\n",
       "// Listen for the removal of the full notebook cells\n",
       "var notebookContainer = gd.closest('#notebook-container');\n",
       "if (notebookContainer) {{\n",
       "    x.observe(notebookContainer, {childList: true});\n",
       "}}\n",
       "\n",
       "// Listen for the clearing of the current output cell\n",
       "var outputEl = gd.closest('.output');\n",
       "if (outputEl) {{\n",
       "    x.observe(outputEl, {childList: true});\n",
       "}}\n",
       "\n",
       "                        })                };                });            </script>        </div>"
      ]
     },
     "metadata": {},
     "output_type": "display_data"
    }
   ],
   "source": [
    "chain = data.groupby('chain')['id'].count().reset_index()\n",
    "chain['percent'] = round((chain['id'] / chain['id'].sum())*100,1)\n",
    "\n",
    "header_chain = ['Статус сети', 'Кол-во абс.', 'Кол-во %']\n",
    "\n",
    "fig = make_subplots(rows=1, cols=2, specs=[[{'type':'domain'}, {'type':'domain'}]])\n",
    "fig.add_trace(go.Table(header=dict(values=header_chain),\n",
    "    cells=dict(values=[chain[k].tolist() for k in chain.columns[:]],\n",
    "                            align='center'), name='first plot'),\n",
    "              1,1)\n",
    "fig.add_trace(go.Pie(go.Pie(labels=[\"Cетевой\",'Несетевой'], values=chain['id'],pull=0.01, name='Status')),\n",
    "             1,2)\n",
    "fig.update_traces(domain=dict(x=[0, 0.45], y=[0, 0.6]), \n",
    "                  selector={'name':'first plot'})\n",
    "fig.update_layout(width=800, height=400,\n",
    "                  legend_orientation=\"h\",\n",
    "                  legend=dict(x=.93,xanchor='right'),\n",
    "                  margin=dict(l=0,r=0,t=25,b=0),\n",
    "                  title_text='Соотношение сетевых и несетевых объектов',\n",
    "                  title_font_color=\"black\",\n",
    "                  title_font_size = 18,\n",
    "                  title_x=0.5)\n",
    "fig.show()"
   ]
  },
  {
   "cell_type": "markdown",
   "metadata": {},
   "source": [
    "***Вывод***    \n",
    "2964 (19,4%) заведений общественного питания Москвы являются сетевыми."
   ]
  },
  {
   "cell_type": "markdown",
   "metadata": {},
   "source": [
    "# 3. Определение вида объекта общественного питания, для которого  характерно сетевое распространение.\n"
   ]
  },
  {
   "cell_type": "code",
   "execution_count": 217,
   "metadata": {},
   "outputs": [
    {
     "data": {
      "application/vnd.plotly.v1+json": {
       "config": {
        "plotlyServerURL": "https://plot.ly"
       },
       "data": [
        {
         "cells": {
          "align": "center",
          "values": [
           [
            "предприятие быстрого обслуживания",
            "магазин (отдел кулинарии)",
            "ресторан",
            "кафе",
            "закусочная",
            "кафетерий",
            "бар",
            "буфет",
            "столовая"
           ],
           [
            1897,
            273,
            2282,
            6071,
            348,
            395,
            855,
            576,
            2584
           ],
           [
            788,
            78,
            543,
            1396,
            56,
            52,
            37,
            11,
            3
           ],
           [
            41.54,
            28.57,
            23.79,
            22.99,
            16.09,
            13.16,
            4.33,
            1.91,
            0.12
           ]
          ]
         },
         "domain": {
          "x": [
           0,
           0.45
          ],
          "y": [
           0,
           0.95
          ]
         },
         "header": {
          "values": [
           "Тип объекта",
           "Общее кол-во абс.",
           "Кол-во сетевых абс.",
           "Доля сетевых %"
          ]
         },
         "name": "first plot",
         "type": "table"
        },
        {
         "type": "bar",
         "x": [
          "предприятие быстрого обслуживания",
          "магазин (отдел кулинарии)",
          "ресторан",
          "кафе",
          "закусочная",
          "кафетерий",
          "бар",
          "буфет",
          "столовая"
         ],
         "xaxis": "x",
         "y": [
          41.54,
          28.57,
          23.79,
          22.99,
          16.09,
          13.16,
          4.33,
          1.91,
          0.12
         ],
         "yaxis": "y"
        }
       ],
       "layout": {
        "height": 500,
        "legend": {
         "orientation": "h",
         "x": 0.93,
         "xanchor": "right"
        },
        "margin": {
         "b": 0,
         "l": 0,
         "r": 110,
         "t": 25
        },
        "template": {
         "data": {
          "bar": [
           {
            "error_x": {
             "color": "#2a3f5f"
            },
            "error_y": {
             "color": "#2a3f5f"
            },
            "marker": {
             "line": {
              "color": "#E5ECF6",
              "width": 0.5
             },
             "pattern": {
              "fillmode": "overlay",
              "size": 10,
              "solidity": 0.2
             }
            },
            "type": "bar"
           }
          ],
          "barpolar": [
           {
            "marker": {
             "line": {
              "color": "#E5ECF6",
              "width": 0.5
             },
             "pattern": {
              "fillmode": "overlay",
              "size": 10,
              "solidity": 0.2
             }
            },
            "type": "barpolar"
           }
          ],
          "carpet": [
           {
            "aaxis": {
             "endlinecolor": "#2a3f5f",
             "gridcolor": "white",
             "linecolor": "white",
             "minorgridcolor": "white",
             "startlinecolor": "#2a3f5f"
            },
            "baxis": {
             "endlinecolor": "#2a3f5f",
             "gridcolor": "white",
             "linecolor": "white",
             "minorgridcolor": "white",
             "startlinecolor": "#2a3f5f"
            },
            "type": "carpet"
           }
          ],
          "choropleth": [
           {
            "colorbar": {
             "outlinewidth": 0,
             "ticks": ""
            },
            "type": "choropleth"
           }
          ],
          "contour": [
           {
            "colorbar": {
             "outlinewidth": 0,
             "ticks": ""
            },
            "colorscale": [
             [
              0,
              "#0d0887"
             ],
             [
              0.1111111111111111,
              "#46039f"
             ],
             [
              0.2222222222222222,
              "#7201a8"
             ],
             [
              0.3333333333333333,
              "#9c179e"
             ],
             [
              0.4444444444444444,
              "#bd3786"
             ],
             [
              0.5555555555555556,
              "#d8576b"
             ],
             [
              0.6666666666666666,
              "#ed7953"
             ],
             [
              0.7777777777777778,
              "#fb9f3a"
             ],
             [
              0.8888888888888888,
              "#fdca26"
             ],
             [
              1,
              "#f0f921"
             ]
            ],
            "type": "contour"
           }
          ],
          "contourcarpet": [
           {
            "colorbar": {
             "outlinewidth": 0,
             "ticks": ""
            },
            "type": "contourcarpet"
           }
          ],
          "heatmap": [
           {
            "colorbar": {
             "outlinewidth": 0,
             "ticks": ""
            },
            "colorscale": [
             [
              0,
              "#0d0887"
             ],
             [
              0.1111111111111111,
              "#46039f"
             ],
             [
              0.2222222222222222,
              "#7201a8"
             ],
             [
              0.3333333333333333,
              "#9c179e"
             ],
             [
              0.4444444444444444,
              "#bd3786"
             ],
             [
              0.5555555555555556,
              "#d8576b"
             ],
             [
              0.6666666666666666,
              "#ed7953"
             ],
             [
              0.7777777777777778,
              "#fb9f3a"
             ],
             [
              0.8888888888888888,
              "#fdca26"
             ],
             [
              1,
              "#f0f921"
             ]
            ],
            "type": "heatmap"
           }
          ],
          "heatmapgl": [
           {
            "colorbar": {
             "outlinewidth": 0,
             "ticks": ""
            },
            "colorscale": [
             [
              0,
              "#0d0887"
             ],
             [
              0.1111111111111111,
              "#46039f"
             ],
             [
              0.2222222222222222,
              "#7201a8"
             ],
             [
              0.3333333333333333,
              "#9c179e"
             ],
             [
              0.4444444444444444,
              "#bd3786"
             ],
             [
              0.5555555555555556,
              "#d8576b"
             ],
             [
              0.6666666666666666,
              "#ed7953"
             ],
             [
              0.7777777777777778,
              "#fb9f3a"
             ],
             [
              0.8888888888888888,
              "#fdca26"
             ],
             [
              1,
              "#f0f921"
             ]
            ],
            "type": "heatmapgl"
           }
          ],
          "histogram": [
           {
            "marker": {
             "pattern": {
              "fillmode": "overlay",
              "size": 10,
              "solidity": 0.2
             }
            },
            "type": "histogram"
           }
          ],
          "histogram2d": [
           {
            "colorbar": {
             "outlinewidth": 0,
             "ticks": ""
            },
            "colorscale": [
             [
              0,
              "#0d0887"
             ],
             [
              0.1111111111111111,
              "#46039f"
             ],
             [
              0.2222222222222222,
              "#7201a8"
             ],
             [
              0.3333333333333333,
              "#9c179e"
             ],
             [
              0.4444444444444444,
              "#bd3786"
             ],
             [
              0.5555555555555556,
              "#d8576b"
             ],
             [
              0.6666666666666666,
              "#ed7953"
             ],
             [
              0.7777777777777778,
              "#fb9f3a"
             ],
             [
              0.8888888888888888,
              "#fdca26"
             ],
             [
              1,
              "#f0f921"
             ]
            ],
            "type": "histogram2d"
           }
          ],
          "histogram2dcontour": [
           {
            "colorbar": {
             "outlinewidth": 0,
             "ticks": ""
            },
            "colorscale": [
             [
              0,
              "#0d0887"
             ],
             [
              0.1111111111111111,
              "#46039f"
             ],
             [
              0.2222222222222222,
              "#7201a8"
             ],
             [
              0.3333333333333333,
              "#9c179e"
             ],
             [
              0.4444444444444444,
              "#bd3786"
             ],
             [
              0.5555555555555556,
              "#d8576b"
             ],
             [
              0.6666666666666666,
              "#ed7953"
             ],
             [
              0.7777777777777778,
              "#fb9f3a"
             ],
             [
              0.8888888888888888,
              "#fdca26"
             ],
             [
              1,
              "#f0f921"
             ]
            ],
            "type": "histogram2dcontour"
           }
          ],
          "mesh3d": [
           {
            "colorbar": {
             "outlinewidth": 0,
             "ticks": ""
            },
            "type": "mesh3d"
           }
          ],
          "parcoords": [
           {
            "line": {
             "colorbar": {
              "outlinewidth": 0,
              "ticks": ""
             }
            },
            "type": "parcoords"
           }
          ],
          "pie": [
           {
            "automargin": true,
            "type": "pie"
           }
          ],
          "scatter": [
           {
            "marker": {
             "colorbar": {
              "outlinewidth": 0,
              "ticks": ""
             }
            },
            "type": "scatter"
           }
          ],
          "scatter3d": [
           {
            "line": {
             "colorbar": {
              "outlinewidth": 0,
              "ticks": ""
             }
            },
            "marker": {
             "colorbar": {
              "outlinewidth": 0,
              "ticks": ""
             }
            },
            "type": "scatter3d"
           }
          ],
          "scattercarpet": [
           {
            "marker": {
             "colorbar": {
              "outlinewidth": 0,
              "ticks": ""
             }
            },
            "type": "scattercarpet"
           }
          ],
          "scattergeo": [
           {
            "marker": {
             "colorbar": {
              "outlinewidth": 0,
              "ticks": ""
             }
            },
            "type": "scattergeo"
           }
          ],
          "scattergl": [
           {
            "marker": {
             "colorbar": {
              "outlinewidth": 0,
              "ticks": ""
             }
            },
            "type": "scattergl"
           }
          ],
          "scattermapbox": [
           {
            "marker": {
             "colorbar": {
              "outlinewidth": 0,
              "ticks": ""
             }
            },
            "type": "scattermapbox"
           }
          ],
          "scatterpolar": [
           {
            "marker": {
             "colorbar": {
              "outlinewidth": 0,
              "ticks": ""
             }
            },
            "type": "scatterpolar"
           }
          ],
          "scatterpolargl": [
           {
            "marker": {
             "colorbar": {
              "outlinewidth": 0,
              "ticks": ""
             }
            },
            "type": "scatterpolargl"
           }
          ],
          "scatterternary": [
           {
            "marker": {
             "colorbar": {
              "outlinewidth": 0,
              "ticks": ""
             }
            },
            "type": "scatterternary"
           }
          ],
          "surface": [
           {
            "colorbar": {
             "outlinewidth": 0,
             "ticks": ""
            },
            "colorscale": [
             [
              0,
              "#0d0887"
             ],
             [
              0.1111111111111111,
              "#46039f"
             ],
             [
              0.2222222222222222,
              "#7201a8"
             ],
             [
              0.3333333333333333,
              "#9c179e"
             ],
             [
              0.4444444444444444,
              "#bd3786"
             ],
             [
              0.5555555555555556,
              "#d8576b"
             ],
             [
              0.6666666666666666,
              "#ed7953"
             ],
             [
              0.7777777777777778,
              "#fb9f3a"
             ],
             [
              0.8888888888888888,
              "#fdca26"
             ],
             [
              1,
              "#f0f921"
             ]
            ],
            "type": "surface"
           }
          ],
          "table": [
           {
            "cells": {
             "fill": {
              "color": "#EBF0F8"
             },
             "line": {
              "color": "white"
             }
            },
            "header": {
             "fill": {
              "color": "#C8D4E3"
             },
             "line": {
              "color": "white"
             }
            },
            "type": "table"
           }
          ]
         },
         "layout": {
          "annotationdefaults": {
           "arrowcolor": "#2a3f5f",
           "arrowhead": 0,
           "arrowwidth": 1
          },
          "autotypenumbers": "strict",
          "coloraxis": {
           "colorbar": {
            "outlinewidth": 0,
            "ticks": ""
           }
          },
          "colorscale": {
           "diverging": [
            [
             0,
             "#8e0152"
            ],
            [
             0.1,
             "#c51b7d"
            ],
            [
             0.2,
             "#de77ae"
            ],
            [
             0.3,
             "#f1b6da"
            ],
            [
             0.4,
             "#fde0ef"
            ],
            [
             0.5,
             "#f7f7f7"
            ],
            [
             0.6,
             "#e6f5d0"
            ],
            [
             0.7,
             "#b8e186"
            ],
            [
             0.8,
             "#7fbc41"
            ],
            [
             0.9,
             "#4d9221"
            ],
            [
             1,
             "#276419"
            ]
           ],
           "sequential": [
            [
             0,
             "#0d0887"
            ],
            [
             0.1111111111111111,
             "#46039f"
            ],
            [
             0.2222222222222222,
             "#7201a8"
            ],
            [
             0.3333333333333333,
             "#9c179e"
            ],
            [
             0.4444444444444444,
             "#bd3786"
            ],
            [
             0.5555555555555556,
             "#d8576b"
            ],
            [
             0.6666666666666666,
             "#ed7953"
            ],
            [
             0.7777777777777778,
             "#fb9f3a"
            ],
            [
             0.8888888888888888,
             "#fdca26"
            ],
            [
             1,
             "#f0f921"
            ]
           ],
           "sequentialminus": [
            [
             0,
             "#0d0887"
            ],
            [
             0.1111111111111111,
             "#46039f"
            ],
            [
             0.2222222222222222,
             "#7201a8"
            ],
            [
             0.3333333333333333,
             "#9c179e"
            ],
            [
             0.4444444444444444,
             "#bd3786"
            ],
            [
             0.5555555555555556,
             "#d8576b"
            ],
            [
             0.6666666666666666,
             "#ed7953"
            ],
            [
             0.7777777777777778,
             "#fb9f3a"
            ],
            [
             0.8888888888888888,
             "#fdca26"
            ],
            [
             1,
             "#f0f921"
            ]
           ]
          },
          "colorway": [
           "#636efa",
           "#EF553B",
           "#00cc96",
           "#ab63fa",
           "#FFA15A",
           "#19d3f3",
           "#FF6692",
           "#B6E880",
           "#FF97FF",
           "#FECB52"
          ],
          "font": {
           "color": "#2a3f5f"
          },
          "geo": {
           "bgcolor": "white",
           "lakecolor": "white",
           "landcolor": "#E5ECF6",
           "showlakes": true,
           "showland": true,
           "subunitcolor": "white"
          },
          "hoverlabel": {
           "align": "left"
          },
          "hovermode": "closest",
          "mapbox": {
           "style": "light"
          },
          "paper_bgcolor": "white",
          "plot_bgcolor": "#E5ECF6",
          "polar": {
           "angularaxis": {
            "gridcolor": "white",
            "linecolor": "white",
            "ticks": ""
           },
           "bgcolor": "#E5ECF6",
           "radialaxis": {
            "gridcolor": "white",
            "linecolor": "white",
            "ticks": ""
           }
          },
          "scene": {
           "xaxis": {
            "backgroundcolor": "#E5ECF6",
            "gridcolor": "white",
            "gridwidth": 2,
            "linecolor": "white",
            "showbackground": true,
            "ticks": "",
            "zerolinecolor": "white"
           },
           "yaxis": {
            "backgroundcolor": "#E5ECF6",
            "gridcolor": "white",
            "gridwidth": 2,
            "linecolor": "white",
            "showbackground": true,
            "ticks": "",
            "zerolinecolor": "white"
           },
           "zaxis": {
            "backgroundcolor": "#E5ECF6",
            "gridcolor": "white",
            "gridwidth": 2,
            "linecolor": "white",
            "showbackground": true,
            "ticks": "",
            "zerolinecolor": "white"
           }
          },
          "shapedefaults": {
           "line": {
            "color": "#2a3f5f"
           }
          },
          "ternary": {
           "aaxis": {
            "gridcolor": "white",
            "linecolor": "white",
            "ticks": ""
           },
           "baxis": {
            "gridcolor": "white",
            "linecolor": "white",
            "ticks": ""
           },
           "bgcolor": "#E5ECF6",
           "caxis": {
            "gridcolor": "white",
            "linecolor": "white",
            "ticks": ""
           }
          },
          "title": {
           "x": 0.05
          },
          "xaxis": {
           "automargin": true,
           "gridcolor": "white",
           "linecolor": "white",
           "ticks": "",
           "title": {
            "standoff": 15
           },
           "zerolinecolor": "white",
           "zerolinewidth": 2
          },
          "yaxis": {
           "automargin": true,
           "gridcolor": "white",
           "linecolor": "white",
           "ticks": "",
           "title": {
            "standoff": 15
           },
           "zerolinecolor": "white",
           "zerolinewidth": 2
          }
         }
        },
        "title": {
         "font": {
          "color": "black",
          "size": 18
         },
         "text": "Доля сетевых объектов среди заведений различных типов",
         "x": 0.5
        },
        "width": 950,
        "xaxis": {
         "anchor": "y",
         "domain": [
          0.55,
          1
         ]
        },
        "yaxis": {
         "anchor": "x",
         "domain": [
          0,
          1
         ]
        }
       }
      },
      "text/html": [
       "<div>                            <div id=\"999c879f-0397-4680-a99c-2a3a12e23498\" class=\"plotly-graph-div\" style=\"height:500px; width:950px;\"></div>            <script type=\"text/javascript\">                require([\"plotly\"], function(Plotly) {                    window.PLOTLYENV=window.PLOTLYENV || {};                                    if (document.getElementById(\"999c879f-0397-4680-a99c-2a3a12e23498\")) {                    Plotly.newPlot(                        \"999c879f-0397-4680-a99c-2a3a12e23498\",                        [{\"cells\":{\"align\":\"center\",\"values\":[[\"\\u043f\\u0440\\u0435\\u0434\\u043f\\u0440\\u0438\\u044f\\u0442\\u0438\\u0435 \\u0431\\u044b\\u0441\\u0442\\u0440\\u043e\\u0433\\u043e \\u043e\\u0431\\u0441\\u043b\\u0443\\u0436\\u0438\\u0432\\u0430\\u043d\\u0438\\u044f\",\"\\u043c\\u0430\\u0433\\u0430\\u0437\\u0438\\u043d (\\u043e\\u0442\\u0434\\u0435\\u043b \\u043a\\u0443\\u043b\\u0438\\u043d\\u0430\\u0440\\u0438\\u0438)\",\"\\u0440\\u0435\\u0441\\u0442\\u043e\\u0440\\u0430\\u043d\",\"\\u043a\\u0430\\u0444\\u0435\",\"\\u0437\\u0430\\u043a\\u0443\\u0441\\u043e\\u0447\\u043d\\u0430\\u044f\",\"\\u043a\\u0430\\u0444\\u0435\\u0442\\u0435\\u0440\\u0438\\u0439\",\"\\u0431\\u0430\\u0440\",\"\\u0431\\u0443\\u0444\\u0435\\u0442\",\"\\u0441\\u0442\\u043e\\u043b\\u043e\\u0432\\u0430\\u044f\"],[1897,273,2282,6071,348,395,855,576,2584],[788,78,543,1396,56,52,37,11,3],[41.54,28.57,23.79,22.99,16.09,13.16,4.33,1.91,0.12]]},\"header\":{\"values\":[\"\\u0422\\u0438\\u043f \\u043e\\u0431\\u044a\\u0435\\u043a\\u0442\\u0430\",\"\\u041e\\u0431\\u0449\\u0435\\u0435 \\u043a\\u043e\\u043b-\\u0432\\u043e \\u0430\\u0431\\u0441.\",\"\\u041a\\u043e\\u043b-\\u0432\\u043e \\u0441\\u0435\\u0442\\u0435\\u0432\\u044b\\u0445 \\u0430\\u0431\\u0441.\",\"\\u0414\\u043e\\u043b\\u044f \\u0441\\u0435\\u0442\\u0435\\u0432\\u044b\\u0445 %\"]},\"name\":\"first plot\",\"type\":\"table\",\"domain\":{\"x\":[0.0,0.45],\"y\":[0,0.95]}},{\"x\":[\"\\u043f\\u0440\\u0435\\u0434\\u043f\\u0440\\u0438\\u044f\\u0442\\u0438\\u0435 \\u0431\\u044b\\u0441\\u0442\\u0440\\u043e\\u0433\\u043e \\u043e\\u0431\\u0441\\u043b\\u0443\\u0436\\u0438\\u0432\\u0430\\u043d\\u0438\\u044f\",\"\\u043c\\u0430\\u0433\\u0430\\u0437\\u0438\\u043d (\\u043e\\u0442\\u0434\\u0435\\u043b \\u043a\\u0443\\u043b\\u0438\\u043d\\u0430\\u0440\\u0438\\u0438)\",\"\\u0440\\u0435\\u0441\\u0442\\u043e\\u0440\\u0430\\u043d\",\"\\u043a\\u0430\\u0444\\u0435\",\"\\u0437\\u0430\\u043a\\u0443\\u0441\\u043e\\u0447\\u043d\\u0430\\u044f\",\"\\u043a\\u0430\\u0444\\u0435\\u0442\\u0435\\u0440\\u0438\\u0439\",\"\\u0431\\u0430\\u0440\",\"\\u0431\\u0443\\u0444\\u0435\\u0442\",\"\\u0441\\u0442\\u043e\\u043b\\u043e\\u0432\\u0430\\u044f\"],\"y\":[41.54,28.57,23.79,22.99,16.09,13.16,4.33,1.91,0.12],\"type\":\"bar\",\"xaxis\":\"x\",\"yaxis\":\"y\"}],                        {\"template\":{\"data\":{\"bar\":[{\"error_x\":{\"color\":\"#2a3f5f\"},\"error_y\":{\"color\":\"#2a3f5f\"},\"marker\":{\"line\":{\"color\":\"#E5ECF6\",\"width\":0.5},\"pattern\":{\"fillmode\":\"overlay\",\"size\":10,\"solidity\":0.2}},\"type\":\"bar\"}],\"barpolar\":[{\"marker\":{\"line\":{\"color\":\"#E5ECF6\",\"width\":0.5},\"pattern\":{\"fillmode\":\"overlay\",\"size\":10,\"solidity\":0.2}},\"type\":\"barpolar\"}],\"carpet\":[{\"aaxis\":{\"endlinecolor\":\"#2a3f5f\",\"gridcolor\":\"white\",\"linecolor\":\"white\",\"minorgridcolor\":\"white\",\"startlinecolor\":\"#2a3f5f\"},\"baxis\":{\"endlinecolor\":\"#2a3f5f\",\"gridcolor\":\"white\",\"linecolor\":\"white\",\"minorgridcolor\":\"white\",\"startlinecolor\":\"#2a3f5f\"},\"type\":\"carpet\"}],\"choropleth\":[{\"colorbar\":{\"outlinewidth\":0,\"ticks\":\"\"},\"type\":\"choropleth\"}],\"contour\":[{\"colorbar\":{\"outlinewidth\":0,\"ticks\":\"\"},\"colorscale\":[[0.0,\"#0d0887\"],[0.1111111111111111,\"#46039f\"],[0.2222222222222222,\"#7201a8\"],[0.3333333333333333,\"#9c179e\"],[0.4444444444444444,\"#bd3786\"],[0.5555555555555556,\"#d8576b\"],[0.6666666666666666,\"#ed7953\"],[0.7777777777777778,\"#fb9f3a\"],[0.8888888888888888,\"#fdca26\"],[1.0,\"#f0f921\"]],\"type\":\"contour\"}],\"contourcarpet\":[{\"colorbar\":{\"outlinewidth\":0,\"ticks\":\"\"},\"type\":\"contourcarpet\"}],\"heatmap\":[{\"colorbar\":{\"outlinewidth\":0,\"ticks\":\"\"},\"colorscale\":[[0.0,\"#0d0887\"],[0.1111111111111111,\"#46039f\"],[0.2222222222222222,\"#7201a8\"],[0.3333333333333333,\"#9c179e\"],[0.4444444444444444,\"#bd3786\"],[0.5555555555555556,\"#d8576b\"],[0.6666666666666666,\"#ed7953\"],[0.7777777777777778,\"#fb9f3a\"],[0.8888888888888888,\"#fdca26\"],[1.0,\"#f0f921\"]],\"type\":\"heatmap\"}],\"heatmapgl\":[{\"colorbar\":{\"outlinewidth\":0,\"ticks\":\"\"},\"colorscale\":[[0.0,\"#0d0887\"],[0.1111111111111111,\"#46039f\"],[0.2222222222222222,\"#7201a8\"],[0.3333333333333333,\"#9c179e\"],[0.4444444444444444,\"#bd3786\"],[0.5555555555555556,\"#d8576b\"],[0.6666666666666666,\"#ed7953\"],[0.7777777777777778,\"#fb9f3a\"],[0.8888888888888888,\"#fdca26\"],[1.0,\"#f0f921\"]],\"type\":\"heatmapgl\"}],\"histogram\":[{\"marker\":{\"pattern\":{\"fillmode\":\"overlay\",\"size\":10,\"solidity\":0.2}},\"type\":\"histogram\"}],\"histogram2d\":[{\"colorbar\":{\"outlinewidth\":0,\"ticks\":\"\"},\"colorscale\":[[0.0,\"#0d0887\"],[0.1111111111111111,\"#46039f\"],[0.2222222222222222,\"#7201a8\"],[0.3333333333333333,\"#9c179e\"],[0.4444444444444444,\"#bd3786\"],[0.5555555555555556,\"#d8576b\"],[0.6666666666666666,\"#ed7953\"],[0.7777777777777778,\"#fb9f3a\"],[0.8888888888888888,\"#fdca26\"],[1.0,\"#f0f921\"]],\"type\":\"histogram2d\"}],\"histogram2dcontour\":[{\"colorbar\":{\"outlinewidth\":0,\"ticks\":\"\"},\"colorscale\":[[0.0,\"#0d0887\"],[0.1111111111111111,\"#46039f\"],[0.2222222222222222,\"#7201a8\"],[0.3333333333333333,\"#9c179e\"],[0.4444444444444444,\"#bd3786\"],[0.5555555555555556,\"#d8576b\"],[0.6666666666666666,\"#ed7953\"],[0.7777777777777778,\"#fb9f3a\"],[0.8888888888888888,\"#fdca26\"],[1.0,\"#f0f921\"]],\"type\":\"histogram2dcontour\"}],\"mesh3d\":[{\"colorbar\":{\"outlinewidth\":0,\"ticks\":\"\"},\"type\":\"mesh3d\"}],\"parcoords\":[{\"line\":{\"colorbar\":{\"outlinewidth\":0,\"ticks\":\"\"}},\"type\":\"parcoords\"}],\"pie\":[{\"automargin\":true,\"type\":\"pie\"}],\"scatter\":[{\"marker\":{\"colorbar\":{\"outlinewidth\":0,\"ticks\":\"\"}},\"type\":\"scatter\"}],\"scatter3d\":[{\"line\":{\"colorbar\":{\"outlinewidth\":0,\"ticks\":\"\"}},\"marker\":{\"colorbar\":{\"outlinewidth\":0,\"ticks\":\"\"}},\"type\":\"scatter3d\"}],\"scattercarpet\":[{\"marker\":{\"colorbar\":{\"outlinewidth\":0,\"ticks\":\"\"}},\"type\":\"scattercarpet\"}],\"scattergeo\":[{\"marker\":{\"colorbar\":{\"outlinewidth\":0,\"ticks\":\"\"}},\"type\":\"scattergeo\"}],\"scattergl\":[{\"marker\":{\"colorbar\":{\"outlinewidth\":0,\"ticks\":\"\"}},\"type\":\"scattergl\"}],\"scattermapbox\":[{\"marker\":{\"colorbar\":{\"outlinewidth\":0,\"ticks\":\"\"}},\"type\":\"scattermapbox\"}],\"scatterpolar\":[{\"marker\":{\"colorbar\":{\"outlinewidth\":0,\"ticks\":\"\"}},\"type\":\"scatterpolar\"}],\"scatterpolargl\":[{\"marker\":{\"colorbar\":{\"outlinewidth\":0,\"ticks\":\"\"}},\"type\":\"scatterpolargl\"}],\"scatterternary\":[{\"marker\":{\"colorbar\":{\"outlinewidth\":0,\"ticks\":\"\"}},\"type\":\"scatterternary\"}],\"surface\":[{\"colorbar\":{\"outlinewidth\":0,\"ticks\":\"\"},\"colorscale\":[[0.0,\"#0d0887\"],[0.1111111111111111,\"#46039f\"],[0.2222222222222222,\"#7201a8\"],[0.3333333333333333,\"#9c179e\"],[0.4444444444444444,\"#bd3786\"],[0.5555555555555556,\"#d8576b\"],[0.6666666666666666,\"#ed7953\"],[0.7777777777777778,\"#fb9f3a\"],[0.8888888888888888,\"#fdca26\"],[1.0,\"#f0f921\"]],\"type\":\"surface\"}],\"table\":[{\"cells\":{\"fill\":{\"color\":\"#EBF0F8\"},\"line\":{\"color\":\"white\"}},\"header\":{\"fill\":{\"color\":\"#C8D4E3\"},\"line\":{\"color\":\"white\"}},\"type\":\"table\"}]},\"layout\":{\"annotationdefaults\":{\"arrowcolor\":\"#2a3f5f\",\"arrowhead\":0,\"arrowwidth\":1},\"autotypenumbers\":\"strict\",\"coloraxis\":{\"colorbar\":{\"outlinewidth\":0,\"ticks\":\"\"}},\"colorscale\":{\"diverging\":[[0,\"#8e0152\"],[0.1,\"#c51b7d\"],[0.2,\"#de77ae\"],[0.3,\"#f1b6da\"],[0.4,\"#fde0ef\"],[0.5,\"#f7f7f7\"],[0.6,\"#e6f5d0\"],[0.7,\"#b8e186\"],[0.8,\"#7fbc41\"],[0.9,\"#4d9221\"],[1,\"#276419\"]],\"sequential\":[[0.0,\"#0d0887\"],[0.1111111111111111,\"#46039f\"],[0.2222222222222222,\"#7201a8\"],[0.3333333333333333,\"#9c179e\"],[0.4444444444444444,\"#bd3786\"],[0.5555555555555556,\"#d8576b\"],[0.6666666666666666,\"#ed7953\"],[0.7777777777777778,\"#fb9f3a\"],[0.8888888888888888,\"#fdca26\"],[1.0,\"#f0f921\"]],\"sequentialminus\":[[0.0,\"#0d0887\"],[0.1111111111111111,\"#46039f\"],[0.2222222222222222,\"#7201a8\"],[0.3333333333333333,\"#9c179e\"],[0.4444444444444444,\"#bd3786\"],[0.5555555555555556,\"#d8576b\"],[0.6666666666666666,\"#ed7953\"],[0.7777777777777778,\"#fb9f3a\"],[0.8888888888888888,\"#fdca26\"],[1.0,\"#f0f921\"]]},\"colorway\":[\"#636efa\",\"#EF553B\",\"#00cc96\",\"#ab63fa\",\"#FFA15A\",\"#19d3f3\",\"#FF6692\",\"#B6E880\",\"#FF97FF\",\"#FECB52\"],\"font\":{\"color\":\"#2a3f5f\"},\"geo\":{\"bgcolor\":\"white\",\"lakecolor\":\"white\",\"landcolor\":\"#E5ECF6\",\"showlakes\":true,\"showland\":true,\"subunitcolor\":\"white\"},\"hoverlabel\":{\"align\":\"left\"},\"hovermode\":\"closest\",\"mapbox\":{\"style\":\"light\"},\"paper_bgcolor\":\"white\",\"plot_bgcolor\":\"#E5ECF6\",\"polar\":{\"angularaxis\":{\"gridcolor\":\"white\",\"linecolor\":\"white\",\"ticks\":\"\"},\"bgcolor\":\"#E5ECF6\",\"radialaxis\":{\"gridcolor\":\"white\",\"linecolor\":\"white\",\"ticks\":\"\"}},\"scene\":{\"xaxis\":{\"backgroundcolor\":\"#E5ECF6\",\"gridcolor\":\"white\",\"gridwidth\":2,\"linecolor\":\"white\",\"showbackground\":true,\"ticks\":\"\",\"zerolinecolor\":\"white\"},\"yaxis\":{\"backgroundcolor\":\"#E5ECF6\",\"gridcolor\":\"white\",\"gridwidth\":2,\"linecolor\":\"white\",\"showbackground\":true,\"ticks\":\"\",\"zerolinecolor\":\"white\"},\"zaxis\":{\"backgroundcolor\":\"#E5ECF6\",\"gridcolor\":\"white\",\"gridwidth\":2,\"linecolor\":\"white\",\"showbackground\":true,\"ticks\":\"\",\"zerolinecolor\":\"white\"}},\"shapedefaults\":{\"line\":{\"color\":\"#2a3f5f\"}},\"ternary\":{\"aaxis\":{\"gridcolor\":\"white\",\"linecolor\":\"white\",\"ticks\":\"\"},\"baxis\":{\"gridcolor\":\"white\",\"linecolor\":\"white\",\"ticks\":\"\"},\"bgcolor\":\"#E5ECF6\",\"caxis\":{\"gridcolor\":\"white\",\"linecolor\":\"white\",\"ticks\":\"\"}},\"title\":{\"x\":0.05},\"xaxis\":{\"automargin\":true,\"gridcolor\":\"white\",\"linecolor\":\"white\",\"ticks\":\"\",\"title\":{\"standoff\":15},\"zerolinecolor\":\"white\",\"zerolinewidth\":2},\"yaxis\":{\"automargin\":true,\"gridcolor\":\"white\",\"linecolor\":\"white\",\"ticks\":\"\",\"title\":{\"standoff\":15},\"zerolinecolor\":\"white\",\"zerolinewidth\":2}}},\"xaxis\":{\"anchor\":\"y\",\"domain\":[0.55,1.0]},\"yaxis\":{\"anchor\":\"x\",\"domain\":[0.0,1.0]},\"legend\":{\"orientation\":\"h\",\"x\":0.93,\"xanchor\":\"right\"},\"margin\":{\"l\":0,\"r\":110,\"t\":25,\"b\":0},\"title\":{\"font\":{\"color\":\"black\",\"size\":18},\"text\":\"\\u0414\\u043e\\u043b\\u044f \\u0441\\u0435\\u0442\\u0435\\u0432\\u044b\\u0445 \\u043e\\u0431\\u044a\\u0435\\u043a\\u0442\\u043e\\u0432 \\u0441\\u0440\\u0435\\u0434\\u0438 \\u0437\\u0430\\u0432\\u0435\\u0434\\u0435\\u043d\\u0438\\u0439 \\u0440\\u0430\\u0437\\u043b\\u0438\\u0447\\u043d\\u044b\\u0445 \\u0442\\u0438\\u043f\\u043e\\u0432\",\"x\":0.5},\"width\":950,\"height\":500},                        {\"responsive\": true}                    ).then(function(){\n",
       "                            \n",
       "var gd = document.getElementById('999c879f-0397-4680-a99c-2a3a12e23498');\n",
       "var x = new MutationObserver(function (mutations, observer) {{\n",
       "        var display = window.getComputedStyle(gd).display;\n",
       "        if (!display || display === 'none') {{\n",
       "            console.log([gd, 'removed!']);\n",
       "            Plotly.purge(gd);\n",
       "            observer.disconnect();\n",
       "        }}\n",
       "}});\n",
       "\n",
       "// Listen for the removal of the full notebook cells\n",
       "var notebookContainer = gd.closest('#notebook-container');\n",
       "if (notebookContainer) {{\n",
       "    x.observe(notebookContainer, {childList: true});\n",
       "}}\n",
       "\n",
       "// Listen for the clearing of the current output cell\n",
       "var outputEl = gd.closest('.output');\n",
       "if (outputEl) {{\n",
       "    x.observe(outputEl, {childList: true});\n",
       "}}\n",
       "\n",
       "                        })                };                });            </script>        </div>"
      ]
     },
     "metadata": {},
     "output_type": "display_data"
    }
   ],
   "source": [
    "type_group = data.groupby('object_type')['id'].count().reset_index()\n",
    "\n",
    "chain_group = data.query('chain in \"да\"').groupby('object_type')['id'].count().reset_index()\n",
    "\n",
    "type_group = type_group.merge(chain_group, how='left', on='object_type')\n",
    "type_group.columns = ['object_type', 'common_obj', 'chain_obj']\n",
    "\n",
    "type_group['chain_part'] = ((type_group['chain_obj']/type_group['common_obj'])*100).round(2)\n",
    "type_group = type_group.sort_values('chain_part', ascending=False)\n",
    "\n",
    "header_group = ['Тип объекта','Общее кол-во абс.','Кол-во сетевых абс.','Доля сетевых %']\n",
    "fig=make_subplots(rows=1,cols=2,specs=[[{'type':'domain'},{'type':'xy'}]])\n",
    "fig.add_trace(go.Table(header=dict(values=header_group),\n",
    "    cells=dict(values=[type_group[k].tolist() for k in type_group.columns[:]],\n",
    "                            align='center'), name='first plot'),\n",
    "              1,1)\n",
    "fig.add_trace(go.Bar(x=type_group['object_type'], y=type_group['chain_part']),1,2)\n",
    "fig.update_traces(domain=dict(x=[0, 0.45], y=[0, 0.95]), \n",
    "                  selector={'name':'first plot'})\n",
    "fig.update_layout(width=950, height=500,\n",
    "                  legend_orientation=\"h\",\n",
    "                  legend=dict(x=.93,xanchor='right'),\n",
    "                  margin=dict(l=0,r=110,t=25,b=0),\n",
    "                  title_text='Доля сетевых объектов среди заведений различных типов',\n",
    "                  title_font_color=\"black\",\n",
    "                  title_font_size = 18,\n",
    "                  title_x=0.5)\n",
    "fig.show()"
   ]
  },
  {
   "cell_type": "markdown",
   "metadata": {},
   "source": [
    "***Вывод***  \n",
    "Согласно имеющимся данным, образование сети в наибольшей степени характерно для объектов типа предприятий быстрого обслуживания - 41.5% предприятий. За ними в порядке убывания следуют отделы кулинарии магазинов, рестораны и кафе. В случае закусочных и кафетериев сетевой тип заведения наблюдался в 16 и 13 % соответственно. Наиболее редко сети образуют бары, буфеты и столовые, для них этот показатель составлял менее 5%."
   ]
  },
  {
   "cell_type": "markdown",
   "metadata": {},
   "source": [
    "<a class=\"anchor\" id=\"21-bullet\">"
   ]
  },
  {
   "cell_type": "markdown",
   "metadata": {},
   "source": [
    "## Характеристика заведений общественного питания по количеству посадочных мест."
   ]
  },
  {
   "cell_type": "markdown",
   "metadata": {},
   "source": [
    "<hr style=\"border: 2px solid orange;\" />"
   ]
  },
  {
   "cell_type": "markdown",
   "metadata": {},
   "source": [
    "### Определение особенностей по количеству объектов в сети и количеству посадочных мест"
   ]
  },
  {
   "cell_type": "code",
   "execution_count": 252,
   "metadata": {},
   "outputs": [
    {
     "data": {
      "text/plain": [
       "'Максимальное количество заведений сети : 157'"
      ]
     },
     "metadata": {},
     "output_type": "display_data"
    },
    {
     "data": {
      "text/plain": [
       "'Минимальное количество заведений сети : 1'"
      ]
     },
     "metadata": {},
     "output_type": "display_data"
    },
    {
     "data": {
      "text/plain": [
       "'Максимальное количество посадочных мест среди сетевых заведений: 580'"
      ]
     },
     "metadata": {},
     "output_type": "display_data"
    },
    {
     "data": {
      "text/plain": [
       "'Минимальное количество посадочных метс среди сетевых заведений: 0'"
      ]
     },
     "metadata": {},
     "output_type": "display_data"
    },
    {
     "data": {
      "application/vnd.plotly.v1+json": {
       "config": {
        "plotlyServerURL": "https://plot.ly"
       },
       "data": [
        {
         "hovertemplate": "count=%{x}<br>median=%{y}<extra></extra>",
         "legendgroup": "",
         "marker": {
          "color": "#636efa",
          "opacity": 0.5,
          "symbol": "circle"
         },
         "mode": "markers",
         "name": "",
         "orientation": "v",
         "showlegend": false,
         "type": "scatter",
         "x": [
          1,
          1,
          1,
          3,
          1,
          1,
          3,
          1,
          4,
          25,
          1,
          3,
          5,
          1,
          6,
          1,
          1,
          1,
          3,
          1,
          1,
          1,
          4,
          1,
          5,
          155,
          1,
          7,
          3,
          2,
          2,
          1,
          1,
          1,
          1,
          5,
          1,
          2,
          4,
          1,
          2,
          1,
          1,
          4,
          1,
          30,
          1,
          1,
          1,
          1,
          2,
          34,
          3,
          1,
          2,
          1,
          1,
          1,
          1,
          3,
          1,
          2,
          1,
          2,
          1,
          1,
          1,
          1,
          5,
          2,
          2,
          1,
          1,
          1,
          7,
          6,
          15,
          1,
          1,
          19,
          1,
          1,
          1,
          3,
          1,
          1,
          1,
          1,
          1,
          1,
          1,
          2,
          1,
          2,
          12,
          1,
          2,
          1,
          1,
          1,
          1,
          3,
          1,
          2,
          1,
          9,
          1,
          1,
          8,
          137,
          7,
          5,
          1,
          1,
          1,
          11,
          1,
          10,
          1,
          1,
          2,
          1,
          1,
          2,
          9,
          12,
          1,
          6,
          1,
          6,
          1,
          1,
          1,
          1,
          1,
          1,
          10,
          1,
          1,
          1,
          4,
          1,
          4,
          1,
          3,
          1,
          6,
          1,
          5,
          6,
          3,
          1,
          1,
          1,
          7,
          10,
          1,
          49,
          1,
          90,
          1,
          2,
          2,
          2,
          5,
          2,
          1,
          1,
          1,
          2,
          1,
          1,
          1,
          1,
          1,
          2,
          4,
          1,
          2,
          1,
          25,
          9,
          2,
          3,
          2,
          2,
          3,
          1,
          1,
          1,
          1,
          1,
          1,
          1,
          1,
          1,
          1,
          1,
          1,
          2,
          11,
          1,
          2,
          1,
          3,
          6,
          2,
          3,
          1,
          1,
          2,
          1,
          1,
          1,
          1,
          2,
          4,
          1,
          1,
          5,
          1,
          1,
          1,
          6,
          3,
          2,
          2,
          3,
          1,
          1,
          2,
          1,
          4,
          1,
          1,
          1,
          1,
          1,
          9,
          2,
          1,
          1,
          3,
          1,
          1,
          16,
          3,
          6,
          2,
          1,
          1,
          1,
          1,
          1,
          1,
          1,
          1,
          1,
          1,
          1,
          1,
          1,
          1,
          1,
          1,
          3,
          1,
          1,
          1,
          1,
          1,
          1,
          1,
          1,
          1,
          1,
          2,
          5,
          7,
          1,
          2,
          2,
          1,
          9,
          3,
          1,
          1,
          44,
          1,
          1,
          1,
          34,
          1,
          2,
          3,
          3,
          1,
          1,
          1,
          2,
          1,
          1,
          6,
          1,
          4,
          15,
          1,
          3,
          2,
          1,
          2,
          90,
          14,
          16,
          6,
          3,
          1,
          1,
          1,
          3,
          1,
          6,
          1,
          1,
          3,
          1,
          5,
          1,
          1,
          2,
          150,
          6,
          1,
          1,
          1,
          6,
          1,
          2,
          1,
          72,
          6,
          1,
          1,
          2,
          1,
          1,
          5,
          1,
          24,
          1,
          2,
          1,
          24,
          1,
          1,
          1,
          1,
          6,
          1,
          1,
          1,
          2,
          1,
          1,
          1,
          2,
          5,
          51,
          1,
          1,
          1,
          1,
          1,
          3,
          1,
          2,
          1,
          1,
          1,
          1,
          2,
          1,
          1,
          15,
          1,
          2,
          5,
          18,
          9,
          1,
          4,
          5,
          10,
          1,
          1,
          1,
          2,
          1,
          2,
          3,
          3,
          1,
          1,
          3,
          6,
          1,
          10,
          26,
          1,
          7,
          1,
          1,
          1,
          2,
          1,
          5,
          1,
          1,
          1,
          1,
          6,
          3,
          1,
          2,
          1,
          3,
          4,
          3,
          1,
          1,
          2,
          2,
          3,
          2,
          1,
          1,
          1,
          2,
          1,
          1,
          5,
          1,
          1,
          2,
          2,
          8,
          1,
          1,
          3,
          1,
          11,
          1,
          1,
          2,
          3,
          1,
          1,
          5,
          3,
          1,
          2,
          1,
          1,
          1,
          1,
          1,
          3,
          1,
          1,
          1,
          1,
          1,
          3,
          2,
          2,
          8,
          6,
          19,
          1,
          1,
          2,
          3,
          1,
          1,
          1,
          1,
          1,
          6,
          1,
          1,
          1,
          1,
          1,
          21,
          3,
          1,
          14,
          1,
          1,
          1,
          2,
          1,
          1,
          1,
          2,
          72,
          1,
          1,
          13,
          13,
          2,
          1,
          3,
          15,
          2,
          1,
          1,
          32,
          2,
          7,
          3,
          94,
          1,
          1,
          4,
          1,
          1,
          6,
          9,
          1,
          2,
          1,
          1,
          1,
          7,
          1,
          1,
          1,
          9,
          3,
          1,
          2,
          38,
          1,
          1,
          4,
          32,
          2,
          2,
          1,
          43,
          1,
          6,
          1,
          1,
          1,
          1,
          6,
          1,
          1,
          1,
          1,
          1,
          157,
          1,
          1,
          1,
          13,
          1,
          38,
          1,
          1,
          1,
          1,
          1,
          2,
          4
         ],
         "xaxis": "x",
         "y": [
          88,
          75,
          40,
          68,
          46,
          6,
          20,
          0,
          50,
          10,
          4,
          32,
          15,
          40,
          10,
          80,
          70,
          50,
          20,
          65,
          45,
          96,
          9.5,
          82,
          30,
          45,
          146,
          27,
          20,
          21.5,
          62.5,
          150,
          90,
          0,
          65,
          40,
          0,
          0,
          75,
          10,
          38,
          35,
          20,
          26,
          6,
          42,
          33,
          28,
          34,
          40,
          90,
          15,
          30,
          100,
          39,
          45,
          50,
          90,
          20,
          27,
          0,
          12,
          40,
          43.5,
          20,
          20,
          48,
          150,
          10,
          0,
          2,
          8,
          10,
          20,
          10,
          55,
          32,
          40,
          0,
          56,
          60,
          150,
          70,
          240,
          0,
          6,
          39,
          5,
          65,
          43,
          45,
          93,
          25,
          22.5,
          2.5,
          35,
          18,
          1,
          90,
          80,
          80,
          15,
          10,
          55,
          50,
          25,
          48,
          190,
          33,
          45,
          75,
          16,
          85,
          46,
          40,
          60,
          15,
          75,
          0,
          96,
          97.5,
          42,
          98,
          25,
          30,
          17,
          50,
          50,
          17,
          75,
          120,
          144,
          143,
          5,
          65,
          0,
          110,
          36,
          90,
          12,
          130,
          120,
          130,
          98,
          145,
          80,
          17.5,
          40,
          36,
          115,
          80,
          41,
          45,
          80,
          45,
          96,
          7,
          30,
          70,
          16,
          4,
          70,
          110,
          123,
          64,
          98,
          40,
          10,
          2,
          20,
          10,
          20,
          0,
          0,
          10,
          72,
          110,
          60,
          17.5,
          35,
          96,
          90,
          99,
          98,
          94,
          94,
          67,
          32,
          45,
          60,
          22,
          30,
          40,
          40,
          9,
          40,
          23,
          12,
          19,
          20.5,
          60,
          2,
          26,
          40,
          36,
          91.5,
          7.5,
          50,
          98,
          80,
          27.5,
          10,
          60,
          75,
          60,
          18.5,
          134,
          10,
          18,
          40,
          40,
          60,
          165,
          165,
          80,
          18,
          22,
          24,
          3,
          50,
          17.5,
          90,
          55.5,
          15,
          16,
          7,
          150,
          70,
          40,
          135,
          80,
          50,
          60,
          38,
          102,
          60,
          22,
          103.5,
          85,
          225,
          22,
          176,
          10,
          68,
          48,
          175,
          122,
          12,
          300,
          75,
          80,
          16,
          12,
          4,
          17,
          220,
          35,
          8,
          15,
          225,
          90,
          15,
          100,
          84,
          3,
          87,
          35,
          16,
          150,
          18,
          38,
          43,
          50,
          110,
          130,
          20,
          2,
          0,
          4,
          6,
          20,
          50,
          130,
          54,
          41,
          81,
          50,
          10,
          40,
          22,
          23,
          42,
          57.5,
          90,
          85,
          65,
          65,
          15,
          30,
          85,
          43.5,
          15,
          90,
          31.5,
          47.5,
          25,
          70,
          35,
          45,
          80,
          53,
          16,
          17,
          10,
          0,
          16,
          10,
          25,
          20,
          10,
          77.5,
          70,
          75,
          170,
          20,
          58,
          80,
          45,
          20,
          0,
          54,
          70,
          12,
          17.5,
          250,
          70,
          45,
          70,
          140,
          22,
          48,
          35,
          42.5,
          40,
          48,
          48,
          60,
          84,
          99,
          215,
          60,
          13.5,
          1,
          42,
          160,
          113,
          50,
          20,
          60,
          40,
          60,
          60,
          1,
          95,
          12,
          245,
          20,
          25,
          45,
          22,
          17.5,
          10,
          0,
          0,
          30,
          24.5,
          36,
          19,
          20,
          43,
          37.5,
          15,
          18.5,
          0,
          40,
          28,
          23.5,
          80,
          32.5,
          85,
          25,
          28,
          0,
          90,
          3.5,
          266,
          33.5,
          30,
          6,
          36,
          20,
          40,
          10,
          38,
          24,
          24,
          0,
          24,
          16,
          20,
          46,
          0,
          20,
          42,
          16,
          50,
          125,
          45,
          10,
          95,
          63,
          139,
          128,
          35,
          98,
          120,
          100,
          121.5,
          20,
          95,
          136,
          96,
          120,
          72.5,
          125,
          121,
          60,
          32,
          90,
          92,
          98,
          135,
          20,
          89,
          200,
          60,
          250,
          160,
          124,
          100,
          85,
          30,
          0,
          180,
          50,
          100,
          54,
          170,
          25,
          48,
          55,
          96,
          49,
          21,
          3,
          65,
          103.5,
          10,
          16,
          24,
          18,
          145,
          80,
          98,
          80,
          8,
          48,
          12,
          200,
          82,
          35,
          70,
          150,
          41,
          42,
          50,
          0,
          10,
          0,
          280,
          215,
          80,
          120,
          35,
          49,
          6,
          4,
          22,
          6,
          5,
          10,
          20,
          20,
          6,
          47.5,
          48,
          8,
          99,
          83.5,
          6,
          200,
          23,
          50,
          12,
          75,
          70,
          200,
          18,
          90,
          180,
          0,
          90,
          96,
          40,
          160,
          99,
          45,
          25,
          24,
          120,
          130,
          97.5,
          46.5,
          63,
          30,
          47,
          40,
          16.5,
          11,
          40,
          100,
          150,
          49.5,
          306,
          149,
          80,
          20,
          17,
          32,
          70,
          85,
          11,
          50,
          50,
          60,
          25,
          48,
          25,
          48,
          98,
          99,
          282,
          2,
          300,
          155,
          105,
          104
         ],
         "yaxis": "y"
        },
        {
         "alignmentgroup": "True",
         "bingroup": "x",
         "hovertemplate": "count=%{y}<extra></extra>",
         "legendgroup": "",
         "marker": {
          "color": "#636efa"
         },
         "name": "",
         "offsetgroup": "",
         "opacity": 0.5,
         "showlegend": false,
         "type": "histogram",
         "x": [
          1,
          1,
          1,
          3,
          1,
          1,
          3,
          1,
          4,
          25,
          1,
          3,
          5,
          1,
          6,
          1,
          1,
          1,
          3,
          1,
          1,
          1,
          4,
          1,
          5,
          155,
          1,
          7,
          3,
          2,
          2,
          1,
          1,
          1,
          1,
          5,
          1,
          2,
          4,
          1,
          2,
          1,
          1,
          4,
          1,
          30,
          1,
          1,
          1,
          1,
          2,
          34,
          3,
          1,
          2,
          1,
          1,
          1,
          1,
          3,
          1,
          2,
          1,
          2,
          1,
          1,
          1,
          1,
          5,
          2,
          2,
          1,
          1,
          1,
          7,
          6,
          15,
          1,
          1,
          19,
          1,
          1,
          1,
          3,
          1,
          1,
          1,
          1,
          1,
          1,
          1,
          2,
          1,
          2,
          12,
          1,
          2,
          1,
          1,
          1,
          1,
          3,
          1,
          2,
          1,
          9,
          1,
          1,
          8,
          137,
          7,
          5,
          1,
          1,
          1,
          11,
          1,
          10,
          1,
          1,
          2,
          1,
          1,
          2,
          9,
          12,
          1,
          6,
          1,
          6,
          1,
          1,
          1,
          1,
          1,
          1,
          10,
          1,
          1,
          1,
          4,
          1,
          4,
          1,
          3,
          1,
          6,
          1,
          5,
          6,
          3,
          1,
          1,
          1,
          7,
          10,
          1,
          49,
          1,
          90,
          1,
          2,
          2,
          2,
          5,
          2,
          1,
          1,
          1,
          2,
          1,
          1,
          1,
          1,
          1,
          2,
          4,
          1,
          2,
          1,
          25,
          9,
          2,
          3,
          2,
          2,
          3,
          1,
          1,
          1,
          1,
          1,
          1,
          1,
          1,
          1,
          1,
          1,
          1,
          2,
          11,
          1,
          2,
          1,
          3,
          6,
          2,
          3,
          1,
          1,
          2,
          1,
          1,
          1,
          1,
          2,
          4,
          1,
          1,
          5,
          1,
          1,
          1,
          6,
          3,
          2,
          2,
          3,
          1,
          1,
          2,
          1,
          4,
          1,
          1,
          1,
          1,
          1,
          9,
          2,
          1,
          1,
          3,
          1,
          1,
          16,
          3,
          6,
          2,
          1,
          1,
          1,
          1,
          1,
          1,
          1,
          1,
          1,
          1,
          1,
          1,
          1,
          1,
          1,
          1,
          3,
          1,
          1,
          1,
          1,
          1,
          1,
          1,
          1,
          1,
          1,
          2,
          5,
          7,
          1,
          2,
          2,
          1,
          9,
          3,
          1,
          1,
          44,
          1,
          1,
          1,
          34,
          1,
          2,
          3,
          3,
          1,
          1,
          1,
          2,
          1,
          1,
          6,
          1,
          4,
          15,
          1,
          3,
          2,
          1,
          2,
          90,
          14,
          16,
          6,
          3,
          1,
          1,
          1,
          3,
          1,
          6,
          1,
          1,
          3,
          1,
          5,
          1,
          1,
          2,
          150,
          6,
          1,
          1,
          1,
          6,
          1,
          2,
          1,
          72,
          6,
          1,
          1,
          2,
          1,
          1,
          5,
          1,
          24,
          1,
          2,
          1,
          24,
          1,
          1,
          1,
          1,
          6,
          1,
          1,
          1,
          2,
          1,
          1,
          1,
          2,
          5,
          51,
          1,
          1,
          1,
          1,
          1,
          3,
          1,
          2,
          1,
          1,
          1,
          1,
          2,
          1,
          1,
          15,
          1,
          2,
          5,
          18,
          9,
          1,
          4,
          5,
          10,
          1,
          1,
          1,
          2,
          1,
          2,
          3,
          3,
          1,
          1,
          3,
          6,
          1,
          10,
          26,
          1,
          7,
          1,
          1,
          1,
          2,
          1,
          5,
          1,
          1,
          1,
          1,
          6,
          3,
          1,
          2,
          1,
          3,
          4,
          3,
          1,
          1,
          2,
          2,
          3,
          2,
          1,
          1,
          1,
          2,
          1,
          1,
          5,
          1,
          1,
          2,
          2,
          8,
          1,
          1,
          3,
          1,
          11,
          1,
          1,
          2,
          3,
          1,
          1,
          5,
          3,
          1,
          2,
          1,
          1,
          1,
          1,
          1,
          3,
          1,
          1,
          1,
          1,
          1,
          3,
          2,
          2,
          8,
          6,
          19,
          1,
          1,
          2,
          3,
          1,
          1,
          1,
          1,
          1,
          6,
          1,
          1,
          1,
          1,
          1,
          21,
          3,
          1,
          14,
          1,
          1,
          1,
          2,
          1,
          1,
          1,
          2,
          72,
          1,
          1,
          13,
          13,
          2,
          1,
          3,
          15,
          2,
          1,
          1,
          32,
          2,
          7,
          3,
          94,
          1,
          1,
          4,
          1,
          1,
          6,
          9,
          1,
          2,
          1,
          1,
          1,
          7,
          1,
          1,
          1,
          9,
          3,
          1,
          2,
          38,
          1,
          1,
          4,
          32,
          2,
          2,
          1,
          43,
          1,
          6,
          1,
          1,
          1,
          1,
          6,
          1,
          1,
          1,
          1,
          1,
          157,
          1,
          1,
          1,
          13,
          1,
          38,
          1,
          1,
          1,
          1,
          1,
          2,
          4
         ],
         "xaxis": "x3",
         "yaxis": "y3"
        },
        {
         "alignmentgroup": "True",
         "bingroup": "y",
         "hovertemplate": "median=%{y}<br>count=%{x}<extra></extra>",
         "legendgroup": "",
         "marker": {
          "color": "#636efa"
         },
         "name": "",
         "offsetgroup": "",
         "opacity": 0.5,
         "showlegend": false,
         "type": "histogram",
         "xaxis": "x2",
         "y": [
          88,
          75,
          40,
          68,
          46,
          6,
          20,
          0,
          50,
          10,
          4,
          32,
          15,
          40,
          10,
          80,
          70,
          50,
          20,
          65,
          45,
          96,
          9.5,
          82,
          30,
          45,
          146,
          27,
          20,
          21.5,
          62.5,
          150,
          90,
          0,
          65,
          40,
          0,
          0,
          75,
          10,
          38,
          35,
          20,
          26,
          6,
          42,
          33,
          28,
          34,
          40,
          90,
          15,
          30,
          100,
          39,
          45,
          50,
          90,
          20,
          27,
          0,
          12,
          40,
          43.5,
          20,
          20,
          48,
          150,
          10,
          0,
          2,
          8,
          10,
          20,
          10,
          55,
          32,
          40,
          0,
          56,
          60,
          150,
          70,
          240,
          0,
          6,
          39,
          5,
          65,
          43,
          45,
          93,
          25,
          22.5,
          2.5,
          35,
          18,
          1,
          90,
          80,
          80,
          15,
          10,
          55,
          50,
          25,
          48,
          190,
          33,
          45,
          75,
          16,
          85,
          46,
          40,
          60,
          15,
          75,
          0,
          96,
          97.5,
          42,
          98,
          25,
          30,
          17,
          50,
          50,
          17,
          75,
          120,
          144,
          143,
          5,
          65,
          0,
          110,
          36,
          90,
          12,
          130,
          120,
          130,
          98,
          145,
          80,
          17.5,
          40,
          36,
          115,
          80,
          41,
          45,
          80,
          45,
          96,
          7,
          30,
          70,
          16,
          4,
          70,
          110,
          123,
          64,
          98,
          40,
          10,
          2,
          20,
          10,
          20,
          0,
          0,
          10,
          72,
          110,
          60,
          17.5,
          35,
          96,
          90,
          99,
          98,
          94,
          94,
          67,
          32,
          45,
          60,
          22,
          30,
          40,
          40,
          9,
          40,
          23,
          12,
          19,
          20.5,
          60,
          2,
          26,
          40,
          36,
          91.5,
          7.5,
          50,
          98,
          80,
          27.5,
          10,
          60,
          75,
          60,
          18.5,
          134,
          10,
          18,
          40,
          40,
          60,
          165,
          165,
          80,
          18,
          22,
          24,
          3,
          50,
          17.5,
          90,
          55.5,
          15,
          16,
          7,
          150,
          70,
          40,
          135,
          80,
          50,
          60,
          38,
          102,
          60,
          22,
          103.5,
          85,
          225,
          22,
          176,
          10,
          68,
          48,
          175,
          122,
          12,
          300,
          75,
          80,
          16,
          12,
          4,
          17,
          220,
          35,
          8,
          15,
          225,
          90,
          15,
          100,
          84,
          3,
          87,
          35,
          16,
          150,
          18,
          38,
          43,
          50,
          110,
          130,
          20,
          2,
          0,
          4,
          6,
          20,
          50,
          130,
          54,
          41,
          81,
          50,
          10,
          40,
          22,
          23,
          42,
          57.5,
          90,
          85,
          65,
          65,
          15,
          30,
          85,
          43.5,
          15,
          90,
          31.5,
          47.5,
          25,
          70,
          35,
          45,
          80,
          53,
          16,
          17,
          10,
          0,
          16,
          10,
          25,
          20,
          10,
          77.5,
          70,
          75,
          170,
          20,
          58,
          80,
          45,
          20,
          0,
          54,
          70,
          12,
          17.5,
          250,
          70,
          45,
          70,
          140,
          22,
          48,
          35,
          42.5,
          40,
          48,
          48,
          60,
          84,
          99,
          215,
          60,
          13.5,
          1,
          42,
          160,
          113,
          50,
          20,
          60,
          40,
          60,
          60,
          1,
          95,
          12,
          245,
          20,
          25,
          45,
          22,
          17.5,
          10,
          0,
          0,
          30,
          24.5,
          36,
          19,
          20,
          43,
          37.5,
          15,
          18.5,
          0,
          40,
          28,
          23.5,
          80,
          32.5,
          85,
          25,
          28,
          0,
          90,
          3.5,
          266,
          33.5,
          30,
          6,
          36,
          20,
          40,
          10,
          38,
          24,
          24,
          0,
          24,
          16,
          20,
          46,
          0,
          20,
          42,
          16,
          50,
          125,
          45,
          10,
          95,
          63,
          139,
          128,
          35,
          98,
          120,
          100,
          121.5,
          20,
          95,
          136,
          96,
          120,
          72.5,
          125,
          121,
          60,
          32,
          90,
          92,
          98,
          135,
          20,
          89,
          200,
          60,
          250,
          160,
          124,
          100,
          85,
          30,
          0,
          180,
          50,
          100,
          54,
          170,
          25,
          48,
          55,
          96,
          49,
          21,
          3,
          65,
          103.5,
          10,
          16,
          24,
          18,
          145,
          80,
          98,
          80,
          8,
          48,
          12,
          200,
          82,
          35,
          70,
          150,
          41,
          42,
          50,
          0,
          10,
          0,
          280,
          215,
          80,
          120,
          35,
          49,
          6,
          4,
          22,
          6,
          5,
          10,
          20,
          20,
          6,
          47.5,
          48,
          8,
          99,
          83.5,
          6,
          200,
          23,
          50,
          12,
          75,
          70,
          200,
          18,
          90,
          180,
          0,
          90,
          96,
          40,
          160,
          99,
          45,
          25,
          24,
          120,
          130,
          97.5,
          46.5,
          63,
          30,
          47,
          40,
          16.5,
          11,
          40,
          100,
          150,
          49.5,
          306,
          149,
          80,
          20,
          17,
          32,
          70,
          85,
          11,
          50,
          50,
          60,
          25,
          48,
          25,
          48,
          98,
          99,
          282,
          2,
          300,
          155,
          105,
          104
         ],
         "yaxis": "y2"
        }
       ],
       "layout": {
        "barmode": "overlay",
        "height": 600,
        "legend": {
         "tracegroupgap": 0
        },
        "margin": {
         "b": 0,
         "l": 0,
         "r": 0,
         "t": 50
        },
        "template": {
         "data": {
          "bar": [
           {
            "error_x": {
             "color": "#2a3f5f"
            },
            "error_y": {
             "color": "#2a3f5f"
            },
            "marker": {
             "line": {
              "color": "#E5ECF6",
              "width": 0.5
             },
             "pattern": {
              "fillmode": "overlay",
              "size": 10,
              "solidity": 0.2
             }
            },
            "type": "bar"
           }
          ],
          "barpolar": [
           {
            "marker": {
             "line": {
              "color": "#E5ECF6",
              "width": 0.5
             },
             "pattern": {
              "fillmode": "overlay",
              "size": 10,
              "solidity": 0.2
             }
            },
            "type": "barpolar"
           }
          ],
          "carpet": [
           {
            "aaxis": {
             "endlinecolor": "#2a3f5f",
             "gridcolor": "white",
             "linecolor": "white",
             "minorgridcolor": "white",
             "startlinecolor": "#2a3f5f"
            },
            "baxis": {
             "endlinecolor": "#2a3f5f",
             "gridcolor": "white",
             "linecolor": "white",
             "minorgridcolor": "white",
             "startlinecolor": "#2a3f5f"
            },
            "type": "carpet"
           }
          ],
          "choropleth": [
           {
            "colorbar": {
             "outlinewidth": 0,
             "ticks": ""
            },
            "type": "choropleth"
           }
          ],
          "contour": [
           {
            "colorbar": {
             "outlinewidth": 0,
             "ticks": ""
            },
            "colorscale": [
             [
              0,
              "#0d0887"
             ],
             [
              0.1111111111111111,
              "#46039f"
             ],
             [
              0.2222222222222222,
              "#7201a8"
             ],
             [
              0.3333333333333333,
              "#9c179e"
             ],
             [
              0.4444444444444444,
              "#bd3786"
             ],
             [
              0.5555555555555556,
              "#d8576b"
             ],
             [
              0.6666666666666666,
              "#ed7953"
             ],
             [
              0.7777777777777778,
              "#fb9f3a"
             ],
             [
              0.8888888888888888,
              "#fdca26"
             ],
             [
              1,
              "#f0f921"
             ]
            ],
            "type": "contour"
           }
          ],
          "contourcarpet": [
           {
            "colorbar": {
             "outlinewidth": 0,
             "ticks": ""
            },
            "type": "contourcarpet"
           }
          ],
          "heatmap": [
           {
            "colorbar": {
             "outlinewidth": 0,
             "ticks": ""
            },
            "colorscale": [
             [
              0,
              "#0d0887"
             ],
             [
              0.1111111111111111,
              "#46039f"
             ],
             [
              0.2222222222222222,
              "#7201a8"
             ],
             [
              0.3333333333333333,
              "#9c179e"
             ],
             [
              0.4444444444444444,
              "#bd3786"
             ],
             [
              0.5555555555555556,
              "#d8576b"
             ],
             [
              0.6666666666666666,
              "#ed7953"
             ],
             [
              0.7777777777777778,
              "#fb9f3a"
             ],
             [
              0.8888888888888888,
              "#fdca26"
             ],
             [
              1,
              "#f0f921"
             ]
            ],
            "type": "heatmap"
           }
          ],
          "heatmapgl": [
           {
            "colorbar": {
             "outlinewidth": 0,
             "ticks": ""
            },
            "colorscale": [
             [
              0,
              "#0d0887"
             ],
             [
              0.1111111111111111,
              "#46039f"
             ],
             [
              0.2222222222222222,
              "#7201a8"
             ],
             [
              0.3333333333333333,
              "#9c179e"
             ],
             [
              0.4444444444444444,
              "#bd3786"
             ],
             [
              0.5555555555555556,
              "#d8576b"
             ],
             [
              0.6666666666666666,
              "#ed7953"
             ],
             [
              0.7777777777777778,
              "#fb9f3a"
             ],
             [
              0.8888888888888888,
              "#fdca26"
             ],
             [
              1,
              "#f0f921"
             ]
            ],
            "type": "heatmapgl"
           }
          ],
          "histogram": [
           {
            "marker": {
             "pattern": {
              "fillmode": "overlay",
              "size": 10,
              "solidity": 0.2
             }
            },
            "type": "histogram"
           }
          ],
          "histogram2d": [
           {
            "colorbar": {
             "outlinewidth": 0,
             "ticks": ""
            },
            "colorscale": [
             [
              0,
              "#0d0887"
             ],
             [
              0.1111111111111111,
              "#46039f"
             ],
             [
              0.2222222222222222,
              "#7201a8"
             ],
             [
              0.3333333333333333,
              "#9c179e"
             ],
             [
              0.4444444444444444,
              "#bd3786"
             ],
             [
              0.5555555555555556,
              "#d8576b"
             ],
             [
              0.6666666666666666,
              "#ed7953"
             ],
             [
              0.7777777777777778,
              "#fb9f3a"
             ],
             [
              0.8888888888888888,
              "#fdca26"
             ],
             [
              1,
              "#f0f921"
             ]
            ],
            "type": "histogram2d"
           }
          ],
          "histogram2dcontour": [
           {
            "colorbar": {
             "outlinewidth": 0,
             "ticks": ""
            },
            "colorscale": [
             [
              0,
              "#0d0887"
             ],
             [
              0.1111111111111111,
              "#46039f"
             ],
             [
              0.2222222222222222,
              "#7201a8"
             ],
             [
              0.3333333333333333,
              "#9c179e"
             ],
             [
              0.4444444444444444,
              "#bd3786"
             ],
             [
              0.5555555555555556,
              "#d8576b"
             ],
             [
              0.6666666666666666,
              "#ed7953"
             ],
             [
              0.7777777777777778,
              "#fb9f3a"
             ],
             [
              0.8888888888888888,
              "#fdca26"
             ],
             [
              1,
              "#f0f921"
             ]
            ],
            "type": "histogram2dcontour"
           }
          ],
          "mesh3d": [
           {
            "colorbar": {
             "outlinewidth": 0,
             "ticks": ""
            },
            "type": "mesh3d"
           }
          ],
          "parcoords": [
           {
            "line": {
             "colorbar": {
              "outlinewidth": 0,
              "ticks": ""
             }
            },
            "type": "parcoords"
           }
          ],
          "pie": [
           {
            "automargin": true,
            "type": "pie"
           }
          ],
          "scatter": [
           {
            "marker": {
             "colorbar": {
              "outlinewidth": 0,
              "ticks": ""
             }
            },
            "type": "scatter"
           }
          ],
          "scatter3d": [
           {
            "line": {
             "colorbar": {
              "outlinewidth": 0,
              "ticks": ""
             }
            },
            "marker": {
             "colorbar": {
              "outlinewidth": 0,
              "ticks": ""
             }
            },
            "type": "scatter3d"
           }
          ],
          "scattercarpet": [
           {
            "marker": {
             "colorbar": {
              "outlinewidth": 0,
              "ticks": ""
             }
            },
            "type": "scattercarpet"
           }
          ],
          "scattergeo": [
           {
            "marker": {
             "colorbar": {
              "outlinewidth": 0,
              "ticks": ""
             }
            },
            "type": "scattergeo"
           }
          ],
          "scattergl": [
           {
            "marker": {
             "colorbar": {
              "outlinewidth": 0,
              "ticks": ""
             }
            },
            "type": "scattergl"
           }
          ],
          "scattermapbox": [
           {
            "marker": {
             "colorbar": {
              "outlinewidth": 0,
              "ticks": ""
             }
            },
            "type": "scattermapbox"
           }
          ],
          "scatterpolar": [
           {
            "marker": {
             "colorbar": {
              "outlinewidth": 0,
              "ticks": ""
             }
            },
            "type": "scatterpolar"
           }
          ],
          "scatterpolargl": [
           {
            "marker": {
             "colorbar": {
              "outlinewidth": 0,
              "ticks": ""
             }
            },
            "type": "scatterpolargl"
           }
          ],
          "scatterternary": [
           {
            "marker": {
             "colorbar": {
              "outlinewidth": 0,
              "ticks": ""
             }
            },
            "type": "scatterternary"
           }
          ],
          "surface": [
           {
            "colorbar": {
             "outlinewidth": 0,
             "ticks": ""
            },
            "colorscale": [
             [
              0,
              "#0d0887"
             ],
             [
              0.1111111111111111,
              "#46039f"
             ],
             [
              0.2222222222222222,
              "#7201a8"
             ],
             [
              0.3333333333333333,
              "#9c179e"
             ],
             [
              0.4444444444444444,
              "#bd3786"
             ],
             [
              0.5555555555555556,
              "#d8576b"
             ],
             [
              0.6666666666666666,
              "#ed7953"
             ],
             [
              0.7777777777777778,
              "#fb9f3a"
             ],
             [
              0.8888888888888888,
              "#fdca26"
             ],
             [
              1,
              "#f0f921"
             ]
            ],
            "type": "surface"
           }
          ],
          "table": [
           {
            "cells": {
             "fill": {
              "color": "#EBF0F8"
             },
             "line": {
              "color": "white"
             }
            },
            "header": {
             "fill": {
              "color": "#C8D4E3"
             },
             "line": {
              "color": "white"
             }
            },
            "type": "table"
           }
          ]
         },
         "layout": {
          "annotationdefaults": {
           "arrowcolor": "#2a3f5f",
           "arrowhead": 0,
           "arrowwidth": 1
          },
          "autotypenumbers": "strict",
          "coloraxis": {
           "colorbar": {
            "outlinewidth": 0,
            "ticks": ""
           }
          },
          "colorscale": {
           "diverging": [
            [
             0,
             "#8e0152"
            ],
            [
             0.1,
             "#c51b7d"
            ],
            [
             0.2,
             "#de77ae"
            ],
            [
             0.3,
             "#f1b6da"
            ],
            [
             0.4,
             "#fde0ef"
            ],
            [
             0.5,
             "#f7f7f7"
            ],
            [
             0.6,
             "#e6f5d0"
            ],
            [
             0.7,
             "#b8e186"
            ],
            [
             0.8,
             "#7fbc41"
            ],
            [
             0.9,
             "#4d9221"
            ],
            [
             1,
             "#276419"
            ]
           ],
           "sequential": [
            [
             0,
             "#0d0887"
            ],
            [
             0.1111111111111111,
             "#46039f"
            ],
            [
             0.2222222222222222,
             "#7201a8"
            ],
            [
             0.3333333333333333,
             "#9c179e"
            ],
            [
             0.4444444444444444,
             "#bd3786"
            ],
            [
             0.5555555555555556,
             "#d8576b"
            ],
            [
             0.6666666666666666,
             "#ed7953"
            ],
            [
             0.7777777777777778,
             "#fb9f3a"
            ],
            [
             0.8888888888888888,
             "#fdca26"
            ],
            [
             1,
             "#f0f921"
            ]
           ],
           "sequentialminus": [
            [
             0,
             "#0d0887"
            ],
            [
             0.1111111111111111,
             "#46039f"
            ],
            [
             0.2222222222222222,
             "#7201a8"
            ],
            [
             0.3333333333333333,
             "#9c179e"
            ],
            [
             0.4444444444444444,
             "#bd3786"
            ],
            [
             0.5555555555555556,
             "#d8576b"
            ],
            [
             0.6666666666666666,
             "#ed7953"
            ],
            [
             0.7777777777777778,
             "#fb9f3a"
            ],
            [
             0.8888888888888888,
             "#fdca26"
            ],
            [
             1,
             "#f0f921"
            ]
           ]
          },
          "colorway": [
           "#636efa",
           "#EF553B",
           "#00cc96",
           "#ab63fa",
           "#FFA15A",
           "#19d3f3",
           "#FF6692",
           "#B6E880",
           "#FF97FF",
           "#FECB52"
          ],
          "font": {
           "color": "#2a3f5f"
          },
          "geo": {
           "bgcolor": "white",
           "lakecolor": "white",
           "landcolor": "#E5ECF6",
           "showlakes": true,
           "showland": true,
           "subunitcolor": "white"
          },
          "hoverlabel": {
           "align": "left"
          },
          "hovermode": "closest",
          "mapbox": {
           "style": "light"
          },
          "paper_bgcolor": "white",
          "plot_bgcolor": "#E5ECF6",
          "polar": {
           "angularaxis": {
            "gridcolor": "white",
            "linecolor": "white",
            "ticks": ""
           },
           "bgcolor": "#E5ECF6",
           "radialaxis": {
            "gridcolor": "white",
            "linecolor": "white",
            "ticks": ""
           }
          },
          "scene": {
           "xaxis": {
            "backgroundcolor": "#E5ECF6",
            "gridcolor": "white",
            "gridwidth": 2,
            "linecolor": "white",
            "showbackground": true,
            "ticks": "",
            "zerolinecolor": "white"
           },
           "yaxis": {
            "backgroundcolor": "#E5ECF6",
            "gridcolor": "white",
            "gridwidth": 2,
            "linecolor": "white",
            "showbackground": true,
            "ticks": "",
            "zerolinecolor": "white"
           },
           "zaxis": {
            "backgroundcolor": "#E5ECF6",
            "gridcolor": "white",
            "gridwidth": 2,
            "linecolor": "white",
            "showbackground": true,
            "ticks": "",
            "zerolinecolor": "white"
           }
          },
          "shapedefaults": {
           "line": {
            "color": "#2a3f5f"
           }
          },
          "ternary": {
           "aaxis": {
            "gridcolor": "white",
            "linecolor": "white",
            "ticks": ""
           },
           "baxis": {
            "gridcolor": "white",
            "linecolor": "white",
            "ticks": ""
           },
           "bgcolor": "#E5ECF6",
           "caxis": {
            "gridcolor": "white",
            "linecolor": "white",
            "ticks": ""
           }
          },
          "title": {
           "x": 0.05
          },
          "xaxis": {
           "automargin": true,
           "gridcolor": "white",
           "linecolor": "white",
           "ticks": "",
           "title": {
            "standoff": 15
           },
           "zerolinecolor": "white",
           "zerolinewidth": 2
          },
          "yaxis": {
           "automargin": true,
           "gridcolor": "white",
           "linecolor": "white",
           "ticks": "",
           "title": {
            "standoff": 15
           },
           "zerolinecolor": "white",
           "zerolinewidth": 2
          }
         }
        },
        "title": {
         "font": {
          "size": 14
         },
         "text": "Распределение заведений по количеству объектов сети и количеству посадочных мест",
         "x": 0.5,
         "xanchor": "center"
        },
        "width": 950,
        "xaxis": {
         "anchor": "y",
         "domain": [
          0,
          0.7363
         ],
         "title": {
          "text": "Кол-во заведений"
         }
        },
        "xaxis2": {
         "anchor": "y2",
         "domain": [
          0.7413,
          1
         ],
         "matches": "x2",
         "showgrid": true,
         "showline": false,
         "showticklabels": false,
         "ticks": ""
        },
        "xaxis3": {
         "anchor": "y3",
         "domain": [
          0,
          0.7363
         ],
         "matches": "x",
         "showgrid": true,
         "showticklabels": false
        },
        "xaxis4": {
         "anchor": "y4",
         "domain": [
          0.7413,
          1
         ],
         "matches": "x2",
         "showgrid": true,
         "showline": false,
         "showticklabels": false,
         "ticks": ""
        },
        "yaxis": {
         "anchor": "x",
         "domain": [
          0,
          0.7326
         ],
         "title": {
          "text": "Медиана посадочных мест"
         }
        },
        "yaxis2": {
         "anchor": "x2",
         "domain": [
          0,
          0.7326
         ],
         "matches": "y",
         "showgrid": true,
         "showticklabels": false
        },
        "yaxis3": {
         "anchor": "x3",
         "domain": [
          0.7426,
          1
         ],
         "matches": "y3",
         "showgrid": true,
         "showline": false,
         "showticklabels": false,
         "ticks": ""
        },
        "yaxis4": {
         "anchor": "x4",
         "domain": [
          0.7426,
          1
         ],
         "matches": "y3",
         "showgrid": true,
         "showline": false,
         "showticklabels": false,
         "ticks": ""
        }
       }
      },
      "text/html": [
       "<div>                            <div id=\"145942ef-7a41-45f8-a6f8-b4cc0f5b7a4c\" class=\"plotly-graph-div\" style=\"height:600px; width:950px;\"></div>            <script type=\"text/javascript\">                require([\"plotly\"], function(Plotly) {                    window.PLOTLYENV=window.PLOTLYENV || {};                                    if (document.getElementById(\"145942ef-7a41-45f8-a6f8-b4cc0f5b7a4c\")) {                    Plotly.newPlot(                        \"145942ef-7a41-45f8-a6f8-b4cc0f5b7a4c\",                        [{\"hovertemplate\":\"count=%{x}<br>median=%{y}<extra></extra>\",\"legendgroup\":\"\",\"marker\":{\"color\":\"#636efa\",\"opacity\":0.5,\"symbol\":\"circle\"},\"mode\":\"markers\",\"name\":\"\",\"orientation\":\"v\",\"showlegend\":false,\"x\":[1,1,1,3,1,1,3,1,4,25,1,3,5,1,6,1,1,1,3,1,1,1,4,1,5,155,1,7,3,2,2,1,1,1,1,5,1,2,4,1,2,1,1,4,1,30,1,1,1,1,2,34,3,1,2,1,1,1,1,3,1,2,1,2,1,1,1,1,5,2,2,1,1,1,7,6,15,1,1,19,1,1,1,3,1,1,1,1,1,1,1,2,1,2,12,1,2,1,1,1,1,3,1,2,1,9,1,1,8,137,7,5,1,1,1,11,1,10,1,1,2,1,1,2,9,12,1,6,1,6,1,1,1,1,1,1,10,1,1,1,4,1,4,1,3,1,6,1,5,6,3,1,1,1,7,10,1,49,1,90,1,2,2,2,5,2,1,1,1,2,1,1,1,1,1,2,4,1,2,1,25,9,2,3,2,2,3,1,1,1,1,1,1,1,1,1,1,1,1,2,11,1,2,1,3,6,2,3,1,1,2,1,1,1,1,2,4,1,1,5,1,1,1,6,3,2,2,3,1,1,2,1,4,1,1,1,1,1,9,2,1,1,3,1,1,16,3,6,2,1,1,1,1,1,1,1,1,1,1,1,1,1,1,1,1,3,1,1,1,1,1,1,1,1,1,1,2,5,7,1,2,2,1,9,3,1,1,44,1,1,1,34,1,2,3,3,1,1,1,2,1,1,6,1,4,15,1,3,2,1,2,90,14,16,6,3,1,1,1,3,1,6,1,1,3,1,5,1,1,2,150,6,1,1,1,6,1,2,1,72,6,1,1,2,1,1,5,1,24,1,2,1,24,1,1,1,1,6,1,1,1,2,1,1,1,2,5,51,1,1,1,1,1,3,1,2,1,1,1,1,2,1,1,15,1,2,5,18,9,1,4,5,10,1,1,1,2,1,2,3,3,1,1,3,6,1,10,26,1,7,1,1,1,2,1,5,1,1,1,1,6,3,1,2,1,3,4,3,1,1,2,2,3,2,1,1,1,2,1,1,5,1,1,2,2,8,1,1,3,1,11,1,1,2,3,1,1,5,3,1,2,1,1,1,1,1,3,1,1,1,1,1,3,2,2,8,6,19,1,1,2,3,1,1,1,1,1,6,1,1,1,1,1,21,3,1,14,1,1,1,2,1,1,1,2,72,1,1,13,13,2,1,3,15,2,1,1,32,2,7,3,94,1,1,4,1,1,6,9,1,2,1,1,1,7,1,1,1,9,3,1,2,38,1,1,4,32,2,2,1,43,1,6,1,1,1,1,6,1,1,1,1,1,157,1,1,1,13,1,38,1,1,1,1,1,2,4],\"xaxis\":\"x\",\"y\":[88.0,75.0,40.0,68.0,46.0,6.0,20.0,0.0,50.0,10.0,4.0,32.0,15.0,40.0,10.0,80.0,70.0,50.0,20.0,65.0,45.0,96.0,9.5,82.0,30.0,45.0,146.0,27.0,20.0,21.5,62.5,150.0,90.0,0.0,65.0,40.0,0.0,0.0,75.0,10.0,38.0,35.0,20.0,26.0,6.0,42.0,33.0,28.0,34.0,40.0,90.0,15.0,30.0,100.0,39.0,45.0,50.0,90.0,20.0,27.0,0.0,12.0,40.0,43.5,20.0,20.0,48.0,150.0,10.0,0.0,2.0,8.0,10.0,20.0,10.0,55.0,32.0,40.0,0.0,56.0,60.0,150.0,70.0,240.0,0.0,6.0,39.0,5.0,65.0,43.0,45.0,93.0,25.0,22.5,2.5,35.0,18.0,1.0,90.0,80.0,80.0,15.0,10.0,55.0,50.0,25.0,48.0,190.0,33.0,45.0,75.0,16.0,85.0,46.0,40.0,60.0,15.0,75.0,0.0,96.0,97.5,42.0,98.0,25.0,30.0,17.0,50.0,50.0,17.0,75.0,120.0,144.0,143.0,5.0,65.0,0.0,110.0,36.0,90.0,12.0,130.0,120.0,130.0,98.0,145.0,80.0,17.5,40.0,36.0,115.0,80.0,41.0,45.0,80.0,45.0,96.0,7.0,30.0,70.0,16.0,4.0,70.0,110.0,123.0,64.0,98.0,40.0,10.0,2.0,20.0,10.0,20.0,0.0,0.0,10.0,72.0,110.0,60.0,17.5,35.0,96.0,90.0,99.0,98.0,94.0,94.0,67.0,32.0,45.0,60.0,22.0,30.0,40.0,40.0,9.0,40.0,23.0,12.0,19.0,20.5,60.0,2.0,26.0,40.0,36.0,91.5,7.5,50.0,98.0,80.0,27.5,10.0,60.0,75.0,60.0,18.5,134.0,10.0,18.0,40.0,40.0,60.0,165.0,165.0,80.0,18.0,22.0,24.0,3.0,50.0,17.5,90.0,55.5,15.0,16.0,7.0,150.0,70.0,40.0,135.0,80.0,50.0,60.0,38.0,102.0,60.0,22.0,103.5,85.0,225.0,22.0,176.0,10.0,68.0,48.0,175.0,122.0,12.0,300.0,75.0,80.0,16.0,12.0,4.0,17.0,220.0,35.0,8.0,15.0,225.0,90.0,15.0,100.0,84.0,3.0,87.0,35.0,16.0,150.0,18.0,38.0,43.0,50.0,110.0,130.0,20.0,2.0,0.0,4.0,6.0,20.0,50.0,130.0,54.0,41.0,81.0,50.0,10.0,40.0,22.0,23.0,42.0,57.5,90.0,85.0,65.0,65.0,15.0,30.0,85.0,43.5,15.0,90.0,31.5,47.5,25.0,70.0,35.0,45.0,80.0,53.0,16.0,17.0,10.0,0.0,16.0,10.0,25.0,20.0,10.0,77.5,70.0,75.0,170.0,20.0,58.0,80.0,45.0,20.0,0.0,54.0,70.0,12.0,17.5,250.0,70.0,45.0,70.0,140.0,22.0,48.0,35.0,42.5,40.0,48.0,48.0,60.0,84.0,99.0,215.0,60.0,13.5,1.0,42.0,160.0,113.0,50.0,20.0,60.0,40.0,60.0,60.0,1.0,95.0,12.0,245.0,20.0,25.0,45.0,22.0,17.5,10.0,0.0,0.0,30.0,24.5,36.0,19.0,20.0,43.0,37.5,15.0,18.5,0.0,40.0,28.0,23.5,80.0,32.5,85.0,25.0,28.0,0.0,90.0,3.5,266.0,33.5,30.0,6.0,36.0,20.0,40.0,10.0,38.0,24.0,24.0,0.0,24.0,16.0,20.0,46.0,0.0,20.0,42.0,16.0,50.0,125.0,45.0,10.0,95.0,63.0,139.0,128.0,35.0,98.0,120.0,100.0,121.5,20.0,95.0,136.0,96.0,120.0,72.5,125.0,121.0,60.0,32.0,90.0,92.0,98.0,135.0,20.0,89.0,200.0,60.0,250.0,160.0,124.0,100.0,85.0,30.0,0.0,180.0,50.0,100.0,54.0,170.0,25.0,48.0,55.0,96.0,49.0,21.0,3.0,65.0,103.5,10.0,16.0,24.0,18.0,145.0,80.0,98.0,80.0,8.0,48.0,12.0,200.0,82.0,35.0,70.0,150.0,41.0,42.0,50.0,0.0,10.0,0.0,280.0,215.0,80.0,120.0,35.0,49.0,6.0,4.0,22.0,6.0,5.0,10.0,20.0,20.0,6.0,47.5,48.0,8.0,99.0,83.5,6.0,200.0,23.0,50.0,12.0,75.0,70.0,200.0,18.0,90.0,180.0,0.0,90.0,96.0,40.0,160.0,99.0,45.0,25.0,24.0,120.0,130.0,97.5,46.5,63.0,30.0,47.0,40.0,16.5,11.0,40.0,100.0,150.0,49.5,306.0,149.0,80.0,20.0,17.0,32.0,70.0,85.0,11.0,50.0,50.0,60.0,25.0,48.0,25.0,48.0,98.0,99.0,282.0,2.0,300.0,155.0,105.0,104.0],\"yaxis\":\"y\",\"type\":\"scatter\"},{\"alignmentgroup\":\"True\",\"bingroup\":\"x\",\"hovertemplate\":\"count=%{y}<extra></extra>\",\"legendgroup\":\"\",\"marker\":{\"color\":\"#636efa\"},\"name\":\"\",\"offsetgroup\":\"\",\"opacity\":0.5,\"showlegend\":false,\"x\":[1,1,1,3,1,1,3,1,4,25,1,3,5,1,6,1,1,1,3,1,1,1,4,1,5,155,1,7,3,2,2,1,1,1,1,5,1,2,4,1,2,1,1,4,1,30,1,1,1,1,2,34,3,1,2,1,1,1,1,3,1,2,1,2,1,1,1,1,5,2,2,1,1,1,7,6,15,1,1,19,1,1,1,3,1,1,1,1,1,1,1,2,1,2,12,1,2,1,1,1,1,3,1,2,1,9,1,1,8,137,7,5,1,1,1,11,1,10,1,1,2,1,1,2,9,12,1,6,1,6,1,1,1,1,1,1,10,1,1,1,4,1,4,1,3,1,6,1,5,6,3,1,1,1,7,10,1,49,1,90,1,2,2,2,5,2,1,1,1,2,1,1,1,1,1,2,4,1,2,1,25,9,2,3,2,2,3,1,1,1,1,1,1,1,1,1,1,1,1,2,11,1,2,1,3,6,2,3,1,1,2,1,1,1,1,2,4,1,1,5,1,1,1,6,3,2,2,3,1,1,2,1,4,1,1,1,1,1,9,2,1,1,3,1,1,16,3,6,2,1,1,1,1,1,1,1,1,1,1,1,1,1,1,1,1,3,1,1,1,1,1,1,1,1,1,1,2,5,7,1,2,2,1,9,3,1,1,44,1,1,1,34,1,2,3,3,1,1,1,2,1,1,6,1,4,15,1,3,2,1,2,90,14,16,6,3,1,1,1,3,1,6,1,1,3,1,5,1,1,2,150,6,1,1,1,6,1,2,1,72,6,1,1,2,1,1,5,1,24,1,2,1,24,1,1,1,1,6,1,1,1,2,1,1,1,2,5,51,1,1,1,1,1,3,1,2,1,1,1,1,2,1,1,15,1,2,5,18,9,1,4,5,10,1,1,1,2,1,2,3,3,1,1,3,6,1,10,26,1,7,1,1,1,2,1,5,1,1,1,1,6,3,1,2,1,3,4,3,1,1,2,2,3,2,1,1,1,2,1,1,5,1,1,2,2,8,1,1,3,1,11,1,1,2,3,1,1,5,3,1,2,1,1,1,1,1,3,1,1,1,1,1,3,2,2,8,6,19,1,1,2,3,1,1,1,1,1,6,1,1,1,1,1,21,3,1,14,1,1,1,2,1,1,1,2,72,1,1,13,13,2,1,3,15,2,1,1,32,2,7,3,94,1,1,4,1,1,6,9,1,2,1,1,1,7,1,1,1,9,3,1,2,38,1,1,4,32,2,2,1,43,1,6,1,1,1,1,6,1,1,1,1,1,157,1,1,1,13,1,38,1,1,1,1,1,2,4],\"xaxis\":\"x3\",\"yaxis\":\"y3\",\"type\":\"histogram\"},{\"alignmentgroup\":\"True\",\"bingroup\":\"y\",\"hovertemplate\":\"median=%{y}<br>count=%{x}<extra></extra>\",\"legendgroup\":\"\",\"marker\":{\"color\":\"#636efa\"},\"name\":\"\",\"offsetgroup\":\"\",\"opacity\":0.5,\"showlegend\":false,\"xaxis\":\"x2\",\"y\":[88.0,75.0,40.0,68.0,46.0,6.0,20.0,0.0,50.0,10.0,4.0,32.0,15.0,40.0,10.0,80.0,70.0,50.0,20.0,65.0,45.0,96.0,9.5,82.0,30.0,45.0,146.0,27.0,20.0,21.5,62.5,150.0,90.0,0.0,65.0,40.0,0.0,0.0,75.0,10.0,38.0,35.0,20.0,26.0,6.0,42.0,33.0,28.0,34.0,40.0,90.0,15.0,30.0,100.0,39.0,45.0,50.0,90.0,20.0,27.0,0.0,12.0,40.0,43.5,20.0,20.0,48.0,150.0,10.0,0.0,2.0,8.0,10.0,20.0,10.0,55.0,32.0,40.0,0.0,56.0,60.0,150.0,70.0,240.0,0.0,6.0,39.0,5.0,65.0,43.0,45.0,93.0,25.0,22.5,2.5,35.0,18.0,1.0,90.0,80.0,80.0,15.0,10.0,55.0,50.0,25.0,48.0,190.0,33.0,45.0,75.0,16.0,85.0,46.0,40.0,60.0,15.0,75.0,0.0,96.0,97.5,42.0,98.0,25.0,30.0,17.0,50.0,50.0,17.0,75.0,120.0,144.0,143.0,5.0,65.0,0.0,110.0,36.0,90.0,12.0,130.0,120.0,130.0,98.0,145.0,80.0,17.5,40.0,36.0,115.0,80.0,41.0,45.0,80.0,45.0,96.0,7.0,30.0,70.0,16.0,4.0,70.0,110.0,123.0,64.0,98.0,40.0,10.0,2.0,20.0,10.0,20.0,0.0,0.0,10.0,72.0,110.0,60.0,17.5,35.0,96.0,90.0,99.0,98.0,94.0,94.0,67.0,32.0,45.0,60.0,22.0,30.0,40.0,40.0,9.0,40.0,23.0,12.0,19.0,20.5,60.0,2.0,26.0,40.0,36.0,91.5,7.5,50.0,98.0,80.0,27.5,10.0,60.0,75.0,60.0,18.5,134.0,10.0,18.0,40.0,40.0,60.0,165.0,165.0,80.0,18.0,22.0,24.0,3.0,50.0,17.5,90.0,55.5,15.0,16.0,7.0,150.0,70.0,40.0,135.0,80.0,50.0,60.0,38.0,102.0,60.0,22.0,103.5,85.0,225.0,22.0,176.0,10.0,68.0,48.0,175.0,122.0,12.0,300.0,75.0,80.0,16.0,12.0,4.0,17.0,220.0,35.0,8.0,15.0,225.0,90.0,15.0,100.0,84.0,3.0,87.0,35.0,16.0,150.0,18.0,38.0,43.0,50.0,110.0,130.0,20.0,2.0,0.0,4.0,6.0,20.0,50.0,130.0,54.0,41.0,81.0,50.0,10.0,40.0,22.0,23.0,42.0,57.5,90.0,85.0,65.0,65.0,15.0,30.0,85.0,43.5,15.0,90.0,31.5,47.5,25.0,70.0,35.0,45.0,80.0,53.0,16.0,17.0,10.0,0.0,16.0,10.0,25.0,20.0,10.0,77.5,70.0,75.0,170.0,20.0,58.0,80.0,45.0,20.0,0.0,54.0,70.0,12.0,17.5,250.0,70.0,45.0,70.0,140.0,22.0,48.0,35.0,42.5,40.0,48.0,48.0,60.0,84.0,99.0,215.0,60.0,13.5,1.0,42.0,160.0,113.0,50.0,20.0,60.0,40.0,60.0,60.0,1.0,95.0,12.0,245.0,20.0,25.0,45.0,22.0,17.5,10.0,0.0,0.0,30.0,24.5,36.0,19.0,20.0,43.0,37.5,15.0,18.5,0.0,40.0,28.0,23.5,80.0,32.5,85.0,25.0,28.0,0.0,90.0,3.5,266.0,33.5,30.0,6.0,36.0,20.0,40.0,10.0,38.0,24.0,24.0,0.0,24.0,16.0,20.0,46.0,0.0,20.0,42.0,16.0,50.0,125.0,45.0,10.0,95.0,63.0,139.0,128.0,35.0,98.0,120.0,100.0,121.5,20.0,95.0,136.0,96.0,120.0,72.5,125.0,121.0,60.0,32.0,90.0,92.0,98.0,135.0,20.0,89.0,200.0,60.0,250.0,160.0,124.0,100.0,85.0,30.0,0.0,180.0,50.0,100.0,54.0,170.0,25.0,48.0,55.0,96.0,49.0,21.0,3.0,65.0,103.5,10.0,16.0,24.0,18.0,145.0,80.0,98.0,80.0,8.0,48.0,12.0,200.0,82.0,35.0,70.0,150.0,41.0,42.0,50.0,0.0,10.0,0.0,280.0,215.0,80.0,120.0,35.0,49.0,6.0,4.0,22.0,6.0,5.0,10.0,20.0,20.0,6.0,47.5,48.0,8.0,99.0,83.5,6.0,200.0,23.0,50.0,12.0,75.0,70.0,200.0,18.0,90.0,180.0,0.0,90.0,96.0,40.0,160.0,99.0,45.0,25.0,24.0,120.0,130.0,97.5,46.5,63.0,30.0,47.0,40.0,16.5,11.0,40.0,100.0,150.0,49.5,306.0,149.0,80.0,20.0,17.0,32.0,70.0,85.0,11.0,50.0,50.0,60.0,25.0,48.0,25.0,48.0,98.0,99.0,282.0,2.0,300.0,155.0,105.0,104.0],\"yaxis\":\"y2\",\"type\":\"histogram\"}],                        {\"template\":{\"data\":{\"bar\":[{\"error_x\":{\"color\":\"#2a3f5f\"},\"error_y\":{\"color\":\"#2a3f5f\"},\"marker\":{\"line\":{\"color\":\"#E5ECF6\",\"width\":0.5},\"pattern\":{\"fillmode\":\"overlay\",\"size\":10,\"solidity\":0.2}},\"type\":\"bar\"}],\"barpolar\":[{\"marker\":{\"line\":{\"color\":\"#E5ECF6\",\"width\":0.5},\"pattern\":{\"fillmode\":\"overlay\",\"size\":10,\"solidity\":0.2}},\"type\":\"barpolar\"}],\"carpet\":[{\"aaxis\":{\"endlinecolor\":\"#2a3f5f\",\"gridcolor\":\"white\",\"linecolor\":\"white\",\"minorgridcolor\":\"white\",\"startlinecolor\":\"#2a3f5f\"},\"baxis\":{\"endlinecolor\":\"#2a3f5f\",\"gridcolor\":\"white\",\"linecolor\":\"white\",\"minorgridcolor\":\"white\",\"startlinecolor\":\"#2a3f5f\"},\"type\":\"carpet\"}],\"choropleth\":[{\"colorbar\":{\"outlinewidth\":0,\"ticks\":\"\"},\"type\":\"choropleth\"}],\"contour\":[{\"colorbar\":{\"outlinewidth\":0,\"ticks\":\"\"},\"colorscale\":[[0.0,\"#0d0887\"],[0.1111111111111111,\"#46039f\"],[0.2222222222222222,\"#7201a8\"],[0.3333333333333333,\"#9c179e\"],[0.4444444444444444,\"#bd3786\"],[0.5555555555555556,\"#d8576b\"],[0.6666666666666666,\"#ed7953\"],[0.7777777777777778,\"#fb9f3a\"],[0.8888888888888888,\"#fdca26\"],[1.0,\"#f0f921\"]],\"type\":\"contour\"}],\"contourcarpet\":[{\"colorbar\":{\"outlinewidth\":0,\"ticks\":\"\"},\"type\":\"contourcarpet\"}],\"heatmap\":[{\"colorbar\":{\"outlinewidth\":0,\"ticks\":\"\"},\"colorscale\":[[0.0,\"#0d0887\"],[0.1111111111111111,\"#46039f\"],[0.2222222222222222,\"#7201a8\"],[0.3333333333333333,\"#9c179e\"],[0.4444444444444444,\"#bd3786\"],[0.5555555555555556,\"#d8576b\"],[0.6666666666666666,\"#ed7953\"],[0.7777777777777778,\"#fb9f3a\"],[0.8888888888888888,\"#fdca26\"],[1.0,\"#f0f921\"]],\"type\":\"heatmap\"}],\"heatmapgl\":[{\"colorbar\":{\"outlinewidth\":0,\"ticks\":\"\"},\"colorscale\":[[0.0,\"#0d0887\"],[0.1111111111111111,\"#46039f\"],[0.2222222222222222,\"#7201a8\"],[0.3333333333333333,\"#9c179e\"],[0.4444444444444444,\"#bd3786\"],[0.5555555555555556,\"#d8576b\"],[0.6666666666666666,\"#ed7953\"],[0.7777777777777778,\"#fb9f3a\"],[0.8888888888888888,\"#fdca26\"],[1.0,\"#f0f921\"]],\"type\":\"heatmapgl\"}],\"histogram\":[{\"marker\":{\"pattern\":{\"fillmode\":\"overlay\",\"size\":10,\"solidity\":0.2}},\"type\":\"histogram\"}],\"histogram2d\":[{\"colorbar\":{\"outlinewidth\":0,\"ticks\":\"\"},\"colorscale\":[[0.0,\"#0d0887\"],[0.1111111111111111,\"#46039f\"],[0.2222222222222222,\"#7201a8\"],[0.3333333333333333,\"#9c179e\"],[0.4444444444444444,\"#bd3786\"],[0.5555555555555556,\"#d8576b\"],[0.6666666666666666,\"#ed7953\"],[0.7777777777777778,\"#fb9f3a\"],[0.8888888888888888,\"#fdca26\"],[1.0,\"#f0f921\"]],\"type\":\"histogram2d\"}],\"histogram2dcontour\":[{\"colorbar\":{\"outlinewidth\":0,\"ticks\":\"\"},\"colorscale\":[[0.0,\"#0d0887\"],[0.1111111111111111,\"#46039f\"],[0.2222222222222222,\"#7201a8\"],[0.3333333333333333,\"#9c179e\"],[0.4444444444444444,\"#bd3786\"],[0.5555555555555556,\"#d8576b\"],[0.6666666666666666,\"#ed7953\"],[0.7777777777777778,\"#fb9f3a\"],[0.8888888888888888,\"#fdca26\"],[1.0,\"#f0f921\"]],\"type\":\"histogram2dcontour\"}],\"mesh3d\":[{\"colorbar\":{\"outlinewidth\":0,\"ticks\":\"\"},\"type\":\"mesh3d\"}],\"parcoords\":[{\"line\":{\"colorbar\":{\"outlinewidth\":0,\"ticks\":\"\"}},\"type\":\"parcoords\"}],\"pie\":[{\"automargin\":true,\"type\":\"pie\"}],\"scatter\":[{\"marker\":{\"colorbar\":{\"outlinewidth\":0,\"ticks\":\"\"}},\"type\":\"scatter\"}],\"scatter3d\":[{\"line\":{\"colorbar\":{\"outlinewidth\":0,\"ticks\":\"\"}},\"marker\":{\"colorbar\":{\"outlinewidth\":0,\"ticks\":\"\"}},\"type\":\"scatter3d\"}],\"scattercarpet\":[{\"marker\":{\"colorbar\":{\"outlinewidth\":0,\"ticks\":\"\"}},\"type\":\"scattercarpet\"}],\"scattergeo\":[{\"marker\":{\"colorbar\":{\"outlinewidth\":0,\"ticks\":\"\"}},\"type\":\"scattergeo\"}],\"scattergl\":[{\"marker\":{\"colorbar\":{\"outlinewidth\":0,\"ticks\":\"\"}},\"type\":\"scattergl\"}],\"scattermapbox\":[{\"marker\":{\"colorbar\":{\"outlinewidth\":0,\"ticks\":\"\"}},\"type\":\"scattermapbox\"}],\"scatterpolar\":[{\"marker\":{\"colorbar\":{\"outlinewidth\":0,\"ticks\":\"\"}},\"type\":\"scatterpolar\"}],\"scatterpolargl\":[{\"marker\":{\"colorbar\":{\"outlinewidth\":0,\"ticks\":\"\"}},\"type\":\"scatterpolargl\"}],\"scatterternary\":[{\"marker\":{\"colorbar\":{\"outlinewidth\":0,\"ticks\":\"\"}},\"type\":\"scatterternary\"}],\"surface\":[{\"colorbar\":{\"outlinewidth\":0,\"ticks\":\"\"},\"colorscale\":[[0.0,\"#0d0887\"],[0.1111111111111111,\"#46039f\"],[0.2222222222222222,\"#7201a8\"],[0.3333333333333333,\"#9c179e\"],[0.4444444444444444,\"#bd3786\"],[0.5555555555555556,\"#d8576b\"],[0.6666666666666666,\"#ed7953\"],[0.7777777777777778,\"#fb9f3a\"],[0.8888888888888888,\"#fdca26\"],[1.0,\"#f0f921\"]],\"type\":\"surface\"}],\"table\":[{\"cells\":{\"fill\":{\"color\":\"#EBF0F8\"},\"line\":{\"color\":\"white\"}},\"header\":{\"fill\":{\"color\":\"#C8D4E3\"},\"line\":{\"color\":\"white\"}},\"type\":\"table\"}]},\"layout\":{\"annotationdefaults\":{\"arrowcolor\":\"#2a3f5f\",\"arrowhead\":0,\"arrowwidth\":1},\"autotypenumbers\":\"strict\",\"coloraxis\":{\"colorbar\":{\"outlinewidth\":0,\"ticks\":\"\"}},\"colorscale\":{\"diverging\":[[0,\"#8e0152\"],[0.1,\"#c51b7d\"],[0.2,\"#de77ae\"],[0.3,\"#f1b6da\"],[0.4,\"#fde0ef\"],[0.5,\"#f7f7f7\"],[0.6,\"#e6f5d0\"],[0.7,\"#b8e186\"],[0.8,\"#7fbc41\"],[0.9,\"#4d9221\"],[1,\"#276419\"]],\"sequential\":[[0.0,\"#0d0887\"],[0.1111111111111111,\"#46039f\"],[0.2222222222222222,\"#7201a8\"],[0.3333333333333333,\"#9c179e\"],[0.4444444444444444,\"#bd3786\"],[0.5555555555555556,\"#d8576b\"],[0.6666666666666666,\"#ed7953\"],[0.7777777777777778,\"#fb9f3a\"],[0.8888888888888888,\"#fdca26\"],[1.0,\"#f0f921\"]],\"sequentialminus\":[[0.0,\"#0d0887\"],[0.1111111111111111,\"#46039f\"],[0.2222222222222222,\"#7201a8\"],[0.3333333333333333,\"#9c179e\"],[0.4444444444444444,\"#bd3786\"],[0.5555555555555556,\"#d8576b\"],[0.6666666666666666,\"#ed7953\"],[0.7777777777777778,\"#fb9f3a\"],[0.8888888888888888,\"#fdca26\"],[1.0,\"#f0f921\"]]},\"colorway\":[\"#636efa\",\"#EF553B\",\"#00cc96\",\"#ab63fa\",\"#FFA15A\",\"#19d3f3\",\"#FF6692\",\"#B6E880\",\"#FF97FF\",\"#FECB52\"],\"font\":{\"color\":\"#2a3f5f\"},\"geo\":{\"bgcolor\":\"white\",\"lakecolor\":\"white\",\"landcolor\":\"#E5ECF6\",\"showlakes\":true,\"showland\":true,\"subunitcolor\":\"white\"},\"hoverlabel\":{\"align\":\"left\"},\"hovermode\":\"closest\",\"mapbox\":{\"style\":\"light\"},\"paper_bgcolor\":\"white\",\"plot_bgcolor\":\"#E5ECF6\",\"polar\":{\"angularaxis\":{\"gridcolor\":\"white\",\"linecolor\":\"white\",\"ticks\":\"\"},\"bgcolor\":\"#E5ECF6\",\"radialaxis\":{\"gridcolor\":\"white\",\"linecolor\":\"white\",\"ticks\":\"\"}},\"scene\":{\"xaxis\":{\"backgroundcolor\":\"#E5ECF6\",\"gridcolor\":\"white\",\"gridwidth\":2,\"linecolor\":\"white\",\"showbackground\":true,\"ticks\":\"\",\"zerolinecolor\":\"white\"},\"yaxis\":{\"backgroundcolor\":\"#E5ECF6\",\"gridcolor\":\"white\",\"gridwidth\":2,\"linecolor\":\"white\",\"showbackground\":true,\"ticks\":\"\",\"zerolinecolor\":\"white\"},\"zaxis\":{\"backgroundcolor\":\"#E5ECF6\",\"gridcolor\":\"white\",\"gridwidth\":2,\"linecolor\":\"white\",\"showbackground\":true,\"ticks\":\"\",\"zerolinecolor\":\"white\"}},\"shapedefaults\":{\"line\":{\"color\":\"#2a3f5f\"}},\"ternary\":{\"aaxis\":{\"gridcolor\":\"white\",\"linecolor\":\"white\",\"ticks\":\"\"},\"baxis\":{\"gridcolor\":\"white\",\"linecolor\":\"white\",\"ticks\":\"\"},\"bgcolor\":\"#E5ECF6\",\"caxis\":{\"gridcolor\":\"white\",\"linecolor\":\"white\",\"ticks\":\"\"}},\"title\":{\"x\":0.05},\"xaxis\":{\"automargin\":true,\"gridcolor\":\"white\",\"linecolor\":\"white\",\"ticks\":\"\",\"title\":{\"standoff\":15},\"zerolinecolor\":\"white\",\"zerolinewidth\":2},\"yaxis\":{\"automargin\":true,\"gridcolor\":\"white\",\"linecolor\":\"white\",\"ticks\":\"\",\"title\":{\"standoff\":15},\"zerolinecolor\":\"white\",\"zerolinewidth\":2}}},\"xaxis\":{\"anchor\":\"y\",\"domain\":[0.0,0.7363],\"title\":{\"text\":\"\\u041a\\u043e\\u043b-\\u0432\\u043e \\u0437\\u0430\\u0432\\u0435\\u0434\\u0435\\u043d\\u0438\\u0439\"}},\"yaxis\":{\"anchor\":\"x\",\"domain\":[0.0,0.7326],\"title\":{\"text\":\"\\u041c\\u0435\\u0434\\u0438\\u0430\\u043d\\u0430 \\u043f\\u043e\\u0441\\u0430\\u0434\\u043e\\u0447\\u043d\\u044b\\u0445 \\u043c\\u0435\\u0441\\u0442\"}},\"xaxis2\":{\"anchor\":\"y2\",\"domain\":[0.7413,1.0],\"matches\":\"x2\",\"showticklabels\":false,\"showline\":false,\"ticks\":\"\",\"showgrid\":true},\"yaxis2\":{\"anchor\":\"x2\",\"domain\":[0.0,0.7326],\"matches\":\"y\",\"showticklabels\":false,\"showgrid\":true},\"xaxis3\":{\"anchor\":\"y3\",\"domain\":[0.0,0.7363],\"matches\":\"x\",\"showticklabels\":false,\"showgrid\":true},\"yaxis3\":{\"anchor\":\"x3\",\"domain\":[0.7426,1.0],\"matches\":\"y3\",\"showticklabels\":false,\"showline\":false,\"ticks\":\"\",\"showgrid\":true},\"xaxis4\":{\"anchor\":\"y4\",\"domain\":[0.7413,1.0],\"matches\":\"x2\",\"showticklabels\":false,\"showgrid\":true,\"showline\":false,\"ticks\":\"\"},\"yaxis4\":{\"anchor\":\"x4\",\"domain\":[0.7426,1.0],\"matches\":\"y3\",\"showticklabels\":false,\"showline\":false,\"ticks\":\"\",\"showgrid\":true},\"legend\":{\"tracegroupgap\":0},\"margin\":{\"t\":50,\"r\":0,\"l\":0,\"b\":0},\"barmode\":\"overlay\",\"title\":{\"font\":{\"size\":14},\"text\":\"\\u0420\\u0430\\u0441\\u043f\\u0440\\u0435\\u0434\\u0435\\u043b\\u0435\\u043d\\u0438\\u0435 \\u0437\\u0430\\u0432\\u0435\\u0434\\u0435\\u043d\\u0438\\u0439 \\u043f\\u043e \\u043a\\u043e\\u043b\\u0438\\u0447\\u0435\\u0441\\u0442\\u0432\\u0443 \\u043e\\u0431\\u044a\\u0435\\u043a\\u0442\\u043e\\u0432 \\u0441\\u0435\\u0442\\u0438 \\u0438 \\u043a\\u043e\\u043b\\u0438\\u0447\\u0435\\u0441\\u0442\\u0432\\u0443 \\u043f\\u043e\\u0441\\u0430\\u0434\\u043e\\u0447\\u043d\\u044b\\u0445 \\u043c\\u0435\\u0441\\u0442\",\"xanchor\":\"center\",\"x\":0.5},\"width\":950,\"height\":600},                        {\"responsive\": true}                    ).then(function(){\n",
       "                            \n",
       "var gd = document.getElementById('145942ef-7a41-45f8-a6f8-b4cc0f5b7a4c');\n",
       "var x = new MutationObserver(function (mutations, observer) {{\n",
       "        var display = window.getComputedStyle(gd).display;\n",
       "        if (!display || display === 'none') {{\n",
       "            console.log([gd, 'removed!']);\n",
       "            Plotly.purge(gd);\n",
       "            observer.disconnect();\n",
       "        }}\n",
       "}});\n",
       "\n",
       "// Listen for the removal of the full notebook cells\n",
       "var notebookContainer = gd.closest('#notebook-container');\n",
       "if (notebookContainer) {{\n",
       "    x.observe(notebookContainer, {childList: true});\n",
       "}}\n",
       "\n",
       "// Listen for the clearing of the current output cell\n",
       "var outputEl = gd.closest('.output');\n",
       "if (outputEl) {{\n",
       "    x.observe(outputEl, {childList: true});\n",
       "}}\n",
       "\n",
       "                        })                };                });            </script>        </div>"
      ]
     },
     "metadata": {},
     "output_type": "display_data"
    }
   ],
   "source": [
    "only_chain = data.query('chain in \"да\"') # фильтрация заведений по критерию статуса 'сетевого'\n",
    "num_seat = only_chain.groupby('object_name')['number'].agg(['count', 'median']).reset_index()\n",
    "\n",
    "display(f'Максимальное количество заведений сети : {num_seat[\"count\"].max()}',\n",
    "       f'Минимальное количество заведений сети : {num_seat[\"count\"].min()}',\n",
    "       f'Максимальное количество посадочных мест среди сетевых заведений: {only_chain[\"number\"].max()}',\n",
    "       f'Минимальное количество посадочных метс среди сетевых заведений: {only_chain[\"number\"].min()}')\n",
    "\n",
    "fig = px.scatter(num_seat, x= num_seat['count'], \n",
    "                 y=num_seat['median'], \n",
    "                 marginal_x = 'histogram',\n",
    "                 marginal_y='histogram', opacity=0.5)\n",
    "fig.update_layout(width=950, height=600,\n",
    "                 title_text = ('Распределение заведений по количеству объектов сети и количеству посадочных мест'),\n",
    "                 title_font_size = 14,\n",
    "                 title_xanchor='center',\n",
    "                 title_x=.5,\n",
    "                 xaxis_title = 'Кол-во заведений',\n",
    "                 yaxis_title = 'Медиана посадочных мест',\n",
    "                 margin=dict(r=0,l=0,t=50,b=0))\n",
    "fig.show()"
   ]
  },
  {
   "cell_type": "markdown",
   "metadata": {},
   "source": [
    "***Вывод***   \n",
    "Распределение объектов общественного питания по количеству заведений сети имеет выраженную правостороннюю ассиметрию, вероятно в том числе за счет наличия заведений с аномально большим количеством посадочных мест. Для получения более детализированной картины и общей тенденции имеет смысл рассмотреть подобные наблюдения как выбросы."
   ]
  },
  {
   "cell_type": "code",
   "execution_count": 253,
   "metadata": {},
   "outputs": [
    {
     "data": {
      "text/plain": [
       "array([ 8.4, 16.4, 90. ])"
      ]
     },
     "metadata": {},
     "output_type": "display_data"
    },
    {
     "data": {
      "text/plain": [
       "array([125.  , 160.  , 253.84])"
      ]
     },
     "metadata": {},
     "output_type": "display_data"
    },
    {
     "data": {
      "text/plain": [
       "577"
      ]
     },
     "metadata": {},
     "output_type": "display_data"
    },
    {
     "data": {
      "text/plain": [
       "520"
      ]
     },
     "metadata": {},
     "output_type": "display_data"
    },
    {
     "data": {
      "application/vnd.plotly.v1+json": {
       "config": {
        "plotlyServerURL": "https://plot.ly"
       },
       "data": [
        {
         "hovertemplate": "count=%{x}<br>median=%{y}<extra></extra>",
         "legendgroup": "",
         "marker": {
          "color": "#636efa",
          "opacity": 0.5,
          "symbol": "circle"
         },
         "mode": "markers",
         "name": "",
         "orientation": "v",
         "showlegend": false,
         "type": "scatter",
         "x": [
          1,
          1,
          1,
          3,
          1,
          1,
          3,
          1,
          4,
          1,
          3,
          5,
          1,
          6,
          1,
          1,
          1,
          3,
          1,
          1,
          1,
          4,
          1,
          5,
          1,
          7,
          3,
          2,
          2,
          1,
          1,
          1,
          1,
          5,
          1,
          2,
          4,
          1,
          2,
          1,
          1,
          4,
          1,
          1,
          1,
          1,
          1,
          2,
          3,
          1,
          2,
          1,
          1,
          1,
          1,
          3,
          1,
          2,
          1,
          2,
          1,
          1,
          1,
          1,
          5,
          2,
          2,
          1,
          1,
          1,
          7,
          6,
          15,
          1,
          1,
          1,
          1,
          1,
          1,
          1,
          1,
          1,
          1,
          1,
          1,
          2,
          1,
          2,
          12,
          1,
          2,
          1,
          1,
          1,
          1,
          3,
          1,
          2,
          1,
          9,
          1,
          8,
          7,
          5,
          1,
          1,
          1,
          11,
          1,
          10,
          1,
          1,
          2,
          1,
          1,
          2,
          9,
          12,
          1,
          6,
          1,
          6,
          1,
          1,
          1,
          1,
          1,
          1,
          10,
          1,
          1,
          1,
          4,
          1,
          4,
          1,
          3,
          1,
          6,
          1,
          5,
          6,
          3,
          1,
          1,
          1,
          7,
          10,
          1,
          1,
          1,
          2,
          2,
          2,
          5,
          2,
          1,
          1,
          1,
          2,
          1,
          1,
          1,
          1,
          1,
          2,
          4,
          1,
          2,
          1,
          9,
          2,
          3,
          2,
          2,
          3,
          1,
          1,
          1,
          1,
          1,
          1,
          1,
          1,
          1,
          1,
          1,
          1,
          2,
          11,
          1,
          2,
          1,
          3,
          6,
          2,
          3,
          1,
          1,
          2,
          1,
          1,
          1,
          1,
          2,
          4,
          1,
          1,
          5,
          1,
          1,
          3,
          2,
          2,
          3,
          1,
          1,
          2,
          1,
          4,
          1,
          1,
          1,
          1,
          1,
          9,
          2,
          1,
          1,
          3,
          1,
          1,
          16,
          3,
          6,
          2,
          1,
          1,
          1,
          1,
          1,
          1,
          1,
          1,
          1,
          1,
          1,
          1,
          1,
          1,
          1,
          1,
          1,
          1,
          1,
          1,
          1,
          2,
          5,
          7,
          1,
          2,
          2,
          1,
          9,
          3,
          1,
          1,
          1,
          1,
          1,
          1,
          2,
          3,
          3,
          1,
          1,
          1,
          2,
          1,
          1,
          6,
          1,
          4,
          15,
          1,
          3,
          2,
          1,
          2,
          14,
          16,
          6,
          3,
          1,
          1,
          1,
          3,
          1,
          6,
          1,
          1,
          3,
          1,
          5,
          1,
          1,
          2,
          6,
          1,
          1,
          6,
          1,
          2,
          1,
          6,
          1,
          1,
          2,
          1,
          5,
          1,
          1,
          2,
          1,
          1,
          1,
          1,
          1,
          6,
          1,
          1,
          2,
          1,
          1,
          1,
          2,
          5,
          1,
          1,
          1,
          1,
          1,
          3,
          1,
          1,
          1,
          1,
          1,
          2,
          1,
          1,
          15,
          1,
          2,
          5,
          9,
          1,
          4,
          5,
          10,
          1,
          1,
          1,
          2,
          1,
          2,
          3,
          3,
          1,
          1,
          3,
          6,
          10,
          1,
          7,
          1,
          1,
          1,
          2,
          1,
          5,
          1,
          1,
          1,
          1,
          6,
          3,
          1,
          2,
          1,
          3,
          4,
          3,
          1,
          1,
          2,
          2,
          3,
          2,
          1,
          1,
          1,
          2,
          1,
          1,
          5,
          1,
          1,
          2,
          2,
          8,
          1,
          1,
          3,
          1,
          11,
          1,
          1,
          2,
          1,
          5,
          3,
          1,
          2,
          1,
          1,
          1,
          1,
          3,
          1,
          1,
          1,
          1,
          3,
          2,
          2,
          8,
          6,
          1,
          1,
          2,
          3,
          1,
          1,
          1,
          1,
          1,
          6,
          1,
          1,
          1,
          1,
          3,
          1,
          14,
          1,
          1,
          1,
          1,
          1,
          2,
          1,
          1,
          13,
          13,
          2,
          1,
          3,
          15,
          2,
          1,
          1,
          2,
          7,
          1,
          1,
          4,
          1,
          6,
          9,
          2,
          1,
          1,
          1,
          7,
          1,
          1,
          1,
          9,
          3,
          1,
          2,
          1,
          1,
          4,
          2,
          2,
          1,
          1,
          6,
          1,
          1,
          1,
          6,
          1,
          1,
          1,
          1,
          1,
          1,
          1,
          1,
          13,
          1,
          1,
          1,
          1,
          2,
          4
         ],
         "xaxis": "x",
         "y": [
          88,
          75,
          40,
          68,
          46,
          6,
          20,
          0,
          50,
          4,
          32,
          15,
          40,
          10,
          80,
          70,
          50,
          20,
          65,
          45,
          96,
          9.5,
          82,
          30,
          146,
          27,
          20,
          21.5,
          62.5,
          150,
          90,
          0,
          65,
          40,
          0,
          0,
          75,
          10,
          38,
          35,
          20,
          26,
          6,
          33,
          28,
          34,
          40,
          90,
          30,
          100,
          39,
          45,
          50,
          90,
          20,
          27,
          0,
          12,
          40,
          43.5,
          20,
          20,
          48,
          150,
          10,
          0,
          2,
          8,
          10,
          20,
          10,
          55,
          32,
          40,
          0,
          60,
          150,
          70,
          0,
          6,
          39,
          5,
          65,
          43,
          45,
          93,
          25,
          22.5,
          2.5,
          35,
          18,
          1,
          90,
          80,
          80,
          15,
          10,
          55,
          50,
          25,
          48,
          33,
          75,
          16,
          85,
          46,
          40,
          60,
          15,
          75,
          0,
          96,
          97.5,
          42,
          98,
          25,
          30,
          17,
          50,
          50,
          17,
          75,
          120,
          144,
          143,
          5,
          65,
          0,
          110,
          36,
          90,
          12,
          130,
          120,
          130,
          98,
          145,
          80,
          17.5,
          40,
          36,
          115,
          80,
          41,
          45,
          80,
          45,
          96,
          7,
          70,
          4,
          70,
          110,
          123,
          64,
          98,
          40,
          10,
          2,
          20,
          10,
          20,
          0,
          0,
          10,
          72,
          110,
          60,
          17.5,
          35,
          90,
          99,
          98,
          94,
          94,
          67,
          32,
          45,
          60,
          22,
          30,
          40,
          40,
          9,
          40,
          23,
          12,
          19,
          20.5,
          60,
          2,
          26,
          40,
          36,
          91.5,
          7.5,
          50,
          98,
          80,
          27.5,
          10,
          60,
          75,
          60,
          18.5,
          134,
          10,
          18,
          40,
          40,
          60,
          80,
          18,
          22,
          24,
          3,
          50,
          17.5,
          90,
          55.5,
          15,
          16,
          7,
          150,
          70,
          40,
          135,
          80,
          50,
          60,
          38,
          102,
          60,
          22,
          103.5,
          85,
          22,
          10,
          68,
          48,
          122,
          12,
          75,
          80,
          16,
          12,
          4,
          17,
          35,
          8,
          15,
          90,
          15,
          100,
          84,
          3,
          87,
          35,
          16,
          150,
          18,
          38,
          43,
          50,
          110,
          130,
          20,
          2,
          4,
          6,
          20,
          130,
          54,
          41,
          81,
          50,
          10,
          40,
          22,
          23,
          42,
          57.5,
          90,
          85,
          65,
          65,
          15,
          30,
          85,
          43.5,
          90,
          31.5,
          47.5,
          25,
          70,
          35,
          45,
          80,
          53,
          16,
          17,
          10,
          0,
          16,
          10,
          25,
          20,
          10,
          70,
          75,
          20,
          58,
          80,
          45,
          20,
          54,
          70,
          12,
          17.5,
          70,
          45,
          70,
          22,
          48,
          35,
          40,
          48,
          48,
          60,
          84,
          99,
          60,
          13.5,
          1,
          42,
          160,
          113,
          50,
          60,
          40,
          60,
          60,
          1,
          95,
          12,
          20,
          25,
          45,
          22,
          17.5,
          10,
          0,
          0,
          30,
          24.5,
          36,
          20,
          43,
          37.5,
          15,
          18.5,
          0,
          40,
          28,
          23.5,
          80,
          32.5,
          85,
          25,
          28,
          0,
          90,
          3.5,
          33.5,
          6,
          36,
          20,
          40,
          10,
          38,
          24,
          24,
          0,
          24,
          16,
          20,
          46,
          0,
          20,
          42,
          16,
          50,
          125,
          45,
          10,
          95,
          63,
          139,
          128,
          35,
          98,
          120,
          100,
          121.5,
          20,
          95,
          136,
          96,
          120,
          72.5,
          125,
          121,
          60,
          32,
          90,
          92,
          98,
          135,
          20,
          89,
          60,
          160,
          124,
          100,
          85,
          30,
          0,
          50,
          100,
          54,
          25,
          48,
          55,
          96,
          49,
          21,
          3,
          65,
          103.5,
          16,
          24,
          18,
          145,
          80,
          98,
          80,
          8,
          48,
          12,
          82,
          35,
          70,
          150,
          42,
          50,
          0,
          10,
          0,
          80,
          120,
          35,
          49,
          4,
          22,
          6,
          5,
          10,
          20,
          20,
          6,
          47.5,
          48,
          8,
          83.5,
          6,
          50,
          12,
          75,
          70,
          18,
          90,
          0,
          90,
          96,
          40,
          160,
          99,
          45,
          25,
          24,
          120,
          130,
          97.5,
          63,
          30,
          47,
          16.5,
          11,
          40,
          150,
          49.5,
          149,
          80,
          20,
          17,
          32,
          70,
          85,
          11,
          50,
          60,
          25,
          48,
          25,
          48,
          99,
          2,
          155,
          105,
          104
         ],
         "yaxis": "y"
        },
        {
         "alignmentgroup": "True",
         "hovertemplate": "count=%{x}<extra></extra>",
         "legendgroup": "",
         "marker": {
          "color": "#636efa",
          "symbol": "circle"
         },
         "name": "",
         "notched": true,
         "offsetgroup": "",
         "showlegend": false,
         "type": "box",
         "x": [
          1,
          1,
          1,
          3,
          1,
          1,
          3,
          1,
          4,
          1,
          3,
          5,
          1,
          6,
          1,
          1,
          1,
          3,
          1,
          1,
          1,
          4,
          1,
          5,
          1,
          7,
          3,
          2,
          2,
          1,
          1,
          1,
          1,
          5,
          1,
          2,
          4,
          1,
          2,
          1,
          1,
          4,
          1,
          1,
          1,
          1,
          1,
          2,
          3,
          1,
          2,
          1,
          1,
          1,
          1,
          3,
          1,
          2,
          1,
          2,
          1,
          1,
          1,
          1,
          5,
          2,
          2,
          1,
          1,
          1,
          7,
          6,
          15,
          1,
          1,
          1,
          1,
          1,
          1,
          1,
          1,
          1,
          1,
          1,
          1,
          2,
          1,
          2,
          12,
          1,
          2,
          1,
          1,
          1,
          1,
          3,
          1,
          2,
          1,
          9,
          1,
          8,
          7,
          5,
          1,
          1,
          1,
          11,
          1,
          10,
          1,
          1,
          2,
          1,
          1,
          2,
          9,
          12,
          1,
          6,
          1,
          6,
          1,
          1,
          1,
          1,
          1,
          1,
          10,
          1,
          1,
          1,
          4,
          1,
          4,
          1,
          3,
          1,
          6,
          1,
          5,
          6,
          3,
          1,
          1,
          1,
          7,
          10,
          1,
          1,
          1,
          2,
          2,
          2,
          5,
          2,
          1,
          1,
          1,
          2,
          1,
          1,
          1,
          1,
          1,
          2,
          4,
          1,
          2,
          1,
          9,
          2,
          3,
          2,
          2,
          3,
          1,
          1,
          1,
          1,
          1,
          1,
          1,
          1,
          1,
          1,
          1,
          1,
          2,
          11,
          1,
          2,
          1,
          3,
          6,
          2,
          3,
          1,
          1,
          2,
          1,
          1,
          1,
          1,
          2,
          4,
          1,
          1,
          5,
          1,
          1,
          3,
          2,
          2,
          3,
          1,
          1,
          2,
          1,
          4,
          1,
          1,
          1,
          1,
          1,
          9,
          2,
          1,
          1,
          3,
          1,
          1,
          16,
          3,
          6,
          2,
          1,
          1,
          1,
          1,
          1,
          1,
          1,
          1,
          1,
          1,
          1,
          1,
          1,
          1,
          1,
          1,
          1,
          1,
          1,
          1,
          1,
          2,
          5,
          7,
          1,
          2,
          2,
          1,
          9,
          3,
          1,
          1,
          1,
          1,
          1,
          1,
          2,
          3,
          3,
          1,
          1,
          1,
          2,
          1,
          1,
          6,
          1,
          4,
          15,
          1,
          3,
          2,
          1,
          2,
          14,
          16,
          6,
          3,
          1,
          1,
          1,
          3,
          1,
          6,
          1,
          1,
          3,
          1,
          5,
          1,
          1,
          2,
          6,
          1,
          1,
          6,
          1,
          2,
          1,
          6,
          1,
          1,
          2,
          1,
          5,
          1,
          1,
          2,
          1,
          1,
          1,
          1,
          1,
          6,
          1,
          1,
          2,
          1,
          1,
          1,
          2,
          5,
          1,
          1,
          1,
          1,
          1,
          3,
          1,
          1,
          1,
          1,
          1,
          2,
          1,
          1,
          15,
          1,
          2,
          5,
          9,
          1,
          4,
          5,
          10,
          1,
          1,
          1,
          2,
          1,
          2,
          3,
          3,
          1,
          1,
          3,
          6,
          10,
          1,
          7,
          1,
          1,
          1,
          2,
          1,
          5,
          1,
          1,
          1,
          1,
          6,
          3,
          1,
          2,
          1,
          3,
          4,
          3,
          1,
          1,
          2,
          2,
          3,
          2,
          1,
          1,
          1,
          2,
          1,
          1,
          5,
          1,
          1,
          2,
          2,
          8,
          1,
          1,
          3,
          1,
          11,
          1,
          1,
          2,
          1,
          5,
          3,
          1,
          2,
          1,
          1,
          1,
          1,
          3,
          1,
          1,
          1,
          1,
          3,
          2,
          2,
          8,
          6,
          1,
          1,
          2,
          3,
          1,
          1,
          1,
          1,
          1,
          6,
          1,
          1,
          1,
          1,
          3,
          1,
          14,
          1,
          1,
          1,
          1,
          1,
          2,
          1,
          1,
          13,
          13,
          2,
          1,
          3,
          15,
          2,
          1,
          1,
          2,
          7,
          1,
          1,
          4,
          1,
          6,
          9,
          2,
          1,
          1,
          1,
          7,
          1,
          1,
          1,
          9,
          3,
          1,
          2,
          1,
          1,
          4,
          2,
          2,
          1,
          1,
          6,
          1,
          1,
          1,
          6,
          1,
          1,
          1,
          1,
          1,
          1,
          1,
          1,
          13,
          1,
          1,
          1,
          1,
          2,
          4
         ],
         "xaxis": "x3",
         "yaxis": "y3"
        },
        {
         "alignmentgroup": "True",
         "hovertemplate": "median=%{y}<extra></extra>",
         "legendgroup": "",
         "marker": {
          "color": "#636efa",
          "symbol": "circle"
         },
         "name": "",
         "notched": true,
         "offsetgroup": "",
         "showlegend": false,
         "type": "box",
         "xaxis": "x2",
         "y": [
          88,
          75,
          40,
          68,
          46,
          6,
          20,
          0,
          50,
          4,
          32,
          15,
          40,
          10,
          80,
          70,
          50,
          20,
          65,
          45,
          96,
          9.5,
          82,
          30,
          146,
          27,
          20,
          21.5,
          62.5,
          150,
          90,
          0,
          65,
          40,
          0,
          0,
          75,
          10,
          38,
          35,
          20,
          26,
          6,
          33,
          28,
          34,
          40,
          90,
          30,
          100,
          39,
          45,
          50,
          90,
          20,
          27,
          0,
          12,
          40,
          43.5,
          20,
          20,
          48,
          150,
          10,
          0,
          2,
          8,
          10,
          20,
          10,
          55,
          32,
          40,
          0,
          60,
          150,
          70,
          0,
          6,
          39,
          5,
          65,
          43,
          45,
          93,
          25,
          22.5,
          2.5,
          35,
          18,
          1,
          90,
          80,
          80,
          15,
          10,
          55,
          50,
          25,
          48,
          33,
          75,
          16,
          85,
          46,
          40,
          60,
          15,
          75,
          0,
          96,
          97.5,
          42,
          98,
          25,
          30,
          17,
          50,
          50,
          17,
          75,
          120,
          144,
          143,
          5,
          65,
          0,
          110,
          36,
          90,
          12,
          130,
          120,
          130,
          98,
          145,
          80,
          17.5,
          40,
          36,
          115,
          80,
          41,
          45,
          80,
          45,
          96,
          7,
          70,
          4,
          70,
          110,
          123,
          64,
          98,
          40,
          10,
          2,
          20,
          10,
          20,
          0,
          0,
          10,
          72,
          110,
          60,
          17.5,
          35,
          90,
          99,
          98,
          94,
          94,
          67,
          32,
          45,
          60,
          22,
          30,
          40,
          40,
          9,
          40,
          23,
          12,
          19,
          20.5,
          60,
          2,
          26,
          40,
          36,
          91.5,
          7.5,
          50,
          98,
          80,
          27.5,
          10,
          60,
          75,
          60,
          18.5,
          134,
          10,
          18,
          40,
          40,
          60,
          80,
          18,
          22,
          24,
          3,
          50,
          17.5,
          90,
          55.5,
          15,
          16,
          7,
          150,
          70,
          40,
          135,
          80,
          50,
          60,
          38,
          102,
          60,
          22,
          103.5,
          85,
          22,
          10,
          68,
          48,
          122,
          12,
          75,
          80,
          16,
          12,
          4,
          17,
          35,
          8,
          15,
          90,
          15,
          100,
          84,
          3,
          87,
          35,
          16,
          150,
          18,
          38,
          43,
          50,
          110,
          130,
          20,
          2,
          4,
          6,
          20,
          130,
          54,
          41,
          81,
          50,
          10,
          40,
          22,
          23,
          42,
          57.5,
          90,
          85,
          65,
          65,
          15,
          30,
          85,
          43.5,
          90,
          31.5,
          47.5,
          25,
          70,
          35,
          45,
          80,
          53,
          16,
          17,
          10,
          0,
          16,
          10,
          25,
          20,
          10,
          70,
          75,
          20,
          58,
          80,
          45,
          20,
          54,
          70,
          12,
          17.5,
          70,
          45,
          70,
          22,
          48,
          35,
          40,
          48,
          48,
          60,
          84,
          99,
          60,
          13.5,
          1,
          42,
          160,
          113,
          50,
          60,
          40,
          60,
          60,
          1,
          95,
          12,
          20,
          25,
          45,
          22,
          17.5,
          10,
          0,
          0,
          30,
          24.5,
          36,
          20,
          43,
          37.5,
          15,
          18.5,
          0,
          40,
          28,
          23.5,
          80,
          32.5,
          85,
          25,
          28,
          0,
          90,
          3.5,
          33.5,
          6,
          36,
          20,
          40,
          10,
          38,
          24,
          24,
          0,
          24,
          16,
          20,
          46,
          0,
          20,
          42,
          16,
          50,
          125,
          45,
          10,
          95,
          63,
          139,
          128,
          35,
          98,
          120,
          100,
          121.5,
          20,
          95,
          136,
          96,
          120,
          72.5,
          125,
          121,
          60,
          32,
          90,
          92,
          98,
          135,
          20,
          89,
          60,
          160,
          124,
          100,
          85,
          30,
          0,
          50,
          100,
          54,
          25,
          48,
          55,
          96,
          49,
          21,
          3,
          65,
          103.5,
          16,
          24,
          18,
          145,
          80,
          98,
          80,
          8,
          48,
          12,
          82,
          35,
          70,
          150,
          42,
          50,
          0,
          10,
          0,
          80,
          120,
          35,
          49,
          4,
          22,
          6,
          5,
          10,
          20,
          20,
          6,
          47.5,
          48,
          8,
          83.5,
          6,
          50,
          12,
          75,
          70,
          18,
          90,
          0,
          90,
          96,
          40,
          160,
          99,
          45,
          25,
          24,
          120,
          130,
          97.5,
          63,
          30,
          47,
          16.5,
          11,
          40,
          150,
          49.5,
          149,
          80,
          20,
          17,
          32,
          70,
          85,
          11,
          50,
          60,
          25,
          48,
          25,
          48,
          99,
          2,
          155,
          105,
          104
         ],
         "yaxis": "y2"
        }
       ],
       "layout": {
        "height": 600,
        "legend": {
         "tracegroupgap": 0
        },
        "margin": {
         "b": 0,
         "l": 0,
         "r": 0,
         "t": 50
        },
        "template": {
         "data": {
          "bar": [
           {
            "error_x": {
             "color": "#2a3f5f"
            },
            "error_y": {
             "color": "#2a3f5f"
            },
            "marker": {
             "line": {
              "color": "#E5ECF6",
              "width": 0.5
             },
             "pattern": {
              "fillmode": "overlay",
              "size": 10,
              "solidity": 0.2
             }
            },
            "type": "bar"
           }
          ],
          "barpolar": [
           {
            "marker": {
             "line": {
              "color": "#E5ECF6",
              "width": 0.5
             },
             "pattern": {
              "fillmode": "overlay",
              "size": 10,
              "solidity": 0.2
             }
            },
            "type": "barpolar"
           }
          ],
          "carpet": [
           {
            "aaxis": {
             "endlinecolor": "#2a3f5f",
             "gridcolor": "white",
             "linecolor": "white",
             "minorgridcolor": "white",
             "startlinecolor": "#2a3f5f"
            },
            "baxis": {
             "endlinecolor": "#2a3f5f",
             "gridcolor": "white",
             "linecolor": "white",
             "minorgridcolor": "white",
             "startlinecolor": "#2a3f5f"
            },
            "type": "carpet"
           }
          ],
          "choropleth": [
           {
            "colorbar": {
             "outlinewidth": 0,
             "ticks": ""
            },
            "type": "choropleth"
           }
          ],
          "contour": [
           {
            "colorbar": {
             "outlinewidth": 0,
             "ticks": ""
            },
            "colorscale": [
             [
              0,
              "#0d0887"
             ],
             [
              0.1111111111111111,
              "#46039f"
             ],
             [
              0.2222222222222222,
              "#7201a8"
             ],
             [
              0.3333333333333333,
              "#9c179e"
             ],
             [
              0.4444444444444444,
              "#bd3786"
             ],
             [
              0.5555555555555556,
              "#d8576b"
             ],
             [
              0.6666666666666666,
              "#ed7953"
             ],
             [
              0.7777777777777778,
              "#fb9f3a"
             ],
             [
              0.8888888888888888,
              "#fdca26"
             ],
             [
              1,
              "#f0f921"
             ]
            ],
            "type": "contour"
           }
          ],
          "contourcarpet": [
           {
            "colorbar": {
             "outlinewidth": 0,
             "ticks": ""
            },
            "type": "contourcarpet"
           }
          ],
          "heatmap": [
           {
            "colorbar": {
             "outlinewidth": 0,
             "ticks": ""
            },
            "colorscale": [
             [
              0,
              "#0d0887"
             ],
             [
              0.1111111111111111,
              "#46039f"
             ],
             [
              0.2222222222222222,
              "#7201a8"
             ],
             [
              0.3333333333333333,
              "#9c179e"
             ],
             [
              0.4444444444444444,
              "#bd3786"
             ],
             [
              0.5555555555555556,
              "#d8576b"
             ],
             [
              0.6666666666666666,
              "#ed7953"
             ],
             [
              0.7777777777777778,
              "#fb9f3a"
             ],
             [
              0.8888888888888888,
              "#fdca26"
             ],
             [
              1,
              "#f0f921"
             ]
            ],
            "type": "heatmap"
           }
          ],
          "heatmapgl": [
           {
            "colorbar": {
             "outlinewidth": 0,
             "ticks": ""
            },
            "colorscale": [
             [
              0,
              "#0d0887"
             ],
             [
              0.1111111111111111,
              "#46039f"
             ],
             [
              0.2222222222222222,
              "#7201a8"
             ],
             [
              0.3333333333333333,
              "#9c179e"
             ],
             [
              0.4444444444444444,
              "#bd3786"
             ],
             [
              0.5555555555555556,
              "#d8576b"
             ],
             [
              0.6666666666666666,
              "#ed7953"
             ],
             [
              0.7777777777777778,
              "#fb9f3a"
             ],
             [
              0.8888888888888888,
              "#fdca26"
             ],
             [
              1,
              "#f0f921"
             ]
            ],
            "type": "heatmapgl"
           }
          ],
          "histogram": [
           {
            "marker": {
             "pattern": {
              "fillmode": "overlay",
              "size": 10,
              "solidity": 0.2
             }
            },
            "type": "histogram"
           }
          ],
          "histogram2d": [
           {
            "colorbar": {
             "outlinewidth": 0,
             "ticks": ""
            },
            "colorscale": [
             [
              0,
              "#0d0887"
             ],
             [
              0.1111111111111111,
              "#46039f"
             ],
             [
              0.2222222222222222,
              "#7201a8"
             ],
             [
              0.3333333333333333,
              "#9c179e"
             ],
             [
              0.4444444444444444,
              "#bd3786"
             ],
             [
              0.5555555555555556,
              "#d8576b"
             ],
             [
              0.6666666666666666,
              "#ed7953"
             ],
             [
              0.7777777777777778,
              "#fb9f3a"
             ],
             [
              0.8888888888888888,
              "#fdca26"
             ],
             [
              1,
              "#f0f921"
             ]
            ],
            "type": "histogram2d"
           }
          ],
          "histogram2dcontour": [
           {
            "colorbar": {
             "outlinewidth": 0,
             "ticks": ""
            },
            "colorscale": [
             [
              0,
              "#0d0887"
             ],
             [
              0.1111111111111111,
              "#46039f"
             ],
             [
              0.2222222222222222,
              "#7201a8"
             ],
             [
              0.3333333333333333,
              "#9c179e"
             ],
             [
              0.4444444444444444,
              "#bd3786"
             ],
             [
              0.5555555555555556,
              "#d8576b"
             ],
             [
              0.6666666666666666,
              "#ed7953"
             ],
             [
              0.7777777777777778,
              "#fb9f3a"
             ],
             [
              0.8888888888888888,
              "#fdca26"
             ],
             [
              1,
              "#f0f921"
             ]
            ],
            "type": "histogram2dcontour"
           }
          ],
          "mesh3d": [
           {
            "colorbar": {
             "outlinewidth": 0,
             "ticks": ""
            },
            "type": "mesh3d"
           }
          ],
          "parcoords": [
           {
            "line": {
             "colorbar": {
              "outlinewidth": 0,
              "ticks": ""
             }
            },
            "type": "parcoords"
           }
          ],
          "pie": [
           {
            "automargin": true,
            "type": "pie"
           }
          ],
          "scatter": [
           {
            "marker": {
             "colorbar": {
              "outlinewidth": 0,
              "ticks": ""
             }
            },
            "type": "scatter"
           }
          ],
          "scatter3d": [
           {
            "line": {
             "colorbar": {
              "outlinewidth": 0,
              "ticks": ""
             }
            },
            "marker": {
             "colorbar": {
              "outlinewidth": 0,
              "ticks": ""
             }
            },
            "type": "scatter3d"
           }
          ],
          "scattercarpet": [
           {
            "marker": {
             "colorbar": {
              "outlinewidth": 0,
              "ticks": ""
             }
            },
            "type": "scattercarpet"
           }
          ],
          "scattergeo": [
           {
            "marker": {
             "colorbar": {
              "outlinewidth": 0,
              "ticks": ""
             }
            },
            "type": "scattergeo"
           }
          ],
          "scattergl": [
           {
            "marker": {
             "colorbar": {
              "outlinewidth": 0,
              "ticks": ""
             }
            },
            "type": "scattergl"
           }
          ],
          "scattermapbox": [
           {
            "marker": {
             "colorbar": {
              "outlinewidth": 0,
              "ticks": ""
             }
            },
            "type": "scattermapbox"
           }
          ],
          "scatterpolar": [
           {
            "marker": {
             "colorbar": {
              "outlinewidth": 0,
              "ticks": ""
             }
            },
            "type": "scatterpolar"
           }
          ],
          "scatterpolargl": [
           {
            "marker": {
             "colorbar": {
              "outlinewidth": 0,
              "ticks": ""
             }
            },
            "type": "scatterpolargl"
           }
          ],
          "scatterternary": [
           {
            "marker": {
             "colorbar": {
              "outlinewidth": 0,
              "ticks": ""
             }
            },
            "type": "scatterternary"
           }
          ],
          "surface": [
           {
            "colorbar": {
             "outlinewidth": 0,
             "ticks": ""
            },
            "colorscale": [
             [
              0,
              "#0d0887"
             ],
             [
              0.1111111111111111,
              "#46039f"
             ],
             [
              0.2222222222222222,
              "#7201a8"
             ],
             [
              0.3333333333333333,
              "#9c179e"
             ],
             [
              0.4444444444444444,
              "#bd3786"
             ],
             [
              0.5555555555555556,
              "#d8576b"
             ],
             [
              0.6666666666666666,
              "#ed7953"
             ],
             [
              0.7777777777777778,
              "#fb9f3a"
             ],
             [
              0.8888888888888888,
              "#fdca26"
             ],
             [
              1,
              "#f0f921"
             ]
            ],
            "type": "surface"
           }
          ],
          "table": [
           {
            "cells": {
             "fill": {
              "color": "#EBF0F8"
             },
             "line": {
              "color": "white"
             }
            },
            "header": {
             "fill": {
              "color": "#C8D4E3"
             },
             "line": {
              "color": "white"
             }
            },
            "type": "table"
           }
          ]
         },
         "layout": {
          "annotationdefaults": {
           "arrowcolor": "#2a3f5f",
           "arrowhead": 0,
           "arrowwidth": 1
          },
          "autotypenumbers": "strict",
          "coloraxis": {
           "colorbar": {
            "outlinewidth": 0,
            "ticks": ""
           }
          },
          "colorscale": {
           "diverging": [
            [
             0,
             "#8e0152"
            ],
            [
             0.1,
             "#c51b7d"
            ],
            [
             0.2,
             "#de77ae"
            ],
            [
             0.3,
             "#f1b6da"
            ],
            [
             0.4,
             "#fde0ef"
            ],
            [
             0.5,
             "#f7f7f7"
            ],
            [
             0.6,
             "#e6f5d0"
            ],
            [
             0.7,
             "#b8e186"
            ],
            [
             0.8,
             "#7fbc41"
            ],
            [
             0.9,
             "#4d9221"
            ],
            [
             1,
             "#276419"
            ]
           ],
           "sequential": [
            [
             0,
             "#0d0887"
            ],
            [
             0.1111111111111111,
             "#46039f"
            ],
            [
             0.2222222222222222,
             "#7201a8"
            ],
            [
             0.3333333333333333,
             "#9c179e"
            ],
            [
             0.4444444444444444,
             "#bd3786"
            ],
            [
             0.5555555555555556,
             "#d8576b"
            ],
            [
             0.6666666666666666,
             "#ed7953"
            ],
            [
             0.7777777777777778,
             "#fb9f3a"
            ],
            [
             0.8888888888888888,
             "#fdca26"
            ],
            [
             1,
             "#f0f921"
            ]
           ],
           "sequentialminus": [
            [
             0,
             "#0d0887"
            ],
            [
             0.1111111111111111,
             "#46039f"
            ],
            [
             0.2222222222222222,
             "#7201a8"
            ],
            [
             0.3333333333333333,
             "#9c179e"
            ],
            [
             0.4444444444444444,
             "#bd3786"
            ],
            [
             0.5555555555555556,
             "#d8576b"
            ],
            [
             0.6666666666666666,
             "#ed7953"
            ],
            [
             0.7777777777777778,
             "#fb9f3a"
            ],
            [
             0.8888888888888888,
             "#fdca26"
            ],
            [
             1,
             "#f0f921"
            ]
           ]
          },
          "colorway": [
           "#636efa",
           "#EF553B",
           "#00cc96",
           "#ab63fa",
           "#FFA15A",
           "#19d3f3",
           "#FF6692",
           "#B6E880",
           "#FF97FF",
           "#FECB52"
          ],
          "font": {
           "color": "#2a3f5f"
          },
          "geo": {
           "bgcolor": "white",
           "lakecolor": "white",
           "landcolor": "#E5ECF6",
           "showlakes": true,
           "showland": true,
           "subunitcolor": "white"
          },
          "hoverlabel": {
           "align": "left"
          },
          "hovermode": "closest",
          "mapbox": {
           "style": "light"
          },
          "paper_bgcolor": "white",
          "plot_bgcolor": "#E5ECF6",
          "polar": {
           "angularaxis": {
            "gridcolor": "white",
            "linecolor": "white",
            "ticks": ""
           },
           "bgcolor": "#E5ECF6",
           "radialaxis": {
            "gridcolor": "white",
            "linecolor": "white",
            "ticks": ""
           }
          },
          "scene": {
           "xaxis": {
            "backgroundcolor": "#E5ECF6",
            "gridcolor": "white",
            "gridwidth": 2,
            "linecolor": "white",
            "showbackground": true,
            "ticks": "",
            "zerolinecolor": "white"
           },
           "yaxis": {
            "backgroundcolor": "#E5ECF6",
            "gridcolor": "white",
            "gridwidth": 2,
            "linecolor": "white",
            "showbackground": true,
            "ticks": "",
            "zerolinecolor": "white"
           },
           "zaxis": {
            "backgroundcolor": "#E5ECF6",
            "gridcolor": "white",
            "gridwidth": 2,
            "linecolor": "white",
            "showbackground": true,
            "ticks": "",
            "zerolinecolor": "white"
           }
          },
          "shapedefaults": {
           "line": {
            "color": "#2a3f5f"
           }
          },
          "ternary": {
           "aaxis": {
            "gridcolor": "white",
            "linecolor": "white",
            "ticks": ""
           },
           "baxis": {
            "gridcolor": "white",
            "linecolor": "white",
            "ticks": ""
           },
           "bgcolor": "#E5ECF6",
           "caxis": {
            "gridcolor": "white",
            "linecolor": "white",
            "ticks": ""
           }
          },
          "title": {
           "x": 0.05
          },
          "xaxis": {
           "automargin": true,
           "gridcolor": "white",
           "linecolor": "white",
           "ticks": "",
           "title": {
            "standoff": 15
           },
           "zerolinecolor": "white",
           "zerolinewidth": 2
          },
          "yaxis": {
           "automargin": true,
           "gridcolor": "white",
           "linecolor": "white",
           "ticks": "",
           "title": {
            "standoff": 15
           },
           "zerolinecolor": "white",
           "zerolinewidth": 2
          }
         }
        },
        "title": {
         "font": {
          "size": 14
         },
         "text": "Распределение заведений по количеству объектов сети и количеству посадочных мест",
         "x": 0.5,
         "xanchor": "center"
        },
        "width": 950,
        "xaxis": {
         "anchor": "y",
         "domain": [
          0,
          0.8358
         ],
         "title": {
          "text": "Кол-во заведений"
         }
        },
        "xaxis2": {
         "anchor": "y2",
         "domain": [
          0.8408,
          1
         ],
         "matches": "x2",
         "showgrid": false,
         "showline": false,
         "showticklabels": false,
         "ticks": ""
        },
        "xaxis3": {
         "anchor": "y3",
         "domain": [
          0,
          0.8358
         ],
         "matches": "x",
         "showgrid": true,
         "showticklabels": false
        },
        "xaxis4": {
         "anchor": "y4",
         "domain": [
          0.8408,
          1
         ],
         "matches": "x2",
         "showgrid": false,
         "showline": false,
         "showticklabels": false,
         "ticks": ""
        },
        "yaxis": {
         "anchor": "x",
         "domain": [
          0,
          0.8316
         ],
         "title": {
          "text": "Медиана посадочных мест"
         }
        },
        "yaxis2": {
         "anchor": "x2",
         "domain": [
          0,
          0.8316
         ],
         "matches": "y",
         "showgrid": true,
         "showticklabels": false
        },
        "yaxis3": {
         "anchor": "x3",
         "domain": [
          0.8416,
          1
         ],
         "matches": "y3",
         "showgrid": false,
         "showline": false,
         "showticklabels": false,
         "ticks": ""
        },
        "yaxis4": {
         "anchor": "x4",
         "domain": [
          0.8416,
          1
         ],
         "matches": "y3",
         "showgrid": true,
         "showline": false,
         "showticklabels": false,
         "ticks": ""
        }
       }
      },
      "text/html": [
       "<div>                            <div id=\"a238e671-6d20-4e6f-ae9f-968d7a64edf8\" class=\"plotly-graph-div\" style=\"height:600px; width:950px;\"></div>            <script type=\"text/javascript\">                require([\"plotly\"], function(Plotly) {                    window.PLOTLYENV=window.PLOTLYENV || {};                                    if (document.getElementById(\"a238e671-6d20-4e6f-ae9f-968d7a64edf8\")) {                    Plotly.newPlot(                        \"a238e671-6d20-4e6f-ae9f-968d7a64edf8\",                        [{\"hovertemplate\":\"count=%{x}<br>median=%{y}<extra></extra>\",\"legendgroup\":\"\",\"marker\":{\"color\":\"#636efa\",\"opacity\":0.5,\"symbol\":\"circle\"},\"mode\":\"markers\",\"name\":\"\",\"orientation\":\"v\",\"showlegend\":false,\"x\":[1,1,1,3,1,1,3,1,4,1,3,5,1,6,1,1,1,3,1,1,1,4,1,5,1,7,3,2,2,1,1,1,1,5,1,2,4,1,2,1,1,4,1,1,1,1,1,2,3,1,2,1,1,1,1,3,1,2,1,2,1,1,1,1,5,2,2,1,1,1,7,6,15,1,1,1,1,1,1,1,1,1,1,1,1,2,1,2,12,1,2,1,1,1,1,3,1,2,1,9,1,8,7,5,1,1,1,11,1,10,1,1,2,1,1,2,9,12,1,6,1,6,1,1,1,1,1,1,10,1,1,1,4,1,4,1,3,1,6,1,5,6,3,1,1,1,7,10,1,1,1,2,2,2,5,2,1,1,1,2,1,1,1,1,1,2,4,1,2,1,9,2,3,2,2,3,1,1,1,1,1,1,1,1,1,1,1,1,2,11,1,2,1,3,6,2,3,1,1,2,1,1,1,1,2,4,1,1,5,1,1,3,2,2,3,1,1,2,1,4,1,1,1,1,1,9,2,1,1,3,1,1,16,3,6,2,1,1,1,1,1,1,1,1,1,1,1,1,1,1,1,1,1,1,1,1,1,2,5,7,1,2,2,1,9,3,1,1,1,1,1,1,2,3,3,1,1,1,2,1,1,6,1,4,15,1,3,2,1,2,14,16,6,3,1,1,1,3,1,6,1,1,3,1,5,1,1,2,6,1,1,6,1,2,1,6,1,1,2,1,5,1,1,2,1,1,1,1,1,6,1,1,2,1,1,1,2,5,1,1,1,1,1,3,1,1,1,1,1,2,1,1,15,1,2,5,9,1,4,5,10,1,1,1,2,1,2,3,3,1,1,3,6,10,1,7,1,1,1,2,1,5,1,1,1,1,6,3,1,2,1,3,4,3,1,1,2,2,3,2,1,1,1,2,1,1,5,1,1,2,2,8,1,1,3,1,11,1,1,2,1,5,3,1,2,1,1,1,1,3,1,1,1,1,3,2,2,8,6,1,1,2,3,1,1,1,1,1,6,1,1,1,1,3,1,14,1,1,1,1,1,2,1,1,13,13,2,1,3,15,2,1,1,2,7,1,1,4,1,6,9,2,1,1,1,7,1,1,1,9,3,1,2,1,1,4,2,2,1,1,6,1,1,1,6,1,1,1,1,1,1,1,1,13,1,1,1,1,2,4],\"xaxis\":\"x\",\"y\":[88.0,75.0,40.0,68.0,46.0,6.0,20.0,0.0,50.0,4.0,32.0,15.0,40.0,10.0,80.0,70.0,50.0,20.0,65.0,45.0,96.0,9.5,82.0,30.0,146.0,27.0,20.0,21.5,62.5,150.0,90.0,0.0,65.0,40.0,0.0,0.0,75.0,10.0,38.0,35.0,20.0,26.0,6.0,33.0,28.0,34.0,40.0,90.0,30.0,100.0,39.0,45.0,50.0,90.0,20.0,27.0,0.0,12.0,40.0,43.5,20.0,20.0,48.0,150.0,10.0,0.0,2.0,8.0,10.0,20.0,10.0,55.0,32.0,40.0,0.0,60.0,150.0,70.0,0.0,6.0,39.0,5.0,65.0,43.0,45.0,93.0,25.0,22.5,2.5,35.0,18.0,1.0,90.0,80.0,80.0,15.0,10.0,55.0,50.0,25.0,48.0,33.0,75.0,16.0,85.0,46.0,40.0,60.0,15.0,75.0,0.0,96.0,97.5,42.0,98.0,25.0,30.0,17.0,50.0,50.0,17.0,75.0,120.0,144.0,143.0,5.0,65.0,0.0,110.0,36.0,90.0,12.0,130.0,120.0,130.0,98.0,145.0,80.0,17.5,40.0,36.0,115.0,80.0,41.0,45.0,80.0,45.0,96.0,7.0,70.0,4.0,70.0,110.0,123.0,64.0,98.0,40.0,10.0,2.0,20.0,10.0,20.0,0.0,0.0,10.0,72.0,110.0,60.0,17.5,35.0,90.0,99.0,98.0,94.0,94.0,67.0,32.0,45.0,60.0,22.0,30.0,40.0,40.0,9.0,40.0,23.0,12.0,19.0,20.5,60.0,2.0,26.0,40.0,36.0,91.5,7.5,50.0,98.0,80.0,27.5,10.0,60.0,75.0,60.0,18.5,134.0,10.0,18.0,40.0,40.0,60.0,80.0,18.0,22.0,24.0,3.0,50.0,17.5,90.0,55.5,15.0,16.0,7.0,150.0,70.0,40.0,135.0,80.0,50.0,60.0,38.0,102.0,60.0,22.0,103.5,85.0,22.0,10.0,68.0,48.0,122.0,12.0,75.0,80.0,16.0,12.0,4.0,17.0,35.0,8.0,15.0,90.0,15.0,100.0,84.0,3.0,87.0,35.0,16.0,150.0,18.0,38.0,43.0,50.0,110.0,130.0,20.0,2.0,4.0,6.0,20.0,130.0,54.0,41.0,81.0,50.0,10.0,40.0,22.0,23.0,42.0,57.5,90.0,85.0,65.0,65.0,15.0,30.0,85.0,43.5,90.0,31.5,47.5,25.0,70.0,35.0,45.0,80.0,53.0,16.0,17.0,10.0,0.0,16.0,10.0,25.0,20.0,10.0,70.0,75.0,20.0,58.0,80.0,45.0,20.0,54.0,70.0,12.0,17.5,70.0,45.0,70.0,22.0,48.0,35.0,40.0,48.0,48.0,60.0,84.0,99.0,60.0,13.5,1.0,42.0,160.0,113.0,50.0,60.0,40.0,60.0,60.0,1.0,95.0,12.0,20.0,25.0,45.0,22.0,17.5,10.0,0.0,0.0,30.0,24.5,36.0,20.0,43.0,37.5,15.0,18.5,0.0,40.0,28.0,23.5,80.0,32.5,85.0,25.0,28.0,0.0,90.0,3.5,33.5,6.0,36.0,20.0,40.0,10.0,38.0,24.0,24.0,0.0,24.0,16.0,20.0,46.0,0.0,20.0,42.0,16.0,50.0,125.0,45.0,10.0,95.0,63.0,139.0,128.0,35.0,98.0,120.0,100.0,121.5,20.0,95.0,136.0,96.0,120.0,72.5,125.0,121.0,60.0,32.0,90.0,92.0,98.0,135.0,20.0,89.0,60.0,160.0,124.0,100.0,85.0,30.0,0.0,50.0,100.0,54.0,25.0,48.0,55.0,96.0,49.0,21.0,3.0,65.0,103.5,16.0,24.0,18.0,145.0,80.0,98.0,80.0,8.0,48.0,12.0,82.0,35.0,70.0,150.0,42.0,50.0,0.0,10.0,0.0,80.0,120.0,35.0,49.0,4.0,22.0,6.0,5.0,10.0,20.0,20.0,6.0,47.5,48.0,8.0,83.5,6.0,50.0,12.0,75.0,70.0,18.0,90.0,0.0,90.0,96.0,40.0,160.0,99.0,45.0,25.0,24.0,120.0,130.0,97.5,63.0,30.0,47.0,16.5,11.0,40.0,150.0,49.5,149.0,80.0,20.0,17.0,32.0,70.0,85.0,11.0,50.0,60.0,25.0,48.0,25.0,48.0,99.0,2.0,155.0,105.0,104.0],\"yaxis\":\"y\",\"type\":\"scatter\"},{\"alignmentgroup\":\"True\",\"hovertemplate\":\"count=%{x}<extra></extra>\",\"legendgroup\":\"\",\"marker\":{\"color\":\"#636efa\",\"symbol\":\"circle\"},\"name\":\"\",\"notched\":true,\"offsetgroup\":\"\",\"showlegend\":false,\"x\":[1,1,1,3,1,1,3,1,4,1,3,5,1,6,1,1,1,3,1,1,1,4,1,5,1,7,3,2,2,1,1,1,1,5,1,2,4,1,2,1,1,4,1,1,1,1,1,2,3,1,2,1,1,1,1,3,1,2,1,2,1,1,1,1,5,2,2,1,1,1,7,6,15,1,1,1,1,1,1,1,1,1,1,1,1,2,1,2,12,1,2,1,1,1,1,3,1,2,1,9,1,8,7,5,1,1,1,11,1,10,1,1,2,1,1,2,9,12,1,6,1,6,1,1,1,1,1,1,10,1,1,1,4,1,4,1,3,1,6,1,5,6,3,1,1,1,7,10,1,1,1,2,2,2,5,2,1,1,1,2,1,1,1,1,1,2,4,1,2,1,9,2,3,2,2,3,1,1,1,1,1,1,1,1,1,1,1,1,2,11,1,2,1,3,6,2,3,1,1,2,1,1,1,1,2,4,1,1,5,1,1,3,2,2,3,1,1,2,1,4,1,1,1,1,1,9,2,1,1,3,1,1,16,3,6,2,1,1,1,1,1,1,1,1,1,1,1,1,1,1,1,1,1,1,1,1,1,2,5,7,1,2,2,1,9,3,1,1,1,1,1,1,2,3,3,1,1,1,2,1,1,6,1,4,15,1,3,2,1,2,14,16,6,3,1,1,1,3,1,6,1,1,3,1,5,1,1,2,6,1,1,6,1,2,1,6,1,1,2,1,5,1,1,2,1,1,1,1,1,6,1,1,2,1,1,1,2,5,1,1,1,1,1,3,1,1,1,1,1,2,1,1,15,1,2,5,9,1,4,5,10,1,1,1,2,1,2,3,3,1,1,3,6,10,1,7,1,1,1,2,1,5,1,1,1,1,6,3,1,2,1,3,4,3,1,1,2,2,3,2,1,1,1,2,1,1,5,1,1,2,2,8,1,1,3,1,11,1,1,2,1,5,3,1,2,1,1,1,1,3,1,1,1,1,3,2,2,8,6,1,1,2,3,1,1,1,1,1,6,1,1,1,1,3,1,14,1,1,1,1,1,2,1,1,13,13,2,1,3,15,2,1,1,2,7,1,1,4,1,6,9,2,1,1,1,7,1,1,1,9,3,1,2,1,1,4,2,2,1,1,6,1,1,1,6,1,1,1,1,1,1,1,1,13,1,1,1,1,2,4],\"xaxis\":\"x3\",\"yaxis\":\"y3\",\"type\":\"box\"},{\"alignmentgroup\":\"True\",\"hovertemplate\":\"median=%{y}<extra></extra>\",\"legendgroup\":\"\",\"marker\":{\"color\":\"#636efa\",\"symbol\":\"circle\"},\"name\":\"\",\"notched\":true,\"offsetgroup\":\"\",\"showlegend\":false,\"xaxis\":\"x2\",\"y\":[88.0,75.0,40.0,68.0,46.0,6.0,20.0,0.0,50.0,4.0,32.0,15.0,40.0,10.0,80.0,70.0,50.0,20.0,65.0,45.0,96.0,9.5,82.0,30.0,146.0,27.0,20.0,21.5,62.5,150.0,90.0,0.0,65.0,40.0,0.0,0.0,75.0,10.0,38.0,35.0,20.0,26.0,6.0,33.0,28.0,34.0,40.0,90.0,30.0,100.0,39.0,45.0,50.0,90.0,20.0,27.0,0.0,12.0,40.0,43.5,20.0,20.0,48.0,150.0,10.0,0.0,2.0,8.0,10.0,20.0,10.0,55.0,32.0,40.0,0.0,60.0,150.0,70.0,0.0,6.0,39.0,5.0,65.0,43.0,45.0,93.0,25.0,22.5,2.5,35.0,18.0,1.0,90.0,80.0,80.0,15.0,10.0,55.0,50.0,25.0,48.0,33.0,75.0,16.0,85.0,46.0,40.0,60.0,15.0,75.0,0.0,96.0,97.5,42.0,98.0,25.0,30.0,17.0,50.0,50.0,17.0,75.0,120.0,144.0,143.0,5.0,65.0,0.0,110.0,36.0,90.0,12.0,130.0,120.0,130.0,98.0,145.0,80.0,17.5,40.0,36.0,115.0,80.0,41.0,45.0,80.0,45.0,96.0,7.0,70.0,4.0,70.0,110.0,123.0,64.0,98.0,40.0,10.0,2.0,20.0,10.0,20.0,0.0,0.0,10.0,72.0,110.0,60.0,17.5,35.0,90.0,99.0,98.0,94.0,94.0,67.0,32.0,45.0,60.0,22.0,30.0,40.0,40.0,9.0,40.0,23.0,12.0,19.0,20.5,60.0,2.0,26.0,40.0,36.0,91.5,7.5,50.0,98.0,80.0,27.5,10.0,60.0,75.0,60.0,18.5,134.0,10.0,18.0,40.0,40.0,60.0,80.0,18.0,22.0,24.0,3.0,50.0,17.5,90.0,55.5,15.0,16.0,7.0,150.0,70.0,40.0,135.0,80.0,50.0,60.0,38.0,102.0,60.0,22.0,103.5,85.0,22.0,10.0,68.0,48.0,122.0,12.0,75.0,80.0,16.0,12.0,4.0,17.0,35.0,8.0,15.0,90.0,15.0,100.0,84.0,3.0,87.0,35.0,16.0,150.0,18.0,38.0,43.0,50.0,110.0,130.0,20.0,2.0,4.0,6.0,20.0,130.0,54.0,41.0,81.0,50.0,10.0,40.0,22.0,23.0,42.0,57.5,90.0,85.0,65.0,65.0,15.0,30.0,85.0,43.5,90.0,31.5,47.5,25.0,70.0,35.0,45.0,80.0,53.0,16.0,17.0,10.0,0.0,16.0,10.0,25.0,20.0,10.0,70.0,75.0,20.0,58.0,80.0,45.0,20.0,54.0,70.0,12.0,17.5,70.0,45.0,70.0,22.0,48.0,35.0,40.0,48.0,48.0,60.0,84.0,99.0,60.0,13.5,1.0,42.0,160.0,113.0,50.0,60.0,40.0,60.0,60.0,1.0,95.0,12.0,20.0,25.0,45.0,22.0,17.5,10.0,0.0,0.0,30.0,24.5,36.0,20.0,43.0,37.5,15.0,18.5,0.0,40.0,28.0,23.5,80.0,32.5,85.0,25.0,28.0,0.0,90.0,3.5,33.5,6.0,36.0,20.0,40.0,10.0,38.0,24.0,24.0,0.0,24.0,16.0,20.0,46.0,0.0,20.0,42.0,16.0,50.0,125.0,45.0,10.0,95.0,63.0,139.0,128.0,35.0,98.0,120.0,100.0,121.5,20.0,95.0,136.0,96.0,120.0,72.5,125.0,121.0,60.0,32.0,90.0,92.0,98.0,135.0,20.0,89.0,60.0,160.0,124.0,100.0,85.0,30.0,0.0,50.0,100.0,54.0,25.0,48.0,55.0,96.0,49.0,21.0,3.0,65.0,103.5,16.0,24.0,18.0,145.0,80.0,98.0,80.0,8.0,48.0,12.0,82.0,35.0,70.0,150.0,42.0,50.0,0.0,10.0,0.0,80.0,120.0,35.0,49.0,4.0,22.0,6.0,5.0,10.0,20.0,20.0,6.0,47.5,48.0,8.0,83.5,6.0,50.0,12.0,75.0,70.0,18.0,90.0,0.0,90.0,96.0,40.0,160.0,99.0,45.0,25.0,24.0,120.0,130.0,97.5,63.0,30.0,47.0,16.5,11.0,40.0,150.0,49.5,149.0,80.0,20.0,17.0,32.0,70.0,85.0,11.0,50.0,60.0,25.0,48.0,25.0,48.0,99.0,2.0,155.0,105.0,104.0],\"yaxis\":\"y2\",\"type\":\"box\"}],                        {\"template\":{\"data\":{\"bar\":[{\"error_x\":{\"color\":\"#2a3f5f\"},\"error_y\":{\"color\":\"#2a3f5f\"},\"marker\":{\"line\":{\"color\":\"#E5ECF6\",\"width\":0.5},\"pattern\":{\"fillmode\":\"overlay\",\"size\":10,\"solidity\":0.2}},\"type\":\"bar\"}],\"barpolar\":[{\"marker\":{\"line\":{\"color\":\"#E5ECF6\",\"width\":0.5},\"pattern\":{\"fillmode\":\"overlay\",\"size\":10,\"solidity\":0.2}},\"type\":\"barpolar\"}],\"carpet\":[{\"aaxis\":{\"endlinecolor\":\"#2a3f5f\",\"gridcolor\":\"white\",\"linecolor\":\"white\",\"minorgridcolor\":\"white\",\"startlinecolor\":\"#2a3f5f\"},\"baxis\":{\"endlinecolor\":\"#2a3f5f\",\"gridcolor\":\"white\",\"linecolor\":\"white\",\"minorgridcolor\":\"white\",\"startlinecolor\":\"#2a3f5f\"},\"type\":\"carpet\"}],\"choropleth\":[{\"colorbar\":{\"outlinewidth\":0,\"ticks\":\"\"},\"type\":\"choropleth\"}],\"contour\":[{\"colorbar\":{\"outlinewidth\":0,\"ticks\":\"\"},\"colorscale\":[[0.0,\"#0d0887\"],[0.1111111111111111,\"#46039f\"],[0.2222222222222222,\"#7201a8\"],[0.3333333333333333,\"#9c179e\"],[0.4444444444444444,\"#bd3786\"],[0.5555555555555556,\"#d8576b\"],[0.6666666666666666,\"#ed7953\"],[0.7777777777777778,\"#fb9f3a\"],[0.8888888888888888,\"#fdca26\"],[1.0,\"#f0f921\"]],\"type\":\"contour\"}],\"contourcarpet\":[{\"colorbar\":{\"outlinewidth\":0,\"ticks\":\"\"},\"type\":\"contourcarpet\"}],\"heatmap\":[{\"colorbar\":{\"outlinewidth\":0,\"ticks\":\"\"},\"colorscale\":[[0.0,\"#0d0887\"],[0.1111111111111111,\"#46039f\"],[0.2222222222222222,\"#7201a8\"],[0.3333333333333333,\"#9c179e\"],[0.4444444444444444,\"#bd3786\"],[0.5555555555555556,\"#d8576b\"],[0.6666666666666666,\"#ed7953\"],[0.7777777777777778,\"#fb9f3a\"],[0.8888888888888888,\"#fdca26\"],[1.0,\"#f0f921\"]],\"type\":\"heatmap\"}],\"heatmapgl\":[{\"colorbar\":{\"outlinewidth\":0,\"ticks\":\"\"},\"colorscale\":[[0.0,\"#0d0887\"],[0.1111111111111111,\"#46039f\"],[0.2222222222222222,\"#7201a8\"],[0.3333333333333333,\"#9c179e\"],[0.4444444444444444,\"#bd3786\"],[0.5555555555555556,\"#d8576b\"],[0.6666666666666666,\"#ed7953\"],[0.7777777777777778,\"#fb9f3a\"],[0.8888888888888888,\"#fdca26\"],[1.0,\"#f0f921\"]],\"type\":\"heatmapgl\"}],\"histogram\":[{\"marker\":{\"pattern\":{\"fillmode\":\"overlay\",\"size\":10,\"solidity\":0.2}},\"type\":\"histogram\"}],\"histogram2d\":[{\"colorbar\":{\"outlinewidth\":0,\"ticks\":\"\"},\"colorscale\":[[0.0,\"#0d0887\"],[0.1111111111111111,\"#46039f\"],[0.2222222222222222,\"#7201a8\"],[0.3333333333333333,\"#9c179e\"],[0.4444444444444444,\"#bd3786\"],[0.5555555555555556,\"#d8576b\"],[0.6666666666666666,\"#ed7953\"],[0.7777777777777778,\"#fb9f3a\"],[0.8888888888888888,\"#fdca26\"],[1.0,\"#f0f921\"]],\"type\":\"histogram2d\"}],\"histogram2dcontour\":[{\"colorbar\":{\"outlinewidth\":0,\"ticks\":\"\"},\"colorscale\":[[0.0,\"#0d0887\"],[0.1111111111111111,\"#46039f\"],[0.2222222222222222,\"#7201a8\"],[0.3333333333333333,\"#9c179e\"],[0.4444444444444444,\"#bd3786\"],[0.5555555555555556,\"#d8576b\"],[0.6666666666666666,\"#ed7953\"],[0.7777777777777778,\"#fb9f3a\"],[0.8888888888888888,\"#fdca26\"],[1.0,\"#f0f921\"]],\"type\":\"histogram2dcontour\"}],\"mesh3d\":[{\"colorbar\":{\"outlinewidth\":0,\"ticks\":\"\"},\"type\":\"mesh3d\"}],\"parcoords\":[{\"line\":{\"colorbar\":{\"outlinewidth\":0,\"ticks\":\"\"}},\"type\":\"parcoords\"}],\"pie\":[{\"automargin\":true,\"type\":\"pie\"}],\"scatter\":[{\"marker\":{\"colorbar\":{\"outlinewidth\":0,\"ticks\":\"\"}},\"type\":\"scatter\"}],\"scatter3d\":[{\"line\":{\"colorbar\":{\"outlinewidth\":0,\"ticks\":\"\"}},\"marker\":{\"colorbar\":{\"outlinewidth\":0,\"ticks\":\"\"}},\"type\":\"scatter3d\"}],\"scattercarpet\":[{\"marker\":{\"colorbar\":{\"outlinewidth\":0,\"ticks\":\"\"}},\"type\":\"scattercarpet\"}],\"scattergeo\":[{\"marker\":{\"colorbar\":{\"outlinewidth\":0,\"ticks\":\"\"}},\"type\":\"scattergeo\"}],\"scattergl\":[{\"marker\":{\"colorbar\":{\"outlinewidth\":0,\"ticks\":\"\"}},\"type\":\"scattergl\"}],\"scattermapbox\":[{\"marker\":{\"colorbar\":{\"outlinewidth\":0,\"ticks\":\"\"}},\"type\":\"scattermapbox\"}],\"scatterpolar\":[{\"marker\":{\"colorbar\":{\"outlinewidth\":0,\"ticks\":\"\"}},\"type\":\"scatterpolar\"}],\"scatterpolargl\":[{\"marker\":{\"colorbar\":{\"outlinewidth\":0,\"ticks\":\"\"}},\"type\":\"scatterpolargl\"}],\"scatterternary\":[{\"marker\":{\"colorbar\":{\"outlinewidth\":0,\"ticks\":\"\"}},\"type\":\"scatterternary\"}],\"surface\":[{\"colorbar\":{\"outlinewidth\":0,\"ticks\":\"\"},\"colorscale\":[[0.0,\"#0d0887\"],[0.1111111111111111,\"#46039f\"],[0.2222222222222222,\"#7201a8\"],[0.3333333333333333,\"#9c179e\"],[0.4444444444444444,\"#bd3786\"],[0.5555555555555556,\"#d8576b\"],[0.6666666666666666,\"#ed7953\"],[0.7777777777777778,\"#fb9f3a\"],[0.8888888888888888,\"#fdca26\"],[1.0,\"#f0f921\"]],\"type\":\"surface\"}],\"table\":[{\"cells\":{\"fill\":{\"color\":\"#EBF0F8\"},\"line\":{\"color\":\"white\"}},\"header\":{\"fill\":{\"color\":\"#C8D4E3\"},\"line\":{\"color\":\"white\"}},\"type\":\"table\"}]},\"layout\":{\"annotationdefaults\":{\"arrowcolor\":\"#2a3f5f\",\"arrowhead\":0,\"arrowwidth\":1},\"autotypenumbers\":\"strict\",\"coloraxis\":{\"colorbar\":{\"outlinewidth\":0,\"ticks\":\"\"}},\"colorscale\":{\"diverging\":[[0,\"#8e0152\"],[0.1,\"#c51b7d\"],[0.2,\"#de77ae\"],[0.3,\"#f1b6da\"],[0.4,\"#fde0ef\"],[0.5,\"#f7f7f7\"],[0.6,\"#e6f5d0\"],[0.7,\"#b8e186\"],[0.8,\"#7fbc41\"],[0.9,\"#4d9221\"],[1,\"#276419\"]],\"sequential\":[[0.0,\"#0d0887\"],[0.1111111111111111,\"#46039f\"],[0.2222222222222222,\"#7201a8\"],[0.3333333333333333,\"#9c179e\"],[0.4444444444444444,\"#bd3786\"],[0.5555555555555556,\"#d8576b\"],[0.6666666666666666,\"#ed7953\"],[0.7777777777777778,\"#fb9f3a\"],[0.8888888888888888,\"#fdca26\"],[1.0,\"#f0f921\"]],\"sequentialminus\":[[0.0,\"#0d0887\"],[0.1111111111111111,\"#46039f\"],[0.2222222222222222,\"#7201a8\"],[0.3333333333333333,\"#9c179e\"],[0.4444444444444444,\"#bd3786\"],[0.5555555555555556,\"#d8576b\"],[0.6666666666666666,\"#ed7953\"],[0.7777777777777778,\"#fb9f3a\"],[0.8888888888888888,\"#fdca26\"],[1.0,\"#f0f921\"]]},\"colorway\":[\"#636efa\",\"#EF553B\",\"#00cc96\",\"#ab63fa\",\"#FFA15A\",\"#19d3f3\",\"#FF6692\",\"#B6E880\",\"#FF97FF\",\"#FECB52\"],\"font\":{\"color\":\"#2a3f5f\"},\"geo\":{\"bgcolor\":\"white\",\"lakecolor\":\"white\",\"landcolor\":\"#E5ECF6\",\"showlakes\":true,\"showland\":true,\"subunitcolor\":\"white\"},\"hoverlabel\":{\"align\":\"left\"},\"hovermode\":\"closest\",\"mapbox\":{\"style\":\"light\"},\"paper_bgcolor\":\"white\",\"plot_bgcolor\":\"#E5ECF6\",\"polar\":{\"angularaxis\":{\"gridcolor\":\"white\",\"linecolor\":\"white\",\"ticks\":\"\"},\"bgcolor\":\"#E5ECF6\",\"radialaxis\":{\"gridcolor\":\"white\",\"linecolor\":\"white\",\"ticks\":\"\"}},\"scene\":{\"xaxis\":{\"backgroundcolor\":\"#E5ECF6\",\"gridcolor\":\"white\",\"gridwidth\":2,\"linecolor\":\"white\",\"showbackground\":true,\"ticks\":\"\",\"zerolinecolor\":\"white\"},\"yaxis\":{\"backgroundcolor\":\"#E5ECF6\",\"gridcolor\":\"white\",\"gridwidth\":2,\"linecolor\":\"white\",\"showbackground\":true,\"ticks\":\"\",\"zerolinecolor\":\"white\"},\"zaxis\":{\"backgroundcolor\":\"#E5ECF6\",\"gridcolor\":\"white\",\"gridwidth\":2,\"linecolor\":\"white\",\"showbackground\":true,\"ticks\":\"\",\"zerolinecolor\":\"white\"}},\"shapedefaults\":{\"line\":{\"color\":\"#2a3f5f\"}},\"ternary\":{\"aaxis\":{\"gridcolor\":\"white\",\"linecolor\":\"white\",\"ticks\":\"\"},\"baxis\":{\"gridcolor\":\"white\",\"linecolor\":\"white\",\"ticks\":\"\"},\"bgcolor\":\"#E5ECF6\",\"caxis\":{\"gridcolor\":\"white\",\"linecolor\":\"white\",\"ticks\":\"\"}},\"title\":{\"x\":0.05},\"xaxis\":{\"automargin\":true,\"gridcolor\":\"white\",\"linecolor\":\"white\",\"ticks\":\"\",\"title\":{\"standoff\":15},\"zerolinecolor\":\"white\",\"zerolinewidth\":2},\"yaxis\":{\"automargin\":true,\"gridcolor\":\"white\",\"linecolor\":\"white\",\"ticks\":\"\",\"title\":{\"standoff\":15},\"zerolinecolor\":\"white\",\"zerolinewidth\":2}}},\"xaxis\":{\"anchor\":\"y\",\"domain\":[0.0,0.8358],\"title\":{\"text\":\"\\u041a\\u043e\\u043b-\\u0432\\u043e \\u0437\\u0430\\u0432\\u0435\\u0434\\u0435\\u043d\\u0438\\u0439\"}},\"yaxis\":{\"anchor\":\"x\",\"domain\":[0.0,0.8316],\"title\":{\"text\":\"\\u041c\\u0435\\u0434\\u0438\\u0430\\u043d\\u0430 \\u043f\\u043e\\u0441\\u0430\\u0434\\u043e\\u0447\\u043d\\u044b\\u0445 \\u043c\\u0435\\u0441\\u0442\"}},\"xaxis2\":{\"anchor\":\"y2\",\"domain\":[0.8408,1.0],\"matches\":\"x2\",\"showticklabels\":false,\"showline\":false,\"ticks\":\"\",\"showgrid\":false},\"yaxis2\":{\"anchor\":\"x2\",\"domain\":[0.0,0.8316],\"matches\":\"y\",\"showticklabels\":false,\"showgrid\":true},\"xaxis3\":{\"anchor\":\"y3\",\"domain\":[0.0,0.8358],\"matches\":\"x\",\"showticklabels\":false,\"showgrid\":true},\"yaxis3\":{\"anchor\":\"x3\",\"domain\":[0.8416,1.0],\"matches\":\"y3\",\"showticklabels\":false,\"showline\":false,\"ticks\":\"\",\"showgrid\":false},\"xaxis4\":{\"anchor\":\"y4\",\"domain\":[0.8408,1.0],\"matches\":\"x2\",\"showticklabels\":false,\"showgrid\":false,\"showline\":false,\"ticks\":\"\"},\"yaxis4\":{\"anchor\":\"x4\",\"domain\":[0.8416,1.0],\"matches\":\"y3\",\"showticklabels\":false,\"showline\":false,\"ticks\":\"\",\"showgrid\":true},\"legend\":{\"tracegroupgap\":0},\"margin\":{\"t\":50,\"r\":0,\"l\":0,\"b\":0},\"title\":{\"font\":{\"size\":14},\"text\":\"\\u0420\\u0430\\u0441\\u043f\\u0440\\u0435\\u0434\\u0435\\u043b\\u0435\\u043d\\u0438\\u0435 \\u0437\\u0430\\u0432\\u0435\\u0434\\u0435\\u043d\\u0438\\u0439 \\u043f\\u043e \\u043a\\u043e\\u043b\\u0438\\u0447\\u0435\\u0441\\u0442\\u0432\\u0443 \\u043e\\u0431\\u044a\\u0435\\u043a\\u0442\\u043e\\u0432 \\u0441\\u0435\\u0442\\u0438 \\u0438 \\u043a\\u043e\\u043b\\u0438\\u0447\\u0435\\u0441\\u0442\\u0432\\u0443 \\u043f\\u043e\\u0441\\u0430\\u0434\\u043e\\u0447\\u043d\\u044b\\u0445 \\u043c\\u0435\\u0441\\u0442\",\"xanchor\":\"center\",\"x\":0.5},\"width\":950,\"height\":600},                        {\"responsive\": true}                    ).then(function(){\n",
       "                            \n",
       "var gd = document.getElementById('a238e671-6d20-4e6f-ae9f-968d7a64edf8');\n",
       "var x = new MutationObserver(function (mutations, observer) {{\n",
       "        var display = window.getComputedStyle(gd).display;\n",
       "        if (!display || display === 'none') {{\n",
       "            console.log([gd, 'removed!']);\n",
       "            Plotly.purge(gd);\n",
       "            observer.disconnect();\n",
       "        }}\n",
       "}});\n",
       "\n",
       "// Listen for the removal of the full notebook cells\n",
       "var notebookContainer = gd.closest('#notebook-container');\n",
       "if (notebookContainer) {{\n",
       "    x.observe(notebookContainer, {childList: true});\n",
       "}}\n",
       "\n",
       "// Listen for the clearing of the current output cell\n",
       "var outputEl = gd.closest('.output');\n",
       "if (outputEl) {{\n",
       "    x.observe(outputEl, {childList: true});\n",
       "}}\n",
       "\n",
       "                        })                };                });            </script>        </div>"
      ]
     },
     "metadata": {},
     "output_type": "display_data"
    }
   ],
   "source": [
    "# определяем процентили для границы отсечения выбросов по количеству заведений\n",
    "num_order = np.percentile(num_seat['count'], [90,95,99]) \n",
    "display(num_order)\n",
    "# определяем процентили для границы отсечения выбросов по количеству посадочных мест\n",
    "seat_order = np.percentile(num_seat['median'], [90,95,99])\n",
    "display(seat_order)\n",
    "\n",
    "num_seat_trunc = num_seat.query('count <= @num_order[1] and median <=@seat_order[1]') # фильтруем датасет по 95 процентилю\n",
    "display(num_seat.shape[0], num_seat_trunc.shape[0]) \n",
    "\n",
    "fig = px.scatter(num_seat_trunc, x= num_seat_trunc['count'], \n",
    "                 y=num_seat_trunc['median'], \n",
    "                 marginal_x = 'box',\n",
    "                 marginal_y='box', opacity=0.5)\n",
    "fig.update_layout(width=950, height=600,\n",
    "                 title_text = ('Распределение заведений по количеству объектов сети и количеству посадочных мест'),\n",
    "                 title_font_size = 14,\n",
    "                 title_xanchor='center',\n",
    "                 title_x=.5,\n",
    "                 xaxis_title = 'Кол-во заведений',\n",
    "                 yaxis_title = 'Медиана посадочных мест',\n",
    "                 margin=dict(r=0,l=0,t=50,b=0))\n",
    "fig.show()"
   ]
  },
  {
   "cell_type": "markdown",
   "metadata": {},
   "source": [
    "***Вывод***  \n",
    "Как было установлено ранее, 2964 заведения имеют статус сетевого, однако, при группировке заведений выявлено 577 сетей, что можно объяснть либо наличием в городе лишь одного заведения-представителя для целого ряда сетей, либо использование компаниями различных названий для своих объектов. Идентификаторы объектов, предоставленные в настоящем наборе данных не позволяют идентифицировать принадлежность объектов при описанных выше условиях, в силу чего на графике значительное количество наблюдений визуализируется на уровне количества заведений равному 1. \n",
    "\n",
    "Исходя из полученных данных, следует, что сети заведений общественного питания в Москве включают от 1 до 157 объектов, лишь 5% (29 абс.) сетей имеет более 16 заведений и лишь 10% имеет более 8 заведений.   \n",
    "\n",
    "Количество посадочных мест, среди анализируемых сетевых объектов варьировало от 0 до 580, 5% (28 абс.) объектов имеют более 160 мест, медиана посадочных мест равна 40, \"средняя\" половина заведений имеет от 18 до 80 мест.\n",
    "\n",
    "Таким образом преобладают (75% от общего количества) сети с относительно небольшим (до 3) количеством объектов и вместимостью до 80 посадочных мест. (3q для распределения количества объектов и посадочных мест)"
   ]
  },
  {
   "cell_type": "markdown",
   "metadata": {},
   "source": [
    "### Среднее количество посадочных мест для каждого вида объекта общественного питания."
   ]
  },
  {
   "cell_type": "code",
   "execution_count": 314,
   "metadata": {},
   "outputs": [
    {
     "data": {
      "text/html": [
       "<div>\n",
       "<style scoped>\n",
       "    .dataframe tbody tr th:only-of-type {\n",
       "        vertical-align: middle;\n",
       "    }\n",
       "\n",
       "    .dataframe tbody tr th {\n",
       "        vertical-align: top;\n",
       "    }\n",
       "\n",
       "    .dataframe thead th {\n",
       "        text-align: right;\n",
       "    }\n",
       "</style>\n",
       "<table border=\"1\" class=\"dataframe\">\n",
       "  <thead>\n",
       "    <tr style=\"text-align: right;\">\n",
       "      <th></th>\n",
       "      <th>object_type</th>\n",
       "      <th>mean</th>\n",
       "      <th>std</th>\n",
       "      <th>count</th>\n",
       "    </tr>\n",
       "  </thead>\n",
       "  <tbody>\n",
       "    <tr>\n",
       "      <th>8</th>\n",
       "      <td>столовая</td>\n",
       "      <td>130.3</td>\n",
       "      <td>95.2</td>\n",
       "      <td>2584</td>\n",
       "    </tr>\n",
       "  </tbody>\n",
       "</table>\n",
       "</div>"
      ],
      "text/plain": [
       "  object_type   mean   std  count\n",
       "8    столовая  130.3  95.2   2584"
      ]
     },
     "metadata": {},
     "output_type": "display_data"
    }
   ],
   "source": [
    "# группируем данные для подсчета среднего кол-ва мест\n",
    "seat = data.groupby('object_type')['number'].agg(\n",
    "    ['mean','std','count'\n",
    "    ]).reset_index().sort_values('mean', ascending=False).round(1)\n",
    "display(seat.head(1))\n"
   ]
  },
  {
   "cell_type": "code",
   "execution_count": 315,
   "metadata": {},
   "outputs": [],
   "source": [
    "# расчет CI для Bar plot'a количества мест в заведениях\n",
    "z=1.96\n",
    "seat['low_ci95'] = (seat['mean'] - z*(seat['std']/np.sqrt(seat['count']))).round(1)\n",
    "seat['upp_ci95'] = (seat['mean'] + z*(seat['std']/np.sqrt(seat['count']))).round(1)"
   ]
  },
  {
   "cell_type": "code",
   "execution_count": 316,
   "metadata": {},
   "outputs": [
    {
     "data": {
      "application/vnd.plotly.v1+json": {
       "config": {
        "plotlyServerURL": "https://plot.ly"
       },
       "data": [
        {
         "cells": {
          "values": [
           [
            "столовая",
            "ресторан",
            "буфет",
            "бар",
            "кафе",
            "предприятие быстрого обслуживания",
            "кафетерий",
            "закусочная",
            "магазин (отдел кулинарии)"
           ],
           [
            130.3,
            96.9,
            51.4,
            43.5,
            39.8,
            20.8,
            9.2,
            7.8,
            5.6
           ]
          ]
         },
         "domain": {
          "x": [
           0,
           0.45
          ],
          "y": [
           0,
           0.8
          ]
         },
         "header": {
          "values": [
           "Тип объекта",
           "Среднее кол-во мест"
          ]
         },
         "name": "first_plot",
         "type": "table"
        },
        {
         "error_y": {
          "array": [
           3.6999999999999886,
           3.8999999999999915,
           4.600000000000001,
           4.5,
           1,
           1.6999999999999993,
           1.4000000000000004,
           1.7999999999999998,
           1.2000000000000002
          ],
          "arrayminus": [
           3.700000000000017,
           3.9000000000000057,
           4.600000000000001,
           4.5,
           1,
           1.6999999999999993,
           1.3999999999999995,
           1.7999999999999998,
           1.1999999999999993
          ],
          "symmetric": false,
          "type": "data"
         },
         "name": "Кол-во мест",
         "type": "bar",
         "x": [
          "столовая",
          "ресторан",
          "буфет",
          "бар",
          "кафе",
          "предприятие быстрого обслуживания",
          "кафетерий",
          "закусочная",
          "магазин (отдел кулинарии)"
         ],
         "xaxis": "x",
         "y": [
          130.3,
          96.9,
          51.4,
          43.5,
          39.8,
          20.8,
          9.2,
          7.8,
          5.6
         ],
         "yaxis": "y"
        }
       ],
       "layout": {
        "height": 600,
        "margin": {
         "b": 0,
         "l": 0,
         "r": 0,
         "t": 50
        },
        "template": {
         "data": {
          "bar": [
           {
            "error_x": {
             "color": "#2a3f5f"
            },
            "error_y": {
             "color": "#2a3f5f"
            },
            "marker": {
             "line": {
              "color": "#E5ECF6",
              "width": 0.5
             },
             "pattern": {
              "fillmode": "overlay",
              "size": 10,
              "solidity": 0.2
             }
            },
            "type": "bar"
           }
          ],
          "barpolar": [
           {
            "marker": {
             "line": {
              "color": "#E5ECF6",
              "width": 0.5
             },
             "pattern": {
              "fillmode": "overlay",
              "size": 10,
              "solidity": 0.2
             }
            },
            "type": "barpolar"
           }
          ],
          "carpet": [
           {
            "aaxis": {
             "endlinecolor": "#2a3f5f",
             "gridcolor": "white",
             "linecolor": "white",
             "minorgridcolor": "white",
             "startlinecolor": "#2a3f5f"
            },
            "baxis": {
             "endlinecolor": "#2a3f5f",
             "gridcolor": "white",
             "linecolor": "white",
             "minorgridcolor": "white",
             "startlinecolor": "#2a3f5f"
            },
            "type": "carpet"
           }
          ],
          "choropleth": [
           {
            "colorbar": {
             "outlinewidth": 0,
             "ticks": ""
            },
            "type": "choropleth"
           }
          ],
          "contour": [
           {
            "colorbar": {
             "outlinewidth": 0,
             "ticks": ""
            },
            "colorscale": [
             [
              0,
              "#0d0887"
             ],
             [
              0.1111111111111111,
              "#46039f"
             ],
             [
              0.2222222222222222,
              "#7201a8"
             ],
             [
              0.3333333333333333,
              "#9c179e"
             ],
             [
              0.4444444444444444,
              "#bd3786"
             ],
             [
              0.5555555555555556,
              "#d8576b"
             ],
             [
              0.6666666666666666,
              "#ed7953"
             ],
             [
              0.7777777777777778,
              "#fb9f3a"
             ],
             [
              0.8888888888888888,
              "#fdca26"
             ],
             [
              1,
              "#f0f921"
             ]
            ],
            "type": "contour"
           }
          ],
          "contourcarpet": [
           {
            "colorbar": {
             "outlinewidth": 0,
             "ticks": ""
            },
            "type": "contourcarpet"
           }
          ],
          "heatmap": [
           {
            "colorbar": {
             "outlinewidth": 0,
             "ticks": ""
            },
            "colorscale": [
             [
              0,
              "#0d0887"
             ],
             [
              0.1111111111111111,
              "#46039f"
             ],
             [
              0.2222222222222222,
              "#7201a8"
             ],
             [
              0.3333333333333333,
              "#9c179e"
             ],
             [
              0.4444444444444444,
              "#bd3786"
             ],
             [
              0.5555555555555556,
              "#d8576b"
             ],
             [
              0.6666666666666666,
              "#ed7953"
             ],
             [
              0.7777777777777778,
              "#fb9f3a"
             ],
             [
              0.8888888888888888,
              "#fdca26"
             ],
             [
              1,
              "#f0f921"
             ]
            ],
            "type": "heatmap"
           }
          ],
          "heatmapgl": [
           {
            "colorbar": {
             "outlinewidth": 0,
             "ticks": ""
            },
            "colorscale": [
             [
              0,
              "#0d0887"
             ],
             [
              0.1111111111111111,
              "#46039f"
             ],
             [
              0.2222222222222222,
              "#7201a8"
             ],
             [
              0.3333333333333333,
              "#9c179e"
             ],
             [
              0.4444444444444444,
              "#bd3786"
             ],
             [
              0.5555555555555556,
              "#d8576b"
             ],
             [
              0.6666666666666666,
              "#ed7953"
             ],
             [
              0.7777777777777778,
              "#fb9f3a"
             ],
             [
              0.8888888888888888,
              "#fdca26"
             ],
             [
              1,
              "#f0f921"
             ]
            ],
            "type": "heatmapgl"
           }
          ],
          "histogram": [
           {
            "marker": {
             "pattern": {
              "fillmode": "overlay",
              "size": 10,
              "solidity": 0.2
             }
            },
            "type": "histogram"
           }
          ],
          "histogram2d": [
           {
            "colorbar": {
             "outlinewidth": 0,
             "ticks": ""
            },
            "colorscale": [
             [
              0,
              "#0d0887"
             ],
             [
              0.1111111111111111,
              "#46039f"
             ],
             [
              0.2222222222222222,
              "#7201a8"
             ],
             [
              0.3333333333333333,
              "#9c179e"
             ],
             [
              0.4444444444444444,
              "#bd3786"
             ],
             [
              0.5555555555555556,
              "#d8576b"
             ],
             [
              0.6666666666666666,
              "#ed7953"
             ],
             [
              0.7777777777777778,
              "#fb9f3a"
             ],
             [
              0.8888888888888888,
              "#fdca26"
             ],
             [
              1,
              "#f0f921"
             ]
            ],
            "type": "histogram2d"
           }
          ],
          "histogram2dcontour": [
           {
            "colorbar": {
             "outlinewidth": 0,
             "ticks": ""
            },
            "colorscale": [
             [
              0,
              "#0d0887"
             ],
             [
              0.1111111111111111,
              "#46039f"
             ],
             [
              0.2222222222222222,
              "#7201a8"
             ],
             [
              0.3333333333333333,
              "#9c179e"
             ],
             [
              0.4444444444444444,
              "#bd3786"
             ],
             [
              0.5555555555555556,
              "#d8576b"
             ],
             [
              0.6666666666666666,
              "#ed7953"
             ],
             [
              0.7777777777777778,
              "#fb9f3a"
             ],
             [
              0.8888888888888888,
              "#fdca26"
             ],
             [
              1,
              "#f0f921"
             ]
            ],
            "type": "histogram2dcontour"
           }
          ],
          "mesh3d": [
           {
            "colorbar": {
             "outlinewidth": 0,
             "ticks": ""
            },
            "type": "mesh3d"
           }
          ],
          "parcoords": [
           {
            "line": {
             "colorbar": {
              "outlinewidth": 0,
              "ticks": ""
             }
            },
            "type": "parcoords"
           }
          ],
          "pie": [
           {
            "automargin": true,
            "type": "pie"
           }
          ],
          "scatter": [
           {
            "marker": {
             "colorbar": {
              "outlinewidth": 0,
              "ticks": ""
             }
            },
            "type": "scatter"
           }
          ],
          "scatter3d": [
           {
            "line": {
             "colorbar": {
              "outlinewidth": 0,
              "ticks": ""
             }
            },
            "marker": {
             "colorbar": {
              "outlinewidth": 0,
              "ticks": ""
             }
            },
            "type": "scatter3d"
           }
          ],
          "scattercarpet": [
           {
            "marker": {
             "colorbar": {
              "outlinewidth": 0,
              "ticks": ""
             }
            },
            "type": "scattercarpet"
           }
          ],
          "scattergeo": [
           {
            "marker": {
             "colorbar": {
              "outlinewidth": 0,
              "ticks": ""
             }
            },
            "type": "scattergeo"
           }
          ],
          "scattergl": [
           {
            "marker": {
             "colorbar": {
              "outlinewidth": 0,
              "ticks": ""
             }
            },
            "type": "scattergl"
           }
          ],
          "scattermapbox": [
           {
            "marker": {
             "colorbar": {
              "outlinewidth": 0,
              "ticks": ""
             }
            },
            "type": "scattermapbox"
           }
          ],
          "scatterpolar": [
           {
            "marker": {
             "colorbar": {
              "outlinewidth": 0,
              "ticks": ""
             }
            },
            "type": "scatterpolar"
           }
          ],
          "scatterpolargl": [
           {
            "marker": {
             "colorbar": {
              "outlinewidth": 0,
              "ticks": ""
             }
            },
            "type": "scatterpolargl"
           }
          ],
          "scatterternary": [
           {
            "marker": {
             "colorbar": {
              "outlinewidth": 0,
              "ticks": ""
             }
            },
            "type": "scatterternary"
           }
          ],
          "surface": [
           {
            "colorbar": {
             "outlinewidth": 0,
             "ticks": ""
            },
            "colorscale": [
             [
              0,
              "#0d0887"
             ],
             [
              0.1111111111111111,
              "#46039f"
             ],
             [
              0.2222222222222222,
              "#7201a8"
             ],
             [
              0.3333333333333333,
              "#9c179e"
             ],
             [
              0.4444444444444444,
              "#bd3786"
             ],
             [
              0.5555555555555556,
              "#d8576b"
             ],
             [
              0.6666666666666666,
              "#ed7953"
             ],
             [
              0.7777777777777778,
              "#fb9f3a"
             ],
             [
              0.8888888888888888,
              "#fdca26"
             ],
             [
              1,
              "#f0f921"
             ]
            ],
            "type": "surface"
           }
          ],
          "table": [
           {
            "cells": {
             "fill": {
              "color": "#EBF0F8"
             },
             "line": {
              "color": "white"
             }
            },
            "header": {
             "fill": {
              "color": "#C8D4E3"
             },
             "line": {
              "color": "white"
             }
            },
            "type": "table"
           }
          ]
         },
         "layout": {
          "annotationdefaults": {
           "arrowcolor": "#2a3f5f",
           "arrowhead": 0,
           "arrowwidth": 1
          },
          "autotypenumbers": "strict",
          "coloraxis": {
           "colorbar": {
            "outlinewidth": 0,
            "ticks": ""
           }
          },
          "colorscale": {
           "diverging": [
            [
             0,
             "#8e0152"
            ],
            [
             0.1,
             "#c51b7d"
            ],
            [
             0.2,
             "#de77ae"
            ],
            [
             0.3,
             "#f1b6da"
            ],
            [
             0.4,
             "#fde0ef"
            ],
            [
             0.5,
             "#f7f7f7"
            ],
            [
             0.6,
             "#e6f5d0"
            ],
            [
             0.7,
             "#b8e186"
            ],
            [
             0.8,
             "#7fbc41"
            ],
            [
             0.9,
             "#4d9221"
            ],
            [
             1,
             "#276419"
            ]
           ],
           "sequential": [
            [
             0,
             "#0d0887"
            ],
            [
             0.1111111111111111,
             "#46039f"
            ],
            [
             0.2222222222222222,
             "#7201a8"
            ],
            [
             0.3333333333333333,
             "#9c179e"
            ],
            [
             0.4444444444444444,
             "#bd3786"
            ],
            [
             0.5555555555555556,
             "#d8576b"
            ],
            [
             0.6666666666666666,
             "#ed7953"
            ],
            [
             0.7777777777777778,
             "#fb9f3a"
            ],
            [
             0.8888888888888888,
             "#fdca26"
            ],
            [
             1,
             "#f0f921"
            ]
           ],
           "sequentialminus": [
            [
             0,
             "#0d0887"
            ],
            [
             0.1111111111111111,
             "#46039f"
            ],
            [
             0.2222222222222222,
             "#7201a8"
            ],
            [
             0.3333333333333333,
             "#9c179e"
            ],
            [
             0.4444444444444444,
             "#bd3786"
            ],
            [
             0.5555555555555556,
             "#d8576b"
            ],
            [
             0.6666666666666666,
             "#ed7953"
            ],
            [
             0.7777777777777778,
             "#fb9f3a"
            ],
            [
             0.8888888888888888,
             "#fdca26"
            ],
            [
             1,
             "#f0f921"
            ]
           ]
          },
          "colorway": [
           "#636efa",
           "#EF553B",
           "#00cc96",
           "#ab63fa",
           "#FFA15A",
           "#19d3f3",
           "#FF6692",
           "#B6E880",
           "#FF97FF",
           "#FECB52"
          ],
          "font": {
           "color": "#2a3f5f"
          },
          "geo": {
           "bgcolor": "white",
           "lakecolor": "white",
           "landcolor": "#E5ECF6",
           "showlakes": true,
           "showland": true,
           "subunitcolor": "white"
          },
          "hoverlabel": {
           "align": "left"
          },
          "hovermode": "closest",
          "mapbox": {
           "style": "light"
          },
          "paper_bgcolor": "white",
          "plot_bgcolor": "#E5ECF6",
          "polar": {
           "angularaxis": {
            "gridcolor": "white",
            "linecolor": "white",
            "ticks": ""
           },
           "bgcolor": "#E5ECF6",
           "radialaxis": {
            "gridcolor": "white",
            "linecolor": "white",
            "ticks": ""
           }
          },
          "scene": {
           "xaxis": {
            "backgroundcolor": "#E5ECF6",
            "gridcolor": "white",
            "gridwidth": 2,
            "linecolor": "white",
            "showbackground": true,
            "ticks": "",
            "zerolinecolor": "white"
           },
           "yaxis": {
            "backgroundcolor": "#E5ECF6",
            "gridcolor": "white",
            "gridwidth": 2,
            "linecolor": "white",
            "showbackground": true,
            "ticks": "",
            "zerolinecolor": "white"
           },
           "zaxis": {
            "backgroundcolor": "#E5ECF6",
            "gridcolor": "white",
            "gridwidth": 2,
            "linecolor": "white",
            "showbackground": true,
            "ticks": "",
            "zerolinecolor": "white"
           }
          },
          "shapedefaults": {
           "line": {
            "color": "#2a3f5f"
           }
          },
          "ternary": {
           "aaxis": {
            "gridcolor": "white",
            "linecolor": "white",
            "ticks": ""
           },
           "baxis": {
            "gridcolor": "white",
            "linecolor": "white",
            "ticks": ""
           },
           "bgcolor": "#E5ECF6",
           "caxis": {
            "gridcolor": "white",
            "linecolor": "white",
            "ticks": ""
           }
          },
          "title": {
           "x": 0.05
          },
          "xaxis": {
           "automargin": true,
           "gridcolor": "white",
           "linecolor": "white",
           "ticks": "",
           "title": {
            "standoff": 15
           },
           "zerolinecolor": "white",
           "zerolinewidth": 2
          },
          "yaxis": {
           "automargin": true,
           "gridcolor": "white",
           "linecolor": "white",
           "ticks": "",
           "title": {
            "standoff": 15
           },
           "zerolinecolor": "white",
           "zerolinewidth": 2
          }
         }
        },
        "title": {
         "font": {
          "color": "black",
          "size": 20
         },
         "text": "Среднее кол-во посадочных мест",
         "x": 0.5,
         "xanchor": "center"
        },
        "width": 950,
        "xaxis": {
         "anchor": "y",
         "domain": [
          0.55,
          1
         ]
        },
        "yaxis": {
         "anchor": "x",
         "domain": [
          0,
          1
         ]
        }
       }
      },
      "text/html": [
       "<div>                            <div id=\"d1c6847b-02d9-4a97-af50-f04a7953f7b3\" class=\"plotly-graph-div\" style=\"height:600px; width:950px;\"></div>            <script type=\"text/javascript\">                require([\"plotly\"], function(Plotly) {                    window.PLOTLYENV=window.PLOTLYENV || {};                                    if (document.getElementById(\"d1c6847b-02d9-4a97-af50-f04a7953f7b3\")) {                    Plotly.newPlot(                        \"d1c6847b-02d9-4a97-af50-f04a7953f7b3\",                        [{\"cells\":{\"values\":[[\"\\u0441\\u0442\\u043e\\u043b\\u043e\\u0432\\u0430\\u044f\",\"\\u0440\\u0435\\u0441\\u0442\\u043e\\u0440\\u0430\\u043d\",\"\\u0431\\u0443\\u0444\\u0435\\u0442\",\"\\u0431\\u0430\\u0440\",\"\\u043a\\u0430\\u0444\\u0435\",\"\\u043f\\u0440\\u0435\\u0434\\u043f\\u0440\\u0438\\u044f\\u0442\\u0438\\u0435 \\u0431\\u044b\\u0441\\u0442\\u0440\\u043e\\u0433\\u043e \\u043e\\u0431\\u0441\\u043b\\u0443\\u0436\\u0438\\u0432\\u0430\\u043d\\u0438\\u044f\",\"\\u043a\\u0430\\u0444\\u0435\\u0442\\u0435\\u0440\\u0438\\u0439\",\"\\u0437\\u0430\\u043a\\u0443\\u0441\\u043e\\u0447\\u043d\\u0430\\u044f\",\"\\u043c\\u0430\\u0433\\u0430\\u0437\\u0438\\u043d (\\u043e\\u0442\\u0434\\u0435\\u043b \\u043a\\u0443\\u043b\\u0438\\u043d\\u0430\\u0440\\u0438\\u0438)\"],[130.3,96.9,51.4,43.5,39.8,20.8,9.2,7.8,5.6]]},\"header\":{\"values\":[\"\\u0422\\u0438\\u043f \\u043e\\u0431\\u044a\\u0435\\u043a\\u0442\\u0430\",\"\\u0421\\u0440\\u0435\\u0434\\u043d\\u0435\\u0435 \\u043a\\u043e\\u043b-\\u0432\\u043e \\u043c\\u0435\\u0441\\u0442\"]},\"name\":\"first_plot\",\"type\":\"table\",\"domain\":{\"x\":[0.0,0.45],\"y\":[0,0.8]}},{\"error_y\":{\"array\":[3.6999999999999886,3.8999999999999915,4.600000000000001,4.5,1.0,1.6999999999999993,1.4000000000000004,1.7999999999999998,1.2000000000000002],\"arrayminus\":[3.700000000000017,3.9000000000000057,4.600000000000001,4.5,1.0,1.6999999999999993,1.3999999999999995,1.7999999999999998,1.1999999999999993],\"symmetric\":false,\"type\":\"data\"},\"name\":\"\\u041a\\u043e\\u043b-\\u0432\\u043e \\u043c\\u0435\\u0441\\u0442\",\"x\":[\"\\u0441\\u0442\\u043e\\u043b\\u043e\\u0432\\u0430\\u044f\",\"\\u0440\\u0435\\u0441\\u0442\\u043e\\u0440\\u0430\\u043d\",\"\\u0431\\u0443\\u0444\\u0435\\u0442\",\"\\u0431\\u0430\\u0440\",\"\\u043a\\u0430\\u0444\\u0435\",\"\\u043f\\u0440\\u0435\\u0434\\u043f\\u0440\\u0438\\u044f\\u0442\\u0438\\u0435 \\u0431\\u044b\\u0441\\u0442\\u0440\\u043e\\u0433\\u043e \\u043e\\u0431\\u0441\\u043b\\u0443\\u0436\\u0438\\u0432\\u0430\\u043d\\u0438\\u044f\",\"\\u043a\\u0430\\u0444\\u0435\\u0442\\u0435\\u0440\\u0438\\u0439\",\"\\u0437\\u0430\\u043a\\u0443\\u0441\\u043e\\u0447\\u043d\\u0430\\u044f\",\"\\u043c\\u0430\\u0433\\u0430\\u0437\\u0438\\u043d (\\u043e\\u0442\\u0434\\u0435\\u043b \\u043a\\u0443\\u043b\\u0438\\u043d\\u0430\\u0440\\u0438\\u0438)\"],\"y\":[130.3,96.9,51.4,43.5,39.8,20.8,9.2,7.8,5.6],\"type\":\"bar\",\"xaxis\":\"x\",\"yaxis\":\"y\"}],                        {\"template\":{\"data\":{\"bar\":[{\"error_x\":{\"color\":\"#2a3f5f\"},\"error_y\":{\"color\":\"#2a3f5f\"},\"marker\":{\"line\":{\"color\":\"#E5ECF6\",\"width\":0.5},\"pattern\":{\"fillmode\":\"overlay\",\"size\":10,\"solidity\":0.2}},\"type\":\"bar\"}],\"barpolar\":[{\"marker\":{\"line\":{\"color\":\"#E5ECF6\",\"width\":0.5},\"pattern\":{\"fillmode\":\"overlay\",\"size\":10,\"solidity\":0.2}},\"type\":\"barpolar\"}],\"carpet\":[{\"aaxis\":{\"endlinecolor\":\"#2a3f5f\",\"gridcolor\":\"white\",\"linecolor\":\"white\",\"minorgridcolor\":\"white\",\"startlinecolor\":\"#2a3f5f\"},\"baxis\":{\"endlinecolor\":\"#2a3f5f\",\"gridcolor\":\"white\",\"linecolor\":\"white\",\"minorgridcolor\":\"white\",\"startlinecolor\":\"#2a3f5f\"},\"type\":\"carpet\"}],\"choropleth\":[{\"colorbar\":{\"outlinewidth\":0,\"ticks\":\"\"},\"type\":\"choropleth\"}],\"contour\":[{\"colorbar\":{\"outlinewidth\":0,\"ticks\":\"\"},\"colorscale\":[[0.0,\"#0d0887\"],[0.1111111111111111,\"#46039f\"],[0.2222222222222222,\"#7201a8\"],[0.3333333333333333,\"#9c179e\"],[0.4444444444444444,\"#bd3786\"],[0.5555555555555556,\"#d8576b\"],[0.6666666666666666,\"#ed7953\"],[0.7777777777777778,\"#fb9f3a\"],[0.8888888888888888,\"#fdca26\"],[1.0,\"#f0f921\"]],\"type\":\"contour\"}],\"contourcarpet\":[{\"colorbar\":{\"outlinewidth\":0,\"ticks\":\"\"},\"type\":\"contourcarpet\"}],\"heatmap\":[{\"colorbar\":{\"outlinewidth\":0,\"ticks\":\"\"},\"colorscale\":[[0.0,\"#0d0887\"],[0.1111111111111111,\"#46039f\"],[0.2222222222222222,\"#7201a8\"],[0.3333333333333333,\"#9c179e\"],[0.4444444444444444,\"#bd3786\"],[0.5555555555555556,\"#d8576b\"],[0.6666666666666666,\"#ed7953\"],[0.7777777777777778,\"#fb9f3a\"],[0.8888888888888888,\"#fdca26\"],[1.0,\"#f0f921\"]],\"type\":\"heatmap\"}],\"heatmapgl\":[{\"colorbar\":{\"outlinewidth\":0,\"ticks\":\"\"},\"colorscale\":[[0.0,\"#0d0887\"],[0.1111111111111111,\"#46039f\"],[0.2222222222222222,\"#7201a8\"],[0.3333333333333333,\"#9c179e\"],[0.4444444444444444,\"#bd3786\"],[0.5555555555555556,\"#d8576b\"],[0.6666666666666666,\"#ed7953\"],[0.7777777777777778,\"#fb9f3a\"],[0.8888888888888888,\"#fdca26\"],[1.0,\"#f0f921\"]],\"type\":\"heatmapgl\"}],\"histogram\":[{\"marker\":{\"pattern\":{\"fillmode\":\"overlay\",\"size\":10,\"solidity\":0.2}},\"type\":\"histogram\"}],\"histogram2d\":[{\"colorbar\":{\"outlinewidth\":0,\"ticks\":\"\"},\"colorscale\":[[0.0,\"#0d0887\"],[0.1111111111111111,\"#46039f\"],[0.2222222222222222,\"#7201a8\"],[0.3333333333333333,\"#9c179e\"],[0.4444444444444444,\"#bd3786\"],[0.5555555555555556,\"#d8576b\"],[0.6666666666666666,\"#ed7953\"],[0.7777777777777778,\"#fb9f3a\"],[0.8888888888888888,\"#fdca26\"],[1.0,\"#f0f921\"]],\"type\":\"histogram2d\"}],\"histogram2dcontour\":[{\"colorbar\":{\"outlinewidth\":0,\"ticks\":\"\"},\"colorscale\":[[0.0,\"#0d0887\"],[0.1111111111111111,\"#46039f\"],[0.2222222222222222,\"#7201a8\"],[0.3333333333333333,\"#9c179e\"],[0.4444444444444444,\"#bd3786\"],[0.5555555555555556,\"#d8576b\"],[0.6666666666666666,\"#ed7953\"],[0.7777777777777778,\"#fb9f3a\"],[0.8888888888888888,\"#fdca26\"],[1.0,\"#f0f921\"]],\"type\":\"histogram2dcontour\"}],\"mesh3d\":[{\"colorbar\":{\"outlinewidth\":0,\"ticks\":\"\"},\"type\":\"mesh3d\"}],\"parcoords\":[{\"line\":{\"colorbar\":{\"outlinewidth\":0,\"ticks\":\"\"}},\"type\":\"parcoords\"}],\"pie\":[{\"automargin\":true,\"type\":\"pie\"}],\"scatter\":[{\"marker\":{\"colorbar\":{\"outlinewidth\":0,\"ticks\":\"\"}},\"type\":\"scatter\"}],\"scatter3d\":[{\"line\":{\"colorbar\":{\"outlinewidth\":0,\"ticks\":\"\"}},\"marker\":{\"colorbar\":{\"outlinewidth\":0,\"ticks\":\"\"}},\"type\":\"scatter3d\"}],\"scattercarpet\":[{\"marker\":{\"colorbar\":{\"outlinewidth\":0,\"ticks\":\"\"}},\"type\":\"scattercarpet\"}],\"scattergeo\":[{\"marker\":{\"colorbar\":{\"outlinewidth\":0,\"ticks\":\"\"}},\"type\":\"scattergeo\"}],\"scattergl\":[{\"marker\":{\"colorbar\":{\"outlinewidth\":0,\"ticks\":\"\"}},\"type\":\"scattergl\"}],\"scattermapbox\":[{\"marker\":{\"colorbar\":{\"outlinewidth\":0,\"ticks\":\"\"}},\"type\":\"scattermapbox\"}],\"scatterpolar\":[{\"marker\":{\"colorbar\":{\"outlinewidth\":0,\"ticks\":\"\"}},\"type\":\"scatterpolar\"}],\"scatterpolargl\":[{\"marker\":{\"colorbar\":{\"outlinewidth\":0,\"ticks\":\"\"}},\"type\":\"scatterpolargl\"}],\"scatterternary\":[{\"marker\":{\"colorbar\":{\"outlinewidth\":0,\"ticks\":\"\"}},\"type\":\"scatterternary\"}],\"surface\":[{\"colorbar\":{\"outlinewidth\":0,\"ticks\":\"\"},\"colorscale\":[[0.0,\"#0d0887\"],[0.1111111111111111,\"#46039f\"],[0.2222222222222222,\"#7201a8\"],[0.3333333333333333,\"#9c179e\"],[0.4444444444444444,\"#bd3786\"],[0.5555555555555556,\"#d8576b\"],[0.6666666666666666,\"#ed7953\"],[0.7777777777777778,\"#fb9f3a\"],[0.8888888888888888,\"#fdca26\"],[1.0,\"#f0f921\"]],\"type\":\"surface\"}],\"table\":[{\"cells\":{\"fill\":{\"color\":\"#EBF0F8\"},\"line\":{\"color\":\"white\"}},\"header\":{\"fill\":{\"color\":\"#C8D4E3\"},\"line\":{\"color\":\"white\"}},\"type\":\"table\"}]},\"layout\":{\"annotationdefaults\":{\"arrowcolor\":\"#2a3f5f\",\"arrowhead\":0,\"arrowwidth\":1},\"autotypenumbers\":\"strict\",\"coloraxis\":{\"colorbar\":{\"outlinewidth\":0,\"ticks\":\"\"}},\"colorscale\":{\"diverging\":[[0,\"#8e0152\"],[0.1,\"#c51b7d\"],[0.2,\"#de77ae\"],[0.3,\"#f1b6da\"],[0.4,\"#fde0ef\"],[0.5,\"#f7f7f7\"],[0.6,\"#e6f5d0\"],[0.7,\"#b8e186\"],[0.8,\"#7fbc41\"],[0.9,\"#4d9221\"],[1,\"#276419\"]],\"sequential\":[[0.0,\"#0d0887\"],[0.1111111111111111,\"#46039f\"],[0.2222222222222222,\"#7201a8\"],[0.3333333333333333,\"#9c179e\"],[0.4444444444444444,\"#bd3786\"],[0.5555555555555556,\"#d8576b\"],[0.6666666666666666,\"#ed7953\"],[0.7777777777777778,\"#fb9f3a\"],[0.8888888888888888,\"#fdca26\"],[1.0,\"#f0f921\"]],\"sequentialminus\":[[0.0,\"#0d0887\"],[0.1111111111111111,\"#46039f\"],[0.2222222222222222,\"#7201a8\"],[0.3333333333333333,\"#9c179e\"],[0.4444444444444444,\"#bd3786\"],[0.5555555555555556,\"#d8576b\"],[0.6666666666666666,\"#ed7953\"],[0.7777777777777778,\"#fb9f3a\"],[0.8888888888888888,\"#fdca26\"],[1.0,\"#f0f921\"]]},\"colorway\":[\"#636efa\",\"#EF553B\",\"#00cc96\",\"#ab63fa\",\"#FFA15A\",\"#19d3f3\",\"#FF6692\",\"#B6E880\",\"#FF97FF\",\"#FECB52\"],\"font\":{\"color\":\"#2a3f5f\"},\"geo\":{\"bgcolor\":\"white\",\"lakecolor\":\"white\",\"landcolor\":\"#E5ECF6\",\"showlakes\":true,\"showland\":true,\"subunitcolor\":\"white\"},\"hoverlabel\":{\"align\":\"left\"},\"hovermode\":\"closest\",\"mapbox\":{\"style\":\"light\"},\"paper_bgcolor\":\"white\",\"plot_bgcolor\":\"#E5ECF6\",\"polar\":{\"angularaxis\":{\"gridcolor\":\"white\",\"linecolor\":\"white\",\"ticks\":\"\"},\"bgcolor\":\"#E5ECF6\",\"radialaxis\":{\"gridcolor\":\"white\",\"linecolor\":\"white\",\"ticks\":\"\"}},\"scene\":{\"xaxis\":{\"backgroundcolor\":\"#E5ECF6\",\"gridcolor\":\"white\",\"gridwidth\":2,\"linecolor\":\"white\",\"showbackground\":true,\"ticks\":\"\",\"zerolinecolor\":\"white\"},\"yaxis\":{\"backgroundcolor\":\"#E5ECF6\",\"gridcolor\":\"white\",\"gridwidth\":2,\"linecolor\":\"white\",\"showbackground\":true,\"ticks\":\"\",\"zerolinecolor\":\"white\"},\"zaxis\":{\"backgroundcolor\":\"#E5ECF6\",\"gridcolor\":\"white\",\"gridwidth\":2,\"linecolor\":\"white\",\"showbackground\":true,\"ticks\":\"\",\"zerolinecolor\":\"white\"}},\"shapedefaults\":{\"line\":{\"color\":\"#2a3f5f\"}},\"ternary\":{\"aaxis\":{\"gridcolor\":\"white\",\"linecolor\":\"white\",\"ticks\":\"\"},\"baxis\":{\"gridcolor\":\"white\",\"linecolor\":\"white\",\"ticks\":\"\"},\"bgcolor\":\"#E5ECF6\",\"caxis\":{\"gridcolor\":\"white\",\"linecolor\":\"white\",\"ticks\":\"\"}},\"title\":{\"x\":0.05},\"xaxis\":{\"automargin\":true,\"gridcolor\":\"white\",\"linecolor\":\"white\",\"ticks\":\"\",\"title\":{\"standoff\":15},\"zerolinecolor\":\"white\",\"zerolinewidth\":2},\"yaxis\":{\"automargin\":true,\"gridcolor\":\"white\",\"linecolor\":\"white\",\"ticks\":\"\",\"title\":{\"standoff\":15},\"zerolinecolor\":\"white\",\"zerolinewidth\":2}}},\"xaxis\":{\"anchor\":\"y\",\"domain\":[0.55,1.0]},\"yaxis\":{\"anchor\":\"x\",\"domain\":[0.0,1.0]},\"title\":{\"font\":{\"size\":20,\"color\":\"black\"},\"text\":\"\\u0421\\u0440\\u0435\\u0434\\u043d\\u0435\\u0435 \\u043a\\u043e\\u043b-\\u0432\\u043e \\u043f\\u043e\\u0441\\u0430\\u0434\\u043e\\u0447\\u043d\\u044b\\u0445 \\u043c\\u0435\\u0441\\u0442\",\"xanchor\":\"center\",\"x\":0.5},\"margin\":{\"r\":0,\"l\":0,\"t\":50,\"b\":0},\"width\":950,\"height\":600},                        {\"responsive\": true}                    ).then(function(){\n",
       "                            \n",
       "var gd = document.getElementById('d1c6847b-02d9-4a97-af50-f04a7953f7b3');\n",
       "var x = new MutationObserver(function (mutations, observer) {{\n",
       "        var display = window.getComputedStyle(gd).display;\n",
       "        if (!display || display === 'none') {{\n",
       "            console.log([gd, 'removed!']);\n",
       "            Plotly.purge(gd);\n",
       "            observer.disconnect();\n",
       "        }}\n",
       "}});\n",
       "\n",
       "// Listen for the removal of the full notebook cells\n",
       "var notebookContainer = gd.closest('#notebook-container');\n",
       "if (notebookContainer) {{\n",
       "    x.observe(notebookContainer, {childList: true});\n",
       "}}\n",
       "\n",
       "// Listen for the clearing of the current output cell\n",
       "var outputEl = gd.closest('.output');\n",
       "if (outputEl) {{\n",
       "    x.observe(outputEl, {childList: true});\n",
       "}}\n",
       "\n",
       "                        })                };                });            </script>        </div>"
      ]
     },
     "metadata": {},
     "output_type": "display_data"
    }
   ],
   "source": [
    "fig = make_subplots(rows=1,cols=2,specs=[[{'type':'domain'}, {'type':'xy'}]])\n",
    "fig.add_trace(go.Table(header=dict(values=['Тип объекта','Среднее кол-во мест']),\n",
    "                      cells=dict(values=[seat[k].to_list() for k in seat.columns[:2]]),\n",
    "                      name='first_plot'),1,1)\n",
    "\n",
    "fig.add_traces(go.Bar(x=seat['object_type'], y=seat['mean'],\n",
    "                      error_y={'type':'data',\n",
    "                                   'symmetric':False,\n",
    "                                   'array':seat['upp_ci95']-seat['mean'],\n",
    "                                   'arrayminus': seat['mean']-seat['low_ci95']},\n",
    "                      name='Кол-во мест'),1,2)\n",
    "fig.update_traces()\n",
    "fig.update_traces(domain=dict(x=[0, 0.45], y=[0, 0.80]), \n",
    "                  selector={'name':'first_plot'})\n",
    "fig.update_layout(width = 950, height = 600,\n",
    "                 title_text ='Среднее кол-во посадочных мест',\n",
    "                 title_font_size = 20,\n",
    "                 title_xanchor='center',\n",
    "                 title_x=.5,\n",
    "                 title_font_color='black',\n",
    "                 margin = dict(r=0,l=0,t=50,b=0))\n",
    "fig.show()"
   ]
  },
  {
   "cell_type": "markdown",
   "metadata": {},
   "source": [
    "***Вывод***  \n",
    "Наиболее крупными заведениями с точки зрения количества мест являются столовые - в среднем 130 мест, ща ними следуют рестораны и буфеты - 97 мест и 51 соответственно. Наименьшей вместимостью характеризуются отделы кулинарии магазинов - в среднем около 5 посадочных мест. "
   ]
  },
  {
   "cell_type": "markdown",
   "metadata": {},
   "source": [
    "## География заведений общественного питания Москвы."
   ]
  },
  {
   "cell_type": "markdown",
   "metadata": {},
   "source": [
    "Выделение в отдельный столбец информации об улице из столбца address .\n"
   ]
  },
  {
   "cell_type": "code",
   "execution_count": 323,
   "metadata": {},
   "outputs": [
    {
     "data": {
      "text/html": [
       "<div>\n",
       "<style scoped>\n",
       "    .dataframe tbody tr th:only-of-type {\n",
       "        vertical-align: middle;\n",
       "    }\n",
       "\n",
       "    .dataframe tbody tr th {\n",
       "        vertical-align: top;\n",
       "    }\n",
       "\n",
       "    .dataframe thead th {\n",
       "        text-align: right;\n",
       "    }\n",
       "</style>\n",
       "<table border=\"1\" class=\"dataframe\">\n",
       "  <thead>\n",
       "    <tr style=\"text-align: right;\">\n",
       "      <th></th>\n",
       "      <th>id</th>\n",
       "      <th>object_name</th>\n",
       "      <th>chain</th>\n",
       "      <th>object_type</th>\n",
       "      <th>address</th>\n",
       "      <th>number</th>\n",
       "      <th>street</th>\n",
       "    </tr>\n",
       "  </thead>\n",
       "  <tbody>\n",
       "    <tr>\n",
       "      <th>0</th>\n",
       "      <td>151635</td>\n",
       "      <td>сметана</td>\n",
       "      <td>нет</td>\n",
       "      <td>кафе</td>\n",
       "      <td>город москва, улица егора абакумова, дом 9</td>\n",
       "      <td>48</td>\n",
       "      <td>улица егора абакумова</td>\n",
       "    </tr>\n",
       "    <tr>\n",
       "      <th>1</th>\n",
       "      <td>77874</td>\n",
       "      <td>родник</td>\n",
       "      <td>нет</td>\n",
       "      <td>кафе</td>\n",
       "      <td>город москва, улица талалихина, дом 2/1, корпус 1</td>\n",
       "      <td>35</td>\n",
       "      <td>улица талалихина</td>\n",
       "    </tr>\n",
       "    <tr>\n",
       "      <th>2</th>\n",
       "      <td>24309</td>\n",
       "      <td>кафе «академия»</td>\n",
       "      <td>нет</td>\n",
       "      <td>кафе</td>\n",
       "      <td>город москва, абельмановская улица, дом 6</td>\n",
       "      <td>95</td>\n",
       "      <td>абельмановская улица</td>\n",
       "    </tr>\n",
       "  </tbody>\n",
       "</table>\n",
       "</div>"
      ],
      "text/plain": [
       "       id      object_name chain object_type  \\\n",
       "0  151635          сметана   нет        кафе   \n",
       "1   77874           родник   нет        кафе   \n",
       "2   24309  кафе «академия»   нет        кафе   \n",
       "\n",
       "                                             address  number  \\\n",
       "0         город москва, улица егора абакумова, дом 9      48   \n",
       "1  город москва, улица талалихина, дом 2/1, корпус 1      35   \n",
       "2          город москва, абельмановская улица, дом 6      95   \n",
       "\n",
       "                  street  \n",
       "0  улица егора абакумова  \n",
       "1       улица талалихина  \n",
       "2   абельмановская улица  "
      ]
     },
     "metadata": {},
     "output_type": "display_data"
    },
    {
     "data": {
      "text/plain": [
       "0"
      ]
     },
     "metadata": {},
     "output_type": "display_data"
    }
   ],
   "source": [
    "def street(addr):\n",
    "    addr=addr.split(',')\n",
    "    new=''\n",
    "    for i in addr:\n",
    "        if 'улица' in i or 'проспект' in i or 'переулок' in i or 'шоссе' in i or 'бульвар' in i or 'проезд' in i or 'набережная' in i or 'площадь' in i or 'аллея' in i or 'Проезд' in i or 'линия' in i or 'деревня' in i or 'тупик' in i or 'квартал' in i:\n",
    "            new += i\n",
    "        else:\n",
    "            pass\n",
    "    return new\n",
    "\n",
    "# возможно критерий отбора для улицы или иной территориальной единицы не оптимален, но лучше придумать не смог.\n",
    "data['street'] = data['address'].apply(street)\n",
    "data['street'] = data['street'].str.strip()\n",
    "display(data.head(3))\n",
    "\n",
    "display(data['street'].isnull().sum())"
   ]
  },
  {
   "cell_type": "markdown",
   "metadata": {},
   "source": [
    "<div style=\"border-radius: 15px; box-shadow: 4px 4px 4px; border: solid orange 2px; padding: 20px\"> <b>Что можно улучшить - ⚠️</b><br>\n",
    "Чтобы не писать много условий, можно использовать регулярку, а также есть довольно простой способ. Можно заметить, что улица обычно находиться между указанием города и дальнейшим адресом, этим можно воспользоваться</div> <br>"
   ]
  },
  {
   "cell_type": "code",
   "execution_count": 324,
   "metadata": {},
   "outputs": [
    {
     "data": {
      "text/html": [
       "<div>\n",
       "<style scoped>\n",
       "    .dataframe tbody tr th:only-of-type {\n",
       "        vertical-align: middle;\n",
       "    }\n",
       "\n",
       "    .dataframe tbody tr th {\n",
       "        vertical-align: top;\n",
       "    }\n",
       "\n",
       "    .dataframe thead th {\n",
       "        text-align: right;\n",
       "    }\n",
       "</style>\n",
       "<table border=\"1\" class=\"dataframe\">\n",
       "  <thead>\n",
       "    <tr style=\"text-align: right;\">\n",
       "      <th></th>\n",
       "      <th>0</th>\n",
       "      <th>1</th>\n",
       "      <th>2</th>\n",
       "      <th>3</th>\n",
       "      <th>4</th>\n",
       "      <th>5</th>\n",
       "      <th>6</th>\n",
       "    </tr>\n",
       "  </thead>\n",
       "  <tbody>\n",
       "    <tr>\n",
       "      <th>0</th>\n",
       "      <td>город москва</td>\n",
       "      <td>улица егора абакумова</td>\n",
       "      <td>дом 9</td>\n",
       "      <td>None</td>\n",
       "      <td>None</td>\n",
       "      <td>None</td>\n",
       "      <td>None</td>\n",
       "    </tr>\n",
       "    <tr>\n",
       "      <th>1</th>\n",
       "      <td>город москва</td>\n",
       "      <td>улица талалихина</td>\n",
       "      <td>дом 2/1</td>\n",
       "      <td>корпус 1</td>\n",
       "      <td>None</td>\n",
       "      <td>None</td>\n",
       "      <td>None</td>\n",
       "    </tr>\n",
       "    <tr>\n",
       "      <th>2</th>\n",
       "      <td>город москва</td>\n",
       "      <td>абельмановская улица</td>\n",
       "      <td>дом 6</td>\n",
       "      <td>None</td>\n",
       "      <td>None</td>\n",
       "      <td>None</td>\n",
       "      <td>None</td>\n",
       "    </tr>\n",
       "    <tr>\n",
       "      <th>3</th>\n",
       "      <td>город москва</td>\n",
       "      <td>абрамцевская улица</td>\n",
       "      <td>дом 1</td>\n",
       "      <td>None</td>\n",
       "      <td>None</td>\n",
       "      <td>None</td>\n",
       "      <td>None</td>\n",
       "    </tr>\n",
       "    <tr>\n",
       "      <th>4</th>\n",
       "      <td>город москва</td>\n",
       "      <td>абрамцевская улица</td>\n",
       "      <td>дом 9</td>\n",
       "      <td>корпус 1</td>\n",
       "      <td>None</td>\n",
       "      <td>None</td>\n",
       "      <td>None</td>\n",
       "    </tr>\n",
       "    <tr>\n",
       "      <th>...</th>\n",
       "      <td>...</td>\n",
       "      <td>...</td>\n",
       "      <td>...</td>\n",
       "      <td>...</td>\n",
       "      <td>...</td>\n",
       "      <td>...</td>\n",
       "      <td>...</td>\n",
       "    </tr>\n",
       "    <tr>\n",
       "      <th>15361</th>\n",
       "      <td>город москва</td>\n",
       "      <td>3-й крутицкий переулок</td>\n",
       "      <td>дом 18</td>\n",
       "      <td>None</td>\n",
       "      <td>None</td>\n",
       "      <td>None</td>\n",
       "      <td>None</td>\n",
       "    </tr>\n",
       "    <tr>\n",
       "      <th>15362</th>\n",
       "      <td>город москва</td>\n",
       "      <td>улица земляной вал</td>\n",
       "      <td>дом 33</td>\n",
       "      <td>None</td>\n",
       "      <td>None</td>\n",
       "      <td>None</td>\n",
       "      <td>None</td>\n",
       "    </tr>\n",
       "    <tr>\n",
       "      <th>15363</th>\n",
       "      <td>город москва</td>\n",
       "      <td>улица земляной вал</td>\n",
       "      <td>дом 33</td>\n",
       "      <td>None</td>\n",
       "      <td>None</td>\n",
       "      <td>None</td>\n",
       "      <td>None</td>\n",
       "    </tr>\n",
       "    <tr>\n",
       "      <th>15364</th>\n",
       "      <td>город москва</td>\n",
       "      <td>поселение московский</td>\n",
       "      <td>киевское шоссе</td>\n",
       "      <td>22-й километр</td>\n",
       "      <td>домовладение 4</td>\n",
       "      <td>строение 1</td>\n",
       "      <td>None</td>\n",
       "    </tr>\n",
       "    <tr>\n",
       "      <th>15365</th>\n",
       "      <td>город москва</td>\n",
       "      <td>ходынский бульвар</td>\n",
       "      <td>дом 4</td>\n",
       "      <td>None</td>\n",
       "      <td>None</td>\n",
       "      <td>None</td>\n",
       "      <td>None</td>\n",
       "    </tr>\n",
       "  </tbody>\n",
       "</table>\n",
       "<p>15281 rows × 7 columns</p>\n",
       "</div>"
      ],
      "text/plain": [
       "                  0                       1               2              3  \\\n",
       "0      город москва   улица егора абакумова           дом 9           None   \n",
       "1      город москва        улица талалихина         дом 2/1       корпус 1   \n",
       "2      город москва    абельмановская улица           дом 6           None   \n",
       "3      город москва      абрамцевская улица           дом 1           None   \n",
       "4      город москва      абрамцевская улица           дом 9       корпус 1   \n",
       "...             ...                     ...             ...            ...   \n",
       "15361  город москва  3-й крутицкий переулок          дом 18           None   \n",
       "15362  город москва      улица земляной вал          дом 33           None   \n",
       "15363  город москва      улица земляной вал          дом 33           None   \n",
       "15364  город москва    поселение московский  киевское шоссе  22-й километр   \n",
       "15365  город москва       ходынский бульвар           дом 4           None   \n",
       "\n",
       "                    4           5     6  \n",
       "0                None        None  None  \n",
       "1                None        None  None  \n",
       "2                None        None  None  \n",
       "3                None        None  None  \n",
       "4                None        None  None  \n",
       "...               ...         ...   ...  \n",
       "15361            None        None  None  \n",
       "15362            None        None  None  \n",
       "15363            None        None  None  \n",
       "15364  домовладение 4  строение 1  None  \n",
       "15365            None        None  None  \n",
       "\n",
       "[15281 rows x 7 columns]"
      ]
     },
     "execution_count": 324,
     "metadata": {},
     "output_type": "execute_result"
    }
   ],
   "source": [
    "data['address'].str.split(', ', expand=True)"
   ]
  },
  {
   "cell_type": "code",
   "execution_count": 325,
   "metadata": {},
   "outputs": [
    {
     "data": {
      "text/plain": [
       "город зеленоград          232\n",
       "проспект мира             203\n",
       "профсоюзная улица         181\n",
       "ленинградский проспект    170\n",
       "пресненская набережная    167\n",
       "                         ... \n",
       "дом 5/14                    1\n",
       "ащеулов переулок            1\n",
       "новолучанская улица         1\n",
       "зубарев переулок            1\n",
       "деревня дудкино             1\n",
       "Name: 1, Length: 1900, dtype: int64"
      ]
     },
     "execution_count": 325,
     "metadata": {},
     "output_type": "execute_result"
    }
   ],
   "source": [
    "# есть некорректности, но вопрос в их кол-ве\n",
    "data['address'].str.split(', ', expand=True)[1].value_counts()"
   ]
  },
  {
   "cell_type": "markdown",
   "metadata": {},
   "source": [
    "<div class=\"alert alert-info\">  \n",
    "Спасибо за подсказку, регулярки очень интересная тема и уже начал читать кое-что по этому поводу, но попробую пока закрыть остальные замечания"
   ]
  },
  {
   "cell_type": "markdown",
   "metadata": {},
   "source": [
    "<hr style=\"border: 2px solid orange;\" />"
   ]
  },
  {
   "cell_type": "markdown",
   "metadata": {},
   "source": [
    "# 7. Построение графика топ-10 улиц по количеству объектов общественного питания. Импорт внешней информации. Определение районов Москвы, в которых находятся эти улицы."
   ]
  },
  {
   "cell_type": "markdown",
   "metadata": {},
   "source": [
    "# 7.1 Импорт данных о районах Москвы"
   ]
  },
  {
   "cell_type": "code",
   "execution_count": 326,
   "metadata": {},
   "outputs": [
    {
     "data": {
      "text/html": [
       "<div>\n",
       "<style scoped>\n",
       "    .dataframe tbody tr th:only-of-type {\n",
       "        vertical-align: middle;\n",
       "    }\n",
       "\n",
       "    .dataframe tbody tr th {\n",
       "        vertical-align: top;\n",
       "    }\n",
       "\n",
       "    .dataframe thead th {\n",
       "        text-align: right;\n",
       "    }\n",
       "</style>\n",
       "<table border=\"1\" class=\"dataframe\">\n",
       "  <thead>\n",
       "    <tr style=\"text-align: right;\">\n",
       "      <th></th>\n",
       "      <th>street</th>\n",
       "      <th>areaid</th>\n",
       "      <th>okrug</th>\n",
       "      <th>area</th>\n",
       "    </tr>\n",
       "  </thead>\n",
       "  <tbody>\n",
       "    <tr>\n",
       "      <th>0</th>\n",
       "      <td>выставочный переулок</td>\n",
       "      <td>17</td>\n",
       "      <td>ЦАО</td>\n",
       "      <td>Пресненский район</td>\n",
       "    </tr>\n",
       "    <tr>\n",
       "      <th>1</th>\n",
       "      <td>улица гашека</td>\n",
       "      <td>17</td>\n",
       "      <td>ЦАО</td>\n",
       "      <td>Пресненский район</td>\n",
       "    </tr>\n",
       "    <tr>\n",
       "      <th>2</th>\n",
       "      <td>большая никитская улица</td>\n",
       "      <td>17</td>\n",
       "      <td>ЦАО</td>\n",
       "      <td>Пресненский район</td>\n",
       "    </tr>\n",
       "  </tbody>\n",
       "</table>\n",
       "</div>"
      ],
      "text/plain": [
       "                    street  areaid okrug               area\n",
       "0     выставочный переулок      17   ЦАО  Пресненский район\n",
       "1             улица гашека      17   ЦАО  Пресненский район\n",
       "2  большая никитская улица      17   ЦАО  Пресненский район"
      ]
     },
     "metadata": {},
     "output_type": "display_data"
    }
   ],
   "source": [
    "from io import BytesIO\n",
    "import requests\n",
    "spreadsheet_id = '1_g06cWHzwy-PGGrDqR-vP09_wmzRBs3xAHlaYq6s5FU'\n",
    "file_name = 'https://docs.google.com/spreadsheets/d/{}/export?format=csv'.format(spreadsheet_id)\n",
    "r = requests.get(file_name)\n",
    "df = pd.read_csv(BytesIO(r.content))\n",
    "\n",
    "df.columns = ['street','areaid','okrug','area']\n",
    "df['street']=df['street'].str.lower()\n",
    "\n",
    "display(df.head(3))\n"
   ]
  },
  {
   "cell_type": "markdown",
   "metadata": {},
   "source": [
    "***Вывод***  \n",
    "Импортирована база данных улиц и районов Москвы. "
   ]
  },
  {
   "cell_type": "markdown",
   "metadata": {},
   "source": [
    "<div style=\"border-radius: 15px; box-shadow: 4px 4px 4px; border: solid green 2px; padding: 20px\"> <b>Отличная работа - ✅</b><br>\n",
    "Клаасно, что использовал функционал Google Sheet для хранения внешних данных</div> <br>"
   ]
  },
  {
   "cell_type": "markdown",
   "metadata": {},
   "source": [
    "# 7.2 Определение топ-10 улиц Москвы по количеству общепитов"
   ]
  },
  {
   "cell_type": "code",
   "execution_count": 327,
   "metadata": {
    "scrolled": false
   },
   "outputs": [
    {
     "data": {
      "text/html": [
       "<div>\n",
       "<style scoped>\n",
       "    .dataframe tbody tr th:only-of-type {\n",
       "        vertical-align: middle;\n",
       "    }\n",
       "\n",
       "    .dataframe tbody tr th {\n",
       "        vertical-align: top;\n",
       "    }\n",
       "\n",
       "    .dataframe thead th {\n",
       "        text-align: right;\n",
       "    }\n",
       "</style>\n",
       "<table border=\"1\" class=\"dataframe\">\n",
       "  <thead>\n",
       "    <tr style=\"text-align: right;\">\n",
       "      <th></th>\n",
       "      <th>index</th>\n",
       "      <th>street</th>\n",
       "      <th>id</th>\n",
       "    </tr>\n",
       "  </thead>\n",
       "  <tbody>\n",
       "    <tr>\n",
       "      <th>1</th>\n",
       "      <td>1117</td>\n",
       "      <td>проспект мира</td>\n",
       "      <td>203</td>\n",
       "    </tr>\n",
       "    <tr>\n",
       "      <th>2</th>\n",
       "      <td>1121</td>\n",
       "      <td>профсоюзная улица</td>\n",
       "      <td>182</td>\n",
       "    </tr>\n",
       "    <tr>\n",
       "      <th>3</th>\n",
       "      <td>743</td>\n",
       "      <td>ленинградский проспект</td>\n",
       "      <td>172</td>\n",
       "    </tr>\n",
       "    <tr>\n",
       "      <th>4</th>\n",
       "      <td>1072</td>\n",
       "      <td>пресненская набережная</td>\n",
       "      <td>167</td>\n",
       "    </tr>\n",
       "    <tr>\n",
       "      <th>5</th>\n",
       "      <td>411</td>\n",
       "      <td>варшавское шоссе</td>\n",
       "      <td>165</td>\n",
       "    </tr>\n",
       "    <tr>\n",
       "      <th>6</th>\n",
       "      <td>746</td>\n",
       "      <td>ленинский проспект</td>\n",
       "      <td>148</td>\n",
       "    </tr>\n",
       "    <tr>\n",
       "      <th>7</th>\n",
       "      <td>1113</td>\n",
       "      <td>проспект вернадского</td>\n",
       "      <td>128</td>\n",
       "    </tr>\n",
       "    <tr>\n",
       "      <th>8</th>\n",
       "      <td>733</td>\n",
       "      <td>кутузовский проспект</td>\n",
       "      <td>114</td>\n",
       "    </tr>\n",
       "    <tr>\n",
       "      <th>9</th>\n",
       "      <td>653</td>\n",
       "      <td>каширское шоссе</td>\n",
       "      <td>111</td>\n",
       "    </tr>\n",
       "    <tr>\n",
       "      <th>10</th>\n",
       "      <td>663</td>\n",
       "      <td>кировоградская улица</td>\n",
       "      <td>108</td>\n",
       "    </tr>\n",
       "  </tbody>\n",
       "</table>\n",
       "</div>"
      ],
      "text/plain": [
       "    index                  street   id\n",
       "1    1117           проспект мира  203\n",
       "2    1121       профсоюзная улица  182\n",
       "3     743  ленинградский проспект  172\n",
       "4    1072  пресненская набережная  167\n",
       "5     411        варшавское шоссе  165\n",
       "6     746      ленинский проспект  148\n",
       "7    1113    проспект вернадского  128\n",
       "8     733    кутузовский проспект  114\n",
       "9     653         каширское шоссе  111\n",
       "10    663    кировоградская улица  108"
      ]
     },
     "metadata": {},
     "output_type": "display_data"
    },
    {
     "data": {
      "image/png": "[encoded data removed]",
      "text/plain": [
       "<Figure size 432x288 with 1 Axes>"
      ]
     },
     "metadata": {},
     "output_type": "display_data"
    }
   ],
   "source": [
    "pop_street = data.groupby('street')['id'].count().reset_index().sort_values('id', ascending=False)\n",
    "\n",
    "pop10=pop_street.reset_index().head(15)\n",
    "pop10['street'] = pop10['street'].str.strip()\n",
    "pop10=pop10.loc[1:10,]\n",
    "display(pop10)\n",
    "\n",
    "sns.barplot(x='street',y='id', data=pop10, palette='Blues_d')\n",
    "plt.xticks(rotation=90)\n",
    "plt.xlabel('Улица', fontweight='bold')\n",
    "plt.ylabel(\"Количество заведений общепита\", fontweight='bold')\n",
    "plt.title(\"Самые популярные улицы\",fontweight='bold')\n",
    "\n",
    "pop_area = pd.merge(pop10,df,how='left',on='street')"
   ]
  },
  {
   "cell_type": "markdown",
   "metadata": {},
   "source": [
    "<a class=\"anchor\" id=\"22-bullet\">"
   ]
  },
  {
   "cell_type": "markdown",
   "metadata": {},
   "source": [
    "<div style=\"border-radius: 15px; box-shadow: 4px 4px 4px; border: solid red 2px; padding: 20px\"> <b>Что необходимо доработать - ⛔️ 2</b><br>\n",
    "Выше встретилась ошибка исполнения - <code>NameError: name 'p1' is not defined</code></div><br>"
   ]
  },
  {
   "cell_type": "markdown",
   "metadata": {},
   "source": [
    "<div class=\"alert alert-info\">  \n",
    "Забыл заменить название переменной. Исправлено!"
   ]
  },
  {
   "cell_type": "markdown",
   "metadata": {},
   "source": [
    "<div style=\"border-radius: 15px; box-shadow: 4px 4px 4px; border: solid green 2px; padding: 20px\"> <b>Отличная работа 3</b><br>👍</div> "
   ]
  },
  {
   "cell_type": "markdown",
   "metadata": {},
   "source": [
    "# 7.3 Определение районов соответствующих топ-10 улиц."
   ]
  },
  {
   "cell_type": "code",
   "execution_count": 328,
   "metadata": {},
   "outputs": [
    {
     "data": {
      "text/html": [
       "<div>\n",
       "<style scoped>\n",
       "    .dataframe tbody tr th:only-of-type {\n",
       "        vertical-align: middle;\n",
       "    }\n",
       "\n",
       "    .dataframe tbody tr th {\n",
       "        vertical-align: top;\n",
       "    }\n",
       "\n",
       "    .dataframe thead th {\n",
       "        text-align: right;\n",
       "    }\n",
       "</style>\n",
       "<table border=\"1\" class=\"dataframe\">\n",
       "  <thead>\n",
       "    <tr style=\"text-align: right;\">\n",
       "      <th></th>\n",
       "      <th>street</th>\n",
       "      <th>area</th>\n",
       "    </tr>\n",
       "  </thead>\n",
       "  <tbody>\n",
       "    <tr>\n",
       "      <th>0</th>\n",
       "      <td>варшавское шоссе</td>\n",
       "      <td>[Район Чертаново Центральное, Район Чертаново ...</td>\n",
       "    </tr>\n",
       "    <tr>\n",
       "      <th>1</th>\n",
       "      <td>каширское шоссе</td>\n",
       "      <td>[Район Москворечье-Сабурово, Район Нагатино-Са...</td>\n",
       "    </tr>\n",
       "    <tr>\n",
       "      <th>2</th>\n",
       "      <td>кировоградская улица</td>\n",
       "      <td>[Район Чертаново Центральное, Район Чертаново ...</td>\n",
       "    </tr>\n",
       "    <tr>\n",
       "      <th>3</th>\n",
       "      <td>кутузовский проспект</td>\n",
       "      <td>[Район Дорогомилово, Район Фили-Давыдково]</td>\n",
       "    </tr>\n",
       "    <tr>\n",
       "      <th>4</th>\n",
       "      <td>ленинградский проспект</td>\n",
       "      <td>[Район Аэропорт, Район Беговой, Хорошевский ра...</td>\n",
       "    </tr>\n",
       "    <tr>\n",
       "      <th>5</th>\n",
       "      <td>ленинский проспект</td>\n",
       "      <td>[Район Проспект Вернадского, Район Тропарево-Н...</td>\n",
       "    </tr>\n",
       "    <tr>\n",
       "      <th>6</th>\n",
       "      <td>пресненская набережная</td>\n",
       "      <td>[Пресненский район]</td>\n",
       "    </tr>\n",
       "    <tr>\n",
       "      <th>7</th>\n",
       "      <td>проспект вернадского</td>\n",
       "      <td>[Район Проспект Вернадского, Район Раменки, Ра...</td>\n",
       "    </tr>\n",
       "    <tr>\n",
       "      <th>8</th>\n",
       "      <td>проспект мира</td>\n",
       "      <td>[Алексеевский район, Ярославский Район, Район ...</td>\n",
       "    </tr>\n",
       "    <tr>\n",
       "      <th>9</th>\n",
       "      <td>профсоюзная улица</td>\n",
       "      <td>[Академический район, Район Черемушки, Район Я...</td>\n",
       "    </tr>\n",
       "  </tbody>\n",
       "</table>\n",
       "</div>"
      ],
      "text/plain": [
       "                   street                                               area\n",
       "0        варшавское шоссе  [Район Чертаново Центральное, Район Чертаново ...\n",
       "1         каширское шоссе  [Район Москворечье-Сабурово, Район Нагатино-Са...\n",
       "2    кировоградская улица  [Район Чертаново Центральное, Район Чертаново ...\n",
       "3    кутузовский проспект         [Район Дорогомилово, Район Фили-Давыдково]\n",
       "4  ленинградский проспект  [Район Аэропорт, Район Беговой, Хорошевский ра...\n",
       "5      ленинский проспект  [Район Проспект Вернадского, Район Тропарево-Н...\n",
       "6  пресненская набережная                                [Пресненский район]\n",
       "7    проспект вернадского  [Район Проспект Вернадского, Район Раменки, Ра...\n",
       "8           проспект мира  [Алексеевский район, Ярославский Район, Район ...\n",
       "9       профсоюзная улица  [Академический район, Район Черемушки, Район Я..."
      ]
     },
     "metadata": {},
     "output_type": "display_data"
    },
    {
     "data": {
      "text/plain": [
       "48"
      ]
     },
     "metadata": {},
     "output_type": "display_data"
    }
   ],
   "source": [
    "un_area = pop_area.groupby('street').area.agg(['unique']).reset_index()\n",
    "un_area.columns = ['street','area']\n",
    "display(un_area)\n",
    "\n",
    "display(un_area['area'].apply(len).sum()) # Количество районов\n",
    "\n"
   ]
  },
  {
   "cell_type": "markdown",
   "metadata": {},
   "source": [
    "***Вывод***  \n",
    "На графике представлены улицы с наибольшим количеством заведений общественного питания, число которых варьирует от 204 на проспекте Мира до 108 на Кировоградской улице. Данные улицы имеют большое протяжение, в следствии чего относятся к 48 районам Москвы. 320 заведений объединены в одну группу т.к. в адресе данных заведений не указана улица, проспект или аналогичная территориальная единица. Для таких объектов характерно расположение в малонаселенных районах, наличие в них большого количества общепитов не характерно. \n"
   ]
  },
  {
   "cell_type": "markdown",
   "metadata": {},
   "source": [
    "<div style=\"border-radius: 15px; box-shadow: 4px 4px 4px; border: solid orange 2px; padding: 20px\"> <b>Что можно улучшить - ⚠️</b><br>\n",
    "Для удобства отображения таблицы, предлагаю агрегировать данные по улицам из топ-10 и собрать уникальные районы по которым проходит улица. Чтобы получить уникальный набор районов, можно в <code>agg</code> использовать или <code>unique</code> или <code>set</code></div> <br>"
   ]
  },
  {
   "cell_type": "markdown",
   "metadata": {},
   "source": [
    "<div class=\"alert alert-info\">  \n",
    "Наверное таблицу можно улучшить еще, но пока удался только вариант в п 7.3"
   ]
  },
  {
   "cell_type": "markdown",
   "metadata": {},
   "source": [
    "# 8. Определение числа улиц с одним объектом общественного питания. Определение районов Москвы, в которых находятся эти улицы."
   ]
  },
  {
   "cell_type": "code",
   "execution_count": 329,
   "metadata": {},
   "outputs": [
    {
     "data": {
      "text/plain": [
       "'Количество улиц с 1 заведением'"
      ]
     },
     "metadata": {},
     "output_type": "display_data"
    },
    {
     "data": {
      "text/plain": [
       "576"
      ]
     },
     "metadata": {},
     "output_type": "display_data"
    },
    {
     "data": {
      "text/plain": [
       "'Количество районов, в которых расположены эти улицы'"
      ]
     },
     "metadata": {},
     "output_type": "display_data"
    },
    {
     "data": {
      "text/plain": [
       "101"
      ]
     },
     "metadata": {},
     "output_type": "display_data"
    },
    {
     "data": {
      "text/html": [
       "<div>\n",
       "<style scoped>\n",
       "    .dataframe tbody tr th:only-of-type {\n",
       "        vertical-align: middle;\n",
       "    }\n",
       "\n",
       "    .dataframe tbody tr th {\n",
       "        vertical-align: top;\n",
       "    }\n",
       "\n",
       "    .dataframe thead th {\n",
       "        text-align: right;\n",
       "    }\n",
       "</style>\n",
       "<table border=\"1\" class=\"dataframe\">\n",
       "  <thead>\n",
       "    <tr style=\"text-align: right;\">\n",
       "      <th></th>\n",
       "      <th>area</th>\n",
       "      <th>street</th>\n",
       "    </tr>\n",
       "  </thead>\n",
       "  <tbody>\n",
       "    <tr>\n",
       "      <th>95</th>\n",
       "      <td>Таганский район</td>\n",
       "      <td>27</td>\n",
       "    </tr>\n",
       "    <tr>\n",
       "      <th>81</th>\n",
       "      <td>Район Хамовники</td>\n",
       "      <td>26</td>\n",
       "    </tr>\n",
       "    <tr>\n",
       "      <th>3</th>\n",
       "      <td>Басманный район</td>\n",
       "      <td>25</td>\n",
       "    </tr>\n",
       "    <tr>\n",
       "      <th>96</th>\n",
       "      <td>Тверской район</td>\n",
       "      <td>20</td>\n",
       "    </tr>\n",
       "    <tr>\n",
       "      <th>21</th>\n",
       "      <td>Пресненский район</td>\n",
       "      <td>20</td>\n",
       "    </tr>\n",
       "    <tr>\n",
       "      <th>22</th>\n",
       "      <td>Район Арбат</td>\n",
       "      <td>18</td>\n",
       "    </tr>\n",
       "    <tr>\n",
       "      <th>52</th>\n",
       "      <td>Район Марьина роща</td>\n",
       "      <td>18</td>\n",
       "    </tr>\n",
       "    <tr>\n",
       "      <th>13</th>\n",
       "      <td>Мещанский район</td>\n",
       "      <td>16</td>\n",
       "    </tr>\n",
       "    <tr>\n",
       "      <th>34</th>\n",
       "      <td>Район Замоскворечье</td>\n",
       "      <td>14</td>\n",
       "    </tr>\n",
       "    <tr>\n",
       "      <th>74</th>\n",
       "      <td>Район Соколиная Гора</td>\n",
       "      <td>12</td>\n",
       "    </tr>\n",
       "    <tr>\n",
       "      <th>48</th>\n",
       "      <td>Район Лефортово</td>\n",
       "      <td>12</td>\n",
       "    </tr>\n",
       "    <tr>\n",
       "      <th>75</th>\n",
       "      <td>Район Сокольники</td>\n",
       "      <td>11</td>\n",
       "    </tr>\n",
       "    <tr>\n",
       "      <th>8</th>\n",
       "      <td>Даниловский район</td>\n",
       "      <td>11</td>\n",
       "    </tr>\n",
       "    <tr>\n",
       "      <th>11</th>\n",
       "      <td>Красносельский район</td>\n",
       "      <td>10</td>\n",
       "    </tr>\n",
       "    <tr>\n",
       "      <th>26</th>\n",
       "      <td>Район Богородское</td>\n",
       "      <td>10</td>\n",
       "    </tr>\n",
       "    <tr>\n",
       "      <th>91</th>\n",
       "      <td>Район Якиманка</td>\n",
       "      <td>10</td>\n",
       "    </tr>\n",
       "    <tr>\n",
       "      <th>88</th>\n",
       "      <td>Район Южное Бутово</td>\n",
       "      <td>9</td>\n",
       "    </tr>\n",
       "    <tr>\n",
       "      <th>27</th>\n",
       "      <td>Район Внуково</td>\n",
       "      <td>9</td>\n",
       "    </tr>\n",
       "    <tr>\n",
       "      <th>17</th>\n",
       "      <td>Нижегородский район</td>\n",
       "      <td>9</td>\n",
       "    </tr>\n",
       "    <tr>\n",
       "      <th>50</th>\n",
       "      <td>Район Люблино</td>\n",
       "      <td>8</td>\n",
       "    </tr>\n",
       "  </tbody>\n",
       "</table>\n",
       "</div>"
      ],
      "text/plain": [
       "                    area  street\n",
       "95       Таганский район      27\n",
       "81       Район Хамовники      26\n",
       "3        Басманный район      25\n",
       "96        Тверской район      20\n",
       "21     Пресненский район      20\n",
       "22           Район Арбат      18\n",
       "52    Район Марьина роща      18\n",
       "13       Мещанский район      16\n",
       "34   Район Замоскворечье      14\n",
       "74  Район Соколиная Гора      12\n",
       "48       Район Лефортово      12\n",
       "75      Район Сокольники      11\n",
       "8      Даниловский район      11\n",
       "11  Красносельский район      10\n",
       "26     Район Богородское      10\n",
       "91        Район Якиманка      10\n",
       "88    Район Южное Бутово       9\n",
       "27         Район Внуково       9\n",
       "17   Нижегородский район       9\n",
       "50         Район Люблино       8"
      ]
     },
     "metadata": {},
     "output_type": "display_data"
    },
    {
     "data": {
      "text/plain": [
       "Text(0.5, 1.0, 'Районы с низкой конкуренцией')"
      ]
     },
     "execution_count": 329,
     "metadata": {},
     "output_type": "execute_result"
    },
    {
     "data": {
      "image/png": "[encoded data removed]",
      "text/plain": [
       "<Figure size 432x288 with 1 Axes>"
      ]
     },
     "metadata": {},
     "output_type": "display_data"
    }
   ],
   "source": [
    "one_obj = pop_street.query('id==1')\n",
    "display('Количество улиц с 1 заведением',one_obj['street'].count())\n",
    "\n",
    "one_obj_area = pd.merge(one_obj, df, how='left',on='street')\n",
    "display('Количество районов, в которых расположены эти улицы',len(one_obj_area['area'].value_counts()))\n",
    "\n",
    "one_obj_gr = one_obj_area.groupby('area')['street'].count().reset_index().sort_values('street', ascending=False)\n",
    "display(one_obj_gr.head(20))\n",
    "\n",
    "sns.barplot(x='area',y='street', data=one_obj_gr.head(20), palette='Blues_d')\n",
    "plt.xticks(rotation=90)\n",
    "plt.xlabel('Район', fontweight='bold')\n",
    "plt.ylabel(\"Количество улиц с 1 объектом\", fontweight='bold')\n",
    "plt.title(\"Районы с низкой конкуренцией\",fontweight='bold')"
   ]
  },
  {
   "cell_type": "markdown",
   "metadata": {},
   "source": [
    "***Вывод***  \n",
    "Полученные результаты указывают, что на 576 улицах располагается лишь одно заведение общественного питания. Указанные улицы распределены между 101 районом, с наибольшей концентрацией в таких районах как Таганский, Хамовники, Басманный, Тверской и Пресненский."
   ]
  },
  {
   "cell_type": "markdown",
   "metadata": {},
   "source": [
    "<div style=\"border-radius: 15px; box-shadow: 4px 4px 4px; border: solid red 2px; padding: 20px\"> <b>Что необходимо доработать - ⛔️</b><br>\n",
    "Сформируй таблицу - районы с кол-вом улиц с 1 заведением (не забудь отсортировать таблицу по убыванию кол-ва улиц)</div><br>"
   ]
  },
  {
   "cell_type": "markdown",
   "metadata": {},
   "source": [
    "<div class=\"alert alert-info\">  \n",
    "Таблица готова"
   ]
  },
  {
   "cell_type": "markdown",
   "metadata": {},
   "source": [
    "# 9. Оценка распределения количества посадочных мест для улиц с большим количеством объектов общественного питания. Определение закономерностей."
   ]
  },
  {
   "cell_type": "code",
   "execution_count": 331,
   "metadata": {},
   "outputs": [
    {
     "data": {
      "text/plain": [
       "'Описание посадочных мест на улицах с большим количеством общепитов'"
      ]
     },
     "metadata": {},
     "output_type": "display_data"
    },
    {
     "data": {
      "text/plain": [
       "count    1498.000000\n",
       "mean       58.216956\n",
       "std        90.154897\n",
       "min         0.000000\n",
       "25%        12.000000\n",
       "50%        40.000000\n",
       "75%        75.000000\n",
       "max      1700.000000\n",
       "Name: number, dtype: float64"
      ]
     },
     "metadata": {},
     "output_type": "display_data"
    },
    {
     "data": {
      "text/plain": [
       "'Описание посадочных мест на улицах с большим количеством общепитов, без выбросов'"
      ]
     },
     "metadata": {},
     "output_type": "display_data"
    },
    {
     "data": {
      "text/plain": [
       "count    1400.000000\n",
       "mean       42.300714\n",
       "std        38.387684\n",
       "min         0.000000\n",
       "25%        12.000000\n",
       "50%        32.000000\n",
       "75%        60.000000\n",
       "max       168.000000\n",
       "Name: number, dtype: float64"
      ]
     },
     "metadata": {},
     "output_type": "display_data"
    },
    {
     "data": {
      "text/plain": [
       "'Количество особенно крупных объектв:'"
      ]
     },
     "metadata": {},
     "output_type": "display_data"
    },
    {
     "data": {
      "text/plain": [
       "98"
      ]
     },
     "metadata": {},
     "output_type": "display_data"
    },
    {
     "name": "stderr",
     "output_type": "stream",
     "text": [
      "/home/daniil/.local/lib/python3.8/site-packages/seaborn/distributions.py:2619: FutureWarning:\n",
      "\n",
      "`distplot` is a deprecated function and will be removed in a future version. Please adapt your code to use either `displot` (a figure-level function with similar flexibility) or `histplot` (an axes-level function for histograms).\n",
      "\n"
     ]
    },
    {
     "data": {
      "image/png": "[encoded data removed]",
      "text/plain": [
       "<Figure size 1080x360 with 2 Axes>"
      ]
     },
     "metadata": {},
     "output_type": "display_data"
    }
   ],
   "source": [
    "st_list=pop10.street.tolist() \n",
    "main_st = data.query('street in @st_list')\n",
    "display('Описание посадочных мест на улицах с большим количеством общепитов', main_st['number'].describe())\n",
    "\n",
    "iqr_obj = main_st.query('number <=169')\n",
    "display('Описание посадочных мест на улицах с большим количеством общепитов, без выбросов', iqr_obj['number'].describe())\n",
    "display('Количество особенно крупных объектв:',main_st['number'].count()-iqr_obj['number'].count() )\n",
    "\n",
    "fig, axes = plt.subplots(1, 2, figsize=(15,5))\n",
    "sns.boxplot(ax=axes[0],y=iqr_obj['number'])\n",
    "plt.xlabel('Заведения общественного питания')\n",
    "plt.suptitle('Распределение количества посадочных мест')\n",
    "\n",
    "sns.distplot(iqr_obj['number'], norm_hist=True, bins=10,kde=True)\n",
    "plt.xlim(0, 170)\n",
    "plt.xlabel('Заведения общественного питания')\n",
    "plt.show()"
   ]
  },
  {
   "cell_type": "markdown",
   "metadata": {},
   "source": [
    "***Вывод***  \n",
    "Анализ данных показал, что на улицах с большим количеством заведений общественного питания, последние могут как не обладать посадочными местами, так и иметь до 1700 мест. Распределение количества мест не является нормальным, среднее их количество составило 58, а медиана 40. Следует отметить, что часть заведений является значительно крупнее остальных, при расчете 1.5 межквартильного интервала установлено, что к такому типу объектов можно отнести заведения с количеством мест более 169, а самих таких общепитов - 98. Без учета подобных крупных среднее количество посадочных мест равно 42."
   ]
  },
  {
   "cell_type": "markdown",
   "metadata": {},
   "source": [
    "## Общий вывод и рекомендации."
   ]
  },
  {
   "cell_type": "markdown",
   "metadata": {},
   "source": [
    "Выполнен анализ данных о заведениях общественного питания Москвы. Всего проанализировано 15281 уникальных объектов. Наиболее распространенным типом заведения, согласно имеющимся данным, является кафе, за ними по частоте следуют столовые, рестораны и предприятия быстрого обслуживания. Лишь пятая часть от общего количества заведений общественного питания являются сетевыми. Образование сети в наибольшей степени характерно для объектов типа предприятий быстрого обслуживания - до 41% объектов. За ними в порядке убывания установить организовать сеть удалось отделам кулинарии магазинов (28%), ресторанам (23%) и кафе(22%). Закусочные, кафетерии, буфеты, бары и столовые значительно реже формируют сети. Самыми крупными объектами, как правило являются столовые, в среднем они предлагают до 130 посадочных мест, что больше чем у любого другого типа предприятия.\n",
    "Ряд улиц характеризует высокое количество общепитов, к таким относятся Проспект Мира, Профсоюзная улица, Ленинградский проспект, Пресненская набережная, Варшавское шоссе, Ленинский проспект, Проспект Вернадского, Кутузовский проспект, Каширское шоссе, Кировоградская улица. Данные улицы располагаются на 48 районах Москвы.\n",
    "Полученные результаты показывают, что на 576 улицах располагается лишь одно заведение общественного питания. Указанные улицы распределены между 101 районом, с наибольшей концентрацией в таких районах как Таганский, Хамовники, Басманный, Тверской и Пресненский. Данные районы располагают не менее чем 20 улицами лишь с одним общепитом и могут оказаться перспективными для развития новых общепитов. \n",
    "Согласно полученным результатам - на улицах с большим количеством заведений общественного питания, последние могут как не обладать посадочными местами, так и иметь до 1700 мест. Следует отметить, что часть заведений является значительно крупнее остальных, к такому типу объектов можно отнести заведения с количеством мест более 169, а самих таких общепитов - 98. Без учета подобных крупных объектов - среднее количество посадочных мест равно 42.\n"
   ]
  },
  {
   "cell_type": "markdown",
   "metadata": {},
   "source": [
    "<hr style=\"border: 2px solid green;\" />\n",
    "\n",
    "## Общий комментарий\n",
    "Спасибо за проделанную работу🤝\n",
    "\n",
    "Даниил, в целом работа выполнена хорошо, но есть доработки как в расчетной части, так и в оформлении:\n",
    "- сформировать шапку проекта\n",
    "- расширить подготовку данных - приведи строки к единому регистру, проверь наличие неявных дубликатов\n",
    "- рассчитать характерность сетевого распространения\n",
    "- сформировать таблицу по районам и кол-ву улиц с 1 заведением в них\n",
    "- не увидел ссылки на презентацию?\n",
    "\n",
    "\n",
    "Исправляй и отправляй на проверку🛠"
   ]
  },
  {
   "cell_type": "markdown",
   "metadata": {},
   "source": [
    "# 11. Презентация исследования для инвесторов. "
   ]
  },
  {
   "cell_type": "markdown",
   "metadata": {},
   "source": [
    "Презентация: <https://drive.google.com/file/d/1EyjbASvAw5Sl0hVyTCN4nvxh6OLi67MC/view?usp=sharing>  \n",
    "             или  \n",
    "             <https://disk.yandex.ru/i/Tjoy7TwdbCzkmg>"
   ]
  },
  {
   "cell_type": "markdown",
   "metadata": {},
   "source": [
    "<div class=\"alert alert-info\">  \n",
    "Кажется оба датасета взяты из портала открытых данных правительства Москвы, добавил эту информацию в презентацию и заменил график о частоте формирования сетей. Спасибо за совет!"
   ]
  },
  {
   "cell_type": "code",
   "execution_count": null,
   "metadata": {},
   "outputs": [],
   "source": []
  }
 ],
 "metadata": {
  "ExecuteTimeLog": [
   {
    "duration": 650,
    "start_time": "2021-12-07T18:54:25.289Z"
   },
   {
    "duration": 396,
    "start_time": "2021-12-07T18:55:08.139Z"
   },
   {
    "duration": 71,
    "start_time": "2021-12-07T18:55:17.279Z"
   },
   {
    "duration": 95,
    "start_time": "2021-12-07T18:56:16.108Z"
   },
   {
    "duration": 332,
    "start_time": "2021-12-07T18:56:25.559Z"
   },
   {
    "duration": 95,
    "start_time": "2021-12-07T18:56:47.330Z"
   },
   {
    "duration": 714,
    "start_time": "2021-12-07T19:07:15.012Z"
   },
   {
    "duration": 6655,
    "start_time": "2021-12-07T19:08:58.820Z"
   },
   {
    "duration": 289,
    "start_time": "2021-12-07T19:10:12.572Z"
   },
   {
    "duration": 11,
    "start_time": "2021-12-07T19:10:33.713Z"
   },
   {
    "duration": 21,
    "start_time": "2021-12-07T19:11:07.050Z"
   },
   {
    "duration": 324,
    "start_time": "2021-12-07T19:11:53.013Z"
   },
   {
    "duration": 9,
    "start_time": "2021-12-07T19:13:03.475Z"
   },
   {
    "duration": 7,
    "start_time": "2021-12-07T19:13:16.654Z"
   },
   {
    "duration": 7,
    "start_time": "2021-12-07T19:16:02.297Z"
   },
   {
    "duration": 9,
    "start_time": "2021-12-07T19:16:09.536Z"
   },
   {
    "duration": 215,
    "start_time": "2021-12-07T19:18:03.773Z"
   },
   {
    "duration": 437,
    "start_time": "2021-12-07T19:18:17.073Z"
   },
   {
    "duration": 205,
    "start_time": "2021-12-07T19:18:28.653Z"
   },
   {
    "duration": 520,
    "start_time": "2021-12-07T19:25:31.884Z"
   },
   {
    "duration": 457,
    "start_time": "2021-12-07T19:25:45.624Z"
   },
   {
    "duration": 447,
    "start_time": "2021-12-07T19:26:30.192Z"
   },
   {
    "duration": 99,
    "start_time": "2021-12-07T19:27:38.454Z"
   },
   {
    "duration": 451,
    "start_time": "2021-12-07T19:27:49.194Z"
   },
   {
    "duration": 304,
    "start_time": "2021-12-07T19:28:39.619Z"
   },
   {
    "duration": 225,
    "start_time": "2021-12-07T19:29:15.055Z"
   },
   {
    "duration": 210,
    "start_time": "2021-12-07T19:29:25.955Z"
   },
   {
    "duration": 213,
    "start_time": "2021-12-07T19:29:31.235Z"
   },
   {
    "duration": 202,
    "start_time": "2021-12-07T19:31:46.191Z"
   },
   {
    "duration": 239,
    "start_time": "2021-12-07T19:32:51.155Z"
   },
   {
    "duration": 247,
    "start_time": "2021-12-07T19:33:01.495Z"
   },
   {
    "duration": 232,
    "start_time": "2021-12-07T19:33:46.224Z"
   },
   {
    "duration": 253,
    "start_time": "2021-12-07T19:33:58.094Z"
   },
   {
    "duration": 255,
    "start_time": "2021-12-07T19:34:04.497Z"
   },
   {
    "duration": 232,
    "start_time": "2021-12-07T19:34:08.731Z"
   },
   {
    "duration": 6,
    "start_time": "2021-12-07T19:36:55.212Z"
   },
   {
    "duration": 11,
    "start_time": "2021-12-07T19:37:07.856Z"
   },
   {
    "duration": 9,
    "start_time": "2021-12-07T19:37:27.791Z"
   },
   {
    "duration": 908,
    "start_time": "2021-12-07T19:48:03.732Z"
   },
   {
    "duration": 357,
    "start_time": "2021-12-07T19:48:58.345Z"
   },
   {
    "duration": 279,
    "start_time": "2021-12-07T19:49:05.105Z"
   },
   {
    "duration": 523,
    "start_time": "2021-12-07T19:49:25.618Z"
   },
   {
    "duration": 77,
    "start_time": "2021-12-07T20:15:23.132Z"
   },
   {
    "duration": 19,
    "start_time": "2021-12-07T20:26:01.652Z"
   },
   {
    "duration": 17,
    "start_time": "2021-12-07T20:26:30.222Z"
   },
   {
    "duration": 21,
    "start_time": "2021-12-07T21:03:43.482Z"
   },
   {
    "duration": 47,
    "start_time": "2021-12-07T21:11:03.136Z"
   },
   {
    "duration": 281,
    "start_time": "2021-12-07T21:12:03.554Z"
   },
   {
    "duration": 31,
    "start_time": "2021-12-07T21:12:19.836Z"
   },
   {
    "duration": 39,
    "start_time": "2021-12-07T21:23:23.289Z"
   },
   {
    "duration": 33,
    "start_time": "2021-12-07T21:23:42.338Z"
   },
   {
    "duration": 190,
    "start_time": "2021-12-07T21:23:53.308Z"
   },
   {
    "duration": 96,
    "start_time": "2021-12-07T21:23:58.858Z"
   },
   {
    "duration": 82,
    "start_time": "2021-12-07T21:24:02.928Z"
   },
   {
    "duration": 37,
    "start_time": "2021-12-07T21:24:32.458Z"
   },
   {
    "duration": 14,
    "start_time": "2021-12-07T21:24:43.018Z"
   },
   {
    "duration": 714,
    "start_time": "2021-12-07T21:27:49.108Z"
   },
   {
    "duration": 203,
    "start_time": "2021-12-07T21:27:59.981Z"
   },
   {
    "duration": 124,
    "start_time": "2021-12-07T21:38:22.706Z"
   },
   {
    "duration": 365,
    "start_time": "2021-12-07T21:38:47.143Z"
   },
   {
    "duration": 1617,
    "start_time": "2021-12-08T17:30:19.736Z"
   },
   {
    "duration": 221,
    "start_time": "2021-12-08T17:30:23.326Z"
   },
   {
    "duration": 72,
    "start_time": "2021-12-08T17:30:24.936Z"
   },
   {
    "duration": 674,
    "start_time": "2021-12-08T17:30:26.065Z"
   },
   {
    "duration": 469,
    "start_time": "2021-12-08T17:30:26.935Z"
   },
   {
    "duration": 17,
    "start_time": "2021-12-08T17:30:52.665Z"
   },
   {
    "duration": 246,
    "start_time": "2021-12-08T17:32:21.077Z"
   },
   {
    "duration": 245,
    "start_time": "2021-12-08T17:32:28.231Z"
   },
   {
    "duration": 273,
    "start_time": "2021-12-08T17:32:35.455Z"
   },
   {
    "duration": 79,
    "start_time": "2021-12-08T17:45:21.823Z"
   },
   {
    "duration": 142,
    "start_time": "2021-12-08T17:45:42.372Z"
   },
   {
    "duration": 84,
    "start_time": "2021-12-08T17:45:47.452Z"
   },
   {
    "duration": 251,
    "start_time": "2021-12-08T17:45:54.931Z"
   },
   {
    "duration": 16,
    "start_time": "2021-12-08T17:46:25.304Z"
   },
   {
    "duration": 261,
    "start_time": "2021-12-08T17:46:31.985Z"
   },
   {
    "duration": 254,
    "start_time": "2021-12-08T17:49:27.306Z"
   },
   {
    "duration": 27,
    "start_time": "2021-12-08T17:49:39.490Z"
   },
   {
    "duration": 26,
    "start_time": "2021-12-08T17:49:58.105Z"
   },
   {
    "duration": 81,
    "start_time": "2021-12-08T17:51:09.209Z"
   },
   {
    "duration": 26,
    "start_time": "2021-12-08T17:51:15.459Z"
   },
   {
    "duration": 29,
    "start_time": "2021-12-08T17:51:30.270Z"
   },
   {
    "duration": 48,
    "start_time": "2021-12-08T17:51:41.747Z"
   },
   {
    "duration": 284,
    "start_time": "2021-12-08T17:51:57.600Z"
   },
   {
    "duration": 36,
    "start_time": "2021-12-08T17:52:16.479Z"
   },
   {
    "duration": 27,
    "start_time": "2021-12-08T17:54:31.547Z"
   },
   {
    "duration": 27,
    "start_time": "2021-12-08T17:55:19.243Z"
   },
   {
    "duration": 36,
    "start_time": "2021-12-08T17:58:04.762Z"
   },
   {
    "duration": 41,
    "start_time": "2021-12-08T17:59:53.514Z"
   },
   {
    "duration": 38,
    "start_time": "2021-12-08T18:00:11.293Z"
   },
   {
    "duration": 52,
    "start_time": "2021-12-08T18:00:46.424Z"
   },
   {
    "duration": 55,
    "start_time": "2021-12-08T18:02:15.804Z"
   },
   {
    "duration": 58,
    "start_time": "2021-12-08T18:04:43.469Z"
   },
   {
    "duration": 52,
    "start_time": "2021-12-08T18:05:28.098Z"
   },
   {
    "duration": 54,
    "start_time": "2021-12-08T18:05:50.528Z"
   },
   {
    "duration": 91,
    "start_time": "2021-12-08T18:06:43.063Z"
   },
   {
    "duration": 20,
    "start_time": "2021-12-08T18:06:51.381Z"
   },
   {
    "duration": 21,
    "start_time": "2021-12-08T18:07:33.734Z"
   },
   {
    "duration": 24,
    "start_time": "2021-12-08T18:09:02.725Z"
   },
   {
    "duration": 28,
    "start_time": "2021-12-08T18:09:25.105Z"
   },
   {
    "duration": 1782,
    "start_time": "2021-12-08T18:11:23.806Z"
   },
   {
    "duration": 1903,
    "start_time": "2021-12-08T18:19:57.054Z"
   },
   {
    "duration": 389,
    "start_time": "2021-12-08T18:20:20.651Z"
   },
   {
    "duration": 23,
    "start_time": "2021-12-08T18:20:37.324Z"
   },
   {
    "duration": 15,
    "start_time": "2021-12-08T18:20:45.089Z"
   },
   {
    "duration": 21,
    "start_time": "2021-12-08T18:20:55.031Z"
   },
   {
    "duration": 285,
    "start_time": "2021-12-08T18:21:42.005Z"
   },
   {
    "duration": 1103,
    "start_time": "2021-12-08T18:21:59.653Z"
   },
   {
    "duration": 1076,
    "start_time": "2021-12-08T18:23:36.262Z"
   },
   {
    "duration": 84,
    "start_time": "2021-12-08T18:24:41.052Z"
   },
   {
    "duration": 108,
    "start_time": "2021-12-08T18:24:46.012Z"
   },
   {
    "duration": 1493,
    "start_time": "2021-12-08T18:24:48.732Z"
   },
   {
    "duration": 1057,
    "start_time": "2021-12-08T18:25:17.786Z"
   },
   {
    "duration": 1033,
    "start_time": "2021-12-08T18:25:39.416Z"
   },
   {
    "duration": 340,
    "start_time": "2021-12-08T18:26:41.347Z"
   },
   {
    "duration": 262,
    "start_time": "2021-12-08T18:26:58.947Z"
   },
   {
    "duration": 96,
    "start_time": "2021-12-08T18:27:09.337Z"
   },
   {
    "duration": 247,
    "start_time": "2021-12-08T18:27:10.757Z"
   },
   {
    "duration": 70,
    "start_time": "2021-12-08T18:27:12.974Z"
   },
   {
    "duration": 140,
    "start_time": "2021-12-08T18:27:14.224Z"
   },
   {
    "duration": 527,
    "start_time": "2021-12-08T18:27:15.069Z"
   },
   {
    "duration": 12,
    "start_time": "2021-12-08T18:29:00.332Z"
   },
   {
    "duration": 246,
    "start_time": "2021-12-08T18:29:04.517Z"
   },
   {
    "duration": 11,
    "start_time": "2021-12-08T18:30:06.757Z"
   },
   {
    "duration": 1280,
    "start_time": "2021-12-08T18:30:30.093Z"
   },
   {
    "duration": 6,
    "start_time": "2021-12-08T18:33:11.094Z"
   },
   {
    "duration": 210,
    "start_time": "2021-12-08T18:34:07.560Z"
   },
   {
    "duration": 227,
    "start_time": "2021-12-08T18:37:48.902Z"
   },
   {
    "duration": 356,
    "start_time": "2021-12-08T18:39:13.523Z"
   },
   {
    "duration": 306,
    "start_time": "2021-12-08T18:39:26.563Z"
   },
   {
    "duration": 306,
    "start_time": "2021-12-08T18:41:13.687Z"
   },
   {
    "duration": 636,
    "start_time": "2021-12-08T18:41:29.712Z"
   },
   {
    "duration": 721,
    "start_time": "2021-12-08T18:41:44.163Z"
   },
   {
    "duration": 4,
    "start_time": "2021-12-08T18:41:50.652Z"
   },
   {
    "duration": 9,
    "start_time": "2021-12-08T18:45:07.918Z"
   },
   {
    "duration": 20,
    "start_time": "2021-12-08T18:45:21.952Z"
   },
   {
    "duration": 2250,
    "start_time": "2021-12-09T18:24:22.422Z"
   },
   {
    "duration": 344,
    "start_time": "2021-12-09T18:24:26.772Z"
   },
   {
    "duration": 116,
    "start_time": "2021-12-09T18:24:28.454Z"
   },
   {
    "duration": 853,
    "start_time": "2021-12-09T18:24:29.525Z"
   },
   {
    "duration": 1896,
    "start_time": "2021-12-09T18:24:30.381Z"
   },
   {
    "duration": 1073,
    "start_time": "2021-12-09T18:24:32.280Z"
   },
   {
    "duration": 31,
    "start_time": "2021-12-09T18:24:36.262Z"
   },
   {
    "duration": 4,
    "start_time": "2021-12-09T18:24:37.554Z"
   },
   {
    "duration": 130,
    "start_time": "2021-12-09T18:25:20.192Z"
   },
   {
    "duration": 13,
    "start_time": "2021-12-09T18:25:24.587Z"
   },
   {
    "duration": 12100,
    "start_time": "2021-12-09T18:25:37.966Z"
   },
   {
    "duration": 15,
    "start_time": "2021-12-09T18:25:52.479Z"
   },
   {
    "duration": 32,
    "start_time": "2021-12-09T18:26:11.576Z"
   },
   {
    "duration": 36,
    "start_time": "2021-12-09T18:37:34.751Z"
   },
   {
    "duration": 646,
    "start_time": "2021-12-09T18:37:54.918Z"
   },
   {
    "duration": 36,
    "start_time": "2021-12-09T18:38:03.921Z"
   },
   {
    "duration": 508,
    "start_time": "2021-12-09T18:38:41.457Z"
   },
   {
    "duration": 64,
    "start_time": "2021-12-09T18:47:00.941Z"
   },
   {
    "duration": 59,
    "start_time": "2021-12-09T18:55:18.411Z"
   },
   {
    "duration": 74,
    "start_time": "2021-12-09T18:55:30.937Z"
   },
   {
    "duration": 13083,
    "start_time": "2021-12-09T18:56:13.807Z"
   },
   {
    "duration": 59,
    "start_time": "2021-12-09T18:56:44.922Z"
   },
   {
    "duration": 172,
    "start_time": "2021-12-09T18:56:54.072Z"
   },
   {
    "duration": -150,
    "start_time": "2021-12-09T18:59:17.822Z"
   },
   {
    "duration": 74,
    "start_time": "2021-12-09T18:59:56.204Z"
   },
   {
    "duration": 65,
    "start_time": "2021-12-09T19:00:37.928Z"
   },
   {
    "duration": 63,
    "start_time": "2021-12-09T19:20:12.940Z"
   },
   {
    "duration": 575,
    "start_time": "2021-12-09T19:20:52.626Z"
   },
   {
    "duration": 872,
    "start_time": "2021-12-09T19:21:18.247Z"
   },
   {
    "duration": 759,
    "start_time": "2021-12-09T19:21:36.577Z"
   },
   {
    "duration": 702,
    "start_time": "2021-12-09T19:21:48.268Z"
   },
   {
    "duration": 26,
    "start_time": "2021-12-09T19:22:00.217Z"
   },
   {
    "duration": 4,
    "start_time": "2021-12-09T19:24:23.099Z"
   },
   {
    "duration": 800,
    "start_time": "2021-12-09T19:24:31.059Z"
   },
   {
    "duration": 6,
    "start_time": "2021-12-09T19:24:43.772Z"
   },
   {
    "duration": 24,
    "start_time": "2021-12-09T19:24:55.721Z"
   },
   {
    "duration": 24,
    "start_time": "2021-12-09T19:25:54.446Z"
   },
   {
    "duration": 199,
    "start_time": "2021-12-09T19:32:36.080Z"
   },
   {
    "duration": 131,
    "start_time": "2021-12-09T19:33:35.394Z"
   },
   {
    "duration": 253,
    "start_time": "2021-12-09T19:36:54.004Z"
   },
   {
    "duration": 128,
    "start_time": "2021-12-09T19:36:59.894Z"
   },
   {
    "duration": 675,
    "start_time": "2021-12-09T19:37:03.023Z"
   },
   {
    "duration": 143,
    "start_time": "2021-12-09T19:38:56.604Z"
   },
   {
    "duration": 144,
    "start_time": "2021-12-09T19:39:02.390Z"
   },
   {
    "duration": 25,
    "start_time": "2021-12-09T19:39:06.155Z"
   },
   {
    "duration": 24,
    "start_time": "2021-12-09T19:41:19.689Z"
   },
   {
    "duration": 117,
    "start_time": "2021-12-09T19:42:27.693Z"
   },
   {
    "duration": 362,
    "start_time": "2021-12-09T19:42:28.724Z"
   },
   {
    "duration": 112,
    "start_time": "2021-12-09T19:42:29.764Z"
   },
   {
    "duration": 176,
    "start_time": "2021-12-09T19:42:30.173Z"
   },
   {
    "duration": 1625,
    "start_time": "2021-12-09T19:42:30.774Z"
   },
   {
    "duration": 1075,
    "start_time": "2021-12-09T19:42:32.402Z"
   },
   {
    "duration": 21,
    "start_time": "2021-12-09T19:42:33.480Z"
   },
   {
    "duration": 3,
    "start_time": "2021-12-09T19:42:36.314Z"
   },
   {
    "duration": 650,
    "start_time": "2021-12-09T19:44:27.714Z"
   },
   {
    "duration": 670,
    "start_time": "2021-12-09T19:44:49.823Z"
   },
   {
    "duration": 149,
    "start_time": "2021-12-09T19:49:53.142Z"
   },
   {
    "duration": 23,
    "start_time": "2021-12-09T19:50:29.182Z"
   },
   {
    "duration": 23,
    "start_time": "2021-12-09T19:51:03.966Z"
   },
   {
    "duration": 22,
    "start_time": "2021-12-09T19:51:14.455Z"
   },
   {
    "duration": 24,
    "start_time": "2021-12-09T19:52:41.793Z"
   },
   {
    "duration": 28,
    "start_time": "2021-12-09T19:52:51.015Z"
   },
   {
    "duration": 22,
    "start_time": "2021-12-09T19:52:58.373Z"
   },
   {
    "duration": 661,
    "start_time": "2021-12-09T19:54:15.933Z"
   },
   {
    "duration": 862,
    "start_time": "2021-12-09T19:54:23.211Z"
   },
   {
    "duration": 894,
    "start_time": "2021-12-09T19:54:31.831Z"
   },
   {
    "duration": 24,
    "start_time": "2021-12-09T19:56:53.618Z"
   },
   {
    "duration": 22,
    "start_time": "2021-12-09T19:57:12.128Z"
   },
   {
    "duration": 40,
    "start_time": "2021-12-09T19:57:43.741Z"
   },
   {
    "duration": 23,
    "start_time": "2021-12-09T19:58:13.200Z"
   },
   {
    "duration": 135,
    "start_time": "2021-12-09T20:01:27.780Z"
   },
   {
    "duration": 596,
    "start_time": "2021-12-09T20:01:59.250Z"
   },
   {
    "duration": 24,
    "start_time": "2021-12-09T20:02:36.292Z"
   },
   {
    "duration": 78,
    "start_time": "2021-12-09T20:03:20.596Z"
   },
   {
    "duration": 260,
    "start_time": "2021-12-09T20:03:33.184Z"
   },
   {
    "duration": 1417,
    "start_time": "2021-12-09T20:03:43.453Z"
   },
   {
    "duration": 74,
    "start_time": "2021-12-09T20:04:08.958Z"
   },
   {
    "duration": 73,
    "start_time": "2021-12-09T20:05:53.476Z"
   },
   {
    "duration": 72,
    "start_time": "2021-12-09T20:06:27.307Z"
   },
   {
    "duration": 55,
    "start_time": "2021-12-09T20:06:55.560Z"
   },
   {
    "duration": 2675,
    "start_time": "2021-12-09T20:57:29.264Z"
   },
   {
    "duration": 3705,
    "start_time": "2021-12-09T20:59:38.326Z"
   },
   {
    "duration": 2754,
    "start_time": "2021-12-09T21:04:06.816Z"
   },
   {
    "duration": 3599,
    "start_time": "2021-12-09T21:04:22.697Z"
   },
   {
    "duration": 392,
    "start_time": "2021-12-09T21:07:06.816Z"
   },
   {
    "duration": 428,
    "start_time": "2021-12-09T21:07:21.596Z"
   },
   {
    "duration": 293,
    "start_time": "2021-12-09T21:33:18.119Z"
   },
   {
    "duration": 1245,
    "start_time": "2021-12-09T21:36:39.428Z"
   },
   {
    "duration": 2205,
    "start_time": "2021-12-09T21:39:32.832Z"
   },
   {
    "duration": 2048,
    "start_time": "2021-12-09T21:40:03.532Z"
   },
   {
    "duration": 2299,
    "start_time": "2021-12-09T21:40:26.462Z"
   },
   {
    "duration": 2028,
    "start_time": "2021-12-09T21:40:43.805Z"
   },
   {
    "duration": 1896,
    "start_time": "2021-12-09T21:41:02.563Z"
   },
   {
    "duration": 1866,
    "start_time": "2021-12-09T21:41:15.332Z"
   },
   {
    "duration": 1827,
    "start_time": "2021-12-09T21:41:50.132Z"
   },
   {
    "duration": 2066,
    "start_time": "2021-12-10T16:53:26.995Z"
   },
   {
    "duration": 338,
    "start_time": "2021-12-10T16:53:31.036Z"
   },
   {
    "duration": 100,
    "start_time": "2021-12-10T16:53:33.725Z"
   },
   {
    "duration": 835,
    "start_time": "2021-12-10T16:53:35.305Z"
   },
   {
    "duration": 1720,
    "start_time": "2021-12-10T16:53:36.425Z"
   },
   {
    "duration": 1257,
    "start_time": "2021-12-10T16:53:38.149Z"
   },
   {
    "duration": 57,
    "start_time": "2021-12-10T16:53:39.409Z"
   },
   {
    "duration": 2417,
    "start_time": "2021-12-10T16:53:39.776Z"
   },
   {
    "duration": 560,
    "start_time": "2021-12-10T16:53:44.408Z"
   },
   {
    "duration": 1644,
    "start_time": "2021-12-10T17:17:44.889Z"
   },
   {
    "duration": 22,
    "start_time": "2021-12-10T17:18:56.150Z"
   },
   {
    "duration": 1835,
    "start_time": "2021-12-10T18:16:19.389Z"
   },
   {
    "duration": 1940,
    "start_time": "2021-12-10T18:33:27.797Z"
   },
   {
    "duration": 1762,
    "start_time": "2021-12-10T18:33:52.157Z"
   },
   {
    "duration": 366,
    "start_time": "2021-12-10T18:58:53.832Z"
   },
   {
    "duration": 4163,
    "start_time": "2021-12-10T18:59:26.022Z"
   },
   {
    "duration": 2059,
    "start_time": "2021-12-10T19:01:18.924Z"
   },
   {
    "duration": 38,
    "start_time": "2021-12-10T19:01:30.517Z"
   },
   {
    "duration": 55,
    "start_time": "2021-12-10T19:01:52.797Z"
   },
   {
    "duration": 318,
    "start_time": "2021-12-10T19:21:57.812Z"
   },
   {
    "duration": 479,
    "start_time": "2021-12-10T19:22:10.051Z"
   },
   {
    "duration": 348,
    "start_time": "2021-12-10T19:22:31.390Z"
   },
   {
    "duration": 69,
    "start_time": "2021-12-10T19:22:57.170Z"
   },
   {
    "duration": 70,
    "start_time": "2021-12-10T19:23:09.461Z"
   },
   {
    "duration": 71,
    "start_time": "2021-12-10T19:23:15.310Z"
   },
   {
    "duration": 927,
    "start_time": "2021-12-10T19:25:47.227Z"
   },
   {
    "duration": 25,
    "start_time": "2021-12-10T19:26:11.336Z"
   },
   {
    "duration": 24,
    "start_time": "2021-12-10T19:26:17.756Z"
   },
   {
    "duration": 24,
    "start_time": "2021-12-10T19:26:21.817Z"
   },
   {
    "duration": 25,
    "start_time": "2021-12-10T19:26:48.953Z"
   },
   {
    "duration": 35,
    "start_time": "2021-12-10T19:27:00.573Z"
   },
   {
    "duration": 1262,
    "start_time": "2021-12-10T19:28:42.793Z"
   },
   {
    "duration": 34,
    "start_time": "2021-12-10T19:29:23.294Z"
   },
   {
    "duration": 51,
    "start_time": "2021-12-10T19:29:41.461Z"
   },
   {
    "duration": 54,
    "start_time": "2021-12-10T19:29:50.751Z"
   },
   {
    "duration": 50,
    "start_time": "2021-12-10T19:30:01.851Z"
   },
   {
    "duration": 56,
    "start_time": "2021-12-10T19:30:19.441Z"
   },
   {
    "duration": 109,
    "start_time": "2021-12-10T19:31:36.293Z"
   },
   {
    "duration": 102,
    "start_time": "2021-12-10T19:31:41.099Z"
   },
   {
    "duration": 346,
    "start_time": "2021-12-10T19:31:46.688Z"
   },
   {
    "duration": 8700,
    "start_time": "2021-12-10T19:31:59.794Z"
   },
   {
    "duration": 43,
    "start_time": "2021-12-10T19:34:09.731Z"
   },
   {
    "duration": 55,
    "start_time": "2021-12-10T19:34:51.562Z"
   },
   {
    "duration": 1037,
    "start_time": "2021-12-10T19:34:54.783Z"
   },
   {
    "duration": 1829,
    "start_time": "2021-12-10T22:08:26.050Z"
   },
   {
    "duration": 320,
    "start_time": "2021-12-10T22:08:29.669Z"
   },
   {
    "duration": 113,
    "start_time": "2021-12-10T22:08:31.019Z"
   },
   {
    "duration": 811,
    "start_time": "2021-12-10T22:08:31.879Z"
   },
   {
    "duration": 1804,
    "start_time": "2021-12-10T22:08:32.693Z"
   },
   {
    "duration": 1109,
    "start_time": "2021-12-10T22:08:34.500Z"
   },
   {
    "duration": 55,
    "start_time": "2021-12-10T22:08:35.612Z"
   },
   {
    "duration": 1102,
    "start_time": "2021-12-10T22:08:35.669Z"
   },
   {
    "duration": 46,
    "start_time": "2021-12-10T22:08:36.774Z"
   },
   {
    "duration": 53,
    "start_time": "2021-12-10T22:09:51.500Z"
   },
   {
    "duration": 58,
    "start_time": "2021-12-10T22:10:54.384Z"
   },
   {
    "duration": 1047,
    "start_time": "2021-12-10T22:10:59.425Z"
   },
   {
    "duration": 58,
    "start_time": "2021-12-10T22:11:08.106Z"
   },
   {
    "duration": 2181,
    "start_time": "2021-12-12T17:12:08.600Z"
   },
   {
    "duration": 191,
    "start_time": "2021-12-12T17:12:13.256Z"
   },
   {
    "duration": 69,
    "start_time": "2021-12-12T17:12:14.556Z"
   },
   {
    "duration": 618,
    "start_time": "2021-12-12T17:12:15.235Z"
   },
   {
    "duration": 1157,
    "start_time": "2021-12-12T17:12:15.855Z"
   },
   {
    "duration": 661,
    "start_time": "2021-12-12T17:12:17.143Z"
   },
   {
    "duration": 46,
    "start_time": "2021-12-12T17:12:17.931Z"
   },
   {
    "duration": 1114,
    "start_time": "2021-12-12T17:12:19.053Z"
   },
   {
    "duration": 45,
    "start_time": "2021-12-12T17:12:20.169Z"
   },
   {
    "duration": 2,
    "start_time": "2021-12-12T17:12:21.049Z"
   },
   {
    "duration": 45,
    "start_time": "2021-12-12T17:14:32.805Z"
   },
   {
    "duration": 656,
    "start_time": "2021-12-12T17:14:37.777Z"
   },
   {
    "duration": 37,
    "start_time": "2021-12-12T17:14:38.611Z"
   },
   {
    "duration": 2,
    "start_time": "2021-12-12T17:14:39.640Z"
   },
   {
    "duration": 39,
    "start_time": "2021-12-12T17:15:02.291Z"
   },
   {
    "duration": 35,
    "start_time": "2021-12-12T17:16:13.910Z"
   },
   {
    "duration": 59,
    "start_time": "2021-12-12T17:17:51.050Z"
   },
   {
    "duration": 702,
    "start_time": "2021-12-12T17:17:51.989Z"
   },
   {
    "duration": 39,
    "start_time": "2021-12-12T17:17:55.229Z"
   },
   {
    "duration": 24,
    "start_time": "2021-12-12T17:18:24.609Z"
   },
   {
    "duration": 442,
    "start_time": "2021-12-12T17:18:38.469Z"
   },
   {
    "duration": 26,
    "start_time": "2021-12-12T17:18:42.260Z"
   },
   {
    "duration": 25,
    "start_time": "2021-12-12T17:19:08.841Z"
   },
   {
    "duration": 23,
    "start_time": "2021-12-12T17:19:40.300Z"
   },
   {
    "duration": 2929,
    "start_time": "2021-12-12T20:03:01.744Z"
   },
   {
    "duration": 323,
    "start_time": "2021-12-12T20:03:06.813Z"
   },
   {
    "duration": 108,
    "start_time": "2021-12-12T20:03:08.594Z"
   },
   {
    "duration": 862,
    "start_time": "2021-12-12T20:03:09.444Z"
   },
   {
    "duration": 1968,
    "start_time": "2021-12-12T20:03:10.308Z"
   },
   {
    "duration": 1238,
    "start_time": "2021-12-12T20:03:12.280Z"
   },
   {
    "duration": 77,
    "start_time": "2021-12-12T20:03:13.522Z"
   },
   {
    "duration": 1349,
    "start_time": "2021-12-12T20:03:13.602Z"
   },
   {
    "duration": 41,
    "start_time": "2021-12-12T20:03:14.954Z"
   },
   {
    "duration": 42,
    "start_time": "2021-12-12T20:04:59.272Z"
   },
   {
    "duration": 688,
    "start_time": "2021-12-12T20:05:54.244Z"
   },
   {
    "duration": 46,
    "start_time": "2021-12-12T20:06:04.544Z"
   },
   {
    "duration": 41,
    "start_time": "2021-12-12T20:09:50.390Z"
   },
   {
    "duration": 88,
    "start_time": "2021-12-12T20:10:28.514Z"
   },
   {
    "duration": 64,
    "start_time": "2021-12-12T20:11:17.288Z"
   },
   {
    "duration": 56,
    "start_time": "2021-12-12T20:12:56.699Z"
   },
   {
    "duration": 40,
    "start_time": "2021-12-12T20:13:18.949Z"
   },
   {
    "duration": 41,
    "start_time": "2021-12-12T20:36:52.101Z"
   },
   {
    "duration": 42,
    "start_time": "2021-12-12T20:39:18.438Z"
   },
   {
    "duration": 48,
    "start_time": "2021-12-12T20:39:32.658Z"
   },
   {
    "duration": 48,
    "start_time": "2021-12-12T20:41:14.370Z"
   },
   {
    "duration": 45,
    "start_time": "2021-12-12T20:44:55.147Z"
   },
   {
    "duration": 30,
    "start_time": "2021-12-12T20:45:10.212Z"
   },
   {
    "duration": 43,
    "start_time": "2021-12-12T20:47:42.637Z"
   },
   {
    "duration": 55,
    "start_time": "2021-12-12T20:47:48.386Z"
   },
   {
    "duration": 53,
    "start_time": "2021-12-12T20:48:18.102Z"
   },
   {
    "duration": 62,
    "start_time": "2021-12-12T20:49:37.198Z"
   },
   {
    "duration": 497,
    "start_time": "2021-12-12T20:56:54.096Z"
   },
   {
    "duration": 451,
    "start_time": "2021-12-12T20:57:19.926Z"
   },
   {
    "duration": 74,
    "start_time": "2021-12-12T20:57:29.205Z"
   },
   {
    "duration": 433,
    "start_time": "2021-12-12T21:01:17.993Z"
   },
   {
    "duration": 447,
    "start_time": "2021-12-12T21:01:56.539Z"
   },
   {
    "duration": 76,
    "start_time": "2021-12-12T21:02:11.183Z"
   },
   {
    "duration": 79,
    "start_time": "2021-12-12T21:02:42.321Z"
   },
   {
    "duration": 677,
    "start_time": "2021-12-12T21:05:30.048Z"
   },
   {
    "duration": 485,
    "start_time": "2021-12-12T21:06:41.168Z"
   },
   {
    "duration": 80,
    "start_time": "2021-12-12T21:07:17.278Z"
   },
   {
    "duration": 50,
    "start_time": "2021-12-12T21:08:09.098Z"
   },
   {
    "duration": 57,
    "start_time": "2021-12-12T21:09:04.628Z"
   },
   {
    "duration": 56,
    "start_time": "2021-12-12T21:09:26.648Z"
   },
   {
    "duration": 52,
    "start_time": "2021-12-12T21:10:04.938Z"
   },
   {
    "duration": 53,
    "start_time": "2021-12-12T21:10:58.678Z"
   },
   {
    "duration": 424,
    "start_time": "2021-12-12T21:12:14.051Z"
   },
   {
    "duration": 52,
    "start_time": "2021-12-12T21:12:28.838Z"
   },
   {
    "duration": 60,
    "start_time": "2021-12-12T21:12:35.866Z"
   },
   {
    "duration": 61,
    "start_time": "2021-12-12T21:12:54.911Z"
   },
   {
    "duration": 37,
    "start_time": "2021-12-12T21:13:49.517Z"
   },
   {
    "duration": 47,
    "start_time": "2021-12-12T21:13:52.887Z"
   },
   {
    "duration": 444,
    "start_time": "2021-12-12T21:36:31.031Z"
   },
   {
    "duration": 2067,
    "start_time": "2021-12-12T21:36:40.129Z"
   },
   {
    "duration": 336,
    "start_time": "2021-12-12T21:36:54.554Z"
   },
   {
    "duration": 104,
    "start_time": "2021-12-12T21:36:55.497Z"
   },
   {
    "duration": 846,
    "start_time": "2021-12-12T21:36:55.973Z"
   },
   {
    "duration": 1751,
    "start_time": "2021-12-12T21:36:56.821Z"
   },
   {
    "duration": 1108,
    "start_time": "2021-12-12T21:36:58.575Z"
   },
   {
    "duration": 88,
    "start_time": "2021-12-12T21:36:59.685Z"
   },
   {
    "duration": 1355,
    "start_time": "2021-12-12T21:36:59.775Z"
   },
   {
    "duration": 49,
    "start_time": "2021-12-12T21:37:01.133Z"
   },
   {
    "duration": 3,
    "start_time": "2021-12-12T21:37:01.185Z"
   },
   {
    "duration": 10,
    "start_time": "2021-12-12T21:37:01.191Z"
   },
   {
    "duration": 692,
    "start_time": "2021-12-12T21:40:28.065Z"
   },
   {
    "duration": 54,
    "start_time": "2021-12-12T21:40:42.023Z"
   },
   {
    "duration": 463,
    "start_time": "2021-12-12T21:41:39.796Z"
   },
   {
    "duration": 425,
    "start_time": "2021-12-12T21:42:03.303Z"
   },
   {
    "duration": 447,
    "start_time": "2021-12-12T21:45:50.028Z"
   },
   {
    "duration": 451,
    "start_time": "2021-12-12T21:46:36.332Z"
   },
   {
    "duration": 422,
    "start_time": "2021-12-12T21:46:43.913Z"
   },
   {
    "duration": 155,
    "start_time": "2021-12-12T21:46:59.410Z"
   },
   {
    "duration": 9939,
    "start_time": "2021-12-12T21:48:38.888Z"
   },
   {
    "duration": 1756,
    "start_time": "2021-12-12T21:49:54.808Z"
   },
   {
    "duration": 1114,
    "start_time": "2021-12-12T21:49:56.742Z"
   },
   {
    "duration": 9799,
    "start_time": "2021-12-12T21:50:01.572Z"
   },
   {
    "duration": 69,
    "start_time": "2021-12-12T21:50:16.920Z"
   },
   {
    "duration": 854,
    "start_time": "2021-12-12T21:50:22.292Z"
   },
   {
    "duration": 10176,
    "start_time": "2021-12-12T21:50:26.019Z"
   },
   {
    "duration": 54,
    "start_time": "2021-12-12T21:52:34.236Z"
   },
   {
    "duration": 56,
    "start_time": "2021-12-12T21:53:05.411Z"
   },
   {
    "duration": 61,
    "start_time": "2021-12-12T21:53:11.902Z"
   },
   {
    "duration": 78,
    "start_time": "2021-12-12T21:54:22.661Z"
   },
   {
    "duration": 907,
    "start_time": "2021-12-12T21:54:24.956Z"
   },
   {
    "duration": 111,
    "start_time": "2021-12-12T21:54:32.979Z"
   },
   {
    "duration": 86,
    "start_time": "2021-12-12T21:55:08.232Z"
   },
   {
    "duration": 76,
    "start_time": "2021-12-12T21:55:47.343Z"
   },
   {
    "duration": 987,
    "start_time": "2021-12-12T21:55:53.662Z"
   },
   {
    "duration": 56,
    "start_time": "2021-12-12T21:55:55.969Z"
   },
   {
    "duration": 68,
    "start_time": "2021-12-12T21:57:33.074Z"
   },
   {
    "duration": 52,
    "start_time": "2021-12-12T21:59:40.634Z"
   },
   {
    "duration": 57,
    "start_time": "2021-12-12T22:01:11.910Z"
   },
   {
    "duration": 54,
    "start_time": "2021-12-12T22:01:25.487Z"
   },
   {
    "duration": 53,
    "start_time": "2021-12-12T22:01:31.621Z"
   },
   {
    "duration": 79,
    "start_time": "2021-12-12T22:03:45.583Z"
   },
   {
    "duration": 1164,
    "start_time": "2021-12-12T22:03:47.943Z"
   },
   {
    "duration": 60,
    "start_time": "2021-12-12T22:03:49.607Z"
   },
   {
    "duration": 1998,
    "start_time": "2021-12-12T22:04:13.919Z"
   },
   {
    "duration": 323,
    "start_time": "2021-12-12T22:04:17.690Z"
   },
   {
    "duration": 112,
    "start_time": "2021-12-12T22:04:19.847Z"
   },
   {
    "duration": 846,
    "start_time": "2021-12-12T22:04:20.849Z"
   },
   {
    "duration": 1691,
    "start_time": "2021-12-12T22:04:21.698Z"
   },
   {
    "duration": 1076,
    "start_time": "2021-12-12T22:04:23.392Z"
   },
   {
    "duration": 94,
    "start_time": "2021-12-12T22:04:24.470Z"
   },
   {
    "duration": 1001,
    "start_time": "2021-12-12T22:04:24.567Z"
   },
   {
    "duration": 57,
    "start_time": "2021-12-12T22:04:25.746Z"
   },
   {
    "duration": 4,
    "start_time": "2021-12-12T22:04:26.839Z"
   },
   {
    "duration": 44,
    "start_time": "2021-12-12T22:05:12.424Z"
   },
   {
    "duration": 48,
    "start_time": "2021-12-12T22:06:26.805Z"
   },
   {
    "duration": 56,
    "start_time": "2021-12-12T22:21:48.542Z"
   },
   {
    "duration": 48,
    "start_time": "2021-12-12T22:22:08.921Z"
   },
   {
    "duration": 59,
    "start_time": "2021-12-12T22:22:35.151Z"
   },
   {
    "duration": 49,
    "start_time": "2021-12-12T22:22:58.721Z"
   },
   {
    "duration": 44,
    "start_time": "2021-12-12T22:23:30.121Z"
   },
   {
    "duration": 36,
    "start_time": "2021-12-12T22:24:05.072Z"
   },
   {
    "duration": 5163,
    "start_time": "2021-12-12T22:24:44.421Z"
   },
   {
    "duration": 4975,
    "start_time": "2021-12-12T22:25:18.760Z"
   },
   {
    "duration": 36,
    "start_time": "2021-12-12T22:25:52.251Z"
   },
   {
    "duration": 2566,
    "start_time": "2021-12-12T22:26:15.141Z"
   },
   {
    "duration": 38,
    "start_time": "2021-12-12T22:27:57.090Z"
   },
   {
    "duration": 5113,
    "start_time": "2021-12-12T22:28:11.981Z"
   },
   {
    "duration": 36,
    "start_time": "2021-12-12T22:28:29.791Z"
   },
   {
    "duration": 37,
    "start_time": "2021-12-12T22:29:17.141Z"
   },
   {
    "duration": 37,
    "start_time": "2021-12-12T22:29:41.862Z"
   },
   {
    "duration": 42,
    "start_time": "2021-12-12T22:29:49.481Z"
   },
   {
    "duration": 42,
    "start_time": "2021-12-12T22:30:54.610Z"
   },
   {
    "duration": 499,
    "start_time": "2021-12-12T22:32:36.531Z"
   },
   {
    "duration": 520,
    "start_time": "2021-12-12T22:32:59.672Z"
   },
   {
    "duration": 438,
    "start_time": "2021-12-12T22:33:53.211Z"
   },
   {
    "duration": 1700,
    "start_time": "2021-12-13T19:45:14.879Z"
   },
   {
    "duration": 184,
    "start_time": "2021-12-13T19:45:18.719Z"
   },
   {
    "duration": 61,
    "start_time": "2021-12-13T19:45:19.589Z"
   },
   {
    "duration": 1207,
    "start_time": "2021-12-13T19:45:19.999Z"
   },
   {
    "duration": 1003,
    "start_time": "2021-12-13T19:45:21.208Z"
   },
   {
    "duration": 613,
    "start_time": "2021-12-13T19:45:22.213Z"
   },
   {
    "duration": 50,
    "start_time": "2021-12-13T19:45:22.828Z"
   },
   {
    "duration": 1338,
    "start_time": "2021-12-13T19:45:22.888Z"
   },
   {
    "duration": 253,
    "start_time": "2021-12-13T19:45:24.227Z"
   },
   {
    "duration": 6,
    "start_time": "2021-12-13T19:49:30.538Z"
   },
   {
    "duration": 10,
    "start_time": "2021-12-13T19:50:02.173Z"
   },
   {
    "duration": 15,
    "start_time": "2021-12-13T19:53:31.540Z"
   },
   {
    "duration": 15,
    "start_time": "2021-12-13T19:54:09.009Z"
   },
   {
    "duration": 23,
    "start_time": "2021-12-13T19:57:13.006Z"
   },
   {
    "duration": 1865,
    "start_time": "2021-12-14T19:12:37.912Z"
   },
   {
    "duration": 244,
    "start_time": "2021-12-14T19:12:41.947Z"
   },
   {
    "duration": 68,
    "start_time": "2021-12-14T19:12:43.349Z"
   },
   {
    "duration": 1955,
    "start_time": "2021-12-14T19:12:43.878Z"
   },
   {
    "duration": 1218,
    "start_time": "2021-12-14T19:12:45.835Z"
   },
   {
    "duration": 817,
    "start_time": "2021-12-14T19:12:47.056Z"
   },
   {
    "duration": 52,
    "start_time": "2021-12-14T19:12:47.874Z"
   },
   {
    "duration": 1492,
    "start_time": "2021-12-14T19:12:47.927Z"
   },
   {
    "duration": 289,
    "start_time": "2021-12-14T19:12:49.420Z"
   },
   {
    "duration": 26,
    "start_time": "2021-12-14T19:13:07.343Z"
   },
   {
    "duration": 2,
    "start_time": "2021-12-14T19:13:11.659Z"
   },
   {
    "duration": 7,
    "start_time": "2021-12-14T19:38:00.488Z"
   },
   {
    "duration": 462,
    "start_time": "2021-12-14T19:41:50.744Z"
   },
   {
    "duration": 296,
    "start_time": "2021-12-14T19:45:22.712Z"
   },
   {
    "duration": 83,
    "start_time": "2021-12-14T19:45:37.284Z"
   },
   {
    "duration": 82,
    "start_time": "2021-12-14T19:45:41.581Z"
   },
   {
    "duration": 222,
    "start_time": "2021-12-14T19:45:43.414Z"
   },
   {
    "duration": 67,
    "start_time": "2021-12-14T19:45:44.749Z"
   },
   {
    "duration": 108,
    "start_time": "2021-12-14T19:45:45.152Z"
   },
   {
    "duration": 1154,
    "start_time": "2021-12-14T19:45:45.966Z"
   },
   {
    "duration": 642,
    "start_time": "2021-12-14T19:45:47.564Z"
   },
   {
    "duration": 52,
    "start_time": "2021-12-14T19:45:49.094Z"
   },
   {
    "duration": 1122,
    "start_time": "2021-12-14T19:45:50.428Z"
   },
   {
    "duration": 292,
    "start_time": "2021-12-14T19:45:52.579Z"
   },
   {
    "duration": 25,
    "start_time": "2021-12-14T19:45:56.373Z"
   },
   {
    "duration": 298,
    "start_time": "2021-12-14T19:45:57.630Z"
   },
   {
    "duration": 304,
    "start_time": "2021-12-14T19:48:06.472Z"
   },
   {
    "duration": 510,
    "start_time": "2021-12-14T20:35:08.210Z"
   },
   {
    "duration": 305,
    "start_time": "2021-12-14T20:43:33.056Z"
   },
   {
    "duration": 299,
    "start_time": "2021-12-14T20:43:50.124Z"
   },
   {
    "duration": 276,
    "start_time": "2021-12-14T20:44:23.165Z"
   },
   {
    "duration": 3,
    "start_time": "2021-12-14T21:04:04.343Z"
   },
   {
    "duration": 318,
    "start_time": "2021-12-14T21:04:39.772Z"
   },
   {
    "duration": 7,
    "start_time": "2021-12-14T21:05:01.371Z"
   },
   {
    "duration": 18,
    "start_time": "2021-12-14T21:05:18.967Z"
   },
   {
    "duration": 384,
    "start_time": "2021-12-14T21:21:27.008Z"
   },
   {
    "duration": 2625,
    "start_time": "2021-12-14T21:25:00.422Z"
   },
   {
    "duration": 2002,
    "start_time": "2021-12-15T18:28:50.233Z"
   },
   {
    "duration": 729,
    "start_time": "2021-12-15T18:30:07.303Z"
   },
   {
    "duration": 127,
    "start_time": "2021-12-15T18:30:22.104Z"
   },
   {
    "duration": 391,
    "start_time": "2021-12-15T18:30:23.973Z"
   },
   {
    "duration": 163,
    "start_time": "2021-12-15T18:30:25.434Z"
   },
   {
    "duration": 276,
    "start_time": "2021-12-15T18:30:28.553Z"
   },
   {
    "duration": 1778,
    "start_time": "2021-12-15T18:30:29.974Z"
   },
   {
    "duration": 1086,
    "start_time": "2021-12-15T18:30:31.755Z"
   },
   {
    "duration": 83,
    "start_time": "2021-12-15T18:30:33.028Z"
   },
   {
    "duration": 1331,
    "start_time": "2021-12-15T18:30:34.184Z"
   },
   {
    "duration": 444,
    "start_time": "2021-12-15T18:30:35.517Z"
   },
   {
    "duration": 37,
    "start_time": "2021-12-15T18:30:36.194Z"
   },
   {
    "duration": 563,
    "start_time": "2021-12-15T18:30:37.434Z"
   },
   {
    "duration": 411,
    "start_time": "2021-12-15T19:00:08.859Z"
   },
   {
    "duration": 540,
    "start_time": "2021-12-15T19:00:15.239Z"
   },
   {
    "duration": 370,
    "start_time": "2021-12-15T19:00:22.179Z"
   },
   {
    "duration": 370,
    "start_time": "2021-12-15T19:00:26.689Z"
   },
   {
    "duration": 414,
    "start_time": "2021-12-15T19:01:49.769Z"
   },
   {
    "duration": 396,
    "start_time": "2021-12-15T19:02:04.680Z"
   },
   {
    "duration": 362,
    "start_time": "2021-12-15T19:02:12.859Z"
   },
   {
    "duration": 413,
    "start_time": "2021-12-15T19:02:26.669Z"
   },
   {
    "duration": 377,
    "start_time": "2021-12-15T19:02:39.399Z"
   },
   {
    "duration": 410,
    "start_time": "2021-12-15T19:03:13.459Z"
   },
   {
    "duration": 1322,
    "start_time": "2021-12-15T19:03:19.929Z"
   },
   {
    "duration": 437,
    "start_time": "2021-12-15T19:03:32.720Z"
   },
   {
    "duration": 359,
    "start_time": "2021-12-15T19:05:37.730Z"
   },
   {
    "duration": 354,
    "start_time": "2021-12-15T19:07:10.948Z"
   },
   {
    "duration": 360,
    "start_time": "2021-12-15T19:07:19.112Z"
   },
   {
    "duration": 365,
    "start_time": "2021-12-15T19:07:36.103Z"
   },
   {
    "duration": 543,
    "start_time": "2021-12-15T19:07:57.420Z"
   },
   {
    "duration": 639,
    "start_time": "2021-12-15T19:11:14.920Z"
   },
   {
    "duration": 458,
    "start_time": "2021-12-15T19:13:37.196Z"
   },
   {
    "duration": 462,
    "start_time": "2021-12-15T19:13:43.087Z"
   },
   {
    "duration": 982,
    "start_time": "2021-12-15T19:14:31.206Z"
   },
   {
    "duration": 630,
    "start_time": "2021-12-15T19:14:52.000Z"
   },
   {
    "duration": 826,
    "start_time": "2021-12-15T19:17:09.923Z"
   },
   {
    "duration": 1143,
    "start_time": "2021-12-15T19:17:26.571Z"
   },
   {
    "duration": 1031,
    "start_time": "2021-12-15T19:17:31.605Z"
   },
   {
    "duration": 552,
    "start_time": "2021-12-15T19:18:23.765Z"
   },
   {
    "duration": 693,
    "start_time": "2021-12-15T19:20:27.757Z"
   },
   {
    "duration": 778,
    "start_time": "2021-12-15T19:20:45.893Z"
   },
   {
    "duration": 157,
    "start_time": "2021-12-15T19:21:51.640Z"
   },
   {
    "duration": 378,
    "start_time": "2021-12-15T19:23:48.653Z"
   },
   {
    "duration": 386,
    "start_time": "2021-12-15T19:24:02.122Z"
   },
   {
    "duration": 473,
    "start_time": "2021-12-15T19:24:28.375Z"
   },
   {
    "duration": 260,
    "start_time": "2021-12-15T19:30:16.422Z"
   },
   {
    "duration": 128,
    "start_time": "2021-12-15T19:30:54.712Z"
   },
   {
    "duration": 124,
    "start_time": "2021-12-15T19:32:50.175Z"
   },
   {
    "duration": 609,
    "start_time": "2021-12-15T19:33:40.184Z"
   },
   {
    "duration": 356,
    "start_time": "2021-12-15T19:34:07.430Z"
   },
   {
    "duration": 122,
    "start_time": "2021-12-15T19:34:15.544Z"
   },
   {
    "duration": 128,
    "start_time": "2021-12-15T19:34:20.474Z"
   },
   {
    "duration": 250,
    "start_time": "2021-12-15T19:34:25.782Z"
   },
   {
    "duration": 144,
    "start_time": "2021-12-15T19:34:35.312Z"
   },
   {
    "duration": 178,
    "start_time": "2021-12-15T19:34:45.292Z"
   },
   {
    "duration": 262,
    "start_time": "2021-12-15T19:36:15.796Z"
   },
   {
    "duration": 177,
    "start_time": "2021-12-15T19:37:04.615Z"
   },
   {
    "duration": 178,
    "start_time": "2021-12-15T19:38:08.777Z"
   },
   {
    "duration": 196,
    "start_time": "2021-12-15T19:38:30.138Z"
   },
   {
    "duration": 552,
    "start_time": "2021-12-15T20:15:35.950Z"
   },
   {
    "duration": 373,
    "start_time": "2021-12-15T20:16:58.784Z"
   },
   {
    "duration": 173,
    "start_time": "2021-12-15T20:20:36.680Z"
   },
   {
    "duration": 182,
    "start_time": "2021-12-15T20:20:58.011Z"
   },
   {
    "duration": 1664,
    "start_time": "2021-12-15T20:32:00.320Z"
   },
   {
    "duration": 269,
    "start_time": "2021-12-15T20:32:39.208Z"
   },
   {
    "duration": 1638,
    "start_time": "2021-12-15T20:33:10.583Z"
   },
   {
    "duration": 1705,
    "start_time": "2021-12-15T20:33:19.952Z"
   },
   {
    "duration": 1710,
    "start_time": "2021-12-15T20:33:38.220Z"
   },
   {
    "duration": 1945,
    "start_time": "2021-12-15T20:35:18.133Z"
   },
   {
    "duration": 1808,
    "start_time": "2021-12-15T20:36:27.164Z"
   },
   {
    "duration": 1808,
    "start_time": "2021-12-15T20:36:46.544Z"
   },
   {
    "duration": 1905,
    "start_time": "2021-12-15T20:36:59.050Z"
   },
   {
    "duration": 2000,
    "start_time": "2021-12-15T20:37:06.340Z"
   },
   {
    "duration": 2047,
    "start_time": "2021-12-15T20:42:00.874Z"
   },
   {
    "duration": 2142,
    "start_time": "2021-12-15T20:42:13.541Z"
   },
   {
    "duration": 2166,
    "start_time": "2021-12-15T20:43:19.553Z"
   },
   {
    "duration": 1784,
    "start_time": "2021-12-15T20:43:53.695Z"
   },
   {
    "duration": 1723,
    "start_time": "2021-12-15T20:44:10.943Z"
   },
   {
    "duration": 1991,
    "start_time": "2021-12-15T20:46:21.676Z"
   },
   {
    "duration": 1904,
    "start_time": "2021-12-15T20:47:38.307Z"
   },
   {
    "duration": 1831,
    "start_time": "2021-12-15T20:47:48.680Z"
   },
   {
    "duration": 1611,
    "start_time": "2021-12-15T21:05:12.094Z"
   },
   {
    "duration": 1754,
    "start_time": "2021-12-15T21:07:11.877Z"
   },
   {
    "duration": 1819,
    "start_time": "2021-12-15T21:10:18.591Z"
   },
   {
    "duration": 82,
    "start_time": "2021-12-15T21:10:33.051Z"
   },
   {
    "duration": 2115,
    "start_time": "2021-12-15T21:10:36.502Z"
   },
   {
    "duration": 1868,
    "start_time": "2021-12-15T21:11:11.465Z"
   },
   {
    "duration": 1631,
    "start_time": "2021-12-15T21:11:26.552Z"
   },
   {
    "duration": 1645,
    "start_time": "2021-12-15T21:12:03.691Z"
   },
   {
    "duration": 1653,
    "start_time": "2021-12-15T21:12:41.058Z"
   },
   {
    "duration": 1773,
    "start_time": "2021-12-15T21:12:53.248Z"
   },
   {
    "duration": 1616,
    "start_time": "2021-12-15T21:13:46.425Z"
   },
   {
    "duration": 274,
    "start_time": "2021-12-15T21:17:46.521Z"
   },
   {
    "duration": 1068,
    "start_time": "2021-12-15T21:18:07.208Z"
   },
   {
    "duration": 1118,
    "start_time": "2021-12-15T21:23:17.309Z"
   },
   {
    "duration": 1147,
    "start_time": "2021-12-15T21:23:27.569Z"
   },
   {
    "duration": 1210,
    "start_time": "2021-12-15T21:24:08.680Z"
   },
   {
    "duration": 1251,
    "start_time": "2021-12-15T21:24:28.389Z"
   },
   {
    "duration": 1262,
    "start_time": "2021-12-15T21:25:14.489Z"
   },
   {
    "duration": 1389,
    "start_time": "2021-12-15T21:32:57.178Z"
   },
   {
    "duration": 1287,
    "start_time": "2021-12-15T21:33:32.514Z"
   },
   {
    "duration": 251,
    "start_time": "2021-12-15T21:34:21.707Z"
   },
   {
    "duration": 1291,
    "start_time": "2021-12-15T21:34:32.029Z"
   },
   {
    "duration": 1611,
    "start_time": "2021-12-15T21:35:09.586Z"
   },
   {
    "duration": 1408,
    "start_time": "2021-12-15T21:35:31.537Z"
   },
   {
    "duration": 1277,
    "start_time": "2021-12-15T21:37:04.217Z"
   },
   {
    "duration": 1314,
    "start_time": "2021-12-15T21:37:29.382Z"
   },
   {
    "duration": 1300,
    "start_time": "2021-12-15T21:37:56.645Z"
   },
   {
    "duration": 1465,
    "start_time": "2021-12-15T21:39:14.889Z"
   },
   {
    "duration": 425,
    "start_time": "2021-12-15T21:49:56.380Z"
   },
   {
    "duration": 656,
    "start_time": "2021-12-15T21:51:31.249Z"
   },
   {
    "duration": 437,
    "start_time": "2021-12-15T21:52:33.430Z"
   },
   {
    "duration": 584,
    "start_time": "2021-12-15T22:03:23.470Z"
   },
   {
    "duration": 631,
    "start_time": "2021-12-15T22:03:52.457Z"
   },
   {
    "duration": 260,
    "start_time": "2021-12-15T22:07:15.363Z"
   },
   {
    "duration": 266,
    "start_time": "2021-12-15T22:08:02.268Z"
   },
   {
    "duration": 630,
    "start_time": "2021-12-15T22:08:10.559Z"
   },
   {
    "duration": 639,
    "start_time": "2021-12-15T22:13:26.978Z"
   },
   {
    "duration": 630,
    "start_time": "2021-12-15T22:13:42.044Z"
   },
   {
    "duration": 629,
    "start_time": "2021-12-15T22:15:19.533Z"
   },
   {
    "duration": 626,
    "start_time": "2021-12-15T22:15:26.799Z"
   },
   {
    "duration": 764,
    "start_time": "2021-12-15T22:15:48.053Z"
   },
   {
    "duration": 637,
    "start_time": "2021-12-15T22:17:18.522Z"
   },
   {
    "duration": 2414,
    "start_time": "2021-12-16T21:22:44.717Z"
   },
   {
    "duration": 326,
    "start_time": "2021-12-16T21:34:41.891Z"
   },
   {
    "duration": 31978,
    "start_time": "2021-12-17T08:54:15.026Z"
   },
   {
    "duration": 204,
    "start_time": "2021-12-17T08:54:47.006Z"
   },
   {
    "duration": 107,
    "start_time": "2021-12-17T08:54:47.212Z"
   },
   {
    "duration": 658,
    "start_time": "2021-12-17T08:54:47.321Z"
   },
   {
    "duration": 985,
    "start_time": "2021-12-17T08:54:47.981Z"
   },
   {
    "duration": 667,
    "start_time": "2021-12-17T08:54:48.968Z"
   },
   {
    "duration": 63,
    "start_time": "2021-12-17T08:54:49.637Z"
   },
   {
    "duration": 1159,
    "start_time": "2021-12-17T08:54:49.702Z"
   },
   {
    "duration": 262,
    "start_time": "2021-12-17T08:54:50.863Z"
   },
   {
    "duration": 42,
    "start_time": "2021-12-17T08:54:51.127Z"
   },
   {
    "duration": 312,
    "start_time": "2021-12-17T08:54:51.170Z"
   },
   {
    "duration": 48,
    "start_time": "2021-12-17T10:35:55.136Z"
   },
   {
    "duration": 178,
    "start_time": "2021-12-17T10:36:12.577Z"
   },
   {
    "duration": 45,
    "start_time": "2021-12-17T10:36:31.485Z"
   },
   {
    "duration": 369,
    "start_time": "2021-12-17T17:48:33.562Z"
   },
   {
    "duration": 82,
    "start_time": "2021-12-19T18:23:44.997Z"
   },
   {
    "duration": 2181,
    "start_time": "2021-12-19T18:25:07.653Z"
   },
   {
    "duration": 117,
    "start_time": "2021-12-19T18:25:11.117Z"
   },
   {
    "duration": 87,
    "start_time": "2021-12-19T18:25:45.929Z"
   },
   {
    "duration": 101,
    "start_time": "2021-12-19T18:26:46.068Z"
   },
   {
    "duration": 1839,
    "start_time": "2021-12-20T10:50:31.906Z"
   },
   {
    "duration": 96,
    "start_time": "2021-12-20T10:50:35.746Z"
   },
   {
    "duration": 68,
    "start_time": "2021-12-20T10:50:42.030Z"
   },
   {
    "duration": 3,
    "start_time": "2021-12-20T11:19:20.734Z"
   },
   {
    "duration": 130,
    "start_time": "2021-12-20T11:19:21.744Z"
   },
   {
    "duration": 76,
    "start_time": "2021-12-20T11:19:32.096Z"
   },
   {
    "duration": 2,
    "start_time": "2021-12-20T11:25:13.913Z"
   },
   {
    "duration": 1693,
    "start_time": "2021-12-20T11:25:32.184Z"
   },
   {
    "duration": 86,
    "start_time": "2021-12-20T11:25:36.653Z"
   },
   {
    "duration": 311,
    "start_time": "2021-12-20T11:27:29.204Z"
   },
   {
    "duration": 23,
    "start_time": "2021-12-20T11:28:07.912Z"
   },
   {
    "duration": 40,
    "start_time": "2021-12-20T11:28:48.101Z"
   },
   {
    "duration": 25,
    "start_time": "2021-12-20T11:29:45.832Z"
   },
   {
    "duration": 3,
    "start_time": "2021-12-20T11:38:43.287Z"
   },
   {
    "duration": 2,
    "start_time": "2021-12-20T11:41:13.614Z"
   },
   {
    "duration": 3,
    "start_time": "2021-12-20T11:59:32.181Z"
   },
   {
    "duration": 4,
    "start_time": "2021-12-20T12:00:30.472Z"
   },
   {
    "duration": 64,
    "start_time": "2021-12-20T12:00:48.864Z"
   },
   {
    "duration": 66,
    "start_time": "2021-12-20T12:01:05.517Z"
   },
   {
    "duration": 27,
    "start_time": "2021-12-20T12:01:18.895Z"
   },
   {
    "duration": 2096,
    "start_time": "2021-12-21T18:55:27.332Z"
   },
   {
    "duration": 87,
    "start_time": "2021-12-21T18:55:30.688Z"
   },
   {
    "duration": 61,
    "start_time": "2021-12-21T18:55:35.308Z"
   },
   {
    "duration": 40,
    "start_time": "2021-12-21T18:55:36.294Z"
   },
   {
    "duration": 834,
    "start_time": "2021-12-21T18:57:24.510Z"
   },
   {
    "duration": 574,
    "start_time": "2021-12-21T19:02:07.460Z"
   },
   {
    "duration": 332,
    "start_time": "2021-12-21T19:02:26.315Z"
   },
   {
    "duration": 157,
    "start_time": "2021-12-21T19:07:46.859Z"
   },
   {
    "duration": 221,
    "start_time": "2021-12-21T19:08:32.387Z"
   },
   {
    "duration": 226,
    "start_time": "2021-12-21T19:09:36.847Z"
   },
   {
    "duration": 1565,
    "start_time": "2021-12-21T19:20:26.537Z"
   },
   {
    "duration": 2005,
    "start_time": "2021-12-21T19:20:35.583Z"
   },
   {
    "duration": 1644,
    "start_time": "2021-12-21T19:20:47.982Z"
   },
   {
    "duration": 455,
    "start_time": "2021-12-21T19:24:36.392Z"
   },
   {
    "duration": 391,
    "start_time": "2021-12-21T19:24:53.506Z"
   },
   {
    "duration": 1194,
    "start_time": "2021-12-21T19:25:05.857Z"
   },
   {
    "duration": 562,
    "start_time": "2021-12-21T19:28:53.594Z"
   },
   {
    "duration": 55576,
    "start_time": "2021-12-21T19:31:27.831Z"
   },
   {
    "duration": 1371,
    "start_time": "2021-12-21T19:32:26.760Z"
   },
   {
    "duration": 1215,
    "start_time": "2021-12-21T19:33:16.272Z"
   },
   {
    "duration": 357,
    "start_time": "2021-12-21T19:47:40.309Z"
   },
   {
    "duration": 1218,
    "start_time": "2021-12-21T19:47:48.508Z"
   },
   {
    "duration": 84,
    "start_time": "2021-12-21T19:47:53.106Z"
   },
   {
    "duration": 78,
    "start_time": "2021-12-21T19:47:58.972Z"
   },
   {
    "duration": 70,
    "start_time": "2021-12-21T19:47:59.925Z"
   },
   {
    "duration": 1365,
    "start_time": "2021-12-21T19:48:02.585Z"
   },
   {
    "duration": 396,
    "start_time": "2021-12-21T19:48:06.165Z"
   },
   {
    "duration": 419,
    "start_time": "2021-12-21T19:48:21.732Z"
   },
   {
    "duration": 403,
    "start_time": "2021-12-21T19:49:27.787Z"
   },
   {
    "duration": 2651,
    "start_time": "2021-12-21T19:49:45.050Z"
   },
   {
    "duration": 87,
    "start_time": "2021-12-21T19:49:59.689Z"
   },
   {
    "duration": 59,
    "start_time": "2021-12-21T19:50:00.872Z"
   },
   {
    "duration": 39,
    "start_time": "2021-12-21T19:50:01.880Z"
   },
   {
    "duration": 360,
    "start_time": "2021-12-21T19:50:05.720Z"
   },
   {
    "duration": 233,
    "start_time": "2021-12-21T19:50:10.850Z"
   },
   {
    "duration": 923,
    "start_time": "2021-12-21T19:50:13.570Z"
   },
   {
    "duration": 1541,
    "start_time": "2021-12-21T19:50:28.340Z"
   },
   {
    "duration": 1273,
    "start_time": "2021-12-21T19:50:35.642Z"
   },
   {
    "duration": 83,
    "start_time": "2021-12-21T19:50:40.413Z"
   },
   {
    "duration": 80,
    "start_time": "2021-12-21T19:50:43.319Z"
   },
   {
    "duration": 73,
    "start_time": "2021-12-21T19:50:44.089Z"
   },
   {
    "duration": 795,
    "start_time": "2021-12-21T19:50:46.000Z"
   },
   {
    "duration": 456,
    "start_time": "2021-12-21T19:50:52.468Z"
   },
   {
    "duration": 2095,
    "start_time": "2021-12-21T19:53:00.050Z"
   },
   {
    "duration": 90,
    "start_time": "2021-12-21T19:53:02.148Z"
   },
   {
    "duration": 70,
    "start_time": "2021-12-21T19:53:02.241Z"
   },
   {
    "duration": 62,
    "start_time": "2021-12-21T19:53:02.314Z"
   },
   {
    "duration": 485,
    "start_time": "2021-12-21T19:53:08.600Z"
   },
   {
    "duration": 177,
    "start_time": "2021-12-21T19:53:14.490Z"
   },
   {
    "duration": 959,
    "start_time": "2021-12-21T19:53:19.160Z"
   },
   {
    "duration": 1496,
    "start_time": "2021-12-21T19:53:26.849Z"
   },
   {
    "duration": 1216,
    "start_time": "2021-12-21T19:53:31.880Z"
   },
   {
    "duration": 87,
    "start_time": "2021-12-21T19:53:36.932Z"
   },
   {
    "duration": 935,
    "start_time": "2021-12-21T19:53:54.266Z"
   },
   {
    "duration": 442,
    "start_time": "2021-12-21T19:53:59.466Z"
   },
   {
    "duration": 541,
    "start_time": "2021-12-21T19:55:26.236Z"
   },
   {
    "duration": 423,
    "start_time": "2021-12-21T19:56:28.405Z"
   },
   {
    "duration": 498,
    "start_time": "2021-12-21T19:56:41.237Z"
   },
   {
    "duration": 446,
    "start_time": "2021-12-21T19:56:53.393Z"
   },
   {
    "duration": 432,
    "start_time": "2021-12-21T19:58:23.038Z"
   },
   {
    "duration": 540,
    "start_time": "2021-12-21T19:58:33.874Z"
   },
   {
    "duration": 101,
    "start_time": "2021-12-21T20:00:23.711Z"
   },
   {
    "duration": 582,
    "start_time": "2021-12-21T20:00:28.048Z"
   },
   {
    "duration": 434,
    "start_time": "2021-12-21T20:00:51.038Z"
   },
   {
    "duration": 545,
    "start_time": "2021-12-21T20:02:22.504Z"
   },
   {
    "duration": 440,
    "start_time": "2021-12-21T20:02:44.681Z"
   },
   {
    "duration": 10035,
    "start_time": "2021-12-21T20:06:34.163Z"
   },
   {
    "duration": 9802,
    "start_time": "2021-12-21T20:07:12.900Z"
   },
   {
    "duration": 735,
    "start_time": "2021-12-21T20:07:50.854Z"
   },
   {
    "duration": 449,
    "start_time": "2021-12-21T20:07:57.478Z"
   },
   {
    "duration": 415,
    "start_time": "2021-12-21T20:08:34.736Z"
   },
   {
    "duration": 413,
    "start_time": "2021-12-21T20:17:43.927Z"
   },
   {
    "duration": 107,
    "start_time": "2021-12-21T20:17:50.709Z"
   },
   {
    "duration": 425,
    "start_time": "2021-12-21T20:17:59.842Z"
   },
   {
    "duration": 719,
    "start_time": "2021-12-21T20:19:15.575Z"
   },
   {
    "duration": 774,
    "start_time": "2021-12-21T20:21:22.396Z"
   },
   {
    "duration": 743,
    "start_time": "2021-12-21T20:24:23.602Z"
   },
   {
    "duration": 504,
    "start_time": "2021-12-21T20:24:33.463Z"
   },
   {
    "duration": 499,
    "start_time": "2021-12-21T20:24:35.760Z"
   },
   {
    "duration": 920,
    "start_time": "2021-12-21T20:30:33.598Z"
   },
   {
    "duration": 597,
    "start_time": "2021-12-21T20:30:53.683Z"
   },
   {
    "duration": 904,
    "start_time": "2021-12-21T20:31:25.109Z"
   },
   {
    "duration": 923,
    "start_time": "2021-12-21T20:31:48.078Z"
   },
   {
    "duration": 742,
    "start_time": "2021-12-21T20:32:35.906Z"
   },
   {
    "duration": 758,
    "start_time": "2021-12-21T20:33:02.942Z"
   },
   {
    "duration": 465,
    "start_time": "2021-12-21T20:33:42.831Z"
   },
   {
    "duration": 1283,
    "start_time": "2021-12-21T20:36:08.289Z"
   },
   {
    "duration": 497,
    "start_time": "2021-12-21T20:37:42.455Z"
   },
   {
    "duration": 825,
    "start_time": "2021-12-21T20:39:37.639Z"
   },
   {
    "duration": 761,
    "start_time": "2021-12-21T20:39:56.251Z"
   },
   {
    "duration": 432,
    "start_time": "2021-12-21T20:40:32.578Z"
   },
   {
    "duration": 969,
    "start_time": "2021-12-21T20:40:51.373Z"
   },
   {
    "duration": 586,
    "start_time": "2021-12-21T20:41:09.285Z"
   },
   {
    "duration": 453,
    "start_time": "2021-12-21T20:45:27.188Z"
   },
   {
    "duration": 606,
    "start_time": "2021-12-21T20:45:42.779Z"
   },
   {
    "duration": 29505,
    "start_time": "2021-12-21T20:46:50.973Z"
   },
   {
    "duration": 21494,
    "start_time": "2021-12-21T20:48:44.173Z"
   },
   {
    "duration": 28307,
    "start_time": "2021-12-21T20:51:26.294Z"
   },
   {
    "duration": 352,
    "start_time": "2021-12-21T20:52:02.725Z"
   },
   {
    "duration": 21842,
    "start_time": "2021-12-21T20:52:21.515Z"
   },
   {
    "duration": 534,
    "start_time": "2021-12-21T20:52:55.077Z"
   },
   {
    "duration": 22415,
    "start_time": "2021-12-21T20:54:07.076Z"
   },
   {
    "duration": 21827,
    "start_time": "2021-12-21T20:54:44.972Z"
   },
   {
    "duration": 24730,
    "start_time": "2021-12-21T21:00:03.829Z"
   },
   {
    "duration": 672,
    "start_time": "2021-12-21T21:00:57.349Z"
   },
   {
    "duration": 446,
    "start_time": "2021-12-21T21:02:39.046Z"
   },
   {
    "duration": 404,
    "start_time": "2021-12-21T21:04:57.805Z"
   },
   {
    "duration": 29,
    "start_time": "2021-12-21T21:05:16.105Z"
   },
   {
    "duration": 98,
    "start_time": "2021-12-21T21:14:24.941Z"
   },
   {
    "duration": 328,
    "start_time": "2021-12-21T21:14:46.570Z"
   },
   {
    "duration": 29,
    "start_time": "2021-12-21T21:14:59.405Z"
   },
   {
    "duration": 130,
    "start_time": "2021-12-21T21:15:17.391Z"
   },
   {
    "duration": 30,
    "start_time": "2021-12-21T21:15:25.605Z"
   },
   {
    "duration": 103,
    "start_time": "2021-12-21T21:15:55.475Z"
   },
   {
    "duration": 37,
    "start_time": "2021-12-21T21:16:04.306Z"
   },
   {
    "duration": 353,
    "start_time": "2021-12-21T21:16:17.662Z"
   },
   {
    "duration": 35,
    "start_time": "2021-12-21T21:16:26.215Z"
   },
   {
    "duration": 30,
    "start_time": "2021-12-21T21:16:37.720Z"
   },
   {
    "duration": 46,
    "start_time": "2021-12-21T21:16:57.333Z"
   },
   {
    "duration": 34,
    "start_time": "2021-12-21T21:17:13.209Z"
   },
   {
    "duration": 90,
    "start_time": "2021-12-21T21:25:05.830Z"
   },
   {
    "duration": 323,
    "start_time": "2021-12-21T21:25:33.798Z"
   },
   {
    "duration": 386,
    "start_time": "2021-12-21T21:25:58.058Z"
   },
   {
    "duration": 40,
    "start_time": "2021-12-21T21:27:48.177Z"
   },
   {
    "duration": 45,
    "start_time": "2021-12-21T21:29:00.713Z"
   },
   {
    "duration": 49,
    "start_time": "2021-12-21T21:29:12.945Z"
   },
   {
    "duration": 451,
    "start_time": "2021-12-21T21:30:18.525Z"
   },
   {
    "duration": 358,
    "start_time": "2021-12-21T21:30:25.959Z"
   },
   {
    "duration": 58,
    "start_time": "2021-12-21T21:30:54.110Z"
   },
   {
    "duration": 55,
    "start_time": "2021-12-21T21:31:04.394Z"
   },
   {
    "duration": 49,
    "start_time": "2021-12-21T21:32:10.397Z"
   },
   {
    "duration": 47,
    "start_time": "2021-12-21T21:32:29.990Z"
   },
   {
    "duration": 35,
    "start_time": "2021-12-21T21:33:05.771Z"
   },
   {
    "duration": 103,
    "start_time": "2021-12-21T21:33:25.435Z"
   },
   {
    "duration": 43,
    "start_time": "2021-12-21T21:33:31.716Z"
   },
   {
    "duration": 38,
    "start_time": "2021-12-21T21:34:33.338Z"
   },
   {
    "duration": 335,
    "start_time": "2021-12-21T21:34:47.882Z"
   },
   {
    "duration": 39,
    "start_time": "2021-12-21T21:37:35.979Z"
   },
   {
    "duration": 429,
    "start_time": "2021-12-21T21:38:03.050Z"
   },
   {
    "duration": 106,
    "start_time": "2021-12-21T21:39:37.903Z"
   },
   {
    "duration": 45,
    "start_time": "2021-12-21T21:39:49.359Z"
   },
   {
    "duration": 24,
    "start_time": "2021-12-21T21:40:04.291Z"
   },
   {
    "duration": 30,
    "start_time": "2021-12-21T21:40:16.261Z"
   },
   {
    "duration": 1581,
    "start_time": "2021-12-21T21:40:52.193Z"
   },
   {
    "duration": 37,
    "start_time": "2021-12-21T21:41:12.488Z"
   },
   {
    "duration": 42,
    "start_time": "2021-12-21T21:41:45.194Z"
   },
   {
    "duration": 38,
    "start_time": "2021-12-21T21:42:26.278Z"
   },
   {
    "duration": 41,
    "start_time": "2021-12-21T21:43:47.346Z"
   },
   {
    "duration": 36,
    "start_time": "2021-12-21T21:44:17.176Z"
   },
   {
    "duration": 53,
    "start_time": "2021-12-21T21:53:01.833Z"
   },
   {
    "duration": 39,
    "start_time": "2021-12-21T21:53:20.994Z"
   },
   {
    "duration": 37,
    "start_time": "2021-12-21T21:54:01.668Z"
   },
   {
    "duration": 447,
    "start_time": "2021-12-21T21:58:20.744Z"
   },
   {
    "duration": 426,
    "start_time": "2021-12-21T21:58:35.925Z"
   },
   {
    "duration": 93,
    "start_time": "2021-12-21T21:58:46.889Z"
   },
   {
    "duration": 144,
    "start_time": "2021-12-21T21:59:18.015Z"
   },
   {
    "duration": 45,
    "start_time": "2021-12-21T21:59:26.241Z"
   },
   {
    "duration": 630,
    "start_time": "2021-12-21T21:59:33.857Z"
   },
   {
    "duration": 698,
    "start_time": "2021-12-21T22:02:06.349Z"
   },
   {
    "duration": 610,
    "start_time": "2021-12-21T22:04:21.811Z"
   },
   {
    "duration": 589,
    "start_time": "2021-12-21T22:04:40.501Z"
   },
   {
    "duration": 373,
    "start_time": "2021-12-21T22:06:42.631Z"
   },
   {
    "duration": 737,
    "start_time": "2021-12-21T22:06:52.413Z"
   },
   {
    "duration": 902,
    "start_time": "2021-12-21T22:07:54.425Z"
   },
   {
    "duration": 340,
    "start_time": "2021-12-21T22:08:21.988Z"
   },
   {
    "duration": 1265,
    "start_time": "2021-12-21T22:10:43.468Z"
   },
   {
    "duration": 353,
    "start_time": "2021-12-21T22:10:58.405Z"
   },
   {
    "duration": 864,
    "start_time": "2021-12-21T22:11:10.464Z"
   },
   {
    "duration": 582,
    "start_time": "2021-12-21T22:12:28.118Z"
   },
   {
    "duration": 514,
    "start_time": "2021-12-21T22:19:52.606Z"
   },
   {
    "duration": 549,
    "start_time": "2021-12-21T22:20:09.058Z"
   },
   {
    "duration": 353,
    "start_time": "2021-12-21T22:20:44.356Z"
   },
   {
    "duration": 428,
    "start_time": "2021-12-21T22:20:58.026Z"
   },
   {
    "duration": 536,
    "start_time": "2021-12-21T22:21:27.336Z"
   },
   {
    "duration": 524,
    "start_time": "2021-12-21T22:22:02.769Z"
   },
   {
    "duration": 662,
    "start_time": "2021-12-21T22:22:12.808Z"
   },
   {
    "duration": 887,
    "start_time": "2021-12-21T22:22:38.567Z"
   },
   {
    "duration": 836,
    "start_time": "2021-12-21T22:22:48.038Z"
   },
   {
    "duration": 821,
    "start_time": "2021-12-21T22:26:13.670Z"
   },
   {
    "duration": 152,
    "start_time": "2021-12-21T22:26:48.714Z"
   },
   {
    "duration": 844,
    "start_time": "2021-12-21T22:27:02.461Z"
   },
   {
    "duration": 877,
    "start_time": "2021-12-21T22:27:11.439Z"
   },
   {
    "duration": 819,
    "start_time": "2021-12-21T22:28:41.930Z"
   },
   {
    "duration": 869,
    "start_time": "2021-12-21T22:29:58.868Z"
   },
   {
    "duration": 769,
    "start_time": "2021-12-21T22:30:13.364Z"
   },
   {
    "duration": 939,
    "start_time": "2021-12-21T22:30:31.117Z"
   },
   {
    "duration": 828,
    "start_time": "2021-12-21T22:30:38.586Z"
   },
   {
    "duration": 1192,
    "start_time": "2021-12-21T22:30:48.810Z"
   },
   {
    "duration": 1216,
    "start_time": "2021-12-21T22:33:53.023Z"
   },
   {
    "duration": 837,
    "start_time": "2021-12-21T22:35:46.358Z"
   },
   {
    "duration": 1018,
    "start_time": "2021-12-21T22:36:24.466Z"
   },
   {
    "duration": 834,
    "start_time": "2021-12-21T22:36:33.311Z"
   },
   {
    "duration": 830,
    "start_time": "2021-12-21T22:36:50.994Z"
   },
   {
    "duration": 841,
    "start_time": "2021-12-21T22:37:00.493Z"
   },
   {
    "duration": 810,
    "start_time": "2021-12-21T22:46:18.712Z"
   },
   {
    "duration": 832,
    "start_time": "2021-12-21T22:47:13.729Z"
   },
   {
    "duration": 963,
    "start_time": "2021-12-21T22:47:42.447Z"
   },
   {
    "duration": 578,
    "start_time": "2021-12-21T22:47:50.967Z"
   },
   {
    "duration": 551,
    "start_time": "2021-12-21T22:48:37.235Z"
   },
   {
    "duration": 764,
    "start_time": "2021-12-21T22:48:48.730Z"
   },
   {
    "duration": 862,
    "start_time": "2021-12-21T22:49:01.378Z"
   },
   {
    "duration": 563,
    "start_time": "2021-12-21T22:49:12.001Z"
   },
   {
    "duration": 559,
    "start_time": "2021-12-21T22:49:37.421Z"
   },
   {
    "duration": 3733,
    "start_time": "2021-12-21T22:50:37.214Z"
   },
   {
    "duration": 3268,
    "start_time": "2021-12-21T22:51:36.721Z"
   },
   {
    "duration": 3139,
    "start_time": "2021-12-21T22:52:02.238Z"
   },
   {
    "duration": 3170,
    "start_time": "2021-12-21T22:52:41.797Z"
   },
   {
    "duration": 3077,
    "start_time": "2021-12-21T22:52:59.937Z"
   },
   {
    "duration": 593,
    "start_time": "2021-12-21T22:53:15.269Z"
   },
   {
    "duration": 618,
    "start_time": "2021-12-21T22:53:54.052Z"
   },
   {
    "duration": 596,
    "start_time": "2021-12-21T22:54:09.354Z"
   },
   {
    "duration": 900,
    "start_time": "2021-12-21T22:56:39.332Z"
   },
   {
    "duration": 726,
    "start_time": "2021-12-21T22:57:08.258Z"
   },
   {
    "duration": 593,
    "start_time": "2021-12-21T22:57:39.977Z"
   },
   {
    "duration": 581,
    "start_time": "2021-12-21T22:59:58.489Z"
   },
   {
    "duration": 832,
    "start_time": "2021-12-21T23:00:06.025Z"
   },
   {
    "duration": 585,
    "start_time": "2021-12-21T23:02:45.610Z"
   },
   {
    "duration": 593,
    "start_time": "2021-12-21T23:03:20.596Z"
   },
   {
    "duration": 606,
    "start_time": "2021-12-21T23:05:52.041Z"
   },
   {
    "duration": 572,
    "start_time": "2021-12-21T23:06:16.107Z"
   },
   {
    "duration": 617,
    "start_time": "2021-12-21T23:14:27.819Z"
   },
   {
    "duration": 631,
    "start_time": "2021-12-21T23:16:15.491Z"
   },
   {
    "duration": 4514,
    "start_time": "2021-12-22T00:17:20.053Z"
   },
   {
    "duration": 3651,
    "start_time": "2021-12-22T00:17:43.825Z"
   },
   {
    "duration": 527,
    "start_time": "2021-12-22T00:18:17.402Z"
   },
   {
    "duration": 559,
    "start_time": "2021-12-22T00:18:29.092Z"
   },
   {
    "duration": 545,
    "start_time": "2021-12-22T00:18:40.638Z"
   },
   {
    "duration": 566,
    "start_time": "2021-12-22T00:18:49.448Z"
   },
   {
    "duration": 1580,
    "start_time": "2021-12-22T08:27:11.449Z"
   },
   {
    "duration": 60,
    "start_time": "2021-12-22T08:27:13.031Z"
   },
   {
    "duration": 36,
    "start_time": "2021-12-22T08:27:13.093Z"
   },
   {
    "duration": 22,
    "start_time": "2021-12-22T08:27:13.131Z"
   },
   {
    "duration": 243,
    "start_time": "2021-12-22T08:27:13.155Z"
   },
   {
    "duration": 120,
    "start_time": "2021-12-22T08:27:13.400Z"
   },
   {
    "duration": 600,
    "start_time": "2021-12-22T08:27:13.521Z"
   },
   {
    "duration": 1138,
    "start_time": "2021-12-22T08:27:14.123Z"
   },
   {
    "duration": 749,
    "start_time": "2021-12-22T08:27:15.263Z"
   },
   {
    "duration": 53,
    "start_time": "2021-12-22T08:27:16.013Z"
   },
   {
    "duration": 58,
    "start_time": "2021-12-22T08:27:16.068Z"
   },
   {
    "duration": 43,
    "start_time": "2021-12-22T08:27:16.128Z"
   },
   {
    "duration": 1216,
    "start_time": "2021-12-22T08:27:16.173Z"
   },
   {
    "duration": 359,
    "start_time": "2021-12-22T08:27:17.391Z"
   },
   {
    "duration": -12,
    "start_time": "2021-12-22T08:27:17.764Z"
   },
   {
    "duration": -14,
    "start_time": "2021-12-22T08:27:17.767Z"
   },
   {
    "duration": -15,
    "start_time": "2021-12-22T08:27:17.769Z"
   },
   {
    "duration": 469,
    "start_time": "2021-12-22T08:32:21.367Z"
   },
   {
    "duration": 19,
    "start_time": "2021-12-22T08:32:29.591Z"
   },
   {
    "duration": 18,
    "start_time": "2021-12-22T08:32:54.457Z"
   },
   {
    "duration": 21,
    "start_time": "2021-12-22T08:33:22.941Z"
   },
   {
    "duration": 31,
    "start_time": "2021-12-22T08:33:42.464Z"
   },
   {
    "duration": 213,
    "start_time": "2021-12-22T08:35:58.392Z"
   },
   {
    "duration": 204,
    "start_time": "2021-12-22T08:36:03.070Z"
   },
   {
    "duration": 237,
    "start_time": "2021-12-22T08:36:26.639Z"
   },
   {
    "duration": 359,
    "start_time": "2021-12-22T08:36:31.805Z"
   },
   {
    "duration": 246,
    "start_time": "2021-12-22T08:36:51.197Z"
   },
   {
    "duration": 233,
    "start_time": "2021-12-22T08:37:04.273Z"
   },
   {
    "duration": 241,
    "start_time": "2021-12-22T08:37:07.752Z"
   },
   {
    "duration": 984,
    "start_time": "2021-12-22T08:37:55.679Z"
   },
   {
    "duration": 1025,
    "start_time": "2021-12-22T08:38:57.297Z"
   },
   {
    "duration": 1014,
    "start_time": "2021-12-22T08:39:31.864Z"
   },
   {
    "duration": 1549,
    "start_time": "2021-12-22T08:39:36.516Z"
   },
   {
    "duration": 1006,
    "start_time": "2021-12-22T08:39:44.959Z"
   },
   {
    "duration": 1242,
    "start_time": "2021-12-22T08:39:49.433Z"
   },
   {
    "duration": 1212,
    "start_time": "2021-12-22T08:40:05.057Z"
   },
   {
    "duration": 1237,
    "start_time": "2021-12-22T08:40:09.628Z"
   },
   {
    "duration": 1257,
    "start_time": "2021-12-22T08:40:16.407Z"
   },
   {
    "duration": 1214,
    "start_time": "2021-12-22T08:41:03.040Z"
   },
   {
    "duration": 986,
    "start_time": "2021-12-22T08:41:07.379Z"
   },
   {
    "duration": 1027,
    "start_time": "2021-12-22T08:41:16.721Z"
   },
   {
    "duration": 211,
    "start_time": "2021-12-22T08:43:05.976Z"
   },
   {
    "duration": 1744,
    "start_time": "2021-12-22T14:22:32.088Z"
   },
   {
    "duration": 62,
    "start_time": "2021-12-22T14:22:33.834Z"
   },
   {
    "duration": 40,
    "start_time": "2021-12-22T14:22:35.018Z"
   },
   {
    "duration": 25,
    "start_time": "2021-12-22T14:22:36.009Z"
   },
   {
    "duration": 201,
    "start_time": "2021-12-22T14:22:39.368Z"
   },
   {
    "duration": 99,
    "start_time": "2021-12-22T14:22:42.968Z"
   },
   {
    "duration": 669,
    "start_time": "2021-12-22T14:22:44.858Z"
   },
   {
    "duration": 390,
    "start_time": "2021-12-22T14:24:14.261Z"
   },
   {
    "duration": 225,
    "start_time": "2021-12-22T14:24:20.110Z"
   },
   {
    "duration": 133,
    "start_time": "2021-12-22T14:25:08.408Z"
   },
   {
    "duration": 393,
    "start_time": "2021-12-22T14:37:32.131Z"
   },
   {
    "duration": 244,
    "start_time": "2021-12-22T14:37:39.261Z"
   },
   {
    "duration": 82,
    "start_time": "2021-12-22T14:40:20.560Z"
   },
   {
    "duration": 213,
    "start_time": "2021-12-22T14:40:27.475Z"
   },
   {
    "duration": 6065,
    "start_time": "2021-12-22T14:42:34.400Z"
   },
   {
    "duration": 196,
    "start_time": "2021-12-22T14:43:09.960Z"
   },
   {
    "duration": 219,
    "start_time": "2021-12-22T14:43:34.265Z"
   },
   {
    "duration": 215,
    "start_time": "2021-12-22T14:43:45.741Z"
   },
   {
    "duration": 214,
    "start_time": "2021-12-22T14:45:14.721Z"
   },
   {
    "duration": 284,
    "start_time": "2021-12-22T14:45:36.259Z"
   },
   {
    "duration": 493,
    "start_time": "2021-12-22T14:53:14.351Z"
   },
   {
    "duration": 102,
    "start_time": "2021-12-22T14:53:25.361Z"
   },
   {
    "duration": 372,
    "start_time": "2021-12-22T14:53:27.339Z"
   },
   {
    "duration": 228,
    "start_time": "2021-12-22T14:53:33.435Z"
   },
   {
    "duration": 940,
    "start_time": "2021-12-22T14:53:36.619Z"
   },
   {
    "duration": 645,
    "start_time": "2021-12-22T14:54:18.768Z"
   },
   {
    "duration": 50,
    "start_time": "2021-12-22T14:54:24.830Z"
   },
   {
    "duration": 42,
    "start_time": "2021-12-22T14:54:28.020Z"
   },
   {
    "duration": 41,
    "start_time": "2021-12-22T14:54:28.827Z"
   },
   {
    "duration": 1392,
    "start_time": "2021-12-22T14:54:33.012Z"
   },
   {
    "duration": 260,
    "start_time": "2021-12-22T14:54:37.047Z"
   },
   {
    "duration": 229,
    "start_time": "2021-12-22T14:55:16.281Z"
   },
   {
    "duration": 297,
    "start_time": "2021-12-22T14:56:08.741Z"
   },
   {
    "duration": 177,
    "start_time": "2021-12-22T14:56:24.090Z"
   },
   {
    "duration": 17,
    "start_time": "2021-12-22T14:57:12.419Z"
   },
   {
    "duration": 294,
    "start_time": "2021-12-22T14:57:18.010Z"
   },
   {
    "duration": 342,
    "start_time": "2021-12-22T14:57:27.270Z"
   },
   {
    "duration": 26679,
    "start_time": "2021-12-22T17:35:24.217Z"
   },
   {
    "duration": 281,
    "start_time": "2021-12-22T17:35:50.899Z"
   },
   {
    "duration": 62,
    "start_time": "2021-12-22T17:35:51.184Z"
   },
   {
    "duration": 271,
    "start_time": "2021-12-22T17:35:51.248Z"
   },
   {
    "duration": 607,
    "start_time": "2021-12-22T17:35:51.521Z"
   },
   {
    "duration": 295,
    "start_time": "2021-12-22T17:35:52.130Z"
   },
   {
    "duration": 693,
    "start_time": "2021-12-22T17:35:52.427Z"
   },
   {
    "duration": 392,
    "start_time": "2021-12-22T17:35:53.125Z"
   },
   {
    "duration": 1568,
    "start_time": "2021-12-22T17:35:53.519Z"
   },
   {
    "duration": 1247,
    "start_time": "2021-12-22T17:35:55.090Z"
   },
   {
    "duration": 99,
    "start_time": "2021-12-22T17:35:56.339Z"
   },
   {
    "duration": 983,
    "start_time": "2021-12-22T17:35:56.441Z"
   },
   {
    "duration": 1108,
    "start_time": "2021-12-22T17:35:57.426Z"
   },
   {
    "duration": 2360,
    "start_time": "2021-12-22T17:35:58.536Z"
   },
   {
    "duration": 406,
    "start_time": "2021-12-22T17:36:00.898Z"
   },
   {
    "duration": 687,
    "start_time": "2021-12-22T17:36:01.307Z"
   },
   {
    "duration": 878,
    "start_time": "2021-12-22T17:36:01.996Z"
   },
   {
    "duration": 748,
    "start_time": "2021-12-22T17:36:02.877Z"
   }
  ],
  "kernelspec": {
   "display_name": "Python 3 (ipykernel)",
   "language": "python",
   "name": "python3"
  },
  "language_info": {
   "codemirror_mode": {
    "name": "ipython",
    "version": 3
   },
   "file_extension": ".py",
   "mimetype": "text/x-python",
   "name": "python",
   "nbconvert_exporter": "python",
   "pygments_lexer": "ipython3",
   "version": "3.8.10"
  },
  "toc": {
   "base_numbering": 1,
   "nav_menu": {},
   "number_sections": true,
   "sideBar": true,
   "skip_h1_title": true,
   "title_cell": "Table of Contents",
   "title_sidebar": "Contents",
   "toc_cell": false,
   "toc_position": {
    "height": "calc(100% - 180px)",
    "left": "10px",
    "top": "150px",
    "width": "406.594px"
   },
   "toc_section_display": true,
   "toc_window_display": true
  }
 },
 "nbformat": 4,
 "nbformat_minor": 2
}
